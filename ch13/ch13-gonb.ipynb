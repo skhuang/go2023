{
 "cells": [
  {
   "cell_type": "markdown",
   "id": "53d08585",
   "metadata": {
    "toc": true
   },
   "source": [
    "<h1>Table of Contents<span class=\"tocSkip\"></span></h1>\n",
    "<div class=\"toc\"><ul class=\"toc-item\"><li><span><a href=\"#Low-Level-Programming\" data-toc-modified-id=\"Low-Level-Programming-13\"><span class=\"toc-item-num\">13&nbsp;&nbsp;</span>Low Level Programming</a></span><ul class=\"toc-item\"><li><span><a href=\"#unsafe.Sizeof\" data-toc-modified-id=\"unsafe.Sizeof-13.1\"><span class=\"toc-item-num\">13.1&nbsp;&nbsp;</span>unsafe.Sizeof</a></span></li><li><span><a href=\"#unsafe.Pointer\" data-toc-modified-id=\"unsafe.Pointer-13.2\"><span class=\"toc-item-num\">13.2&nbsp;&nbsp;</span>unsafe.Pointer</a></span></li><li><span><a href=\"#Example:-Deep-Equivalence\" data-toc-modified-id=\"Example:-Deep-Equivalence-13.3\"><span class=\"toc-item-num\">13.3&nbsp;&nbsp;</span>Example: Deep Equivalence</a></span></li><li><span><a href=\"#Calling-C-Code-with-cgo\" data-toc-modified-id=\"Calling-C-Code-with-cgo-13.4\"><span class=\"toc-item-num\">13.4&nbsp;&nbsp;</span>Calling C Code with cgo</a></span></li></ul></li></ul></div>"
   ]
  },
  {
   "cell_type": "markdown",
   "id": "0e8732d9",
   "metadata": {
    "slideshow": {
     "slide_type": "slide"
    }
   },
   "source": [
    "# Low Level Programming"
   ]
  },
  {
   "cell_type": "markdown",
   "id": "d658e00d",
   "metadata": {
    "slideshow": {
     "slide_type": "slide"
    }
   },
   "source": [
    "## unsafe.Sizeof\n",
    "* The unsafe.Sizeof function reports the size in bytes of the representation of its operand\n",
    "  * may be an expression of any type"
   ]
  },
  {
   "cell_type": "code",
   "execution_count": 48,
   "id": "e2559aa4",
   "metadata": {
    "slideshow": {
     "slide_type": "subslide"
    }
   },
   "outputs": [
    {
     "name": "stdout",
     "output_type": "stream",
     "text": [
      "8\n"
     ]
    }
   ],
   "source": [
    "import \"unsafe\"\n",
    "%%\n",
    "fmt.Println(unsafe.Sizeof(float64(0))) // “8”"
   ]
  },
  {
   "cell_type": "code",
   "execution_count": 28,
   "id": "7343084a",
   "metadata": {
    "slideshow": {
     "slide_type": "subslide"
    }
   },
   "outputs": [
    {
     "name": "stdout",
     "output_type": "stream",
     "text": [
      "32 1 2 24\n",
      "8 1 2 8\n",
      "0 2 8\n"
     ]
    }
   ],
   "source": [
    "var x struct {\n",
    "  a bool\n",
    "  b int16\n",
    "  c []int\n",
    "}\n",
    "%%\n",
    "fmt.Println(unsafe.Sizeof(x),unsafe.Sizeof(x.a),unsafe.Sizeof(x.b),unsafe.Sizeof(x.c))\n",
    "fmt.Println(unsafe.Alignof(x),unsafe.Alignof(x.a),unsafe.Alignof(x.b),unsafe.Alignof(x.c))\n",
    "fmt.Println(unsafe.Offsetof(x.a),unsafe.Offsetof(x.b),unsafe.Offsetof(x.c))"
   ]
  },
  {
   "cell_type": "markdown",
   "id": "baf4656e",
   "metadata": {
    "slideshow": {
     "slide_type": "slide"
    }
   },
   "source": [
    "## unsafe.Pointer"
   ]
  },
  {
   "cell_type": "code",
   "execution_count": 67,
   "id": "02c54747",
   "metadata": {
    "slideshow": {
     "slide_type": "subslide"
    }
   },
   "outputs": [
    {
     "name": "stdout",
     "output_type": "stream",
     "text": [
      "0x3ff0000000000000\n",
      "         0x1p+00\n"
     ]
    }
   ],
   "source": [
    "//package math\n",
    "func Float64bits(f float64) uint64 { \n",
    "    return *(*uint64)(unsafe.Pointer(&f)) \n",
    "}\n",
    "%%\n",
    "fmt.Printf(\"%#016x\\n\", Float64bits(1.0)) // 0x3ff0000000000000\n",
    "fmt.Printf(\"%16x\\n\",1.0)"
   ]
  },
  {
   "cell_type": "code",
   "execution_count": 68,
   "id": "4de17721",
   "metadata": {
    "slideshow": {
     "slide_type": "subslide"
    }
   },
   "outputs": [
    {
     "name": "stdout",
     "output_type": "stream",
     "text": [
      "42\n",
      "43\n"
     ]
    }
   ],
   "source": [
    "import (\n",
    "        \"fmt\"\n",
    "        \"unsafe\"\n",
    ")\n",
    "\n",
    "func main() {\n",
    "        //!+main\n",
    "        var x struct {\n",
    "                a bool\n",
    "                b int16\n",
    "                c []int\n",
    "        }\n",
    "\n",
    "        // equivalent to pb := &x.b\n",
    "        pb := (*int16)(unsafe.Pointer(\n",
    "                uintptr(unsafe.Pointer(&x)) + unsafe.Offsetof(x.b)))\n",
    "        *pb = 42\n",
    "\n",
    "        fmt.Println(x.b) // \"42\"\n",
    "    \n",
    "        tmp := uintptr(unsafe.Pointer(&x)) + unsafe.Offsetof(x.b)\n",
    "        pb  = (*int16)(unsafe.Pointer(tmp))\n",
    "        *pb = 43\n",
    "        fmt.Println(x.b) \n",
    "        //!-main\n",
    "}\n",
    "/*\n",
    "//!+wrong\n",
    "        // NOTE: subtly incorrect!\n",
    "        tmp := uintptr(unsafe.Pointer(&x)) + unsafe.Offsetof(x.b)\n",
    "        pb := (*int16)(unsafe.Pointer(tmp))\n",
    "        *pb = 42\n",
    "//!-wrong\n",
    "*/\n"
   ]
  },
  {
   "cell_type": "markdown",
   "id": "3079d306",
   "metadata": {
    "slideshow": {
     "slide_type": "subslide"
    }
   },
   "source": [
    "<code>\n",
    "pT := uintptr(unsafe.Pointer(new(T))) // NOTE: wrong!\n",
    "</code>"
   ]
  },
  {
   "cell_type": "markdown",
   "id": "e92d7cf5",
   "metadata": {
    "slideshow": {
     "slide_type": "slide"
    }
   },
   "source": [
    "## Example: Deep Equivalence"
   ]
  },
  {
   "cell_type": "code",
   "execution_count": 15,
   "id": "f990d34a",
   "metadata": {
    "slideshow": {
     "slide_type": "subslide"
    }
   },
   "outputs": [
    {
     "name": "stdout",
     "output_type": "stream",
     "text": [
      "false\n",
      "false\n"
     ]
    }
   ],
   "source": [
    "func TestSplit( t *testing.T) {\n",
    "   got := strings.Split(\"a:b:c\", \":\")\n",
    "   want := []string{\"a\",\"b\",\"c\"}\n",
    "   if !reflect.DeepEqual(got, want) { /* … */ }\n",
    "}\n",
    "%%\n",
    "var a,b []string = nil, []string{}\n",
    "fmt.Println(reflect.DeepEqual(a,b)) // “false”\n",
    "var c,d map[string]int = nil, make(map[string]int)\n",
    "fmt.Println(reflect.DeepEqual(c,d)) // “false”"
   ]
  },
  {
   "cell_type": "code",
   "execution_count": 32,
   "id": "4ca24622",
   "metadata": {
    "slideshow": {
     "slide_type": "subslide"
    }
   },
   "outputs": [],
   "source": [
    "// Package equal provides a deep equivalence relation for arbitrary values.\n",
    "//package equal\n",
    "\n",
    "import (\n",
    "        \"reflect\"\n",
    "        \"unsafe\"\n",
    ")\n",
    "\n",
    "//!+\n",
    "func equal(x, y reflect.Value, seen map[comparison]bool) bool {\n",
    "        if !x.IsValid() || !y.IsValid() {\n",
    "                return x.IsValid() == y.IsValid()\n",
    "        }\n",
    "        if x.Type() != y.Type() {\n",
    "                return false\n",
    "        }\n",
    "\n",
    "        // ...cycle check omitted (shown later)...\n",
    "//!-\n",
    "        //!+cyclecheck\n",
    "        // cycle check\n",
    "        if x.CanAddr() && y.CanAddr() {\n",
    "                xptr := unsafe.Pointer(x.UnsafeAddr())\n",
    "                yptr := unsafe.Pointer(y.UnsafeAddr())\n",
    "                if xptr == yptr {\n",
    "                        return true // identical references\n",
    "                }\n",
    "                c := comparison{xptr, yptr, x.Type()}\n",
    "                if seen[c] {\n",
    "                        return true // already seen\n",
    "                }\n",
    "                seen[c] = true\n",
    "        }\n",
    "        //!-cyclecheck\n",
    "        //!+\n",
    "        switch x.Kind() {\n",
    "        case reflect.Bool:\n",
    "                return x.Bool() == y.Bool()\n",
    "        case reflect.String:\n",
    "                return x.String() == y.String()\n",
    "\n",
    "        // ...numeric cases omitted for brevity...\n",
    "\n",
    "        //!-\n",
    "        case reflect.Int, reflect.Int8, reflect.Int16, reflect.Int32,\n",
    "                reflect.Int64:\n",
    "                return x.Int() == y.Int()\n",
    "\n",
    "        case reflect.Uint, reflect.Uint8, reflect.Uint16, reflect.Uint32,\n",
    "                reflect.Uint64, reflect.Uintptr:\n",
    "                return x.Uint() == y.Uint()\n",
    "\n",
    "        case reflect.Float32, reflect.Float64:\n",
    "                return x.Float() == y.Float()\n",
    "\n",
    "        case reflect.Complex64, reflect.Complex128:\n",
    "            return x.Complex() == y.Complex()\n",
    "        //!+\n",
    "        case reflect.Chan, reflect.UnsafePointer, reflect.Func:\n",
    "                return x.Pointer() == y.Pointer()\n",
    "\n",
    "        case reflect.Ptr, reflect.Interface:\n",
    "                return equal(x.Elem(), y.Elem(), seen)\n",
    "\n",
    "        case reflect.Array, reflect.Slice:\n",
    "                if x.Len() != y.Len() {\n",
    "                        return false\n",
    "                }\n",
    "                for i := 0; i < x.Len(); i++ {\n",
    "                        if !equal(x.Index(i), y.Index(i), seen) {\n",
    "                                return false\n",
    "                        }\n",
    "                }\n",
    "                return true\n",
    "\n",
    "        // ...struct and map cases omitted for brevity...\n",
    "  //!-\n",
    "        case reflect.Struct:\n",
    "                for i, n := 0, x.NumField(); i < n; i++ {\n",
    "                        if !equal(x.Field(i), y.Field(i), seen) {\n",
    "                                return false\n",
    "                        }\n",
    "                }\n",
    "                return true\n",
    "\n",
    "        case reflect.Map:\n",
    "                if x.Len() != y.Len() {\n",
    "                        return false\n",
    "                }\n",
    "                for _, k := range x.MapKeys() {\n",
    "                        if !equal(x.MapIndex(k), y.MapIndex(k), seen) {\n",
    "                                return false\n",
    "                        }\n",
    "                }\n",
    "                return true\n",
    "//!+\n",
    "        }\n",
    "        panic(\"unreachable\")\n",
    "}\n",
    "\n",
    "//!-\n",
    "\n",
    "//!+comparison\n",
    "// Equal reports whether x and y are deeply equal.\n",
    "//!-comparison\n",
    "//\n",
    "// Map keys are always compared with ==, not deeply.\n",
    "// (This matters for keys containing pointers or interfaces.)\n",
    "//!+comparison\n",
    "func Equal(x, y interface{}) bool {\n",
    "        seen := make(map[comparison]bool)\n",
    "        return equal(reflect.ValueOf(x), reflect.ValueOf(y), seen)\n",
    "}\n",
    "\n",
    "\n",
    "type comparison struct {\n",
    "        x, y unsafe.Pointer\n",
    "        t    reflect.Type\n",
    "}\n",
    "\n",
    "//!-comparison\n"
   ]
  },
  {
   "cell_type": "code",
   "execution_count": 33,
   "id": "f7fec07d",
   "metadata": {
    "slideshow": {
     "slide_type": "subslide"
    }
   },
   "outputs": [],
   "source": [
    "func Example_equal() {\n",
    "        //!+\n",
    "        fmt.Println(Equal([]int{1, 2, 3}, []int{1, 2, 3}))        // \"true\"\n",
    "        fmt.Println(Equal([]string{\"foo\"}, []string{\"bar\"}))      // \"false\"\n",
    "        fmt.Println(Equal([]string(nil), []string{}))             // \"true\"\n",
    "        fmt.Println(Equal(map[string]int(nil), map[string]int{})) // \"true\"\n",
    "        //!-\n",
    "\n",
    "        // Output:\n",
    "        // true\n",
    "        // false\n",
    "        // true\n",
    "        // true\n",
    "}"
   ]
  },
  {
   "cell_type": "code",
   "execution_count": 34,
   "id": "2aeb895d",
   "metadata": {
    "slideshow": {
     "slide_type": "subslide"
    }
   },
   "outputs": [
    {
     "name": "stdout",
     "output_type": "stream",
     "text": [
      "true\n",
      "false\n",
      "true\n",
      "true\n"
     ]
    }
   ],
   "source": [
    "%%\n",
    "Example_equal()"
   ]
  },
  {
   "cell_type": "code",
   "execution_count": 35,
   "id": "bec9898e",
   "metadata": {
    "slideshow": {
     "slide_type": "subslide"
    }
   },
   "outputs": [],
   "source": [
    "func Example_equalCycle() {\n",
    "        //!+cycle\n",
    "        // Circular linked lists a -> b -> a and c -> c.\n",
    "        type link struct {\n",
    "                value string\n",
    "                tail  *link\n",
    "        }\n",
    "        a, b, c := &link{value: \"a\"}, &link{value: \"b\"}, &link{value: \"c\"}\n",
    "        a.tail, b.tail, c.tail = b, a, c\n",
    "        fmt.Println(Equal(a, a)) // \"true\"\n",
    "        fmt.Println(Equal(b, b)) // \"true\"\n",
    "        fmt.Println(Equal(c, c)) // \"true\"\n",
    "        fmt.Println(Equal(a, b)) // \"false\"\n",
    "        fmt.Println(Equal(a, c)) // \"false\"\n",
    "        //!-cycle\n",
    "\n",
    "        // Output:\n",
    "        // true\n",
    "        // true\n",
    "        // true\n",
    "        // false\n",
    "        // false\n",
    "}"
   ]
  },
  {
   "cell_type": "code",
   "execution_count": 36,
   "id": "b75cd06a",
   "metadata": {
    "slideshow": {
     "slide_type": "subslide"
    }
   },
   "outputs": [
    {
     "name": "stdout",
     "output_type": "stream",
     "text": [
      "true\n",
      "true\n",
      "true\n",
      "false\n",
      "false\n"
     ]
    }
   ],
   "source": [
    "%%\n",
    "Example_equalCycle() "
   ]
  },
  {
   "cell_type": "markdown",
   "id": "2cd4806e",
   "metadata": {
    "slideshow": {
     "slide_type": "slide"
    }
   },
   "source": [
    "## Calling C Code with cgo"
   ]
  },
  {
   "cell_type": "code",
   "execution_count": null,
   "id": "f957df6e",
   "metadata": {
    "slideshow": {
     "slide_type": "subslide"
    }
   },
   "outputs": [],
   "source": [
    "// typedef int (*intFunc) ();\n",
    "//\n",
    "// int\n",
    "// bridge_int_func(intFunc f)\n",
    "// {\n",
    "//\t\treturn f();\n",
    "// }\n",
    "//\n",
    "// int fortytwo()\n",
    "// {\n",
    "//\t    return 42;\n",
    "// }\n",
    "import \"C\"\n",
    "import \"fmt\"\n",
    "\n",
    "func main() {\n",
    "\tf := C.intFunc(C.fortytwo)\n",
    "\tfmt.Println(int(C.bridge_int_func(f)))\n",
    "\t// Output: 42\n",
    "}"
   ]
  },
  {
   "cell_type": "markdown",
   "id": "6aac4a02",
   "metadata": {
    "slideshow": {
     "slide_type": "subslide"
    }
   },
   "source": [
    "<code>\n",
    "//!+\n",
    "/* This file is gopl.io/ch13/bzip/bzip2.c,         */\n",
    "/* a simple wrapper for libbzip2 suitable for cgo. */\n",
    "#include <bzlib.h>\n",
    "\n",
    "int bz2compress(bz_stream *s, int action,\n",
    "                char *in, unsigned *inlen, char *out, unsigned *outlen) {\n",
    "  s->next_in = in;\n",
    "  s->avail_in = *inlen;\n",
    "  s->next_out = out;\n",
    "  s->avail_out = *outlen;\n",
    "  int r = BZ2_bzCompress(s, action);\n",
    "  *inlen -= s->avail_in;\n",
    "  *outlen -= s->avail_out;\n",
    "  s->next_in = s->next_out = NULL;\n",
    "  return r;\n",
    "}\n",
    "\n",
    "//!-\n",
    "</code>"
   ]
  },
  {
   "cell_type": "code",
   "execution_count": null,
   "id": "34bbfb06",
   "metadata": {
    "slideshow": {
     "slide_type": "subslide"
    }
   },
   "outputs": [],
   "source": [
    "// Package bzip provides a writer that uses bzip2 compression (bzip.org).\n",
    "//package bzip\n",
    "\n",
    "/*\n",
    "#cgo CFLAGS: -I/usr/include\n",
    "#cgo LDFLAGS: -L/usr/lib -lbz2\n",
    "#include <bzlib.h>\n",
    "#include <stdlib.h>\n",
    "bz_stream* bz2alloc() { return calloc(1, sizeof(bz_stream)); }\n",
    "int bz2compress(bz_stream *s, int action,\n",
    "                char *in, unsigned *inlen, char *out, unsigned *outlen);\n",
    "void bz2free(bz_stream* s) { free(s); }\n",
    "*/\n",
    "import \"C\"\n",
    "\n",
    "import (\n",
    "        \"io\"\n",
    "        \"unsafe\"\n",
    ")\n",
    "\n",
    "type writer struct {\n",
    "        w      io.Writer // underlying output stream\n",
    "        stream *C.bz_stream\n",
    "        outbuf [64 * 1024]byte\n",
    "}\n",
    "\n",
    "// NewWriter returns a writer for bzip2-compressed streams.\n",
    "func NewWriter(out io.Writer) io.WriteCloser {\n",
    "        const blockSize = 9\n",
    "        const verbosity = 0\n",
    "        const workFactor = 30\n",
    "        w := &writer{w: out, stream: C.bz2alloc()}\n",
    "        C.BZ2_bzCompressInit(w.stream, blockSize, verbosity, workFactor)\n",
    "        return w\n",
    "}\n",
    "//!-\n",
    "\n",
    "//!+write\n",
    "func (w *writer) Write(data []byte) (int, error) {\n",
    "        if w.stream == nil {\n",
    "                panic(\"closed\")\n",
    "        }\n",
    "        var total int // uncompressed bytes written\n",
    "\n",
    "        for len(data) > 0 {\n",
    "                inlen, outlen := C.uint(len(data)), C.uint(cap(w.outbuf))\n",
    "                C.bz2compress(w.stream, C.BZ_RUN,\n",
    "                        (*C.char)(unsafe.Pointer(&data[0])), &inlen,\n",
    "                        (*C.char)(unsafe.Pointer(&w.outbuf)), &outlen)\n",
    "                total += int(inlen)\n",
    "                data = data[inlen:]\n",
    "                if _, err := w.w.Write(w.outbuf[:outlen]); err != nil {\n",
    "                        return total, err\n",
    "                }\n",
    "        }\n",
    "        return total, nil\n",
    "}\n",
    "\n",
    "//!-write\n",
    "\n",
    "//!+close\n",
    "// Close flushes the compressed data and closes the stream.\n",
    "// It does not close the underlying io.Writer.\n",
    "func (w *writer) Close() error {\n",
    "        if w.stream == nil {\n",
    "                panic(\"closed\")\n",
    "        }\n",
    "        defer func() {\n",
    "                C.BZ2_bzCompressEnd(w.stream)\n",
    "                C.bz2free(w.stream)\n",
    "                w.stream = nil\n",
    " }()\n",
    "        for {\n",
    "                inlen, outlen := C.uint(0), C.uint(cap(w.outbuf))\n",
    "                r := C.bz2compress(w.stream, C.BZ_FINISH, nil, &inlen,\n",
    "                        (*C.char)(unsafe.Pointer(&w.outbuf)), &outlen)\n",
    "                if _, err := w.w.Write(w.outbuf[:outlen]); err != nil {\n",
    "                        return err\n",
    "                }\n",
    "                if r == C.BZ_STREAM_END {\n",
    "                        return nil\n",
    "                }\n",
    "        }\n",
    "}\n",
    "\n",
    "//!-close"
   ]
  },
  {
   "cell_type": "code",
   "execution_count": 41,
   "id": "f3dbbbb1",
   "metadata": {
    "slideshow": {
     "slide_type": "subslide"
    }
   },
   "outputs": [
    {
     "name": "stderr",
     "output_type": "stream",
     "text": [
      "^C\n",
      "signal: interrupt\n"
     ]
    }
   ],
   "source": [
    "//bzipper\n",
    "import (\n",
    "        \"io\"\n",
    "        \"log\"\n",
    "        \"os\"\n",
    "\n",
    "        \"gopl.io/ch13/bzip\"\n",
    ")\n",
    "\n",
    "func main() {\n",
    "        w := bzip.NewWriter(os.Stdout)\n",
    "        if _, err := io.Copy(w, os.Stdin); err != nil {\n",
    "                log.Fatalf(\"bzipper: %v\\n\", err)\n",
    "        }\n",
    "        if err := w.Close(); err != nil {\n",
    "                log.Fatalf(\"bzipper: close: %v\\n\", err)\n",
    "        }\n",
    "}\n"
   ]
  },
  {
   "cell_type": "code",
   "execution_count": 42,
   "id": "cd9de2b1",
   "metadata": {
    "slideshow": {
     "slide_type": "subslide"
    }
   },
   "outputs": [
    {
     "name": "stderr",
     "output_type": "stream",
     "text": [
      "# gopl.io/ch13/bzipper\n",
      "ld: warning: '/private/var/folders/4d/tg201k8x6yb81f_lrvt4440m0000gn/T/go-link-2835667321/go.o' has malformed LC_DYSYMTAB, expected 51 undefined symbols to start at index 3063, found 62 undefined symbols starting at index 15\n"
     ]
    }
   ],
   "source": [
    "!go build gopl.io/ch13/bzipper"
   ]
  },
  {
   "cell_type": "code",
   "execution_count": 43,
   "id": "837ed735",
   "metadata": {
    "slideshow": {
     "slide_type": "subslide"
    }
   },
   "outputs": [
    {
     "name": "stdout",
     "output_type": "stream",
     "text": [
      " 2493885\n"
     ]
    }
   ],
   "source": [
    "!wc -c < /usr/share/dict/words"
   ]
  },
  {
   "cell_type": "code",
   "execution_count": 44,
   "id": "fd127b36",
   "metadata": {
    "slideshow": {
     "slide_type": "subslide"
    }
   },
   "outputs": [
    {
     "name": "stdout",
     "output_type": "stream",
     "text": [
      "df33787900e261a4c98a8863dbe3455aa3de9182511c6697b9208bb9  -\n"
     ]
    }
   ],
   "source": [
    "!sha3sum < /usr/share/dict/words "
   ]
  },
  {
   "cell_type": "code",
   "execution_count": 45,
   "id": "6dd3eda0",
   "metadata": {
    "slideshow": {
     "slide_type": "subslide"
    }
   },
   "outputs": [
    {
     "name": "stdout",
     "output_type": "stream",
     "text": [
      "  857578\n"
     ]
    }
   ],
   "source": [
    "!./bzipper < /usr/share/dict/words | wc -c"
   ]
  },
  {
   "cell_type": "code",
   "execution_count": 46,
   "id": "84d7e81e",
   "metadata": {
    "slideshow": {
     "slide_type": "subslide"
    }
   },
   "outputs": [
    {
     "name": "stdout",
     "output_type": "stream",
     "text": [
      "df33787900e261a4c98a8863dbe3455aa3de9182511c6697b9208bb9  -\n"
     ]
    }
   ],
   "source": [
    "!./bzipper < /usr/share/dict/words | bunzip2 | sha3sum"
   ]
  }
 ],
 "metadata": {
  "celltoolbar": "Slideshow",
  "kernelspec": {
   "display_name": "Go (gonb)",
   "language": "go",
   "name": "gonb"
  },
  "language_info": {
   "codemirror_mode": "",
   "file_extension": ".go",
   "mimetype": "",
   "name": "go",
   "nbconvert_exporter": "",
   "pygments_lexer": "",
   "version": "go1.21.1"
  },
  "rise": {
   "enable_chalkboard": true,
   "scroll": true
  },
  "toc": {
   "base_numbering": 13,
   "nav_menu": {},
   "number_sections": true,
   "sideBar": true,
   "skip_h1_title": false,
   "title_cell": "Table of Contents",
   "title_sidebar": "Contents",
   "toc_cell": true,
   "toc_position": {
    "height": "calc(100% - 180px)",
    "left": "10px",
    "top": "150px",
    "width": "165px"
   },
   "toc_section_display": true,
   "toc_window_display": false
  }
 },
 "nbformat": 4,
 "nbformat_minor": 5
}
