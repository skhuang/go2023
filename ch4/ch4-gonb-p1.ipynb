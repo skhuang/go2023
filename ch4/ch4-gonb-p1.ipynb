{
 "cells": [
  {
   "cell_type": "markdown",
   "metadata": {
    "slideshow": {
     "slide_type": "slide"
    },
    "tags": []
   },
   "source": [
    "#  4. Composite Types\n",
    "* Fixed Size\n",
    "    * Arrays - homogeneous\n",
    "    * Structs - heterogeneous\n",
    "* Dynamic Data Structure\n",
    "    * Slices\n",
    "    * Maps\n",
    "* JSON\n",
    "* Text and HTML Templates"
   ]
  },
  {
   "cell_type": "markdown",
   "metadata": {
    "slideshow": {
     "slide_type": "slide"
    }
   },
   "source": [
    "## 4.1 Arrays\n",
    "\n",
    "* An array is a fixed-length sequence of zero or mor element of a particular type\n",
    "* Built-in function **len** returns the number of elements in the array\n",
    "* Slices can grow and shrink"
   ]
  },
  {
   "cell_type": "code",
   "execution_count": 1,
   "metadata": {
    "slideshow": {
     "slide_type": "subslide"
    }
   },
   "outputs": [
    {
     "name": "stdout",
     "output_type": "stream",
     "text": [
      "0\n",
      "0\n"
     ]
    }
   ],
   "source": [
    "import \"fmt\"\n",
    "var a [3]int               //array of 3 elements\n",
    "%%\n",
    "fmt.Println(a[0])        //print the first element\n",
    "fmt.Println(a[len(a)-1]) //print the last element, a[2]"
   ]
  },
  {
   "cell_type": "code",
   "execution_count": 2,
   "metadata": {
    "slideshow": {
     "slide_type": "fragment"
    }
   },
   "outputs": [
    {
     "name": "stdout",
     "output_type": "stream",
     "text": [
      "0 0\n",
      "1 0\n",
      "2 0\n"
     ]
    }
   ],
   "source": [
    "//Print the indices and elements.\n",
    "%%\n",
    "for i, v := range a {\n",
    "    fmt.Printf(\"%d %d\\n\", i, v)\n",
    "}"
   ]
  },
  {
   "cell_type": "code",
   "execution_count": 3,
   "metadata": {
    "slideshow": {
     "slide_type": "fragment"
    }
   },
   "outputs": [
    {
     "name": "stdout",
     "output_type": "stream",
     "text": [
      "0\n",
      "0\n",
      "0\n"
     ]
    }
   ],
   "source": [
    "//Print the elements only.\n",
    "%%\n",
    "for _, v := range a {\n",
    "    fmt.Printf(\"%d\\n\",v)\n",
    "}"
   ]
  },
  {
   "cell_type": "code",
   "execution_count": 4,
   "metadata": {
    "slideshow": {
     "slide_type": "fragment"
    }
   },
   "outputs": [
    {
     "name": "stdout",
     "output_type": "stream",
     "text": [
      "0\n",
      "1\n",
      "2\n"
     ]
    }
   ],
   "source": [
    "//Print the indices only.\n",
    "%%\n",
    "for i := range a {\n",
    "    fmt.Printf(\"%d\\n\",i)\n",
    "}"
   ]
  },
  {
   "cell_type": "markdown",
   "metadata": {
    "slideshow": {
     "slide_type": "subslide"
    }
   },
   "source": [
    "* By default, the elements of a new array are initially set to the zero value for the element type, 0 for numbers.\n",
    "* We can use an array literal to initialize an array with a list of values"
   ]
  },
  {
   "cell_type": "code",
   "execution_count": 5,
   "metadata": {
    "slideshow": {
     "slide_type": "subslide"
    }
   },
   "outputs": [
    {
     "name": "stdout",
     "output_type": "stream",
     "text": [
      "2 3 0\n"
     ]
    }
   ],
   "source": [
    "import \"fmt\"\n",
    "var q [3]int = [3]int{1, 2, 3}\n",
    "var r [3]int = [3]int{1,2}\n",
    "%%\n",
    "fmt.Println(r[1], q[2], r[2]) "
   ]
  },
  {
   "cell_type": "markdown",
   "metadata": {
    "slideshow": {
     "slide_type": "subslide"
    }
   },
   "source": [
    "* In an array literal, an ellipsis \"...\" appears in place of the length\n",
    "* the array length is determined by the number of initializeers"
   ]
  },
  {
   "cell_type": "code",
   "execution_count": 7,
   "metadata": {
    "slideshow": {
     "slide_type": "fragment"
    }
   },
   "outputs": [
    {
     "name": "stdout",
     "output_type": "stream",
     "text": [
      "[7]int\n"
     ]
    }
   ],
   "source": [
    "%%\n",
    "q := [...]int{1, 2, 3, 4,5,6,7} \n",
    "fmt.Printf(\"%T\\n\", q)   // [7]int"
   ]
  },
  {
   "cell_type": "markdown",
   "metadata": {
    "slideshow": {
     "slide_type": "subslide"
    }
   },
   "source": [
    "* The size of an array is part of its type\n",
    "* [3]int and [4]int are different"
   ]
  },
  {
   "cell_type": "code",
   "execution_count": 8,
   "metadata": {
    "slideshow": {
     "slide_type": "fragment"
    }
   },
   "outputs": [
    {
     "data": {
      "text/html": [
       "\n",
       "<style>\n",
       ".gonb-err-location {\n",
       "\tbackground: var(--jp-err-color2);  \n",
       "\tborder-radius: 3px;\n",
       "\tborder-style: dotted;\n",
       "\tborder-width: 1px;\n",
       "\tborder-color: var(--jp-border-color2);\n",
       "}\n",
       ".gonb-err-location:hover {\n",
       "\tborder-width: 2px;\n",
       "\tborder-style: solid;\n",
       "\tborder-color: var(--jp-border-color2);\n",
       "}\n",
       ".gonb-err-context {\n",
       "\tdisplay: none;\n",
       "}\n",
       ".gonb-err-location:hover + .gonb-err-context {\n",
       "\tbackground: var(--jp-dialog-background);  \n",
       "\tborder-radius: 3px;\n",
       "\tborder-style: solid;\n",
       "\tborder-width: 1px;\n",
       "\tborder-color: var(--jp-border-color2);\n",
       "\tdisplay: block;\n",
       "\twhite-space: pre;\n",
       "\tfont-family: monospace;\n",
       "}\n",
       ".gonb-err-line {\n",
       "\tborder-radius: 3px;\n",
       "\tborder-style: dotted;\n",
       "\tborder-width: 1px;\t\n",
       "\tborder-color: var(--jp-border-color2);\n",
       "\tbackground-color: var(--jp-rendermime-err-background);\n",
       "\tfont-weight: bold;\n",
       "}\n",
       ".gonb-cell-line-info {\n",
       "\tbackground: var(--jp-layout-color2);\n",
       "\tcolor: #999;\n",
       "\tmargin: 0.1em;\n",
       "\tborder: 1px solid var(--jp-border-color1);\n",
       "\tpadding-left: 0.2em;\n",
       "\tpadding-right: 0.2em;\n",
       "}\n",
       "</style>\n",
       "<div class=\"lm-Widget p-Widget lm-Panel p-Panel jp-OutputArea-child\">\n",
       "<div class=\"lm-Widget p-Widget jp-RenderedText jp-mod-trusted jp-OutputArea-output\" data-mime-type=\"application/vnd.jupyter.stderr\" style=\"font-family: monospace;\">\n",
       "\n",
       "\n",
       "<span style=\"white-space: pre;\"> # gonb_1b5ef3f4</span>\n",
       "\n",
       "<br/>\n",
       "\n",
       "<span class=\"gonb-cell-line-info\">Cell[8]: Line 3</span>\n",
       "<span class=\"gonb-err-location\">./main.go:17:7: </span> cannot use [4]int{…} (value of type [4]int) as type [3]int in assignment\n",
       "<div class=\"gonb-err-context\">\n",
       "func main() {\n",
       "\tflag.Parse()\n",
       "\tq := [3]int{1, 2, 3}\n",
       "<div class=\"gonb-err-line\">\tq =  [4]int{1, 2, 3, 4}\n",
       "</div>\n",
       "}\n",
       "\n",
       "</div>\n",
       "\n",
       "<br/>\n",
       "\n",
       "\n",
       "<span style=\"white-space: pre;\"> </span>\n",
       "\n",
       "<br/>\n",
       "\n",
       "</div>\n"
      ]
     },
     "metadata": {},
     "output_type": "display_data"
    },
    {
     "ename": "ERROR",
     "evalue": "failed to run \"/opt/homebrew/bin/go build -o /var/folders/4d/tg201k8x6yb81f_lrvt4440m0000gn/T/gonb_1b5ef3f4/gonb_1b5ef3f4\": exit status 1",
     "output_type": "error",
     "traceback": [
      "failed to run \"/opt/homebrew/bin/go build -o /var/folders/4d/tg201k8x6yb81f_lrvt4440m0000gn/T/gonb_1b5ef3f4/gonb_1b5ef3f4\": exit status 1"
     ]
    }
   ],
   "source": [
    "%%\n",
    "q := [3]int{1, 2, 3}\n",
    "q =  [4]int{1, 2, 3, 4}"
   ]
  },
  {
   "cell_type": "markdown",
   "metadata": {
    "slideshow": {
     "slide_type": "subslide"
    }
   },
   "source": [
    "* Indices can appear in any order and some may be omitted\n",
    "* Unspecified values take on the zero value for the element type"
   ]
  },
  {
   "cell_type": "code",
   "execution_count": 10,
   "metadata": {
    "slideshow": {
     "slide_type": "fragment"
    }
   },
   "outputs": [
    {
     "name": "stdout",
     "output_type": "stream",
     "text": [
      "3 ¥\n"
     ]
    }
   ],
   "source": [
    "type Currency int\n",
    "const (\n",
    "    USD Currency = iota\n",
    "    EUR\n",
    "    GBP\n",
    "    RMB\n",
    ")\n",
    "%%\n",
    "symbol := [...]string{USD: \"$\",  GBP: \"£\", RMB: \"¥\", EUR: \"€\"}\n",
    "\n",
    "fmt.Println(RMB, symbol[RMB])"
   ]
  },
  {
   "cell_type": "code",
   "execution_count": 11,
   "metadata": {
    "slideshow": {
     "slide_type": "fragment"
    }
   },
   "outputs": [
    {
     "name": "stdout",
     "output_type": "stream",
     "text": [
      "[0 0 0 0 0 0 0 0 0 0 0 0 0 0 0 0 0 0 0 0 0 0 0 0 0 0 0 0 0 0 0 0 0 0 0 0 0 0 0 0 0 0 0 0 0 0 0 0 0 0 0 0 0 0 0 0 0 0 0 0 0 0 0 0 0 0 0 0 0 0 0 0 0 0 0 0 0 0 0 0 0 0 0 0 0 0 0 0 0 0 0 0 0 0 0 0 0 0 0 -1 0 0 0 0 0 0 0 0 0 0 0 0 0 0 0 0 0 0 0 0 0 0 0 0 0 0 0 0 0 0 0 0 0 0 0 0 0 0 0 0 0 0 0 0 0 0 0 0 0 0 0 0 0 0 0 0 0 0 0 0 0 0 0 0 0 0 0 0 0 0 0 0 0 0 0 0 0 0 0 0 0 0 0 0 0 0 0 0 0 0 0 0 0 0 0 0 0 0 0 -2] 200\n"
     ]
    }
   ],
   "source": [
    "%%\n",
    "r := [...]int{99: -1, 199:-2}\n",
    "fmt.Println(r, len(r))"
   ]
  },
  {
   "cell_type": "markdown",
   "metadata": {
    "slideshow": {
     "slide_type": "subslide"
    }
   },
   "source": [
    "* If an array's element type is comparable then the array type is comparable too\n",
    "* We may directly compare two arrays of that type using the == operator and != the the negation"
   ]
  },
  {
   "cell_type": "code",
   "execution_count": 13,
   "metadata": {
    "slideshow": {
     "slide_type": "fragment"
    }
   },
   "outputs": [
    {
     "name": "stdout",
     "output_type": "stream",
     "text": [
      "true false false\n"
     ]
    }
   ],
   "source": [
    "%%\n",
    "a := [3]int{1,2,9}\n",
    "b := [...]int{1,2,9}\n",
    "c := [3]int{1,3}\n",
    "fmt.Println(a == b, a == c, b == c)\n",
    "d := [2]int{1,2}\n",
    "_ = d\n",
    "//fmt.Println(a == d)"
   ]
  },
  {
   "cell_type": "code",
   "execution_count": 15,
   "metadata": {
    "slideshow": {
     "slide_type": "fragment"
    }
   },
   "outputs": [
    {
     "data": {
      "text/html": [
       "\n",
       "<style>\n",
       ".gonb-err-location {\n",
       "\tbackground: var(--jp-err-color2);  \n",
       "\tborder-radius: 3px;\n",
       "\tborder-style: dotted;\n",
       "\tborder-width: 1px;\n",
       "\tborder-color: var(--jp-border-color2);\n",
       "}\n",
       ".gonb-err-location:hover {\n",
       "\tborder-width: 2px;\n",
       "\tborder-style: solid;\n",
       "\tborder-color: var(--jp-border-color2);\n",
       "}\n",
       ".gonb-err-context {\n",
       "\tdisplay: none;\n",
       "}\n",
       ".gonb-err-location:hover + .gonb-err-context {\n",
       "\tbackground: var(--jp-dialog-background);  \n",
       "\tborder-radius: 3px;\n",
       "\tborder-style: solid;\n",
       "\tborder-width: 1px;\n",
       "\tborder-color: var(--jp-border-color2);\n",
       "\tdisplay: block;\n",
       "\twhite-space: pre;\n",
       "\tfont-family: monospace;\n",
       "}\n",
       ".gonb-err-line {\n",
       "\tborder-radius: 3px;\n",
       "\tborder-style: dotted;\n",
       "\tborder-width: 1px;\t\n",
       "\tborder-color: var(--jp-border-color2);\n",
       "\tbackground-color: var(--jp-rendermime-err-background);\n",
       "\tfont-weight: bold;\n",
       "}\n",
       ".gonb-cell-line-info {\n",
       "\tbackground: var(--jp-layout-color2);\n",
       "\tcolor: #999;\n",
       "\tmargin: 0.1em;\n",
       "\tborder: 1px solid var(--jp-border-color1);\n",
       "\tpadding-left: 0.2em;\n",
       "\tpadding-right: 0.2em;\n",
       "}\n",
       "</style>\n",
       "<div class=\"lm-Widget p-Widget lm-Panel p-Panel jp-OutputArea-child\">\n",
       "<div class=\"lm-Widget p-Widget jp-RenderedText jp-mod-trusted jp-OutputArea-output\" data-mime-type=\"application/vnd.jupyter.stderr\" style=\"font-family: monospace;\">\n",
       "\n",
       "\n",
       "<span style=\"white-space: pre;\"> # gonb_1b5ef3f4</span>\n",
       "\n",
       "<br/>\n",
       "\n",
       "<span class=\"gonb-cell-line-info\">Cell[15]: Line 8</span>\n",
       "<span class=\"gonb-err-location\">./main.go:32:19: </span> invalid operation: a == d (mismatched types [3]int and [2]int)\n",
       "<div class=\"gonb-err-context\">\n",
       "\tfmt.Println(a == b, a == c, b == c)\n",
       "\td := [2]int{1,2}\n",
       "\t_ = d\n",
       "<div class=\"gonb-err-line\">\tfmt.Println(a == d)  // compile error: cannot compare [2]int == [3]int\n",
       "</div>\n",
       "}\n",
       "\n",
       "</div>\n",
       "\n",
       "<br/>\n",
       "\n",
       "\n",
       "<span style=\"white-space: pre;\"> </span>\n",
       "\n",
       "<br/>\n",
       "\n",
       "</div>\n"
      ]
     },
     "metadata": {},
     "output_type": "display_data"
    },
    {
     "ename": "ERROR",
     "evalue": "failed to run \"/opt/homebrew/bin/go build -o /var/folders/4d/tg201k8x6yb81f_lrvt4440m0000gn/T/gonb_1b5ef3f4/gonb_1b5ef3f4\": exit status 1",
     "output_type": "error",
     "traceback": [
      "failed to run \"/opt/homebrew/bin/go build -o /var/folders/4d/tg201k8x6yb81f_lrvt4440m0000gn/T/gonb_1b5ef3f4/gonb_1b5ef3f4\": exit status 1"
     ]
    }
   ],
   "source": [
    "%%\n",
    "a := [3]int{1,2,9}\n",
    "b := [...]int{1,2,9}\n",
    "c := [3]int{1,3}\n",
    "fmt.Println(a == b, a == c, b == c)\n",
    "d := [2]int{1,2}\n",
    "_ = d\n",
    "fmt.Println(a == d)  // compile error: cannot compare [2]int == [3]int"
   ]
  },
  {
   "cell_type": "code",
   "execution_count": 16,
   "metadata": {
    "code_folding": [
     7
    ],
    "slideshow": {
     "slide_type": "fragment"
    }
   },
   "outputs": [
    {
     "name": "stdout",
     "output_type": "stream",
     "text": [
      "2d711642b726b04401627ca9fbac32f5c8530fb1903cc4db02258717921a4881\n",
      "4b68ab3847feda7d6c62c1fbcbeebfa35eab7351ed5e78f4ddadea5df64b8015\n",
      "false\n",
      "[32]uint8\n"
     ]
    }
   ],
   "source": [
    "//gopl.io/ch4/sha256\n",
    "import \"crypto/sha256\"\n",
    "func main() {\n",
    "    c1 := sha256.Sum256([]byte(\"x\"))\n",
    "    c2 := sha256.Sum256([]byte(\"X\"))\n",
    "    fmt.Printf(\"%x\\n%x\\n%t\\n%T\\n\",c1, c2, c1 == c2, c1)\n",
    "}// %T: type, %t: boolean\n",
    "//main()\n",
    "// Output:\n",
    "// 2d711642b726b04401627ca9fbac32f5c8530fb1903cc4db02258717921a4881\n",
    "// 4b68ab3847feda7d6c62c1fbcbeebfa35eab7351ed5e78f4ddadea5df64b8015\n",
    "// false\n",
    "// [32]uint8"
   ]
  },
  {
   "cell_type": "code",
   "execution_count": 46,
   "metadata": {
    "slideshow": {
     "slide_type": "skip"
    }
   },
   "outputs": [
    {
     "name": "stdout",
     "output_type": "stream",
     "text": [
      "2d711642b726b04401627ca9fbac32f5c8530fb1903cc4db02258717921a4881\n",
      "4b68ab3847feda7d6c62c1fbcbeebfa35eab7351ed5e78f4ddadea5df64b8015\n",
      "false\n",
      "[32]uint8\n"
     ]
    }
   ],
   "source": [
    "main()"
   ]
  },
  {
   "cell_type": "markdown",
   "metadata": {
    "slideshow": {
     "slide_type": "subslide"
    }
   },
   "source": [
    "----------------------------\n",
    "* Go treats like any other type, and different from languages that implicitly pass arrays by reference\n",
    "* We can explicitly pass a pointer to an array "
   ]
  },
  {
   "cell_type": "code",
   "execution_count": 17,
   "metadata": {
    "slideshow": {
     "slide_type": "fragment"
    }
   },
   "outputs": [
    {
     "name": "stdout",
     "output_type": "stream",
     "text": [
      "[45 113 22 66 183 38 176 68 1 98 124 169 251 172 50 245 200 83 15 177 144 60 196 219 2 37 135 23 146 26 72 129]\n",
      "[0 0 0 0 0 0 0 0 0 0 0 0 0 0 0 0 0 0 0 0 0 0 0 0 0 0 0 0 0 0 0 0]\n"
     ]
    }
   ],
   "source": [
    "func zero(ptr *[32]byte) {\n",
    "    for i:= range ptr {\n",
    "        ptr[i] = 0\n",
    "    }\n",
    "}\n",
    "%%\n",
    "c1 := sha256.Sum256([]byte(\"x\"))\n",
    "fmt.Println(c1)\n",
    "zero(&c1)\n",
    "fmt.Println(c1)"
   ]
  },
  {
   "cell_type": "code",
   "execution_count": 18,
   "metadata": {
    "slideshow": {
     "slide_type": "fragment"
    }
   },
   "outputs": [
    {
     "name": "stdout",
     "output_type": "stream",
     "text": [
      "[45 113 22 66 183 38 176 68 1 98 124 169 251 172 50 245 200 83 15 177 144 60 196 219 2 37 135 23 146 26 72 129]\n",
      "[0 0 0 0 0 0 0 0 0 0 0 0 0 0 0 0 0 0 0 0 0 0 0 0 0 0 0 0 0 0 0 0]\n"
     ]
    }
   ],
   "source": [
    "func zero(ptr *[32]byte) {\n",
    "    *ptr = [32]byte{}\n",
    "}\n",
    "%%\n",
    "c1 := sha256.Sum256([]byte(\"x\"))\n",
    "fmt.Println(c1)\n",
    "zero(&c1)\n",
    "fmt.Println(c1)"
   ]
  },
  {
   "cell_type": "markdown",
   "metadata": {
    "slideshow": {
     "slide_type": "slide"
    }
   },
   "source": [
    "## 4.2 Slices\n",
    "* Variable-length sequences whose elements all have the same type\n",
    "* A slice type is written []T, with element type T, like an array type without a size\n",
    "* A lightweight data structure with access to subsequence of the element of an array\n",
    "* Three components: a pointer, a length(len) and a capacity (cap) built-in functions\n",
    "* Slice operator s[i:j], $0 \\le i \\le j \\le cap(s)$"
   ]
  },
  {
   "cell_type": "code",
   "execution_count": 23,
   "metadata": {
    "slideshow": {
     "slide_type": "fragment"
    }
   },
   "outputs": [
    {
     "name": "stdout",
     "output_type": "stream",
     "text": [
      "[April May June]\n",
      "[June July August]\n",
      "[13]string\n",
      "[]string\n",
      "[]string\n",
      "[]string\n"
     ]
    }
   ],
   "source": [
    "import \"fmt\"\n",
    "\n",
    "var months = [...]string{1:\"January\", \"February\", \"March\", \"April\", \"May\", \"June\", \"July\", \"August\", \"September\", \"October\", \"November\", 12:\"December\"}\n",
    "var Q2 = months[4:7]\n",
    "var summer = months[6:9]\n",
    "%%\n",
    "fmt.Println(Q2)\n",
    "fmt.Println(summer)\n",
    "fmt.Printf(\"%T\\n%T\\n%T\\n%T\\n\",months, months[:],Q2, summer)"
   ]
  },
  {
   "cell_type": "markdown",
   "metadata": {
    "slideshow": {
     "slide_type": "fragment"
    }
   },
   "source": [
    "<center>Two overlapping slices of an array of months\n",
    "<img src=\"https://skhuang.github.io/5-1.png\"></center>\n"
   ]
  },
  {
   "cell_type": "code",
   "execution_count": 24,
   "metadata": {
    "slideshow": {
     "slide_type": "subslide"
    }
   },
   "outputs": [
    {
     "name": "stdout",
     "output_type": "stream",
     "text": [
      "June appears in both\n"
     ]
    }
   ],
   "source": [
    "%%\n",
    "for _, s:= range summer {\n",
    "    for _, q := range Q2 {\n",
    "        if s == q {\n",
    "            fmt.Printf(\"%s appears in both\\n\", s)\n",
    "        }\n",
    "    }\n",
    "}"
   ]
  },
  {
   "cell_type": "code",
   "execution_count": 25,
   "metadata": {
    "slideshow": {
     "slide_type": "subslide"
    }
   },
   "outputs": [
    {
     "name": "stderr",
     "output_type": "stream",
     "text": [
      "panic: runtime error: slice bounds out of range [:20] with capacity 7\n",
      "\n",
      "goroutine 1 [running]:\n",
      "main.main()\n",
      "\t \u001b[7m[[ Cell [25] Line 2 ]]\u001b[0m /var/folders/4d/tg201k8x6yb81f_lrvt4440m0000gn/T/gonb_1b5ef3f4/main.go:33 +0x10c\n",
      "exit status 2\n"
     ]
    }
   ],
   "source": [
    "%%\n",
    "fmt.Println(summer[:20], len(summer), cap(summer)) // panic: out of range\n",
    "//fmt.Println(summer[:7], len(summer), cap(summer)) // panic: out of range"
   ]
  },
  {
   "cell_type": "code",
   "execution_count": 26,
   "metadata": {
    "slideshow": {
     "slide_type": "subslide"
    }
   },
   "outputs": [
    {
     "name": "stdout",
     "output_type": "stream",
     "text": [
      "[June July August September October November December]\n"
     ]
    }
   ],
   "source": [
    "%%\n",
    "endlessSummer := summer[:7] // extend a slice\n",
    "fmt.Println(endlessSummer)  "
   ]
  },
  {
   "cell_type": "code",
   "execution_count": 27,
   "metadata": {
    "slideshow": {
     "slide_type": "subslide"
    }
   },
   "outputs": [
    {
     "name": "stdout",
     "output_type": "stream",
     "text": [
      "[5 4 3 2 1 0]\n"
     ]
    }
   ],
   "source": [
    "//gopl.io/ch4/rev\n",
    "// reverse reverses a slice of ints in place.\n",
    "func reverse(s []int) {\n",
    "    for i, j := 0, len(s)-1; i < j; i, j = i+1, j-1 {\n",
    "        s[i], s[j] = s[j], s[i]\n",
    "    }\n",
    "}\n",
    "%%\n",
    "a := [...]int{0,1,2,3,4,5}\n",
    "b := []int{0,1,2,3,4,5}\n",
    "//reverse(a)\n",
    "reverse(a[:]) //a is a [6]int, a[:] is a slice\n",
    "reverse(b)\n",
    "fmt.Println(a)"
   ]
  },
  {
   "cell_type": "code",
   "execution_count": 28,
   "metadata": {
    "slideshow": {
     "slide_type": "subslide"
    }
   },
   "outputs": [
    {
     "name": "stdout",
     "output_type": "stream",
     "text": [
      "[]int, []int\n"
     ]
    }
   ],
   "source": [
    "%%\n",
    "//a := [...]int{0,1,2,3,4,5}\n",
    "a := []int{0,1,2,3,4,5}\n",
    "//reverse(a[:])\n",
    "reverse(a[:])\n",
    "fmt.Printf(\"%T, %T\\n\",a[:],a)"
   ]
  },
  {
   "cell_type": "code",
   "execution_count": 29,
   "metadata": {
    "slideshow": {
     "slide_type": "subslide"
    }
   },
   "outputs": [
    {
     "name": "stdout",
     "output_type": "stream",
     "text": [
      "[5 4 3 2 1 0] 6 6\n"
     ]
    }
   ],
   "source": [
    "%%\n",
    "a := []int{0,1,2,3,4,5}\n",
    "reverse(a)\n",
    "fmt.Println(a, cap(a),len(a))"
   ]
  },
  {
   "cell_type": "code",
   "execution_count": 30,
   "metadata": {
    "slideshow": {
     "slide_type": "subslide"
    }
   },
   "outputs": [
    {
     "name": "stdout",
     "output_type": "stream",
     "text": [
      "[1 0 2 3 4 5]\n",
      "[1 0 5 4 3 2]\n",
      "[2 3 4 5 0 1]\n"
     ]
    }
   ],
   "source": [
    "%%\n",
    "s := []int{0,1,2,3,4,5}\n",
    "// Rotate s left by two positions.\n",
    "reverse(s[:2])\n",
    "fmt.Println(s)\n",
    "reverse(s[2:])\n",
    "fmt.Println(s)\n",
    "reverse(s)\n",
    "fmt.Println(s) // [2 3 4 5 0 1]"
   ]
  },
  {
   "cell_type": "code",
   "execution_count": 31,
   "metadata": {
    "slideshow": {
     "slide_type": "subslide"
    }
   },
   "outputs": [],
   "source": [
    "func equal(x, y []string) bool {\n",
    "    if len(x) != len(y) {\n",
    "        return false\n",
    "    }\n",
    "    for i := range x {\n",
    "        if x[i] != y[i] {\n",
    "            return false\n",
    "        }\n",
    "    }\n",
    "    return true\n",
    "}\n"
   ]
  },
  {
   "cell_type": "code",
   "execution_count": 32,
   "metadata": {
    "slideshow": {
     "slide_type": "subslide"
    }
   },
   "outputs": [
    {
     "name": "stdout",
     "output_type": "stream",
     "text": [
      "true\n",
      "false\n"
     ]
    }
   ],
   "source": [
    "%%\n",
    "a := []string{\"0\",\"1\",\"2\",\"3\",\"4\",\"5\"}\n",
    "b := []string{\"0\",\"1\",\"2\",\"3\",\"4\",\"5\"}\n",
    "c := []string{\"0\",\"1\",\"2\",\"3\",\"4\",\"5\",\"6\"}\n",
    "fmt.Println(equal(a,b))\n",
    "fmt.Println(equal(b,c))"
   ]
  },
  {
   "cell_type": "markdown",
   "metadata": {
    "slideshow": {
     "slide_type": "subslide"
    }
   },
   "source": [
    "----------------------\n",
    "* The only legal slice comparison is against nil"
   ]
  },
  {
   "cell_type": "code",
   "execution_count": 33,
   "metadata": {
    "slideshow": {
     "slide_type": "fragment"
    }
   },
   "outputs": [],
   "source": [
    "%%\n",
    "if summer == nil {}"
   ]
  },
  {
   "cell_type": "code",
   "execution_count": 34,
   "metadata": {
    "slideshow": {
     "slide_type": "subslide"
    }
   },
   "outputs": [
    {
     "name": "stdout",
     "output_type": "stream",
     "text": [
      "0 true\n",
      "0 true\n",
      "0 true\n",
      "0 false\n"
     ]
    }
   ],
   "source": [
    "%%\n",
    "var s []int  \n",
    "fmt.Println(len(s), s==nil) //len(s)==0, s==nil\n",
    "s = nil\n",
    "fmt.Println(len(s), s==nil) //len(s)==0, s==nil\n",
    "s = []int(nil)\n",
    "fmt.Println(len(s), s==nil) //len(s)==0, s==nil\n",
    "s = []int{}\n",
    "fmt.Println(len(s), s==nil) //len(s)==0, s!=nil"
   ]
  },
  {
   "cell_type": "markdown",
   "metadata": {
    "slideshow": {
     "slide_type": "subslide"
    }
   },
   "source": [
    "------------------------\n",
    "* built-in append function appends items to slice"
   ]
  },
  {
   "cell_type": "code",
   "execution_count": 35,
   "metadata": {
    "slideshow": {
     "slide_type": "subslide"
    }
   },
   "outputs": [
    {
     "name": "stdout",
     "output_type": "stream",
     "text": [
      "['H' 'e' 'l' 'l' 'o' ',' ' ' '世' '界']\n"
     ]
    }
   ],
   "source": [
    "%%\n",
    "var runes []rune\n",
    "for _, r := range \"Hello, 世界\" {\n",
    "    runes = append(runes, r)\n",
    "}\n",
    "fmt.Printf(\"%q\\n\", runes)"
   ]
  },
  {
   "cell_type": "code",
   "execution_count": 36,
   "metadata": {
    "slideshow": {
     "slide_type": "fragment"
    }
   },
   "outputs": [
    {
     "name": "stdout",
     "output_type": "stream",
     "text": [
      "['H' 'e' 'l' 'l' 'o' ',' ' ' '世' '界']\n"
     ]
    }
   ],
   "source": [
    "%%\n",
    "//Using the built-in conversion\n",
    "runes := []rune(\"Hello, 世界\")\n",
    "fmt.Printf(\"%q\\n\", runes)"
   ]
  },
  {
   "cell_type": "code",
   "execution_count": 37,
   "metadata": {
    "code_folding": [],
    "slideshow": {
     "slide_type": "subslide"
    }
   },
   "outputs": [],
   "source": [
    "// See page 88.\n",
    "// Append illustrates the behavior of the built-in append function.\n",
    "//package main\n",
    "import \"fmt\"\n",
    "func appendslice(x []int, y ...int) []int {\n",
    "\tvar z []int\n",
    "\tzlen := len(x) + len(y)\n",
    "\tif zlen <= cap(x) {\n",
    "\t\t// There is room to expand the slice.\n",
    "\t\tz = x[:zlen]\n",
    "\t} else { \n",
    "\t\t// There is insufficient space.\n",
    "\t\t// Grow by doubling, for amortized linear complexity.\n",
    "\t\tzcap := zlen\n",
    "\t\tif zcap < 2*len(x) {\n",
    "\t\t\tzcap = 2 * len(x)\n",
    "\t\t}\n",
    "\t\tz = make([]int, zlen, zcap)\n",
    "\t\tcopy(z, x)\n",
    "\t}\n",
    "\tcopy(z[len(x):], y)\n",
    "\treturn z\n",
    "}\n",
    "//!+append\n",
    "func appendInt(x []int, y int) []int {\n",
    "\tvar z []int\n",
    "\tzlen := len(x) + 1\n",
    "\tif zlen <= cap(x) {\n",
    "\t\t// There is room to grow.  Extend the slice.\n",
    "\t\tz = x[:zlen]\n",
    "\t} else {\n",
    "\t\t// There is insufficient space.  Allocate a new array.\n",
    "\t\t// Grow by doubling, for amortized linear complexity.\n",
    "\t\tzcap := zlen\n",
    "\t\tif zcap < 2*len(x) {\n",
    "\t\t\tzcap = 2 * len(x)\n",
    "\t\t}\n",
    "\t\tz = make([]int, zlen, zcap)\n",
    "\t\tcopy(z, x) // a built-in function; see text\n",
    "\t}\n",
    "\tz[len(x)] = y\n",
    "\treturn z\n",
    "}"
   ]
  },
  {
   "cell_type": "code",
   "execution_count": 39,
   "metadata": {
    "code_folding": [],
    "slideshow": {
     "slide_type": "subslide"
    }
   },
   "outputs": [
    {
     "name": "stdout",
     "output_type": "stream",
     "text": [
      "0  cap=1, slice=0x1400009e018\t[0]\n",
      "1  cap=2, slice=0x1400009e040\t[0 1]\n",
      "2  cap=4, slice=0x140000b0020\t[0 1 2]\n",
      "3  cap=4, slice=0x140000b0020\t[0 1 2 3]\n",
      "4  cap=8, slice=0x140000a0080\t[0 1 2 3 4]\n",
      "5  cap=8, slice=0x140000a0080\t[0 1 2 3 4 5]\n",
      "6  cap=8, slice=0x140000a0080\t[0 1 2 3 4 5 6]\n",
      "7  cap=8, slice=0x140000a0080\t[0 1 2 3 4 5 6 7]\n",
      "8  cap=16, slice=0x140000b2000\t[0 1 2 3 4 5 6 7 8]\n",
      "9  cap=16, slice=0x140000b2000\t[0 1 2 3 4 5 6 7 8 9]\n"
     ]
    }
   ],
   "source": [
    "//!+growth\n",
    "import \"fmt\"\n",
    "func main() {\n",
    "\tvar x, y []int\n",
    "\tfor i := 0; i < 10; i++ {\n",
    "\t\ty = appendInt(x, i)\n",
    "        fmt.Printf(\"%d  cap=%d, slice=%p\\t%v\\n\", i, cap(y), y, y)\n",
    "\t\tx = y\n",
    "\t}\n",
    "}\n",
    "//main()"
   ]
  },
  {
   "cell_type": "code",
   "execution_count": 40,
   "metadata": {
    "slideshow": {
     "slide_type": "fragment"
    }
   },
   "outputs": [
    {
     "name": "stdout",
     "output_type": "stream",
     "text": [
      "[1 2 3]\n",
      "[1 2 3]\n"
     ]
    }
   ],
   "source": [
    "func test(y ...int){\n",
    "   fmt.Println(y)\n",
    "}\n",
    "%%\n",
    "var x []int = []int{1,2,3}\n",
    "//test(x)\n",
    "test(1,2,3)\n",
    "//test(x)\n",
    "test(x...)"
   ]
  },
  {
   "cell_type": "code",
   "execution_count": 41,
   "metadata": {
    "slideshow": {
     "slide_type": "subslide"
    }
   },
   "outputs": [
    {
     "name": "stdout",
     "output_type": "stream",
     "text": [
      "[1 2 3 4 5 6 1 2 3 4 5 6]\n"
     ]
    }
   ],
   "source": [
    "%%\n",
    "var x []int\n",
    "x = append(x,1)\n",
    "x = append(x, 2, 3)\n",
    "x = append(x, 4, 5, 6)\n",
    "x = append(x, x...)\n",
    "//x = append(x, 2, 3, x...)\n",
    "fmt.Println(x)"
   ]
  },
  {
   "cell_type": "code",
   "execution_count": 42,
   "metadata": {},
   "outputs": [
    {
     "name": "stdout",
     "output_type": "stream",
     "text": [
      "[1]\n",
      "[1 2 3]\n",
      "[1 2 3 4 5 6 1 2 3 4 5 6]\n"
     ]
    }
   ],
   "source": [
    "func appendInt(x []int, y ...int) []int {\n",
    "    var z []int \n",
    "    zlen := len(x) + len(y)\n",
    "    z = make([]int, zlen)\n",
    "    copy(z,x)\n",
    "    copy(z[len(x):], y)\n",
    "    return z\n",
    "}\n",
    "%%\n",
    "var x []int\n",
    "x = appendInt(x,1)\n",
    "fmt.Println(x)\n",
    "x = appendInt(x, 2, 3)\n",
    "fmt.Println(x)\n",
    "x = appendInt(x, 4, 5, 6)\n",
    "x = appendInt(x, x...)\n",
    "fmt.Println(x)"
   ]
  },
  {
   "cell_type": "markdown",
   "metadata": {
    "slideshow": {
     "slide_type": "fragment"
    }
   },
   "source": [
    "<table>\n",
    "    <tr><td>\n",
    "        <img src=\"https://skhuang.github.io/f4-2.png\"></td><td><img src=\"https://skhuang.github.io/f4-3.png\"></td></tr>\n",
    "</table>"
   ]
  },
  {
   "cell_type": "markdown",
   "metadata": {
    "slideshow": {
     "slide_type": "subslide"
    }
   },
   "source": [
    "### In-Place Slice Techniques"
   ]
  },
  {
   "cell_type": "markdown",
   "metadata": {
    "slideshow": {
     "slide_type": "fragment"
    }
   },
   "source": [
    "* Modify the elements of a slice in place\n",
    "* nonempty() returns a slice holding only the non-empty strings"
   ]
  },
  {
   "cell_type": "code",
   "execution_count": 43,
   "metadata": {
    "slideshow": {
     "slide_type": "fragment"
    }
   },
   "outputs": [
    {
     "name": "stdout",
     "output_type": "stream",
     "text": [
      "[\"one\" \"three\"]\n",
      "[\"one\" \"three\" \"three\"]\n"
     ]
    }
   ],
   "source": [
    "import \"fmt\"\n",
    "func nonempty(strings []string) []string {\n",
    "    i := 0\n",
    "    for _, s := range strings {\n",
    "        if s != \"\" {\n",
    "            strings[i] = s\n",
    "            i++\n",
    "        }\n",
    "    }\n",
    "    return strings[:i]\n",
    "}\n",
    "%%\n",
    "data := []string{\"one\", \"\", \"three\"}\n",
    "//fmt.Printf(\"%q\\n\", data)\n",
    "fmt.Printf(\"%q\\n\", nonempty(data))\n",
    "fmt.Printf(\"%q\\n\", data) //data has been modified in nonempty, try to print before calling nonempty"
   ]
  },
  {
   "cell_type": "code",
   "execution_count": 44,
   "metadata": {
    "slideshow": {
     "slide_type": "subslide"
    }
   },
   "outputs": [
    {
     "name": "stdout",
     "output_type": "stream",
     "text": [
      "[\"one\" \"three\"]\n",
      "[\"one\" \"three\" \"three\"]\n"
     ]
    }
   ],
   "source": [
    "// nonempty using append\n",
    "func nonempty2(strings []string) []string {\n",
    "    out := strings[:0] // zero-length slice of original\n",
    "    for _, s := range strings {\n",
    "        if s != \"\" {\n",
    "            out = append(out,s)\n",
    "        }\n",
    "    }\n",
    "    return out\n",
    "}\n",
    "%%\n",
    "data := []string{\"one\", \"\", \"three\"}\n",
    "//fmt.Printf(\"%q\\n\", data)\n",
    "fmt.Printf(\"%q\\n\", nonempty2(data))\n",
    "fmt.Printf(\"%q\\n\", data)"
   ]
  },
  {
   "cell_type": "markdown",
   "metadata": {
    "slideshow": {
     "slide_type": "subslide"
    }
   },
   "source": [
    "* Use a slice to implement a stack"
   ]
  },
  {
   "cell_type": "code",
   "execution_count": 45,
   "metadata": {
    "slideshow": {
     "slide_type": "fragment"
    }
   },
   "outputs": [
    {
     "name": "stdout",
     "output_type": "stream",
     "text": [
      "[\"first\"], []string\n",
      "[\"first\"], first\n",
      "[]\n"
     ]
    }
   ],
   "source": [
    "%%\n",
    "stack := make([]string,1024)\n",
    "stack = stack[:0]\n",
    "v := \"first\"\n",
    "stack = append(stack, v) // push v\n",
    "fmt.Printf(\"%q, %T\\n\",stack, stack)\n",
    "top := stack[len(stack)-1]\n",
    "fmt.Printf(\"%q, %s\\n\",stack,top)\n",
    "stack = stack[:len(stack)-1] //pop\n",
    "fmt.Printf(\"%q\\n\",stack)"
   ]
  },
  {
   "cell_type": "markdown",
   "metadata": {
    "slideshow": {
     "slide_type": "subslide"
    }
   },
   "source": [
    "* Remove an element from the middle of a slice, preserving the order"
   ]
  },
  {
   "cell_type": "code",
   "execution_count": 46,
   "metadata": {
    "slideshow": {
     "slide_type": "fragment"
    }
   },
   "outputs": [
    {
     "name": "stdout",
     "output_type": "stream",
     "text": [
      "[5 7 8 9]\n",
      "[5 7 9 9]\n"
     ]
    }
   ],
   "source": [
    "func remove(slice []int, i int) []int {\n",
    "    copy(slice[i:], slice[i+1:])\n",
    "    return slice[:len(slice)-1]\n",
    "}\n",
    "%%\n",
    "s := []int{5,6,7,8,9}\n",
    "fmt.Println(remove(s,1))\n",
    "fmt.Println(remove(s,2))"
   ]
  },
  {
   "cell_type": "markdown",
   "metadata": {
    "slideshow": {
     "slide_type": "subslide"
    }
   },
   "source": [
    "* Remove an element without preserving the order"
   ]
  },
  {
   "cell_type": "code",
   "execution_count": 47,
   "metadata": {
    "slideshow": {
     "slide_type": "fragment"
    }
   },
   "outputs": [
    {
     "name": "stdout",
     "output_type": "stream",
     "text": [
      "[5 9 7 8]\n"
     ]
    }
   ],
   "source": [
    "func remove(slice []int, i int) [] int {\n",
    "    slice[i] = slice[len(slice)-1]\n",
    "    return slice[:len(slice)-1]\n",
    "}\n",
    "%%\n",
    "s := []int{5,6,7,8,9}\n",
    "fmt.Println(remove(s,1))"
   ]
  },
  {
   "cell_type": "markdown",
   "metadata": {
    "slideshow": {
     "slide_type": "slide"
    }
   },
   "source": [
    "## 4.3 Maps"
   ]
  },
  {
   "cell_type": "markdown",
   "metadata": {
    "slideshow": {
     "slide_type": "fragment"
    }
   },
   "source": [
    "* The hash table is an unordered collection of key/value pairs \n",
    "* All the keys are distinct, and the value associated with a given key can be retrieved, updated, or removed \n",
    "* in Go, a map is a reference to a hash table, and a map type is written map[K]V, where K and V are the types of its keys and values"
   ]
  },
  {
   "cell_type": "code",
   "execution_count": 61,
   "metadata": {
    "code_folding": [],
    "scrolled": true,
    "slideshow": {
     "slide_type": "fragment"
    }
   },
   "outputs": [
    {
     "name": "stdout",
     "output_type": "stream",
     "text": [
      "map[\"alice\":'\\x1f' \"charlie\":'\"'], 34\n",
      "map[\"alice\":'\\x1f' \"charlie\":'\"'], 34\n",
      "32\n",
      "0\n",
      "0\n",
      "0\n",
      "0 true\n",
      "0 false\n"
     ]
    }
   ],
   "source": [
    "import \"fmt\"\n",
    "var ages = make(map[string]int) // mapping from string to ints\n",
    "%%\n",
    "ages[\"alice\"] = 31\n",
    "ages[\"charlie\"] = 34\n",
    "fmt.Printf(\"%q, %d\\n\", ages, ages[\"charlie\"])\n",
    "ages = map[string]int { //map literal to create a new map with some initial key/value pairs\n",
    "    \"alice\": 31,\n",
    "    \"charlie\": 34,\n",
    "}\n",
    "fmt.Printf(\"%q, %d\\n\", ages, ages[\"charlie\"])\n",
    "ages[\"alice\"] = 32\n",
    "fmt.Println(ages[\"alice\"])\n",
    "delete(ages,\"alice\") //remove element ages[\"alice\"]\n",
    "fmt.Println(ages[\"alice\"])\n",
    "fmt.Println(ages[\"bob\"])\n",
    "ages[\"alice\"] = 0\n",
    "fmt.Println(ages[\"alice\"])\n",
    "v, b := ages[\"alice\"]\n",
    "fmt.Println(v,b)\n",
    "v, b = ages[\"bob\"]\n",
    "fmt.Println(v,b)"
   ]
  },
  {
   "cell_type": "code",
   "execution_count": 65,
   "metadata": {
    "slideshow": {
     "slide_type": "subslide"
    }
   },
   "outputs": [
    {
     "name": "stdout",
     "output_type": "stream",
     "text": [
      "0\n",
      "3\n"
     ]
    }
   ],
   "source": [
    "import \"fmt\"\n",
    "%%\n",
    "fmt.Println(ages[\"bob\"])\n",
    "ages[\"bob\"] = ages[\"bob\"] + 1\n",
    "ages[\"bob\"] += 1\n",
    "ages[\"bob\"] ++\n",
    "fmt.Println(ages[\"bob\"])"
   ]
  },
  {
   "cell_type": "code",
   "execution_count": 50,
   "metadata": {
    "slideshow": {
     "slide_type": "subslide"
    }
   },
   "outputs": [
    {
     "data": {
      "text/html": [
       "\n",
       "<style>\n",
       ".gonb-err-location {\n",
       "\tbackground: var(--jp-err-color2);  \n",
       "\tborder-radius: 3px;\n",
       "\tborder-style: dotted;\n",
       "\tborder-width: 1px;\n",
       "\tborder-color: var(--jp-border-color2);\n",
       "}\n",
       ".gonb-err-location:hover {\n",
       "\tborder-width: 2px;\n",
       "\tborder-style: solid;\n",
       "\tborder-color: var(--jp-border-color2);\n",
       "}\n",
       ".gonb-err-context {\n",
       "\tdisplay: none;\n",
       "}\n",
       ".gonb-err-location:hover + .gonb-err-context {\n",
       "\tbackground: var(--jp-dialog-background);  \n",
       "\tborder-radius: 3px;\n",
       "\tborder-style: solid;\n",
       "\tborder-width: 1px;\n",
       "\tborder-color: var(--jp-border-color2);\n",
       "\tdisplay: block;\n",
       "\twhite-space: pre;\n",
       "\tfont-family: monospace;\n",
       "}\n",
       ".gonb-err-line {\n",
       "\tborder-radius: 3px;\n",
       "\tborder-style: dotted;\n",
       "\tborder-width: 1px;\t\n",
       "\tborder-color: var(--jp-border-color2);\n",
       "\tbackground-color: var(--jp-rendermime-err-background);\n",
       "\tfont-weight: bold;\n",
       "}\n",
       ".gonb-cell-line-info {\n",
       "\tbackground: var(--jp-layout-color2);\n",
       "\tcolor: #999;\n",
       "\tmargin: 0.1em;\n",
       "\tborder: 1px solid var(--jp-border-color1);\n",
       "\tpadding-left: 0.2em;\n",
       "\tpadding-right: 0.2em;\n",
       "}\n",
       "</style>\n",
       "<div class=\"lm-Widget p-Widget lm-Panel p-Panel jp-OutputArea-child\">\n",
       "<div class=\"lm-Widget p-Widget jp-RenderedText jp-mod-trusted jp-OutputArea-output\" data-mime-type=\"application/vnd.jupyter.stderr\" style=\"font-family: monospace;\">\n",
       "\n",
       "\n",
       "<span style=\"white-space: pre;\"> # gonb_1b5ef3f4</span>\n",
       "\n",
       "<br/>\n",
       "\n",
       "<span class=\"gonb-cell-line-info\">Cell[50]: Line 3</span>\n",
       "<span class=\"gonb-err-location\">./main.go:112:6: </span> invalid operation: cannot take address of ages[\"bob\"] (map index expression of type int)\n",
       "<div class=\"gonb-err-context\">\n",
       "func main() {\n",
       "\tflag.Parse()\n",
       "\t//A map element is not a variable and we cannot take its address\n",
       "<div class=\"gonb-err-line\">\t_= &amp;ages[&#34;bob&#34;]\n",
       "</div>\n",
       "}\n",
       "\n",
       "</div>\n",
       "\n",
       "<br/>\n",
       "\n",
       "\n",
       "<span style=\"white-space: pre;\"> </span>\n",
       "\n",
       "<br/>\n",
       "\n",
       "</div>\n"
      ]
     },
     "metadata": {},
     "output_type": "display_data"
    },
    {
     "ename": "ERROR",
     "evalue": "failed to run \"/opt/homebrew/bin/go build -o /var/folders/4d/tg201k8x6yb81f_lrvt4440m0000gn/T/gonb_1b5ef3f4/gonb_1b5ef3f4\": exit status 1",
     "output_type": "error",
     "traceback": [
      "failed to run \"/opt/homebrew/bin/go build -o /var/folders/4d/tg201k8x6yb81f_lrvt4440m0000gn/T/gonb_1b5ef3f4/gonb_1b5ef3f4\": exit status 1"
     ]
    }
   ],
   "source": [
    "%%\n",
    "//A map element is not a variable and we cannot take its address\n",
    "_= &ages[\"bob\"]"
   ]
  },
  {
   "cell_type": "code",
   "execution_count": 66,
   "metadata": {
    "slideshow": {
     "slide_type": "subslide"
    }
   },
   "outputs": [],
   "source": [
    "%%\n",
    "// To enumerate all the key/pairs in the map, use range for loop\n",
    "for name, age := range ages {\n",
    "    fmt.Printf(\"%s\\t%d\\n\", name, age)\n",
    "}"
   ]
  },
  {
   "cell_type": "code",
   "execution_count": 67,
   "metadata": {
    "code_folding": [],
    "slideshow": {
     "slide_type": "subslide"
    }
   },
   "outputs": [
    {
     "name": "stdout",
     "output_type": "stream",
     "text": [
      "map[\"apple\":'\\x03']\n",
      "apple\t3\n",
      "apple\t3\n"
     ]
    }
   ],
   "source": [
    "//The order of map iteration is unspecified\n",
    "//To enumerate the key/value pairs in order, we must sort the key\n",
    "import \"sort\"\n",
    "%%\n",
    "ages[\"apple\"] = 3\n",
    "fmt.Printf(\"%q\\n\", ages)\n",
    "var names []string\n",
    "for name := range ages {\n",
    "    names = append(names, name)\n",
    "}\n",
    "for _,name := range names {\n",
    "    fmt.Printf(\"%s\\t%d\\n\",name, ages[name])\n",
    "}\n",
    "sort.Strings(names)\n",
    "for _,name := range names {\n",
    "    fmt.Printf(\"%s\\t%d\\n\",name, ages[name])\n",
    "}"
   ]
  },
  {
   "cell_type": "code",
   "execution_count": 68,
   "metadata": {
    "slideshow": {
     "slide_type": "subslide"
    }
   },
   "outputs": [
    {
     "name": "stdout",
     "output_type": "stream",
     "text": [
      "true\n",
      "true\n"
     ]
    }
   ],
   "source": [
    "// hash map must be allocated\n",
    "%%\n",
    "var ages map[string]int\n",
    "fmt.Println( ages == nil)\n",
    "fmt.Println(len(ages)==0)"
   ]
  },
  {
   "cell_type": "code",
   "execution_count": 72,
   "metadata": {
    "slideshow": {
     "slide_type": "subslide"
    }
   },
   "outputs": [],
   "source": [
    "%%\n",
    "ages = make(map[string]int)\n",
    "ages[\"carol\"] = 21"
   ]
  },
  {
   "cell_type": "code",
   "execution_count": 73,
   "metadata": {
    "slideshow": {
     "slide_type": "subslide"
    }
   },
   "outputs": [
    {
     "name": "stdout",
     "output_type": "stream",
     "text": [
      "map[carol:21]\n"
     ]
    }
   ],
   "source": [
    "%%\n",
    "ages := make(map[string]int)\n",
    "ages[\"carol\"] = 21\n",
    "fmt.Println(ages)"
   ]
  },
  {
   "cell_type": "code",
   "execution_count": 71,
   "metadata": {
    "slideshow": {
     "slide_type": "subslide"
    }
   },
   "outputs": [
    {
     "name": "stdout",
     "output_type": "stream",
     "text": [
      "0 false\n",
      "0 true\n",
      "0 true\n"
     ]
    }
   ],
   "source": [
    "//to distinguish between a nonexistent element (o) and an element that happens to \n",
    "//have the value zero\n",
    "%%\n",
    "ages = make(map[string]int)\n",
    "age, ok := ages[\"bob\"]\n",
    "if !ok {/* bob is not a key */}\n",
    "fmt.Println(age, ok)\n",
    "ages[\"bob\"] = 0\n",
    "age, ok = ages[\"bob\"]\n",
    "fmt.Println(age, ok)\n",
    "if age, ok = ages[\"bob\"]; !ok {\n",
    "    /* ... */\n",
    "} else {\n",
    "    fmt.Println(age, ok)\n",
    "}"
   ]
  },
  {
   "cell_type": "code",
   "execution_count": 69,
   "metadata": {
    "slideshow": {
     "slide_type": "subslide"
    }
   },
   "outputs": [
    {
     "name": "stdout",
     "output_type": "stream",
     "text": [
      "false\n",
      "true\n"
     ]
    }
   ],
   "source": [
    "func equal(x, y map[string]int) bool {\n",
    "    if len(x) != len(y) {\n",
    "        return false\n",
    "    }\n",
    "    for k,xv := range x {\n",
    "        if yv,ok := y[k]; !ok || yv != xv {\n",
    "        //if y[k] != xv {\n",
    "            return false\n",
    "        }\n",
    "    }\n",
    "    return true\n",
    "}\n",
    "%%\n",
    "fmt.Println(equal(map[string]int{\"A\":0}, map[string]int{\"B\":42}))\n",
    "fmt.Println(equal(map[string]int{\"A\":0, \"B\":42}, map[string]int{\"B\":42,\"A\":0}))"
   ]
  },
  {
   "cell_type": "markdown",
   "metadata": {
    "slideshow": {
     "slide_type": "subslide"
    }
   },
   "source": [
    "dup.txt\n",
    "<pre>\n",
    "設計\n",
    "實作\n",
    "設計\n",
    "程式\n",
    "語言\n",
    "英文\n",
    "design\n",
    "design\n",
    "base\n",
    "key\n",
    "design\n",
    "zero\n",
    "first\n",
    "time\n",
    "key\n",
    "first\n",
    "second\n",
    "base\n",
    "design\n",
    "first\n",
    "</pre>"
   ]
  },
  {
   "cell_type": "code",
   "execution_count": 75,
   "metadata": {
    "code_folding": [
     5,
     15,
     17,
     24,
     32
    ],
    "slideshow": {
     "slide_type": "subslide"
    }
   },
   "outputs": [
    {
     "name": "stdout",
     "output_type": "stream",
     "text": [
      "設計\n",
      "實作\n",
      "程式\n",
      "語言\n",
      "英文\n",
      "design\n",
      "base\n",
      "key\n",
      "zero\n",
      "first\n",
      "time\n",
      "second\n"
     ]
    }
   ],
   "source": [
    "// Copyright © 2016 Alan A. A. Donovan & Brian W. Kernighan.\n",
    "// License: https://creativecommons.org/licenses/by-nc-sa/4.0/\n",
    "\n",
    "// See page 96.\n",
    "\n",
    "// Dedup prints only one instance of each line; duplicates are removed.\n",
    "//package main\n",
    "\n",
    "import (\n",
    "\t\"bufio\"\n",
    "\t\"fmt\"\n",
    "\t\"os\"\n",
    ")\n",
    "\n",
    "//!+\n",
    "func main() {\n",
    "\tfile, err := os.Open(\"dup.txt\")\n",
    "    if err != nil {\n",
    "        //log.Fatal(err)\n",
    "        fmt.Fprintf(os.Stderr, \"%v\\n\", err)\n",
    "    }\n",
    "    seen := make(map[string]bool) // a set of strings\n",
    "\t//input := bufio.NewScanner(os.Stdin)\n",
    "    input := bufio.NewScanner(file)\n",
    "\tfor input.Scan() {\n",
    "\t\tline := input.Text()\n",
    "\t\tif !seen[line] {\n",
    "\t\t\tseen[line] = true\n",
    "\t\t\tfmt.Println(line)\n",
    "\t\t}\n",
    "\t}\n",
    "\n",
    "\tif err := input.Err(); err != nil {\n",
    "\t\tfmt.Fprintf(os.Stderr, \"dedup: %v\\n\", err)\n",
    "\t\tos.Exit(1)\n",
    "\t}\n",
    "}\n",
    "\n",
    "//!-\n",
    "//main()"
   ]
  },
  {
   "cell_type": "code",
   "execution_count": 76,
   "metadata": {
    "slideshow": {
     "slide_type": "subslide"
    }
   },
   "outputs": [
    {
     "name": "stdout",
     "output_type": "stream",
     "text": [
      "map[[\"first\" \"second\"]:1 [\"third\" \"fourth\"]:1]\n",
      "map[[\"first\" \"second\"]:2 [\"third\" \"fourth\"]:1]\n"
     ]
    }
   ],
   "source": [
    "var m = make(map[string]int)\n",
    "func k(list []string) string {return fmt.Sprintf(\"%q\", list)}\n",
    "func Add(list []string) { m[k(list)]++}\n",
    "func Count(list []string) int { return m[k(list)]}\n",
    "%%\n",
    "alist := []string{\"first\",\"second\"}\n",
    "blist := []string{\"third\",\"fourth\"}\n",
    "Add(alist)\n",
    "Add(blist)\n",
    "fmt.Println(m)\n",
    "Add(alist)\n",
    "Count(alist)\n",
    "fmt.Println(m)"
   ]
  },
  {
   "cell_type": "code",
   "execution_count": 77,
   "metadata": {
    "code_folding": [
     23,
     29,
     31,
     34,
     46,
     50,
     55
    ],
    "slideshow": {
     "slide_type": "subslide"
    }
   },
   "outputs": [
    {
     "name": "stdout",
     "output_type": "stream",
     "text": [
      "rune\tcount\n",
      "'言'\t1\n",
      "'a'\t2\n",
      "'作'\t1\n",
      "'語'\t1\n",
      "'d'\t5\n",
      "'z'\t1\n",
      "'o'\t2\n",
      "'f'\t3\n",
      "'程'\t1\n",
      "'i'\t8\n",
      "'b'\t2\n",
      "'設'\t2\n",
      "'式'\t1\n",
      "'g'\t4\n",
      "'k'\t2\n",
      "'m'\t1\n",
      "'英'\t1\n",
      "'c'\t1\n",
      "'計'\t2\n",
      "'\\n'\t20\n",
      "'e'\t11\n",
      "'s'\t10\n",
      "'n'\t5\n",
      "'r'\t4\n",
      "'實'\t1\n",
      "'文'\t1\n",
      "'t'\t4\n",
      "'y'\t2\n",
      "\n",
      "len\tcount\n",
      "1\t87\n",
      "2\t0\n",
      "3\t12\n",
      "4\t0\n"
     ]
    }
   ],
   "source": [
    "// Copyright © 2016 Alan A. A. Donovan & Brian W. Kernighan.\n",
    "// License: https://creativecommons.org/licenses/by-nc-sa/4.0/\n",
    "\n",
    "// See page 97.\n",
    "//!+\n",
    "\n",
    "// Charcount computes counts of Unicode characters.\n",
    "//package main\n",
    "\n",
    "import (\n",
    "\t\"bufio\"\n",
    "\t\"fmt\"\n",
    "\t\"io\"\n",
    "\t\"os\"\n",
    "\t\"unicode\"\n",
    "\t\"unicode/utf8\"\n",
    ")\n",
    "\n",
    "func main() {\n",
    "\tcounts := make(map[rune]int)    // counts of Unicode characters\n",
    "\tvar utflen [utf8.UTFMax + 1]int // count of lengths of UTF-8 encodings\n",
    "\tinvalid := 0                    // count of invalid UTF-8 characters\n",
    "    file, err := os.Open(\"dup.txt\")\n",
    "    if err != nil {\n",
    "        //log.Fatal(err)\n",
    "        fmt.Fprintf(os.Stderr, \"%v\\n\", err)\n",
    "    }\n",
    "\t//in := bufio.NewReader(os.Stdin)\n",
    "    in := bufio.NewReader(file)\n",
    "\tfor {\n",
    "\t\tr, n, err := in.ReadRune() // returns rune, nbytes, error\n",
    "\t\tif err == io.EOF {\n",
    "\t\t\tbreak\n",
    "\t\t}\n",
    "\t\tif err != nil {\n",
    "\t\t\tfmt.Fprintf(os.Stderr, \"charcount: %v\\n\", err)\n",
    "\t\t\tos.Exit(1)\n",
    "\t\t}\n",
    "\t\tif r == unicode.ReplacementChar && n == 1 {\n",
    "\t\t\tinvalid++\n",
    "\t\t\tcontinue\n",
    "\t\t}\n",
    "\t\tcounts[r]++\n",
    "\t\tutflen[n]++\n",
    "\t}\n",
    "\tfmt.Printf(\"rune\\tcount\\n\")\n",
    "\tfor c, n := range counts {\n",
    "\t\tfmt.Printf(\"%q\\t%d\\n\", c, n)\n",
    "\t}\n",
    "\tfmt.Print(\"\\nlen\\tcount\\n\")\n",
    "\tfor i, n := range utflen {\n",
    "\t\tif i > 0 {\n",
    "\t\t\tfmt.Printf(\"%d\\t%d\\n\", i, n)\n",
    "\t\t}\n",
    "\t}\n",
    "\tif invalid > 0 {\n",
    "\t\tfmt.Printf(\"\\n%d invalid UTF-8 characters\\n\", invalid)\n",
    "\t}\n",
    "}\n",
    "\n",
    "//main()\n",
    "//!-"
   ]
  },
  {
   "cell_type": "code",
   "execution_count": 98,
   "metadata": {
    "slideshow": {
     "slide_type": "subslide"
    }
   },
   "outputs": [
    {
     "name": "stdout",
     "output_type": "stream",
     "text": [
      "true\n",
      "true\n",
      "true\n",
      "true\n",
      "false\n",
      "true\n",
      "false\n",
      "false\n",
      "map[a:map[b:true c:true d:true] c:map[d:true] d:map[a:true e:true] e:map[f:true]]\n"
     ]
    }
   ],
   "source": [
    "import \"fmt\"\n",
    "var graph = make(map[string]map[string]bool)\n",
    "func addEdge(from, to string) {\n",
    "\tedges := graph[from]\n",
    "\tif edges == nil {\n",
    "\t\tedges = make(map[string]bool)\n",
    "\t\tgraph[from] = edges\n",
    "\t}\n",
    "\tedges[to] = true\n",
    "}\n",
    "func hasEdge(from, to string) bool {\n",
    "\treturn graph[from][to]\n",
    "}\n",
    "func createGraph() {\n",
    "\taddEdge(\"a\", \"b\")\n",
    "\taddEdge(\"c\", \"d\")\n",
    "\taddEdge(\"a\", \"d\")\n",
    "\taddEdge(\"d\", \"a\")\n",
    "    addEdge(\"a\", \"c\")\n",
    "    addEdge(\"d\", \"e\")\n",
    "    addEdge(\"e\", \"f\")\n",
    "\tfmt.Println(hasEdge(\"a\", \"b\"))\n",
    "\tfmt.Println(hasEdge(\"c\", \"d\"))\n",
    "\tfmt.Println(hasEdge(\"a\", \"d\"))\n",
    "\tfmt.Println(hasEdge(\"d\", \"a\"))\n",
    "\tfmt.Println(hasEdge(\"x\", \"b\"))\n",
    "\tfmt.Println(hasEdge(\"c\", \"d\"))\n",
    "\tfmt.Println(hasEdge(\"x\", \"d\"))\n",
    "\tfmt.Println(hasEdge(\"d\", \"x\")) \n",
    "    fmt.Println(graph)\n",
    "\n",
    "}\n",
    "func main(){\n",
    "    createGraph()\n",
    "}\n",
    "//main()"
   ]
  },
  {
   "cell_type": "code",
   "execution_count": 100,
   "metadata": {
    "slideshow": {
     "slide_type": "subslide"
    }
   },
   "outputs": [
    {
     "name": "stdout",
     "output_type": "stream",
     "text": [
      "true\n",
      "true\n",
      "true\n",
      "true\n",
      "false\n",
      "true\n",
      "false\n",
      "false\n",
      "map[a:map[b:true c:true d:true] c:map[d:true] d:map[a:true e:true] e:map[f:true]]\n",
      "map[a:map[b:true c:true d:true] c:map[d:true] d:map[a:true e:true] e:map[f:true]]\n",
      "c => d\n",
      "d => e\n",
      "d => a\n",
      "e => f\n",
      "a => b\n",
      "a => d\n",
      "a => c\n"
     ]
    }
   ],
   "source": [
    "var visited = make(map[string]map[string]bool)\n",
    "func traversal() {\n",
    "    for edge := range graph {\n",
    "        //fmt.Printf(\"%T\",graph[edge])\n",
    "        for toedge := range graph[edge] {\n",
    "            if hasEdge(edge,toedge) && !visited[edge][toedge]{\n",
    "                visited[edge] = make(map[string]bool)\n",
    "                visited[edge][toedge] = true\n",
    "                fmt.Println(edge,\"=>\",toedge)\n",
    "            }\n",
    "            \n",
    "        }\n",
    "    }\n",
    "}\n",
    "%%\n",
    "createGraph()\n",
    "fmt.Println(graph)\n",
    "traversal()"
   ]
  },
  {
   "cell_type": "markdown",
   "metadata": {
    "slideshow": {
     "slide_type": "skip"
    }
   },
   "source": [
    "## 4.4 Structs"
   ]
  },
  {
   "cell_type": "markdown",
   "metadata": {
    "slideshow": {
     "slide_type": "skip"
    }
   },
   "source": [
    "## 4.5 JSON"
   ]
  },
  {
   "cell_type": "markdown",
   "metadata": {
    "slideshow": {
     "slide_type": "skip"
    }
   },
   "source": [
    "## 4.6 Text and HTML Templates"
   ]
  }
 ],
 "metadata": {
  "celltoolbar": "Slideshow",
  "kernelspec": {
   "display_name": "Go (gonb)",
   "language": "go",
   "name": "gonb"
  },
  "language_info": {
   "codemirror_mode": "",
   "file_extension": ".go",
   "mimetype": "",
   "name": "go",
   "nbconvert_exporter": "",
   "pygments_lexer": "",
   "version": "go1.21.1"
  },
  "rise": {
   "enable_chalkboard": true,
   "scroll": true
  },
  "toc": {
   "base_numbering": 1,
   "nav_menu": {},
   "number_sections": false,
   "sideBar": false,
   "skip_h1_title": false,
   "title_cell": "Table of Contents",
   "title_sidebar": "Contents",
   "toc_cell": false,
   "toc_position": {
    "height": "320.6px",
    "left": "29px",
    "top": "97.8px",
    "width": "158.6px"
   },
   "toc_section_display": true,
   "toc_window_display": false
  }
 },
 "nbformat": 4,
 "nbformat_minor": 4
}
