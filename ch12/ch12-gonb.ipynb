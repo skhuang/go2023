{
 "cells": [
  {
   "cell_type": "markdown",
   "metadata": {
    "toc": true
   },
   "source": [
    "<h1>Table of Contents<span class=\"tocSkip\"></span></h1>\n",
    "<div class=\"toc\"><ul class=\"toc-item\"><li><span><a href=\"#Reflection\" data-toc-modified-id=\"Reflection-12\"><span class=\"toc-item-num\">12&nbsp;&nbsp;</span>Reflection</a></span><ul class=\"toc-item\"><li><span><a href=\"#Why-Reflection?\" data-toc-modified-id=\"Why-Reflection?-12.1\"><span class=\"toc-item-num\">12.1&nbsp;&nbsp;</span>Why Reflection?</a></span><ul class=\"toc-item\"><li><span><a href=\"#fmt.Fprintf-example\" data-toc-modified-id=\"fmt.Fprintf-example-12.1.1\"><span class=\"toc-item-num\">12.1.1&nbsp;&nbsp;</span>fmt.Fprintf example</a></span></li><li><span><a href=\"#how-do-we-deal-with\" data-toc-modified-id=\"how-do-we-deal-with-12.1.2\"><span class=\"toc-item-num\">12.1.2&nbsp;&nbsp;</span>how do we deal with</a></span></li></ul></li><li><span><a href=\"#reflect.Type-and-reflect.Value\" data-toc-modified-id=\"reflect.Type-and-reflect.Value-12.2\"><span class=\"toc-item-num\">12.2&nbsp;&nbsp;</span>reflect.Type and reflect.Value</a></span></li><li><span><a href=\"#Display,-a-Recursive-Value-Printer\" data-toc-modified-id=\"Display,-a-Recursive-Value-Printer-12.3\"><span class=\"toc-item-num\">12.3&nbsp;&nbsp;</span>Display, a Recursive Value Printer</a></span></li><li><span><a href=\"#Example:-Encoding-S-Expressions\" data-toc-modified-id=\"Example:-Encoding-S-Expressions-12.4\"><span class=\"toc-item-num\">12.4&nbsp;&nbsp;</span>Example: Encoding S-Expressions</a></span></li><li><span><a href=\"#Setting-Variables-with-reflect.Value\" data-toc-modified-id=\"Setting-Variables-with-reflect.Value-12.5\"><span class=\"toc-item-num\">12.5&nbsp;&nbsp;</span>Setting Variables with reflect.Value</a></span></li><li><span><a href=\"#Example:-Decoding-S-Expressions\" data-toc-modified-id=\"Example:-Decoding-S-Expressions-12.6\"><span class=\"toc-item-num\">12.6&nbsp;&nbsp;</span>Example: Decoding S-Expressions</a></span></li><li><span><a href=\"#Accessing-Struct-Field-Tags\" data-toc-modified-id=\"Accessing-Struct-Field-Tags-12.7\"><span class=\"toc-item-num\">12.7&nbsp;&nbsp;</span>Accessing Struct Field Tags</a></span></li><li><span><a href=\"#Displaying-the-Methods-of-a-Type\" data-toc-modified-id=\"Displaying-the-Methods-of-a-Type-12.8\"><span class=\"toc-item-num\">12.8&nbsp;&nbsp;</span>Displaying the Methods of a Type</a></span></li></ul></li></ul></div>"
   ]
  },
  {
   "cell_type": "markdown",
   "metadata": {},
   "source": [
    "# Reflection"
   ]
  },
  {
   "cell_type": "markdown",
   "metadata": {},
   "source": [
    "* A mechanism to update variables and inspect their values at run time\n",
    "  * call their methods\n",
    "  * apply operations to their representation\n",
    "  * without knowing their types at compile time\n",
    "* Treat types as first-class values\n",
    "* Crucial to APIs\n",
    "  * fmt\n",
    "  * encoding/json and encoding/xml\n",
    "  * text/template and html/template"
   ]
  },
  {
   "cell_type": "markdown",
   "metadata": {},
   "source": [
    "## Why Reflection?\n",
    "* Dealing with values of types\n",
    "  * don’t satisfy a common interface\n",
    "  * don’t have a known representation\n",
    "  * don’t exist at the time we design the function\n",
    "* fmt.Printf and fmt.Sprintf\n",
    "  * fmt.Printf: print arbitrary value of any type (including user-defined one)\n",
    "  * try to implement fmt.Sprintf\n"
   ]
  },
  {
   "cell_type": "markdown",
   "metadata": {},
   "source": [
    "### fmt.Fprintf example\n",
    "* arbitrary value of any type, including user-defined one\n",
    "* implement a function like fmt.Fprintf, called it Sprint (like fmt.Sprint)\n",
    "* type switch and test the dynamic type of basic types - string, int, and bool"
   ]
  },
  {
   "cell_type": "code",
   "execution_count": 7,
   "metadata": {},
   "outputs": [],
   "source": [
    "func Sprint(x interface{}) string{\n",
    "    type stringer interface {\n",
    "        String() string\n",
    "    }\n",
    "    switch x := x.(type) {\n",
    "        case stringer:\n",
    "          return x.String()\n",
    "        case string:\n",
    "          return x\n",
    "        case int:\n",
    "          return strconv.Itoa(x) // ... similar cases for int16, uint32, and so on...\n",
    "        case bool:\n",
    "          if x {\n",
    "            return \"true\"\n",
    "          }\n",
    "          return \"false\"\n",
    "        default:\n",
    "          // array, chan, func, map, pointer, slice, struct\n",
    "          return \"???\"\n",
    "    }\n",
    "}"
   ]
  },
  {
   "cell_type": "code",
   "execution_count": 8,
   "metadata": {},
   "outputs": [
    {
     "name": "stdout",
     "output_type": "stream",
     "text": [
      "??? 20 true\n"
     ]
    }
   ],
   "source": [
    "%%\n",
    "fmt.Println(Sprint(3.0), Sprint(20),Sprint(true)"
   ]
  },
  {
   "cell_type": "markdown",
   "metadata": {},
   "source": [
    "### how do we deal with\n",
    "* []float64, map[string][]sttring and number of such types is infinite\n",
    "* what about named types like url.Values\n",
    "  * type Values map[string][]string\n",
    "* need a way to inspect the representation of values of unknown types"
   ]
  },
  {
   "cell_type": "markdown",
   "metadata": {},
   "source": [
    "## reflect.Type and reflect.Value\n",
    "* Reflection is provided by the [***reflect***](https://pkg.go.dev/reflect) package\n",
    "* two types: [Type](https://pkg.go.dev/reflect#Type) and [Value](https://pkg.go.dev/reflect#Value)\n",
    "  * Type: Go Type, type descriptor, dynamic type of an interface v alue\n",
    "  * Value: value of any type"
   ]
  },
  {
   "cell_type": "code",
   "execution_count": 47,
   "metadata": {},
   "outputs": [
    {
     "name": "stdout",
     "output_type": "stream",
     "text": [
      "int\n",
      "int\n"
     ]
    }
   ],
   "source": [
    "import \"fmt\"\n",
    "%%\n",
    "t := reflect.TypeOf(3) // a reflect.Type\n",
    "fmt.Println(t.String())// \"int\"\n",
    "fmt.Println(t)         // \"int\""
   ]
  },
  {
   "cell_type": "code",
   "execution_count": 48,
   "metadata": {},
   "outputs": [
    {
     "name": "stdout",
     "output_type": "stream",
     "text": [
      "*os.File\n"
     ]
    }
   ],
   "source": [
    "import (\"io\";\"os\")\n",
    "var w io.Writer = os.Stdout \n",
    "%%\n",
    "fmt.Println(reflect.TypeOf(w))"
   ]
  },
  {
   "cell_type": "code",
   "execution_count": 49,
   "metadata": {},
   "outputs": [
    {
     "name": "stdout",
     "output_type": "stream",
     "text": [
      "int\n"
     ]
    }
   ],
   "source": [
    "%%\n",
    "fmt.Printf(\"%T\\n\",3)   // \"int\""
   ]
  },
  {
   "cell_type": "code",
   "execution_count": 50,
   "metadata": {},
   "outputs": [
    {
     "name": "stdout",
     "output_type": "stream",
     "text": [
      "3\n",
      "3\n",
      "<int Value>\n",
      "3\n"
     ]
    }
   ],
   "source": [
    "%%\n",
    "v := reflect.ValueOf(3)\n",
    "fmt.Println(v)          // \"3\"\n",
    "fmt.Printf(\"%v\\n\",v)    // \"3\"\n",
    "fmt.Println(v.String()) // <int Value>\n",
    "fmt.Println(v)"
   ]
  },
  {
   "cell_type": "code",
   "execution_count": 51,
   "metadata": {},
   "outputs": [
    {
     "name": "stdout",
     "output_type": "stream",
     "text": [
      "int\n"
     ]
    }
   ],
   "source": [
    "%%\n",
    "v := reflect.ValueOf(3)\n",
    "t := v.Type()\n",
    "fmt.Println(t.String())"
   ]
  },
  {
   "cell_type": "code",
   "execution_count": 52,
   "metadata": {},
   "outputs": [
    {
     "name": "stdout",
     "output_type": "stream",
     "text": [
      "3\n"
     ]
    }
   ],
   "source": [
    "%% \n",
    "// the inverse operation to reflect.ValueOf is reflect.Value.Interface method\n",
    "v := reflect.ValueOf(3) // a reflect.Value\n",
    "x := v.Interface()      // an interface()\n",
    "i := x.(int)            // an int\n",
    "fmt.Printf(\"%d\\n\",i)    // \"3\""
   ]
  },
  {
   "cell_type": "code",
   "execution_count": 9,
   "metadata": {},
   "outputs": [],
   "source": [
    "//package format\n",
    "\n",
    "import (\n",
    "        \"reflect\"\n",
    "        \"strconv\"\n",
    ")\n",
    "\n",
    "// Any formats any value as a string.\n",
    "func Any(value interface{}) string {\n",
    "        return formatAtom(reflect.ValueOf(value))\n",
    "}\n",
    "\n",
    "// formatAtom formats a value without inspecting its internal structure.\n",
    "func formatAtom(v reflect.Value) string {\n",
    "        switch v.Kind() {\n",
    "        case reflect.Invalid:\n",
    "                return \"invalid\"\n",
    "        case reflect.Int, reflect.Int8, reflect.Int16,\n",
    "                reflect.Int32, reflect.Int64:\n",
    "                return strconv.FormatInt(v.Int(), 10)\n",
    "        case reflect.Uint, reflect.Uint8, reflect.Uint16,\n",
    "                reflect.Uint32, reflect.Uint64, reflect.Uintptr:\n",
    "                return strconv.FormatUint(v.Uint(), 10)\n",
    "            // ...floating-point and complex cases omitted for brevity...\n",
    "        case reflect.Bool:\n",
    "                return strconv.FormatBool(v.Bool())\n",
    "        case reflect.String:\n",
    "                return strconv.Quote(v.String())\n",
    "        case reflect.Chan, reflect.Func, reflect.Ptr, reflect.Slice, reflect.Map:\n",
    "                return v.Type().String() + \" 0x\" +\n",
    "                        strconv.FormatUint(uint64(v.Pointer()), 16)\n",
    "        default: // reflect.Array, reflect.Struct, reflect.Interface\n",
    "                return v.Type().String() + \" value\"\n",
    "        }\n",
    "}"
   ]
  },
  {
   "cell_type": "code",
   "execution_count": 13,
   "metadata": {},
   "outputs": [
    {
     "name": "stdout",
     "output_type": "stream",
     "text": [
      "1\n",
      "1\n",
      "[1]int64 value\n",
      "[]int64 0x1400009e040\n",
      "[]time.Duration 0x1400009e048\n",
      "*os.File 0x140000ac008\n"
     ]
    }
   ],
   "source": [
    "import (\"time\";\"gopl.io/ch12/format\";\"reflect\";\"fmt\")\n",
    "var x int64 = 1\n",
    "var d time.Duration = 1 * time.Nanosecond\n",
    "%%\n",
    "fmt.Println(format.Any(x))\n",
    "fmt.Println(format.Any(d))\n",
    "fmt.Println(format.Any([1]int64{x}))\n",
    "fmt.Println(format.Any([]int64{x}))\n",
    "fmt.Println(format.Any([]time.Duration{d}))\n",
    "fmt.Println(format.Any(os.Stdout))"
   ]
  },
  {
   "cell_type": "markdown",
   "metadata": {},
   "source": [
    "## Display, a Recursive Value Printer"
   ]
  },
  {
   "cell_type": "code",
   "execution_count": 15,
   "metadata": {},
   "outputs": [],
   "source": [
    "import \"gopl.io/ch12/format\"\n",
    "func display(path string, v reflect.Value) {\n",
    "        switch v.Kind() {\n",
    "        case reflect.Invalid:\n",
    "                fmt.Printf(\"%s = invalid\\n\", path)\n",
    "        case reflect.Slice, reflect.Array:\n",
    "                for i := 0; i < v.Len(); i++ {\n",
    "                        display(fmt.Sprintf(\"%s[%d]\", path, i), v.Index(i))\n",
    "                }\n",
    "        case reflect.Struct:\n",
    "                for i := 0; i < v.NumField(); i++ {\n",
    "                        fieldPath := fmt.Sprintf(\"%s.%s\", path, v.Type().Field(i).Name)\n",
    "                        display(fieldPath, v.Field(i))\n",
    "                }\n",
    "        case reflect.Map:\n",
    "                for _, key := range v.MapKeys() {\n",
    "                        display(fmt.Sprintf(\"%s[%s]\", path,\n",
    "                                formatAtom(key)), v.MapIndex(key))\n",
    "                }\n",
    "        case reflect.Ptr:\n",
    "                if v.IsNil() {\n",
    "                        fmt.Printf(\"%s = nil\\n\", path)\n",
    "                } else {\n",
    "                        display(fmt.Sprintf(\"(*%s)\", path), v.Elem())\n",
    "                }\n",
    "        case reflect.Interface:\n",
    "                if v.IsNil() {\n",
    "                        fmt.Printf(\"%s = nil\\n\", path)\n",
    "                } else {\n",
    "                        fmt.Printf(\"%s.type = %s\\n\", path, v.Elem().Type())\n",
    "                        display(path+\".value\", v.Elem())\n",
    "                }\n",
    "        default: // basic types, channels, funcs\n",
    "                fmt.Printf(\"%s = %s\\n\", path, formatAtom(v))\n",
    "        }\n",
    "}                "
   ]
  },
  {
   "cell_type": "code",
   "execution_count": 16,
   "metadata": {},
   "outputs": [],
   "source": [
    "import (\"fmt\";\"reflect\")\n",
    "func Display(name string, x interface{}){\n",
    "    fmt.Print(\"Display %s (%T):\\n\",name, x)\n",
    "    display(name, reflect.ValueOf(x))\n",
    "}"
   ]
  },
  {
   "cell_type": "code",
   "execution_count": 1,
   "metadata": {},
   "outputs": [
    {
     "name": "stdout",
     "output_type": "stream",
     "text": [
      "Display e (eval.call):\n",
      "e.fn = \"sqrt\"\n",
      "e.args[0].type = eval.binary\n",
      "e.args[0].value.op = 47\n",
      "e.args[0].value.x.type = eval.Var\n",
      "e.args[0].value.x.value = \"A\"\n",
      "e.args[0].value.y.type = eval.Var\n",
      "e.args[0].value.y.value = \"pi\"\n",
      "Display slice ([]*int):\n",
      "(*slice[0]) = 0\n",
      "slice[1] = nil\n"
     ]
    }
   ],
   "source": [
    "import (\"gopl.io/ch12/display\"; \"gopl.io/ch7/eval\")\n",
    "%%\n",
    "e, _ := eval.Parse(\"sqrt(A/pi)\")\n",
    "//f := display.Display\n",
    "display.Display(\"e\",e)\n",
    "display.Display(\"slice\", []*int{new(int), nil})"
   ]
  },
  {
   "cell_type": "code",
   "execution_count": 2,
   "metadata": {
    "scrolled": true
   },
   "outputs": [
    {
     "name": "stdout",
     "output_type": "stream",
     "text": [
      "Display w (<nil>):\n",
      "w = invalid\n",
      "Display &w (*io.Writer):\n",
      "(*&w) = nil\n"
     ]
    }
   ],
   "source": [
    "import \"io\"\n",
    "%%\n",
    "var w io.Writer\n",
    "display.Display(\"w\", w)\n",
    "//var w io.Writer\n",
    "display.Display(\"&w\", &w)"
   ]
  },
  {
   "cell_type": "code",
   "execution_count": 3,
   "metadata": {},
   "outputs": [
    {
     "name": "stdout",
     "output_type": "stream",
     "text": [
      "Display strangelove (main.Movie):\n",
      "strangelove.Title = \"Dr. Strangelove\"\n",
      "strangelove.Subtitle = \"How I Learned to Stop Worrying and Love the Bomb\"\n",
      "strangelove.Year = 1964\n",
      "strangelove.Actor[\"Grp. Capt. Lionel Mandrake\"] = \"Peter Sellers\"\n",
      "strangelove.Actor[\"Pres. Merkin Muffley\"] = \"Peter Sellers\"\n",
      "strangelove.Actor[\"Gen. Buck Turgidson\"] = \"George C. Scott\"\n",
      "strangelove.Actor[\"Brig. Gen. Jack D. Ripper\"] = \"Sterling Hayden\"\n",
      "strangelove.Actor[\"Maj. T.J. \\\"King\\\" Kong\"] = \"Slim Pickens\"\n",
      "strangelove.Actor[\"Dr. Strangelove\"] = \"Peter Sellers\"\n",
      "strangelove.Oscars[0] = \"Best Actor (Nomin.)\"\n",
      "strangelove.Oscars[1] = \"Best Adapted Screenplay (Nomin.)\"\n",
      "strangelove.Oscars[2] = \"Best Director (Nomin.)\"\n",
      "strangelove.Oscars[3] = \"Best Picture (Nomin.)\"\n",
      "strangelove.Sequel = nil\n"
     ]
    }
   ],
   "source": [
    "   type Movie struct {\n",
    "                Title, Subtitle string\n",
    "                Year            int\n",
    "                //Color           bool\n",
    "                Actor           map[string]string\n",
    "                Oscars          []string\n",
    "                Sequel          *string\n",
    "        }\n",
    "        //!-movie\n",
    "        //!+strangelove\n",
    "\n",
    "        var strangelove = Movie{\n",
    "                Title:    \"Dr. Strangelove\",\n",
    "                Subtitle: \"How I Learned to Stop Worrying and Love the Bomb\",\n",
    "                Year:     1964,\n",
    "                //Color:    false,\n",
    "                Actor: map[string]string{\n",
    "                        \"Dr. Strangelove\":            \"Peter Sellers\",\n",
    "                        \"Grp. Capt. Lionel Mandrake\": \"Peter Sellers\",\n",
    "                        \"Pres. Merkin Muffley\":       \"Peter Sellers\",\n",
    "                        \"Gen. Buck Turgidson\":        \"George C. Scott\",\n",
    "                        \"Brig. Gen. Jack D. Ripper\":  \"Sterling Hayden\",\n",
    "                        `Maj. T.J. \"King\" Kong`:      \"Slim Pickens\",\n",
    "                },\n",
    "             Oscars: []string{\n",
    "                        \"Best Actor (Nomin.)\",\n",
    "                        \"Best Adapted Screenplay (Nomin.)\",\n",
    "                        \"Best Director (Nomin.)\",\n",
    "                        \"Best Picture (Nomin.)\",\n",
    "                },\n",
    "        }\n",
    "%%\n",
    "        //!-strangelove\n",
    "        display.Display(\"strangelove\", strangelove)"
   ]
  },
  {
   "cell_type": "code",
   "execution_count": 4,
   "metadata": {},
   "outputs": [
    {
     "name": "stdout",
     "output_type": "stream",
     "text": [
      "Display os.Stderr (*os.File):\n",
      "(*(*os.Stderr).file).pfd.fdmu.state = 0\n",
      "(*(*os.Stderr).file).pfd.fdmu.rsema = 0\n",
      "(*(*os.Stderr).file).pfd.fdmu.wsema = 0\n",
      "(*(*os.Stderr).file).pfd.Sysfd = 2\n",
      "(*(*os.Stderr).file).pfd.pd.runtimeCtx = 0\n",
      "(*(*os.Stderr).file).pfd.iovecs = nil\n",
      "(*(*os.Stderr).file).pfd.csema = 0\n",
      "(*(*os.Stderr).file).pfd.isBlocking = 1\n",
      "(*(*os.Stderr).file).pfd.IsStream = true\n",
      "(*(*os.Stderr).file).pfd.ZeroReadIsEOF = true\n",
      "(*(*os.Stderr).file).pfd.isFile = true\n",
      "(*(*os.Stderr).file).name = \"/dev/stderr\"\n",
      "(*(*os.Stderr).file).dirinfo = nil\n",
      "(*(*os.Stderr).file).nonblock = false\n",
      "(*(*os.Stderr).file).stdoutOrErr = true\n",
      "(*(*os.Stderr).file).appendMode = false\n"
     ]
    }
   ],
   "source": [
    "import \"os\"   \n",
    "%%\n",
    "display.Display(\"os.Stderr\", os.Stderr)"
   ]
  },
  {
   "cell_type": "code",
   "execution_count": 5,
   "metadata": {},
   "outputs": [
    {
     "name": "stdout",
     "output_type": "stream",
     "text": [
      "Display rV (reflect.Value):\n",
      "(*rV.typ).size = 8\n",
      "(*rV.typ).ptrdata = 8\n",
      "(*rV.typ).hash = 1626219098\n",
      "(*rV.typ).tflag = 9\n",
      "(*rV.typ).align = 8\n",
      "(*rV.typ).fieldAlign = 8\n",
      "(*rV.typ).kind = 54\n",
      "(*rV.typ).equal = func(unsafe.Pointer, unsafe.Pointer) bool 0x10487ecb0\n",
      "(*(*rV.typ).gcdata) = 1\n",
      "(*rV.typ).str = 4916\n",
      "(*rV.typ).ptrToThis = 0\n",
      "rV.ptr = unsafe.Pointer value\n",
      "rV.flag = 22\n"
     ]
    }
   ],
   "source": [
    "// the type descriptor of *os.File\n",
    "%%\n",
    "display.Display(\"rV\", reflect.ValueOf(os.Stderr))"
   ]
  },
  {
   "cell_type": "code",
   "execution_count": 8,
   "metadata": {},
   "outputs": [
    {
     "name": "stdout",
     "output_type": "stream",
     "text": [
      "Display i (int):\n",
      "i = 3\n",
      "Display &i (*interface {}):\n",
      "(*&i).type = int\n",
      "(*&i).value = 3\n"
     ]
    }
   ],
   "source": [
    "%%\n",
    "var i interface{} = 3\n",
    "display.Display(\"i\", i)\n",
    "\n",
    "display.Display(\"&i\",&i)"
   ]
  },
  {
   "cell_type": "code",
   "execution_count": null,
   "metadata": {},
   "outputs": [],
   "source": [
    "// a struct that points to itself\n",
    "%%\n",
    "type Cycle struct{ Value int; Tail *Cycle }\n",
    "var c Cycle\n",
    "c = Cycle{42, &c}\n",
    "display.Display(\"c\", c)"
   ]
  },
  {
   "cell_type": "markdown",
   "metadata": {},
   "source": [
    "## Example: Encoding S-Expressions"
   ]
  },
  {
   "cell_type": "code",
   "execution_count": 16,
   "metadata": {},
   "outputs": [],
   "source": [
    "import (\n",
    "        \"bytes\"\n",
    "        \"fmt\"\n",
    "        \"reflect\"\n",
    ")\n",
    "func Marshal(v interface{}) ([]byte, error) {\n",
    "        var buf bytes.Buffer\n",
    "        if err := encode(&buf, reflect.ValueOf(v)); err != nil {\n",
    "                return nil, err\n",
    "        }\n",
    "        return buf.Bytes(), nil\n",
    "}\n",
    "func encode(buf *bytes.Buffer, v reflect.Value) error {\n",
    "        switch v.Kind() {\n",
    "        case reflect.Invalid:\n",
    "                buf.WriteString(\"nil\")\n",
    "\n",
    "        case reflect.Int, reflect.Int8, reflect.Int16,\n",
    "                reflect.Int32, reflect.Int64:\n",
    "                fmt.Fprintf(buf, \"%d\", v.Int())\n",
    "\n",
    "        case reflect.Uint, reflect.Uint8, reflect.Uint16,\n",
    "                reflect.Uint32, reflect.Uint64, reflect.Uintptr:\n",
    "                fmt.Fprintf(buf, \"%d\", v.Uint())\n",
    "\n",
    "        case reflect.String:\n",
    "                fmt.Fprintf(buf, \"%q\", v.String())\n",
    "\n",
    "        case reflect.Ptr:\n",
    "                return encode(buf, v.Elem())\n",
    "\n",
    "        case reflect.Array, reflect.Slice: // (value ...)\n",
    "                buf.WriteByte('(')\n",
    "                for i := 0; i < v.Len(); i++ {\n",
    "                        if i > 0 {\n",
    "                             buf.WriteByte(' ')\n",
    "                        }\n",
    "                        if err := encode(buf, v.Index(i)); err != nil {\n",
    "                                return err\n",
    "                        }\n",
    "                }\n",
    "                buf.WriteByte(')')\n",
    "\n",
    "        case reflect.Struct: // ((name value) ...)\n",
    "                buf.WriteByte('(')\n",
    "                for i := 0; i < v.NumField(); i++ {\n",
    "                        if i > 0 {\n",
    "                                buf.WriteByte(' ')\n",
    "                        }\n",
    "                        fmt.Fprintf(buf, \"(%s \", v.Type().Field(i).Name)\n",
    "                        if err := encode(buf, v.Field(i)); err != nil {\n",
    "                                return err\n",
    "                        }\n",
    "                        buf.WriteByte(')')\n",
    "                }\n",
    "                buf.WriteByte(')')\n",
    "\n",
    "        case reflect.Map: // ((key value) ...)\n",
    "            buf.WriteByte('(')\n",
    "                for i, key := range v.MapKeys() {\n",
    "                        if i > 0 {\n",
    "                                buf.WriteByte(' ')\n",
    "                        }\n",
    "                        buf.WriteByte('(')\n",
    "                        if err := encode(buf, key); err != nil {\n",
    "                                return err\n",
    "                        }\n",
    "                        buf.WriteByte(' ')\n",
    "                        if err := encode(buf, v.MapIndex(key)); err != nil {\n",
    "                                return err\n",
    "                        }\n",
    "                        buf.WriteByte(')')\n",
    "                }\n",
    "                buf.WriteByte(')')\n",
    "\n",
    "        default: // float, complex, bool, chan, func, interface\n",
    "                return fmt.Errorf(\"unsupported type: %s\", v.Type())\n",
    "        }\n",
    "        return nil\n",
    "}"
   ]
  },
  {
   "cell_type": "code",
   "execution_count": 9,
   "metadata": {},
   "outputs": [
    {
     "name": "stdout",
     "output_type": "stream",
     "text": [
      "((Title \"Dr. Strangelove\") (Subtitle \"How I Learned to Stop Worrying and Love the Bomb\") (Year 1964) (Actor ((\"Dr. Strangelove\" \"Peter Sellers\") (\"Grp. Capt. Lionel Mandrake\" \"Peter Sellers\") (\"Pres. Merkin Muffley\" \"Peter Sellers\") (\"Gen. Buck Turgidson\" \"George C. Scott\") (\"Brig. Gen. Jack D. Ripper\" \"Sterling Hayden\") (\"Maj. T.J. \\\"King\\\" Kong\" \"Slim Pickens\"))) (Oscars (\"Best Actor (Nomin.)\" \"Best Adapted Screenplay (Nomin.)\" \"Best Director (Nomin.)\" \"Best Picture (Nomin.)\")) (Sequel nil))"
     ]
    }
   ],
   "source": [
    "import (\"gopl.io/ch12/sexpr\"; \"os\"; \"fmt\")\n",
    "%%\n",
    "data, err := sexpr.Marshal(strangelove)\n",
    "//data, err := Marshal(strangelove)\n",
    "_ = err\n",
    "//fmt.Println(err)\n",
    "//fmt.Printf(\"%s\", data)\n",
    "//fmt.Println(strangelove)\n",
    "//data, err := sexpr.Marshal(os.Stderr)\n",
    "//_ = err\n",
    "//fmt.Println(err)\n",
    "fmt.Printf(\"%s\", data)"
   ]
  },
  {
   "cell_type": "code",
   "execution_count": 10,
   "metadata": {},
   "outputs": [
    {
     "name": "stdout",
     "output_type": "stream",
     "text": [
      "((Title \"Dr. Strangelove\")\n",
      " (Subtitle \"How I Learned to Stop Worrying and Love the Bomb\") (Year 1964)\n",
      " (Actor\n",
      "  ((\"Grp. Capt. Lionel Mandrake\" \"Peter Sellers\")\n",
      "   (\"Pres. Merkin Muffley\" \"Peter Sellers\")\n",
      "   (\"Gen. Buck Turgidson\" \"George C. Scott\")\n",
      "   (\"Brig. Gen. Jack D. Ripper\" \"Sterling Hayden\")\n",
      "   (\"Maj. T.J. \\\"King\\\" Kong\" \"Slim Pickens\")\n",
      "   (\"Dr. Strangelove\" \"Peter Sellers\")))\n",
      " (Oscars\n",
      "  (\"Best Actor (Nomin.)\" \"Best Adapted Screenplay (Nomin.)\"\n",
      "   \"Best Director (Nomin.)\" \"Best Picture (Nomin.)\")) (Sequel nil))"
     ]
    }
   ],
   "source": [
    "import (\"gopl.io/ch12/sexpr\"; \"os\"; \"fmt\")\n",
    "%%\n",
    "data, err := sexpr.MarshalIndent(strangelove)\n",
    "//data, err := Marshal(strangelove)\n",
    "_ = err\n",
    "//fmt.Println(err)\n",
    "//fmt.Printf(\"%s\", data)\n",
    "//fmt.Println(strangelove)\n",
    "//data, err := sexpr.Marshal(os.Stderr)\n",
    "//_ = err\n",
    "//fmt.Println(err)\n",
    "fmt.Printf(\"%s\", data)"
   ]
  },
  {
   "cell_type": "markdown",
   "metadata": {},
   "source": [
    "## Setting Variables with reflect.Value"
   ]
  },
  {
   "cell_type": "code",
   "execution_count": 11,
   "metadata": {},
   "outputs": [
    {
     "name": "stdout",
     "output_type": "stream",
     "text": [
      "false\n",
      "false\n",
      "false\n",
      "true\n"
     ]
    }
   ],
   "source": [
    "%%\n",
    "x := 2                   // value   type   variable\n",
    "a := reflect.ValueOf(2)  // 2       int    no\n",
    "b := reflect.ValueOf(x)  // 2       int    no\n",
    "c := reflect.ValueOf(&x) // &x      *int   no\n",
    "d := c.Elem()            // 2       int    yes (x)\n",
    "\n",
    "fmt.Println(a.CanAddr()) \n",
    "fmt.Println(b.CanAddr())\n",
    "fmt.Println(c.CanAddr())\n",
    "fmt.Println(d.CanAddr())"
   ]
  },
  {
   "cell_type": "code",
   "execution_count": 12,
   "metadata": {},
   "outputs": [
    {
     "name": "stdout",
     "output_type": "stream",
     "text": [
      "3\n"
     ]
    }
   ],
   "source": [
    "%%\n",
    "x := 2\n",
    "d := reflect.ValueOf(&x).Elem()\n",
    "px := d.Addr().Interface().(*int)\n",
    "*px = 3\n",
    "fmt.Println(x)"
   ]
  },
  {
   "cell_type": "code",
   "execution_count": 23,
   "metadata": {},
   "outputs": [
    {
     "name": "stdout",
     "output_type": "stream",
     "text": [
      "4\n"
     ]
    }
   ],
   "source": [
    "%%\n",
    "x := 2\n",
    "d := reflect.ValueOf(&x).Elem()\n",
    "d.Set(reflect.ValueOf(4))\n",
    "fmt.Println(x)  "
   ]
  },
  {
   "cell_type": "code",
   "execution_count": 17,
   "metadata": {
    "cell_style": "split"
   },
   "outputs": [
    {
     "name": "stdout",
     "output_type": "stream",
     "text": [
      "true\n"
     ]
    }
   ],
   "source": [
    "%%\n",
    "x := 2\n",
    "d := reflect.ValueOf(&x).Elem()\n",
    "fmt.Println(d.CanAddr())\n",
    "//d.Set(reflect.ValueOf(int64(5))) //int64 is not assignable to int"
   ]
  },
  {
   "cell_type": "code",
   "execution_count": 15,
   "metadata": {},
   "outputs": [
    {
     "data": {
      "text/html": [
       "\n",
       "<style>\n",
       ".gonb-err-location {\n",
       "\tbackground: var(--jp-err-color2);  \n",
       "\tborder-radius: 3px;\n",
       "\tborder-style: dotted;\n",
       "\tborder-width: 1px;\n",
       "\tborder-color: var(--jp-border-color2);\n",
       "}\n",
       ".gonb-err-location:hover {\n",
       "\tborder-width: 2px;\n",
       "\tborder-style: solid;\n",
       "\tborder-color: var(--jp-border-color2);\n",
       "}\n",
       ".gonb-err-context {\n",
       "\tdisplay: none;\n",
       "}\n",
       ".gonb-err-location:hover + .gonb-err-context {\n",
       "\tbackground: var(--jp-dialog-background);  \n",
       "\tborder-radius: 3px;\n",
       "\tborder-style: solid;\n",
       "\tborder-width: 1px;\n",
       "\tborder-color: var(--jp-border-color2);\n",
       "\tdisplay: block;\n",
       "\twhite-space: pre;\n",
       "\tfont-family: monospace;\n",
       "}\n",
       ".gonb-err-line {\n",
       "\tborder-radius: 3px;\n",
       "\tborder-style: dotted;\n",
       "\tborder-width: 1px;\t\n",
       "\tborder-color: var(--jp-border-color2);\n",
       "\tbackground-color: var(--jp-rendermime-err-background);\n",
       "\tfont-weight: bold;\n",
       "}\n",
       ".gonb-cell-line-info {\n",
       "\tbackground: var(--jp-layout-color2);\n",
       "\tcolor: #999;\n",
       "\tmargin: 0.1em;\n",
       "\tborder: 1px solid var(--jp-border-color1);\n",
       "\tpadding-left: 0.2em;\n",
       "\tpadding-right: 0.2em;\n",
       "}\n",
       "</style>\n",
       "<div class=\"lm-Widget p-Widget lm-Panel p-Panel jp-OutputArea-child\">\n",
       "<div class=\"lm-Widget p-Widget jp-RenderedText jp-mod-trusted jp-OutputArea-output\" data-mime-type=\"application/vnd.jupyter.stderr\" style=\"font-family: monospace;\">\n",
       "\n",
       "\n",
       "<span style=\"white-space: pre;\"> # gonb_43677de9</span>\n",
       "\n",
       "<br/>\n",
       "\n",
       "<span class=\"gonb-cell-line-info\">Cell[15]: Line 5</span>\n",
       "<span class=\"gonb-err-location\">./main.go:47:22: </span> cannot convert 3 (untyped int constant) to type reflect.Value\n",
       "<div class=\"gonb-err-context\">\n",
       "\tx := 2\n",
       "\tb := reflect.ValueOf(x)\n",
       "\tfmt.Println(b.CanAddr())\n",
       "<div class=\"gonb-err-line\">\tb.Set(reflect.Value(3))  \n",
       "</div>\n",
       "}\n",
       "\n",
       "</div>\n",
       "\n",
       "<br/>\n",
       "\n",
       "\n",
       "<span style=\"white-space: pre;\"> </span>\n",
       "\n",
       "<br/>\n",
       "\n",
       "</div>\n"
      ]
     },
     "metadata": {},
     "output_type": "display_data"
    },
    {
     "ename": "ERROR",
     "evalue": "failed to run \"/opt/homebrew/bin/go build -o /var/folders/4d/tg201k8x6yb81f_lrvt4440m0000gn/T/gonb_43677de9/gonb_43677de9\": exit status 1",
     "output_type": "error",
     "traceback": [
      "failed to run \"/opt/homebrew/bin/go build -o /var/folders/4d/tg201k8x6yb81f_lrvt4440m0000gn/T/gonb_43677de9/gonb_43677de9\": exit status 1"
     ]
    }
   ],
   "source": [
    "%%\n",
    "x := 2\n",
    "b := reflect.ValueOf(x)\n",
    "fmt.Println(b.CanAddr())\n",
    "//b.Set(reflect.Value(3))  // unaddressable value"
   ]
  },
  {
   "cell_type": "code",
   "execution_count": 20,
   "metadata": {},
   "outputs": [
    {
     "name": "stdout",
     "output_type": "stream",
     "text": [
      "3\n"
     ]
    }
   ],
   "source": [
    "%%\n",
    "//variants of Set for basic types: Setint, SetUInt, SetString, SetFloat\n",
    "x := 2\n",
    "d := reflect.ValueOf(&x).Elem()\n",
    "d.SetInt(3)\n",
    "fmt.Println(x)"
   ]
  },
  {
   "cell_type": "code",
   "execution_count": 21,
   "metadata": {},
   "outputs": [],
   "source": [
    "%%\n",
    "x := 1\n",
    "rx := reflect.ValueOf(&x).Elem()\n",
    "rx.SetInt(2)\n",
    "rx.Set(reflect.ValueOf(3))"
   ]
  },
  {
   "cell_type": "code",
   "execution_count": 24,
   "metadata": {},
   "outputs": [
    {
     "name": "stderr",
     "output_type": "stream",
     "text": [
      "panic: reflect.Set: value of type string is not assignable to type int\n",
      "\n",
      "goroutine 1 [running]:\n",
      "reflect.Value.assignTo({0x104f903e0?, 0x104fa2b40?, 0x105078a68?}, {0x104f65f5e, 0xb}, 0x104f8fd20, 0x0)\n",
      "\t/opt/homebrew/Cellar/go@1.19/1.19.13/libexec/src/reflect/value.go:3145 +0x214\n",
      "reflect.Value.Set({0x104f8fd20?, 0x14000120018?, 0x14000044768?}, {0x104f903e0?, 0x104fa2b40?, 0x0?})\n",
      "\t/opt/homebrew/Cellar/go@1.19/1.19.13/libexec/src/reflect/value.go:2160 +0xc8\n",
      "main.main()\n",
      "\t \u001b[7m[[ Cell [24] Line 5 ]]\u001b[0m /var/folders/4d/tg201k8x6yb81f_lrvt4440m0000gn/T/gonb_43677de9/main.go:46 +0x204\n",
      "exit status 2\n"
     ]
    }
   ],
   "source": [
    "%%\n",
    "x := 1\n",
    "rx := reflect.ValueOf(&x).Elem()\n",
    "//rx.SetString(\"hello\")\n",
    "//rx.Set(reflect.ValueOf(\"hello\"))"
   ]
  },
  {
   "cell_type": "code",
   "execution_count": 26,
   "metadata": {},
   "outputs": [
    {
     "data": {
      "text/html": [
       "\n",
       "<style>\n",
       ".gonb-err-location {\n",
       "\tbackground: var(--jp-err-color2);  \n",
       "\tborder-radius: 3px;\n",
       "\tborder-style: dotted;\n",
       "\tborder-width: 1px;\n",
       "\tborder-color: var(--jp-border-color2);\n",
       "}\n",
       ".gonb-err-location:hover {\n",
       "\tborder-width: 2px;\n",
       "\tborder-style: solid;\n",
       "\tborder-color: var(--jp-border-color2);\n",
       "}\n",
       ".gonb-err-context {\n",
       "\tdisplay: none;\n",
       "}\n",
       ".gonb-err-location:hover + .gonb-err-context {\n",
       "\tbackground: var(--jp-dialog-background);  \n",
       "\tborder-radius: 3px;\n",
       "\tborder-style: solid;\n",
       "\tborder-width: 1px;\n",
       "\tborder-color: var(--jp-border-color2);\n",
       "\tdisplay: block;\n",
       "\twhite-space: pre;\n",
       "\tfont-family: monospace;\n",
       "}\n",
       ".gonb-err-line {\n",
       "\tborder-radius: 3px;\n",
       "\tborder-style: dotted;\n",
       "\tborder-width: 1px;\t\n",
       "\tborder-color: var(--jp-border-color2);\n",
       "\tbackground-color: var(--jp-rendermime-err-background);\n",
       "\tfont-weight: bold;\n",
       "}\n",
       ".gonb-cell-line-info {\n",
       "\tbackground: var(--jp-layout-color2);\n",
       "\tcolor: #999;\n",
       "\tmargin: 0.1em;\n",
       "\tborder: 1px solid var(--jp-border-color1);\n",
       "\tpadding-left: 0.2em;\n",
       "\tpadding-right: 0.2em;\n",
       "}\n",
       "</style>\n",
       "<div class=\"lm-Widget p-Widget lm-Panel p-Panel jp-OutputArea-child\">\n",
       "<div class=\"lm-Widget p-Widget jp-RenderedText jp-mod-trusted jp-OutputArea-output\" data-mime-type=\"application/vnd.jupyter.stderr\" style=\"font-family: monospace;\">\n",
       "\n",
       "\n",
       "<span style=\"white-space: pre;\"> # gonb_43677de9</span>\n",
       "\n",
       "<br/>\n",
       "\n",
       "<span class=\"gonb-cell-line-info\">Cell[26]: Line 9</span>\n",
       "<span class=\"gonb-err-location\">./main.go:50:9: </span> cannot use \"hello\" (untyped string constant) as reflect.Value value in argument to ry.Set\n",
       "<div class=\"gonb-err-context\">\n",
       "\t//ry.SetString(&#34;hello&#34;)       // Panic: SetString called on interface value\n",
       "\t//ry.Set(reflect.ValueOf(&#34;hello&#34;))// Ok, y - &#34;hello&#34;\n",
       "\t//ry.Set(3)\n",
       "<div class=\"gonb-err-line\">\try.Set(&#34;hello&#34;)\n",
       "</div>\n",
       "}\n",
       "\n",
       "</div>\n",
       "\n",
       "<br/>\n",
       "\n",
       "\n",
       "<span style=\"white-space: pre;\"> </span>\n",
       "\n",
       "<br/>\n",
       "\n",
       "</div>\n"
      ]
     },
     "metadata": {},
     "output_type": "display_data"
    },
    {
     "ename": "ERROR",
     "evalue": "failed to run \"/opt/homebrew/bin/go build -o /var/folders/4d/tg201k8x6yb81f_lrvt4440m0000gn/T/gonb_43677de9/gonb_43677de9\": exit status 1",
     "output_type": "error",
     "traceback": [
      "failed to run \"/opt/homebrew/bin/go build -o /var/folders/4d/tg201k8x6yb81f_lrvt4440m0000gn/T/gonb_43677de9/gonb_43677de9\": exit status 1"
     ]
    }
   ],
   "source": [
    "%%\n",
    "var y interface{}\n",
    "ry := reflect.ValueOf(&y).Elem()\n",
    "//ry.SetInt(2)                //panic: SetInt called on interface Value\n",
    "//ry.Set(reflect.ValueOf(3))  // Ok, y = int(3)\n",
    "//ry.SetString(\"hello\")       // Panic: SetString called on interface value\n",
    "//ry.Set(reflect.ValueOf(\"hello\"))// Ok, y - \"hello\"\n",
    "//ry.Set(3)\n",
    "//ry.Set(\"hello\")"
   ]
  },
  {
   "cell_type": "code",
   "execution_count": 31,
   "metadata": {},
   "outputs": [
    {
     "name": "stdout",
     "output_type": "stream",
     "text": [
      "os.File\n",
      "{%!q(*os.file=&{{{0 0 0} 1 {0} <nil> 0 1 true true true} /dev/stdout <nil> false true false})}\n",
      "false false\n"
     ]
    }
   ],
   "source": [
    "%%\n",
    "stdout := reflect.ValueOf(os.Stdout).Elem()\n",
    "fmt.Println(stdout.Type())\n",
    "fmt.Printf(\"%q\\n\", stdout)\n",
    "fd := stdout.FieldByName(\"fd\")\n",
    "//fmt.Println(fd.Int())\n",
    "fmt.Println(fd.CanAddr(),fd.CanSet())\n",
    "//fd.SetInt(2) // panic: unexported field "
   ]
  },
  {
   "cell_type": "code",
   "execution_count": 35,
   "metadata": {},
   "outputs": [
    {
     "name": "stdout",
     "output_type": "stream",
     "text": [
      "Display os.stdout (reflect.Value):\n",
      "(*os.stdout.typ).size = 8\n",
      "(*os.stdout.typ).ptrdata = 8\n",
      "(*os.stdout.typ).hash = 1971918968\n",
      "(*os.stdout.typ).tflag = 15\n",
      "(*os.stdout.typ).align = 8\n",
      "(*os.stdout.typ).fieldAlign = 8\n",
      "(*os.stdout.typ).kind = 57\n",
      "(*os.stdout.typ).equal = func(unsafe.Pointer, unsafe.Pointer) bool 0x100936cb0\n",
      "(*(*os.stdout.typ).gcdata) = 1\n",
      "(*os.stdout.typ).str = 4916\n",
      "(*os.stdout.typ).ptrToThis = 93632\n",
      "os.stdout.ptr = unsafe.Pointer value\n",
      "os.stdout.flag = 409\n"
     ]
    }
   ],
   "source": [
    "import \"gopl.io/ch12/display\"\n",
    "%%\n",
    "stdout := reflect.ValueOf(os.Stdout).Elem()\n",
    "display.Display(\"os.stdout\", stdout)"
   ]
  },
  {
   "cell_type": "code",
   "execution_count": 36,
   "metadata": {},
   "outputs": [
    {
     "name": "stdout",
     "output_type": "stream",
     "text": [
      "Display os.stdout (*os.File):\n",
      "(*(*os.stdout).file).pfd.fdmu.state = 0\n",
      "(*(*os.stdout).file).pfd.fdmu.rsema = 0\n",
      "(*(*os.stdout).file).pfd.fdmu.wsema = 0\n",
      "(*(*os.stdout).file).pfd.Sysfd = 1\n",
      "(*(*os.stdout).file).pfd.pd.runtimeCtx = 0\n",
      "(*(*os.stdout).file).pfd.iovecs = nil\n",
      "(*(*os.stdout).file).pfd.csema = 0\n",
      "(*(*os.stdout).file).pfd.isBlocking = 1\n",
      "(*(*os.stdout).file).pfd.IsStream = true\n",
      "(*(*os.stdout).file).pfd.ZeroReadIsEOF = true\n",
      "(*(*os.stdout).file).pfd.isFile = true\n",
      "(*(*os.stdout).file).name = \"/dev/stdout\"\n",
      "(*(*os.stdout).file).dirinfo = nil\n",
      "(*(*os.stdout).file).nonblock = false\n",
      "(*(*os.stdout).file).stdoutOrErr = true\n",
      "(*(*os.stdout).file).appendMode = false\n"
     ]
    }
   ],
   "source": [
    "%%\n",
    "display.Display(\"os.stdout\",os.Stdout)"
   ]
  },
  {
   "cell_type": "markdown",
   "metadata": {},
   "source": [
    "## Example: Decoding S-Expressions"
   ]
  },
  {
   "cell_type": "code",
   "execution_count": 32,
   "metadata": {},
   "outputs": [],
   "source": [
    "import (\n",
    "        \"bytes\"\n",
    "        \"fmt\"\n",
    "        \"reflect\"\n",
    "        \"strconv\"\n",
    "        \"text/scanner\"\n",
    ")\n",
    "//!+lexer\n",
    "type lexer struct {\n",
    "        scan  scanner.Scanner\n",
    "        token rune // the current token\n",
    "}\n",
    "\n",
    "func (lex *lexer) next()        { lex.token = lex.scan.Scan() }\n",
    "func (lex *lexer) text() string { return lex.scan.TokenText() }\n",
    "\n",
    "func (lex *lexer) consume(want rune) {\n",
    "        if lex.token != want { // NOTE: Not an example of good error handling.\n",
    "                panic(fmt.Sprintf(\"got %q, want %q\", lex.text(), want))\n",
    "        }\n",
    "        lex.next()\n",
    "}"
   ]
  },
  {
   "cell_type": "code",
   "execution_count": 35,
   "metadata": {},
   "outputs": [],
   "source": [
    "func read(lex *lexer, v reflect.Value) {\n",
    "        switch lex.token {\n",
    "        case scanner.Ident:\n",
    "                // The only valid identifiers are\n",
    "                // \"nil\" and struct field names.\n",
    "                if lex.text() == \"nil\" {\n",
    "                        v.Set(reflect.Zero(v.Type()))\n",
    "                        lex.next()\n",
    "                        return\n",
    "                }\n",
    "        case scanner.String:\n",
    "                s, _ := strconv.Unquote(lex.text()) // NOTE: ignoring errors\n",
    "                v.SetString(s)\n",
    "                lex.next()\n",
    "                return\n",
    "        case scanner.Int:\n",
    "                i, _ := strconv.Atoi(lex.text()) // NOTE: ignoring errors\n",
    "                v.SetInt(int64(i))\n",
    "                lex.next()\n",
    "                return\n",
    "        case '(':\n",
    "                lex.next()\n",
    "                readList(lex, v)\n",
    "                lex.next() // consume ')'\n",
    "                return\n",
    "        }\n",
    "        panic(fmt.Sprintf(\"unexpected token %q\", lex.text()))\n",
    "}\n",
    "func readList(lex *lexer, v reflect.Value) {\n",
    "        switch v.Kind() {\n",
    "        case reflect.Array: // (item ...)\n",
    "                for i := 0; !endList(lex); i++ {\n",
    "                        read(lex, v.Index(i))\n",
    "                }\n",
    "\n",
    "        case reflect.Slice: // (item ...)\n",
    "                for !endList(lex) {\n",
    "                        item := reflect.New(v.Type().Elem()).Elem()\n",
    "                        read(lex, item)\n",
    "                        v.Set(reflect.Append(v, item))\n",
    "                }\n",
    "\n",
    "        case reflect.Struct: // ((name value) ...)\n",
    "                for !endList(lex) {\n",
    "                        lex.consume('(')\n",
    "                        if lex.token != scanner.Ident {\n",
    "                                panic(fmt.Sprintf(\"got token %q, want field name\", lex.text()))\n",
    "                        }\n",
    "                        name := lex.text()\n",
    "                        lex.next()\n",
    "                        read(lex, v.FieldByName(name))\n",
    "                        lex.consume(')')\n",
    "                }\n",
    "\n",
    "        case reflect.Map: // ((key value) ...)\n",
    "                v.Set(reflect.MakeMap(v.Type()))\n",
    "                for !endList(lex) {\n",
    "                        lex.consume('(')\n",
    "                        key := reflect.New(v.Type().Key()).Elem()\n",
    "                        read(lex, key)\n",
    "                        value := reflect.New(v.Type().Elem()).Elem()\n",
    "                        read(lex, value)\n",
    "                        v.SetMapIndex(key, value)\n",
    "                        lex.consume(')')\n",
    "                }\n",
    "\n",
    "        default:\n",
    "                panic(fmt.Sprintf(\"cannot decode list into %v\", v.Type()))\n",
    "        }\n",
    "}"
   ]
  },
  {
   "cell_type": "code",
   "execution_count": 34,
   "metadata": {},
   "outputs": [],
   "source": [
    "func endList(lex *lexer) bool {\n",
    "        switch lex.token {\n",
    "        case scanner.EOF:\n",
    "                panic(\"end of file\")\n",
    "        case ')':\n",
    "                return true\n",
    "        }\n",
    "        return false\n",
    "}"
   ]
  },
  {
   "cell_type": "code",
   "execution_count": null,
   "metadata": {},
   "outputs": [],
   "source": [
    "//!+Unmarshal\n",
    "// Unmarshal parses S-expression data and populates the variable\n",
    "// whose address is in the non-nil pointer out.\n",
    "func Unmarshal(data []byte, out interface{}) (err error) {\n",
    "        lex := &lexer{scan: scanner.Scanner{Mode: scanner.GoTokens}}\n",
    "        lex.scan.Init(bytes.NewReader(data))\n",
    "        lex.next() // get the first token\n",
    "        defer func() {\n",
    "                // NOTE: this is not an example of ideal error handling.\n",
    "                if x := recover(); x != nil {\n",
    "                        err = fmt.Errorf(\"error at %s: %v\", lex.scan.Position, x)\n",
    "                }\n",
    "        }()\n",
    "        read(lex, reflect.ValueOf(out).Elem())\n",
    "        return nil\n",
    "}\n"
   ]
  },
  {
   "cell_type": "code",
   "execution_count": 45,
   "metadata": {},
   "outputs": [
    {
     "name": "stdout",
     "output_type": "stream",
     "text": [
      "((Title \"Dr. Strangelove\") (Subtitle \"How I Learned to Stop Worrying and Love the Bomb\") (Year 1964) (Actor ((\"Brig. Gen. Jack D. Ripper\" \"Sterling Hayden\") (\"Maj. T.J. \\\"King\\\" Kong\" \"Slim Pickens\") (\"Dr. Strangelove\" \"Peter Sellers\") (\"Grp. Capt. Lionel Mandrake\" \"Peter Sellers\") (\"Pres. Merkin Muffley\" \"Peter Sellers\") (\"Gen. Buck Turgidson\" \"George C. Scott\"))) (Oscars (\"Best Actor (Nomin.)\" \"Best Adapted Screenplay (Nomin.)\" \"Best Director (Nomin.)\" \"Best Picture (Nomin.)\")) (Sequel nil))\n",
      "\n",
      "{Dr. Strangelove How I Learned to Stop Worrying and Love the Bomb 1964 map[Brig. Gen. Jack D. Ripper:Sterling Hayden Dr. Strangelove:Peter Sellers Gen. Buck Turgidson:George C. Scott Grp. Capt. Lionel Mandrake:Peter Sellers Maj. T.J. \"King\" Kong:Slim Pickens Pres. Merkin Muffley:Peter Sellers] [Best Actor (Nomin.) Best Adapted Screenplay (Nomin.) Best Director (Nomin.) Best Picture (Nomin.)] <nil>}"
     ]
    }
   ],
   "source": [
    "import (\"gopl.io/ch12/sexpr\"; \"os\"; \"fmt\")\n",
    "%%\n",
    "data, err := sexpr.Marshal(strangelove)\n",
    "//data, err := Marshal(strangelove)\n",
    "_ = err\n",
    "//fmt.Println(err)\n",
    "//fmt.Printf(\"%s\", data)\n",
    "//fmt.Println(strangelove)\n",
    "//data, err := sexpr.Marshal(os.Stderr)\n",
    "//_ = err\n",
    "//fmt.Println(err)\n",
    "fmt.Printf(\"%s\\n\\n\", data)\n",
    "\n",
    "var movie Movie\n",
    "err = sexpr.Unmarshal(data, &movie)\n",
    "fmt.Print(movie)"
   ]
  },
  {
   "cell_type": "markdown",
   "metadata": {},
   "source": [
    "## Accessing Struct Field Tags"
   ]
  },
  {
   "cell_type": "code",
   "execution_count": 46,
   "metadata": {},
   "outputs": [],
   "source": [
    "import \"net/http\"\n",
    "import \"gopl.io/ch12/params\"\n",
    "\n",
    "// search implements the /search URL endpoint.\n",
    "func search(resp http.ResponseWriter, req *http.Request) {\n",
    "        var data struct {\n",
    "                Labels     []string `http:\"l\"`\n",
    "                MaxResults int      `http:\"max\"`\n",
    "                Exact      bool     `http:\"x\"`\n",
    "        }\n",
    "        data.MaxResults = 10 // set default\n",
    "        if err := params.Unpack(req, &data); err != nil {\n",
    "                http.Error(resp, err.Error(), http.StatusBadRequest) // 400\n",
    "                return\n",
    "        }\n",
    "\n",
    "        // ...rest of handler...\n",
    "        fmt.Fprintf(resp, \"Search: %+v\\n\", data)\n",
    "}"
   ]
  },
  {
   "cell_type": "code",
   "execution_count": 48,
   "metadata": {},
   "outputs": [
    {
     "name": "stderr",
     "output_type": "stream",
     "text": [
      "^C\n",
      "signal: interrupt\n"
     ]
    }
   ],
   "source": [
    "import \"log\"\n",
    "func main() {\n",
    "        http.HandleFunc(\"/search\", search)\n",
    "        log.Fatal(http.ListenAndServe(\":12345\", nil))\n",
    "}\n",
    "\n",
    "/*\n",
    "//!+output\n",
    "$ go build gopl.io/ch12/search\n",
    "$ ./search &\n",
    "$ ./fetch 'http://localhost:12345/search'\n",
    "Search: {Labels:[] MaxResults:10 Exact:false}\n",
    "$ ./fetch 'http://localhost:12345/search?l=golang&l=programming'\n",
    "Search: {Labels:[golang programming] MaxResults:10 Exact:false}\n",
    "$ ./fetch 'http://localhost:12345/search?l=golang&l=programming&max=100'\n",
    "Search: {Labels:[golang programming] MaxResults:100 Exact:false}\n",
    "$ ./fetch 'http://localhost:12345/search?x=true&l=golang&l=programming'\n",
    "Search: {Labels:[golang programming] MaxResults:10 Exact:true}\n",
    "$ ./fetch 'http://localhost:12345/search?q=hello&x=123'\n",
    "x: strconv.ParseBool: parsing \"123\": invalid syntax\n",
    "$ ./fetch 'http://localhost:12345/search?q=hello&max=lots'\n",
    "max: strconv.ParseInt: parsing \"lots\": invalid syntax\n",
    "//!-output\n",
    "*/"
   ]
  },
  {
   "cell_type": "code",
   "execution_count": null,
   "metadata": {},
   "outputs": [],
   "source": [
    "main()"
   ]
  },
  {
   "cell_type": "markdown",
   "metadata": {},
   "source": [
    "* [http://localhost:12345/search](http://localhost:12345/search)\n",
    "* [http://localhost:12345/search?l=golang&l=programming](http://localhost:12345/search?l=golang&l=programming)\n",
    "* [http://localhost:12345/search?l=golang&l=programming&max=100](http://localhost:12345/search?l=golang&l=programming&max=100)\n",
    "* [http://localhost:12345/search?x=true&l=golang&l=programming](http://localhost:12345/search?x=true&l=golang&l=programming)\n",
    "* [http://localhost:12345/search?q=hello&x=123](http://localhost:12345/search?q=hello&x=123)\n",
    "* [http://localhost:12345/search?q=hello&max=lots](http://localhost:12345/search?q=hello&max=lots)"
   ]
  },
  {
   "cell_type": "code",
   "execution_count": null,
   "metadata": {},
   "outputs": [],
   "source": [
    "//!+populate\n",
    "import \"strconv\"\n",
    "import \"fmt\"\n",
    "func populate(v reflect.Value, value string) error {\n",
    "        switch v.Kind() {\n",
    "        case reflect.String:\n",
    "                v.SetString(value)\n",
    "\n",
    "        case reflect.Int:\n",
    "                i, err := strconv.ParseInt(value, 10, 64)\n",
    "                if err != nil {\n",
    "                        return err\n",
    "                }\n",
    "                v.SetInt(i)\n",
    "\n",
    "        case reflect.Bool:\n",
    "                b, err := strconv.ParseBool(value)\n",
    "                if err != nil {\n",
    "                        return err\n",
    "                }\n",
    "                v.SetBool(b)\n",
    "\n",
    "        default:\n",
    "                return fmt.Errorf(\"unsupported kind %s\", v.Type())\n",
    "        }\n",
    "        return nil\n",
    "}"
   ]
  },
  {
   "cell_type": "code",
   "execution_count": null,
   "metadata": {},
   "outputs": [],
   "source": [
    "import \"net/http\"\n",
    "import \"reflect\"\n",
    "import \"strings\"\n",
    "// Unpack populates the fields of the struct pointed to by ptr\n",
    "// from the HTTP request parameters in req.\n",
    "func Unpack(req *http.Request, ptr interface{}) error {\n",
    "        if err := req.ParseForm(); err != nil {\n",
    "                return err\n",
    "        }\n",
    "\n",
    "        // Build map of fields keyed by effective name.\n",
    "        fields := make(map[string]reflect.Value)\n",
    "        v := reflect.ValueOf(ptr).Elem() // the struct variable\n",
    "        for i := 0; i < v.NumField(); i++ {\n",
    "                fieldInfo := v.Type().Field(i) // a reflect.StructField\n",
    "                tag := fieldInfo.Tag           // a reflect.StructTag\n",
    "                name := tag.Get(\"http\")\n",
    "                if name == \"\" {\n",
    "                        name = strings.ToLower(fieldInfo.Name)\n",
    "                }\n",
    "                fields[name] = v.Field(i)\n",
    "        }\n",
    "\n",
    "        // Update struct field for each parameter in the request.\n",
    "        for name, values := range req.Form {\n",
    "                f := fields[name]\n",
    "                if !f.IsValid() {\n",
    "                        continue // ignore unrecognized HTTP parameters\n",
    "                }\n",
    "                for _, value := range values {\n",
    "                        if f.Kind() == reflect.Slice {\n",
    "                                elem := reflect.New(f.Type().Elem()).Elem()\n",
    "                                if err := populate(elem, value); err != nil {\n",
    "                                        return fmt.Errorf(\"%s: %v\", name, err)\n",
    "                                }\n",
    "                                f.Set(reflect.Append(f, elem))\n",
    "                         } else {\n",
    "                                if err := populate(f, value); err != nil {\n",
    "                                        return fmt.Errorf(\"%s: %v\", name, err)\n",
    "                                }\n",
    "                        }\n",
    "                }\n",
    "        }\n",
    "        return nil\n",
    "}                    "
   ]
  },
  {
   "cell_type": "markdown",
   "metadata": {},
   "source": [
    "## Displaying the Methods of a Type"
   ]
  },
  {
   "cell_type": "code",
   "execution_count": 49,
   "metadata": {},
   "outputs": [],
   "source": [
    "import \"strings\"\n",
    "import \"reflect\"\n",
    "import \"fmt\"\n",
    "func Print(x interface{}) {\n",
    "        v := reflect.ValueOf(x)\n",
    "        t := v.Type()\n",
    "        fmt.Printf(\"type %s\\n\", t)\n",
    "\n",
    "        for i := 0; i < v.NumMethod(); i++ {\n",
    "                methType := v.Method(i).Type()\n",
    "                fmt.Printf(\"func (%s) %s%s\\n\", t, t.Method(i).Name,\n",
    "                        strings.TrimPrefix(methType.String(), \"func\"))\n",
    "        }\n",
    "}"
   ]
  },
  {
   "cell_type": "code",
   "execution_count": 51,
   "metadata": {},
   "outputs": [
    {
     "name": "stdout",
     "output_type": "stream",
     "text": [
      "type time.Duration\n",
      "func (time.Duration) Abs() time.Duration\n",
      "func (time.Duration) Hours() float64\n",
      "func (time.Duration) Microseconds() int64\n",
      "func (time.Duration) Milliseconds() int64\n",
      "func (time.Duration) Minutes() float64\n",
      "func (time.Duration) Nanoseconds() int64\n",
      "func (time.Duration) Round(time.Duration) time.Duration\n",
      "func (time.Duration) Seconds() float64\n",
      "func (time.Duration) String() string\n",
      "func (time.Duration) Truncate(time.Duration) time.Duration\n"
     ]
    }
   ],
   "source": [
    "import \"time\"\n",
    "%%\n",
    "Print(time.Hour)"
   ]
  },
  {
   "cell_type": "code",
   "execution_count": 52,
   "metadata": {},
   "outputs": [
    {
     "name": "stdout",
     "output_type": "stream",
     "text": [
      "type *strings.Replacer\n",
      "func (*strings.Replacer) Replace(string) string\n",
      "func (*strings.Replacer) WriteString(io.Writer, string) (int, error)\n"
     ]
    }
   ],
   "source": [
    "import \"strings\"\n",
    "%%\n",
    "Print(new(strings.Replacer))"
   ]
  }
 ],
 "metadata": {
  "kernelspec": {
   "display_name": "Go (gonb)",
   "language": "go",
   "name": "gonb"
  },
  "language_info": {
   "codemirror_mode": "",
   "file_extension": ".go",
   "mimetype": "",
   "name": "go",
   "nbconvert_exporter": "",
   "pygments_lexer": "",
   "version": "go1.21.1"
  },
  "rise": {
   "enable_chalkboard": true,
   "scroll": true
  },
  "toc": {
   "base_numbering": "12",
   "nav_menu": {},
   "number_sections": true,
   "sideBar": false,
   "skip_h1_title": false,
   "title_cell": "Table of Contents",
   "title_sidebar": "Contents",
   "toc_cell": true,
   "toc_position": {
    "height": "calc(100% - 180px)",
    "left": "10px",
    "top": "150px",
    "width": "165px"
   },
   "toc_section_display": true,
   "toc_window_display": false
  }
 },
 "nbformat": 4,
 "nbformat_minor": 4
}
