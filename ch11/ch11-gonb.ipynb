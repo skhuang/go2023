{
 "cells": [
  {
   "cell_type": "markdown",
   "metadata": {
    "toc": true
   },
   "source": [
    "<h1>Table of Contents<span class=\"tocSkip\"></span></h1>\n",
    "<div class=\"toc\"><ul class=\"toc-item\"><li><span><a href=\"#Testing\" data-toc-modified-id=\"Testing-11\"><span class=\"toc-item-num\">11&nbsp;&nbsp;</span>Testing</a></span><ul class=\"toc-item\"><li><span><a href=\"#The-go-test-Tool\" data-toc-modified-id=\"The-go-test-Tool-11.1\"><span class=\"toc-item-num\">11.1&nbsp;&nbsp;</span>The go test Tool</a></span></li><li><span><a href=\"#Test-Functions\" data-toc-modified-id=\"Test-Functions-11.2\"><span class=\"toc-item-num\">11.2&nbsp;&nbsp;</span>Test Functions</a></span><ul class=\"toc-item\"><li><ul class=\"toc-item\"><li><span><a href=\"#Rewrite-the-functions\" data-toc-modified-id=\"Rewrite-the-functions-11.2.0.1\"><span class=\"toc-item-num\">11.2.0.1&nbsp;&nbsp;</span>Rewrite the functions</a></span></li></ul></li><li><span><a href=\"#Table-driven-testing\" data-toc-modified-id=\"Table-driven-testing-11.2.1\"><span class=\"toc-item-num\">11.2.1&nbsp;&nbsp;</span>Table-driven testing</a></span></li><li><span><a href=\"#Randomized-Testing\" data-toc-modified-id=\"Randomized-Testing-11.2.2\"><span class=\"toc-item-num\">11.2.2&nbsp;&nbsp;</span>Randomized Testing</a></span></li><li><span><a href=\"#Testing-a-Command\" data-toc-modified-id=\"Testing-a-Command-11.2.3\"><span class=\"toc-item-num\">11.2.3&nbsp;&nbsp;</span>Testing a Command</a></span></li><li><span><a href=\"#White-Box-Testing\" data-toc-modified-id=\"White-Box-Testing-11.2.4\"><span class=\"toc-item-num\">11.2.4&nbsp;&nbsp;</span>White-Box Testing</a></span></li></ul></li><li><span><a href=\"#Coverage\" data-toc-modified-id=\"Coverage-11.3\"><span class=\"toc-item-num\">11.3&nbsp;&nbsp;</span>Coverage</a></span></li><li><span><a href=\"#Benchmark-Functions\" data-toc-modified-id=\"Benchmark-Functions-11.4\"><span class=\"toc-item-num\">11.4&nbsp;&nbsp;</span>Benchmark Functions</a></span></li><li><span><a href=\"#Profiling\" data-toc-modified-id=\"Profiling-11.5\"><span class=\"toc-item-num\">11.5&nbsp;&nbsp;</span>Profiling</a></span></li><li><span><a href=\"#Example-Functions\" data-toc-modified-id=\"Example-Functions-11.6\"><span class=\"toc-item-num\">11.6&nbsp;&nbsp;</span>Example Functions</a></span></li><li><span><a href=\"#Fuzz-Testing\" data-toc-modified-id=\"Fuzz-Testing-11.7\"><span class=\"toc-item-num\">11.7&nbsp;&nbsp;</span>Fuzz Testing</a></span></li></ul></li></ul></div>"
   ]
  },
  {
   "cell_type": "markdown",
   "metadata": {},
   "source": [
    "# Testing"
   ]
  },
  {
   "cell_type": "markdown",
   "metadata": {},
   "source": [
    "## The go test Tool"
   ]
  },
  {
   "cell_type": "code",
   "execution_count": null,
   "metadata": {
    "scrolled": false
   },
   "outputs": [],
   "source": [
    "!go help test"
   ]
  },
  {
   "cell_type": "code",
   "execution_count": 3,
   "metadata": {},
   "outputs": [
    {
     "name": "stdout",
     "output_type": "stream",
     "text": [
      "The 'go test' command takes both flags that apply to 'go test' itself\n",
      "and flags that apply to the resulting test binary.\n",
      "\n",
      "Several of the flags control profiling and write an execution profile\n",
      "suitable for \"go tool pprof\"; run \"go tool pprof -h\" for more\n",
      "information. The --alloc_space, --alloc_objects, and --show_bytes\n",
      "options of pprof control how the information is presented.\n",
      "\n",
      "The following flags are recognized by the 'go test' command and\n",
      "control the execution of any test:\n",
      "\n",
      "\t-bench regexp\n",
      "\t    Run only those benchmarks matching a regular expression.\n",
      "\t    By default, no benchmarks are run.\n",
      "\t    To run all benchmarks, use '-bench .' or '-bench=.'.\n",
      "\t    The regular expression is split by unbracketed slash (/)\n",
      "\t    characters into a sequence of regular expressions, and each\n",
      "\t    part of a benchmark's identifier must match the corresponding\n",
      "\t    element in the sequence, if any. Possible parents of matches\n",
      "\t    are run with b.N=1 to identify sub-benchmarks. For example,\n",
      "\t    given -bench=X/Y, top-level benchmarks matching X are run\n",
      "\t    with b.N=1 to find any sub-benchmarks matching Y, which are\n",
      "\t    then run in full.\n",
      "\n",
      "\t-benchtime t\n",
      "\t    Run enough iterations of each benchmark to take t, specified\n",
      "\t    as a time.Duration (for example, -benchtime 1h30s).\n",
      "\t    The default is 1 second (1s).\n",
      "\t    The special syntax Nx means to run the benchmark N times\n",
      "\t    (for example, -benchtime 100x).\n",
      "\n",
      "\t-count n\n",
      "\t    Run each test, benchmark, and fuzz seed n times (default 1).\n",
      "\t    If -cpu is set, run n times for each GOMAXPROCS value.\n",
      "\t    Examples are always run once. -count does not apply to\n",
      "\t    fuzz tests matched by -fuzz.\n",
      "\n",
      "\t-cover\n",
      "\t    Enable coverage analysis.\n",
      "\t    Note that because coverage works by annotating the source\n",
      "\t    code before compilation, compilation and test failures with\n",
      "\t    coverage enabled may report line numbers that don't correspond\n",
      "\t    to the original sources.\n",
      "\n",
      "\t-covermode set,count,atomic\n",
      "\t    Set the mode for coverage analysis for the package[s]\n",
      "\t    being tested. The default is \"set\" unless -race is enabled,\n",
      "\t    in which case it is \"atomic\".\n",
      "\t    The values:\n",
      "\t\tset: bool: does this statement run?\n",
      "\t\tcount: int: how many times does this statement run?\n",
      "\t\tatomic: int: count, but correct in multithreaded tests;\n",
      "\t\t\tsignificantly more expensive.\n",
      "\t    Sets -cover.\n",
      "\n",
      "\t-coverpkg pattern1,pattern2,pattern3\n",
      "\t    Apply coverage analysis in each test to packages matching the patterns.\n",
      "\t    The default is for each test to analyze only the package being tested.\n",
      "\t    See 'go help packages' for a description of package patterns.\n",
      "\t    Sets -cover.\n",
      "\n",
      "\t-cpu 1,2,4\n",
      "\t    Specify a list of GOMAXPROCS values for which the tests, benchmarks or\n",
      "\t    fuzz tests should be executed. The default is the current value\n",
      "\t    of GOMAXPROCS. -cpu does not apply to fuzz tests matched by -fuzz.\n",
      "\n",
      "\t-failfast\n",
      "\t    Do not start new tests after the first test failure.\n",
      "\n",
      "\t-fuzz regexp\n",
      "\t    Run the fuzz test matching the regular expression. When specified,\n",
      "\t    the command line argument must match exactly one package within the\n",
      "\t    main module, and regexp must match exactly one fuzz test within\n",
      "\t    that package. Fuzzing will occur after tests, benchmarks, seed corpora\n",
      "\t    of other fuzz tests, and examples have completed. See the Fuzzing\n",
      "\t    section of the testing package documentation for details.\n",
      "\n",
      "\t-fuzztime t\n",
      "\t    Run enough iterations of the fuzz target during fuzzing to take t,\n",
      "\t    specified as a time.Duration (for example, -fuzztime 1h30s).\n",
      "\t\tThe default is to run forever.\n",
      "\t    The special syntax Nx means to run the fuzz target N times\n",
      "\t    (for example, -fuzztime 1000x).\n",
      "\n",
      "\t-fuzzminimizetime t\n",
      "\t    Run enough iterations of the fuzz target during each minimization\n",
      "\t    attempt to take t, as specified as a time.Duration (for example,\n",
      "\t    -fuzzminimizetime 30s).\n",
      "\t\tThe default is 60s.\n",
      "\t    The special syntax Nx means to run the fuzz target N times\n",
      "\t    (for example, -fuzzminimizetime 100x).\n",
      "\n",
      "\t-json\n",
      "\t    Log verbose output and test results in JSON. This presents the\n",
      "\t    same information as the -v flag in a machine-readable format.\n",
      "\n",
      "\t-list regexp\n",
      "\t    List tests, benchmarks, fuzz tests, or examples matching the regular\n",
      "\t    expression. No tests, benchmarks, fuzz tests, or examples will be run.\n",
      "\t    This will only list top-level tests. No subtest or subbenchmarks will be\n",
      "\t    shown.\n",
      "\n",
      "\t-parallel n\n",
      "\t    Allow parallel execution of test functions that call t.Parallel, and\n",
      "\t    fuzz targets that call t.Parallel when running the seed corpus.\n",
      "\t    The value of this flag is the maximum number of tests to run\n",
      "\t    simultaneously.\n",
      "\t    While fuzzing, the value of this flag is the maximum number of\n",
      "\t    subprocesses that may call the fuzz function simultaneously, regardless of\n",
      "\t    whether T.Parallel is called.\n",
      "\t    By default, -parallel is set to the value of GOMAXPROCS.\n",
      "\t    Setting -parallel to values higher than GOMAXPROCS may cause degraded\n",
      "\t    performance due to CPU contention, especially when fuzzing.\n",
      "\t    Note that -parallel only applies within a single test binary.\n",
      "\t    The 'go test' command may run tests for different packages\n",
      "\t    in parallel as well, according to the setting of the -p flag\n",
      "\t    (see 'go help build').\n",
      "\n",
      "\t-run regexp\n",
      "\t    Run only those tests, examples, and fuzz tests matching the regular\n",
      "\t    expression. For tests, the regular expression is split by unbracketed\n",
      "\t    slash (/) characters into a sequence of regular expressions, and each\n",
      "\t    part of a test's identifier must match the corresponding element in\n",
      "\t    the sequence, if any. Note that possible parents of matches are\n",
      "\t    run too, so that -run=X/Y matches and runs and reports the result\n",
      "\t    of all tests matching X, even those without sub-tests matching Y,\n",
      "\t    because it must run them to look for those sub-tests.\n",
      "\n",
      "\t-short\n",
      "\t    Tell long-running tests to shorten their run time.\n",
      "\t    It is off by default but set during all.bash so that installing\n",
      "\t    the Go tree can run a sanity check but not spend time running\n",
      "\t    exhaustive tests.\n",
      "\n",
      "\t-shuffle off,on,N\n",
      "\t    Randomize the execution order of tests and benchmarks.\n",
      "\t    It is off by default. If -shuffle is set to on, then it will seed\n",
      "\t    the randomizer using the system clock. If -shuffle is set to an\n",
      "\t    integer N, then N will be used as the seed value. In both cases,\n",
      "\t    the seed will be reported for reproducibility.\n",
      "\n",
      "\t-timeout d\n",
      "\t    If a test binary runs longer than duration d, panic.\n",
      "\t    If d is 0, the timeout is disabled.\n",
      "\t    The default is 10 minutes (10m).\n",
      "\n",
      "\t-v\n",
      "\t    Verbose output: log all tests as they are run. Also print all\n",
      "\t    text from Log and Logf calls even if the test succeeds.\n",
      "\n",
      "\t-vet list\n",
      "\t    Configure the invocation of \"go vet\" during \"go test\"\n",
      "\t    to use the comma-separated list of vet checks.\n",
      "\t    If list is empty, \"go test\" runs \"go vet\" with a curated list of\n",
      "\t    checks believed to be always worth addressing.\n",
      "\t    If list is \"off\", \"go test\" does not run \"go vet\" at all.\n",
      "\n",
      "The following flags are also recognized by 'go test' and can be used to\n",
      "profile the tests during execution:\n",
      "\n",
      "\t-benchmem\n",
      "\t    Print memory allocation statistics for benchmarks.\n",
      "\n",
      "\t-blockprofile block.out\n",
      "\t    Write a goroutine blocking profile to the specified file\n",
      "\t    when all tests are complete.\n",
      "\t    Writes test binary as -c would.\n",
      "\n",
      "\t-blockprofilerate n\n",
      "\t    Control the detail provided in goroutine blocking profiles by\n",
      "\t    calling runtime.SetBlockProfileRate with n.\n",
      "\t    See 'go doc runtime.SetBlockProfileRate'.\n",
      "\t    The profiler aims to sample, on average, one blocking event every\n",
      "\t    n nanoseconds the program spends blocked. By default,\n",
      "\t    if -test.blockprofile is set without this flag, all blocking events\n",
      "\t    are recorded, equivalent to -test.blockprofilerate=1.\n",
      "\n",
      "\t-coverprofile cover.out\n",
      "\t    Write a coverage profile to the file after all tests have passed.\n",
      "\t    Sets -cover.\n",
      "\n",
      "\t-cpuprofile cpu.out\n",
      "\t    Write a CPU profile to the specified file before exiting.\n",
      "\t    Writes test binary as -c would.\n",
      "\n",
      "\t-memprofile mem.out\n",
      "\t    Write an allocation profile to the file after all tests have passed.\n",
      "\t    Writes test binary as -c would.\n",
      "\n",
      "\t-memprofilerate n\n",
      "\t    Enable more precise (and expensive) memory allocation profiles by\n",
      "\t    setting runtime.MemProfileRate. See 'go doc runtime.MemProfileRate'.\n",
      "\t    To profile all memory allocations, use -test.memprofilerate=1.\n",
      "\n",
      "\t-mutexprofile mutex.out\n",
      "\t    Write a mutex contention profile to the specified file\n",
      "\t    when all tests are complete.\n",
      "\t    Writes test binary as -c would.\n",
      "\n",
      "\t-mutexprofilefraction n\n",
      "\t    Sample 1 in n stack traces of goroutines holding a\n",
      "\t    contended mutex.\n",
      "\n",
      "\t-outputdir directory\n",
      "\t    Place output files from profiling in the specified directory,\n",
      "\t    by default the directory in which \"go test\" is running.\n",
      "\n",
      "\t-trace trace.out\n",
      "\t    Write an execution trace to the specified file before exiting.\n",
      "\n",
      "Each of these flags is also recognized with an optional 'test.' prefix,\n",
      "as in -test.v. When invoking the generated test binary (the result of\n",
      "'go test -c') directly, however, the prefix is mandatory.\n",
      "\n",
      "The 'go test' command rewrites or removes recognized flags,\n",
      "as appropriate, both before and after the optional package list,\n",
      "before invoking the test binary.\n",
      "\n",
      "For instance, the command\n",
      "\n",
      "\tgo test -v -myflag testdata -cpuprofile=prof.out -x\n",
      "\n",
      "will compile the test binary and then run it as\n",
      "\n",
      "\tpkg.test -test.v -myflag testdata -test.cpuprofile=prof.out\n",
      "\n",
      "(The -x flag is removed because it applies only to the go command's\n",
      "execution, not to the test itself.)\n",
      "\n",
      "The test flags that generate profiles (other than for coverage) also\n",
      "leave the test binary in pkg.test for use when analyzing the profiles.\n",
      "\n",
      "When 'go test' runs a test binary, it does so from within the\n",
      "corresponding package's source code directory. Depending on the test,\n",
      "it may be necessary to do the same when invoking a generated test\n",
      "binary directly. Because that directory may be located within the\n",
      "module cache, which may be read-only and is verified by checksums, the\n",
      "test must not write to it or any other directory within the module\n",
      "unless explicitly requested by the user (such as with the -fuzz flag,\n",
      "which writes failures to testdata/fuzz).\n",
      "\n",
      "The command-line package list, if present, must appear before any\n",
      "flag not known to the go test command. Continuing the example above,\n",
      "the package list would have to appear before -myflag, but could appear\n",
      "on either side of -v.\n",
      "\n",
      "When 'go test' runs in package list mode, 'go test' caches successful\n",
      "package test results to avoid unnecessary repeated running of tests. To\n",
      "disable test caching, use any test flag or argument other than the\n",
      "cacheable flags. The idiomatic way to disable test caching explicitly\n",
      "is to use -count=1.\n",
      "\n",
      "To keep an argument for a test binary from being interpreted as a\n",
      "known flag or a package name, use -args (see 'go help test') which\n",
      "passes the remainder of the command line through to the test binary\n",
      "uninterpreted and unaltered.\n",
      "\n",
      "For instance, the command\n",
      "\n",
      "\tgo test -v -args -x -v\n",
      "\n",
      "will compile the test binary and then run it as\n",
      "\n",
      "\tpkg.test -test.v -x -v\n",
      "\n",
      "Similarly,\n",
      "\n",
      "\tgo test -args math\n",
      "\n",
      "will compile the test binary and then run it as\n",
      "\n",
      "\tpkg.test math\n",
      "\n",
      "In the first example, the -x and the second -v are passed through to the\n",
      "test binary unchanged and with no effect on the go command itself.\n",
      "In the second example, the argument math is passed through to the test\n",
      "binary, instead of being interpreted as the package list.\n"
     ]
    }
   ],
   "source": [
    "!go help testflag"
   ]
  },
  {
   "cell_type": "markdown",
   "metadata": {},
   "source": [
    "[https://pkg.go.dev/testing](https://pkg.go.dev/testing)"
   ]
  },
  {
   "cell_type": "markdown",
   "metadata": {},
   "source": [
    "## Test Functions"
   ]
  },
  {
   "cell_type": "code",
   "execution_count": 4,
   "metadata": {},
   "outputs": [],
   "source": [
    "import \"unicode\"\n",
    "func IsPalindrome(s string) bool {\n",
    "\tvar letters []rune\n",
    "\tfor _, r := range s {\n",
    "\t\tif unicode.IsLetter(r) {\n",
    "\t\t\tletters = append(letters, unicode.ToLower(r))\n",
    "\t\t}\n",
    "\t}\n",
    "\tfor i := range letters {\n",
    "\t\tif letters[i] != letters[len(letters)-1-i] {\n",
    "\t\t\treturn false\n",
    "\t\t}\n",
    "\t}\n",
    "\treturn true\n",
    "}"
   ]
  },
  {
   "cell_type": "code",
   "execution_count": 6,
   "metadata": {},
   "outputs": [],
   "source": [
    "//package word\n",
    "\n",
    "import \"testing\"\n",
    "\n",
    "func TestPalindrome(t *testing.T) {\n",
    "        if !IsPalindrome(\"detartrated\") {\n",
    "                t.Error(`IsPalindrome(\"detartrated\") = false`)\n",
    "        }\n",
    "        if !IsPalindrome(\"kayak\") {\n",
    "                t.Error(`IsPalindrome(\"kayak\") = false`)\n",
    "        }\n",
    "}\n",
    "\n",
    "func TestNonPalindrome(t *testing.T) {\n",
    "        if IsPalindrome(\"palindrome\") {\n",
    "                t.Error(`IsPalindrome(\"palindrome\") = true`)\n",
    "        }\n",
    "}"
   ]
  },
  {
   "cell_type": "markdown",
   "metadata": {},
   "source": [
    "<code>\n",
    "$ go test -v gopl.io/ch11/word1\n",
    "</code>"
   ]
  },
  {
   "cell_type": "code",
   "execution_count": 46,
   "metadata": {},
   "outputs": [
    {
     "name": "stdout",
     "output_type": "stream",
     "text": [
      "=== RUN   TestPalindrome\n",
      "--- PASS: TestPalindrome (0.00s)\n",
      "=== RUN   TestNonPalindrome\n",
      "--- PASS: TestNonPalindrome (0.00s)\n",
      "=== RUN   TestFrenchPalindrome\n",
      "    word_test.go:32: IsPalindrome(\"été\") = false\n",
      "--- FAIL: TestFrenchPalindrome (0.00s)\n",
      "=== RUN   TestCanalPalindrome\n",
      "    word_test.go:39: IsPalindrome(\"A man, a plan, a canal: Panama\") = false\n",
      "--- FAIL: TestCanalPalindrome (0.00s)\n",
      "FAIL\n",
      "FAIL\tgopl.io/ch11/word1\t0.312s\n",
      "FAIL\n"
     ]
    },
    {
     "name": "stderr",
     "output_type": "stream",
     "text": [
      "exit status 1\n"
     ]
    }
   ],
   "source": [
    "!go test -v gopl.io/ch11/word1"
   ]
  },
  {
   "cell_type": "code",
   "execution_count": 49,
   "metadata": {},
   "outputs": [
    {
     "name": "stdout",
     "output_type": "stream",
     "text": [
      "=== RUN   TestPalindrome\n",
      "--- PASS: TestPalindrome (0.00s)\n",
      "=== RUN   TestNonPalindrome\n",
      "--- PASS: TestNonPalindrome (0.00s)\n",
      "=== RUN   TestFrenchPalindrome\n",
      "    word_test.go:32: IsPalindrome(\"été\") = false\n",
      "--- FAIL: TestFrenchPalindrome (0.00s)\n",
      "=== RUN   TestCanalPalindrome\n",
      "    word_test.go:39: IsPalindrome(\"A man, a plan, a canal: Panama\") = false\n",
      "--- FAIL: TestCanalPalindrome (0.00s)\n",
      "FAIL\n",
      "FAIL\tgopl.io/ch11/word1\t0.087s\n",
      "FAIL\n"
     ]
    },
    {
     "name": "stderr",
     "output_type": "stream",
     "text": [
      "exit status 1\n"
     ]
    }
   ],
   "source": [
    "!go test -v -run=\"Palin|Canal\" gopl.io/ch11/word1"
   ]
  },
  {
   "cell_type": "markdown",
   "metadata": {},
   "source": [
    "#### Rewrite the functions"
   ]
  },
  {
   "cell_type": "code",
   "execution_count": 39,
   "metadata": {},
   "outputs": [],
   "source": [
    "// IsPalindrome reports whether s reads the same forward and backward.\n",
    "// Letter case is ignored, as are non-letters.\n",
    "func IsPalindrome(s string) bool {\n",
    "        //var letters []rune\n",
    "        letters := make([]rune,0, len(s))\n",
    "        for _, r := range s {\n",
    "                if unicode.IsLetter(r) {\n",
    "                        letters = append(letters, unicode.ToLower(r))\n",
    "                }\n",
    "        }\n",
    "        //for i := range letters {\n",
    "        n := len(letters)/2\n",
    "        for i :=0; i<n; i++ {\n",
    "                if letters[i] != letters[len(letters)-1-i] {\n",
    "                        return false\n",
    "                }\n",
    "        }\n",
    "        return true\n",
    "}\n"
   ]
  },
  {
   "cell_type": "markdown",
   "metadata": {},
   "source": [
    "### Table-driven testing"
   ]
  },
  {
   "cell_type": "code",
   "execution_count": 41,
   "metadata": {},
   "outputs": [],
   "source": [
    "import (\n",
    "        \"fmt\"\n",
    "        \"math/rand\"\n",
    "        \"time\"\n",
    ")\n",
    "\n",
    "//!+bench\n",
    "\n",
    "import \"testing\"\n",
    "\n",
    "//!-bench\n",
    "\n",
    "//!+test\n",
    "func TestIsPalindrome(t *testing.T) {\n",
    "        var tests = []struct {\n",
    "                input string\n",
    "                want  bool\n",
    "        }{\n",
    "                {\"\", true},\n",
    "                {\"a\", true},\n",
    "                {\"aa\", true},\n",
    "                {\"ab\", false},\n",
    "                {\"kayak\", true},\n",
    "                   {\"detartrated\", true},\n",
    "                {\"A man, a plan, a canal: Panama\", true},\n",
    "                {\"Evil I did dwell; lewd did I live.\", true},\n",
    "                {\"Able was I ere I saw Elba\", true},\n",
    "                {\"été\", true},\n",
    "                {\"Et se resservir, ivresse reste.\", true},\n",
    "                {\"palindrome\", false}, // non-palindrome\n",
    "                {\"desserts\", false},   // semi-palindrome\n",
    "        }\n",
    "        for _, test := range tests {\n",
    "                if got := IsPalindrome(test.input); got != test.want {\n",
    "                        t.Errorf(\"IsPalindrome(%q) = %v\", test.input, got)\n",
    "                }\n",
    "        }\n",
    "}\n"
   ]
  },
  {
   "cell_type": "code",
   "execution_count": 50,
   "metadata": {},
   "outputs": [
    {
     "name": "stdout",
     "output_type": "stream",
     "text": [
      "=== RUN   TestIsPalindrome\n",
      "--- PASS: TestIsPalindrome (0.00s)\n",
      "=== RUN   TestRandomPalindromes\n",
      "    word_test.go:92: Random seed: 1702454498978667000\n",
      "--- PASS: TestRandomPalindromes (0.00s)\n",
      "=== RUN   ExampleIsPalindrome\n",
      "--- PASS: ExampleIsPalindrome (0.00s)\n",
      "PASS\n",
      "ok  \tgopl.io/ch11/word2\t(cached)\n"
     ]
    }
   ],
   "source": [
    "!go test -v gopl.io/ch11/word2"
   ]
  },
  {
   "cell_type": "markdown",
   "metadata": {},
   "source": [
    "### Randomized Testing"
   ]
  },
  {
   "cell_type": "code",
   "execution_count": 42,
   "metadata": {},
   "outputs": [],
   "source": [
    "import \"math/rand\"\n",
    "func randomPalindrome(rng *rand.Rand) string {\n",
    "\tn := rng.Intn(25) // random length up to 24\n",
    "\trunes := make([]rune, n)\n",
    "\tfor i := 0; i < (n+1)/2; i++ {\n",
    "\t\tr := rune(rng.Intn(0x1000)) // random rune up to '\\u0999'\n",
    "\t\trunes[i] = r\n",
    "\t\trunes[n-1-i] = r\n",
    "\t}\n",
    "\treturn string(runes)\n",
    "}"
   ]
  },
  {
   "cell_type": "code",
   "execution_count": 43,
   "metadata": {},
   "outputs": [],
   "source": [
    "import \"testing\"\n",
    "import \"time\"\n",
    "func TestRandomPalindromes(t *testing.T) {\n",
    "\t// Initialize a pseudo-random number generator.\n",
    "\tseed := time.Now().UTC().UnixNano()\n",
    "\tt.Logf(\"Random seed: %d\", seed)\n",
    "\trng := rand.New(rand.NewSource(seed))\n",
    "\n",
    "\tfor i := 0; i < 1000; i++ {\n",
    "\t\tp := randomPalindrome(rng)\n",
    "\t\tif !IsPalindrome(p) {\n",
    "\t\t\tt.Errorf(\"IsPalindrome(%q) = false\", p)\n",
    "\t\t}\n",
    "\t}\n",
    "}"
   ]
  },
  {
   "cell_type": "code",
   "execution_count": 16,
   "metadata": {},
   "outputs": [
    {
     "name": "stdout",
     "output_type": "stream",
     "text": [
      "=== RUN   TestRandomPalindromes\n",
      "    word_test.go:92: Random seed: 1702454601585470000\n",
      "--- PASS: TestRandomPalindromes (0.00s)\n",
      "PASS\n",
      "ok  \tgopl.io/ch11/word2\t0.099s\n"
     ]
    }
   ],
   "source": [
    "!go test -v -run=\"Random\" gopl.io/ch11/word2"
   ]
  },
  {
   "cell_type": "markdown",
   "metadata": {},
   "source": [
    "### Testing a Command"
   ]
  },
  {
   "cell_type": "code",
   "execution_count": 44,
   "metadata": {
    "code_folding": []
   },
   "outputs": [],
   "source": [
    "//gopl.io/ch11/echo\n",
    "import (\n",
    "\t\"flag\"\n",
    "\t\"fmt\"\n",
    "\t\"io\"\n",
    "\t\"os\"\n",
    "\t\"strings\"\n",
    ")\n",
    "\n",
    "var (\n",
    "\tn = flag.Bool(\"n\", false, \"omit trailing newline\")\n",
    "\ts = flag.String(\"s\", \" \", \"separator\")\n",
    ")\n",
    "var out io.Writer = os.Stdout // modified during testing\n",
    "\n",
    "func main() {\n",
    "\tflag.Parse()\n",
    "\tif err := echo(!*n, *s, flag.Args()); err != nil {\n",
    "\t\tfmt.Fprintf(os.Stderr, \"echo: %v\\n\", err)\n",
    "\t\tos.Exit(1)\n",
    "\t}\n",
    "}\n",
    "\n",
    "func echo(newline bool, sep string, args []string) error {\n",
    "\tfmt.Fprint(out, strings.Join(args, sep))\n",
    "\tif newline {\n",
    "\t\tfmt.Fprintln(out)\n",
    "\t}\n",
    "\treturn nil\n",
    "}"
   ]
  },
  {
   "cell_type": "code",
   "execution_count": 45,
   "metadata": {
    "code_folding": [
     0
    ]
   },
   "outputs": [],
   "source": [
    "// Test of echo command.  Run with: go test gopl.io/ch11/echo\n",
    "\n",
    "//!+\n",
    "//package main\n",
    "\n",
    "import (\n",
    "\t\"bytes\"\n",
    "\t\"fmt\"\n",
    "\t\"testing\"\n",
    ")\n",
    "\n",
    "func TestEcho(t *testing.T) {\n",
    "\tvar tests = []struct {\n",
    "\t\tnewline bool\n",
    "\t\tsep     string\n",
    "\t\targs    []string\n",
    "\t\twant    string\n",
    "\t}{\n",
    "\t\t{true, \"\", []string{}, \"\\n\"},\n",
    "\t\t{false, \"\", []string{}, \"\"},\n",
    "\t\t{true, \"\\t\", []string{\"one\", \"two\", \"three\"}, \"one\\ttwo\\tthree\\n\"},\n",
    "\t\t{true, \",\", []string{\"a\", \"b\", \"c\"}, \"a,b,c\\n\"},\n",
    "\t\t{false, \":\", []string{\"1\", \"2\", \"3\"}, \"1:2:3\"},\n",
    "\t}\n",
    "\n",
    "\tfor _, test := range tests {\n",
    "\t\tdescr := fmt.Sprintf(\"echo(%v, %q, %q)\",\n",
    "\t\t\ttest.newline, test.sep, test.args)\n",
    "\n",
    "\t\tout = new(bytes.Buffer) // captured output\n",
    "\t\tif err := echo(test.newline, test.sep, test.args); err != nil {\n",
    "\t\t\tt.Errorf(\"%s failed: %v\", descr, err)\n",
    "\t\t\tcontinue\n",
    "\t\t}\n",
    "\t\tgot := out.(*bytes.Buffer).String()\n",
    "\t\tif got != test.want {\n",
    "\t\t\tt.Errorf(\"%s = %q, want %q\", descr, got, test.want)\n",
    "\t\t}\n",
    "\t}\n",
    "}\n"
   ]
  },
  {
   "cell_type": "code",
   "execution_count": 51,
   "metadata": {},
   "outputs": [
    {
     "name": "stdout",
     "output_type": "stream",
     "text": [
      "=== RUN   TestEcho\n",
      "--- PASS: TestEcho (0.00s)\n",
      "PASS\n",
      "ok  \tgopl.io/ch11/echo\t(cached)\n"
     ]
    }
   ],
   "source": [
    "!go test -v gopl.io/ch11/echo"
   ]
  },
  {
   "cell_type": "markdown",
   "metadata": {},
   "source": [
    "### White-Box Testing"
   ]
  },
  {
   "cell_type": "code",
   "execution_count": 19,
   "metadata": {
    "code_folding": []
   },
   "outputs": [],
   "source": [
    "//gopl.io/ch11/storage1\n",
    "// Copyright © 2016 Alan A. A. Donovan & Brian W. Kernighan.\n",
    "// License: https://creativecommons.org/licenses/by-nc-sa/4.0/\n",
    "\n",
    "// See page 311.\n",
    "\n",
    "// Package storage is part of a hypothetical cloud storage server.\n",
    "//!+main\n",
    "//package storage\n",
    "\n",
    "import (\n",
    "\t\"fmt\"\n",
    "\t\"log\"\n",
    "\t\"net/smtp\"\n",
    ")\n",
    "\n",
    "var usage = make(map[string]int64)\n",
    "\n",
    "func bytesInUse(username string) int64 { return usage[username] }\n",
    "\n",
    "// Email sender configuration.\n",
    "// NOTE: never put passwords in source code!\n",
    "const sender = \"notifications@example.com\"\n",
    "const password = \"correcthorsebatterystaple\"\n",
    "const hostname = \"smtp.example.com\"\n",
    "\n",
    "const template = `Warning: you are using %d bytes of storage, %d%% of your quota.`\n",
    "\n",
    "func CheckQuota(username string) {\n",
    "\tused := bytesInUse(username)\n",
    "\tconst quota = 1000000000 // 1GB\n",
    "\tpercent := 100 * used / quota\n",
    "\tif percent < 90 {\n",
    "\t\treturn // OK\n",
    "\t}\n",
    "\tmsg := fmt.Sprintf(template, used, percent)\n",
    "\tauth := smtp.PlainAuth(\"\", sender, password, hostname)\n",
    "\terr := smtp.SendMail(hostname+\":587\", auth, sender,\n",
    "\t\t[]string{username}, []byte(msg))\n",
    "\tif err != nil {\n",
    "\t\tlog.Printf(\"smtp.SendMail(%s) failed: %s\", username, err)\n",
    "\t}\n",
    "}\n",
    "\n",
    "//!-main"
   ]
  },
  {
   "cell_type": "code",
   "execution_count": 21,
   "metadata": {
    "code_folding": []
   },
   "outputs": [],
   "source": [
    "//gopl.io/ch11/storage2\n",
    "// Copyright © 2016 Alan A. A. Donovan & Brian W. Kernighan.\n",
    "// License: https://creativecommons.org/licenses/by-nc-sa/4.0/\n",
    "\n",
    "// See page 312.\n",
    "\n",
    "// Package storage is part of a hypothetical cloud storage server.\n",
    "//package storage\n",
    "\n",
    "import (\n",
    "\t\"fmt\"\n",
    "\t\"log\"\n",
    "\t\"net/smtp\"\n",
    ")\n",
    "\n",
    "var usage = make(map[string]int64)\n",
    "\n",
    "func bytesInUse(username string) int64 { return usage[username] }\n",
    "\n",
    "// E-mail sender configuration.\n",
    "// NOTE: never put passwords in source code!\n",
    "const sender = \"notifications@example.com\"\n",
    "const password = \"correcthorsebatterystaple\"\n",
    "const hostname = \"smtp.example.com\"\n",
    "\n",
    "const template = `Warning: you are using %d bytes of storage, %d%% of your quota.`\n",
    "\n",
    "//!+factored\n",
    "var notifyUser = func(username, msg string) {\n",
    "\tauth := smtp.PlainAuth(\"\", sender, password, hostname)\n",
    "\terr := smtp.SendMail(hostname+\":587\", auth, sender,\n",
    "\t\t[]string{username}, []byte(msg))\n",
    "\tif err != nil {\n",
    "\t\tlog.Printf(\"smtp.SendMail(%s) failed: %s\", username, err)\n",
    "\t}\n",
    "}\n",
    "\n",
    "func CheckQuota(username string) {\n",
    "\tused := bytesInUse(username)\n",
    "\tconst quota = 1000000000 // 1GB\n",
    "\tpercent := 100 * used / quota\n",
    "\tif percent < 90 {\n",
    "\t\treturn // OK\n",
    "\t}\n",
    "\tmsg := fmt.Sprintf(template, used, percent)\n",
    "\tnotifyUser(username, msg)\n",
    "}\n",
    "\n",
    "//!-factored"
   ]
  },
  {
   "cell_type": "code",
   "execution_count": 22,
   "metadata": {
    "code_folding": []
   },
   "outputs": [],
   "source": [
    "//gopl.io/ch11/quota_test.go\n",
    "// Copyright © 2016 Alan A. A. Donovan & Brian W. Kernighan.\n",
    "// License: https://creativecommons.org/licenses/by-nc-sa/4.0/\n",
    "\n",
    "//!+test\n",
    "//package storage\n",
    "\n",
    "import (\n",
    "\t\"strings\"\n",
    "\t\"testing\"\n",
    ")\n",
    "\n",
    "func TestCheckQuotaNotifiesUser(t *testing.T) {\n",
    "\tvar notifiedUser, notifiedMsg string\n",
    "\tnotifyUser = func(user, msg string) {\n",
    "\t\tnotifiedUser, notifiedMsg = user, msg\n",
    "\t}\n",
    "\n",
    "\tconst user = \"joe@example.org\"\n",
    "\tusage[user] = 980000000 // simulate a 980MB-used condition\n",
    "\n",
    "\tCheckQuota(user)\n",
    "\tif notifiedUser == \"\" && notifiedMsg == \"\" {\n",
    "\t\tt.Fatalf(\"notifyUser not called\")\n",
    "\t}\n",
    "\tif notifiedUser != user {\n",
    "\t\tt.Errorf(\"wrong user (%s) notified, want %s\",\n",
    "\t\t\tnotifiedUser, user)\n",
    "\t}\n",
    "\tconst wantSubstring = \"98% of your quota\"\n",
    "\tif !strings.Contains(notifiedMsg, wantSubstring) {\n",
    "\t\tt.Errorf(\"unexpected notification message <<%s>>, \"+\n",
    "\t\t\t\"want substring %q\", notifiedMsg, wantSubstring)\n",
    "\t}\n",
    "}\n",
    "\n",
    "//!-test\n",
    "\n",
    "/*\n",
    "//!+defer\n",
    "func TestCheckQuotaNotifiesUser(t *testing.T) {\n",
    "\t// Save and restore original notifyUser.\n",
    "\tsaved := notifyUser\n",
    "\tdefer func() { notifyUser = saved }()\n",
    "\t// Install the test's fake notifyUser.\n",
    "\tvar notifiedUser, notifiedMsg string\n",
    "\tnotifyUser = func(user, msg string) {\n",
    "\t\tnotifiedUser, notifiedMsg = user, msg\n",
    "\t}\n",
    "\t// ...rest of test...\n",
    "}\n",
    "//!-defer\n",
    "*/"
   ]
  },
  {
   "cell_type": "code",
   "execution_count": 24,
   "metadata": {},
   "outputs": [
    {
     "name": "stdout",
     "output_type": "stream",
     "text": [
      "=== RUN   TestCheckQuotaNotifiesUser\n",
      "--- PASS: TestCheckQuotaNotifiesUser (0.00s)\n",
      "PASS\n",
      "ok  \tgopl.io/ch11/storage2\t(cached)\n"
     ]
    }
   ],
   "source": [
    "!go test -v gopl.io/ch11/storage2"
   ]
  },
  {
   "cell_type": "markdown",
   "metadata": {},
   "source": [
    "## Coverage"
   ]
  },
  {
   "cell_type": "code",
   "execution_count": 29,
   "metadata": {},
   "outputs": [
    {
     "data": {
      "text/html": [
       "\n",
       "<style>\n",
       ".gonb-err-location {\n",
       "\tbackground: var(--jp-err-color2);  \n",
       "\tborder-radius: 3px;\n",
       "\tborder-style: dotted;\n",
       "\tborder-width: 1px;\n",
       "\tborder-color: var(--jp-border-color2);\n",
       "}\n",
       ".gonb-err-location:hover {\n",
       "\tborder-width: 2px;\n",
       "\tborder-style: solid;\n",
       "\tborder-color: var(--jp-border-color2);\n",
       "}\n",
       ".gonb-err-context {\n",
       "\tdisplay: none;\n",
       "}\n",
       ".gonb-err-location:hover + .gonb-err-context {\n",
       "\tbackground: var(--jp-dialog-background);  \n",
       "\tborder-radius: 3px;\n",
       "\tborder-style: solid;\n",
       "\tborder-width: 1px;\n",
       "\tborder-color: var(--jp-border-color2);\n",
       "\tdisplay: block;\n",
       "\twhite-space: pre;\n",
       "\tfont-family: monospace;\n",
       "}\n",
       ".gonb-err-line {\n",
       "\tborder-radius: 3px;\n",
       "\tborder-style: dotted;\n",
       "\tborder-width: 1px;\t\n",
       "\tborder-color: var(--jp-border-color2);\n",
       "\tbackground-color: var(--jp-rendermime-err-background);\n",
       "\tfont-weight: bold;\n",
       "}\n",
       ".gonb-cell-line-info {\n",
       "\tbackground: var(--jp-layout-color2);\n",
       "\tcolor: #999;\n",
       "\tmargin: 0.1em;\n",
       "\tborder: 1px solid var(--jp-border-color1);\n",
       "\tpadding-left: 0.2em;\n",
       "\tpadding-right: 0.2em;\n",
       "}\n",
       "</style>\n",
       "<div class=\"lm-Widget p-Widget lm-Panel p-Panel jp-OutputArea-child\">\n",
       "<div class=\"lm-Widget p-Widget jp-RenderedText jp-mod-trusted jp-OutputArea-output\" data-mime-type=\"application/vnd.jupyter.stderr\" style=\"font-family: monospace;\">\n",
       "\n",
       "\n",
       "<span style=\"white-space: pre;\"> # gonb_ae710ac8</span>\n",
       "\n",
       "<br/>\n",
       "\n",
       "<span class=\"gonb-cell-line-info\">Cell[29]: Line 5</span>\n",
       "<span class=\"gonb-err-location\">./main.go:87:22: </span> undefined: Env\n",
       "<div class=\"gonb-err-context\">\n",
       "func TestEval(t *testing.T) {\n",
       "        tests := []struct {\n",
       "                expr string\n",
       "<div class=\"gonb-err-line\">                env  Env\n",
       "</div>                want string\n",
       "        }{\n",
       "\n",
       "</div>\n",
       "\n",
       "<br/>\n",
       "\n",
       "<span class=\"gonb-cell-line-info\">Cell[29]: Line 8</span>\n",
       "<span class=\"gonb-err-location\">./main.go:90:34: </span> undefined: Env\n",
       "<div class=\"gonb-err-context\">\n",
       "                env  Env\n",
       "                want string\n",
       "        }{\n",
       "<div class=\"gonb-err-line\">                {&#34;sqrt(A / pi)&#34;, Env{&#34;A&#34;: 87616, &#34;pi&#34;: math.Pi}, &#34;167&#34;},\n",
       "</div>                {&#34;pow(x, 3) + pow(y, 3)&#34;, Env{&#34;x&#34;: 12, &#34;y&#34;: 1}, &#34;1729&#34;},\n",
       "                {&#34;pow(x, 3) + pow(y, 3)&#34;, Env{&#34;x&#34;: 9, &#34;y&#34;: 10}, &#34;1729&#34;},\n",
       "\n",
       "</div>\n",
       "\n",
       "<br/>\n",
       "\n",
       "<span class=\"gonb-cell-line-info\">Cell[29]: Line 9</span>\n",
       "<span class=\"gonb-err-location\">./main.go:91:43: </span> undefined: Env\n",
       "<div class=\"gonb-err-context\">\n",
       "                want string\n",
       "        }{\n",
       "                {&#34;sqrt(A / pi)&#34;, Env{&#34;A&#34;: 87616, &#34;pi&#34;: math.Pi}, &#34;167&#34;},\n",
       "<div class=\"gonb-err-line\">                {&#34;pow(x, 3) + pow(y, 3)&#34;, Env{&#34;x&#34;: 12, &#34;y&#34;: 1}, &#34;1729&#34;},\n",
       "</div>                {&#34;pow(x, 3) + pow(y, 3)&#34;, Env{&#34;x&#34;: 9, &#34;y&#34;: 10}, &#34;1729&#34;},\n",
       "                {&#34;5 / 9 * (F - 32)&#34;, Env{&#34;F&#34;: -40}, &#34;-40&#34;},\n",
       "\n",
       "</div>\n",
       "\n",
       "<br/>\n",
       "\n",
       "<span class=\"gonb-cell-line-info\">Cell[29]: Line 10</span>\n",
       "<span class=\"gonb-err-location\">./main.go:92:43: </span> undefined: Env\n",
       "<div class=\"gonb-err-context\">\n",
       "        }{\n",
       "                {&#34;sqrt(A / pi)&#34;, Env{&#34;A&#34;: 87616, &#34;pi&#34;: math.Pi}, &#34;167&#34;},\n",
       "                {&#34;pow(x, 3) + pow(y, 3)&#34;, Env{&#34;x&#34;: 12, &#34;y&#34;: 1}, &#34;1729&#34;},\n",
       "<div class=\"gonb-err-line\">                {&#34;pow(x, 3) + pow(y, 3)&#34;, Env{&#34;x&#34;: 9, &#34;y&#34;: 10}, &#34;1729&#34;},\n",
       "</div>                {&#34;5 / 9 * (F - 32)&#34;, Env{&#34;F&#34;: -40}, &#34;-40&#34;},\n",
       "                {&#34;5 / 9 * (F - 32)&#34;, Env{&#34;F&#34;: 32}, &#34;0&#34;},\n",
       "\n",
       "</div>\n",
       "\n",
       "<br/>\n",
       "\n",
       "<span class=\"gonb-cell-line-info\">Cell[29]: Line 11</span>\n",
       "<span class=\"gonb-err-location\">./main.go:93:38: </span> undefined: Env\n",
       "<div class=\"gonb-err-context\">\n",
       "                {&#34;sqrt(A / pi)&#34;, Env{&#34;A&#34;: 87616, &#34;pi&#34;: math.Pi}, &#34;167&#34;},\n",
       "                {&#34;pow(x, 3) + pow(y, 3)&#34;, Env{&#34;x&#34;: 12, &#34;y&#34;: 1}, &#34;1729&#34;},\n",
       "                {&#34;pow(x, 3) + pow(y, 3)&#34;, Env{&#34;x&#34;: 9, &#34;y&#34;: 10}, &#34;1729&#34;},\n",
       "<div class=\"gonb-err-line\">                {&#34;5 / 9 * (F - 32)&#34;, Env{&#34;F&#34;: -40}, &#34;-40&#34;},\n",
       "</div>                {&#34;5 / 9 * (F - 32)&#34;, Env{&#34;F&#34;: 32}, &#34;0&#34;},\n",
       "                {&#34;5 / 9 * (F - 32)&#34;, Env{&#34;F&#34;: 212}, &#34;100&#34;},\n",
       "\n",
       "</div>\n",
       "\n",
       "<br/>\n",
       "\n",
       "<span class=\"gonb-cell-line-info\">Cell[29]: Line 12</span>\n",
       "<span class=\"gonb-err-location\">./main.go:94:38: </span> undefined: Env\n",
       "<div class=\"gonb-err-context\">\n",
       "                {&#34;pow(x, 3) + pow(y, 3)&#34;, Env{&#34;x&#34;: 12, &#34;y&#34;: 1}, &#34;1729&#34;},\n",
       "                {&#34;pow(x, 3) + pow(y, 3)&#34;, Env{&#34;x&#34;: 9, &#34;y&#34;: 10}, &#34;1729&#34;},\n",
       "                {&#34;5 / 9 * (F - 32)&#34;, Env{&#34;F&#34;: -40}, &#34;-40&#34;},\n",
       "<div class=\"gonb-err-line\">                {&#34;5 / 9 * (F - 32)&#34;, Env{&#34;F&#34;: 32}, &#34;0&#34;},\n",
       "</div>                {&#34;5 / 9 * (F - 32)&#34;, Env{&#34;F&#34;: 212}, &#34;100&#34;},\n",
       "                //!-Eval\n",
       "\n",
       "</div>\n",
       "\n",
       "<br/>\n",
       "\n",
       "<span class=\"gonb-cell-line-info\">Cell[29]: Line 13</span>\n",
       "<span class=\"gonb-err-location\">./main.go:95:38: </span> undefined: Env\n",
       "<div class=\"gonb-err-context\">\n",
       "                {&#34;pow(x, 3) + pow(y, 3)&#34;, Env{&#34;x&#34;: 9, &#34;y&#34;: 10}, &#34;1729&#34;},\n",
       "                {&#34;5 / 9 * (F - 32)&#34;, Env{&#34;F&#34;: -40}, &#34;-40&#34;},\n",
       "                {&#34;5 / 9 * (F - 32)&#34;, Env{&#34;F&#34;: 32}, &#34;0&#34;},\n",
       "<div class=\"gonb-err-line\">                {&#34;5 / 9 * (F - 32)&#34;, Env{&#34;F&#34;: 212}, &#34;100&#34;},\n",
       "</div>                //!-Eval\n",
       "                // additional tests that don&#39;t appear in the book\n",
       "\n",
       "</div>\n",
       "\n",
       "<br/>\n",
       "\n",
       "<span class=\"gonb-cell-line-info\">Cell[29]: Line 16</span>\n",
       "<span class=\"gonb-err-location\">./main.go:98:29: </span> undefined: Env\n",
       "<div class=\"gonb-err-context\">\n",
       "                {&#34;5 / 9 * (F - 32)&#34;, Env{&#34;F&#34;: 212}, &#34;100&#34;},\n",
       "                //!-Eval\n",
       "                // additional tests that don&#39;t appear in the book\n",
       "<div class=\"gonb-err-line\">                {&#34;-1 + -x&#34;, Env{&#34;x&#34;: 1}, &#34;-2&#34;},\n",
       "</div>                {&#34;-1 - x&#34;, Env{&#34;x&#34;: 1}, &#34;-2&#34;},\n",
       "                //!+Eval\n",
       "\n",
       "</div>\n",
       "\n",
       "<br/>\n",
       "\n",
       "<span class=\"gonb-cell-line-info\">Cell[29]: Line 17</span>\n",
       "<span class=\"gonb-err-location\">./main.go:99:28: </span> undefined: Env\n",
       "<div class=\"gonb-err-context\">\n",
       "                //!-Eval\n",
       "                // additional tests that don&#39;t appear in the book\n",
       "                {&#34;-1 + -x&#34;, Env{&#34;x&#34;: 1}, &#34;-2&#34;},\n",
       "<div class=\"gonb-err-line\">                {&#34;-1 - x&#34;, Env{&#34;x&#34;: 1}, &#34;-2&#34;},\n",
       "</div>                //!+Eval\n",
       "        }\n",
       "\n",
       "</div>\n",
       "\n",
       "<br/>\n",
       "\n",
       "<span class=\"gonb-cell-line-info\">Cell[29]: Line 27</span>\n",
       "<span class=\"gonb-err-location\">./main.go:109:30: </span> undefined: Parse\n",
       "<div class=\"gonb-err-context\">\n",
       "                        fmt.Printf(&#34;\\n%s\\n&#34;, test.expr)\n",
       "                        prevExpr = test.expr\n",
       "                }\n",
       "<div class=\"gonb-err-line\">                expr, err := Parse(test.expr)\n",
       "</div>                if err != nil {\n",
       "                        t.Error(err) // parse error\n",
       "\n",
       "</div>\n",
       "\n",
       "<br/>\n",
       "\n",
       "<span class=\"gonb-cell-line-info\">Cell[29]: Line 27</span>\n",
       "<span class=\"gonb-err-location\">./main.go:109:30: </span> too many errors\n",
       "<div class=\"gonb-err-context\">\n",
       "                        fmt.Printf(&#34;\\n%s\\n&#34;, test.expr)\n",
       "                        prevExpr = test.expr\n",
       "                }\n",
       "<div class=\"gonb-err-line\">                expr, err := Parse(test.expr)\n",
       "</div>                if err != nil {\n",
       "                        t.Error(err) // parse error\n",
       "\n",
       "</div>\n",
       "\n",
       "<br/>\n",
       "\n",
       "\n",
       "<span style=\"white-space: pre;\"> </span>\n",
       "\n",
       "<br/>\n",
       "\n",
       "</div>\n"
      ]
     },
     "metadata": {},
     "output_type": "display_data"
    },
    {
     "ename": "ERROR",
     "evalue": "failed to run \"/opt/homebrew/bin/go build -o /var/folders/4d/tg201k8x6yb81f_lrvt4440m0000gn/T/gonb_ae710ac8/gonb_ae710ac8\": exit status 1",
     "output_type": "error",
     "traceback": [
      "failed to run \"/opt/homebrew/bin/go build -o /var/folders/4d/tg201k8x6yb81f_lrvt4440m0000gn/T/gonb_ae710ac8/gonb_ae710ac8\": exit status 1"
     ]
    }
   ],
   "source": [
    "import (\"fmt\";\"math\";\"testing\")\n",
    "func TestEval(t *testing.T) {\n",
    "        tests := []struct {\n",
    "                expr string\n",
    "                env  Env\n",
    "                want string\n",
    "        }{\n",
    "                {\"sqrt(A / pi)\", Env{\"A\": 87616, \"pi\": math.Pi}, \"167\"},\n",
    "                {\"pow(x, 3) + pow(y, 3)\", Env{\"x\": 12, \"y\": 1}, \"1729\"},\n",
    "                {\"pow(x, 3) + pow(y, 3)\", Env{\"x\": 9, \"y\": 10}, \"1729\"},\n",
    "                {\"5 / 9 * (F - 32)\", Env{\"F\": -40}, \"-40\"},\n",
    "                {\"5 / 9 * (F - 32)\", Env{\"F\": 32}, \"0\"},\n",
    "                {\"5 / 9 * (F - 32)\", Env{\"F\": 212}, \"100\"},\n",
    "                //!-Eval\n",
    "                // additional tests that don't appear in the book\n",
    "                {\"-1 + -x\", Env{\"x\": 1}, \"-2\"},\n",
    "                {\"-1 - x\", Env{\"x\": 1}, \"-2\"},\n",
    "                //!+Eval\n",
    "        }\n",
    "        var prevExpr string\n",
    "        for _, test := range tests {\n",
    "                // Print expr only when it changes.\n",
    "                if test.expr != prevExpr {\n",
    "                        fmt.Printf(\"\\n%s\\n\", test.expr)\n",
    "                        prevExpr = test.expr\n",
    "                }\n",
    "                expr, err := Parse(test.expr)\n",
    "                if err != nil {\n",
    "                        t.Error(err) // parse error\n",
    "                        continue\n",
    "                }\n",
    "                got := fmt.Sprintf(\"%.6g\", expr.Eval(test.env))\n",
    "                fmt.Printf(\"\\t%v => %s\\n\", test.env, got)\n",
    "                if got != test.want {\n",
    "                        t.Errorf(\"%s.Eval() in %v = %q, want %q\\n\",\n",
    "                                test.expr, test.env, got, test.want)\n",
    "                }\n",
    "        }\n",
    "}"
   ]
  },
  {
   "cell_type": "markdown",
   "metadata": {},
   "source": [
    "<code>\n",
    "$ go test -v -run=Coverage gopl.io/ch7/eval \n",
    "=== RUN   TestCoverage\n",
    "--- PASS: TestCoverage (0.00s)\n",
    "PASS\n",
    "ok      gopl.io/ch7/eval    0.011s\n",
    "</code>"
   ]
  },
  {
   "cell_type": "code",
   "execution_count": 52,
   "metadata": {},
   "outputs": [
    {
     "name": "stdout",
     "output_type": "stream",
     "text": [
      "=== RUN   TestCoverage\n",
      "--- PASS: TestCoverage (0.00s)\n",
      "PASS\n",
      "ok  \tgopl.io/ch7/eval\t(cached)\n"
     ]
    }
   ],
   "source": [
    "!go test -v -run=Coverage gopl.io/ch7/eval "
   ]
  },
  {
   "cell_type": "markdown",
   "metadata": {},
   "source": [
    "<code>\n",
    "$ go test -v -run=Coverage -coverprofile=c.out gopl.io/ch7/eval\n",
    "=== RUN   TestCoverage\n",
    "--- PASS: TestCoverage (0.00s)\n",
    "PASS\n",
    "coverage: 63.8% of statements\n",
    "ok      gopl.io/ch7/eval        0.018s  coverage: 63.8% of statements\n",
    "</code>"
   ]
  },
  {
   "cell_type": "code",
   "execution_count": 53,
   "metadata": {},
   "outputs": [
    {
     "name": "stdout",
     "output_type": "stream",
     "text": [
      "=== RUN   TestCoverage\n",
      "--- PASS: TestCoverage (0.00s)\n",
      "PASS\n",
      "coverage: 63.8% of statements\n",
      "ok  \tgopl.io/ch7/eval\t0.398s\tcoverage: 63.8% of statements\n"
     ]
    }
   ],
   "source": [
    "!go test -v -run=Coverage -coverprofile=c.out gopl.io/ch7/eval"
   ]
  },
  {
   "cell_type": "markdown",
   "metadata": {},
   "source": [
    "<code>\n",
    "$ go tool cover -html=c.out\n",
    "HTML output written to /tmp/cover854632247/coverage.html\n",
    "</code>"
   ]
  },
  {
   "cell_type": "code",
   "execution_count": 54,
   "metadata": {},
   "outputs": [],
   "source": [
    "!go tool cover -html=c.out"
   ]
  },
  {
   "cell_type": "markdown",
   "metadata": {},
   "source": [
    "[coverage.html](cover3574731311/coverage.html)"
   ]
  },
  {
   "cell_type": "markdown",
   "metadata": {},
   "source": [
    "## Benchmark Functions"
   ]
  },
  {
   "cell_type": "code",
   "execution_count": 49,
   "metadata": {},
   "outputs": [],
   "source": [
    "func BenchmarkIsPalindrome(b *testing.B) {\n",
    "        for i := 0; i < b.N; i++ {\n",
    "                IsPalindrome(\"A man, a plan, a canal: Panama\")\n",
    "        }\n",
    "}"
   ]
  },
  {
   "cell_type": "code",
   "execution_count": 50,
   "metadata": {
    "cell_style": "split"
   },
   "outputs": [],
   "source": [
    "//word.go.1\n",
    "func IsPalindrome(s string) bool {\n",
    "        var letters []rune\n",
    "        for _, r := range s {\n",
    "                if unicode.IsLetter(r) {\n",
    "                        letters = append(letters, unicode.ToLower(r))\n",
    "                }\n",
    "        }\n",
    "        for i := range letters {\n",
    "                if letters[i] != letters[len(letters)-1-i] {\n",
    "                        return false\n",
    "                }\n",
    "        }\n",
    "        return true\n",
    "}"
   ]
  },
  {
   "cell_type": "markdown",
   "metadata": {
    "cell_style": "split"
   },
   "source": [
    "<code>\n",
    "$ rm word.go; ln -s word.go.1 word.go; go test -bench=.\n",
    "goos: linux\n",
    "goarch: amd64\n",
    "pkg: gopl.io/ch11/word2\n",
    "cpu: Intel(R) Core(TM) i5-7200U CPU @ 2.50GHz\n",
    "BenchmarkIsPalindrome-4          3274288               376.9 ns/op\n",
    "PASS\n",
    "ok      gopl.io/ch11/word2      1.627s\n",
    "</code>"
   ]
  },
  {
   "cell_type": "code",
   "execution_count": 55,
   "metadata": {},
   "outputs": [
    {
     "name": "stdout",
     "output_type": "stream",
     "text": [
      "/Users/skhuang/course/go2023/go2023/ch11\n",
      "goos: darwin\n",
      "goarch: arm64\n",
      "pkg: ch7/ch11/word2\n",
      "BenchmarkIsPalindrome-10    \t 6457305\t       166.3 ns/op\n",
      "PASS\n",
      "ok  \tch7/ch11/word2\t1.671s\n"
     ]
    }
   ],
   "source": [
    "!(pwd;cd word2;rm word.go; ln -s word.go.1 word.go; go test -bench=.)"
   ]
  },
  {
   "cell_type": "markdown",
   "metadata": {
    "cell_style": "split"
   },
   "source": [
    "<code>\n",
    "rm word.go; ln -s word.go.1 word.go; go test -bench=. -benchmem\n",
    "goos: linux\n",
    "goarch: amd64\n",
    "pkg: gopl.io/ch11/word2\n",
    "cpu: Intel(R) Core(TM) i5-7200U CPU @ 2.50GHz\n",
    "BenchmarkIsPalindrome-4          2169936               545.5 ns/op           248 B/op          5 allocs/op\n",
    "PASS\n",
    "ok      gopl.io/ch11/word2      1.773s\n",
    "</code>"
   ]
  },
  {
   "cell_type": "code",
   "execution_count": 56,
   "metadata": {},
   "outputs": [
    {
     "name": "stdout",
     "output_type": "stream",
     "text": [
      "goos: darwin\n",
      "goarch: arm64\n",
      "pkg: ch7/ch11/word2\n",
      "BenchmarkIsPalindrome-10    \t 7143759\t       167.0 ns/op\t     248 B/op\t       5 allocs/op\n",
      "PASS\n",
      "ok  \tch7/ch11/word2\t1.453s\n"
     ]
    }
   ],
   "source": [
    "!(cd word2;rm word.go; ln -s word.go.1 word.go; go test -bench=. -benchmem)"
   ]
  },
  {
   "cell_type": "markdown",
   "metadata": {},
   "source": [
    "-----------"
   ]
  },
  {
   "cell_type": "code",
   "execution_count": 51,
   "metadata": {
    "cell_style": "split"
   },
   "outputs": [],
   "source": [
    "//word.go.2\n",
    "func IsPalindrome(s string) bool {\n",
    "        var letters []rune\n",
    "        for _, r := range s {\n",
    "                if unicode.IsLetter(r) {\n",
    "                        letters = append(letters, unicode.ToLower(r))\n",
    "                }\n",
    "        }\n",
    "        //for i := range letters {\n",
    "        n := len(letters)/2\n",
    "        for i :=0; i<n; i++ {\n",
    "                if letters[i] != letters[len(letters)-1-i] {\n",
    "                        return false\n",
    "                }\n",
    "        }\n",
    "        return true\n",
    "}"
   ]
  },
  {
   "cell_type": "markdown",
   "metadata": {
    "cell_style": "split"
   },
   "source": [
    "<code>\n",
    "$ rm word.go; ln -s word.go.2 word.go; go test -bench=.\n",
    "goos: linux\n",
    "goarch: amd64\n",
    "pkg: gopl.io/ch11/word2\n",
    "cpu: Intel(R) Core(TM) i5-7200U CPU @ 2.50GHz\n",
    "BenchmarkIsPalindrome-4          3230330               363.3 ns/op\n",
    "PASS\n",
    "ok      gopl.io/ch11/word2      1.571s\n",
    "</code>"
   ]
  },
  {
   "cell_type": "code",
   "execution_count": 57,
   "metadata": {},
   "outputs": [
    {
     "name": "stdout",
     "output_type": "stream",
     "text": [
      "goos: darwin\n",
      "goarch: arm64\n",
      "pkg: ch7/ch11/word2\n",
      "BenchmarkIsPalindrome-10    \t 6391077\t       164.1 ns/op\n",
      "PASS\n",
      "ok  \tch7/ch11/word2\t1.539s\n"
     ]
    }
   ],
   "source": [
    "!(cd word2;rm word.go; ln -s word.go.2 word.go; go test -bench=.)"
   ]
  },
  {
   "cell_type": "markdown",
   "metadata": {
    "cell_style": "split"
   },
   "source": [
    "<code>\n",
    "rm word.go; ln -s word.go.2 word.go; go test -bench=. -benchmem\n",
    "goos: linux\n",
    "goarch: amd64\n",
    "pkg: gopl.io/ch11/word2\n",
    "cpu: Intel(R) Core(TM) i5-7200U CPU @ 2.50GHz\n",
    "BenchmarkIsPalindrome-4          3204992               364.9 ns/op           248 B/op          5 allocs/op\n",
    "PASS\n",
    "ok      gopl.io/ch11/word2      1.574s\n",
    "    </code>"
   ]
  },
  {
   "cell_type": "code",
   "execution_count": 58,
   "metadata": {},
   "outputs": [
    {
     "name": "stdout",
     "output_type": "stream",
     "text": [
      "goos: darwin\n",
      "goarch: arm64\n",
      "pkg: ch7/ch11/word2\n",
      "BenchmarkIsPalindrome-10    \t 7364905\t       162.2 ns/op\t     248 B/op\t       5 allocs/op\n",
      "PASS\n",
      "ok  \tch7/ch11/word2\t1.435s\n"
     ]
    }
   ],
   "source": [
    "!(cd word2;rm word.go; ln -s word.go.2 word.go; go test -bench=. -benchmem)"
   ]
  },
  {
   "cell_type": "markdown",
   "metadata": {},
   "source": [
    "----"
   ]
  },
  {
   "cell_type": "code",
   "execution_count": 52,
   "metadata": {
    "cell_style": "split"
   },
   "outputs": [],
   "source": [
    "//word.go.3\n",
    "func IsPalindrome(s string) bool {\n",
    "        //var letters []rune\n",
    "        letters := make([]rune,0, len(s))\n",
    "        for _, r := range s {\n",
    "                if unicode.IsLetter(r) {\n",
    "                        letters = append(letters, unicode.ToLower(r))\n",
    "                }\n",
    "        }\n",
    "        for i := range letters {\n",
    "                if letters[i] != letters[len(letters)-1-i] {\n",
    "                        return false\n",
    "                }\n",
    "        }\n",
    "        return true\n",
    "}"
   ]
  },
  {
   "cell_type": "markdown",
   "metadata": {
    "cell_style": "split"
   },
   "source": [
    "<code>\n",
    "$ rm word.go; ln -s word.go.3 word.go; go test -bench=.\n",
    "goos: linux\n",
    "goarch: amd64\n",
    "pkg: gopl.io/ch11/word2\n",
    "cpu: Intel(R) Core(TM) i5-7200U CPU @ 2.50GHz\n",
    "BenchmarkIsPalindrome-4          5476538               209.7 ns/op\n",
    "PASS\n",
    "ok      gopl.io/ch11/word2      1.390s\n",
    "</code>"
   ]
  },
  {
   "cell_type": "code",
   "execution_count": 60,
   "metadata": {},
   "outputs": [
    {
     "name": "stdout",
     "output_type": "stream",
     "text": [
      "goos: darwin\n",
      "goarch: arm64\n",
      "pkg: ch7/ch11/word2\n",
      "BenchmarkIsPalindrome-10    \t12704876\t        89.96 ns/op\n",
      "PASS\n",
      "ok  \tch7/ch11/word2\t1.330s\n"
     ]
    }
   ],
   "source": [
    "!(cd word2;rm word.go; ln -s word.go.3 word.go; go test -bench=.)"
   ]
  },
  {
   "cell_type": "markdown",
   "metadata": {
    "cell_style": "split"
   },
   "source": [
    "<code>\n",
    "rm word.go; ln -s word.go.3 word.go; go test -bench=. -benchmem\n",
    "goos: linux\n",
    "goarch: amd64\n",
    "pkg: gopl.io/ch11/word2\n",
    "cpu: Intel(R) Core(TM) i5-7200U CPU @ 2.50GHz\n",
    "BenchmarkIsPalindrome-4          5408686               211.7 ns/op           128 B/op          1 allocs/op\n",
    "PASS\n",
    "ok      gopl.io/ch11/word2      1.390s\n",
    "</code>"
   ]
  },
  {
   "cell_type": "code",
   "execution_count": 61,
   "metadata": {},
   "outputs": [
    {
     "name": "stdout",
     "output_type": "stream",
     "text": [
      "goos: darwin\n",
      "goarch: arm64\n",
      "pkg: ch7/ch11/word2\n",
      "BenchmarkIsPalindrome-10    \t12906168\t        88.60 ns/op\t     128 B/op\t       1 allocs/op\n",
      "PASS\n",
      "ok  \tch7/ch11/word2\t1.324s\n"
     ]
    }
   ],
   "source": [
    "!(cd word2;rm word.go; ln -s word.go.3 word.go; go test -bench=. -benchmem)"
   ]
  },
  {
   "cell_type": "markdown",
   "metadata": {},
   "source": [
    "------"
   ]
  },
  {
   "cell_type": "code",
   "execution_count": 53,
   "metadata": {
    "cell_style": "split"
   },
   "outputs": [],
   "source": [
    "//word.go.4\n",
    "func IsPalindrome(s string) bool {\n",
    "        //var letters []rune\n",
    "        letters := make([]rune,0, len(s))\n",
    "        for _, r := range s {\n",
    "                if unicode.IsLetter(r) {\n",
    "                        letters = append(letters, unicode.ToLower(r))\n",
    "                }\n",
    "        }\n",
    "        //for i := range letters {\n",
    "        n := len(letters)/2\n",
    "        for i :=0; i<n; i++ {\n",
    "                if letters[i] != letters[len(letters)-1-i] {\n",
    "                        return false\n",
    "                }\n",
    "        }\n",
    "        return true\n",
    "}"
   ]
  },
  {
   "cell_type": "markdown",
   "metadata": {
    "cell_style": "split"
   },
   "source": [
    "<code>\n",
    "rm word.go; ln -s word.go.4 word.go; go test -bench=.\n",
    "goos: linux\n",
    "goarch: amd64\n",
    "pkg: gopl.io/ch11/word2\n",
    "cpu: Intel(R) Core(TM) i5-7200U CPU @ 2.50GHz\n",
    "BenchmarkIsPalindrome-4          5644834               191.5 ns/op\n",
    "PASS\n",
    "ok      gopl.io/ch11/word2      1.319s\n",
    "</code>"
   ]
  },
  {
   "cell_type": "code",
   "execution_count": 62,
   "metadata": {},
   "outputs": [
    {
     "name": "stdout",
     "output_type": "stream",
     "text": [
      "goos: darwin\n",
      "goarch: arm64\n",
      "pkg: ch7/ch11/word2\n",
      "BenchmarkIsPalindrome-10    \t13778595\t        85.82 ns/op\n",
      "PASS\n",
      "ok  \tch7/ch11/word2\t2.778s\n"
     ]
    }
   ],
   "source": [
    "!(cd word2;rm word.go; ln -s word.go.4 word.go; go test -bench=.)"
   ]
  },
  {
   "cell_type": "markdown",
   "metadata": {
    "cell_style": "split"
   },
   "source": [
    "<code>\n",
    "rm word.go; ln -s word.go.4 word.go; go test -bench=. -benchmem\n",
    "goos: linux\n",
    "goarch: amd64\n",
    "pkg: gopl.io/ch11/word2\n",
    "cpu: Intel(R) Core(TM) i5-7200U CPU @ 2.50GHz\n",
    "BenchmarkIsPalindrome-4          5759314               194.2 ns/op           128 B/op          1 allocs/op\n",
    "PASS\n",
    "ok      gopl.io/ch11/word2      1.354s\n",
    "</code>"
   ]
  },
  {
   "cell_type": "code",
   "execution_count": 63,
   "metadata": {},
   "outputs": [
    {
     "name": "stdout",
     "output_type": "stream",
     "text": [
      "goos: darwin\n",
      "goarch: arm64\n",
      "pkg: ch7/ch11/word2\n",
      "BenchmarkIsPalindrome-10    \t13060276\t        87.02 ns/op\t     128 B/op\t       1 allocs/op\n",
      "PASS\n",
      "ok  \tch7/ch11/word2\t1.318s\n"
     ]
    }
   ],
   "source": [
    "!(cd word2;rm word.go; ln -s word.go.4 word.go; go test -bench=. -benchmem)"
   ]
  },
  {
   "cell_type": "markdown",
   "metadata": {},
   "source": [
    "## Profiling"
   ]
  },
  {
   "cell_type": "markdown",
   "metadata": {},
   "source": [
    "<code>\n",
    "$ ulimit -n 4000\n",
    "$ go test -run=NONE -bench=ClientServerParallelTLS64 -cpuprofile=cpu.log net/http\n",
    "PASS\n",
    "goos: linux\n",
    "goarch: amd64\n",
    "pkg: net/http\n",
    "cpu: Intel(R) Xeon(R) CPU           X5675  @ 3.07GHz\n",
    "BenchmarkClientServerParallelTLS64-4    2021/12/21 16:37:16 http: TLS handshake error fr\n",
    "om 127.0.0.1:42421: read tcp 127.0.0.1:36819->127.0.0.1:42421: use of closed network con\n",
    "nection\n",
    "2021/12/21 16:37:16 http: TLS handshake error from 127.0.0.1:42450: read tcp 127.0.0.1:3\n",
    "6819->127.0.0.1:42450: use of closed network connection\n",
    "2021/12/21 16:37:16 http: TLS handshake error from 127.0.0.1:42463: read tcp 127.0.0.1:3\n",
    "6819->127.0.0.1:42463: use of closed network connection\n",
    "2021/12/21 16:37:16 http: TLS handshake error from 127.0.0.1:42454: write tcp 127.0.0.1:\n",
    "36819->127.0.0.1:42454: use of closed network connection\n",
    "2021/12/21 16:37:16 http: TLS handshake error from 127.0.0.1:42481: read tcp 127.0.0.1:3\n",
    "6819->127.0.0.1:42481: use of closed network connection\n",
    "2021/12/21 16:37:16 http: TLS handshake error from 127.0.0.1:42483: read tcp 127.0.0.1:3\n",
    "6819->127.0.0.1:42483: use of closed network connection\n",
    "2021/12/21 16:37:16 http: TLS handshake error from 127.0.0.1:42456: write tcp 127.0.0.1:\n",
    "36819->127.0.0.1:42456: use of closed network connection\n",
    "2021/12/21 16:37:16 http: TLS handshake error from 127.0.0.1:42479: write tcp 127.0.0.1:\n",
    "36819->127.0.0.1:42479: use of closed network connection\n",
    "2021/12/21 16:37:16 http: TLS handshake error from 127.0.0.1:42471: write tcp 127.0.0.1:\n",
    "36819->127.0.0.1:42471: use of closed network connection\n",
    "</code>"
   ]
  },
  {
   "cell_type": "code",
   "execution_count": 64,
   "metadata": {
    "scrolled": false
   },
   "outputs": [
    {
     "name": "stdout",
     "output_type": "stream",
     "text": [
      "goos: darwin\n",
      "goarch: arm64\n",
      "pkg: net/http\n",
      "BenchmarkClientServerParallelTLS64-10    \t2023/12/14 16:05:15 http: TLS handshake error from 127.0.0.1:63322: read tcp 127.0.0.1:63234->127.0.0.1:63322: use of closed network connection\n",
      "2023/12/14 16:05:15 http: TLS handshake error from 127.0.0.1:63243: read tcp 127.0.0.1:63234->127.0.0.1:63243: use of closed network connection\n",
      "2023/12/14 16:05:15 http: TLS handshake error from 127.0.0.1:63308: write tcp 127.0.0.1:63234->127.0.0.1:63308: use of closed network connection\n",
      "2023/12/14 16:05:15 http: TLS handshake error from 127.0.0.1:63297: read tcp 127.0.0.1:63234->127.0.0.1:63297: use of closed network connection\n",
      "2023/12/14 16:05:15 http: TLS handshake error from 127.0.0.1:63317: read tcp 127.0.0.1:63234->127.0.0.1:63317: use of closed network connection\n",
      "2023/12/14 16:05:15 http: TLS handshake error from 127.0.0.1:63246: read tcp 127.0.0.1:63234->127.0.0.1:63246: use of closed network connection\n",
      "2023/12/14 16:05:15 http: TLS handshake error from 127.0.0.1:63245: read tcp 127.0.0.1:63234->127.0.0.1:63245: use of closed network connection\n",
      "2023/12/14 16:05:15 http: TLS handshake error from 127.0.0.1:63247: read tcp 127.0.0.1:63234->127.0.0.1:63247: use of closed network connection\n",
      "2023/12/14 16:05:15 http: TLS handshake error from 127.0.0.1:63256: read tcp 127.0.0.1:63234->127.0.0.1:63256: use of closed network connection\n",
      "2023/12/14 16:05:15 http: TLS handshake error from 127.0.0.1:63264: read tcp 127.0.0.1:63234->127.0.0.1:63264: use of closed network connection\n",
      "2023/12/14 16:05:15 http: TLS handshake error from 127.0.0.1:63267: read tcp 127.0.0.1:63234->127.0.0.1:63267: use of closed network connection\n",
      "2023/12/14 16:05:15 http: TLS handshake error from 127.0.0.1:63268: read tcp 127.0.0.1:63234->127.0.0.1:63268: use of closed network connection\n",
      "2023/12/14 16:05:15 http: TLS handshake error from 127.0.0.1:63258: write tcp 127.0.0.1:63234->127.0.0.1:63258: use of closed network connection\n",
      "2023/12/14 16:05:15 http: TLS handshake error from 127.0.0.1:63241: write tcp 127.0.0.1:63234->127.0.0.1:63241: use of closed network connection\n",
      "2023/12/14 16:05:15 http: TLS handshake error from 127.0.0.1:63257: write tcp 127.0.0.1:63234->127.0.0.1:63257: use of closed network connection\n",
      "2023/12/14 16:05:15 http: TLS handshake error from 127.0.0.1:63320: write tcp 127.0.0.1:63234->127.0.0.1:63320: use of closed network connection\n",
      "2023/12/14 16:05:15 http: TLS handshake error from 127.0.0.1:63266: write tcp 127.0.0.1:63234->127.0.0.1:63266: use of closed network connection\n",
      "2023/12/14 16:05:15 http: TLS handshake error from 127.0.0.1:63240: write tcp 127.0.0.1:63234->127.0.0.1:63240: use of closed network connection\n",
      "2023/12/14 16:05:15 http: TLS handshake error from 127.0.0.1:63301: write tcp 127.0.0.1:63234->127.0.0.1:63301: use of closed network connection\n",
      "2023/12/14 16:05:15 http: TLS handshake error from 127.0.0.1:50215: read tcp 127.0.0.1:63335->127.0.0.1:50215: use of closed network connection\n",
      "2023/12/14 16:05:15 http: TLS handshake error from 127.0.0.1:64457: write tcp 127.0.0.1:63335->127.0.0.1:64457: use of closed network connection\n",
      "2023/12/14 16:05:15 http: TLS handshake error from 127.0.0.1:50225: write tcp 127.0.0.1:63335->127.0.0.1:50225: use of closed network connection\n",
      "2023/12/14 16:05:15 http: TLS handshake error from 127.0.0.1:50311: write tcp 127.0.0.1:63335->127.0.0.1:50311: use of closed network connection\n",
      "2023/12/14 16:05:15 http: TLS handshake error from 127.0.0.1:50250: read tcp 127.0.0.1:63335->127.0.0.1:50250: use of closed network connection\n",
      "2023/12/14 16:05:15 http: TLS handshake error from 127.0.0.1:50249: read tcp 127.0.0.1:63335->127.0.0.1:50249: use of closed network connection\n",
      "2023/12/14 16:05:15 http: TLS handshake error from 127.0.0.1:63970: read tcp 127.0.0.1:63335->127.0.0.1:63970: use of closed network connection\n",
      "2023/12/14 16:05:15 http: TLS handshake error from 127.0.0.1:64871: read tcp 127.0.0.1:63335->127.0.0.1:64871: use of closed network connection\n",
      "2023/12/14 16:05:15 http: TLS handshake error from 127.0.0.1:50340: read tcp 127.0.0.1:63335->127.0.0.1:50340: use of closed network connection\n",
      "2023/12/14 16:05:15 http: TLS handshake error from 127.0.0.1:64861: read tcp 127.0.0.1:63335->127.0.0.1:64861: use of closed network connection\n",
      "2023/12/14 16:05:15 http: TLS handshake error from 127.0.0.1:64875: read tcp 127.0.0.1:63335->127.0.0.1:64875: use of closed network connection\n",
      "2023/12/14 16:05:15 http: TLS handshake error from 127.0.0.1:63853: read tcp 127.0.0.1:63335->127.0.0.1:63853: use of closed network connection\n",
      "2023/12/14 16:05:15 http: TLS handshake error from 127.0.0.1:50247: read tcp 127.0.0.1:63335->127.0.0.1:50247: use of closed network connection\n",
      "2023/12/14 16:05:15 http: TLS handshake error from 127.0.0.1:50248: read tcp 127.0.0.1:63335->127.0.0.1:50248: use of closed network connection\n",
      "2023/12/14 16:05:15 http: TLS handshake error from 127.0.0.1:50246: read tcp 127.0.0.1:63335->127.0.0.1:50246: use of closed network connection\n",
      "2023/12/14 16:05:15 http: TLS handshake error from 127.0.0.1:50242: read tcp 127.0.0.1:63335->127.0.0.1:50242: use of closed network connection\n",
      "2023/12/14 16:05:15 http: TLS handshake error from 127.0.0.1:50241: read tcp 127.0.0.1:63335->127.0.0.1:50241: use of closed network connection\n",
      "2023/12/14 16:05:15 http: TLS handshake error from 127.0.0.1:65045: read tcp 127.0.0.1:63335->127.0.0.1:65045: use of closed network connection\n",
      "2023/12/14 16:05:15 http: TLS handshake error from 127.0.0.1:65047: read tcp 127.0.0.1:63335->127.0.0.1:65047: use of closed network connection\n",
      "2023/12/14 16:05:15 http: TLS handshake error from 127.0.0.1:65046: read tcp 127.0.0.1:63335->127.0.0.1:65046: use of closed network connection\n",
      "2023/12/14 16:05:15 http: TLS handshake error from 127.0.0.1:65044: read tcp 127.0.0.1:63335->127.0.0.1:65044: use of closed network connection\n",
      "2023/12/14 16:05:15 http: TLS handshake error from 127.0.0.1:50319: read tcp 127.0.0.1:63335->127.0.0.1:50319: use of closed network connection\n",
      "2023/12/14 16:05:15 http: TLS handshake error from 127.0.0.1:50316: read tcp 127.0.0.1:63335->127.0.0.1:50316: use of closed network connection\n",
      "2023/12/14 16:05:15 http: TLS handshake error from 127.0.0.1:50314: read tcp 127.0.0.1:63335->127.0.0.1:50314: use of closed network connection\n",
      "2023/12/14 16:05:15 http: TLS handshake error from 127.0.0.1:50299: read tcp 127.0.0.1:63335->127.0.0.1:50299: use of closed network connection\n",
      "2023/12/14 16:05:15 http: TLS handshake error from 127.0.0.1:65186: write tcp 127.0.0.1:63335->127.0.0.1:65186: use of closed network connection\n",
      "2023/12/14 16:05:15 http: TLS handshake error from 127.0.0.1:50300: write tcp 127.0.0.1:63335->127.0.0.1:50300: use of closed network connection\n",
      "2023/12/14 16:05:15 http: TLS handshake error from 127.0.0.1:50254: write tcp 127.0.0.1:63335->127.0.0.1:50254: use of closed network connection\n",
      "2023/12/14 16:05:15 http: Accept error: accept tcp 127.0.0.1:50359: accept: too many open files; retrying in 5ms\n",
      "2023/12/14 16:05:15 http: Accept error: accept tcp 127.0.0.1:50359: accept: too many open files; retrying in 10ms\n",
      "2023/12/14 16:05:15 http: Accept error: accept tcp 127.0.0.1:50359: accept: too many open files; retrying in 20ms\n",
      "2023/12/14 16:05:15 http: Accept error: accept tcp 127.0.0.1:50359: accept: too many open files; retrying in 40ms\n",
      "2023/12/14 16:05:15 http: Accept error: accept tcp 127.0.0.1:50359: accept: too many open files; retrying in 80ms\n",
      "   10464\t    107446 ns/op\t   15793 B/op\t     176 allocs/op\n",
      "--- BENCH: BenchmarkClientServerParallelTLS64-10\n",
      "    serve_test.go:5053: Get: Get \"https://127.0.0.1:63335\": read tcp 127.0.0.1:63341->127.0.0.1:63335: read: connection reset by peer\n",
      "    serve_test.go:5053: Get: Get \"https://127.0.0.1:63335\": read tcp 127.0.0.1:63339->127.0.0.1:63335: read: connection reset by peer\n",
      "    serve_test.go:5053: Get: Get \"https://127.0.0.1:63335\": read tcp 127.0.0.1:63340->127.0.0.1:63335: read: connection reset by peer\n",
      "    serve_test.go:5053: Get: Get \"https://127.0.0.1:63335\": read tcp 127.0.0.1:63343->127.0.0.1:63335: read: connection reset by peer\n",
      "    serve_test.go:5053: Get: Get \"https://127.0.0.1:63335\": read tcp 127.0.0.1:63342->127.0.0.1:63335: read: connection reset by peer\n",
      "    serve_test.go:5053: Get: Get \"https://127.0.0.1:63335\": read tcp 127.0.0.1:63347->127.0.0.1:63335: read: connection reset by peer\n",
      "    serve_test.go:5053: Get: Get \"https://127.0.0.1:63335\": read tcp 127.0.0.1:63359->127.0.0.1:63335: read: connection reset by peer\n",
      "    serve_test.go:5053: Get: Get \"https://127.0.0.1:63335\": read tcp 127.0.0.1:63358->127.0.0.1:63335: read: connection reset by peer\n",
      "    serve_test.go:5053: Get: Get \"https://127.0.0.1:63335\": read tcp 127.0.0.1:63356->127.0.0.1:63335: read: connection reset by peer\n",
      "    serve_test.go:5053: Get: Get \"https://127.0.0.1:63335\": read tcp 127.0.0.1:63355->127.0.0.1:63335: read: connection reset by peer\n",
      "\t... [output truncated]\n"
     ]
    },
    {
     "name": "stdout",
     "output_type": "stream",
     "text": [
      "PASS\n",
      "ok  \tnet/http\t1.696s\n"
     ]
    }
   ],
   "source": [
    "!(ulimit -n 4000;go test -run=NONE -bench=ClientServerParallelTLS64 -cpuprofile=cpu.log net/http)"
   ]
  },
  {
   "cell_type": "markdown",
   "metadata": {},
   "source": [
    "<code>\n",
    "go tool pprof -text -nodecount=10 ./http.test cpu.log\n",
    "File: http.test\n",
    "Type: cpu\n",
    "Time: Dec 21, 2021 at 4:37pm (CST)\n",
    "Duration: 3.95s, Total samples = 9300ms (235.73%)\n",
    "Showing nodes accounting for 6210ms, 66.77% of 9300ms total\n",
    "Dropped 355 nodes (cum <= 46.50ms)\n",
    "Showing top 10 nodes out of 229\n",
    "      flat  flat%   sum%        cum   cum%\n",
    "    1840ms 19.78% 19.78%     1840ms 19.78%  math/big.addMulVVW\n",
    "    1340ms 14.41% 34.19%     1340ms 14.41%  vendor/golang.org/x/crypto/curve25519.ladderstep\n",
    "    1060ms 11.40% 45.59%     1080ms 11.61%  syscall.Syscall\n",
    "     560ms  6.02% 51.61%     2400ms 25.81%  math/big.nat.montgomery\n",
    "     550ms  5.91% 57.53%      550ms  5.91%  crypto/sha256.block\n",
    "     220ms  2.37% 59.89%      440ms  4.73%  runtime.pcvalue\n",
    "     180ms  1.94% 61.83%      210ms  2.26%  runtime.step\n",
    "     160ms  1.72% 63.55%      160ms  1.72%  vendor/golang.org/x/crypto/curve25519.square\n",
    "     150ms  1.61% 65.16%      170ms  1.83%  runtime.findObject\n",
    "     150ms  1.61% 66.77%      850ms  9.14%  runtime.mallocgc\n",
    "</code>"
   ]
  },
  {
   "cell_type": "code",
   "execution_count": 65,
   "metadata": {},
   "outputs": [
    {
     "name": "stdout",
     "output_type": "stream",
     "text": [
      "File: http.test\n",
      "Type: cpu\n",
      "Time: Dec 14, 2023 at 4:05pm (CST)\n",
      "Duration: 1.56s, Total samples = 8510ms (545.51%)\n",
      "Showing nodes accounting for 7620ms, 89.54% of 8510ms total\n",
      "Dropped 175 nodes (cum <= 42.55ms)\n",
      "Showing top 10 nodes out of 213\n",
      "      flat  flat%   sum%        cum   cum%\n",
      "    3430ms 40.31% 40.31%     3440ms 40.42%  syscall.syscall\n",
      "     790ms  9.28% 49.59%      790ms  9.28%  runtime.madvise\n",
      "     700ms  8.23% 57.81%      700ms  8.23%  runtime.kevent\n",
      "     550ms  6.46% 64.28%      550ms  6.46%  runtime.usleep\n",
      "     470ms  5.52% 69.80%      470ms  5.52%  math/big.addMulVVW\n",
      "     410ms  4.82% 74.62%      410ms  4.82%  runtime.pthread_cond_wait\n",
      "     410ms  4.82% 79.44%      410ms  4.82%  syscall.syscall6\n",
      "     370ms  4.35% 83.78%      370ms  4.35%  syscall.rawSyscall\n",
      "     300ms  3.53% 87.31%      780ms  9.17%  math/big.nat.montgomery\n",
      "     190ms  2.23% 89.54%      190ms  2.23%  runtime.pthread_kill\n"
     ]
    }
   ],
   "source": [
    "!go tool pprof -text -nodecount=10 ./http.test cpu.log"
   ]
  },
  {
   "cell_type": "markdown",
   "metadata": {},
   "source": [
    "## Example Functions"
   ]
  },
  {
   "cell_type": "code",
   "execution_count": 1,
   "metadata": {},
   "outputs": [
    {
     "data": {
      "text/html": [
       "\n",
       "<style>\n",
       ".gonb-err-location {\n",
       "\tbackground: var(--jp-err-color2);  \n",
       "\tborder-radius: 3px;\n",
       "\tborder-style: dotted;\n",
       "\tborder-width: 1px;\n",
       "\tborder-color: var(--jp-border-color2);\n",
       "}\n",
       ".gonb-err-location:hover {\n",
       "\tborder-width: 2px;\n",
       "\tborder-style: solid;\n",
       "\tborder-color: var(--jp-border-color2);\n",
       "}\n",
       ".gonb-err-context {\n",
       "\tdisplay: none;\n",
       "}\n",
       ".gonb-err-location:hover + .gonb-err-context {\n",
       "\tbackground: var(--jp-dialog-background);  \n",
       "\tborder-radius: 3px;\n",
       "\tborder-style: solid;\n",
       "\tborder-width: 1px;\n",
       "\tborder-color: var(--jp-border-color2);\n",
       "\tdisplay: block;\n",
       "\twhite-space: pre;\n",
       "\tfont-family: monospace;\n",
       "}\n",
       ".gonb-err-line {\n",
       "\tborder-radius: 3px;\n",
       "\tborder-style: dotted;\n",
       "\tborder-width: 1px;\t\n",
       "\tborder-color: var(--jp-border-color2);\n",
       "\tbackground-color: var(--jp-rendermime-err-background);\n",
       "\tfont-weight: bold;\n",
       "}\n",
       ".gonb-cell-line-info {\n",
       "\tbackground: var(--jp-layout-color2);\n",
       "\tcolor: #999;\n",
       "\tmargin: 0.1em;\n",
       "\tborder: 1px solid var(--jp-border-color1);\n",
       "\tpadding-left: 0.2em;\n",
       "\tpadding-right: 0.2em;\n",
       "}\n",
       "</style>\n",
       "<div class=\"lm-Widget p-Widget lm-Panel p-Panel jp-OutputArea-child\">\n",
       "<div class=\"lm-Widget p-Widget jp-RenderedText jp-mod-trusted jp-OutputArea-output\" data-mime-type=\"application/vnd.jupyter.stderr\" style=\"font-family: monospace;\">\n",
       "\n",
       "\n",
       "<span style=\"white-space: pre;\"> # gonb_e2c12478</span>\n",
       "\n",
       "<br/>\n",
       "\n",
       "<span class=\"gonb-cell-line-info\">Cell[1]: Line 2</span>\n",
       "<span class=\"gonb-err-location\">./main.go:9:21: </span> undefined: IsPalindrome\n",
       "<div class=\"gonb-err-context\">\n",
       ")\n",
       "\n",
       "func ExampleIsPalindrome() {\n",
       "<div class=\"gonb-err-line\">        fmt.Println(IsPalindrome(&#34;A man, a plan, a canal: Panama&#34;))\n",
       "</div>        fmt.Println(IsPalindrome(&#34;palindrome&#34;))\n",
       "        // Output:\n",
       "\n",
       "</div>\n",
       "\n",
       "<br/>\n",
       "\n",
       "<span class=\"gonb-cell-line-info\">Cell[1]: Line 3</span>\n",
       "<span class=\"gonb-err-location\">./main.go:10:21: </span> undefined: IsPalindrome\n",
       "<div class=\"gonb-err-context\">\n",
       "\n",
       "func ExampleIsPalindrome() {\n",
       "        fmt.Println(IsPalindrome(&#34;A man, a plan, a canal: Panama&#34;))\n",
       "<div class=\"gonb-err-line\">        fmt.Println(IsPalindrome(&#34;palindrome&#34;))\n",
       "</div>        // Output:\n",
       "        // true\n",
       "\n",
       "</div>\n",
       "\n",
       "<br/>\n",
       "\n",
       "\n",
       "<span style=\"white-space: pre;\"> </span>\n",
       "\n",
       "<br/>\n",
       "\n",
       "</div>\n"
      ]
     },
     "metadata": {},
     "output_type": "display_data"
    },
    {
     "ename": "ERROR",
     "evalue": "failed to run \"/opt/homebrew/bin/go build -o /var/folders/4d/tg201k8x6yb81f_lrvt4440m0000gn/T/gonb_e2c12478/gonb_e2c12478\": exit status 1",
     "output_type": "error",
     "traceback": [
      "failed to run \"/opt/homebrew/bin/go build -o /var/folders/4d/tg201k8x6yb81f_lrvt4440m0000gn/T/gonb_e2c12478/gonb_e2c12478\": exit status 1"
     ]
    }
   ],
   "source": [
    "func ExampleIsPalindrome() {\n",
    "        fmt.Println(IsPalindrome(\"A man, a plan, a canal: Panama\"))\n",
    "        fmt.Println(IsPalindrome(\"palindrome\"))\n",
    "        // Output:\n",
    "        // true\n",
    "        // false\n",
    "}\n"
   ]
  },
  {
   "cell_type": "markdown",
   "metadata": {},
   "source": [
    "## Fuzz Testing"
   ]
  },
  {
   "cell_type": "markdown",
   "metadata": {},
   "source": [
    "* An installation of Go 1.18 or later. \n",
    "* A tool to edit your code. Any text editor you have will work fine.\n",
    "* A command terminal. Go works well using any terminal on Linux and Mac, and on PowerShell or cmd in Windows.\n",
    "* An environment that supports fuzzing. \n",
    "  * Go fuzzing with coverage instrumentation is only available on AMD64 and ARM64 architectures currently."
   ]
  },
  {
   "cell_type": "code",
   "execution_count": 8,
   "metadata": {},
   "outputs": [],
   "source": [
    "func Reverse(s string) string {\n",
    "    b := []byte(s)\n",
    "    for i, j := 0, len(b)-1; i < len(b)/2; i, j = i+1, j-1 {\n",
    "        b[i], b[j] = b[j], b[i]\n",
    "    }\n",
    "    return string(b)\n",
    "}"
   ]
  },
  {
   "cell_type": "code",
   "execution_count": 9,
   "metadata": {},
   "outputs": [
    {
     "name": "stdout",
     "output_type": "stream",
     "text": [
      "original: \"The quick brown fox jumped over the lazy dog\"\n",
      "reversed: \"god yzal eht revo depmuj xof nworb kciuq ehT\"\n",
      "reversed again: \"The quick brown fox jumped over the lazy dog\"\n"
     ]
    }
   ],
   "source": [
    "func main() {\n",
    "    input := \"The quick brown fox jumped over the lazy dog\"\n",
    "    rev := Reverse(input)\n",
    "    doubleRev := Reverse(rev)\n",
    "    fmt.Printf(\"original: %q\\n\", input)\n",
    "    fmt.Printf(\"reversed: %q\\n\", rev)\n",
    "    fmt.Printf(\"reversed again: %q\\n\", doubleRev)\n",
    "}"
   ]
  },
  {
   "cell_type": "code",
   "execution_count": 10,
   "metadata": {},
   "outputs": [
    {
     "name": "stdout",
     "output_type": "stream",
     "text": [
      "/Users/skhuang/course/go2023/go2023/ch11\n",
      "original: \"The quick brown fox jumped over the lazy dog\"\n",
      "reversed: \"god yzal eht revo depmuj xof nworb kciuq ehT\", err: <nil>\n",
      "reversed again: \"The quick brown fox jumped over the lazy dog\", err: <nil>\n"
     ]
    }
   ],
   "source": [
    "!pwd\n",
    "!(cd fuzz;go run .)"
   ]
  },
  {
   "cell_type": "code",
   "execution_count": 11,
   "metadata": {},
   "outputs": [],
   "source": [
    "//reverse_test.go\n",
    "import (\n",
    "    \"testing\"\n",
    ")\n",
    "\n",
    "func TestReverse(t *testing.T) {\n",
    "    testcases := []struct {\n",
    "        in, want string\n",
    "    }{\n",
    "        {\"Hello, world\", \"dlrow ,olleH\"},\n",
    "        {\" \", \" \"},\n",
    "        {\"!12345\", \"54321!\"},\n",
    "    }\n",
    "    for _, tc := range testcases {\n",
    "        rev := Reverse(tc.in)\n",
    "        if rev != tc.want {\n",
    "                t.Errorf(\"Reverse: %q, want %q\", rev, tc.want)\n",
    "        }\n",
    "    }\n",
    "}"
   ]
  },
  {
   "cell_type": "code",
   "execution_count": 12,
   "metadata": {},
   "outputs": [
    {
     "name": "stdout",
     "output_type": "stream",
     "text": [
      "=== RUN   TestReverse\n",
      "--- PASS: TestReverse (0.00s)\n",
      "PASS\n",
      "ok  \texample/fuzz\t0.253s\n"
     ]
    }
   ],
   "source": [
    "!(cd fuzz; go test -run=\"TestReverse\" -v)"
   ]
  },
  {
   "cell_type": "code",
   "execution_count": 13,
   "metadata": {},
   "outputs": [],
   "source": [
    "//Add a fuzz test\n",
    "func FuzzReverse(f *testing.F) {\n",
    "    testcases := []string{\"Hello, world\", \" \", \"!12345\"}\n",
    "    for _, tc := range testcases {\n",
    "        f.Add(tc)  // Use f.Add to provide a seed corpus\n",
    "    }\n",
    "    f.Fuzz(func(t *testing.T, orig string) {\n",
    "        rev := Reverse(orig)\n",
    "        doubleRev := Reverse(rev)\n",
    "        if orig != doubleRev {\n",
    "            t.Errorf(\"Before: %q, after: %q\", orig, doubleRev)\n",
    "        }\n",
    "        if utf8.ValidString(orig) && !utf8.ValidString(rev) {\n",
    "            t.Errorf(\"Reverse produced invalid UTF-8 string %q\", rev)\n",
    "        }\n",
    "    })\n",
    "}"
   ]
  },
  {
   "cell_type": "code",
   "execution_count": 14,
   "metadata": {},
   "outputs": [
    {
     "name": "stdout",
     "output_type": "stream",
     "text": [
      "=== RUN   TestReverse\n",
      "--- PASS: TestReverse (0.00s)\n",
      "=== FUZZ  FuzzReverse\n",
      "fuzz: elapsed: 0s, gathering baseline coverage: 0/49 completed\n",
      "failure while testing seed corpus entry: FuzzReverse/d5b6b60965e92e557798e88a10d04e5fb1070907a7dc6118b367e4fb501354bd\n",
      "fuzz: elapsed: 0s, gathering baseline coverage: 6/49 completed\n",
      "--- FAIL: FuzzReverse (0.04s)\n",
      "    --- FAIL: FuzzReverse (0.00s)\n",
      "        reverse_test.go:36: Reverse produced invalid UTF-8 string \"\\xb1\\xd4\"\n",
      "    \n",
      "FAIL\n",
      "exit status 1\n",
      "FAIL\texample/fuzz\t0.297s\n"
     ]
    },
    {
     "name": "stderr",
     "output_type": "stream",
     "text": [
      "exit status 1\n"
     ]
    }
   ],
   "source": [
    "!(cd fuzz; ./reset1; go test -fuzz=\"Fuzz\" -v)"
   ]
  },
  {
   "cell_type": "code",
   "execution_count": 15,
   "metadata": {},
   "outputs": [
    {
     "name": "stdout",
     "output_type": "stream",
     "text": [
      "go test fuzz v1\n",
      "string(\"Ա\")\n"
     ]
    }
   ],
   "source": [
    "!cat fuzz/testdata/fuzz/FuzzReverse/d5b6b60965e92e557798e88a10d04e5fb1070907a7dc6118b367e4fb501354bd"
   ]
  },
  {
   "cell_type": "code",
   "execution_count": 16,
   "metadata": {},
   "outputs": [
    {
     "name": "stdout",
     "output_type": "stream",
     "text": [
      "--- FAIL: FuzzReverse (0.00s)\n",
      "    --- FAIL: FuzzReverse/d5b6b60965e92e557798e88a10d04e5fb1070907a7dc6118b367e4fb501354bd (0.00s)\n",
      "        reverse_test.go:36: Reverse produced invalid UTF-8 string \"\\xb1\\xd4\"\n",
      "FAIL\n",
      "exit status 1\n",
      "FAIL\texample/fuzz\t0.379s\n"
     ]
    },
    {
     "name": "stderr",
     "output_type": "stream",
     "text": [
      "exit status 1\n"
     ]
    }
   ],
   "source": [
    "!(cd fuzz; go test)"
   ]
  },
  {
   "cell_type": "markdown",
   "metadata": {},
   "source": [
    "<code>\n",
    "f.Fuzz(func(t *testing.T, orig string) {\n",
    "    rev := Reverse(orig)\n",
    "    doubleRev := Reverse(rev)\n",
    "    t.Logf(\"Number of runes: orig=%d, rev=%d, doubleRev=%d\", utf8.RuneCountInString(orig), utf8.RuneCountInString(rev), utf8.RuneCountInString(doubleRev))\n",
    "    if orig != doubleRev {\n",
    "        t.Errorf(\"Before: %q, after: %q\", orig, doubleRev)\n",
    "    }\n",
    "    if utf8.ValidString(orig) && !utf8.ValidString(rev) {\n",
    "        t.Errorf(\"Reverse produced invalid UTF-8 string %q\", rev)\n",
    "    }\n",
    "})\n",
    "</code>"
   ]
  },
  {
   "cell_type": "code",
   "execution_count": 19,
   "metadata": {},
   "outputs": [
    {
     "name": "stdout",
     "output_type": "stream",
     "text": [
      "input: \"Hello, world\"\n",
      "input: \" \"\n",
      "input: \"!12345\"\n",
      "input: \"Hello, world\"\n",
      "input: \"dlrow ,olleH\"\n",
      "input: \" \"\n",
      "input: \" \"\n",
      "input: \"!12345\"\n",
      "input: \"54321!\"\n",
      "input: \"\\x80\"\n",
      "input: \"�\"\n",
      "input: \"Ա\"\n",
      "input: \"Ա\"\n",
      "--- FAIL: FuzzReverse (0.00s)\n",
      "    --- FAIL: FuzzReverse/98fce631eb9c5dd541458bf71a7241469a103001c64053f3a71625b41ccaea5f (0.00s)\n",
      "        reverse_test.go:32: Number of runes: orig=1, rev=1, doubleRev=1\n",
      "        reverse_test.go:34: Before: \"\\x80\", after: \"�\"\n",
      "FAIL\n",
      "exit status 1\n",
      "FAIL\texample/fuzz\t0.172s\n"
     ]
    },
    {
     "name": "stderr",
     "output_type": "stream",
     "text": [
      "exit status 1\n"
     ]
    }
   ],
   "source": [
    "!(cd fuzz;./reset2; go test)"
   ]
  },
  {
   "cell_type": "code",
   "execution_count": 20,
   "metadata": {},
   "outputs": [
    {
     "name": "stdout",
     "output_type": "stream",
     "text": [
      "input: \"Ա\"\n",
      "input: \"Ա\"\n",
      "PASS\n",
      "ok  \texample/fuzz\t0.101s\n"
     ]
    }
   ],
   "source": [
    "!(cd fuzz;./reset2; go test -run=FuzzReverse/d5b6b60965e92e557798e88a10d04e5fb1070907a7dc6118b367e4fb501354bd)"
   ]
  },
  {
   "cell_type": "code",
   "execution_count": 45,
   "metadata": {},
   "outputs": [
    {
     "name": "stdout",
     "output_type": "stream",
     "text": [
      "input: \"Hello, world\"\n",
      "input: \" \"\n",
      "input: \"!12345\"\n",
      "fuzz: elapsed: 0s, gathering baseline coverage: 0/48 completed\n",
      "failure while testing seed corpus entry: FuzzReverse/98fce631eb9c5dd541458bf71a7241469a103001c64053f3a71625b41ccaea5f\n",
      "fuzz: elapsed: 0s, gathering baseline coverage: 2/48 completed\n",
      "--- FAIL: FuzzReverse (0.04s)\n",
      "    --- FAIL: FuzzReverse (0.00s)\n",
      "        reverse_test.go:32: Number of runes: orig=1, rev=1, doubleRev=1\n",
      "        reverse_test.go:34: Before: \"\\x80\", after: \"�\"\n",
      "    \n",
      "FAIL\n",
      "exit status 1\n",
      "FAIL\texample/fuzz\t0.318s\n"
     ]
    },
    {
     "name": "stderr",
     "output_type": "stream",
     "text": [
      "exit status 1\n"
     ]
    }
   ],
   "source": [
    "!(cd fuzz; ./reset2; go test -fuzz=\"Fuzz\")"
   ]
  },
  {
   "cell_type": "code",
   "execution_count": 21,
   "metadata": {},
   "outputs": [
    {
     "name": "stdout",
     "output_type": "stream",
     "text": [
      "input: \"\\x80\"\n",
      "input: \"�\"\n",
      "--- FAIL: FuzzReverse (0.00s)\n",
      "    --- FAIL: FuzzReverse/98fce631eb9c5dd541458bf71a7241469a103001c64053f3a71625b41ccaea5f (0.00s)\n",
      "        reverse_test.go:32: Number of runes: orig=1, rev=1, doubleRev=1\n",
      "        reverse_test.go:34: Before: \"\\x80\", after: \"�\"\n",
      "FAIL\n",
      "exit status 1\n",
      "FAIL\texample/fuzz\t0.132s\n"
     ]
    },
    {
     "name": "stderr",
     "output_type": "stream",
     "text": [
      "exit status 1\n"
     ]
    }
   ],
   "source": [
    "!(cd fuzz;go test -run=FuzzReverse/98fce631eb9c5dd541458bf71a7241469a103001c64053f3a71625b41ccaea5f)"
   ]
  },
  {
   "cell_type": "code",
   "execution_count": 22,
   "metadata": {
    "scrolled": true
   },
   "outputs": [
    {
     "name": "stdout",
     "output_type": "stream",
     "text": [
      "fuzz: elapsed: 0s, gathering baseline coverage: 0/49 completed\n",
      "fuzz: elapsed: 0s, gathering baseline coverage: 49/49 completed, now fuzzing with 10 workers\n",
      "fuzz: elapsed: 3s, execs: 1336539 (445432/sec), new interesting: 0 (total: 49)\n",
      "fuzz: elapsed: 6s, execs: 2784962 (482810/sec), new interesting: 0 (total: 49)\n",
      "fuzz: elapsed: 9s, execs: 4188005 (467473/sec), new interesting: 0 (total: 49)\n",
      "fuzz: elapsed: 12s, execs: 5623787 (478738/sec), new interesting: 0 (total: 49)\n",
      "fuzz: elapsed: 15s, execs: 7079476 (485378/sec), new interesting: 0 (total: 49)\n",
      "fuzz: elapsed: 18s, execs: 8534969 (485162/sec), new interesting: 0 (total: 49)\n",
      "fuzz: elapsed: 21s, execs: 10012493 (492352/sec), new interesting: 0 (total: 49)\n",
      "fuzz: elapsed: 24s, execs: 11448613 (478814/sec), new interesting: 0 (total: 49)\n",
      "fuzz: elapsed: 27s, execs: 12917083 (489489/sec), new interesting: 0 (total: 49)\n",
      "fuzz: elapsed: 30s, execs: 14344325 (475794/sec), new interesting: 0 (total: 49)\n",
      "fuzz: elapsed: 30s, execs: 14344325 (0/sec), new interesting: 0 (total: 49)\n",
      "PASS\n",
      "ok  \texample/fuzz\t30.503s\n"
     ]
    }
   ],
   "source": [
    "!(cd fuzz; ./reset3; go test -fuzz=\"Fuzz\" -fuzztime 30s)"
   ]
  },
  {
   "cell_type": "code",
   "execution_count": null,
   "metadata": {},
   "outputs": [],
   "source": [
    "//package main\n",
    "\n",
    "import (\n",
    "    \"errors\"\n",
    "    \"fmt\"\n",
    "    \"unicode/utf8\"\n",
    ")\n",
    "\n",
    "func main() {\n",
    "    input := \"The quick brown fox jumped over the lazy dog\"\n",
    "    rev, revErr := Reverse(input)\n",
    "    doubleRev, doubleRevErr := Reverse(rev)\n",
    "    fmt.Printf(\"original: %q\\n\", input)\n",
    "    fmt.Printf(\"reversed: %q, err: %v\\n\", rev, revErr)\n",
    "    fmt.Printf(\"reversed again: %q, err: %v\\n\", doubleRev, doubleRevErr)\n",
    "}\n",
    "\n",
    "func Reverse(s string) (string, error) {\n",
    "    if !utf8.ValidString(s) {\n",
    "        return s, errors.New(\"input is not valid UTF-8\")\n",
    "    }\n",
    "    r := []rune(s)\n",
    "    for i, j := 0, len(r)-1; i < len(r)/2; i, j = i+1, j-1 {\n",
    "        r[i], r[j] = r[j], r[i]\n",
    "    }\n",
    "    return string(r), nil\n",
    "}"
   ]
  },
  {
   "cell_type": "code",
   "execution_count": null,
   "metadata": {},
   "outputs": [],
   "source": [
    "package main\n",
    "\n",
    "import (\n",
    "    \"testing\"\n",
    "    \"unicode/utf8\"\n",
    ")\n",
    "\n",
    "func FuzzReverse(f *testing.F) {\n",
    "    testcases := []string{\"Hello, world\", \" \", \"!12345\"}\n",
    "    for _, tc := range testcases {\n",
    "        f.Add(tc) // Use f.Add to provide a seed corpus\n",
    "    }\n",
    "    f.Fuzz(func(t *testing.T, orig string) {\n",
    "        rev, err1 := Reverse(orig)\n",
    "        if err1 != nil {\n",
    "            return\n",
    "        }\n",
    "        doubleRev, err2 := Reverse(rev)\n",
    "        if err2 != nil {\n",
    "            return\n",
    "        }\n",
    "        if orig != doubleRev {\n",
    "            t.Errorf(\"Before: %q, after: %q\", orig, doubleRev)\n",
    "        }\n",
    "        if utf8.ValidString(orig) && !utf8.ValidString(rev) {\n",
    "            t.Errorf(\"Reverse produced invalid UTF-8 string %q\", rev)\n",
    "        }\n",
    "    })\n",
    "}"
   ]
  }
 ],
 "metadata": {
  "kernelspec": {
   "display_name": "Go (gonb)",
   "language": "go",
   "name": "gonb"
  },
  "language_info": {
   "codemirror_mode": "",
   "file_extension": ".go",
   "mimetype": "",
   "name": "go",
   "nbconvert_exporter": "",
   "pygments_lexer": "",
   "version": "go1.21.1"
  },
  "latex_envs": {
   "LaTeX_envs_menu_present": true,
   "autoclose": false,
   "autocomplete": true,
   "bibliofile": "biblio.bib",
   "cite_by": "apalike",
   "current_citInitial": 1,
   "eqLabelWithNumbers": true,
   "eqNumInitial": 1,
   "hotkeys": {
    "equation": "Ctrl-E",
    "itemize": "Ctrl-I"
   },
   "labels_anchors": false,
   "latex_user_defs": false,
   "report_style_numbering": false,
   "user_envs_cfg": false
  },
  "rise": {
   "enable_chalkboard": true,
   "scroll": true
  },
  "toc": {
   "base_numbering": "11",
   "nav_menu": {},
   "number_sections": true,
   "sideBar": true,
   "skip_h1_title": false,
   "title_cell": "Table of Contents",
   "title_sidebar": "Contents",
   "toc_cell": true,
   "toc_position": {},
   "toc_section_display": true,
   "toc_window_display": false
  }
 },
 "nbformat": 4,
 "nbformat_minor": 2
}
