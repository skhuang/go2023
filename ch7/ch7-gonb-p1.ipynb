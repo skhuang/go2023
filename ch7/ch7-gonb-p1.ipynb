{
 "cells": [
  {
   "cell_type": "markdown",
   "metadata": {
    "toc": true
   },
   "source": [
    "<h1>Table of Contents<span class=\"tocSkip\"></span></h1>\n",
    "<div class=\"toc\"><ul class=\"toc-item\"><li><span><a href=\"#Interfaces\" data-toc-modified-id=\"Interfaces-7\"><span class=\"toc-item-num\">7&nbsp;&nbsp;</span>Interfaces</a></span><ul class=\"toc-item\"><li><span><a href=\"#Interfaces-as-Contracts\" data-toc-modified-id=\"Interfaces-as-Contracts-7.1\"><span class=\"toc-item-num\">7.1&nbsp;&nbsp;</span>Interfaces as Contracts</a></span><ul class=\"toc-item\"><li><span><a href=\"#Concept-of-Interfaces\" data-toc-modified-id=\"Concept-of-Interfaces-7.1.1\"><span class=\"toc-item-num\">7.1.1&nbsp;&nbsp;</span>Concept of Interfaces</a></span></li></ul></li><li><span><a href=\"#Interface-Types\" data-toc-modified-id=\"Interface-Types-7.2\"><span class=\"toc-item-num\">7.2&nbsp;&nbsp;</span>Interface Types</a></span></li><li><span><a href=\"#Interface-Satisfaction\" data-toc-modified-id=\"Interface-Satisfaction-7.3\"><span class=\"toc-item-num\">7.3&nbsp;&nbsp;</span>Interface Satisfaction</a></span></li><li><span><a href=\"#Parsing-Flags-with-flag.Value\" data-toc-modified-id=\"Parsing-Flags-with-flag.Value-7.4\"><span class=\"toc-item-num\">7.4&nbsp;&nbsp;</span>Parsing Flags with flag.Value</a></span></li><li><span><a href=\"#Interface-Values\" data-toc-modified-id=\"Interface-Values-7.5\"><span class=\"toc-item-num\">7.5&nbsp;&nbsp;</span>Interface Values</a></span></li><li><span><a href=\"#Sorting-with-sort.Interface\" data-toc-modified-id=\"Sorting-with-sort.Interface-7.6\"><span class=\"toc-item-num\">7.6&nbsp;&nbsp;</span>Sorting with sort.Interface</a></span><ul class=\"toc-item\"><li><span><a href=\"#sort.Interface\" data-toc-modified-id=\"sort.Interface-7.6.1\"><span class=\"toc-item-num\">7.6.1&nbsp;&nbsp;</span>sort.Interface</a></span></li><li><span><a href=\"#Sorting-a-slice-of-strings\" data-toc-modified-id=\"Sorting-a-slice-of-strings-7.6.2\"><span class=\"toc-item-num\">7.6.2&nbsp;&nbsp;</span>Sorting a slice of strings</a></span></li></ul></li><li><span><a href=\"#The-http.Handler-Interface\" data-toc-modified-id=\"The-http.Handler-Interface-7.7\"><span class=\"toc-item-num\">7.7&nbsp;&nbsp;</span>The http.Handler Interface</a></span></li><li><span><a href=\"#The-error-Interface\" data-toc-modified-id=\"The-error-Interface-7.8\"><span class=\"toc-item-num\">7.8&nbsp;&nbsp;</span>The error Interface</a></span></li><li><span><a href=\"#Example:-Expression-Evaluator\" data-toc-modified-id=\"Example:-Expression-Evaluator-7.9\"><span class=\"toc-item-num\">7.9&nbsp;&nbsp;</span>Example: Expression Evaluator</a></span></li><li><span><a href=\"#Type-Assertions\" data-toc-modified-id=\"Type-Assertions-7.10\"><span class=\"toc-item-num\">7.10&nbsp;&nbsp;</span>Type Assertions</a></span><ul class=\"toc-item\"><li><span><a href=\"#Use-of-Type-Assertion\" data-toc-modified-id=\"Use-of-Type-Assertion-7.10.1\"><span class=\"toc-item-num\">7.10.1&nbsp;&nbsp;</span>Use of Type Assertion</a></span></li></ul></li><li><span><a href=\"#Discriminating-Errors-with-Type-Assertions\" data-toc-modified-id=\"Discriminating-Errors-with-Type-Assertions-7.11\"><span class=\"toc-item-num\">7.11&nbsp;&nbsp;</span>Discriminating Errors with Type Assertions</a></span></li><li><span><a href=\"#Querying-Behaviors-with-Interface-Type-Assertions\" data-toc-modified-id=\"Querying-Behaviors-with-Interface-Type-Assertions-7.12\"><span class=\"toc-item-num\">7.12&nbsp;&nbsp;</span>Querying Behaviors with Interface Type Assertions</a></span></li><li><span><a href=\"#Type-Switches\" data-toc-modified-id=\"Type-Switches-7.13\"><span class=\"toc-item-num\">7.13&nbsp;&nbsp;</span>Type Switches</a></span></li><li><span><a href=\"#Example:-Token-Based-XML-Decoding\" data-toc-modified-id=\"Example:-Token-Based-XML-Decoding-7.14\"><span class=\"toc-item-num\">7.14&nbsp;&nbsp;</span>Example: Token-Based XML Decoding</a></span></li></ul></li></ul></div>"
   ]
  },
  {
   "cell_type": "markdown",
   "metadata": {
    "slideshow": {
     "slide_type": "slide"
    }
   },
   "source": [
    "# Interfaces\n",
    "\n",
    "## Interfaces as Contracts\n",
    "\n",
    "* Concrete type specifies the exact representation of its values and exposes the intrinsic operations of the representation\n",
    "  * we have seen so far with representations and operations\n",
    "  * You know exactly what it is and what you can do with it\n",
    "* Interface is an abstract type\n",
    "  * Abstract Types: Interfaces\n",
    "  * don’t express the representation or internal structure of its values\n",
    "  * You know nothing about what it is\n",
    "  * You only know what it can do (what behaviors are provided by its methods)\n"
   ]
  },
  {
   "cell_type": "markdown",
   "metadata": {
    "slideshow": {
     "slide_type": "subslide"
    }
   },
   "source": [
    "### Concept of Interfaces\n",
    "* Interface types are\n",
    "  * generalizations: not tied to the details of one particular implementations\n",
    "  * abstractions \n",
    "* No need to declare all the interfaces for a given concrete type to satisfy\n",
    "* We can create new interfaces satisfied by existing concrete types without changing the existing types\n",
    "  * useful for types defined in packages we don’t control\n"
   ]
  },
  {
   "cell_type": "code",
   "execution_count": 4,
   "metadata": {
    "code_folding": [],
    "slideshow": {
     "slide_type": "subslide"
    }
   },
   "outputs": [
    {
     "name": "stdout",
     "output_type": "stream",
     "text": [
      "test,100\n"
     ]
    }
   ],
   "source": [
    "//package fmt\n",
    "import (\"io\"; \"os\";\"bytes\";\"fmt\")\n",
    "//func Fprintf(w io.Writer, format string, args ...interface{})(int, error)\n",
    "func printf(format string, args ...interface{})(int, error) {\n",
    "    return fmt.Fprintf(os.Stdout, format, args...)\n",
    "}\n",
    "%%\n",
    "printf(\"%s,%d\\n\",\"test\",100)"
   ]
  },
  {
   "cell_type": "markdown",
   "metadata": {
    "slideshow": {
     "slide_type": "subslide"
    }
   },
   "source": [
    "* Writer is the interface that wraps the basic Write method\n",
    "* Write writes len(p) bytes from p to the underlying data stream.\n",
    "* Returns the number of bytes from p (0 $\\le$ n $\\le$ len(p))\n",
    "* Write must return a non-nil error if returns n < len(p)\n",
    "* Write must not modify the slice data, even temporarily"
   ]
  },
  {
   "cell_type": "code",
   "execution_count": 2,
   "metadata": {
    "slideshow": {
     "slide_type": "fragment"
    }
   },
   "outputs": [],
   "source": [
    "//package io\n",
    "//Writer is the interface that wraps the basic Write method\n",
    "type Writer interface {\n",
    "    Write(p []byte) (n int, err error)\n",
    "}"
   ]
  },
  {
   "cell_type": "code",
   "execution_count": 6,
   "metadata": {
    "slideshow": {
     "slide_type": "fragment"
    }
   },
   "outputs": [
    {
     "name": "stdout",
     "output_type": "stream",
     "text": [
      "test,100\n"
     ]
    }
   ],
   "source": [
    "func sprintf(format string, args ...interface{}) string {\n",
    "    var buf bytes.Buffer\n",
    "    fmt.Fprintf(&buf, format, args...)\n",
    "    return buf.String()\n",
    "}\n",
    "%%\n",
    "fmt.Println(sprintf(\"%s,%d\",\"test\",100))"
   ]
  },
  {
   "cell_type": "code",
   "execution_count": 8,
   "metadata": {
    "code_folding": [],
    "slideshow": {
     "slide_type": "subslide"
    }
   },
   "outputs": [
    {
     "name": "stdout",
     "output_type": "stream",
     "text": [
      "24\n"
     ]
    }
   ],
   "source": [
    "//gopl.io/ch7/bytecounter\n",
    "import \"fmt\"\n",
    "type ByteCounter int\n",
    "func (c *ByteCounter) Write(p []byte) (int, error) {\n",
    "    *c += ByteCounter(len(p)) // convert int to ByteCounter\n",
    "    return len(p), nil\n",
    "}\n",
    "var c ByteCounter\n",
    "%%\n",
    "c = 0\n",
    "c.Write([]byte(\"hello, world\"))\n",
    "c.Write([]byte(\"hello, world\"))\n",
    "fmt.Println(c)"
   ]
  },
  {
   "cell_type": "code",
   "execution_count": 11,
   "metadata": {},
   "outputs": [
    {
     "name": "stdout",
     "output_type": "stream",
     "text": [
      "41\n"
     ]
    }
   ],
   "source": [
    "%%\n",
    "c = 0 // reset the counter\n",
    "var name = \"Dolly\"\n",
    "fmt.Fprintf(&c, \"hello, %s\", name)\n",
    "fmt.Fprintf(&c, \"hello, 測試測試%s\", name+name)\n",
    "fmt.Println(c) // \"12\", = len(\"hello, Dolly\")"
   ]
  },
  {
   "cell_type": "code",
   "execution_count": 12,
   "metadata": {
    "code_folding": [],
    "slideshow": {
     "slide_type": "subslide"
    }
   },
   "outputs": [],
   "source": [
    "// Bytecounter demonstrates an implementation of io.Writer that counts bytes.\n",
    "//package main\n",
    "\n",
    "import (\"fmt\")\n",
    "\n",
    "//!+bytecounter\n",
    "\n",
    "type ByteCounter int\n",
    "\n",
    "func (c *ByteCounter) Write(p []byte) (int, error) {\n",
    "\t*c += ByteCounter(len(p)) // convert int to ByteCounter\n",
    "\treturn len(p), nil\n",
    "}\n",
    "\n",
    "//!-bytecounter\n",
    "\n"
   ]
  },
  {
   "cell_type": "code",
   "execution_count": 13,
   "metadata": {
    "slideshow": {
     "slide_type": "subslide"
    }
   },
   "outputs": [
    {
     "name": "stdout",
     "output_type": "stream",
     "text": [
      "5\n"
     ]
    }
   ],
   "source": [
    "//func main() \n",
    "\n",
    "\t//!+main\n",
    "    //var cc ByteCounter\n",
    "\n",
    "    var c ByteCounter \n",
    "%%\n",
    "    c.Write([]byte(\"hello\"))\n",
    "\tfmt.Println(c) // \"5\", = len(\"hello\")\n",
    "\n",
    "\n",
    "//main()"
   ]
  },
  {
   "cell_type": "code",
   "execution_count": 18,
   "metadata": {
    "slideshow": {
     "slide_type": "subslide"
    }
   },
   "outputs": [
    {
     "name": "stdout",
     "output_type": "stream",
     "text": [
      "17\n"
     ]
    }
   ],
   "source": [
    "%%\n",
    "    var w io.Writer\n",
    "    w = &c\n",
    "    w.Write([]byte(\"world\"))\n",
    "    \n",
    "    fmt.Fprintf(w,\"hello, %s\",\"Dolly\")\n",
    "    fmt.Println(c)\n"
   ]
  },
  {
   "cell_type": "code",
   "execution_count": 20,
   "metadata": {
    "slideshow": {
     "slide_type": "subslide"
    }
   },
   "outputs": [
    {
     "name": "stdout",
     "output_type": "stream",
     "text": [
      "19\n"
     ]
    }
   ],
   "source": [
    "%%\n",
    "    c = 0 // reset the counter\n",
    "\tvar name = \"Dolly 測試\"\n",
    "\n",
    "\tfmt.Fprintf(&c, \"hello, %s\", name)\n",
    "\tfmt.Println(c) // \"12\", = len(\"hello, Dolly\")\n",
    "\t//!-main\n"
   ]
  },
  {
   "cell_type": "markdown",
   "metadata": {
    "slideshow": {
     "slide_type": "slide"
    }
   },
   "source": [
    "## Interface Types\n",
    "* An interface type specifies a set of metods that a concrete type must possess to be considered an instance of that \n",
    "  * io.Writer interface, provides an abstraction of all the types to which bytes can be written\n",
    "    * files, memory buffers, network connections, HTTP clients, archivers, hashers..."
   ]
  },
  {
   "cell_type": "code",
   "execution_count": 22,
   "metadata": {
    "code_folding": [],
    "scrolled": true,
    "slideshow": {
     "slide_type": "subslide"
    }
   },
   "outputs": [],
   "source": [
    "//package io\n",
    "type Reader interface {\n",
    "    Read(p []byte) (n int, err error)\n",
    "}\n",
    "type Closer interface {\n",
    "    Close() error\n",
    "}\n"
   ]
  },
  {
   "cell_type": "code",
   "execution_count": 29,
   "metadata": {},
   "outputs": [],
   "source": [
    "//embedding an interface\n",
    "type ReadWriter interface {\n",
    "    Reader\n",
    "    io.Writer\n",
    "}\n",
    "type ReadWriteCloser interface {\n",
    "    Reader\n",
    "    io.Writer\n",
    "    Closer\n",
    "}"
   ]
  },
  {
   "cell_type": "code",
   "execution_count": 27,
   "metadata": {},
   "outputs": [],
   "source": [
    "type ReadWriter interface {\n",
    "    Read(p []byte) (n int, err error)\n",
    "    Write(p []byte) (n int, err error)\n",
    "}"
   ]
  },
  {
   "cell_type": "code",
   "execution_count": 28,
   "metadata": {},
   "outputs": [],
   "source": [
    "type ReadWriter interface {\n",
    "    Read(p []byte) (n int, err error)\n",
    "    io.Writer\n",
    "}"
   ]
  },
  {
   "cell_type": "markdown",
   "metadata": {
    "slideshow": {
     "slide_type": "slide"
    }
   },
   "source": [
    "## Interface Satisfaction\n",
    "* A type satisfies an interface if it possesses all the methods the interface requires\n",
    "  * *os.File satisfies io.Reader, Writer, Closer, and ReadWriter\n",
    "  * *bytes.Buffer satisfies Reader, Writer, and ReadWriter, but not Closer (no close method) \n",
    "* A concrete type is a particular interface type, meaning that it satisfies the interface\n",
    "  * *bytes.Buffer is an io.Writer\n",
    "  * *os.File is an io.ReadWriter\n",
    "* Assignability rule for interface\n",
    "  * an expression may be assigned to an interface only if its type satisfies the interface\n"
   ]
  },
  {
   "cell_type": "code",
   "execution_count": 5,
   "metadata": {
    "slideshow": {
     "slide_type": "subslide"
    }
   },
   "outputs": [],
   "source": [
    "import \"time\"\n",
    "var w io.Writer\n",
    "%%\n",
    "w = os.Stdout        //OK: *os.File has Write method\n",
    "w = new(bytes.Buffer)//OK, *bytes.Buffeer has Write method \n"
   ]
  },
  {
   "cell_type": "code",
   "execution_count": 22,
   "metadata": {
    "scrolled": true,
    "slideshow": {
     "slide_type": "fragment"
    }
   },
   "outputs": [
    {
     "data": {
      "text/html": [
       "\n",
       "<style>\n",
       ".gonb-err-location {\n",
       "\tbackground: var(--jp-err-color2);  \n",
       "\tborder-radius: 3px;\n",
       "\tborder-style: dotted;\n",
       "\tborder-width: 1px;\n",
       "\tborder-color: var(--jp-border-color2);\n",
       "}\n",
       ".gonb-err-location:hover {\n",
       "\tborder-width: 2px;\n",
       "\tborder-style: solid;\n",
       "\tborder-color: var(--jp-border-color2);\n",
       "}\n",
       ".gonb-err-context {\n",
       "\tdisplay: none;\n",
       "}\n",
       ".gonb-err-location:hover + .gonb-err-context {\n",
       "\tbackground: var(--jp-dialog-background);  \n",
       "\tborder-radius: 3px;\n",
       "\tborder-style: solid;\n",
       "\tborder-width: 1px;\n",
       "\tborder-color: var(--jp-border-color2);\n",
       "\tdisplay: block;\n",
       "\twhite-space: pre;\n",
       "\tfont-family: monospace;\n",
       "}\n",
       ".gonb-err-line {\n",
       "\tborder-radius: 3px;\n",
       "\tborder-style: dotted;\n",
       "\tborder-width: 1px;\t\n",
       "\tborder-color: var(--jp-border-color2);\n",
       "\tbackground-color: var(--jp-rendermime-err-background);\n",
       "\tfont-weight: bold;\n",
       "}\n",
       ".gonb-cell-line-info {\n",
       "\tbackground: var(--jp-layout-color2);\n",
       "\tcolor: #999;\n",
       "\tmargin: 0.1em;\n",
       "\tborder: 1px solid var(--jp-border-color1);\n",
       "\tpadding-left: 0.2em;\n",
       "\tpadding-right: 0.2em;\n",
       "}\n",
       "</style>\n",
       "<div class=\"lm-Widget p-Widget lm-Panel p-Panel jp-OutputArea-child\">\n",
       "<div class=\"lm-Widget p-Widget jp-RenderedText jp-mod-trusted jp-OutputArea-output\" data-mime-type=\"application/vnd.jupyter.stderr\" style=\"font-family: monospace;\">\n",
       "\n",
       "\n",
       "<span style=\"white-space: pre;\"> # gonb_37590049</span>\n",
       "\n",
       "<br/>\n",
       "\n",
       "<span class=\"gonb-cell-line-info\">Cell[22]: Line 2</span>\n",
       "<span class=\"gonb-err-location\">./main.go:47:6: </span> cannot use time.Second (constant 1000000000 of type time.Duration) as type io.Writer in assignment:\n",
       "<div class=\"gonb-err-context\">\n",
       "\n",
       "func main() {\n",
       "\tflag.Parse()\n",
       "<div class=\"gonb-err-line\">\tw = time.Second // compile error: time.Duration lacks Write method\n",
       "</div>\n",
       "}\n",
       "\n",
       "</div>\n",
       "\n",
       "<br/>\n",
       "\n",
       "\n",
       "<span style=\"white-space: pre;\"> \ttime.Duration does not implement io.Writer (missing Write method)</span>\n",
       "\n",
       "<br/>\n",
       "\n",
       "\n",
       "<span style=\"white-space: pre;\"> </span>\n",
       "\n",
       "<br/>\n",
       "\n",
       "</div>\n"
      ]
     },
     "metadata": {},
     "output_type": "display_data"
    },
    {
     "ename": "ERROR",
     "evalue": "failed to run \"/opt/homebrew/bin/go build -o /var/folders/4d/tg201k8x6yb81f_lrvt4440m0000gn/T/gonb_37590049/gonb_37590049\": exit status 1",
     "output_type": "error",
     "traceback": [
      "failed to run \"/opt/homebrew/bin/go build -o /var/folders/4d/tg201k8x6yb81f_lrvt4440m0000gn/T/gonb_37590049/gonb_37590049\": exit status 1"
     ]
    }
   ],
   "source": [
    "%%\n",
    "w = time.Second // compile error: time.Duration lacks Write method"
   ]
  },
  {
   "cell_type": "code",
   "execution_count": 12,
   "metadata": {
    "slideshow": {
     "slide_type": "fragment"
    }
   },
   "outputs": [
    {
     "name": "stdout",
     "output_type": "stream",
     "text": [
      "*os.File\n"
     ]
    }
   ],
   "source": [
    "var rwc io.ReadWriteCloser\n",
    "type osFile struct {*os.File}\n",
    "var f osFile\n",
    "%%\n",
    "fmt.Printf(\"%T\\n\",os.Stdout)\n",
    "rwc = os.Stdout    //OK: *os.File has Read,Write, Close methods\n",
    "rwc = f"
   ]
  },
  {
   "cell_type": "code",
   "execution_count": 24,
   "metadata": {
    "scrolled": true,
    "slideshow": {
     "slide_type": "fragment"
    }
   },
   "outputs": [
    {
     "data": {
      "text/html": [
       "\n",
       "<style>\n",
       ".gonb-err-location {\n",
       "\tbackground: var(--jp-err-color2);  \n",
       "\tborder-radius: 3px;\n",
       "\tborder-style: dotted;\n",
       "\tborder-width: 1px;\n",
       "\tborder-color: var(--jp-border-color2);\n",
       "}\n",
       ".gonb-err-location:hover {\n",
       "\tborder-width: 2px;\n",
       "\tborder-style: solid;\n",
       "\tborder-color: var(--jp-border-color2);\n",
       "}\n",
       ".gonb-err-context {\n",
       "\tdisplay: none;\n",
       "}\n",
       ".gonb-err-location:hover + .gonb-err-context {\n",
       "\tbackground: var(--jp-dialog-background);  \n",
       "\tborder-radius: 3px;\n",
       "\tborder-style: solid;\n",
       "\tborder-width: 1px;\n",
       "\tborder-color: var(--jp-border-color2);\n",
       "\tdisplay: block;\n",
       "\twhite-space: pre;\n",
       "\tfont-family: monospace;\n",
       "}\n",
       ".gonb-err-line {\n",
       "\tborder-radius: 3px;\n",
       "\tborder-style: dotted;\n",
       "\tborder-width: 1px;\t\n",
       "\tborder-color: var(--jp-border-color2);\n",
       "\tbackground-color: var(--jp-rendermime-err-background);\n",
       "\tfont-weight: bold;\n",
       "}\n",
       ".gonb-cell-line-info {\n",
       "\tbackground: var(--jp-layout-color2);\n",
       "\tcolor: #999;\n",
       "\tmargin: 0.1em;\n",
       "\tborder: 1px solid var(--jp-border-color1);\n",
       "\tpadding-left: 0.2em;\n",
       "\tpadding-right: 0.2em;\n",
       "}\n",
       "</style>\n",
       "<div class=\"lm-Widget p-Widget lm-Panel p-Panel jp-OutputArea-child\">\n",
       "<div class=\"lm-Widget p-Widget jp-RenderedText jp-mod-trusted jp-OutputArea-output\" data-mime-type=\"application/vnd.jupyter.stderr\" style=\"font-family: monospace;\">\n",
       "\n",
       "\n",
       "<span style=\"white-space: pre;\"> # gonb_37590049</span>\n",
       "\n",
       "<br/>\n",
       "\n",
       "<span class=\"gonb-cell-line-info\">Cell[24]: Line 2</span>\n",
       "<span class=\"gonb-err-location\">./main.go:47:8: </span> cannot use new(bytes.Buffer) (value of type *bytes.Buffer) as type io.ReadWriteCloser in assignment:\n",
       "<div class=\"gonb-err-context\">\n",
       "\n",
       "func main() {\n",
       "\tflag.Parse()\n",
       "<div class=\"gonb-err-line\">\trwc = new(bytes.Buffer)// compile error: *bytes.Buffer lacks Close method\n",
       "</div>\n",
       "}\n",
       "\n",
       "</div>\n",
       "\n",
       "<br/>\n",
       "\n",
       "\n",
       "<span style=\"white-space: pre;\"> \t*bytes.Buffer does not implement io.ReadWriteCloser (missing Close method)</span>\n",
       "\n",
       "<br/>\n",
       "\n",
       "\n",
       "<span style=\"white-space: pre;\"> </span>\n",
       "\n",
       "<br/>\n",
       "\n",
       "</div>\n"
      ]
     },
     "metadata": {},
     "output_type": "display_data"
    },
    {
     "ename": "ERROR",
     "evalue": "failed to run \"/opt/homebrew/bin/go build -o /var/folders/4d/tg201k8x6yb81f_lrvt4440m0000gn/T/gonb_37590049/gonb_37590049\": exit status 1",
     "output_type": "error",
     "traceback": [
      "failed to run \"/opt/homebrew/bin/go build -o /var/folders/4d/tg201k8x6yb81f_lrvt4440m0000gn/T/gonb_37590049/gonb_37590049\": exit status 1"
     ]
    }
   ],
   "source": [
    "%%\n",
    "rwc = new(bytes.Buffer)// compile error: *bytes.Buffer lacks Close method"
   ]
  },
  {
   "cell_type": "code",
   "execution_count": 4,
   "metadata": {
    "slideshow": {
     "slide_type": "fragment"
    }
   },
   "outputs": [
    {
     "data": {
      "text/html": [
       "\n",
       "<style>\n",
       ".gonb-err-location {\n",
       "\tbackground: var(--jp-err-color2);  \n",
       "\tborder-radius: 3px;\n",
       "\tborder-style: dotted;\n",
       "\tborder-width: 1px;\n",
       "\tborder-color: var(--jp-border-color2);\n",
       "}\n",
       ".gonb-err-location:hover {\n",
       "\tborder-width: 2px;\n",
       "\tborder-style: solid;\n",
       "\tborder-color: var(--jp-border-color2);\n",
       "}\n",
       ".gonb-err-context {\n",
       "\tdisplay: none;\n",
       "}\n",
       ".gonb-err-location:hover + .gonb-err-context {\n",
       "\tbackground: var(--jp-dialog-background);  \n",
       "\tborder-radius: 3px;\n",
       "\tborder-style: solid;\n",
       "\tborder-width: 1px;\n",
       "\tborder-color: var(--jp-border-color2);\n",
       "\tdisplay: block;\n",
       "\twhite-space: pre;\n",
       "\tfont-family: monospace;\n",
       "}\n",
       ".gonb-err-line {\n",
       "\tborder-radius: 3px;\n",
       "\tborder-style: dotted;\n",
       "\tborder-width: 1px;\t\n",
       "\tborder-color: var(--jp-border-color2);\n",
       "\tbackground-color: var(--jp-rendermime-err-background);\n",
       "\tfont-weight: bold;\n",
       "}\n",
       ".gonb-cell-line-info {\n",
       "\tbackground: var(--jp-layout-color2);\n",
       "\tcolor: #999;\n",
       "\tmargin: 0.1em;\n",
       "\tborder: 1px solid var(--jp-border-color1);\n",
       "\tpadding-left: 0.2em;\n",
       "\tpadding-right: 0.2em;\n",
       "}\n",
       "</style>\n",
       "<div class=\"lm-Widget p-Widget lm-Panel p-Panel jp-OutputArea-child\">\n",
       "<div class=\"lm-Widget p-Widget jp-RenderedText jp-mod-trusted jp-OutputArea-output\" data-mime-type=\"application/vnd.jupyter.stderr\" style=\"font-family: monospace;\">\n",
       "\n",
       "\n",
       "<span style=\"white-space: pre;\"> # gonb_c12fd46a</span>\n",
       "\n",
       "<br/>\n",
       "\n",
       "<span class=\"gonb-cell-line-info\">Cell[4]: Line 2</span>\n",
       "<span class=\"gonb-err-location\">./main.go:48:2: </span> undefined: w\n",
       "<div class=\"gonb-err-context\">\n",
       "\n",
       "func main() {\n",
       "\tflag.Parse()\n",
       "<div class=\"gonb-err-line\">\tw = rwc  // OK: io.ReadWriteCloser has Write method\n",
       "</div>\n",
       "}\n",
       "\n",
       "</div>\n",
       "\n",
       "<br/>\n",
       "\n",
       "<span class=\"gonb-cell-line-info\">Cell[4]: Line 2</span>\n",
       "<span class=\"gonb-err-location\">./main.go:48:6: </span> undefined: rwc\n",
       "<div class=\"gonb-err-context\">\n",
       "\n",
       "func main() {\n",
       "\tflag.Parse()\n",
       "<div class=\"gonb-err-line\">\tw = rwc  // OK: io.ReadWriteCloser has Write method\n",
       "</div>\n",
       "}\n",
       "\n",
       "</div>\n",
       "\n",
       "<br/>\n",
       "\n",
       "\n",
       "<span style=\"white-space: pre;\"> </span>\n",
       "\n",
       "<br/>\n",
       "\n",
       "</div>\n"
      ]
     },
     "metadata": {},
     "output_type": "display_data"
    },
    {
     "ename": "ERROR",
     "evalue": "failed to run \"/opt/homebrew/bin/go build -o /var/folders/4d/tg201k8x6yb81f_lrvt4440m0000gn/T/gonb_c12fd46a/gonb_c12fd46a\": exit status 1",
     "output_type": "error",
     "traceback": [
      "failed to run \"/opt/homebrew/bin/go build -o /var/folders/4d/tg201k8x6yb81f_lrvt4440m0000gn/T/gonb_c12fd46a/gonb_c12fd46a\": exit status 1"
     ]
    }
   ],
   "source": [
    "%%\n",
    "w = rwc  // OK: io.ReadWriteCloser has Write method"
   ]
  },
  {
   "cell_type": "code",
   "execution_count": 26,
   "metadata": {
    "scrolled": true,
    "slideshow": {
     "slide_type": "fragment"
    }
   },
   "outputs": [
    {
     "data": {
      "text/html": [
       "\n",
       "<style>\n",
       ".gonb-err-location {\n",
       "\tbackground: var(--jp-err-color2);  \n",
       "\tborder-radius: 3px;\n",
       "\tborder-style: dotted;\n",
       "\tborder-width: 1px;\n",
       "\tborder-color: var(--jp-border-color2);\n",
       "}\n",
       ".gonb-err-location:hover {\n",
       "\tborder-width: 2px;\n",
       "\tborder-style: solid;\n",
       "\tborder-color: var(--jp-border-color2);\n",
       "}\n",
       ".gonb-err-context {\n",
       "\tdisplay: none;\n",
       "}\n",
       ".gonb-err-location:hover + .gonb-err-context {\n",
       "\tbackground: var(--jp-dialog-background);  \n",
       "\tborder-radius: 3px;\n",
       "\tborder-style: solid;\n",
       "\tborder-width: 1px;\n",
       "\tborder-color: var(--jp-border-color2);\n",
       "\tdisplay: block;\n",
       "\twhite-space: pre;\n",
       "\tfont-family: monospace;\n",
       "}\n",
       ".gonb-err-line {\n",
       "\tborder-radius: 3px;\n",
       "\tborder-style: dotted;\n",
       "\tborder-width: 1px;\t\n",
       "\tborder-color: var(--jp-border-color2);\n",
       "\tbackground-color: var(--jp-rendermime-err-background);\n",
       "\tfont-weight: bold;\n",
       "}\n",
       ".gonb-cell-line-info {\n",
       "\tbackground: var(--jp-layout-color2);\n",
       "\tcolor: #999;\n",
       "\tmargin: 0.1em;\n",
       "\tborder: 1px solid var(--jp-border-color1);\n",
       "\tpadding-left: 0.2em;\n",
       "\tpadding-right: 0.2em;\n",
       "}\n",
       "</style>\n",
       "<div class=\"lm-Widget p-Widget lm-Panel p-Panel jp-OutputArea-child\">\n",
       "<div class=\"lm-Widget p-Widget jp-RenderedText jp-mod-trusted jp-OutputArea-output\" data-mime-type=\"application/vnd.jupyter.stderr\" style=\"font-family: monospace;\">\n",
       "\n",
       "\n",
       "<span style=\"white-space: pre;\"> # gonb_37590049</span>\n",
       "\n",
       "<br/>\n",
       "\n",
       "<span class=\"gonb-cell-line-info\">Cell[26]: Line 2</span>\n",
       "<span class=\"gonb-err-location\">./main.go:47:8: </span> cannot use w (variable of type io.Writer) as type io.ReadWriteCloser in assignment:\n",
       "<div class=\"gonb-err-context\">\n",
       "\n",
       "func main() {\n",
       "\tflag.Parse()\n",
       "<div class=\"gonb-err-line\">\trwc = w // compile error: io.Writer lacks Close method\n",
       "</div>\n",
       "}\n",
       "\n",
       "</div>\n",
       "\n",
       "<br/>\n",
       "\n",
       "\n",
       "<span style=\"white-space: pre;\"> \tio.Writer does not implement io.ReadWriteCloser (missing Close method)</span>\n",
       "\n",
       "<br/>\n",
       "\n",
       "\n",
       "<span style=\"white-space: pre;\"> </span>\n",
       "\n",
       "<br/>\n",
       "\n",
       "</div>\n"
      ]
     },
     "metadata": {},
     "output_type": "display_data"
    },
    {
     "ename": "ERROR",
     "evalue": "failed to run \"/opt/homebrew/bin/go build -o /var/folders/4d/tg201k8x6yb81f_lrvt4440m0000gn/T/gonb_37590049/gonb_37590049\": exit status 1",
     "output_type": "error",
     "traceback": [
      "failed to run \"/opt/homebrew/bin/go build -o /var/folders/4d/tg201k8x6yb81f_lrvt4440m0000gn/T/gonb_37590049/gonb_37590049\": exit status 1"
     ]
    }
   ],
   "source": [
    "%%\n",
    "rwc = w // compile error: io.Writer lacks Close method"
   ]
  },
  {
   "cell_type": "code",
   "execution_count": 37,
   "metadata": {
    "code_folding": [],
    "slideshow": {
     "slide_type": "subslide"
    }
   },
   "outputs": [],
   "source": [
    "\n",
    "type IntSet struct {words []uint64/* ... */}\n",
    "\n",
    "\n",
    "func (a *IntSet) String() string { return fmt.Sprintf(\"%b\",a)}\n",
    "%%\n",
    "//var _ = IntSet{}.String()"
   ]
  },
  {
   "cell_type": "code",
   "execution_count": 38,
   "metadata": {
    "slideshow": {
     "slide_type": "fragment"
    }
   },
   "outputs": [],
   "source": [
    "var s IntSet\n",
    "%%\n",
    "var _ = s.String() // OK: s is a variable and &s has a String method"
   ]
  },
  {
   "cell_type": "code",
   "execution_count": 39,
   "metadata": {
    "scrolled": true,
    "slideshow": {
     "slide_type": "fragment"
    }
   },
   "outputs": [],
   "source": [
    "%%\n",
    "var _ fmt.Stringer = &s // OK, fmt.Stringer is an interface\n"
   ]
  },
  {
   "cell_type": "code",
   "execution_count": 40,
   "metadata": {
    "scrolled": true
   },
   "outputs": [
    {
     "data": {
      "text/html": [
       "\n",
       "<style>\n",
       ".gonb-err-location {\n",
       "\tbackground: var(--jp-err-color2);  \n",
       "\tborder-radius: 3px;\n",
       "\tborder-style: dotted;\n",
       "\tborder-width: 1px;\n",
       "\tborder-color: var(--jp-border-color2);\n",
       "}\n",
       ".gonb-err-location:hover {\n",
       "\tborder-width: 2px;\n",
       "\tborder-style: solid;\n",
       "\tborder-color: var(--jp-border-color2);\n",
       "}\n",
       ".gonb-err-context {\n",
       "\tdisplay: none;\n",
       "}\n",
       ".gonb-err-location:hover + .gonb-err-context {\n",
       "\tbackground: var(--jp-dialog-background);  \n",
       "\tborder-radius: 3px;\n",
       "\tborder-style: solid;\n",
       "\tborder-width: 1px;\n",
       "\tborder-color: var(--jp-border-color2);\n",
       "\tdisplay: block;\n",
       "\twhite-space: pre;\n",
       "\tfont-family: monospace;\n",
       "}\n",
       ".gonb-err-line {\n",
       "\tborder-radius: 3px;\n",
       "\tborder-style: dotted;\n",
       "\tborder-width: 1px;\t\n",
       "\tborder-color: var(--jp-border-color2);\n",
       "\tbackground-color: var(--jp-rendermime-err-background);\n",
       "\tfont-weight: bold;\n",
       "}\n",
       ".gonb-cell-line-info {\n",
       "\tbackground: var(--jp-layout-color2);\n",
       "\tcolor: #999;\n",
       "\tmargin: 0.1em;\n",
       "\tborder: 1px solid var(--jp-border-color1);\n",
       "\tpadding-left: 0.2em;\n",
       "\tpadding-right: 0.2em;\n",
       "}\n",
       "</style>\n",
       "<div class=\"lm-Widget p-Widget lm-Panel p-Panel jp-OutputArea-child\">\n",
       "<div class=\"lm-Widget p-Widget jp-RenderedText jp-mod-trusted jp-OutputArea-output\" data-mime-type=\"application/vnd.jupyter.stderr\" style=\"font-family: monospace;\">\n",
       "\n",
       "\n",
       "<span style=\"white-space: pre;\"> # gonb_37590049</span>\n",
       "\n",
       "<br/>\n",
       "\n",
       "<span class=\"gonb-cell-line-info\">Cell[40]: Line 2</span>\n",
       "<span class=\"gonb-err-location\">./main.go:51:23: </span> cannot use s (variable of type IntSet) as type fmt.Stringer in variable declaration:\n",
       "<div class=\"gonb-err-context\">\n",
       "\n",
       "func main() {\n",
       "\tflag.Parse()\n",
       "<div class=\"gonb-err-line\">\tvar _ fmt.Stringer = s //compile error: IntSet lacks String method\n",
       "</div>\n",
       "}\n",
       "\n",
       "</div>\n",
       "\n",
       "<br/>\n",
       "\n",
       "\n",
       "<span style=\"white-space: pre;\"> \tIntSet does not implement fmt.Stringer (String method has pointer receiver)</span>\n",
       "\n",
       "<br/>\n",
       "\n",
       "\n",
       "<span style=\"white-space: pre;\"> </span>\n",
       "\n",
       "<br/>\n",
       "\n",
       "</div>\n"
      ]
     },
     "metadata": {},
     "output_type": "display_data"
    },
    {
     "ename": "ERROR",
     "evalue": "failed to run \"/opt/homebrew/bin/go build -o /var/folders/4d/tg201k8x6yb81f_lrvt4440m0000gn/T/gonb_37590049/gonb_37590049\": exit status 1",
     "output_type": "error",
     "traceback": [
      "failed to run \"/opt/homebrew/bin/go build -o /var/folders/4d/tg201k8x6yb81f_lrvt4440m0000gn/T/gonb_37590049/gonb_37590049\": exit status 1"
     ]
    }
   ],
   "source": [
    "%%\n",
    "var _ fmt.Stringer = s //compile error: IntSet lacks String method"
   ]
  },
  {
   "cell_type": "code",
   "execution_count": 42,
   "metadata": {
    "slideshow": {
     "slide_type": "subslide"
    }
   },
   "outputs": [
    {
     "name": "stdout",
     "output_type": "stream",
     "text": [
      "hello"
     ]
    }
   ],
   "source": [
    "%%\n",
    "os.Stdout.Write([]byte(\"hello\")) // OK: *os.File has Write method\n",
    "os.Stdout.Close()                // OK: *os.File has Close method\n",
    "var w io.Writer\n",
    "w = os.Stdout\n",
    "w.Write([]byte(\"hello\"))         // OK: io.Writer has Write method\n"
   ]
  },
  {
   "cell_type": "code",
   "execution_count": 44,
   "metadata": {
    "slideshow": {
     "slide_type": "fragment"
    }
   },
   "outputs": [
    {
     "data": {
      "text/html": [
       "\n",
       "<style>\n",
       ".gonb-err-location {\n",
       "\tbackground: var(--jp-err-color2);  \n",
       "\tborder-radius: 3px;\n",
       "\tborder-style: dotted;\n",
       "\tborder-width: 1px;\n",
       "\tborder-color: var(--jp-border-color2);\n",
       "}\n",
       ".gonb-err-location:hover {\n",
       "\tborder-width: 2px;\n",
       "\tborder-style: solid;\n",
       "\tborder-color: var(--jp-border-color2);\n",
       "}\n",
       ".gonb-err-context {\n",
       "\tdisplay: none;\n",
       "}\n",
       ".gonb-err-location:hover + .gonb-err-context {\n",
       "\tbackground: var(--jp-dialog-background);  \n",
       "\tborder-radius: 3px;\n",
       "\tborder-style: solid;\n",
       "\tborder-width: 1px;\n",
       "\tborder-color: var(--jp-border-color2);\n",
       "\tdisplay: block;\n",
       "\twhite-space: pre;\n",
       "\tfont-family: monospace;\n",
       "}\n",
       ".gonb-err-line {\n",
       "\tborder-radius: 3px;\n",
       "\tborder-style: dotted;\n",
       "\tborder-width: 1px;\t\n",
       "\tborder-color: var(--jp-border-color2);\n",
       "\tbackground-color: var(--jp-rendermime-err-background);\n",
       "\tfont-weight: bold;\n",
       "}\n",
       ".gonb-cell-line-info {\n",
       "\tbackground: var(--jp-layout-color2);\n",
       "\tcolor: #999;\n",
       "\tmargin: 0.1em;\n",
       "\tborder: 1px solid var(--jp-border-color1);\n",
       "\tpadding-left: 0.2em;\n",
       "\tpadding-right: 0.2em;\n",
       "}\n",
       "</style>\n",
       "<div class=\"lm-Widget p-Widget lm-Panel p-Panel jp-OutputArea-child\">\n",
       "<div class=\"lm-Widget p-Widget jp-RenderedText jp-mod-trusted jp-OutputArea-output\" data-mime-type=\"application/vnd.jupyter.stderr\" style=\"font-family: monospace;\">\n",
       "\n",
       "\n",
       "<span style=\"white-space: pre;\"> # gonb_37590049</span>\n",
       "\n",
       "<br/>\n",
       "\n",
       "<span class=\"gonb-cell-line-info\">Cell[44]: Line 4</span>\n",
       "<span class=\"gonb-err-location\">./main.go:53:4: </span> w.Close undefined (type io.Writer has no field or method Close)\n",
       "<div class=\"gonb-err-context\">\n",
       "\tflag.Parse()\n",
       "\tvar w io.Writer\n",
       "\tw = os.Stdout\n",
       "<div class=\"gonb-err-line\">\tw.Close()                        // compile error:io.Writer lacks Close method\n",
       "</div>\n",
       "}\n",
       "\n",
       "</div>\n",
       "\n",
       "<br/>\n",
       "\n",
       "\n",
       "<span style=\"white-space: pre;\"> </span>\n",
       "\n",
       "<br/>\n",
       "\n",
       "</div>\n"
      ]
     },
     "metadata": {},
     "output_type": "display_data"
    },
    {
     "ename": "ERROR",
     "evalue": "failed to run \"/opt/homebrew/bin/go build -o /var/folders/4d/tg201k8x6yb81f_lrvt4440m0000gn/T/gonb_37590049/gonb_37590049\": exit status 1",
     "output_type": "error",
     "traceback": [
      "failed to run \"/opt/homebrew/bin/go build -o /var/folders/4d/tg201k8x6yb81f_lrvt4440m0000gn/T/gonb_37590049/gonb_37590049\": exit status 1"
     ]
    }
   ],
   "source": [
    "%%\n",
    "var w io.Writer\n",
    "w = os.Stdout\n",
    "w.Close()                        // compile error:io.Writer lacks Close method"
   ]
  },
  {
   "cell_type": "markdown",
   "metadata": {
    "slideshow": {
     "slide_type": "subslide"
    }
   },
   "source": [
    "* the type interface{} has no methods \n",
    "* the empty interface type places no demands on the types that satisfy it\n",
    "* We can assign any value to the empty interface\n",
    "* fmt.Println or errorf to accept arguments of any type"
   ]
  },
  {
   "cell_type": "code",
   "execution_count": 46,
   "metadata": {
    "slideshow": {
     "slide_type": "fragment"
    }
   },
   "outputs": [],
   "source": [
    "%%\n",
    " "
   ]
  },
  {
   "cell_type": "code",
   "execution_count": 47,
   "metadata": {
    "slideshow": {
     "slide_type": "subslide"
    }
   },
   "outputs": [],
   "source": [
    "// *bytes.Buffer must satisfy io.Writer\n",
    "%%\n",
    "var w io.Writer = new(bytes.Buffer)\n",
    "var _ io.Writer = (*bytes.Buffer)(nil)\n",
    "_ = w"
   ]
  },
  {
   "cell_type": "markdown",
   "metadata": {
    "slideshow": {
     "slide_type": "subslide"
    }
   },
   "source": [
    "* A concrete type may satisfy many unrelated interfaces\n",
    "* We may define the following set of concrete types:\n",
    "  * Album\n",
    "  * Book\n",
    "  * Movie\n",
    "  * Magazine\n",
    "  * Podcast\n",
    "  * TVEpisode\n",
    "  * Track\n",
    "* Common properties: title, creator, time created\n",
    "  * types: text, audio, video"
   ]
  },
  {
   "cell_type": "markdown",
   "metadata": {
    "slideshow": {
     "slide_type": "subslide"
    }
   },
   "source": [
    "* We can express each abstration of interest as an interface\n",
    "* Some properties are common to all artifacts, such as title, a creation date, and a list of "
   ]
  },
  {
   "cell_type": "code",
   "execution_count": 42,
   "metadata": {
    "slideshow": {
     "slide_type": "subslide"
    }
   },
   "outputs": [],
   "source": [
    "type Artifact interface {\n",
    "    Title() string\n",
    "    Creators() []string\n",
    "    Created() time.Time\n",
    "}"
   ]
  },
  {
   "cell_type": "code",
   "execution_count": 43,
   "metadata": {
    "slideshow": {
     "slide_type": "subslide"
    }
   },
   "outputs": [],
   "source": [
    "type Text interface {\n",
    "    Pages() int\n",
    "    Words() int\n",
    "    PageSize() int\n",
    "}\n",
    "type Audio interface {\n",
    "    Stream() (io.ReadCloser, error)\n",
    "    RuningTime() time.Duration\n",
    "    Format() string // e.g., \"MP3\", \"WAV\"\n",
    "} \n",
    "type Video interface {\n",
    "    Stream() (io.ReadCloser, error)\n",
    "    RuningTime() time.Duration\n",
    "    Format() string // e.g., \"MP4\", \"WMV\"\n",
    "    Resolution() (x,y int)\n",
    "}"
   ]
  },
  {
   "cell_type": "markdown",
   "metadata": {
    "slideshow": {
     "slide_type": "subslide"
    }
   },
   "source": [
    "* Group related concrete types together and express the facets they share in common\n",
    "* Discover other groupings later\n",
    "  * Audio and Video items\n",
    "  * A Streamer interface with common aspects without changing existing declarations"
   ]
  },
  {
   "cell_type": "code",
   "execution_count": 44,
   "metadata": {
    "slideshow": {
     "slide_type": "subslide"
    }
   },
   "outputs": [],
   "source": [
    "type Streamer interface {\n",
    "    Stream() (io.ReadCloser, error)\n",
    "    RunningTime() time.Duration\n",
    "    Format() string\n",
    "}"
   ]
  },
  {
   "cell_type": "markdown",
   "metadata": {
    "slideshow": {
     "slide_type": "subslide"
    }
   },
   "source": [
    "* Each grouping of concrete ypes based on the shared behaviors can be expressed as an interface type\n",
    "* Set of interfaces satisfied by a class in class-based languages are explicit\n",
    "* In Golang, we can define new abstractions or groupings of interest when we need them, without modifying the declaration of the concrete type"
   ]
  },
  {
   "cell_type": "markdown",
   "metadata": {
    "slideshow": {
     "slide_type": "slide"
    }
   },
   "source": [
    "## Parsing Flags with flag.Value\n",
    "* interface, flag.Value\n",
    "  * define new notations for command-line flags\n",
    "  * a program which sleeps for a specified period of time"
   ]
  },
  {
   "cell_type": "code",
   "execution_count": 1,
   "metadata": {
    "slideshow": {
     "slide_type": "subslide"
    }
   },
   "outputs": [
    {
     "name": "stdout",
     "output_type": "stream",
     "text": [
      "Sleeping for 50ms...\n"
     ]
    }
   ],
   "source": [
    "//gopl.io/ch7/sleep\n",
    "import (\"time\";\"flag\";\"fmt\";\"os\")\n",
    "var period = flag.Duration(\"period\", 1*time.Second, \"sleep period\")\n",
    "%args -period 50ms\n",
    "//%args -period 2m30ms\n",
    "//%args  -period 1 day\n",
    "func main() {\n",
    "    flag.Parse()\n",
    "    fmt.Printf(\"Sleeping for %v...\", *period)\n",
    "    time.Sleep(*period)\n",
    "    fmt.Println()\n",
    "}"
   ]
  },
  {
   "cell_type": "markdown",
   "metadata": {
    "slideshow": {
     "slide_type": "subslide"
    }
   },
   "source": [
    "* duration-valued flags is built into the flag package\n",
    "* we can define new flag notations for our own data types"
   ]
  },
  {
   "cell_type": "markdown",
   "metadata": {
    "slideshow": {
     "slide_type": "subslide"
    }
   },
   "source": [
    "<code>\n",
    "    package flag\n",
    "    //Value is the interface to the value stored in a flag\n",
    "    type Value interface {\n",
    "      String() string\n",
    "      Set(string) error\n",
    "    }\n",
    "</code>\n",
    "\n",
    "* Attach **Set()** and **String()** method to **Celsius** type\n",
    "* type celsiusFlag struct {Celsius} \n",
    "  * embed a anonymous Celsius and with a String() method"
   ]
  },
  {
   "cell_type": "code",
   "execution_count": 21,
   "metadata": {
    "slideshow": {
     "slide_type": "subslide"
    }
   },
   "outputs": [],
   "source": [
    "//gopl.io/ch7/tempconv\n",
    "// *celsiusFlag satisfies the flag.Value interface.\n",
    "import (\n",
    "\t\"flag\"\n",
    "\t\"fmt\"\n",
    "    \"gopl.io/ch7/tempconv\"\n",
    ")\n",
    "\n",
    "type Celsius float64\n",
    "type Fahrenheit float64\n",
    "\n",
    "func CToF(c Celsius) Fahrenheit { return Fahrenheit(c*9.0/5.0 + 32.0) }\n",
    "func FToC(f Fahrenheit) Celsius { return Celsius((f - 32.0) * 5.0 / 9.0) }\n",
    "\n",
    "func (c Celsius) String() string { return fmt.Sprintf(\"%g°C\", c) }\n",
    "func (f Fahrenheit) String() string { return fmt.Sprintf(\"%g°F\", f) }\n",
    "\n",
    "type celsiusFlag struct {Celsius}\n",
    "type fahrenheitFlag struct {Fahrenheit}\n",
    "\n",
    "func (f *celsiusFlag) Set(s string) error {   \n",
    "    var unit string\n",
    "    var value float64\n",
    "    fmt.Sscanf(s, \"%f%s\", &value, &unit) // no error check needed\n",
    "    switch unit {\n",
    "    case \"C\", \"°C\":\n",
    "        f.Celsius = Celsius(value)\n",
    "        return nil\n",
    "    case \"F\", \"°F\":\n",
    "        f.Celsius = FToC(Fahrenheit(value))\n",
    "        return nil\n",
    "    }\n",
    "    return fmt.Errorf(\"invalid temperature %q\",s)\n",
    "} \n",
    "func (f *fahrenheitFlag) Set(s string) error {   \n",
    "    var unit string\n",
    "    var value float64\n",
    "    fmt.Sscanf(s, \"%f%s\", &value, &unit) // no error check needed\n",
    "    switch unit {\n",
    "    case \"F\", \"°F\":\n",
    "        f.Fahrenheit = Fahrenheit(value)\n",
    "        return nil\n",
    "    case \"C\", \"°C\":\n",
    "        f.Fahrenheit = CToF(Celsius(value))\n",
    "        return nil\n",
    "    }\n",
    "    return fmt.Errorf(\"invalid temperature %q\",s)\n",
    "} \n",
    "\n",
    "func CelsiusFlag(name string, value Celsius, usage string) *Celsius {\n",
    "\tf := celsiusFlag{value}\n",
    "\tflag.CommandLine.Var(&f, name, usage)\n",
    "\treturn &f.Celsius\n",
    "}\n",
    "func FahrenheitFlag(name string, value Fahrenheit, usage string) *Fahrenheit {\n",
    "\tf := fahrenheitFlag{value}\n",
    "\tflag.CommandLine.Var(&f, name, usage)\n",
    "\treturn &f.Fahrenheit\n",
    "}"
   ]
  },
  {
   "cell_type": "code",
   "execution_count": 26,
   "metadata": {},
   "outputs": [
    {
     "name": "stderr",
     "output_type": "stream",
     "text": [
      "Usage of /var/folders/4d/tg201k8x6yb81f_lrvt4440m0000gn/T/gonb_c12fd46a/gonb_c12fd46a:\n",
      "  -temp value\n",
      "    \tthe temperature (default 20°C)\n",
      "  -tempf value\n",
      "    \tthe temperature in Fahrenheit (default 30°F)\n"
     ]
    }
   ],
   "source": [
    "//gopl.io/ch7/tempflag \n",
    "var temp = tempconv.CelsiusFlag(\"temp\", 20.0, \"the temperature\")\n",
    "var tempf = FahrenheitFlag(\"tempf\", 30.0, \"the temperature in Fahrenheit\")\n",
    "\n",
    "%args -temp -18C -tempf -20F\n",
    "//%args -temp 212F\n",
    "%args -help\n",
    "//%args -tmep -273.15K\n",
    "func main() {\n",
    "    flag.Parse()\n",
    "    fmt.Println(*temp, *tempf)\n",
    "}\n"
   ]
  },
  {
   "cell_type": "markdown",
   "metadata": {
    "slideshow": {
     "slide_type": "slide"
    }
   },
   "source": [
    "## Interface Values\n",
    "* value of an interface type, called interface value\n",
    "  * a concrete type, called interface’s dynamic type\n",
    "  * a value of that type, called dynamic value\n",
    "\n",
    "<code>\n",
    "var w io.Writer\n",
    "w = os.Stdout\n",
    "w = new(bytes.Buffer)\n",
    "w = nil\n",
    "</code>"
   ]
  },
  {
   "cell_type": "code",
   "execution_count": 34,
   "metadata": {
    "scrolled": true,
    "slideshow": {
     "slide_type": "slide"
    }
   },
   "outputs": [
    {
     "name": "stdout",
     "output_type": "stream",
     "text": [
      "<nil>, <nil>\n"
     ]
    }
   ],
   "source": [
    "import (\"fmt\";\"io\")\n",
    "var w io.Writer\n",
    "%%\n",
    "fmt.Printf(\"%v, %T\\n\", w,w)"
   ]
  },
  {
   "cell_type": "code",
   "execution_count": 35,
   "metadata": {
    "slideshow": {
     "slide_type": "fragment"
    }
   },
   "outputs": [
    {
     "name": "stderr",
     "output_type": "stream",
     "text": [
      "panic: runtime error: invalid memory address or nil pointer dereference\n",
      "[signal SIGSEGV: segmentation violation code=0x2 addr=0x18 pc=0x1042f3df0]\n",
      "\n",
      "goroutine 1 [running]:\n",
      "main.main()\n",
      "\t \u001b[7m[[ Cell [35] Line 2 ]]\u001b[0m /var/folders/4d/tg201k8x6yb81f_lrvt4440m0000gn/T/gonb_164f98e1/main.go:119 +0x90\n",
      "exit status 2\n"
     ]
    }
   ],
   "source": [
    "%%\n",
    "w.Write([]byte(\"hello\")) // panic: nil pointer"
   ]
  },
  {
   "cell_type": "code",
   "execution_count": 36,
   "metadata": {
    "scrolled": true,
    "slideshow": {
     "slide_type": "subslide"
    }
   },
   "outputs": [
    {
     "name": "stdout",
     "output_type": "stream",
     "text": [
      "&{0x14000124060}, *os.File\n"
     ]
    }
   ],
   "source": [
    "import \"os\"\n",
    "%%\n",
    "w = os.Stdout\n",
    "fmt.Printf(\"%v, %T\\n\", w,w)"
   ]
  },
  {
   "cell_type": "code",
   "execution_count": 37,
   "metadata": {
    "slideshow": {
     "slide_type": "fragment"
    }
   },
   "outputs": [
    {
     "name": "stdout",
     "output_type": "stream",
     "text": [
      "hellohello"
     ]
    }
   ],
   "source": [
    "%%\n",
    "w = os.Stdout\n",
    "os.Stdout.Write([]byte(\"hello\")) // \"hello\"\n",
    "w.Write([]byte(\"hello\")) // \"hello\""
   ]
  },
  {
   "cell_type": "code",
   "execution_count": 38,
   "metadata": {
    "slideshow": {
     "slide_type": "subslide"
    }
   },
   "outputs": [
    {
     "name": "stdout",
     "output_type": "stream",
     "text": [
      ", *bytes.Buffer\n"
     ]
    }
   ],
   "source": [
    "import \"bytes\"\n",
    "%%\n",
    "w = new(bytes.Buffer)\n",
    "fmt.Printf(\"%v, %T\\n\",w,w)"
   ]
  },
  {
   "cell_type": "code",
   "execution_count": 39,
   "metadata": {
    "slideshow": {
     "slide_type": "fragment"
    }
   },
   "outputs": [],
   "source": [
    "%%\n",
    "w = new(bytes.Buffer)\n",
    "w.Write([]byte(\"hello\")) // writes \"hello\" to the bytes.Buffer"
   ]
  },
  {
   "cell_type": "code",
   "execution_count": 40,
   "metadata": {
    "slideshow": {
     "slide_type": "subslide"
    }
   },
   "outputs": [
    {
     "name": "stdout",
     "output_type": "stream",
     "text": [
      "2023-11-02 22:23:09.119502 +0800 CST m=+0.000203584, time.Time\n"
     ]
    }
   ],
   "source": [
    "import \"time\"\n",
    "var x interface{} = time.Now()\n",
    "%%\n",
    "fmt.Printf(\"%v, %T\\n\", x, x)"
   ]
  },
  {
   "cell_type": "markdown",
   "metadata": {
    "slideshow": {
     "slide_type": "slide"
    }
   },
   "source": [
    "## Sorting with sort.Interface\n",
    "* String formatting and sorting are frequently used operations\n",
    "* Traditional sorting\n",
    "  * any sequence\n",
    "    * sorting algorithm\n",
    "  * any ordering function\n",
    "    * associated with the type of the elements\n",
    "* sort package provides in-place sorting \n",
    "  * assumes nothing about the representation of the sequence or the elements\n",
    "  * specifies the contract between the generic sort algorithm and the sequence type\n",
    "* Implementation of the sort interface\n",
    "  * concrete implementation of the sequence (often a slice)\n",
    "  * desired ordering of the elemnts\n"
   ]
  },
  {
   "cell_type": "markdown",
   "metadata": {
    "slideshow": {
     "slide_type": "subslide"
    }
   },
   "source": [
    "### sort.Interface\n",
    "* the length of the sequence\n",
    "* means of comparing two elements\n",
    "* way to swap two elements\n",
    "\n",
    "<table>\n",
    "<tr><td style=\"text-align:left;\">\n",
    "<code>\n",
    "package sort\n",
    "type Interface interface {\n",
    "       Len() int\n",
    "       Less(i, j int) bool    // i, j are indices of sequence elements\n",
    "       Swap(i, j int)\n",
    "}</code>\n",
    "    </td>\n",
    "    </tr>\n",
    "</table>\n",
    "\n",
    "\n",
    "* To sort any sequence, define a type to implement these three methods and apply sort.Sort to an instance of that type "
   ]
  },
  {
   "cell_type": "markdown",
   "metadata": {
    "slideshow": {
     "slide_type": "subslide"
    }
   },
   "source": [
    "### Sorting a slice of strings\n",
    "<code>\n",
    "type StringSlice []string\n",
    "func (p StringSlice) Len() int             { return len(p)}\n",
    "func (p StringSlice) Less(i, j int) bool { return p[i] < p[j]}\n",
    "func (p StingSlice) Swap(i, j int)        { p[i], p[j] = p[j], p[i] }\n",
    "sort.Sort(StringSlice(names))\n",
    "                                                              </code>"
   ]
  },
  {
   "cell_type": "code",
   "execution_count": 27,
   "metadata": {
    "code_folding": [],
    "slideshow": {
     "slide_type": "subslide"
    }
   },
   "outputs": [],
   "source": [
    "// Copyright © 2016 Alan A. A. Donovan & Brian W. Kernighan.\n",
    "// License: https://creativecommons.org/licenses/by-nc-sa/4.0/\n",
    "\n",
    "// See page 187.\n",
    "\n",
    "// Sorting sorts a music playlist into a variety of orders.\n",
    "//package main\n",
    "\n",
    "import (\n",
    "\t\"fmt\"\n",
    "\t\"os\"\n",
    "\t\"sort\"\n",
    "\t\"text/tabwriter\"\n",
    "\t\"time\"\n",
    ")\n",
    "\n",
    "//!+main\n",
    "type Track struct {\n",
    "\tTitle  string\n",
    "\tArtist string\n",
    "\tAlbum  string\n",
    "\tYear   int\n",
    "\tLength time.Duration\n",
    "}\n",
    "\n",
    "var tracks = []*Track{\n",
    "\t{\"Go\", \"Delilah\", \"From the Roots Up\", 2012, length(\"3m38s\")},\n",
    "\t{\"Go\", \"Moby\", \"Moby\", 1992, length(\"3m37s\")},\n",
    "\t{\"Go Ahead\", \"Alicia Keys\", \"As I Am\", 2007, length(\"4m36s\")},\n",
    "\t{\"Ready 2 Go\", \"Martin Solveig\", \"Smash\", 2011, length(\"4m24s\")},\n",
    "}\n",
    "\n",
    "func length(s string) time.Duration {\n",
    "\td, err := time.ParseDuration(s)\n",
    "\tif err != nil {\n",
    "\t\tpanic(s)\n",
    "\t}\n",
    "\treturn d\n",
    "}\n"
   ]
  },
  {
   "cell_type": "code",
   "execution_count": 28,
   "metadata": {
    "slideshow": {
     "slide_type": "subslide"
    }
   },
   "outputs": [],
   "source": [
    "//!-main\n",
    "\n",
    "//!+printTracks\n",
    "func printTracks(tracks []*Track) {\n",
    "\tconst format = \"%v\\t%v\\t%v\\t%v\\t%v\\t\\n\"\n",
    "\ttw := new(tabwriter.Writer).Init(os.Stdout, 0, 8, 2, ' ', 0)\n",
    "\tfmt.Fprintf(tw, format, \"Title\", \"Artist\", \"Album\", \"Year\", \"Length\")\n",
    "\tfmt.Fprintf(tw, format, \"-----\", \"------\", \"-----\", \"----\", \"------\")\n",
    "\tfor _, t := range tracks {\n",
    "\t\tfmt.Fprintf(tw, format, t.Title, t.Artist, t.Album, t.Year, t.Length)\n",
    "\t}\n",
    "\ttw.Flush() // calculate column widths and print table\n",
    "}\n",
    "\n",
    "//!-printTracks\n",
    "\n"
   ]
  },
  {
   "cell_type": "code",
   "execution_count": 53,
   "metadata": {
    "slideshow": {
     "slide_type": "subslide"
    }
   },
   "outputs": [
    {
     "name": "stdout",
     "output_type": "stream",
     "text": [
      "byArtist:\n",
      "Title       Artist          Album              Year  Length  \n",
      "-----       ------          -----              ----  ------  \n",
      "Go Ahead    Alicia Keys     As I Am            2007  4m36s   \n",
      "Go          Delilah         From the Roots Up  2012  3m38s   \n",
      "Ready 2 Go  Martin Solveig  Smash              2011  4m24s   \n",
      "Go          Moby            Moby               1992  3m37s   \n",
      "\n",
      "Reverse(byArtist):\n",
      "Title       Artist          Album              Year  Length  \n",
      "-----       ------          -----              ----  ------  \n",
      "Go          Moby            Moby               1992  3m37s   \n",
      "Ready 2 Go  Martin Solveig  Smash              2011  4m24s   \n",
      "Go          Delilah         From the Roots Up  2012  3m38s   \n",
      "Go Ahead    Alicia Keys     As I Am            2007  4m36s   \n",
      "\n",
      "byYear:\n",
      "Title       Artist          Album              Year  Length  \n",
      "-----       ------          -----              ----  ------  \n",
      "Go          Moby            Moby               1992  3m37s   \n",
      "Go Ahead    Alicia Keys     As I Am            2007  4m36s   \n",
      "Ready 2 Go  Martin Solveig  Smash              2011  4m24s   \n",
      "Go          Delilah         From the Roots Up  2012  3m38s   \n"
     ]
    }
   ],
   "source": [
    "//!+artistcode\n",
    "type byArtist []*Track\n",
    "\n",
    "func (x byArtist) Len() int           { return len(x) }\n",
    "func (x byArtist) Less(i, j int) bool { return x[i].Artist < x[j].Artist }\n",
    "func (x byArtist) Swap(i, j int)      { x[i], x[j] = x[j], x[i] }\n",
    "\n",
    "//!-artistcode\n",
    "\n",
    "//!+yearcode\n",
    "type byYear []*Track\n",
    "\n",
    "func (x byYear) Len() int           { return len(x) }\n",
    "func (x byYear) Less(i, j int) bool { return x[i].Year < x[j].Year }\n",
    "func (x byYear) Swap(i, j int)      { x[i], x[j] = x[j], x[i] }\n",
    "\n",
    "//!-yearcode\n",
    "%%\n",
    "    fmt.Println(\"byArtist:\")\n",
    "\tsort.Sort(byArtist(tracks))\n",
    "\tprintTracks(tracks)\n",
    "\n",
    "\tfmt.Println(\"\\nReverse(byArtist):\")\n",
    "\tsort.Sort(sort.Reverse(byArtist(tracks)))\n",
    "\tprintTracks(tracks)\n",
    "\n",
    "\tfmt.Println(\"\\nbyYear:\")\n",
    "\tsort.Sort(byYear(tracks))\n",
    "\tprintTracks(tracks)\n"
   ]
  },
  {
   "cell_type": "code",
   "execution_count": 29,
   "metadata": {},
   "outputs": [
    {
     "name": "stdout",
     "output_type": "stream",
     "text": [
      "false\n",
      "[1 1 3 4]\n",
      "true\n",
      "[4 3 1 1]\n",
      "false\n",
      "\n",
      "Custom:\n",
      "Title       Artist          Album              Year  Length  \n",
      "-----       ------          -----              ----  ------  \n",
      "Go          Moby            Moby               1992  3m37s   \n",
      "Go          Delilah         From the Roots Up  2012  3m38s   \n",
      "Go Ahead    Alicia Keys     As I Am            2007  4m36s   \n",
      "Ready 2 Go  Martin Solveig  Smash              2011  4m24s   \n"
     ]
    }
   ],
   "source": [
    "func main() {\n",
    "\t\n",
    "\tfmt.Println(\"\\nCustom:\")\n",
    "\t//!+customcall\n",
    "\tsort.Sort(customSort{tracks, func(x, y *Track) bool {\n",
    "\t\tif x.Title != y.Title {\n",
    "\t\t\treturn x.Title < y.Title\n",
    "\t\t}\n",
    "\t\tif x.Year != y.Year {\n",
    "\t\t\treturn x.Year < y.Year\n",
    "\t\t}\n",
    "\t\tif x.Length != y.Length {\n",
    "\t\t\treturn x.Length < y.Length\n",
    "\t\t}\n",
    "\t\treturn false\n",
    "\t}})\n",
    "\t//!-customcall\n",
    "\tprintTracks(tracks)\n",
    "}\n",
    "\n",
    "/*\n",
    "//!+artistoutput\n",
    "Title       Artist          Album              Year  Length\n",
    "-----       ------          -----              ----  ------\n",
    "Go Ahead    Alicia Keys     As I Am            2007  4m36s\n",
    "Go          Delilah         From the Roots Up  2012  3m38s\n",
    "Ready 2 Go  Martin Solveig  Smash              2011  4m24s\n",
    "Go          Moby            Moby               1992  3m37s\n",
    "//!-artistoutput\n",
    "\n",
    "//!+artistrevoutput\n",
    "Title       Artist          Album              Year  Length\n",
    "-----       ------          -----              ----  ------\n",
    "Go          Moby            Moby               1992  3m37s\n",
    "Ready 2 Go  Martin Solveig  Smash              2011  4m24s\n",
    "Go          Delilah         From the Roots Up  2012  3m38s\n",
    "Go Ahead    Alicia Keys     As I Am            2007  4m36s\n",
    "//!-artistrevoutput\n",
    "\n",
    "//!+yearoutput\n",
    "Title       Artist          Album              Year  Length\n",
    "-----       ------          -----              ----  ------\n",
    "Go          Moby            Moby               1992  3m37s\n",
    "Go Ahead    Alicia Keys     As I Am            2007  4m36s\n",
    "Ready 2 Go  Martin Solveig  Smash              2011  4m24s\n",
    "Go          Delilah         From the Roots Up  2012  3m38s\n",
    "//!-yearoutput\n",
    "\n",
    "//!+customout\n",
    "Title       Artist          Album              Year  Length\n",
    "-----       ------          -----              ----  ------\n",
    "Go          Moby            Moby               1992  3m37s\n",
    "Go          Delilah         From the Roots Up  2012  3m38s\n",
    "Go Ahead    Alicia Keys     As I Am            2007  4m36s\n",
    "Ready 2 Go  Martin Solveig  Smash              2011  4m24s\n",
    "//!-customout\n",
    "*/\n",
    "\n",
    "//!+customcode\n",
    "type customSort struct {\n",
    "\tt    []*Track\n",
    "\tless func(x, y *Track) bool\n",
    "}\n",
    "\n",
    "func (x customSort) Len() int           { return len(x.t) }\n",
    "func (x customSort) Less(i, j int) bool { return x.less(x.t[i], x.t[j]) }\n",
    "func (x customSort) Swap(i, j int)      { x.t[i], x.t[j] = x.t[j], x.t[i] }\n",
    "\n",
    "//!-customcode\n",
    "\n",
    "func init() {\n",
    "\t//!+ints\n",
    "\tvalues := []int{3, 1, 4, 1}\n",
    "\tfmt.Println(sort.IntsAreSorted(values)) // \"false\"\n",
    "\tsort.Ints(values)\n",
    "\tfmt.Println(values)                     // \"[1 1 3 4]\"\n",
    "\tfmt.Println(sort.IntsAreSorted(values)) // \"true\"\n",
    "\tsort.Sort(sort.Reverse(sort.IntSlice(values)))\n",
    "\tfmt.Println(values)                     // \"[4 3 1 1]\"\n",
    "\tfmt.Println(sort.IntsAreSorted(values)) // \"false\"\n",
    "\t//!-ints\n",
    "}"
   ]
  },
  {
   "cell_type": "markdown",
   "metadata": {
    "slideshow": {
     "slide_type": "slide"
    }
   },
   "source": [
    "## The http.Handler Interface"
   ]
  },
  {
   "cell_type": "code",
   "execution_count": 5,
   "metadata": {
    "slideshow": {
     "slide_type": "subslide"
    }
   },
   "outputs": [
    {
     "name": "stderr",
     "output_type": "stream",
     "text": [
      "signal: interrupt\n"
     ]
    }
   ],
   "source": [
    "// Copyright © 2016 Alan A. A. Donovan & Brian W. Kernighan.\n",
    "// License: https://creativecommons.org/licenses/by-nc-sa/4.0/\n",
    "\n",
    "// See page 191.\n",
    "\n",
    "// Http1 is a rudimentary e-commerce server.\n",
    "//package main\n",
    "\n",
    "import (\n",
    "\t\"fmt\"\n",
    "\t\"log\"\n",
    "\t\"net/http\"\n",
    ")\n",
    "\n",
    "type dollars float32\n",
    "\n",
    "func (d dollars) String() string { return fmt.Sprintf(\"$%.2f\", d) }\n",
    "\n",
    "type database map[string]dollars\n",
    "\n",
    "func (db database) ServeHTTP(w http.ResponseWriter, req *http.Request) {\n",
    "\tfor item, price := range db {\n",
    "        fmt.Fprintf(w, \"%s: %s\\n\", item, price)\n",
    "\t}\n",
    "}\n",
    "//!+main\n",
    "\n",
    "func main() {\n",
    "\tdb := database{\"shoes\": 50, \"socks\": 5}\n",
    "\tlog.Fatal(http.ListenAndServe(\"localhost:8000\", db))\n",
    "}\n",
    "//!-main\n",
    "\n",
    "/*\n",
    "//!+handler\n",
    "package http\n",
    "\n",
    "type Handler interface {\n",
    "\tServeHTTP(w ResponseWriter, r *Request)\n",
    "}\n",
    "\n",
    "func ListenAndServe(address string, h Handler) error\n",
    "//!-handler\n",
    "*/\n",
    "//main()"
   ]
  },
  {
   "cell_type": "markdown",
   "metadata": {
    "slideshow": {
     "slide_type": "subslide"
    }
   },
   "source": [
    "$ go build gopl.io/ch7/http1\n",
    "\n",
    "./fetch http://localhost:8000"
   ]
  },
  {
   "cell_type": "code",
   "execution_count": 6,
   "metadata": {
    "slideshow": {
     "slide_type": "subslide"
    }
   },
   "outputs": [
    {
     "name": "stderr",
     "output_type": "stream",
     "text": [
      "signal: interrupt\n"
     ]
    }
   ],
   "source": [
    "// Copyright © 2016 Alan A. A. Donovan & Brian W. Kernighan.\n",
    "// License: https://creativecommons.org/licenses/by-nc-sa/4.0/\n",
    "\n",
    "// See page 192.\n",
    "\n",
    "// Http2 is an e-commerce server with /list and /price endpoints.\n",
    "//package main\n",
    "\n",
    "import (\n",
    "\t\"fmt\"\n",
    "\t\"log\"\n",
    "\t\"net/http\"\n",
    ")\n",
    "\n",
    "\n",
    "type dollars float32\n",
    "\n",
    "func (d dollars) String() string { return fmt.Sprintf(\"$%.2f\", d) }\n",
    "\n",
    "type database map[string]dollars\n",
    "\n",
    "//!+handler\n",
    "func (db database) ServeHTTP(w http.ResponseWriter, req *http.Request) {\n",
    "\tswitch req.URL.Path {\n",
    "\tcase \"/list\":\n",
    "\t\tfor item, price := range db {\n",
    "            fmt.Fprintf(w, \"%s: %s\\n\", item, price.String())\n",
    "\t\t}\n",
    "\tcase \"/price\":\n",
    "\t\titem := req.URL.Query().Get(\"item\")\n",
    "\t\tprice, ok := db[item]\n",
    "\t\tif !ok {\n",
    "\t\t\tw.WriteHeader(http.StatusNotFound) // 404\n",
    "\t\t\tfmt.Fprintf(w, \"no such item: %q\\n\", item)\n",
    "\t\t\treturn\n",
    "\t\t}\n",
    "        fmt.Fprintf(w, \"%s\\n\", price.String())\n",
    "\tdefault:\n",
    "\t\tw.WriteHeader(http.StatusNotFound) // 404\n",
    "\t\tfmt.Fprintf(w, \"no such page: %s\\n\", req.URL)\n",
    "\t}\n",
    "}\n",
    "\n",
    "//!-handler\n",
    "func main() {\n",
    "\tdb := database{\"shoes\": 50, \"socks\": 5}\n",
    "\tlog.Fatal(http.ListenAndServe(\"localhost:8000\", db))\n",
    "}\n",
    "//main()"
   ]
  },
  {
   "cell_type": "code",
   "execution_count": 59,
   "metadata": {
    "slideshow": {
     "slide_type": "subslide"
    }
   },
   "outputs": [
    {
     "name": "stdout",
     "output_type": "stream",
     "text": [
      "false\n",
      "[1 1 3 4]\n",
      "true\n",
      "[4 3 1 1]\n",
      "false\n"
     ]
    }
   ],
   "source": [
    "// Copyright © 2016 Alan A. A. Donovan & Brian W. Kernighan.\n",
    "// License: https://creativecommons.org/licenses/by-nc-sa/4.0/\n",
    "\n",
    "// See page 194.\n",
    "\n",
    "// Http3 is an e-commerce server that registers the /list and /price\n",
    "// endpoints by calling (*http.ServeMux).Handle.\n",
    "//package main\n",
    "\n",
    "import (\n",
    "\t\"fmt\"\n",
    "\t\"log\"\n",
    "\t\"net/http\"\n",
    ")\n",
    "\n",
    "type dollars float32\n",
    "\n",
    "func (d dollars) String() string { return fmt.Sprintf(\"$%.2f\", d) }\n",
    "\n",
    "//!+main\n",
    "\n",
    "\n",
    "\n",
    "type database map[string]dollars\n",
    "\n",
    "func (db database) list(w http.ResponseWriter, req *http.Request) {\n",
    "\tfor item, price := range db {\n",
    "        fmt.Fprintf(w, \"%s: %s\\n\", item, price.String())\n",
    "\t}\n",
    "}\n",
    "\n",
    "func (db database) price(w http.ResponseWriter, req *http.Request) {\n",
    "\titem := req.URL.Query().Get(\"item\")\n",
    "\tprice, ok := db[item]\n",
    "\tif !ok {\n",
    "\t\tw.WriteHeader(http.StatusNotFound) // 404\n",
    "\t\tfmt.Fprintf(w, \"no such item: %q\\n\", item)\n",
    "\t\treturn\n",
    "\t}\n",
    "    fmt.Fprintf(w, \"%s\\n\", price.String())\n",
    "}\n",
    "\n",
    "//!-main\n",
    "\n",
    "/*\n",
    "//!+handlerfunc\n",
    "package http\n",
    "\n",
    "type HandlerFunc func(w ResponseWriter, r *Request)\n",
    "\n",
    "func (f HandlerFunc) ServeHTTP(w ResponseWriter, r *Request) {\n",
    "\tf(w, r)\n",
    "}\n",
    "//!-handlerfunc\n",
    "*/"
   ]
  },
  {
   "cell_type": "code",
   "execution_count": 60,
   "metadata": {
    "slideshow": {
     "slide_type": "subslide"
    }
   },
   "outputs": [
    {
     "name": "stdout",
     "output_type": "stream",
     "text": [
      "false\n",
      "[1 1 3 4]\n",
      "true\n",
      "[4 3 1 1]\n",
      "false\n"
     ]
    },
    {
     "name": "stderr",
     "output_type": "stream",
     "text": [
      "^C\n",
      "signal: interrupt\n"
     ]
    }
   ],
   "source": [
    "//gopl.io/ch7/http3\n",
    "//func main() {\n",
    "%%\n",
    "\tdb := database{\"shoes\": 50, \"socks\": 5}\n",
    "\tmux := http.NewServeMux()\n",
    "\tmux.Handle(\"/list\", http.HandlerFunc(db.list))\n",
    "\tmux.Handle(\"/price\", http.HandlerFunc(db.price))\n",
    "\tlog.Fatal(http.ListenAndServe(\"localhost:8000\", mux))\n",
    "    //go http.ListenAndServe(\"localhost:8000\", mux)\n"
   ]
  },
  {
   "cell_type": "markdown",
   "metadata": {
    "slideshow": {
     "slide_type": "fragment"
    }
   },
   "source": [
    "  * [./fetch http://localhost:8000/list](http://localhost:8000/list)\n",
    "  * [./fetch http://localhost:8000/price?item=socks](http://localhost:8000/price?item=socks)\n",
    "  * [./fetch http://localhost:8000/price?item=shoes](http://localhost:8000/price?item=shoes)\n",
    "  * [./fetch http://localhost:8000/price?item=hat](http://localhost:8000/price?item=hat)\n",
    "  * [./fetch http://localhost:8000/help](http://localhost:8000/help)\n",
    "\n"
   ]
  },
  {
   "cell_type": "code",
   "execution_count": 61,
   "metadata": {
    "slideshow": {
     "slide_type": "subslide"
    }
   },
   "outputs": [
    {
     "name": "stdout",
     "output_type": "stream",
     "text": [
      "false\n",
      "[1 1 3 4]\n",
      "true\n",
      "[4 3 1 1]\n",
      "false\n"
     ]
    },
    {
     "name": "stderr",
     "output_type": "stream",
     "text": [
      "^C\n",
      "signal: interrupt\n"
     ]
    }
   ],
   "source": [
    "//gopl.io/ch7/http3a\n",
    "func main() {\n",
    "\tdb := database{\"shoes\": 50, \"socks\": 5}\n",
    "\tmux := http.NewServeMux()\n",
    "\tmux.HandleFunc(\"/list\", db.list)\n",
    "\tmux.HandleFunc(\"/price\", db.price)\n",
    "\tlog.Fatal(http.ListenAndServe(\"localhost:8000\", mux))\n",
    "}"
   ]
  },
  {
   "cell_type": "markdown",
   "metadata": {
    "slideshow": {
     "slide_type": "fragment"
    }
   },
   "source": [
    "  * [./fetch http://localhost:8000/list](http://localhost:8000/list)\n",
    "  * [./fetch http://localhost:8000/price?item=socks](http://localhost:8000/price?item=socks)\n",
    "  * [./fetch http://localhost:8000/price?item=shoes](http://localhost:8000/price?item=shoes)\n",
    "  * [./fetch http://localhost:8000/price?item=hat](http://localhost:8000/price?item=hat)\n",
    "  * [./fetch http://localhost:8000/help](http://localhost:8000/help)\n"
   ]
  },
  {
   "cell_type": "code",
   "execution_count": 62,
   "metadata": {
    "slideshow": {
     "slide_type": "subslide"
    }
   },
   "outputs": [
    {
     "name": "stdout",
     "output_type": "stream",
     "text": [
      "false\n",
      "[1 1 3 4]\n",
      "true\n",
      "[4 3 1 1]\n",
      "false\n"
     ]
    },
    {
     "name": "stderr",
     "output_type": "stream",
     "text": [
      "^C\n",
      "signal: interrupt\n"
     ]
    }
   ],
   "source": [
    "//gopl.io/ch7/http4\n",
    "func main() {\n",
    "    db := database{\"shoes\": 50, \"socks\": 5}\n",
    "\thttp.HandleFunc(\"/list\", db.list)\n",
    "\thttp.HandleFunc(\"/price\", db.price)\n",
    "\tlog.Fatal(http.ListenAndServe(\"localhost:8000\", nil))\n",
    "}"
   ]
  },
  {
   "cell_type": "markdown",
   "metadata": {
    "slideshow": {
     "slide_type": "fragment"
    }
   },
   "source": [
    "  * [./fetch http://localhost:8000/list](http://localhost:8000/list)\n",
    "  * [./fetch http://localhost:8000/price?item=socks](http://localhost:8000/price?item=socks)\n",
    "  * [./fetch http://localhost:8000/price?item=shoes](http://localhost:8000/price?item=shoes)\n",
    "  * [./fetch http://localhost:8000/price?item=hat](http://localhost:8000/price?item=hat)\n",
    "  * [./fetch http://localhost:8000/help](http://localhost:8000/help)\n"
   ]
  },
  {
   "cell_type": "markdown",
   "metadata": {
    "slideshow": {
     "slide_type": "slide"
    }
   },
   "source": [
    "## The error Interface"
   ]
  },
  {
   "cell_type": "markdown",
   "metadata": {
    "slideshow": {
     "slide_type": "subslide"
    }
   },
   "source": [
    "* the predeclaraed error type is an interface type \n",
    "  * with a single method returning an error message\n",
    "<code>\n",
    "type error interface {\n",
    "    Error() string\n",
    "}\n",
    "</code>\n",
    "<code>\n",
    "package errors\n",
    "    func New(text string) error {return &errorString{text}}\n",
    "    type errorString struct { text string }\n",
    "    func (e *errorString) Error() string { return e.text }\n",
    "</code>"
   ]
  },
  {
   "cell_type": "code",
   "execution_count": null,
   "metadata": {
    "slideshow": {
     "slide_type": "subslide"
    }
   },
   "outputs": [],
   "source": [
    "//package fmt\n",
    "import \"errors\"\n",
    "func Error(format string, args ...interface{}) error {\n",
    "    return errors.New(fmt.Sprintf(format, args...))\n",
    "}"
   ]
  },
  {
   "cell_type": "code",
   "execution_count": 75,
   "metadata": {
    "slideshow": {
     "slide_type": "subslide"
    }
   },
   "outputs": [],
   "source": [
    "//package syscall\n",
    "type Errno uintptr // operating system error code\n",
    "var errors = [...]string {\n",
    "    1: \"operation not permitted\", // EPERM\n",
    "    2: \"no such file or directory\", // ENOENT\n",
    "    3: \"no such process\",           // ESRCH\n",
    "}\n",
    "\n",
    "func (e Errno) Error() string {\n",
    "    if 0 <= int(e) && int(e) < len(errors) {\n",
    "        return errors[e]\n",
    "    }\n",
    "    return fmt.Sprintf(\"errno %d\",e)\n",
    "}"
   ]
  },
  {
   "cell_type": "code",
   "execution_count": 76,
   "metadata": {
    "slideshow": {
     "slide_type": "subslide"
    }
   },
   "outputs": [
    {
     "name": "stdout",
     "output_type": "stream",
     "text": [
      "no such file or directory\n",
      "no such file or directory\n"
     ]
    }
   ],
   "source": [
    "import \"syscall\"\n",
    "%%\n",
    "var err error = syscall.Errno(2)\n",
    "fmt.Println(err.Error())  // \"no such file or directory\"\n",
    "fmt.Println(err)          // \"no such file or directory\""
   ]
  },
  {
   "cell_type": "markdown",
   "metadata": {
    "slideshow": {
     "slide_type": "slide"
    }
   },
   "source": [
    "## Example: Expression Evaluator"
   ]
  },
  {
   "cell_type": "code",
   "execution_count": 55,
   "metadata": {
    "slideshow": {
     "slide_type": "subslide"
    }
   },
   "outputs": [],
   "source": [
    "// Copyright © 2016 Alan A. A. Donovan & Brian W. Kernighan.\n",
    "// License: https://creativecommons.org/licenses/by-nc-sa/4.0/\n",
    "\n",
    "//package eval\n",
    "import (\n",
    "\t\"fmt\"\n",
    "\t\"math\"\n",
    ")\n",
    "\n",
    "// An Expr is an arithmetic expression.\n",
    "type Expr interface {\n",
    "\t// Eval returns the value of this Expr in the environment env.\n",
    "\tEval(env Env) float64\n",
    "\t// Check reports errors in this Expr and adds its Vars to the set.\n",
    "\tCheck(vars map[Var]bool) error\n",
    "}\n",
    "\n",
    "//!+ast\n",
    "\n",
    "// A Var identifies a variable, e.g., x.\n",
    "type Var string\n",
    "\n",
    "// A literal is a numeric constant, e.g., 3.141.\n",
    "type literal float64\n",
    "\n",
    "// A unary represents a unary operator expression, e.g., -x.\n",
    "type unary struct {\n",
    "\top rune // one of '+', '-'\n",
    "\tx  Expr\n",
    "}\n",
    "\n",
    "// A binary represents a binary operator expression, e.g., x+y.\n",
    "type binary struct {\n",
    "\top   rune // one of '+', '-', '*', '/'\n",
    "\tx, y Expr\n",
    "}\n",
    "\n",
    "// A call represents a function call expression, e.g., sin(x).\n",
    "type call struct {\n",
    "\tfn   string // one of \"pow\", \"sin\", \"sqrt\"\n",
    "\targs []Expr\n",
    "}\n",
    "\n",
    "// Copyright © 2016 Alan A. A. Donovan & Brian W. Kernighan.\n",
    "// License: https://creativecommons.org/licenses/by-nc-sa/4.0/\n",
    "\n",
    "// See page 198.\n",
    "\n",
    "// Package eval provides an expression evaluator.\n",
    "//package eval\n",
    "\n",
    "\n",
    "//!+env\n",
    "\n",
    "type Env map[Var]float64\n",
    "\n",
    "//!-env\n",
    "\n",
    "//!+Eval1\n",
    "\n",
    "func (v Var) Eval(env Env) float64 {\n",
    "\treturn env[v]\n",
    "}\n",
    "\n",
    "func (l literal) Eval(_ Env) float64 {\n",
    "\treturn float64(l)\n",
    "}\n",
    "\n",
    "//!-Eval1\n",
    "\n",
    "//!+Eval2\n",
    "\n",
    "func (u unary) Eval(env Env) float64 {\n",
    "\tswitch u.op {\n",
    "\tcase '+':\n",
    "\t\treturn +u.x.Eval(env)\n",
    "\tcase '-':\n",
    "\t\treturn -u.x.Eval(env)\n",
    "\t}\n",
    "\tpanic(fmt.Sprintf(\"unsupported unary operator: %q\", u.op))\n",
    "}\n",
    "\n",
    "func (b binary) Eval(env Env) float64 {\n",
    "\tswitch b.op {\n",
    "\tcase '+':\n",
    "\t\treturn b.x.Eval(env) + b.y.Eval(env)\n",
    "\tcase '-':\n",
    "\t\treturn b.x.Eval(env) - b.y.Eval(env)\n",
    "\tcase '*':\n",
    "\t\treturn b.x.Eval(env) * b.y.Eval(env)\n",
    "\tcase '/':\n",
    "\t\treturn b.x.Eval(env) / b.y.Eval(env)\n",
    "\t}\n",
    "\tpanic(fmt.Sprintf(\"unsupported binary operator: %q\", b.op))\n",
    "}\n",
    "\n",
    "func (c call) Eval(env Env) float64 {\n",
    "\tswitch c.fn {\n",
    "\tcase \"pow\":\n",
    "\t\treturn math.Pow(c.args[0].Eval(env), c.args[1].Eval(env))\n",
    "\tcase \"sin\":\n",
    "\t\treturn math.Sin(c.args[0].Eval(env))\n",
    "\tcase \"sqrt\":\n",
    "\t\treturn math.Sqrt(c.args[0].Eval(env))\n",
    "\t}\n",
    "\tpanic(fmt.Sprintf(\"unsupported function call: %s\", c.fn))\n",
    "}\n",
    "\n",
    "//!-Eval2\n",
    "//!-ast"
   ]
  },
  {
   "cell_type": "code",
   "execution_count": 61,
   "metadata": {
    "slideshow": {
     "slide_type": "subslide"
    }
   },
   "outputs": [
    {
     "data": {
      "text/html": [
       "\n",
       "<style>\n",
       ".gonb-err-location {\n",
       "\tbackground: var(--jp-err-color2);  \n",
       "\tborder-radius: 3px;\n",
       "\tborder-style: dotted;\n",
       "\tborder-width: 1px;\n",
       "\tborder-color: var(--jp-border-color2);\n",
       "}\n",
       ".gonb-err-location:hover {\n",
       "\tborder-width: 2px;\n",
       "\tborder-style: solid;\n",
       "\tborder-color: var(--jp-border-color2);\n",
       "}\n",
       ".gonb-err-context {\n",
       "\tdisplay: none;\n",
       "}\n",
       ".gonb-err-location:hover + .gonb-err-context {\n",
       "\tbackground: var(--jp-dialog-background);  \n",
       "\tborder-radius: 3px;\n",
       "\tborder-style: solid;\n",
       "\tborder-width: 1px;\n",
       "\tborder-color: var(--jp-border-color2);\n",
       "\tdisplay: block;\n",
       "\twhite-space: pre;\n",
       "\tfont-family: monospace;\n",
       "}\n",
       ".gonb-err-line {\n",
       "\tborder-radius: 3px;\n",
       "\tborder-style: dotted;\n",
       "\tborder-width: 1px;\t\n",
       "\tborder-color: var(--jp-border-color2);\n",
       "\tbackground-color: var(--jp-rendermime-err-background);\n",
       "\tfont-weight: bold;\n",
       "}\n",
       ".gonb-cell-line-info {\n",
       "\tbackground: var(--jp-layout-color2);\n",
       "\tcolor: #999;\n",
       "\tmargin: 0.1em;\n",
       "\tborder: 1px solid var(--jp-border-color1);\n",
       "\tpadding-left: 0.2em;\n",
       "\tpadding-right: 0.2em;\n",
       "}\n",
       "</style>\n",
       "<div class=\"lm-Widget p-Widget lm-Panel p-Panel jp-OutputArea-child\">\n",
       "<div class=\"lm-Widget p-Widget jp-RenderedText jp-mod-trusted jp-OutputArea-output\" data-mime-type=\"application/vnd.jupyter.stderr\" style=\"font-family: monospace;\">\n",
       "\n",
       "\n",
       "<span style=\"white-space: pre;\"> # gonb_164f98e1</span>\n",
       "\n",
       "<br/>\n",
       "\n",
       "<span class=\"gonb-cell-line-info\">Cell[61]: Line 87</span>\n",
       "<span class=\"gonb-err-location\">./main.go:178:16: </span> undefined: Parse\n",
       "<div class=\"gonb-err-context\">\n",
       "\t\t{&#34;log(10)&#34;, `unknown function &#34;log&#34;`},\n",
       "\t\t{&#34;sqrt(1, 2)&#34;, &#34;call to sqrt has 2 args, want 1&#34;},\n",
       "\t} {\n",
       "<div class=\"gonb-err-line\">\t\texpr, err := Parse(test.expr)\n",
       "</div>\t\tif err == nil {\n",
       "\t\t\tvars := make(map[Var]bool)\n",
       "\n",
       "</div>\n",
       "\n",
       "<br/>\n",
       "\n",
       "<span class=\"gonb-cell-line-info\">Cell[61]: Line 38</span>\n",
       "<span class=\"gonb-err-location\">./main.go:219:16: </span> undefined: Parse\n",
       "<div class=\"gonb-err-context\">\n",
       "\t\t\tfmt.Printf(&#34;\\n%s\\n&#34;, test.expr)\n",
       "\t\t\tprevExpr = test.expr\n",
       "\t\t}\n",
       "<div class=\"gonb-err-line\">\t\texpr, err := Parse(test.expr)\n",
       "</div>\t\tif err != nil {\n",
       "\t\t\tt.Error(err) // parse error\n",
       "\n",
       "</div>\n",
       "\n",
       "<br/>\n",
       "\n",
       "\n",
       "<span style=\"white-space: pre;\"> </span>\n",
       "\n",
       "<br/>\n",
       "\n",
       "</div>\n"
      ]
     },
     "metadata": {},
     "output_type": "display_data"
    },
    {
     "ename": "ERROR",
     "evalue": "failed to run \"/opt/homebrew/bin/go build -o /var/folders/4d/tg201k8x6yb81f_lrvt4440m0000gn/T/gonb_164f98e1/gonb_164f98e1\": exit status 1",
     "output_type": "error",
     "traceback": [
      "failed to run \"/opt/homebrew/bin/go build -o /var/folders/4d/tg201k8x6yb81f_lrvt4440m0000gn/T/gonb_164f98e1/gonb_164f98e1\": exit status 1"
     ]
    }
   ],
   "source": [
    "// Copyright © 2016 Alan A. A. Donovan & Brian W. Kernighan.\n",
    "// License: https://creativecommons.org/licenses/by-nc-sa/4.0/\n",
    "\n",
    "//package eval\n",
    "\n",
    "import (\n",
    "\t\"fmt\"\n",
    "\t\"math\"\n",
    "\t\"testing\"\n",
    ")\n",
    "\n",
    "//!+Eval\n",
    "func TestEval(t *testing.T) {\n",
    "\ttests := []struct {\n",
    "\t\texpr string\n",
    "\t\tenv  Env\n",
    "\t\twant string\n",
    "\t}{\n",
    "\t\t{\"sqrt(A / pi)\", Env{\"A\": 87616, \"pi\": math.Pi}, \"167\"},\n",
    "\t\t{\"pow(x, 3) + pow(y, 3)\", Env{\"x\": 12, \"y\": 1}, \"1729\"},\n",
    "\t\t{\"pow(x, 3) + pow(y, 3)\", Env{\"x\": 9, \"y\": 10}, \"1729\"},\n",
    "\t\t{\"5 / 9 * (F - 32)\", Env{\"F\": -40}, \"-40\"},\n",
    "\t\t{\"5 / 9 * (F - 32)\", Env{\"F\": 32}, \"0\"},\n",
    "\t\t{\"5 / 9 * (F - 32)\", Env{\"F\": 212}, \"100\"},\n",
    "\t\t//!-Eval\n",
    "\t\t// additional tests that don't appear in the book\n",
    "\t\t{\"-1 + -x\", Env{\"x\": 1}, \"-2\"},\n",
    "\t\t{\"-1 - x\", Env{\"x\": 1}, \"-2\"},\n",
    "\t\t//!+Eval\n",
    "\t}\n",
    "\tvar prevExpr string\n",
    "\tfor _, test := range tests {\n",
    "\t\t// Print expr only when it changes.\n",
    "\t\tif test.expr != prevExpr {\n",
    "\t\t\tfmt.Printf(\"\\n%s\\n\", test.expr)\n",
    "\t\t\tprevExpr = test.expr\n",
    "\t\t}\n",
    "\t\texpr, err := Parse(test.expr)\n",
    "\t\tif err != nil {\n",
    "\t\t\tt.Error(err) // parse error\n",
    "\t\t\tcontinue\n",
    "\t\t}\n",
    "\t\tgot := fmt.Sprintf(\"%.6g\", expr.Eval(test.env))\n",
    "\t\tfmt.Printf(\"\\t%v => %s\\n\", test.env, got)\n",
    "\t\tif got != test.want {\n",
    "\t\t\tt.Errorf(\"%s.Eval() in %v = %q, want %q\\n\",\n",
    "\t\t\t\ttest.expr, test.env, got, test.want)\n",
    "\t\t}\n",
    "\t}\n",
    "}\n",
    "\n",
    "//!-Eval\n",
    "\n",
    "/*\n",
    "//!+output\n",
    "sqrt(A / pi)\n",
    "\tmap[A:87616 pi:3.141592653589793] => 167\n",
    "\n",
    "pow(x, 3) + pow(y, 3)\n",
    "\tmap[x:12 y:1] => 1729\n",
    "\tmap[x:9 y:10] => 1729\n",
    "\n",
    "5 / 9 * (F - 32)\n",
    "\tmap[F:-40] => -40\n",
    "\tmap[F:32] => 0\n",
    "\tmap[F:212] => 100\n",
    "//!-output\n",
    "\n",
    "// Additional outputs that don't appear in the book.\n",
    "\n",
    "-1 - x\n",
    "\tmap[x:1] => -2\n",
    "\n",
    "-1 + -x\n",
    "\tmap[x:1] => -2\n",
    "*/\n",
    "\n",
    "func TestErrors(t *testing.T) {\n",
    "\tfor _, test := range []struct{ expr, wantErr string }{\n",
    "\t\t{\"x % 2\", \"unexpected '%'\"},\n",
    "\t\t{\"math.Pi\", \"unexpected '.'\"},\n",
    "\t\t{\"!true\", \"unexpected '!'\"},\n",
    "\t\t{`\"hello\"`, \"unexpected '\\\"'\"},\n",
    "\t\t{\"log(10)\", `unknown function \"log\"`},\n",
    "\t\t{\"sqrt(1, 2)\", \"call to sqrt has 2 args, want 1\"},\n",
    "\t} {\n",
    "\t\texpr, err := Parse(test.expr)\n",
    "\t\tif err == nil {\n",
    "\t\t\tvars := make(map[Var]bool)\n",
    "\t\t\terr = expr.Check(vars)\n",
    "\t\t\tif err == nil {\n",
    "\t\t\t\tt.Errorf(\"unexpected success: %s\", test.expr)\n",
    "\t\t\t\tcontinue\n",
    "\t\t\t}\n",
    "\t\t}\n",
    "\t\tfmt.Printf(\"%-20s%v\\n\", test.expr, err) // (for book)\n",
    "\t\tif err.Error() != test.wantErr {\n",
    "\t\t\tt.Errorf(\"got error %s, want %s\", err, test.wantErr)\n",
    "\t\t}\n",
    "\t}\n",
    "}\n",
    "\n",
    "/*\n",
    "//!+errors\n",
    "x % 2               unexpected '%'\n",
    "math.Pi             unexpected '.'\n",
    "!true               unexpected '!'\n",
    "\"hello\"             unexpected '\"'\n",
    "\n",
    "log(10)             unknown function \"log\"\n",
    "sqrt(1, 2)          call to sqrt has 2 args, want 1\n",
    "//!-errors\n",
    "*/"
   ]
  },
  {
   "cell_type": "code",
   "execution_count": 57,
   "metadata": {
    "slideshow": {
     "slide_type": "subslide"
    }
   },
   "outputs": [],
   "source": [
    "// Copyright © 2016 Alan A. A. Donovan & Brian W. Kernighan.\n",
    "// License: https://creativecommons.org/licenses/by-nc-sa/4.0/\n",
    "\n",
    "//package eval\n",
    "\n",
    "import (\n",
    "\t\"fmt\"\n",
    "\t\"strings\"\n",
    ")\n",
    "\n",
    "//!+Check\n",
    "\n",
    "func (v Var) Check(vars map[Var]bool) error {\n",
    "\tvars[v] = true\n",
    "\treturn nil\n",
    "}\n",
    "\n",
    "func (literal) Check(vars map[Var]bool) error {\n",
    "\treturn nil\n",
    "}\n",
    "\n",
    "func (u unary) Check(vars map[Var]bool) error {\n",
    "\tif !strings.ContainsRune(\"+-\", u.op) {\n",
    "\t\treturn fmt.Errorf(\"unexpected unary op %q\", u.op)\n",
    "\t}\n",
    "\treturn u.x.Check(vars)\n",
    "}\n",
    "\n",
    "func (b binary) Check(vars map[Var]bool) error {\n",
    "\tif !strings.ContainsRune(\"+-*/\", b.op) {\n",
    "\t\treturn fmt.Errorf(\"unexpected binary op %q\", b.op)\n",
    "\t}\n",
    "\tif err := b.x.Check(vars); err != nil {\n",
    "\t\treturn err\n",
    "\t}\n",
    "\treturn b.y.Check(vars)\n",
    "}\n",
    "\n",
    "func (c call) Check(vars map[Var]bool) error {\n",
    "\tarity, ok := numParams[c.fn]\n",
    "\tif !ok {\n",
    "\t\treturn fmt.Errorf(\"unknown function %q\", c.fn)\n",
    "\t}\n",
    "\tif len(c.args) != arity {\n",
    "\t\treturn fmt.Errorf(\"call to %s has %d args, want %d\",\n",
    "\t\t\tc.fn, len(c.args), arity)\n",
    "\t}\n",
    "\tfor _, arg := range c.args {\n",
    "\t\tif err := arg.Check(vars); err != nil {\n",
    "\t\t\treturn err\n",
    "\t\t}\n",
    "\t}\n",
    "\treturn nil\n",
    "}\n",
    "\n",
    "var numParams = map[string]int{\"pow\": 2, \"sin\": 1, \"sqrt\": 1}\n",
    "\n",
    "//!-Check"
   ]
  },
  {
   "cell_type": "code",
   "execution_count": 62,
   "metadata": {
    "slideshow": {
     "slide_type": "subslide"
    }
   },
   "outputs": [],
   "source": [
    "// Copyright © 2016 Alan A. A. Donovan & Brian W. Kernighan.\n",
    "// License: https://creativecommons.org/licenses/by-nc-sa/4.0/\n",
    "\n",
    "// See page 203.\n",
    "\n",
    "// The surface program plots the 3-D surface of a user-provided function.\n",
    "//package main\n",
    "\n",
    "import (\n",
    "\t\"fmt\"\n",
    "\t\"io\"\n",
    "\t\"log\"\n",
    "\t\"math\"\n",
    "\t\"net/http\"\n",
    ")\n",
    "\n",
    "//!+parseAndCheck\n",
    "import \"gopl.io/ch7/eval\"\n",
    "\n",
    "//!-parseAndCheck\n",
    "\n",
    "// -- copied from gopl.io/ch3/surface --\n",
    "\n",
    "const (\n",
    "\twidth, height = 600, 320            // canvas size in pixels\n",
    "\tcells         = 100                 // number of grid cells\n",
    "\txyrange       = 30.0                // x, y axis range (-xyrange..+xyrange)\n",
    "\txyscale       = width / 2 / xyrange // pixels per x or y unit\n",
    "\tzscale        = height * 0.4        // pixels per z unit\n",
    ")\n",
    "\n",
    "var sin30, cos30 = 0.5, math.Sqrt(3.0 / 4.0) // sin(30°), cos(30°)\n",
    "\n",
    "func corner(f func(x, y float64) float64, i, j int) (float64, float64) {\n",
    "\t// find point (x,y) at corner of cell (i,j)\n",
    "\tx := xyrange * (float64(i)/cells - 0.5)\n",
    "\ty := xyrange * (float64(j)/cells - 0.5)\n",
    "\n",
    "\tz := f(x, y) // compute surface height z\n",
    "\n",
    "\t// project (x,y,z) isometrically onto 2-D SVG canvas (sx,sy)\n",
    "\tsx := width/2 + (x-y)*cos30*xyscale\n",
    "\tsy := height/2 + (x+y)*sin30*xyscale - z*zscale\n",
    "\treturn sx, sy\n",
    "}\n",
    "\n",
    "func surface(w io.Writer, f func(x, y float64) float64) {\n",
    "\tfmt.Fprintf(w, \"<svg xmlns='http://www.w3.org/2000/svg' \"+\n",
    "\t\t\"style='stroke: grey; fill: white; stroke-width: 0.7' \"+\n",
    "\t\t\"width='%d' height='%d'>\", width, height)\n",
    "\tfor i := 0; i < cells; i++ {\n",
    "\t\tfor j := 0; j < cells; j++ {\n",
    "\t\t\tax, ay := corner(f, i+1, j)\n",
    "\t\t\tbx, by := corner(f, i, j)\n",
    "\t\t\tcx, cy := corner(f, i, j+1)\n",
    "\t\t\tdx, dy := corner(f, i+1, j+1)\n",
    "\t\t\tfmt.Fprintf(w, \"<polygon points='%g,%g %g,%g %g,%g %g,%g'/>\\n\",\n",
    "\t\t\t\tax, ay, bx, by, cx, cy, dx, dy)\n",
    "\t\t}\n",
    "\t}\n",
    "\tfmt.Fprintln(w, \"</svg>\")\n",
    "}\n",
    "\n",
    "// -- main code for gopl.io/ch7/surface --\n",
    "\n",
    "//!+parseAndCheck\n",
    "func parseAndCheck(s string) (eval.Expr, error) {\n",
    "\tif s == \"\" {\n",
    "\t\treturn nil, fmt.Errorf(\"empty expression\")\n",
    "\t}\n",
    "\texpr, err := eval.Parse(s)\n",
    "\tif err != nil {\n",
    "\t\treturn nil, err\n",
    "\t}\n",
    "\tvars := make(map[eval.Var]bool)\n",
    "\tif err := expr.Check(vars); err != nil {\n",
    "\t\treturn nil, err\n",
    "\t}\n",
    "\tfor v := range vars {\n",
    "\t\tif v != \"x\" && v != \"y\" && v != \"r\" {\n",
    "\t\t\treturn nil, fmt.Errorf(\"undefined variable: %s\", v)\n",
    "\t\t}\n",
    "\t}\n",
    "\treturn expr, nil\n",
    "}\n",
    "\n",
    "//!-parseAndCheck\n",
    "\n"
   ]
  },
  {
   "cell_type": "code",
   "execution_count": 63,
   "metadata": {
    "slideshow": {
     "slide_type": "subslide"
    }
   },
   "outputs": [],
   "source": [
    "//!+plot\n",
    "func plot(w http.ResponseWriter, r *http.Request) {\n",
    "\tr.ParseForm()\n",
    "\texpr, err := parseAndCheck(r.Form.Get(\"expr\"))\n",
    "\tif err != nil {\n",
    "\t\thttp.Error(w, \"bad expr: \"+err.Error(), http.StatusBadRequest)\n",
    "\t\treturn\n",
    "\t}\n",
    "\tw.Header().Set(\"Content-Type\", \"image/svg+xml\")\n",
    "\tsurface(w, func(x, y float64) float64 {\n",
    "\t\tr := math.Hypot(x, y) // distance from (0,0)\n",
    "\t\treturn expr.Eval(eval.Env{\"x\": x, \"y\": y, \"r\": r})\n",
    "\t})\n",
    "}\n",
    "\n",
    "\n",
    "//!-main"
   ]
  },
  {
   "cell_type": "code",
   "execution_count": 64,
   "metadata": {
    "slideshow": {
     "slide_type": "subslide"
    }
   },
   "outputs": [
    {
     "name": "stderr",
     "output_type": "stream",
     "text": [
      "^C\n",
      "signal: interrupt\n"
     ]
    }
   ],
   "source": [
    "//!-plot\n",
    "\n",
    "//!+main\n",
    "func main() {\n",
    "\thttp.HandleFunc(\"/plot\", plot)\n",
    "\tlog.Fatal(http.ListenAndServe(\"localhost:8000\", nil))\n",
    "}\n"
   ]
  },
  {
   "cell_type": "markdown",
   "metadata": {
    "slideshow": {
     "slide_type": "subslide"
    }
   },
   "source": [
    "* The surfaces of three functions: (1): sin(-x) * pow(1.5, -r); (2) pow(2, sin(y))* pow(2,sin(x))/12; (3) sin(x*y/10)/10.\n",
    "\n",
    "1. [localhost:8000/plot?expr=sin(-x)*pow(1.5,-r)](http://localhost:8000/plot?expr=sin(-x)*pow(1.5,-r))\n",
    "2. [localhost:8000/plot?expr=pow(2,sin(y))*pow(2,sin(x))/12](http://localhost:8000/plot?expr=pow(2,sin(y))*pow(2,sin(x))/12)\n",
    "3. [localhost:8000/plot?expr=sin(x*y/10)/10](http://localhost:8000/plot?expr=sin(x*y/10)/10)\n"
   ]
  },
  {
   "cell_type": "markdown",
   "metadata": {
    "slideshow": {
     "slide_type": "slide"
    }
   },
   "source": [
    "## Type Assertions\n",
    "\n",
    "* x.(T)\n",
    "  * x: an expression of an interface type\n",
    "  * T: asserted type\n",
    "* dynamic type of its operand maches the asserted type\n",
    "* if the asserted type is a concrete type, check if x’s dynamic type is identical to T\n",
    "  * succeed: return x’s dynamic value with type T\n",
    "  * fail: panic\n",
    "* if the asserted type is an interface type, check if x’s dynamic type satisfies T\n",
    "  * succeed: interface value with the same type and value\n",
    "  * fail: panic\n"
   ]
  },
  {
   "cell_type": "code",
   "execution_count": 1,
   "metadata": {
    "slideshow": {
     "slide_type": "subslide"
    }
   },
   "outputs": [],
   "source": [
    "import (\"os\";\"bytes\";\"io\")\n",
    "var w io.Writer\n",
    "%%\n",
    "w = os.Stdout\n",
    "f := w.(*os.File)\n",
    "_= f"
   ]
  },
  {
   "cell_type": "code",
   "execution_count": 2,
   "metadata": {
    "slideshow": {
     "slide_type": "subslide"
    }
   },
   "outputs": [
    {
     "name": "stderr",
     "output_type": "stream",
     "text": [
      "panic: interface conversion: io.Writer is nil, not *bytes.Buffer\n",
      "\n",
      "goroutine 1 [running]:\n",
      "main.main()\n",
      "\t \u001b[7m[[ Cell [2] Line 2 ]]\u001b[0m /var/folders/4d/tg201k8x6yb81f_lrvt4440m0000gn/T/gonb_164ebb43/main.go:16 +0x98\n",
      "exit status 2\n"
     ]
    }
   ],
   "source": [
    "%%\n",
    "c := w.(*bytes.Buffer)\n",
    "_ = c"
   ]
  },
  {
   "cell_type": "code",
   "execution_count": 67,
   "metadata": {
    "slideshow": {
     "slide_type": "subslide"
    }
   },
   "outputs": [],
   "source": [
    "var w io.Writer\n",
    "%%\n",
    "w = os.Stdout\n",
    "rw := w.(io.ReadWriter)   // success: *os.File has both Read and Write\n",
    "_ = rw"
   ]
  },
  {
   "cell_type": "code",
   "execution_count": 68,
   "metadata": {
    "slideshow": {
     "slide_type": "subslide"
    }
   },
   "outputs": [
    {
     "name": "stderr",
     "output_type": "stream",
     "text": [
      "panic: interface conversion: *main.ByteCounter is not io.ReadWriter: missing method Read\n",
      "\n",
      "goroutine 1 [running]:\n",
      "main.main()\n",
      "\t \u001b[7m[[ Cell [68] Line 5 ]]\u001b[0m /var/folders/4d/tg201k8x6yb81f_lrvt4440m0000gn/T/gonb_164f98e1/main.go:394 +0xbc\n",
      "exit status 2\n"
     ]
    }
   ],
   "source": [
    "type ByteCounter int\n",
    "func (c *ByteCounter) Write(p []byte)(int, error) { return len(p),nil}\n",
    "%%\n",
    "w = new (ByteCounter)\n",
    "rw := w.(io.ReadWriter)    //  panic: *ByteCounter has no Read method\n",
    "_ = rw"
   ]
  },
  {
   "cell_type": "markdown",
   "metadata": {
    "slideshow": {
     "slide_type": "subslide"
    }
   },
   "source": [
    "### Use of Type Assertion \n",
    "\n",
    "<table><tr><td style=\"text-align:left;\">\n",
    "<code>\n",
    "if f, ok := w.(*os.File); ok {\n",
    "     // … use f …\n",
    "}\n",
    "    </code>\n",
    "    </td><td></td>\n",
    "    <td style=\"text-align:left;\">\n",
    "        <code>\n",
    "    if w, ok := w.(*os.File); ok {\n",
    "     // … use w…\n",
    "}\n",
    "\n",
    "</code></td>   \n",
    "</tr></table>"
   ]
  },
  {
   "cell_type": "markdown",
   "metadata": {
    "slideshow": {
     "slide_type": "slide"
    }
   },
   "source": [
    "## Discriminating Errors with Type Assertions\n",
    "* Consider the set of errors returned by file operations in the os package\n",
    "* I/O an fail with three kinds of failure\n",
    "  * file already exists (for create operations)\n",
    "  * file not found( for read operations)\n",
    "  * permission denied\n",
    "* os package provides three helper functions to classify the failure\n",
    "  * func IsExist(err error) bool\n",
    "  * func IsNotExist(err error) bool\n",
    "  * func IsPermission(err error) bool\n",
    "* Not reliable implementation\n"
   ]
  },
  {
   "cell_type": "code",
   "execution_count": 70,
   "metadata": {
    "slideshow": {
     "slide_type": "subslide"
    }
   },
   "outputs": [],
   "source": [
    "func isNotExist(err error) bool {\n",
    "    // not robust\n",
    "    return strings.Contains(err.Error(), \"file does not exist\")\n",
    "}"
   ]
  },
  {
   "cell_type": "code",
   "execution_count": 71,
   "metadata": {
    "slideshow": {
     "slide_type": "subslide"
    }
   },
   "outputs": [
    {
     "name": "stdout",
     "output_type": "stream",
     "text": [
      "open /no/such/file: no such file or directory\n",
      "&fs.PathError{Op:\"open\", Path:\"/no/such/file\", Err:0x2}\n"
     ]
    }
   ],
   "source": [
    "import (\"os\";\"fmt\")\n",
    "%%\n",
    "_,err := os.Open(\"/no/such/file\")\n",
    "fmt.Println(err)\n",
    "fmt.Printf(\"%#v\\n\",err)"
   ]
  },
  {
   "cell_type": "code",
   "execution_count": 72,
   "metadata": {
    "slideshow": {
     "slide_type": "subslide"
    }
   },
   "outputs": [],
   "source": [
    "type PathError struct {\n",
    "    Op string\n",
    "    Path string\n",
    "    Err error\n",
    "}\n",
    "func (e *PathError) Error() string {\n",
    "    return e.Op + \" \" + e.Path + \": \" + e.Err.Error()\n",
    "}"
   ]
  },
  {
   "cell_type": "code",
   "execution_count": 77,
   "metadata": {
    "slideshow": {
     "slide_type": "subslide"
    }
   },
   "outputs": [
    {
     "data": {
      "text/html": [
       "\n",
       "<style>\n",
       ".gonb-err-location {\n",
       "\tbackground: var(--jp-err-color2);  \n",
       "\tborder-radius: 3px;\n",
       "\tborder-style: dotted;\n",
       "\tborder-width: 1px;\n",
       "\tborder-color: var(--jp-border-color2);\n",
       "}\n",
       ".gonb-err-location:hover {\n",
       "\tborder-width: 2px;\n",
       "\tborder-style: solid;\n",
       "\tborder-color: var(--jp-border-color2);\n",
       "}\n",
       ".gonb-err-context {\n",
       "\tdisplay: none;\n",
       "}\n",
       ".gonb-err-location:hover + .gonb-err-context {\n",
       "\tbackground: var(--jp-dialog-background);  \n",
       "\tborder-radius: 3px;\n",
       "\tborder-style: solid;\n",
       "\tborder-width: 1px;\n",
       "\tborder-color: var(--jp-border-color2);\n",
       "\tdisplay: block;\n",
       "\twhite-space: pre;\n",
       "\tfont-family: monospace;\n",
       "}\n",
       ".gonb-err-line {\n",
       "\tborder-radius: 3px;\n",
       "\tborder-style: dotted;\n",
       "\tborder-width: 1px;\t\n",
       "\tborder-color: var(--jp-border-color2);\n",
       "\tbackground-color: var(--jp-rendermime-err-background);\n",
       "\tfont-weight: bold;\n",
       "}\n",
       ".gonb-cell-line-info {\n",
       "\tbackground: var(--jp-layout-color2);\n",
       "\tcolor: #999;\n",
       "\tmargin: 0.1em;\n",
       "\tborder: 1px solid var(--jp-border-color1);\n",
       "\tpadding-left: 0.2em;\n",
       "\tpadding-right: 0.2em;\n",
       "}\n",
       "</style>\n",
       "<div class=\"lm-Widget p-Widget lm-Panel p-Panel jp-OutputArea-child\">\n",
       "<div class=\"lm-Widget p-Widget jp-RenderedText jp-mod-trusted jp-OutputArea-output\" data-mime-type=\"application/vnd.jupyter.stderr\" style=\"font-family: monospace;\">\n",
       "\n",
       "\n",
       "<span style=\"white-space: pre;\"> # gonb_164f98e1</span>\n",
       "\n",
       "<br/>\n",
       "\n",
       "<span class=\"gonb-cell-line-info\">Cell[77]: Line 2</span>\n",
       "<span class=\"gonb-err-location\">./main.go:114:23: </span> errors.New undefined (type [4]string has no field or method New)\n",
       "<div class=\"gonb-err-context\">\n",
       ")\n",
       "\n",
       "var (\n",
       "<div class=\"gonb-err-line\">\tErrNotExist = errors.New(&#34;file does not exist&#34;)\n",
       "</div>\tc ByteCounter\n",
       "\tcos30 = math.Sqrt(3.0 / 4.0)\n",
       "\n",
       "</div>\n",
       "\n",
       "<br/>\n",
       "\n",
       "\n",
       "<span style=\"white-space: pre;\"> </span>\n",
       "\n",
       "<br/>\n",
       "\n",
       "</div>\n"
      ]
     },
     "metadata": {},
     "output_type": "display_data"
    },
    {
     "ename": "ERROR",
     "evalue": "failed to run \"/opt/homebrew/bin/go build -o /var/folders/4d/tg201k8x6yb81f_lrvt4440m0000gn/T/gonb_164f98e1/gonb_164f98e1\": exit status 1",
     "output_type": "error",
     "traceback": [
      "failed to run \"/opt/homebrew/bin/go build -o /var/folders/4d/tg201k8x6yb81f_lrvt4440m0000gn/T/gonb_164f98e1/gonb_164f98e1\": exit status 1"
     ]
    }
   ],
   "source": [
    "import (\"errors\";\"syscall\")\n",
    "var ErrNotExist = errors.New(\"file does not exist\")\n",
    "func IsNotExist(err error) bool {\n",
    "    if pe, ok := err.(*PathError); ok {\n",
    "        err = pe.Err\n",
    "    }\n",
    "    return err == syscall.ENOENT || err == ErrNotExist\n",
    "}"
   ]
  },
  {
   "cell_type": "code",
   "execution_count": 78,
   "metadata": {
    "slideshow": {
     "slide_type": "subslide"
    }
   },
   "outputs": [
    {
     "name": "stdout",
     "output_type": "stream",
     "text": [
      "true\n"
     ]
    }
   ],
   "source": [
    "%%\n",
    "_, err := os.Open(\"/no/such/file\")\n",
    "fmt.Println(os.IsNotExist(err)) // \"true\""
   ]
  },
  {
   "cell_type": "markdown",
   "metadata": {
    "slideshow": {
     "slide_type": "slide"
    }
   },
   "source": [
    "## Querying Behaviors with Interface Type Assertions"
   ]
  },
  {
   "cell_type": "code",
   "execution_count": 79,
   "metadata": {
    "slideshow": {
     "slide_type": "subslide"
    }
   },
   "outputs": [
    {
     "data": {
      "text/html": [
       "\n",
       "<style>\n",
       ".gonb-err-location {\n",
       "\tbackground: var(--jp-err-color2);  \n",
       "\tborder-radius: 3px;\n",
       "\tborder-style: dotted;\n",
       "\tborder-width: 1px;\n",
       "\tborder-color: var(--jp-border-color2);\n",
       "}\n",
       ".gonb-err-location:hover {\n",
       "\tborder-width: 2px;\n",
       "\tborder-style: solid;\n",
       "\tborder-color: var(--jp-border-color2);\n",
       "}\n",
       ".gonb-err-context {\n",
       "\tdisplay: none;\n",
       "}\n",
       ".gonb-err-location:hover + .gonb-err-context {\n",
       "\tbackground: var(--jp-dialog-background);  \n",
       "\tborder-radius: 3px;\n",
       "\tborder-style: solid;\n",
       "\tborder-width: 1px;\n",
       "\tborder-color: var(--jp-border-color2);\n",
       "\tdisplay: block;\n",
       "\twhite-space: pre;\n",
       "\tfont-family: monospace;\n",
       "}\n",
       ".gonb-err-line {\n",
       "\tborder-radius: 3px;\n",
       "\tborder-style: dotted;\n",
       "\tborder-width: 1px;\t\n",
       "\tborder-color: var(--jp-border-color2);\n",
       "\tbackground-color: var(--jp-rendermime-err-background);\n",
       "\tfont-weight: bold;\n",
       "}\n",
       ".gonb-cell-line-info {\n",
       "\tbackground: var(--jp-layout-color2);\n",
       "\tcolor: #999;\n",
       "\tmargin: 0.1em;\n",
       "\tborder: 1px solid var(--jp-border-color1);\n",
       "\tpadding-left: 0.2em;\n",
       "\tpadding-right: 0.2em;\n",
       "}\n",
       "</style>\n",
       "<div class=\"lm-Widget p-Widget lm-Panel p-Panel jp-OutputArea-child\">\n",
       "<div class=\"lm-Widget p-Widget jp-RenderedText jp-mod-trusted jp-OutputArea-output\" data-mime-type=\"application/vnd.jupyter.stderr\" style=\"font-family: monospace;\">\n",
       "\n",
       "\n",
       "<span style=\"white-space: pre;\"> # gonb_164f98e1</span>\n",
       "\n",
       "<br/>\n",
       "\n",
       "<span class=\"gonb-cell-line-info\">Cell[79]: Line 3</span>\n",
       "<span class=\"gonb-err-location\">./main.go:405:19: </span> w.write undefined (type io.Writer has no field or method write, but does have Write)\n",
       "<div class=\"gonb-err-context\">\n",
       "}\n",
       "\n",
       "func writeHeader(w io.Writer, contentType string) error {\n",
       "<div class=\"gonb-err-line\">    if _,err := w.write([]byte(&#34;Content-Tpe: &#34;)); err != nil {\n",
       "</div>        return err\n",
       "    }\n",
       "\n",
       "</div>\n",
       "\n",
       "<br/>\n",
       "\n",
       "<span class=\"gonb-cell-line-info\">Cell[79]: Line 6</span>\n",
       "<span class=\"gonb-err-location\">./main.go:408:19: </span> w.write undefined (type io.Writer has no field or method write, but does have Write)\n",
       "<div class=\"gonb-err-context\">\n",
       "    if _,err := w.write([]byte(&#34;Content-Tpe: &#34;)); err != nil {\n",
       "        return err\n",
       "    }\n",
       "<div class=\"gonb-err-line\">    if _,err := w.write([]byte(contentType)); err != nil {\n",
       "</div>        return err\n",
       "    }\n",
       "\n",
       "</div>\n",
       "\n",
       "<br/>\n",
       "\n",
       "<span class=\"gonb-cell-line-info\">Cell[79]: Line 10</span>\n",
       "<span class=\"gonb-err-location\">./main.go:412:1: </span> missing return\n",
       "<div class=\"gonb-err-context\">\n",
       "        return err\n",
       "    }\n",
       "    // ...\n",
       "<div class=\"gonb-err-line\">}\n",
       "</div>\n",
       "\n",
       "\n",
       "</div>\n",
       "\n",
       "<br/>\n",
       "\n",
       "\n",
       "<span style=\"white-space: pre;\"> </span>\n",
       "\n",
       "<br/>\n",
       "\n",
       "</div>\n"
      ]
     },
     "metadata": {},
     "output_type": "display_data"
    },
    {
     "ename": "ERROR",
     "evalue": "failed to run \"/opt/homebrew/bin/go build -o /var/folders/4d/tg201k8x6yb81f_lrvt4440m0000gn/T/gonb_164f98e1/gonb_164f98e1\": exit status 1",
     "output_type": "error",
     "traceback": [
      "failed to run \"/opt/homebrew/bin/go build -o /var/folders/4d/tg201k8x6yb81f_lrvt4440m0000gn/T/gonb_164f98e1/gonb_164f98e1\": exit status 1"
     ]
    }
   ],
   "source": [
    "//need to convert the value to []byte with a copy and thrown away\n",
    "func writeHeader(w io.Writer, contentType string) error {\n",
    "    if _,err := w.write([]byte(\"Content-Tpe: \")); err != nil {\n",
    "        return err\n",
    "    }\n",
    "    if _,err := w.write([]byte(contentType)); err != nil {\n",
    "        return err\n",
    "    }\n",
    "    // ...\n",
    "}"
   ]
  },
  {
   "cell_type": "code",
   "execution_count": 80,
   "metadata": {
    "slideshow": {
     "slide_type": "subslide"
    }
   },
   "outputs": [
    {
     "data": {
      "text/html": [
       "\n",
       "<style>\n",
       ".gonb-err-location {\n",
       "\tbackground: var(--jp-err-color2);  \n",
       "\tborder-radius: 3px;\n",
       "\tborder-style: dotted;\n",
       "\tborder-width: 1px;\n",
       "\tborder-color: var(--jp-border-color2);\n",
       "}\n",
       ".gonb-err-location:hover {\n",
       "\tborder-width: 2px;\n",
       "\tborder-style: solid;\n",
       "\tborder-color: var(--jp-border-color2);\n",
       "}\n",
       ".gonb-err-context {\n",
       "\tdisplay: none;\n",
       "}\n",
       ".gonb-err-location:hover + .gonb-err-context {\n",
       "\tbackground: var(--jp-dialog-background);  \n",
       "\tborder-radius: 3px;\n",
       "\tborder-style: solid;\n",
       "\tborder-width: 1px;\n",
       "\tborder-color: var(--jp-border-color2);\n",
       "\tdisplay: block;\n",
       "\twhite-space: pre;\n",
       "\tfont-family: monospace;\n",
       "}\n",
       ".gonb-err-line {\n",
       "\tborder-radius: 3px;\n",
       "\tborder-style: dotted;\n",
       "\tborder-width: 1px;\t\n",
       "\tborder-color: var(--jp-border-color2);\n",
       "\tbackground-color: var(--jp-rendermime-err-background);\n",
       "\tfont-weight: bold;\n",
       "}\n",
       ".gonb-cell-line-info {\n",
       "\tbackground: var(--jp-layout-color2);\n",
       "\tcolor: #999;\n",
       "\tmargin: 0.1em;\n",
       "\tborder: 1px solid var(--jp-border-color1);\n",
       "\tpadding-left: 0.2em;\n",
       "\tpadding-right: 0.2em;\n",
       "}\n",
       "</style>\n",
       "<div class=\"lm-Widget p-Widget lm-Panel p-Panel jp-OutputArea-child\">\n",
       "<div class=\"lm-Widget p-Widget jp-RenderedText jp-mod-trusted jp-OutputArea-output\" data-mime-type=\"application/vnd.jupyter.stderr\" style=\"font-family: monospace;\">\n",
       "\n",
       "\n",
       "<span style=\"white-space: pre;\"> # gonb_164f98e1</span>\n",
       "\n",
       "<br/>\n",
       "\n",
       "<span class=\"gonb-cell-line-info\">Cell[80]: Line 20</span>\n",
       "<span class=\"gonb-err-location\">./main.go:412:1: </span> missing return\n",
       "<div class=\"gonb-err-context\">\n",
       "        return err\n",
       "    }\n",
       "    // ...\n",
       "<div class=\"gonb-err-line\">}\n",
       "</div>\n",
       "func writeString(w io.Writer, s string) (n int, err error) {\n",
       "\n",
       "</div>\n",
       "\n",
       "<br/>\n",
       "\n",
       "\n",
       "<span style=\"white-space: pre;\"> </span>\n",
       "\n",
       "<br/>\n",
       "\n",
       "</div>\n"
      ]
     },
     "metadata": {},
     "output_type": "display_data"
    },
    {
     "ename": "ERROR",
     "evalue": "failed to run \"/opt/homebrew/bin/go build -o /var/folders/4d/tg201k8x6yb81f_lrvt4440m0000gn/T/gonb_164f98e1/gonb_164f98e1\": exit status 1",
     "output_type": "error",
     "traceback": [
      "failed to run \"/opt/homebrew/bin/go build -o /var/folders/4d/tg201k8x6yb81f_lrvt4440m0000gn/T/gonb_164f98e1/gonb_164f98e1\": exit status 1"
     ]
    }
   ],
   "source": [
    "// writeString writes s to w\n",
    "// if w has a WriteStrring method, it is invoked instead of w.Write\n",
    "func writeString(w io.Writer, s string) (n int, err error) {\n",
    "    type stringWriter interface {\n",
    "        WriteString(string) (n int, err error)\n",
    "    }\n",
    "    if sw, ok := w.(stringWriter); ok {\n",
    "        return sw.WriteString(s) // avoid a copy\n",
    "    }\n",
    "    return w.Write([]byte(s)) //allocate temporary copy\n",
    "}\n",
    "func writeHeader(w io.Writer, contentType string)  error {\n",
    "    if _,err := writeString(w, \"Content-Tpe: \"); err != nil {\n",
    "        return err\n",
    "    }\n",
    "    if _,err := writeString(w, contentType); err != nil {\n",
    "        return err\n",
    "    }\n",
    "    // ...\n",
    "}"
   ]
  },
  {
   "cell_type": "code",
   "execution_count": 81,
   "metadata": {
    "slideshow": {
     "slide_type": "subslide"
    }
   },
   "outputs": [],
   "source": [
    "var x interface {\n",
    "    io.Writer\n",
    "    WriteString(s string) (n int, err error)\n",
    "}"
   ]
  },
  {
   "cell_type": "code",
   "execution_count": 82,
   "metadata": {
    "slideshow": {
     "slide_type": "subslide"
    }
   },
   "outputs": [
    {
     "data": {
      "text/html": [
       "\n",
       "<style>\n",
       ".gonb-err-location {\n",
       "\tbackground: var(--jp-err-color2);  \n",
       "\tborder-radius: 3px;\n",
       "\tborder-style: dotted;\n",
       "\tborder-width: 1px;\n",
       "\tborder-color: var(--jp-border-color2);\n",
       "}\n",
       ".gonb-err-location:hover {\n",
       "\tborder-width: 2px;\n",
       "\tborder-style: solid;\n",
       "\tborder-color: var(--jp-border-color2);\n",
       "}\n",
       ".gonb-err-context {\n",
       "\tdisplay: none;\n",
       "}\n",
       ".gonb-err-location:hover + .gonb-err-context {\n",
       "\tbackground: var(--jp-dialog-background);  \n",
       "\tborder-radius: 3px;\n",
       "\tborder-style: solid;\n",
       "\tborder-width: 1px;\n",
       "\tborder-color: var(--jp-border-color2);\n",
       "\tdisplay: block;\n",
       "\twhite-space: pre;\n",
       "\tfont-family: monospace;\n",
       "}\n",
       ".gonb-err-line {\n",
       "\tborder-radius: 3px;\n",
       "\tborder-style: dotted;\n",
       "\tborder-width: 1px;\t\n",
       "\tborder-color: var(--jp-border-color2);\n",
       "\tbackground-color: var(--jp-rendermime-err-background);\n",
       "\tfont-weight: bold;\n",
       "}\n",
       ".gonb-cell-line-info {\n",
       "\tbackground: var(--jp-layout-color2);\n",
       "\tcolor: #999;\n",
       "\tmargin: 0.1em;\n",
       "\tborder: 1px solid var(--jp-border-color1);\n",
       "\tpadding-left: 0.2em;\n",
       "\tpadding-right: 0.2em;\n",
       "}\n",
       "</style>\n",
       "<div class=\"lm-Widget p-Widget lm-Panel p-Panel jp-OutputArea-child\">\n",
       "<div class=\"lm-Widget p-Widget jp-RenderedText jp-mod-trusted jp-OutputArea-output\" data-mime-type=\"application/vnd.jupyter.stderr\" style=\"font-family: monospace;\">\n",
       "\n",
       "\n",
       "<span style=\"white-space: pre;\"> # gonb_164f98e1</span>\n",
       "\n",
       "<br/>\n",
       "\n",
       "<span class=\"gonb-cell-line-info\">Cell[82]: Line 5</span>\n",
       "<span class=\"gonb-err-location\">./main.go:311:22: </span> undefined: Stringer\n",
       "<div class=\"gonb-err-context\">\n",
       "    if err , ok := x.(error); ok {\n",
       "        return err.Error()\n",
       "    }\n",
       "<div class=\"gonb-err-line\">    if str, ok := x.(Stringer); ok {\n",
       "</div>        return str.String()\n",
       "    }\n",
       "\n",
       "</div>\n",
       "\n",
       "<br/>\n",
       "\n",
       "<span class=\"gonb-cell-line-info\">Cell[82]: Line 9</span>\n",
       "<span class=\"gonb-err-location\">./main.go:315:1: </span> missing return\n",
       "<div class=\"gonb-err-context\">\n",
       "        return str.String()\n",
       "    }\n",
       "    // ... all other types\n",
       "<div class=\"gonb-err-line\">}\n",
       "</div>\n",
       "func isNotExist(err error) bool {\n",
       "\n",
       "</div>\n",
       "\n",
       "<br/>\n",
       "\n",
       "\n",
       "<span style=\"white-space: pre;\"> </span>\n",
       "\n",
       "<br/>\n",
       "\n",
       "</div>\n"
      ]
     },
     "metadata": {},
     "output_type": "display_data"
    },
    {
     "ename": "ERROR",
     "evalue": "failed to run \"/opt/homebrew/bin/go build -o /var/folders/4d/tg201k8x6yb81f_lrvt4440m0000gn/T/gonb_164f98e1/gonb_164f98e1\": exit status 1",
     "output_type": "error",
     "traceback": [
      "failed to run \"/opt/homebrew/bin/go build -o /var/folders/4d/tg201k8x6yb81f_lrvt4440m0000gn/T/gonb_164f98e1/gonb_164f98e1\": exit status 1"
     ]
    }
   ],
   "source": [
    "func formtOneValue(x interface{}) string {\n",
    "    if err , ok := x.(error); ok {\n",
    "        return err.Error()\n",
    "    }\n",
    "    if str, ok := x.(Stringer); ok {\n",
    "        return str.String()\n",
    "    }\n",
    "    // ... all other types\n",
    "}"
   ]
  },
  {
   "cell_type": "markdown",
   "metadata": {
    "slideshow": {
     "slide_type": "slide"
    }
   },
   "source": [
    "## Type Switches\n",
    "* Interfaces are used in two distinct styles\n",
    "  * interface’s methods express the similarities of the concrete types that satisfy the interface but hide the representation details and intrinsic operations of those concrete types\n",
    "    * emplasis on the methods, not on the concrete types\n",
    "    * subtype polymorphism \n",
    "  * exploit the ability of an interface value to hold values of a variety of concrete types and consider the interface to be the union of those types\n",
    "    * ad hoc polymorphism \n",
    "* Discriminated unions\n",
    "  * discriminate the types dynamically and treat each case differently\n",
    "  * emphasis on the concrete types that satisfy the interface, not on the interface’s methods\n",
    "  * no hiding of information\n"
   ]
  },
  {
   "cell_type": "code",
   "execution_count": 83,
   "metadata": {
    "slideshow": {
     "slide_type": "subslide"
    }
   },
   "outputs": [
    {
     "data": {
      "text/html": [
       "\n",
       "<style>\n",
       ".gonb-err-location {\n",
       "\tbackground: var(--jp-err-color2);  \n",
       "\tborder-radius: 3px;\n",
       "\tborder-style: dotted;\n",
       "\tborder-width: 1px;\n",
       "\tborder-color: var(--jp-border-color2);\n",
       "}\n",
       ".gonb-err-location:hover {\n",
       "\tborder-width: 2px;\n",
       "\tborder-style: solid;\n",
       "\tborder-color: var(--jp-border-color2);\n",
       "}\n",
       ".gonb-err-context {\n",
       "\tdisplay: none;\n",
       "}\n",
       ".gonb-err-location:hover + .gonb-err-context {\n",
       "\tbackground: var(--jp-dialog-background);  \n",
       "\tborder-radius: 3px;\n",
       "\tborder-style: solid;\n",
       "\tborder-width: 1px;\n",
       "\tborder-color: var(--jp-border-color2);\n",
       "\tdisplay: block;\n",
       "\twhite-space: pre;\n",
       "\tfont-family: monospace;\n",
       "}\n",
       ".gonb-err-line {\n",
       "\tborder-radius: 3px;\n",
       "\tborder-style: dotted;\n",
       "\tborder-width: 1px;\t\n",
       "\tborder-color: var(--jp-border-color2);\n",
       "\tbackground-color: var(--jp-rendermime-err-background);\n",
       "\tfont-weight: bold;\n",
       "}\n",
       ".gonb-cell-line-info {\n",
       "\tbackground: var(--jp-layout-color2);\n",
       "\tcolor: #999;\n",
       "\tmargin: 0.1em;\n",
       "\tborder: 1px solid var(--jp-border-color1);\n",
       "\tpadding-left: 0.2em;\n",
       "\tpadding-right: 0.2em;\n",
       "}\n",
       "</style>\n",
       "<div class=\"lm-Widget p-Widget lm-Panel p-Panel jp-OutputArea-child\">\n",
       "<div class=\"lm-Widget p-Widget jp-RenderedText jp-mod-trusted jp-OutputArea-output\" data-mime-type=\"application/vnd.jupyter.stderr\" style=\"font-family: monospace;\">\n",
       "\n",
       "\n",
       "<span style=\"white-space: pre;\"> # gonb_164f98e1</span>\n",
       "\n",
       "<br/>\n",
       "\n",
       "<span class=\"gonb-cell-line-info\">Cell[83]: Line 3</span>\n",
       "<span class=\"gonb-err-location\">./main.go:322:5: </span> result declared but not used\n",
       "<div class=\"gonb-err-context\">\n",
       "}\n",
       "\n",
       "func listTracks(db sql.DB, artist string, minYear, maxYear int){\n",
       "<div class=\"gonb-err-line\">    result, err := db.Exec(\n",
       "</div>        &#34;SELECT * FROM tracks WHERE artist = ? AND ? &lt;= year AND year &lt;= ?&#34;,\n",
       "        artist, minYear, maxYear)\n",
       "\n",
       "</div>\n",
       "\n",
       "<br/>\n",
       "\n",
       "<span class=\"gonb-cell-line-info\">Cell[83]: Line 3</span>\n",
       "<span class=\"gonb-err-location\">./main.go:322:13: </span> err declared but not used\n",
       "<div class=\"gonb-err-context\">\n",
       "}\n",
       "\n",
       "func listTracks(db sql.DB, artist string, minYear, maxYear int){\n",
       "<div class=\"gonb-err-line\">    result, err := db.Exec(\n",
       "</div>        &#34;SELECT * FROM tracks WHERE artist = ? AND ? &lt;= year AND year &lt;= ?&#34;,\n",
       "        artist, minYear, maxYear)\n",
       "\n",
       "</div>\n",
       "\n",
       "<br/>\n",
       "\n",
       "\n",
       "<span style=\"white-space: pre;\"> </span>\n",
       "\n",
       "<br/>\n",
       "\n",
       "</div>\n"
      ]
     },
     "metadata": {},
     "output_type": "display_data"
    },
    {
     "ename": "ERROR",
     "evalue": "failed to run \"/opt/homebrew/bin/go build -o /var/folders/4d/tg201k8x6yb81f_lrvt4440m0000gn/T/gonb_164f98e1/gonb_164f98e1\": exit status 1",
     "output_type": "error",
     "traceback": [
      "failed to run \"/opt/homebrew/bin/go build -o /var/folders/4d/tg201k8x6yb81f_lrvt4440m0000gn/T/gonb_164f98e1/gonb_164f98e1\": exit status 1"
     ]
    }
   ],
   "source": [
    "import \"database/sql\"\n",
    "func listTracks(db sql.DB, artist string, minYear, maxYear int){\n",
    "    result, err := db.Exec(\n",
    "        \"SELECT * FROM tracks WHERE artist = ? AND ? <= year AND year <= ?\",\n",
    "        artist, minYear, maxYear)\n",
    "         //...\n",
    "}"
   ]
  },
  {
   "cell_type": "code",
   "execution_count": 84,
   "metadata": {
    "slideshow": {
     "slide_type": "subslide"
    }
   },
   "outputs": [
    {
     "data": {
      "text/html": [
       "\n",
       "<style>\n",
       ".gonb-err-location {\n",
       "\tbackground: var(--jp-err-color2);  \n",
       "\tborder-radius: 3px;\n",
       "\tborder-style: dotted;\n",
       "\tborder-width: 1px;\n",
       "\tborder-color: var(--jp-border-color2);\n",
       "}\n",
       ".gonb-err-location:hover {\n",
       "\tborder-width: 2px;\n",
       "\tborder-style: solid;\n",
       "\tborder-color: var(--jp-border-color2);\n",
       "}\n",
       ".gonb-err-context {\n",
       "\tdisplay: none;\n",
       "}\n",
       ".gonb-err-location:hover + .gonb-err-context {\n",
       "\tbackground: var(--jp-dialog-background);  \n",
       "\tborder-radius: 3px;\n",
       "\tborder-style: solid;\n",
       "\tborder-width: 1px;\n",
       "\tborder-color: var(--jp-border-color2);\n",
       "\tdisplay: block;\n",
       "\twhite-space: pre;\n",
       "\tfont-family: monospace;\n",
       "}\n",
       ".gonb-err-line {\n",
       "\tborder-radius: 3px;\n",
       "\tborder-style: dotted;\n",
       "\tborder-width: 1px;\t\n",
       "\tborder-color: var(--jp-border-color2);\n",
       "\tbackground-color: var(--jp-rendermime-err-background);\n",
       "\tfont-weight: bold;\n",
       "}\n",
       ".gonb-cell-line-info {\n",
       "\tbackground: var(--jp-layout-color2);\n",
       "\tcolor: #999;\n",
       "\tmargin: 0.1em;\n",
       "\tborder: 1px solid var(--jp-border-color1);\n",
       "\tpadding-left: 0.2em;\n",
       "\tpadding-right: 0.2em;\n",
       "}\n",
       "</style>\n",
       "<div class=\"lm-Widget p-Widget lm-Panel p-Panel jp-OutputArea-child\">\n",
       "<div class=\"lm-Widget p-Widget jp-RenderedText jp-mod-trusted jp-OutputArea-output\" data-mime-type=\"application/vnd.jupyter.stderr\" style=\"font-family: monospace;\">\n",
       "\n",
       "\n",
       "<span style=\"white-space: pre;\"> # gonb_164f98e1</span>\n",
       "\n",
       "<br/>\n",
       "\n",
       "<span class=\"gonb-cell-line-info\">Cell[84]: Line 14</span>\n",
       "<span class=\"gonb-err-location\">./main.go:386:16: </span> undefined: sqlQuoteString\n",
       "<div class=\"gonb-err-context\">\n",
       "        }\n",
       "        return &#34;FALSE&#34;\n",
       "    } else if s, ok := x.(string); ok{\n",
       "<div class=\"gonb-err-line\">        return sqlQuoteString(s) // (not shown)\n",
       "</div>    } else {\n",
       "        panic(fmt.Sprintf(&#34;unexpected type %T: %v&#34;, x,x))\n",
       "\n",
       "</div>\n",
       "\n",
       "<br/>\n",
       "\n",
       "\n",
       "<span style=\"white-space: pre;\"> </span>\n",
       "\n",
       "<br/>\n",
       "\n",
       "</div>\n"
      ]
     },
     "metadata": {},
     "output_type": "display_data"
    },
    {
     "ename": "ERROR",
     "evalue": "failed to run \"/opt/homebrew/bin/go build -o /var/folders/4d/tg201k8x6yb81f_lrvt4440m0000gn/T/gonb_164f98e1/gonb_164f98e1\": exit status 1",
     "output_type": "error",
     "traceback": [
      "failed to run \"/opt/homebrew/bin/go build -o /var/folders/4d/tg201k8x6yb81f_lrvt4440m0000gn/T/gonb_164f98e1/gonb_164f98e1\": exit status 1"
     ]
    }
   ],
   "source": [
    "func sqlQuote(x interface{}) string {\n",
    "    if x == nil {\n",
    "        return \"NULL\"\n",
    "    } else if _, ok := x.(int); ok {\n",
    "        return fmt.Sprintf(\"%d\",x)\n",
    "    } else if _, ok := x.(uint); ok {\n",
    "        return fmt.Sprintf(\"%d\",x)\n",
    "    } else if b, ok := x.(bool); ok {\n",
    "        if b {\n",
    "            return \"TRUE\"\n",
    "        }\n",
    "        return \"FALSE\"\n",
    "    } else if s, ok := x.(string); ok{\n",
    "        return sqlQuoteString(s) // (not shown)\n",
    "    } else {\n",
    "        panic(fmt.Sprintf(\"unexpected type %T: %v\", x,x))\n",
    "    }\n",
    "}"
   ]
  },
  {
   "cell_type": "code",
   "execution_count": 85,
   "metadata": {
    "slideshow": {
     "slide_type": "subslide"
    }
   },
   "outputs": [
    {
     "data": {
      "text/html": [
       "\n",
       "<style>\n",
       ".gonb-err-location {\n",
       "\tbackground: var(--jp-err-color2);  \n",
       "\tborder-radius: 3px;\n",
       "\tborder-style: dotted;\n",
       "\tborder-width: 1px;\n",
       "\tborder-color: var(--jp-border-color2);\n",
       "}\n",
       ".gonb-err-location:hover {\n",
       "\tborder-width: 2px;\n",
       "\tborder-style: solid;\n",
       "\tborder-color: var(--jp-border-color2);\n",
       "}\n",
       ".gonb-err-context {\n",
       "\tdisplay: none;\n",
       "}\n",
       ".gonb-err-location:hover + .gonb-err-context {\n",
       "\tbackground: var(--jp-dialog-background);  \n",
       "\tborder-radius: 3px;\n",
       "\tborder-style: solid;\n",
       "\tborder-width: 1px;\n",
       "\tborder-color: var(--jp-border-color2);\n",
       "\tdisplay: block;\n",
       "\twhite-space: pre;\n",
       "\tfont-family: monospace;\n",
       "}\n",
       ".gonb-err-line {\n",
       "\tborder-radius: 3px;\n",
       "\tborder-style: dotted;\n",
       "\tborder-width: 1px;\t\n",
       "\tborder-color: var(--jp-border-color2);\n",
       "\tbackground-color: var(--jp-rendermime-err-background);\n",
       "\tfont-weight: bold;\n",
       "}\n",
       ".gonb-cell-line-info {\n",
       "\tbackground: var(--jp-layout-color2);\n",
       "\tcolor: #999;\n",
       "\tmargin: 0.1em;\n",
       "\tborder: 1px solid var(--jp-border-color1);\n",
       "\tpadding-left: 0.2em;\n",
       "\tpadding-right: 0.2em;\n",
       "}\n",
       "</style>\n",
       "<div class=\"lm-Widget p-Widget lm-Panel p-Panel jp-OutputArea-child\">\n",
       "<div class=\"lm-Widget p-Widget jp-RenderedText jp-mod-trusted jp-OutputArea-output\" data-mime-type=\"application/vnd.jupyter.stderr\" style=\"font-family: monospace;\">\n",
       "\n",
       "<span class=\"gonb-cell-line-info\">Cell[85]: Line 3</span>\n",
       "<span class=\"gonb-err-location\">/var/folders/4d/tg201k8x6yb81f_lrvt4440m0000gn/T/gonb_164f98e1/main.go:5:1: </span> expected declaration, found 'switch' (and 1 more errors)\n",
       "<div class=\"gonb-err-context\">\n",
       "\n",
       "// Using type switch\n",
       "\n",
       "<div class=\"gonb-err-line\">switch x.(type) {\n",
       "</div>    case nil:\n",
       "    case int, uint: // ...\n",
       "\n",
       "</div>\n",
       "\n",
       "<br/>\n",
       "\n",
       "</div>\n"
      ]
     },
     "metadata": {},
     "output_type": "display_data"
    },
    {
     "ename": "ERROR",
     "evalue": "in goexec.ExecuteCell(): parsing go files in TempDir \"/var/folders/4d/tg201k8x6yb81f_lrvt4440m0000gn/T/gonb_164f98e1\": /var/folders/4d/tg201k8x6yb81f_lrvt4440m0000gn/T/gonb_164f98e1/main.go:5:1: expected declaration, found 'switch' (and 1 more errors)",
     "output_type": "error",
     "traceback": [
      "in goexec.ExecuteCell(): parsing go files in TempDir \"/var/folders/4d/tg201k8x6yb81f_lrvt4440m0000gn/T/gonb_164f98e1\": /var/folders/4d/tg201k8x6yb81f_lrvt4440m0000gn/T/gonb_164f98e1/main.go:5:1: expected declaration, found 'switch' (and 1 more errors)"
     ]
    }
   ],
   "source": [
    "// Using type switch\n",
    "\n",
    "switch x.(type) {\n",
    "    case nil:\n",
    "    case int, uint: // ...\n",
    "    case bool:      // ...\n",
    "    case string:    // ...\n",
    "    default:        // ...\n",
    "}"
   ]
  },
  {
   "cell_type": "code",
   "execution_count": 86,
   "metadata": {
    "slideshow": {
     "slide_type": "subslide"
    }
   },
   "outputs": [
    {
     "data": {
      "text/html": [
       "\n",
       "<style>\n",
       ".gonb-err-location {\n",
       "\tbackground: var(--jp-err-color2);  \n",
       "\tborder-radius: 3px;\n",
       "\tborder-style: dotted;\n",
       "\tborder-width: 1px;\n",
       "\tborder-color: var(--jp-border-color2);\n",
       "}\n",
       ".gonb-err-location:hover {\n",
       "\tborder-width: 2px;\n",
       "\tborder-style: solid;\n",
       "\tborder-color: var(--jp-border-color2);\n",
       "}\n",
       ".gonb-err-context {\n",
       "\tdisplay: none;\n",
       "}\n",
       ".gonb-err-location:hover + .gonb-err-context {\n",
       "\tbackground: var(--jp-dialog-background);  \n",
       "\tborder-radius: 3px;\n",
       "\tborder-style: solid;\n",
       "\tborder-width: 1px;\n",
       "\tborder-color: var(--jp-border-color2);\n",
       "\tdisplay: block;\n",
       "\twhite-space: pre;\n",
       "\tfont-family: monospace;\n",
       "}\n",
       ".gonb-err-line {\n",
       "\tborder-radius: 3px;\n",
       "\tborder-style: dotted;\n",
       "\tborder-width: 1px;\t\n",
       "\tborder-color: var(--jp-border-color2);\n",
       "\tbackground-color: var(--jp-rendermime-err-background);\n",
       "\tfont-weight: bold;\n",
       "}\n",
       ".gonb-cell-line-info {\n",
       "\tbackground: var(--jp-layout-color2);\n",
       "\tcolor: #999;\n",
       "\tmargin: 0.1em;\n",
       "\tborder: 1px solid var(--jp-border-color1);\n",
       "\tpadding-left: 0.2em;\n",
       "\tpadding-right: 0.2em;\n",
       "}\n",
       "</style>\n",
       "<div class=\"lm-Widget p-Widget lm-Panel p-Panel jp-OutputArea-child\">\n",
       "<div class=\"lm-Widget p-Widget jp-RenderedText jp-mod-trusted jp-OutputArea-output\" data-mime-type=\"application/vnd.jupyter.stderr\" style=\"font-family: monospace;\">\n",
       "\n",
       "<span class=\"gonb-cell-line-info\">Cell[86]: Line 2</span>\n",
       "<span class=\"gonb-err-location\">/var/folders/4d/tg201k8x6yb81f_lrvt4440m0000gn/T/gonb_164f98e1/main.go:4:1: </span> expected declaration, found 'switch'\n",
       "<div class=\"gonb-err-context\">\n",
       "package main\n",
       "\n",
       "// type switch statement has an extended form that binds the extracted value to a new variable within each case\n",
       "<div class=\"gonb-err-line\">switch x := x.(type) { /* ... */}\n",
       "</div>\n",
       "\n",
       "</div>\n",
       "\n",
       "<br/>\n",
       "\n",
       "</div>\n"
      ]
     },
     "metadata": {},
     "output_type": "display_data"
    },
    {
     "ename": "ERROR",
     "evalue": "in goexec.ExecuteCell(): parsing go files in TempDir \"/var/folders/4d/tg201k8x6yb81f_lrvt4440m0000gn/T/gonb_164f98e1\": /var/folders/4d/tg201k8x6yb81f_lrvt4440m0000gn/T/gonb_164f98e1/main.go:4:1: expected declaration, found 'switch'",
     "output_type": "error",
     "traceback": [
      "in goexec.ExecuteCell(): parsing go files in TempDir \"/var/folders/4d/tg201k8x6yb81f_lrvt4440m0000gn/T/gonb_164f98e1\": /var/folders/4d/tg201k8x6yb81f_lrvt4440m0000gn/T/gonb_164f98e1/main.go:4:1: expected declaration, found 'switch'"
     ]
    }
   ],
   "source": [
    "// type switch statement has an extended form that binds the extracted value to a new variable within each case\n",
    "switch x := x.(type) { /* ... */}"
   ]
  },
  {
   "cell_type": "code",
   "execution_count": 87,
   "metadata": {
    "slideshow": {
     "slide_type": "subslide"
    }
   },
   "outputs": [
    {
     "data": {
      "text/html": [
       "\n",
       "<style>\n",
       ".gonb-err-location {\n",
       "\tbackground: var(--jp-err-color2);  \n",
       "\tborder-radius: 3px;\n",
       "\tborder-style: dotted;\n",
       "\tborder-width: 1px;\n",
       "\tborder-color: var(--jp-border-color2);\n",
       "}\n",
       ".gonb-err-location:hover {\n",
       "\tborder-width: 2px;\n",
       "\tborder-style: solid;\n",
       "\tborder-color: var(--jp-border-color2);\n",
       "}\n",
       ".gonb-err-context {\n",
       "\tdisplay: none;\n",
       "}\n",
       ".gonb-err-location:hover + .gonb-err-context {\n",
       "\tbackground: var(--jp-dialog-background);  \n",
       "\tborder-radius: 3px;\n",
       "\tborder-style: solid;\n",
       "\tborder-width: 1px;\n",
       "\tborder-color: var(--jp-border-color2);\n",
       "\tdisplay: block;\n",
       "\twhite-space: pre;\n",
       "\tfont-family: monospace;\n",
       "}\n",
       ".gonb-err-line {\n",
       "\tborder-radius: 3px;\n",
       "\tborder-style: dotted;\n",
       "\tborder-width: 1px;\t\n",
       "\tborder-color: var(--jp-border-color2);\n",
       "\tbackground-color: var(--jp-rendermime-err-background);\n",
       "\tfont-weight: bold;\n",
       "}\n",
       ".gonb-cell-line-info {\n",
       "\tbackground: var(--jp-layout-color2);\n",
       "\tcolor: #999;\n",
       "\tmargin: 0.1em;\n",
       "\tborder: 1px solid var(--jp-border-color1);\n",
       "\tpadding-left: 0.2em;\n",
       "\tpadding-right: 0.2em;\n",
       "}\n",
       "</style>\n",
       "<div class=\"lm-Widget p-Widget lm-Panel p-Panel jp-OutputArea-child\">\n",
       "<div class=\"lm-Widget p-Widget jp-RenderedText jp-mod-trusted jp-OutputArea-output\" data-mime-type=\"application/vnd.jupyter.stderr\" style=\"font-family: monospace;\">\n",
       "\n",
       "\n",
       "<span style=\"white-space: pre;\"> # gonb_164f98e1</span>\n",
       "\n",
       "<br/>\n",
       "\n",
       "<span class=\"gonb-cell-line-info\">Cell[87]: Line 14</span>\n",
       "<span class=\"gonb-err-location\">./main.go:385:16: </span> undefined: sqlQuoteString\n",
       "<div class=\"gonb-err-context\">\n",
       "        }\n",
       "        return &#34;FALSE&#34;\n",
       "    case string:\n",
       "<div class=\"gonb-err-line\">        return sqlQuoteString(s) // (not shown)\n",
       "</div>        default:\n",
       "        panic(fmt.Sprintf(&#34;unexpected type %T: %v&#34;, x,x))\n",
       "\n",
       "</div>\n",
       "\n",
       "<br/>\n",
       "\n",
       "\n",
       "<span style=\"white-space: pre;\"> </span>\n",
       "\n",
       "<br/>\n",
       "\n",
       "</div>\n"
      ]
     },
     "metadata": {},
     "output_type": "display_data"
    },
    {
     "ename": "ERROR",
     "evalue": "failed to run \"/opt/homebrew/bin/go build -o /var/folders/4d/tg201k8x6yb81f_lrvt4440m0000gn/T/gonb_164f98e1/gonb_164f98e1\": exit status 1",
     "output_type": "error",
     "traceback": [
      "failed to run \"/opt/homebrew/bin/go build -o /var/folders/4d/tg201k8x6yb81f_lrvt4440m0000gn/T/gonb_164f98e1/gonb_164f98e1\": exit status 1"
     ]
    }
   ],
   "source": [
    "//Rewrting sqlQuote to ue the exteended form of type switch \n",
    "func sqlQuote(x interface{}) string {\n",
    "    switch x := x.(type) {\n",
    "    case nil :\n",
    "        return \"NULL\"\n",
    "    case int, uint:\n",
    "        return fmt.Sprintf(\"%d\",x)\n",
    "    case bool:\n",
    "        if x {\n",
    "            return \"TRUE\"\n",
    "        }\n",
    "        return \"FALSE\"\n",
    "    case string:\n",
    "        return sqlQuoteString(s) // (not shown)\n",
    "        default:\n",
    "        panic(fmt.Sprintf(\"unexpected type %T: %v\", x,x))\n",
    "    }\n",
    "}"
   ]
  },
  {
   "cell_type": "markdown",
   "metadata": {
    "slideshow": {
     "slide_type": "slide"
    }
   },
   "source": [
    "## Example: Token-Based XML Decoding"
   ]
  },
  {
   "cell_type": "code",
   "execution_count": 88,
   "metadata": {
    "slideshow": {
     "slide_type": "subslide"
    }
   },
   "outputs": [
    {
     "name": "stderr",
     "output_type": "stream",
     "text": [
      "^C\n",
      "signal: interrupt\n"
     ]
    }
   ],
   "source": [
    "// Copyright © 2016 Alan A. A. Donovan & Brian W. Kernighan.\n",
    "// License: https://creativecommons.org/licenses/by-nc-sa/4.0/\n",
    "\n",
    "// See page 214.\n",
    "//!+\n",
    "\n",
    "// Xmlselect prints the text of selected elements of an XML document.\n",
    "//package main\n",
    "\n",
    "import (\n",
    "\t\"encoding/xml\"\n",
    "\t\"fmt\"\n",
    "\t\"io\"\n",
    "\t\"os\"\n",
    "\t\"strings\"\n",
    ")\n",
    "\n",
    "func main() {\n",
    "\tdec := xml.NewDecoder(os.Stdin)\n",
    "\tvar stack []string // stack of element names\n",
    "\tfor {\n",
    "\t\ttok, err := dec.Token()\n",
    "\t\tif err == io.EOF {\n",
    "\t\t\tbreak\n",
    "\t\t} else if err != nil {\n",
    "\t\t\tfmt.Fprintf(os.Stderr, \"xmlselect: %v\\n\", err)\n",
    "\t\t\tos.Exit(1)\n",
    "\t\t}\n",
    "\t\tswitch tok := tok.(type) {\n",
    "\t\tcase xml.StartElement:\n",
    "\t\t\tstack = append(stack, tok.Name.Local) // push\n",
    "\t\tcase xml.EndElement:\n",
    "\t\t\tstack = stack[:len(stack)-1] // pop\n",
    "\t\tcase xml.CharData:\n",
    "\t\t\tif containsAll(stack, os.Args[1:]) {\n",
    "\t\t\t\tfmt.Printf(\"%s: %s\\n\", strings.Join(stack, \" \"), tok)\n",
    "\t\t\t}\n",
    "\t\t}\n",
    "\t}\n",
    "}\n",
    "\n",
    "// containsAll reports whether x contains the elements of y, in order.\n",
    "func containsAll(x, y []string) bool {\n",
    "\tfor len(y) <= len(x) {\n",
    "\t\tif len(y) == 0 {\n",
    "\t\t\treturn true\n",
    "\t\t}\n",
    "\t\tif x[0] == y[0] {\n",
    "\t\t\ty = y[1:]\n",
    "\t\t}\n",
    "\t\tx = x[1:]\n",
    "\t}\n",
    "\treturn false\n",
    "}\n",
    "\n",
    "//!-"
   ]
  },
  {
   "cell_type": "markdown",
   "metadata": {
    "slideshow": {
     "slide_type": "subslide"
    }
   },
   "source": [
    "<code>\n",
    "go build gopl.io/ch1/fetch\n",
    "go build gopl.io/ch7/xmlselect\n",
    "./fetch http://www.w3.org/TR/2006/RE-xml11-20060816|./xmlselect div div h2\n",
    "html body div div div h2: Site Navigation\n",
    "html body div div h2: Footer Navigation\n",
    "</code>"
   ]
  }
 ],
 "metadata": {
  "celltoolbar": "Slideshow",
  "kernelspec": {
   "display_name": "Go (gonb)",
   "language": "go",
   "name": "gonb"
  },
  "language_info": {
   "codemirror_mode": "",
   "file_extension": ".go",
   "mimetype": "",
   "name": "go",
   "nbconvert_exporter": "",
   "pygments_lexer": "",
   "version": "go1.21.1"
  },
  "latex_envs": {
   "LaTeX_envs_menu_present": true,
   "autoclose": false,
   "autocomplete": true,
   "bibliofile": "biblio.bib",
   "cite_by": "apalike",
   "current_citInitial": 1,
   "eqLabelWithNumbers": true,
   "eqNumInitial": 1,
   "hotkeys": {
    "equation": "Ctrl-E",
    "itemize": "Ctrl-I"
   },
   "labels_anchors": false,
   "latex_user_defs": false,
   "report_style_numbering": false,
   "user_envs_cfg": false
  },
  "rise": {
   "enable_chalkboard": true,
   "scroll": true
  },
  "toc": {
   "base_numbering": "7",
   "nav_menu": {},
   "number_sections": true,
   "sideBar": true,
   "skip_h1_title": false,
   "title_cell": "Table of Contents",
   "title_sidebar": "Contents",
   "toc_cell": true,
   "toc_position": {},
   "toc_section_display": true,
   "toc_window_display": false
  }
 },
 "nbformat": 4,
 "nbformat_minor": 2
}
