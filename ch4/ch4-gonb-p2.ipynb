{
 "cells": [
  {
   "cell_type": "markdown",
   "id": "4ca46ec8",
   "metadata": {
    "toc": true
   },
   "source": [
    "<h1>Table of Contents<span class=\"tocSkip\"></span></h1>\n",
    "<div class=\"toc\"><ul class=\"toc-item\"><li><span><a href=\"#4.-Composite-Types-(II)\" data-toc-modified-id=\"4.-Composite-Types-(II)-1\">4. Composite Types (II)</a></span><ul class=\"toc-item\"><li><span><a href=\"#4.4-Structs\" data-toc-modified-id=\"4.4-Structs-1.1\">4.4 Structs</a></span><ul class=\"toc-item\"><li><span><a href=\"#Recursive-Data-Structures\" data-toc-modified-id=\"Recursive-Data-Structures-1.1.1\">Recursive Data Structures</a></span></li><li><span><a href=\"#Struct-Literals\" data-toc-modified-id=\"Struct-Literals-1.1.2\">Struct Literals</a></span></li><li><span><a href=\"#Comparing-Structs\" data-toc-modified-id=\"Comparing-Structs-1.1.3\">Comparing Structs</a></span></li><li><span><a href=\"#Struct-Embedding-and-Anonymous-Fields\" data-toc-modified-id=\"Struct-Embedding-and-Anonymous-Fields-1.1.4\">Struct Embedding and Anonymous Fields</a></span></li></ul></li><li><span><a href=\"#4.5-JSON\" data-toc-modified-id=\"4.5-JSON-1.2\">4.5 JSON</a></span><ul class=\"toc-item\"><li><ul class=\"toc-item\"><li><span><a href=\"#github-HTTP-request\" data-toc-modified-id=\"github-HTTP-request-1.2.0.1\">github HTTP request</a></span></li><li><span><a href=\"#github-api-for-issues\" data-toc-modified-id=\"github-api-for-issues-1.2.0.2\">github api for issues</a></span></li></ul></li></ul></li><li><span><a href=\"#4.6-Text-and-HTML-Templates\" data-toc-modified-id=\"4.6-Text-and-HTML-Templates-1.3\">4.6 Text and HTML Templates</a></span></li></ul></li></ul></div>"
   ]
  },
  {
   "cell_type": "markdown",
   "id": "9ea900c1",
   "metadata": {
    "slideshow": {
     "slide_type": "slide"
    }
   },
   "source": [
    "# 4. Composite Types (II)\n",
    "*    **Structs**\n",
    "     *    Struct Literals\n",
    "     *    Comparing Structs\n",
    "     *    Struct Embedding and Anonymous Fields\n",
    "*    JSON\n",
    "*    Text and HTML Templates"
   ]
  },
  {
   "cell_type": "markdown",
   "id": "760f9550",
   "metadata": {
    "slideshow": {
     "slide_type": "slide"
    }
   },
   "source": [
    "\n",
    "## 4.4 Structs"
   ]
  },
  {
   "cell_type": "markdown",
   "id": "6a2632b5",
   "metadata": {
    "slideshow": {
     "slide_type": "fragment"
    }
   },
   "source": [
    "* A struct is an aggregate data type grouping together zero or more named values of arbitrary types as a single entity\n",
    "* Each value is called a field\n",
    "* The name of a struct field is exported if it begins with a capital letter; this is Go's main access control mechanism\n",
    "* A struct type may contain a mixture of exported and unexported fields"
   ]
  },
  {
   "cell_type": "code",
   "execution_count": 29,
   "id": "d95390cd",
   "metadata": {
    "slideshow": {
     "slide_type": "subslide"
    }
   },
   "outputs": [
    {
     "name": "stdout",
     "output_type": "stream",
     "text": [
      "map['\\x01':%!q(*main.Employee=&{1   {0 0 <nil>} Vice President 0 3}) '\\x02':%!q(*main.Employee=&{2   {0 0 <nil>} Senior (proactive team player) -5000 1})]\n",
      "&{'\\x01' \"\" \"\" \"0001-01-01 00:00:00 +0000 UTC\" \"Vice President\" '\\x00' '\\x03'}\n",
      "&{'\\x02' \"\" \"\" \"0001-01-01 00:00:00 +0000 UTC\" \"Senior (proactive team player)\" '�' '\\x01'}\n"
     ]
    }
   ],
   "source": [
    "//Employee\n",
    "import \"fmt\"\n",
    "import \"time\"\n",
    "type Employee struct {\n",
    "    ID int\n",
    "    Name string\n",
    "    Address string\n",
    "    DoB time.Time\n",
    "    Position string\n",
    "    Salary int\n",
    "    ManagerID int\n",
    "}\n",
    "func main(){\n",
    "    employeeDB := make(map[int]*Employee)\n",
    "    alan := Employee{ID:1, ManagerID: 3, Position: \"Vice President\"}\n",
    "    dilbert := Employee{ID:2, ManagerID: 1}\n",
    "    employeeDB[alan.ID] = &alan\n",
    "    employeeDB[dilbert.ID] = &dilbert\n",
    "    dilbert.Salary -= 5000\n",
    "    position := &dilbert.Position\n",
    "    *position = \"Senior\" + *position\n",
    "    var employeeOfTheMonth *Employee = &dilbert\n",
    "    employeeOfTheMonth.Position += \" (proactive team player)\"\n",
    "//(*employeeOfTheMonth).Position += \" (proactive team player)\"\n",
    "    fmt.Printf(\"%q\\n\",employeeDB)\n",
    "    for _,emp := range employeeDB {\n",
    "        fmt.Printf(\"%q\\n\",emp)\n",
    "    }\n",
    "}"
   ]
  },
  {
   "cell_type": "code",
   "execution_count": 30,
   "id": "5b90b046",
   "metadata": {
    "slideshow": {
     "slide_type": "subslide"
    }
   },
   "outputs": [
    {
     "name": "stdout",
     "output_type": "stream",
     "text": [
      "Vice President\n"
     ]
    }
   ],
   "source": [
    "import \"fmt\"\n",
    "var employeeDB map[int]*Employee\n",
    "func EmployeeByID(id int) *Employee { return employeeDB[id]}\n",
    "\n",
    "func main() {\n",
    "    alan := Employee{ID:1, ManagerID: 3, Position: \"Vice President\"}\n",
    "    employeeDB = make(map[int]*Employee)\n",
    "    employeeDB[alan.ID] = &alan\n",
    "    dilbert := Employee{ID:2, ManagerID: 1}\n",
    "    employeeDB[dilbert.ID] = &dilbert\n",
    "    fmt.Println(EmployeeByID(dilbert.ManagerID).Position)\n",
    "    id := dilbert.ID    \n",
    "    EmployeeByID(id).Salary = 0  //dilert is fired\n",
    "}"
   ]
  },
  {
   "cell_type": "markdown",
   "id": "ab61c6aa",
   "metadata": {
    "slideshow": {
     "slide_type": "subslide"
    }
   },
   "source": [
    "### Recursive Data Structures\n",
    "* Struc type ***S*** can't declare a field of the same type ***S***\n",
    "  * aggregate value cannot containt itself\n",
    "* S may declare a field of the pointer type \\****S***\n",
    "  * create recursive data structure like lists and trees\n",
    "* Implement an insertion sort in the following"
   ]
  },
  {
   "cell_type": "code",
   "execution_count": 31,
   "id": "1827a2bd",
   "metadata": {
    "slideshow": {
     "slide_type": "subslide"
    }
   },
   "outputs": [
    {
     "name": "stdout",
     "output_type": "stream",
     "text": [
      "sorted: [0 1 1 2 3 6 7 7 8 9 9 10 10 11 12 15 15 16 16 18 19 20 20 21 21 21 22 23 23 23 24 28 30 31 32 33 34 36 37 37 37 38 39 40 41 43 44 47 48 49]"
     ]
    }
   ],
   "source": [
    "//gopl.io/ch4/treesort\n",
    "import (\"math/rand\";\"sort\";\"fmt\")  \n",
    "type tree struct {\n",
    "\tvalue       int\n",
    "\tleft, right *tree\n",
    "}\n",
    "\n",
    "// Sort sorts values in place.\n",
    "func Sort(values []int) {\n",
    "\tvar root *tree\n",
    "\tfor _, v := range values {\n",
    "\t\troot = add(root, v)\n",
    "\t}\n",
    "\tappendValues(values[:0], root) // append in the slice, the first position\n",
    "    //appendValues(values, root)     // append in the last position\n",
    "    //appendValues(values[:], root)    // append in the last position\n",
    "}\n",
    "\n",
    "// appendValues appends the elements of t to values in order\n",
    "// and returns the resulting slice.\n",
    "func appendValues(values []int, t *tree) []int {\n",
    "    //fmt.Println(values,\"len\",len(values),cap(values))\n",
    "\tif t != nil {\n",
    "\t\tvalues = appendValues(values, t.left)\n",
    "\t\tvalues = append(values, t.value)\n",
    "\t\tvalues = appendValues(values, t.right)\n",
    "\t}\n",
    "\treturn values\n",
    "}\n",
    "\n",
    "func add(t *tree, value int) *tree {\n",
    "\tif t == nil {\n",
    "\t\t// Equivalent to return &tree{value: value}.\n",
    "\t\tt = new(tree)\n",
    "\t\tt.value = value\n",
    "\t\treturn t\n",
    "\t}\n",
    "\tif value < t.value {\n",
    "\t\tt.left = add(t.left, value)\n",
    "\t} else {\n",
    "\t\tt.right = add(t.right, value)\n",
    "\t}\n",
    "\treturn t\n",
    "}\n",
    "\n",
    "func main(){\n",
    "    data := make([]int, 50)\n",
    "    for i := range data {\n",
    "        data[i] = rand.Int() % 50\n",
    "    }\n",
    "    \n",
    "\t//treesort.Sort(data)\n",
    "    Sort(data)\n",
    "//sort.Ints(data)\n",
    "    if !sort.IntsAreSorted(data) {\n",
    "\t\tfmt.Printf(\"not sorted: %v\", data)\n",
    "    } else {\n",
    "        fmt.Printf(\"sorted: %v\", data)\n",
    "    }\n",
    "}\n",
    "//!-"
   ]
  },
  {
   "cell_type": "markdown",
   "id": "401a661c",
   "metadata": {
    "slideshow": {
     "slide_type": "subslide"
    }
   },
   "source": [
    "<strike>$go get gopl.io/ch4</strike>\n",
    "```\n",
    "$go build gopl.io/ch4/treesort\n",
    "$go install gopl.io/ch4/treesort\n",
    "$go test gopl.io/ch4/treesort\n",
    "```"
   ]
  },
  {
   "cell_type": "markdown",
   "id": "0ee99ef0",
   "metadata": {
    "slideshow": {
     "slide_type": "slide"
    }
   },
   "source": [
    "### Struct Literals"
   ]
  },
  {
   "cell_type": "markdown",
   "id": "f075fa17",
   "metadata": {
    "slideshow": {
     "slide_type": "fragment"
    }
   },
   "source": [
    "* A value of a struct type can be written using a struct literal specifying values for its fields\n",
    "* There are two forms of struct literal\n",
    "* The first form requires a value be specified for every field, in the right order\n",
    "* The second form is used, in which a struct value is initialized by listing some or all of the field names and their corresponding values\n",
    "* The two forms cannot be mixed in the same literal"
   ]
  },
  {
   "cell_type": "code",
   "execution_count": 35,
   "id": "4ef5425e",
   "metadata": {
    "slideshow": {
     "slide_type": "subslide"
    }
   },
   "outputs": [
    {
     "name": "stdout",
     "output_type": "stream",
     "text": [
      "{1 2} {1 2}"
     ]
    }
   ],
   "source": [
    "type Point struct{ X, Y int}\n",
    "func main(){\n",
    "  p := Point{1,2} // the first form\n",
    "  q := Point{X:1, Y:2} // the second form\n",
    "  fmt.Print(p,q)\n",
    "}"
   ]
  },
  {
   "cell_type": "code",
   "execution_count": 38,
   "id": "d0b074fb",
   "metadata": {
    "slideshow": {
     "slide_type": "subslide"
    }
   },
   "outputs": [
    {
     "data": {
      "text/html": [
       "\n",
       "<style>\n",
       ".gonb-err-location {\n",
       "\tbackground: var(--jp-err-color2);  \n",
       "\tborder-radius: 3px;\n",
       "\tborder-style: dotted;\n",
       "\tborder-width: 1px;\n",
       "\tborder-color: var(--jp-border-color2);\n",
       "}\n",
       ".gonb-err-location:hover {\n",
       "\tborder-width: 2px;\n",
       "\tborder-style: solid;\n",
       "\tborder-color: var(--jp-border-color2);\n",
       "}\n",
       ".gonb-err-context {\n",
       "\tdisplay: none;\n",
       "}\n",
       ".gonb-err-location:hover + .gonb-err-context {\n",
       "\tbackground: var(--jp-dialog-background);  \n",
       "\tborder-radius: 3px;\n",
       "\tborder-style: solid;\n",
       "\tborder-width: 1px;\n",
       "\tborder-color: var(--jp-border-color2);\n",
       "\tdisplay: block;\n",
       "\twhite-space: pre;\n",
       "\tfont-family: monospace;\n",
       "}\n",
       ".gonb-err-line {\n",
       "\tborder-radius: 3px;\n",
       "\tborder-style: dotted;\n",
       "\tborder-width: 1px;\t\n",
       "\tborder-color: var(--jp-border-color2);\n",
       "\tbackground-color: var(--jp-rendermime-err-background);\n",
       "\tfont-weight: bold;\n",
       "}\n",
       ".gonb-cell-line-info {\n",
       "\tbackground: var(--jp-layout-color2);\n",
       "\tcolor: #999;\n",
       "\tmargin: 0.1em;\n",
       "\tborder: 1px solid var(--jp-border-color1);\n",
       "\tpadding-left: 0.2em;\n",
       "\tpadding-right: 0.2em;\n",
       "}\n",
       "</style>\n",
       "<div class=\"lm-Widget p-Widget lm-Panel p-Panel jp-OutputArea-child\">\n",
       "<div class=\"lm-Widget p-Widget jp-RenderedText jp-mod-trusted jp-OutputArea-output\" data-mime-type=\"application/vnd.jupyter.stderr\" style=\"font-family: monospace;\">\n",
       "\n",
       "<span class=\"gonb-cell-line-info\">Cell[38]: Line 1</span>\n",
       "<span class=\"gonb-err-location\">/var/folders/4d/tg201k8x6yb81f_lrvt4440m0000gn/T/gonb_a8716c1a/main.go:3:1: </span> expected declaration, found 'package' (and 2 more errors)\n",
       "<div class=\"gonb-err-context\">\n",
       "package main\n",
       "\n",
       "<div class=\"gonb-err-line\">package p\n",
       "</div>type T struct{ a, b int} // a and b are not exported\n",
       "package main\n",
       "\n",
       "</div>\n",
       "\n",
       "<br/>\n",
       "\n",
       "</div>\n"
      ]
     },
     "metadata": {},
     "output_type": "display_data"
    },
    {
     "ename": "ERROR",
     "evalue": "in goexec.ExecuteCell(): parsing go files in TempDir \"/var/folders/4d/tg201k8x6yb81f_lrvt4440m0000gn/T/gonb_a8716c1a\": /var/folders/4d/tg201k8x6yb81f_lrvt4440m0000gn/T/gonb_a8716c1a/main.go:3:1: expected declaration, found 'package' (and 2 more errors)",
     "output_type": "error",
     "traceback": [
      "in goexec.ExecuteCell(): parsing go files in TempDir \"/var/folders/4d/tg201k8x6yb81f_lrvt4440m0000gn/T/gonb_a8716c1a\": /var/folders/4d/tg201k8x6yb81f_lrvt4440m0000gn/T/gonb_a8716c1a/main.go:3:1: expected declaration, found 'package' (and 2 more errors)"
     ]
    }
   ],
   "source": [
    "package p\n",
    "type T struct{ a, b int} // a and b are not exported\n",
    "package main\n",
    "import \"p\"\n",
    "func main(){\n",
    "var _ = T{a:1, b:2} //compile error, can't reference a  and b \n",
    "}"
   ]
  },
  {
   "cell_type": "markdown",
   "id": "b90e0716",
   "metadata": {
    "slideshow": {
     "slide_type": "slide"
    }
   },
   "source": [
    "### Comparing Structs\n",
    "* If all the fields of a struct are comparable, the struct is comparable\n",
    "* Two expressions of the comparable types may be compared using == or !!="
   ]
  },
  {
   "cell_type": "code",
   "execution_count": 63,
   "id": "70b9d0f7",
   "metadata": {
    "slideshow": {
     "slide_type": "subslide"
    }
   },
   "outputs": [
    {
     "name": "stdout",
     "output_type": "stream",
     "text": [
      "false\n",
      "false\n"
     ]
    }
   ],
   "source": [
    "//comparing two points\n",
    "type point struct{X, Y int}\n",
    "%%\n",
    "p := Point{1,2}\n",
    "q := Point{2,1}\n",
    "fmt.Println(p.X == q.X && p.Y == q.Y)\n",
    "fmt.Println(p == q)"
   ]
  },
  {
   "cell_type": "markdown",
   "id": "912be8c5",
   "metadata": {
    "slideshow": {
     "slide_type": "subslide"
    }
   },
   "source": [
    "* Comparable struct types, may be used as the key type of a map"
   ]
  },
  {
   "cell_type": "code",
   "execution_count": 64,
   "id": "4e08bca2",
   "metadata": {
    "slideshow": {
     "slide_type": "fragment"
    }
   },
   "outputs": [
    {
     "name": "stdout",
     "output_type": "stream",
     "text": [
      "map[{golang.org 443}:1 {gopl.io 80}:23]\n"
     ]
    }
   ],
   "source": [
    "//comparable struct types as map key\n",
    "type address struct {\n",
    "    hostname string\n",
    "    port     int\n",
    "}\n",
    "%%\n",
    "hits := make(map[address]int)\n",
    "hits[address{\"golang.org\",443}]++\n",
    "hits[address{\"gopl.io\",80}]+= 23\n",
    "fmt.Println(hits)"
   ]
  },
  {
   "cell_type": "markdown",
   "id": "4154bbe1",
   "metadata": {
    "slideshow": {
     "slide_type": "slide"
    }
   },
   "source": [
    "### Struct Embedding and Anonymous Fields"
   ]
  },
  {
   "cell_type": "code",
   "execution_count": 66,
   "id": "ff04378a",
   "metadata": {
    "slideshow": {
     "slide_type": "fragment"
    }
   },
   "outputs": [],
   "source": [
    "type Circle struct {\n",
    "    X,Y, Radius int\n",
    "}\n",
    "type Wheel struct {\n",
    "    X,Y, Radius, Spokes int\n",
    "}\n",
    "%%\n",
    "var w Wheel\n",
    "w.X = 8\n",
    "w.Y = 8\n",
    "w.Radius = 5\n",
    "w.Spokes = 20"
   ]
  },
  {
   "cell_type": "markdown",
   "id": "e8044d25",
   "metadata": {
    "slideshow": {
     "slide_type": "subslide"
    }
   },
   "source": [
    "* Factor out their common parts"
   ]
  },
  {
   "cell_type": "code",
   "execution_count": 68,
   "id": "14f767a9",
   "metadata": {
    "slideshow": {
     "slide_type": "fragment"
    }
   },
   "outputs": [
    {
     "name": "stdout",
     "output_type": "stream",
     "text": [
      "{{{8 8} 5} 20}\n"
     ]
    }
   ],
   "source": [
    "import \"fmt\"\n",
    "type Point struct {\n",
    "    X, Y int\n",
    "}\n",
    "type Circle struct {\n",
    "    Center Point\n",
    "    Radius int\n",
    "}\n",
    "type Wheel struct {\n",
    "    Circle Circle\n",
    "    Spokes int\n",
    "}\n",
    "%%\n",
    "var w Wheel\n",
    "w.Circle.Center.X = 8\n",
    "w.Circle.Center.Y = 8\n",
    "w.Circle.Radius = 5\n",
    "w.Spokes = 20\n",
    "fmt.Println(w)"
   ]
  },
  {
   "cell_type": "markdown",
   "id": "7128d51a",
   "metadata": {
    "slideshow": {
     "slide_type": "subslide"
    }
   },
   "source": [
    "* Declare a field with a type but no name\n",
    "* Such fields are called anonymous fields\n",
    "* Due to embedding, we can refer to the names at the leaves of the implicit tree without giving the intervening names"
   ]
  },
  {
   "cell_type": "code",
   "execution_count": 69,
   "id": "885e63e5",
   "metadata": {
    "slideshow": {
     "slide_type": "fragment"
    }
   },
   "outputs": [
    {
     "name": "stdout",
     "output_type": "stream",
     "text": [
      "{{{8 8} 5} 20}\n"
     ]
    }
   ],
   "source": [
    "//access the anonymous field\n",
    "type Circle struct {\n",
    "    Point\n",
    "    Radius int\n",
    "}\n",
    "type Wheel struct {\n",
    "    Circle \n",
    "    Spokes int\n",
    "}\n",
    "%%\n",
    "var w Wheel\n",
    "w.X = 8    //w.Circle.Point.X\n",
    "w.Y = 8    //w.Circle.Point.Y\n",
    "w.Radius = 5 //w.Circle.Radius\n",
    "w.Spokes = 20 \n",
    "fmt.Println(w)"
   ]
  },
  {
   "cell_type": "markdown",
   "id": "53e3c39a",
   "metadata": {
    "slideshow": {
     "slide_type": "subslide"
    }
   },
   "source": [
    "* There's no corresponding shorthand for the struct literal syntax"
   ]
  },
  {
   "cell_type": "code",
   "execution_count": 71,
   "id": "c5326ada",
   "metadata": {
    "slideshow": {
     "slide_type": "fragment"
    }
   },
   "outputs": [
    {
     "data": {
      "text/html": [
       "\n",
       "<style>\n",
       ".gonb-err-location {\n",
       "\tbackground: var(--jp-err-color2);  \n",
       "\tborder-radius: 3px;\n",
       "\tborder-style: dotted;\n",
       "\tborder-width: 1px;\n",
       "\tborder-color: var(--jp-border-color2);\n",
       "}\n",
       ".gonb-err-location:hover {\n",
       "\tborder-width: 2px;\n",
       "\tborder-style: solid;\n",
       "\tborder-color: var(--jp-border-color2);\n",
       "}\n",
       ".gonb-err-context {\n",
       "\tdisplay: none;\n",
       "}\n",
       ".gonb-err-location:hover + .gonb-err-context {\n",
       "\tbackground: var(--jp-dialog-background);  \n",
       "\tborder-radius: 3px;\n",
       "\tborder-style: solid;\n",
       "\tborder-width: 1px;\n",
       "\tborder-color: var(--jp-border-color2);\n",
       "\tdisplay: block;\n",
       "\twhite-space: pre;\n",
       "\tfont-family: monospace;\n",
       "}\n",
       ".gonb-err-line {\n",
       "\tborder-radius: 3px;\n",
       "\tborder-style: dotted;\n",
       "\tborder-width: 1px;\t\n",
       "\tborder-color: var(--jp-border-color2);\n",
       "\tbackground-color: var(--jp-rendermime-err-background);\n",
       "\tfont-weight: bold;\n",
       "}\n",
       ".gonb-cell-line-info {\n",
       "\tbackground: var(--jp-layout-color2);\n",
       "\tcolor: #999;\n",
       "\tmargin: 0.1em;\n",
       "\tborder: 1px solid var(--jp-border-color1);\n",
       "\tpadding-left: 0.2em;\n",
       "\tpadding-right: 0.2em;\n",
       "}\n",
       "</style>\n",
       "<div class=\"lm-Widget p-Widget lm-Panel p-Panel jp-OutputArea-child\">\n",
       "<div class=\"lm-Widget p-Widget jp-RenderedText jp-mod-trusted jp-OutputArea-output\" data-mime-type=\"application/vnd.jupyter.stderr\" style=\"font-family: monospace;\">\n",
       "\n",
       "\n",
       "<span style=\"white-space: pre;\"> # gonb_a8716c1a</span>\n",
       "\n",
       "<br/>\n",
       "\n",
       "<span class=\"gonb-cell-line-info\">Cell[71]: Line 2</span>\n",
       "<span class=\"gonb-err-location\">./main.go:198:2: </span> w declared but not used\n",
       "<div class=\"gonb-err-context\">\n",
       "\n",
       "func main() {\n",
       "\tflag.Parse()\n",
       "<div class=\"gonb-err-line\">\tw := Wheel{8,8,5,20} \n",
       "</div>\n",
       "}\n",
       "\n",
       "</div>\n",
       "\n",
       "<br/>\n",
       "\n",
       "<span class=\"gonb-cell-line-info\">Cell[71]: Line 2</span>\n",
       "<span class=\"gonb-err-location\">./main.go:198:13: </span> cannot use 8 (untyped int constant) as Circle value in struct literal\n",
       "<div class=\"gonb-err-context\">\n",
       "\n",
       "func main() {\n",
       "\tflag.Parse()\n",
       "<div class=\"gonb-err-line\">\tw := Wheel{8,8,5,20} \n",
       "</div>\n",
       "}\n",
       "\n",
       "</div>\n",
       "\n",
       "<br/>\n",
       "\n",
       "<span class=\"gonb-cell-line-info\">Cell[71]: Line 2</span>\n",
       "<span class=\"gonb-err-location\">./main.go:198:17: </span> too many values in Wheel{…}\n",
       "<div class=\"gonb-err-context\">\n",
       "\n",
       "func main() {\n",
       "\tflag.Parse()\n",
       "<div class=\"gonb-err-line\">\tw := Wheel{8,8,5,20} \n",
       "</div>\n",
       "}\n",
       "\n",
       "</div>\n",
       "\n",
       "<br/>\n",
       "\n",
       "\n",
       "<span style=\"white-space: pre;\"> </span>\n",
       "\n",
       "<br/>\n",
       "\n",
       "</div>\n"
      ]
     },
     "metadata": {},
     "output_type": "display_data"
    },
    {
     "ename": "ERROR",
     "evalue": "failed to run \"/opt/homebrew/bin/go build -o /var/folders/4d/tg201k8x6yb81f_lrvt4440m0000gn/T/gonb_a8716c1a/gonb_a8716c1a\": exit status 1",
     "output_type": "error",
     "traceback": [
      "failed to run \"/opt/homebrew/bin/go build -o /var/folders/4d/tg201k8x6yb81f_lrvt4440m0000gn/T/gonb_a8716c1a/gonb_a8716c1a\": exit status 1"
     ]
    }
   ],
   "source": [
    "%%\n",
    "w := Wheel{8,8,5,20} "
   ]
  },
  {
   "cell_type": "code",
   "execution_count": 72,
   "id": "cb7416c6",
   "metadata": {
    "slideshow": {
     "slide_type": "fragment"
    }
   },
   "outputs": [
    {
     "data": {
      "text/html": [
       "\n",
       "<style>\n",
       ".gonb-err-location {\n",
       "\tbackground: var(--jp-err-color2);  \n",
       "\tborder-radius: 3px;\n",
       "\tborder-style: dotted;\n",
       "\tborder-width: 1px;\n",
       "\tborder-color: var(--jp-border-color2);\n",
       "}\n",
       ".gonb-err-location:hover {\n",
       "\tborder-width: 2px;\n",
       "\tborder-style: solid;\n",
       "\tborder-color: var(--jp-border-color2);\n",
       "}\n",
       ".gonb-err-context {\n",
       "\tdisplay: none;\n",
       "}\n",
       ".gonb-err-location:hover + .gonb-err-context {\n",
       "\tbackground: var(--jp-dialog-background);  \n",
       "\tborder-radius: 3px;\n",
       "\tborder-style: solid;\n",
       "\tborder-width: 1px;\n",
       "\tborder-color: var(--jp-border-color2);\n",
       "\tdisplay: block;\n",
       "\twhite-space: pre;\n",
       "\tfont-family: monospace;\n",
       "}\n",
       ".gonb-err-line {\n",
       "\tborder-radius: 3px;\n",
       "\tborder-style: dotted;\n",
       "\tborder-width: 1px;\t\n",
       "\tborder-color: var(--jp-border-color2);\n",
       "\tbackground-color: var(--jp-rendermime-err-background);\n",
       "\tfont-weight: bold;\n",
       "}\n",
       ".gonb-cell-line-info {\n",
       "\tbackground: var(--jp-layout-color2);\n",
       "\tcolor: #999;\n",
       "\tmargin: 0.1em;\n",
       "\tborder: 1px solid var(--jp-border-color1);\n",
       "\tpadding-left: 0.2em;\n",
       "\tpadding-right: 0.2em;\n",
       "}\n",
       "</style>\n",
       "<div class=\"lm-Widget p-Widget lm-Panel p-Panel jp-OutputArea-child\">\n",
       "<div class=\"lm-Widget p-Widget jp-RenderedText jp-mod-trusted jp-OutputArea-output\" data-mime-type=\"application/vnd.jupyter.stderr\" style=\"font-family: monospace;\">\n",
       "\n",
       "\n",
       "<span style=\"white-space: pre;\"> # gonb_a8716c1a</span>\n",
       "\n",
       "<br/>\n",
       "\n",
       "<span class=\"gonb-cell-line-info\">Cell[72]: Line 2</span>\n",
       "<span class=\"gonb-err-location\">./main.go:198:2: </span> w declared but not used\n",
       "<div class=\"gonb-err-context\">\n",
       "\n",
       "func main() {\n",
       "\tflag.Parse()\n",
       "<div class=\"gonb-err-line\">\tw := Wheel{X:8, Y:8, Radius: 5, Spokes: 20}\n",
       "</div>\n",
       "}\n",
       "\n",
       "</div>\n",
       "\n",
       "<br/>\n",
       "\n",
       "<span class=\"gonb-cell-line-info\">Cell[72]: Line 2</span>\n",
       "<span class=\"gonb-err-location\">./main.go:198:13: </span> unknown field 'X' in struct literal of type Wheel\n",
       "<div class=\"gonb-err-context\">\n",
       "\n",
       "func main() {\n",
       "\tflag.Parse()\n",
       "<div class=\"gonb-err-line\">\tw := Wheel{X:8, Y:8, Radius: 5, Spokes: 20}\n",
       "</div>\n",
       "}\n",
       "\n",
       "</div>\n",
       "\n",
       "<br/>\n",
       "\n",
       "<span class=\"gonb-cell-line-info\">Cell[72]: Line 2</span>\n",
       "<span class=\"gonb-err-location\">./main.go:198:18: </span> unknown field 'Y' in struct literal of type Wheel\n",
       "<div class=\"gonb-err-context\">\n",
       "\n",
       "func main() {\n",
       "\tflag.Parse()\n",
       "<div class=\"gonb-err-line\">\tw := Wheel{X:8, Y:8, Radius: 5, Spokes: 20}\n",
       "</div>\n",
       "}\n",
       "\n",
       "</div>\n",
       "\n",
       "<br/>\n",
       "\n",
       "<span class=\"gonb-cell-line-info\">Cell[72]: Line 2</span>\n",
       "<span class=\"gonb-err-location\">./main.go:198:23: </span> unknown field 'Radius' in struct literal of type Wheel\n",
       "<div class=\"gonb-err-context\">\n",
       "\n",
       "func main() {\n",
       "\tflag.Parse()\n",
       "<div class=\"gonb-err-line\">\tw := Wheel{X:8, Y:8, Radius: 5, Spokes: 20}\n",
       "</div>\n",
       "}\n",
       "\n",
       "</div>\n",
       "\n",
       "<br/>\n",
       "\n",
       "\n",
       "<span style=\"white-space: pre;\"> </span>\n",
       "\n",
       "<br/>\n",
       "\n",
       "</div>\n"
      ]
     },
     "metadata": {},
     "output_type": "display_data"
    },
    {
     "ename": "ERROR",
     "evalue": "failed to run \"/opt/homebrew/bin/go build -o /var/folders/4d/tg201k8x6yb81f_lrvt4440m0000gn/T/gonb_a8716c1a/gonb_a8716c1a\": exit status 1",
     "output_type": "error",
     "traceback": [
      "failed to run \"/opt/homebrew/bin/go build -o /var/folders/4d/tg201k8x6yb81f_lrvt4440m0000gn/T/gonb_a8716c1a/gonb_a8716c1a\": exit status 1"
     ]
    }
   ],
   "source": [
    "%%\n",
    "w := Wheel{X:8, Y:8, Radius: 5, Spokes: 20}"
   ]
  },
  {
   "cell_type": "code",
   "execution_count": 73,
   "id": "bc1a561d",
   "metadata": {
    "slideshow": {
     "slide_type": "subslide"
    }
   },
   "outputs": [
    {
     "name": "stdout",
     "output_type": "stream",
     "text": [
      "{Circle:{Point:{X:8 Y:8} Radius:5} Spokes:20}\n",
      "main.Wheel{Circle:main.Circle{Point:main.Point{X:42, Y:8}, Radius:5}, Spokes:20}\n",
      "{Circle:{Point:{X:42 Y:8} Radius:5} Spokes:20}\n"
     ]
    }
   ],
   "source": [
    "//Anonymous Fields\n",
    "type Point struct {\n",
    "    X, Y int\n",
    "}\n",
    "type Circle struct {\n",
    "    Point\n",
    "    Radius int\n",
    "}\n",
    "type Wheel struct {\n",
    "    Circle \n",
    "    Spokes int\n",
    "}\n",
    "%%\n",
    "var w Wheel\n",
    "w = Wheel{Circle{Point{8, 8}, 5}, 20}\n",
    "\n",
    "w = Wheel{\n",
    "\t\tCircle: Circle{\n",
    "\t\t\tPoint:  Point{X: 8, Y: 8},\n",
    "\t\t\tRadius: 5,\n",
    "\t\t},\n",
    "\t\tSpokes: 20, // NOTE: trailing comma necessary here (and at Radius)\n",
    "}\n",
    "\n",
    "//fmt.Printf(\"%#v\\n\", w)\n",
    "//%v\tthe value in a default format\n",
    "//\twhen printing structs, the plus flag (%+v) adds field names\n",
    "//%#v\ta Go-syntax representation of the value\n",
    "fmt.Printf(\"%+v\\n\",w)\n",
    "\t// Output:\n",
    "\t// Wheel{Circle:Circle{Point:Point{X:8, Y:8}, Radius:5}, Spokes:20}\n",
    "\n",
    "w.X = 42\n",
    "\n",
    "fmt.Printf(\"%#v\\n\", w)\n",
    "fmt.Printf(\"%+v\\n\", w)\n",
    "\t// Output:\n",
    "\t// Wheel{Circle:Circle{Point:Point{X:42, Y:8}, Radius:5}, Spokes:20}\n",
    "\t//!-"
   ]
  },
  {
   "cell_type": "markdown",
   "id": "d0f4b9b7",
   "metadata": {
    "slideshow": {
     "slide_type": "slide"
    }
   },
   "source": [
    "## 4.5 JSON\n",
    "* JavaScript Object Notation (JSON) is a standard notation for sending and receiving structured information\n",
    "* Other similar notation: XML, ASN.1, and Google's Protocol Buffers\n",
    "* API: encoding/json, encoding/xml, encoding/asn1\n",
    "* basic JSON types are numbers(decimal or scientific notation), booleans(true, false), and strings (sequene of Unicode code points)\n",
    "* basic JSON types can be combined recursively using JSON arrays and objects\n",
    "* JSON array is an ordered sequence of values, written as a comma-separated list enclosed in square brackets\n",
    "* JSON array are used to encode Go arrays and slices\n",
    "* JSON object is a mapping from strings to values, written as a sequence of name:value pairs separated by commas and surrounded by braces\n",
    "* JSON objects are used to encode GO maps and structs\n",
    "\n",
    "Example\n",
    "\n",
    "type   |value\n",
    "-------|-----------------------------------\n",
    "boolean|true\n",
    "number | -273.15\n",
    "string |\"She said \\\"Hello, 世界\\\"\"\n",
    "array  | [\"gold\", \"silver\", \"bronze\"]\n",
    "object |{\"year\": 1980,<br>\"event\": \"archery\",<br>\"medals\":[\"gold\",\"silver\",\"brone\"]} "
   ]
  },
  {
   "cell_type": "markdown",
   "id": "0b9c7e41",
   "metadata": {
    "slideshow": {
     "slide_type": "subslide"
    }
   },
   "source": [
    "* Gather movie reviews and offer recommendations\n",
    "* String literals after the Year and Color field are field tags"
   ]
  },
  {
   "cell_type": "code",
   "execution_count": 40,
   "id": "fcca7554",
   "metadata": {
    "slideshow": {
     "slide_type": "fragment"
    }
   },
   "outputs": [],
   "source": [
    "//gopl.pl/ch4/movie\n",
    "import (\"encoding/json\";\"fmt\";\"log\")\n",
    "\n",
    "type Movie struct {\n",
    "\tTitle  string\n",
    "\tYear   int  `json:\"released\"`\n",
    "\tColor  bool `json:\"color,omitempty\"`\n",
    "\tActors []string\n",
    "}\n",
    "\n",
    "var movies = []Movie{\n",
    "\t{Title: \"Casablanca\", Year: 1942, Color: false,\n",
    "\t\tActors: []string{\"Humphrey Bogart\", \"Ingrid Bergman\"}},\n",
    "\t{Title: \"Cool Hand Luke\", Year: 1967, Color: true,\n",
    "\t\tActors: []string{\"Paul Newman\"}},\n",
    "\t{Title: \"Bullitt\", Year: 1968, Color: true,\n",
    "\t\tActors: []string{\"Steve McQueen\", \"Jacqueline Bisset\"}},\n",
    "\t// ...\n",
    "}"
   ]
  },
  {
   "cell_type": "code",
   "execution_count": 41,
   "id": "4af445fb",
   "metadata": {
    "slideshow": {
     "slide_type": "fragment"
    }
   },
   "outputs": [
    {
     "name": "stdout",
     "output_type": "stream",
     "text": [
      "[{\"Title\":\"Casablanca\",\"released\":1942,\"Actors\":[\"Humphrey Bogart\",\"Ingrid Bergman\"]},{\"Title\":\"Cool Hand Luke\",\"released\":1967,\"color\":true,\"Actors\":[\"Paul Newman\"]},{\"Title\":\"Bullitt\",\"released\":1968,\"color\":true,\"Actors\":[\"Steve McQueen\",\"Jacqueline Bisset\"]}]\n"
     ]
    }
   ],
   "source": [
    "func main(){\t\t//!+Marshal\n",
    "\t\tdata, err := json.Marshal(movies)\n",
    "\t\tif err != nil {\n",
    "\t\t\tlog.Fatalf(\"JSON marshaling failed: %s\", err)\n",
    "\t\t}\n",
    "\t\tfmt.Printf(\"%s\\n\", data)\n",
    "}\t\t//!-Ma"
   ]
  },
  {
   "cell_type": "markdown",
   "id": "424a2997",
   "metadata": {
    "slideshow": {
     "slide_type": "subslide"
    }
   },
   "source": [
    "* json.MarshalIndent produces neatly indented output\n",
    "* two arguments: \n",
    "  * a prefix for each line of output \n",
    "  * a string for each level of indentation"
   ]
  },
  {
   "cell_type": "code",
   "execution_count": 42,
   "id": "cd7e64cf",
   "metadata": {
    "slideshow": {
     "slide_type": "subslide"
    }
   },
   "outputs": [
    {
     "name": "stdout",
     "output_type": "stream",
     "text": [
      "[\n",
      "    {\n",
      "        \"Title\": \"Casablanca\",\n",
      "        \"released\": 1942,\n",
      "        \"Actors\": [\n",
      "            \"Humphrey Bogart\",\n",
      "            \"Ingrid Bergman\"\n",
      "        ]\n",
      "    },\n",
      "    {\n",
      "        \"Title\": \"Cool Hand Luke\",\n",
      "        \"released\": 1967,\n",
      "        \"color\": true,\n",
      "        \"Actors\": [\n",
      "            \"Paul Newman\"\n",
      "        ]\n",
      "    },\n",
      "    {\n",
      "        \"Title\": \"Bullitt\",\n",
      "        \"released\": 1968,\n",
      "        \"color\": true,\n",
      "        \"Actors\": [\n",
      "            \"Steve McQueen\",\n",
      "            \"Jacqueline Bisset\"\n",
      "        ]\n",
      "    }\n",
      "]\n",
      "[{Casablanca 1942 false [Humphrey Bogart Ingrid Bergman]} {Cool Hand Luke 1967 true [Paul Newman]} {Bullitt 1968 true [Steve McQueen Jacqueline Bisset]}]\n"
     ]
    }
   ],
   "source": [
    "//MarshalIndent\t\n",
    "func main (){\n",
    "\t\t//!+MarshalIndent\n",
    "\t\tdata, err := json.MarshalIndent(movies, \"\", \"    \")\n",
    "\t\tif err != nil {\n",
    "\t\t\tlog.Fatalf(\"JSON marshaling failed: %s\", err)\n",
    "\t\t}\n",
    "\t\tfmt.Printf(\"%s\\n\", data)\n",
    "\t\t//!-MarshalIndent\n",
    "\n",
    "\t\t//!+Unmarshal\n",
    "\t\tvar titles []struct{ Title string \n",
    "                            Year   int  `json:\"released\"`\n",
    "                            Color  bool `json:\"color,omitempty\"`\n",
    "                             Actors []string\n",
    "                           }\n",
    "\t\tif err := json.Unmarshal(data, &titles); err != nil {\n",
    "\t\t\tlog.Fatalf(\"JSON unmarshaling failed: %s\", err)\n",
    "\t\t}\n",
    "\t\tfmt.Println(titles) // \"[{Casablanca} {Cool Hand Luke} {Bullitt}]\"\n",
    "\t\t//!-Unmarshal\n",
    "}"
   ]
  },
  {
   "cell_type": "markdown",
   "id": "2d8bcd5f",
   "metadata": {
    "slideshow": {
     "slide_type": "subslide"
    }
   },
   "source": [
    "#### github HTTP request \n",
    "* decode the result as JSON\n",
    "* url.QueryEscape to escape \\? and \\&"
   ]
  },
  {
   "cell_type": "code",
   "execution_count": 43,
   "id": "a73cb251",
   "metadata": {
    "slideshow": {
     "slide_type": "fragment"
    }
   },
   "outputs": [],
   "source": [
    "//gopl.io/ch4/github\n",
    "import \"time\"\n",
    "\n",
    "const IssuesURL = \"https://api.github.com/search/issues\"\n",
    "\n",
    "type IssuesSearchResult struct {\n",
    "\tTotalCount int `json:\"total_count\"`\n",
    "\tItems      []*Issue\n",
    "}\n",
    "\n",
    "type Issue struct {\n",
    "\tNumber    int\n",
    "\tHTMLURL   string `json:\"html_url\"`\n",
    "\tTitle     string\n",
    "\tState     string\n",
    "\tUser      *User\n",
    "\tCreatedAt time.Time `json:\"created_at\"`\n",
    "\tBody      string    // in Markdown format\n",
    "}\n",
    "\n",
    "type User struct {\n",
    "\tLogin   string\n",
    "\tHTMLURL string `json:\"html_url\"`\n",
    "}\n"
   ]
  },
  {
   "cell_type": "markdown",
   "id": "e9ab831d",
   "metadata": {
    "slideshow": {
     "slide_type": "subslide"
    }
   },
   "source": [
    "#### github api for issues\n",
    "* [github issue api](https://api.github.com/search/issues?q=repo:golang/go%20is:open%20json%20decoder)\n",
    "* struct fields are capitalized for public access even if JSON names are not\n",
    "* matching process with JSON names and Go struct names is case-insensitive"
   ]
  },
  {
   "cell_type": "code",
   "execution_count": 45,
   "id": "b517f486",
   "metadata": {
    "slideshow": {
     "slide_type": "fragment"
    }
   },
   "outputs": [],
   "source": [
    "import (\"encoding/json\";\"fmt\";\"net/http\";\"net/url\";\"strings\")\n",
    "\n",
    "// SearchIssues queries the GitHub issue tracker.\n",
    "func SearchIssues(terms []string) (*IssuesSearchResult, error) {\n",
    "\tq := url.QueryEscape(strings.Join(terms, \" \"))\n",
    "\tresp, err := http.Get(IssuesURL + \"?q=\" + q)\n",
    "\tif err != nil {\n",
    "\t\treturn nil, err\n",
    "\t}\n",
    "\tif resp.StatusCode != http.StatusOK {\n",
    "\t\tresp.Body.Close()\n",
    "\t\treturn nil, fmt.Errorf(\"search query failed: %s\", resp.Status)\n",
    "\t}\n",
    "    //fmt.Println(resp.Body)\n",
    "    fmt.Printf(\"%q\",resp.Body)\n",
    "\tvar result IssuesSearchResult\n",
    "\tif err := json.NewDecoder(resp.Body).Decode(&result); err != nil {\n",
    "\t\tresp.Body.Close()\n",
    "\t\treturn nil, err\n",
    "\t}\n",
    "\tresp.Body.Close()\n",
    "\treturn &result, nil\n",
    "}"
   ]
  },
  {
   "cell_type": "code",
   "execution_count": 47,
   "id": "6189351d",
   "metadata": {
    "slideshow": {
     "slide_type": "subslide"
    }
   },
   "outputs": [
    {
     "name": "stdout",
     "output_type": "stream",
     "text": [
      "85 issues:\n",
      "#48298     dsnet encoding/json: add Decoder.DisallowDuplicateFields\n",
      "#11046     kurin encoding/json: Decoder internally buffers full input\n",
      "#36225     dsnet encoding/json: the Decoder.Decode API lends itself to m\n",
      "#56733 rolandsho encoding/json: add (*Decoder).SetLimit\n",
      "#61627    nabice x/tools/gopls: The rename command line may accept ident\n",
      "#40128  rogpeppe proposal: encoding/json: garbage-free reading of tokens\n",
      "#29035    jaswdr proposal: encoding/json: add error var to compare  the \n",
      "#41144 alvaroale encoding/json: Unmarshaler breaks DisallowUnknownFields\n",
      "#5901        rsc encoding/json: allow per-Encoder/per-Decoder registrati\n",
      "#42571     dsnet encoding/json: clarify Decoder.InputOffset semantics\n",
      "#40127  rogpeppe encoding/json: add Encoder.EncodeToken method\n",
      "#14750 cyberphon encoding/json: parser ignores the case of member names\n",
      "#43716 ggaaooppe encoding/json: increment byte counter when using decode\n",
      "#34543  maxatome encoding/json: Unmarshal & json.(*Decoder).Token report\n",
      "#59053   joerdav proposal: encoding/json: add a generic Decode function\n",
      "#32779       rsc encoding/json: memoize strings during decode\n",
      "#48950 Alexander encoding/json: calculate correct SyntaxError.Offset in \n",
      "#31701    lr1980 encoding/json: second decode after error impossible\n",
      "#33714    flimzy proposal: encoding/json: Opt-in for true streaming supp\n",
      "#7872  extempora encoding/json: Encoder internally buffers full output\n",
      "#6647    btracey x/tools/cmd/godoc: display type kind of each named type\n",
      "#22533      ibrt proposal: encoding/json: preserve unknown fields\n",
      "#40982   Segflow encoding/json: use different error type for unknown fie\n",
      "#43513 Alexander encoding/json: add line number to SyntaxError\n",
      "#16212 josharian encoding/json: do all reflect work before decoding\n",
      "#22480     blixt proposal: encoding/json: add omitnil option\n",
      "#56332    gansvv encoding/json: clearer error message for boolean like p\n",
      "#33854     Qhesz encoding/json: unmarshal option to treat omitted fields\n",
      "#34564  mdempsky go/internal/gcimporter: single source of truth for deco\n",
      "#58649 nabokihms encoding/json: show nested fields path if DisallowUnkno\n"
     ]
    }
   ],
   "source": [
    "import (\"fmt\";\"log\";\"os\";\"gopl.io/ch4/github\")\n",
    "%args repo:golang/go is:open json decoder\n",
    "func main() {\n",
    "\tresult, err := github.SearchIssues(os.Args[1:])\n",
    "    //t := []string{\"repo:golang/go\",\"is:open\",\"json\",\"decoder\"}\n",
    "    //result, err := github.SearchIssues(t)\n",
    "    //result, err := SearchIssues(t) \n",
    "\tif err != nil {\n",
    "\t\tlog.Fatal(err)\n",
    "\t}\n",
    "\tfmt.Printf(\"%d issues:\\n\", result.TotalCount)\n",
    "\tfor _, item := range result.Items {\n",
    "\t\tfmt.Printf(\"#%-5d %9.9s %.55s\\n\",\n",
    "\t\t\titem.Number, item.User.Login, item.Title)\n",
    "\t}\n",
    "}"
   ]
  },
  {
   "cell_type": "markdown",
   "id": "5ae2f03a",
   "metadata": {
    "slideshow": {
     "slide_type": "slide"
    }
   },
   "source": [
    "## 4.6 Text and HTML Templates\n",
    "* the simplest formatting: Printf\n",
    "* separate the format from the code \n",
    "* **text/template** and **html/template** packages provide a mechanism for substituting the values of variables into a text or HTML template "
   ]
  },
  {
   "cell_type": "markdown",
   "id": "7c070468",
   "metadata": {
    "slideshow": {
     "slide_type": "subslide"
    }
   },
   "source": [
    "* template is a string or file containing one or more portions enclosed in double braces, {{...}}, called actions\n",
    "* Each action contains an expression in the template language\n",
    "  * Printing values\n",
    "  * Selecting struct fields\n",
    "  * Calling functions and methods\n",
    "  * Control flow such as if-else, range, and instantiating other templates"
   ]
  },
  {
   "cell_type": "code",
   "execution_count": 50,
   "id": "ac9652b5",
   "metadata": {
    "slideshow": {
     "slide_type": "fragment"
    }
   },
   "outputs": [
    {
     "name": "stdout",
     "output_type": "stream",
     "text": [
      "{{.TotalCount}} issues:\n",
      "{{range .Items}}----------------------------------------\n",
      "Number: {{.Number}}\n",
      "User:   {{.User.Login}}\n",
      "Title:  {{.Title | printf \"%.64s\"}}\n",
      "Age:    {{.CreatedAt | daysAgo}} days\n",
      "{{end}}\n"
     ]
    }
   ],
   "source": [
    "// template\n",
    "import \"fmt\"\n",
    "const templ = `{{.TotalCount}} issues:\n",
    "{{range .Items}}----------------------------------------\n",
    "Number: {{.Number}}\n",
    "User:   {{.User.Login}}\n",
    "Title:  {{.Title | printf \"%.64s\"}}\n",
    "Age:    {{.CreatedAt | daysAgo}} days\n",
    "{{end}}`\n",
    "%%\n",
    "fmt.Println(templ)"
   ]
  },
  {
   "cell_type": "code",
   "execution_count": 52,
   "id": "a2f385c4",
   "metadata": {
    "slideshow": {
     "slide_type": "fragment"
    }
   },
   "outputs": [
    {
     "name": "stdout",
     "output_type": "stream",
     "text": [
      "&{\"report\" %!q(*parse.Tree=&{report report 0x1400009ad50 0 {{.TotalCount}} issues:\n",
      "{{range .Items}}----------------------------------------\n",
      "Number: {{.Number}}\n",
      "User:   {{.User.Login}}\n",
      "Title:  {{.Title | printf \"%.64s\"}}\n",
      "Age:    {{.CreatedAt | daysAgo}} days\n",
      "{{end}} [] <nil> [{8 206  7} {11 24 {{ 2} {0 0  0}] 1 [] map[] 0 0}) %!q(*template.common=&{map[report:0x140000d81c0] {{0 0} 0 0 0 0} {0} {{0 0} 0 0 0 0} map[daysAgo:0x104272d50] map[daysAgo:{0x1042e0340 0x10430cd08 19}]}) \"\" \"\"}\n"
     ]
    }
   ],
   "source": [
    "//Parse the template into a suitable internal represntation\n",
    "import (\"time\";\"text/template\";\"os\")\n",
    "func daysAgo(t time.Time) int {\n",
    "    return int(time.Since(t).Hours()/24)\n",
    "}\n",
    "%%\n",
    "report, err := template.New(\"report\").\n",
    "   Funcs(template.FuncMap{\"daysAgo\": daysAgo}).\n",
    "   Parse(templ)\n",
    "if (err != nil) {\n",
    "    fmt.Fprintln(os.Stderr,\"error\")\n",
    "} else {\n",
    "    fmt.Printf(\"%q\\n\",report)\n",
    "}"
   ]
  },
  {
   "cell_type": "code",
   "execution_count": 54,
   "id": "dd2031b1",
   "metadata": {
    "slideshow": {
     "slide_type": "subslide"
    }
   },
   "outputs": [
    {
     "name": "stdout",
     "output_type": "stream",
     "text": [
      "&{85 [0x140000c8af0 0x140000c8b60 0x140000c8bd0 0x140000c8c40 0x140000c8cb0 0x140000c8d20 0x140000c8d90 0x140000c8e00 0x140000c8e70 0x140000c8f50 0x140000c8fc0 0x140000c9030 0x140000c90a0 0x140000c9110 0x140000c9180 0x140000c91f0 0x140000c9260 0x140000c92d0 0x140000c9340 0x140000c93b0 0x140000c9420 0x140000c9490 0x140000c9500 0x140000c9570 0x140000c95e0 0x140000c9650 0x140000c96c0 0x140000c9730 0x140000c97a0 0x140000c9810]}\n",
      "85 issues:\n",
      "----------------------------------------\n",
      "Number: 48298\n",
      "User:   dsnet\n",
      "Title:  encoding/json: add Decoder.DisallowDuplicateFields\n",
      "Age:    760 days\n",
      "----------------------------------------\n",
      "Number: 11046\n",
      "User:   kurin\n",
      "Title:  encoding/json: Decoder internally buffers full input\n",
      "Age:    3050 days\n",
      "----------------------------------------\n",
      "Number: 36225\n",
      "User:   dsnet\n",
      "Title:  encoding/json: the Decoder.Decode API lends itself to misuse\n",
      "Age:    1390 days\n",
      "----------------------------------------\n",
      "Number: 56733\n",
      "User:   rolandshoemaker\n",
      "Title:  encoding/json: add (*Decoder).SetLimit\n",
      "Age:    329 days\n",
      "----------------------------------------\n",
      "Number: 61627\n",
      "User:   nabice\n",
      "Title:  x/tools/gopls: The rename command line may accept identifiers in\n",
      "Age:    74 days\n",
      "----------------------------------------\n",
      "Number: 40128\n",
      "User:   rogpeppe\n",
      "Title:  proposal: encoding/json: garbage-free reading of tokens\n",
      "Age:    1188 days\n",
      "----------------------------------------\n",
      "Number: 29035\n",
      "User:   jaswdr\n",
      "Title:  proposal: encoding/json: add error var to compare  the returned \n",
      "Age:    1775 days\n",
      "----------------------------------------\n",
      "Number: 41144\n",
      "User:   alvaroaleman\n",
      "Title:  encoding/json: Unmarshaler breaks DisallowUnknownFields\n",
      "Age:    1134 days\n",
      "----------------------------------------\n",
      "Number: 5901\n",
      "User:   rsc\n",
      "Title:  encoding/json: allow per-Encoder/per-Decoder registration of mar\n",
      "Age:    3736 days\n",
      "----------------------------------------\n",
      "Number: 42571\n",
      "User:   dsnet\n",
      "Title:  encoding/json: clarify Decoder.InputOffset semantics\n",
      "Age:    1061 days\n",
      "----------------------------------------\n",
      "Number: 40127\n",
      "User:   rogpeppe\n",
      "Title:  encoding/json: add Encoder.EncodeToken method\n",
      "Age:    1188 days\n",
      "----------------------------------------\n",
      "Number: 14750\n",
      "User:   cyberphone\n",
      "Title:  encoding/json: parser ignores the case of member names\n",
      "Age:    2770 days\n",
      "----------------------------------------\n",
      "Number: 43716\n",
      "User:   ggaaooppeenngg\n",
      "Title:  encoding/json: increment byte counter when using decoder.Token\n",
      "Age:    998 days\n",
      "----------------------------------------\n",
      "Number: 34543\n",
      "User:   maxatome\n",
      "Title:  encoding/json: Unmarshal & json.(*Decoder).Token report differen\n",
      "Age:    1475 days\n",
      "----------------------------------------\n",
      "Number: 59053\n",
      "User:   joerdav\n",
      "Title:  proposal: encoding/json: add a generic Decode function\n",
      "Age:    208 days\n",
      "----------------------------------------\n",
      "Number: 32779\n",
      "User:   rsc\n",
      "Title:  encoding/json: memoize strings during decode\n",
      "Age:    1567 days\n",
      "----------------------------------------\n",
      "Number: 48950\n",
      "User:   AlexanderYastrebov\n",
      "Title:  encoding/json: calculate correct SyntaxError.Offset in the strea\n",
      "Age:    726 days\n",
      "----------------------------------------\n",
      "Number: 31701\n",
      "User:   lr1980\n",
      "Title:  encoding/json: second decode after error impossible\n",
      "Age:    1627 days\n",
      "----------------------------------------\n",
      "Number: 33714\n",
      "User:   flimzy\n",
      "Title:  proposal: encoding/json: Opt-in for true streaming support\n",
      "Age:    1513 days\n",
      "----------------------------------------\n",
      "Number: 7872\n",
      "User:   extemporalgenome\n",
      "Title:  encoding/json: Encoder internally buffers full output\n",
      "Age:    3453 days\n",
      "----------------------------------------\n",
      "Number: 6647\n",
      "User:   btracey\n",
      "Title:  x/tools/cmd/godoc: display type kind of each named type\n",
      "Age:    3638 days\n",
      "----------------------------------------\n",
      "Number: 22533\n",
      "User:   ibrt\n",
      "Title:  proposal: encoding/json: preserve unknown fields\n",
      "Age:    2168 days\n",
      "----------------------------------------\n",
      "Number: 40982\n",
      "User:   Segflow\n",
      "Title:  encoding/json: use different error type for unknown field if the\n",
      "Age:    1143 days\n",
      "----------------------------------------\n",
      "Number: 43513\n",
      "User:   AlexanderYastrebov\n",
      "Title:  encoding/json: add line number to SyntaxError\n",
      "Age:    1008 days\n",
      "----------------------------------------\n",
      "Number: 16212\n",
      "User:   josharian\n",
      "Title:  encoding/json: do all reflect work before decoding\n",
      "Age:    2658 days\n",
      "----------------------------------------\n",
      "Number: 22480\n",
      "User:   blixt\n",
      "Title:  proposal: encoding/json: add omitnil option\n",
      "Age:    2172 days\n",
      "----------------------------------------\n",
      "Number: 56332\n",
      "User:   gansvv\n",
      "Title:  encoding/json: clearer error message for boolean like prefix in \n",
      "Age:    355 days\n",
      "----------------------------------------\n",
      "Number: 33854\n",
      "User:   Qhesz\n",
      "Title:  encoding/json: unmarshal option to treat omitted fields as null\n",
      "Age:    1505 days\n",
      "----------------------------------------\n",
      "Number: 34564\n",
      "User:   mdempsky\n",
      "Title:  go/internal/gcimporter: single source of truth for decoder logic\n",
      "Age:    1474 days\n",
      "----------------------------------------\n",
      "Number: 58649\n",
      "User:   nabokihms\n",
      "Title:  encoding/json: show nested fields path if DisallowUnknownFields \n",
      "Age:    229 days\n"
     ]
    }
   ],
   "source": [
    "// Template fixed at compile time and template.Must handle the error condition\n",
    "import (\"log\";\"os\";\"text/template\";\"time\";\"gopl.io/ch4/github\")\n",
    "const templ = `{{.TotalCount}} issues:\n",
    "{{range .Items}}----------------------------------------\n",
    "Number: {{.Number}}\n",
    "User:   {{.User.Login}}\n",
    "Title:  {{.Title | printf \"%.64s\"}}\n",
    "Age:    {{.CreatedAt | daysAgo}} days\n",
    "{{end}}`\n",
    "\n",
    "func daysAgo(t time.Time) int {\n",
    "\treturn int(time.Since(t).Hours() / 24)\n",
    "}\n",
    "\n",
    "var report = template.Must(template.New(\"issuelist\").\n",
    "\tFuncs(template.FuncMap{\"daysAgo\": daysAgo}).\n",
    "\tParse(templ))\n",
    "%args repo:golang/go is:open json decoder\n",
    "func main() {\n",
    "\tresult, err := github.SearchIssues(os.Args[1:])\n",
    "    //result, err := SearchIssues(os.Args[1:])\n",
    "\tif err != nil {\n",
    "\t\tlog.Fatal(err)\n",
    "\t}\n",
    "    fmt.Printf(\"%v\\n\",result)\n",
    "\tif err := report.Execute(os.Stdout, result); err != nil {\n",
    "\t\tlog.Fatal(err)\n",
    "\t}\n",
    "}\n"
   ]
  },
  {
   "cell_type": "code",
   "execution_count": 55,
   "id": "11fbdd5c",
   "metadata": {
    "slideshow": {
     "slide_type": "subslide"
    }
   },
   "outputs": [],
   "source": [
    "// not handle error, if parse error, exceptions occur\n",
    "func noMust() {\n",
    "\t//!+parse\n",
    "\treport, err := template.New(\"report\").\n",
    "\t\tFuncs(template.FuncMap{\"daysAgo\": daysAgo}).\n",
    "\t\tParse(templ)\n",
    "\tif err != nil {\n",
    "\t\tlog.Fatal(err)\n",
    "\t}\n",
    "\t//!-parse\n",
    "\t//result, err := github.SearchIssues(os.Args[1:])\n",
    "    result, err := SearchIssues(os.Args[1:])\n",
    "\tif err != nil {\n",
    "\t\tlog.Fatal(err)\n",
    "\t}\n",
    "\tif err := report.Execute(os.Stdout, result); err != nil {\n",
    "\t\tlog.Fatal(err)\n",
    "\t}\n",
    "}"
   ]
  },
  {
   "cell_type": "markdown",
   "id": "af11ff81",
   "metadata": {
    "slideshow": {
     "slide_type": "subslide"
    }
   },
   "source": [
    "* html/template use the same API and expression language as text/template\n",
    "* with HTML, JavaScript, CSS, or URLs"
   ]
  },
  {
   "cell_type": "code",
   "execution_count": 56,
   "id": "dbdbd4f1",
   "metadata": {
    "slideshow": {
     "slide_type": "subslide"
    }
   },
   "outputs": [],
   "source": [
    "//gopl.io/ch4/issueshtml\n",
    "import (\"log\";\"os\";\"gopl.io/ch4/github\";\"html/template\")\n",
    "var issueList = template.Must(template.New(\"issuelist\").Parse(`\n",
    "<h1>{{.TotalCount}} issues</h1>\n",
    "<table border=1>\n",
    "<tr style='text-align: left'>\n",
    "  <th>#</th>\n",
    "  <th>State</th>\n",
    "  <th>User</th>\n",
    "  <th>Title</th>\n",
    "</tr>\n",
    "{{range .Items}}\n",
    "<tr>\n",
    "  <td><a href='{{.HTMLURL}}'>{{.Number}}</a></td>\n",
    "  <td>{{.State}}</td>\n",
    "  <td><a href='{{.User.HTMLURL}}'>{{.User.Login}}</a></td>\n",
    "  <td><a href='{{.HTMLURL}}'>{{.Title}}</a></td>\n",
    "</tr>\n",
    "{{end}}\n",
    "</table>\n",
    "`))"
   ]
  },
  {
   "cell_type": "code",
   "execution_count": 57,
   "id": "071bf759",
   "metadata": {
    "slideshow": {
     "slide_type": "fragment"
    }
   },
   "outputs": [
    {
     "name": "stdout",
     "output_type": "stream",
     "text": [
      "\n",
      "<h1>85 issues</h1>\n",
      "<table border=1>\n",
      "<tr style='text-align: left'>\n",
      "  <th>#</th>\n",
      "  <th>State</th>\n",
      "  <th>User</th>\n",
      "  <th>Title</th>\n",
      "</tr>\n",
      "\n",
      "<tr>\n",
      "  <td><a href='https://github.com/golang/go/issues/48298'>48298</a></td>\n",
      "  <td>open</td>\n",
      "  <td><a href='https://github.com/dsnet'>dsnet</a></td>\n",
      "  <td><a href='https://github.com/golang/go/issues/48298'>encoding/json: add Decoder.DisallowDuplicateFields</a></td>\n",
      "</tr>\n",
      "\n",
      "<tr>\n",
      "  <td><a href='https://github.com/golang/go/issues/11046'>11046</a></td>\n",
      "  <td>open</td>\n",
      "  <td><a href='https://github.com/kurin'>kurin</a></td>\n",
      "  <td><a href='https://github.com/golang/go/issues/11046'>encoding/json: Decoder internally buffers full input</a></td>\n",
      "</tr>\n",
      "\n",
      "<tr>\n",
      "  <td><a href='https://github.com/golang/go/issues/36225'>36225</a></td>\n",
      "  <td>open</td>\n",
      "  <td><a href='https://github.com/dsnet'>dsnet</a></td>\n",
      "  <td><a href='https://github.com/golang/go/issues/36225'>encoding/json: the Decoder.Decode API lends itself to misuse</a></td>\n",
      "</tr>\n",
      "\n",
      "<tr>\n",
      "  <td><a href='https://github.com/golang/go/issues/56733'>56733</a></td>\n",
      "  <td>open</td>\n",
      "  <td><a href='https://github.com/rolandshoemaker'>rolandshoemaker</a></td>\n",
      "  <td><a href='https://github.com/golang/go/issues/56733'>encoding/json: add (*Decoder).SetLimit</a></td>\n",
      "</tr>\n",
      "\n",
      "<tr>\n",
      "  <td><a href='https://github.com/golang/go/issues/61627'>61627</a></td>\n",
      "  <td>open</td>\n",
      "  <td><a href='https://github.com/nabice'>nabice</a></td>\n",
      "  <td><a href='https://github.com/golang/go/issues/61627'>x/tools/gopls: The rename command line may accept identifiers instead of positions, like gorename</a></td>\n",
      "</tr>\n",
      "\n",
      "<tr>\n",
      "  <td><a href='https://github.com/golang/go/issues/40128'>40128</a></td>\n",
      "  <td>open</td>\n",
      "  <td><a href='https://github.com/rogpeppe'>rogpeppe</a></td>\n",
      "  <td><a href='https://github.com/golang/go/issues/40128'>proposal: encoding/json: garbage-free reading of tokens</a></td>\n",
      "</tr>\n",
      "\n",
      "<tr>\n",
      "  <td><a href='https://github.com/golang/go/issues/29035'>29035</a></td>\n",
      "  <td>open</td>\n",
      "  <td><a href='https://github.com/jaswdr'>jaswdr</a></td>\n",
      "  <td><a href='https://github.com/golang/go/issues/29035'>proposal: encoding/json: add error var to compare  the returned error when using json.Decoder.DisallowUnknownFields()</a></td>\n",
      "</tr>\n",
      "\n",
      "<tr>\n",
      "  <td><a href='https://github.com/golang/go/issues/41144'>41144</a></td>\n",
      "  <td>open</td>\n",
      "  <td><a href='https://github.com/alvaroaleman'>alvaroaleman</a></td>\n",
      "  <td><a href='https://github.com/golang/go/issues/41144'>encoding/json: Unmarshaler breaks DisallowUnknownFields</a></td>\n",
      "</tr>\n",
      "\n",
      "<tr>\n",
      "  <td><a href='https://github.com/golang/go/issues/5901'>5901</a></td>\n",
      "  <td>open</td>\n",
      "  <td><a href='https://github.com/rsc'>rsc</a></td>\n",
      "  <td><a href='https://github.com/golang/go/issues/5901'>encoding/json: allow per-Encoder/per-Decoder registration of marshal/unmarshal functions</a></td>\n",
      "</tr>\n",
      "\n",
      "<tr>\n",
      "  <td><a href='https://github.com/golang/go/issues/42571'>42571</a></td>\n",
      "  <td>open</td>\n",
      "  <td><a href='https://github.com/dsnet'>dsnet</a></td>\n",
      "  <td><a href='https://github.com/golang/go/issues/42571'>encoding/json: clarify Decoder.InputOffset semantics</a></td>\n",
      "</tr>\n",
      "\n",
      "<tr>\n",
      "  <td><a href='https://github.com/golang/go/issues/40127'>40127</a></td>\n",
      "  <td>open</td>\n",
      "  <td><a href='https://github.com/rogpeppe'>rogpeppe</a></td>\n",
      "  <td><a href='https://github.com/golang/go/issues/40127'>encoding/json: add Encoder.EncodeToken method</a></td>\n",
      "</tr>\n",
      "\n",
      "<tr>\n",
      "  <td><a href='https://github.com/golang/go/issues/14750'>14750</a></td>\n",
      "  <td>open</td>\n",
      "  <td><a href='https://github.com/cyberphone'>cyberphone</a></td>\n",
      "  <td><a href='https://github.com/golang/go/issues/14750'>encoding/json: parser ignores the case of member names</a></td>\n",
      "</tr>\n",
      "\n",
      "<tr>\n",
      "  <td><a href='https://github.com/golang/go/pull/43716'>43716</a></td>\n",
      "  <td>open</td>\n",
      "  <td><a href='https://github.com/ggaaooppeenngg'>ggaaooppeenngg</a></td>\n",
      "  <td><a href='https://github.com/golang/go/pull/43716'>encoding/json: increment byte counter when using decoder.Token</a></td>\n",
      "</tr>\n",
      "\n",
      "<tr>\n",
      "  <td><a href='https://github.com/golang/go/issues/34543'>34543</a></td>\n",
      "  <td>open</td>\n",
      "  <td><a href='https://github.com/maxatome'>maxatome</a></td>\n",
      "  <td><a href='https://github.com/golang/go/issues/34543'>encoding/json: Unmarshal &amp; json.(*Decoder).Token report different values for SyntaxError.Offset for the same input</a></td>\n",
      "</tr>\n",
      "\n",
      "<tr>\n",
      "  <td><a href='https://github.com/golang/go/issues/59053'>59053</a></td>\n",
      "  <td>open</td>\n",
      "  <td><a href='https://github.com/joerdav'>joerdav</a></td>\n",
      "  <td><a href='https://github.com/golang/go/issues/59053'>proposal: encoding/json: add a generic Decode function</a></td>\n",
      "</tr>\n",
      "\n",
      "<tr>\n",
      "  <td><a href='https://github.com/golang/go/issues/32779'>32779</a></td>\n",
      "  <td>open</td>\n",
      "  <td><a href='https://github.com/rsc'>rsc</a></td>\n",
      "  <td><a href='https://github.com/golang/go/issues/32779'>encoding/json: memoize strings during decode</a></td>\n",
      "</tr>\n",
      "\n",
      "<tr>\n",
      "  <td><a href='https://github.com/golang/go/pull/48950'>48950</a></td>\n",
      "  <td>open</td>\n",
      "  <td><a href='https://github.com/AlexanderYastrebov'>AlexanderYastrebov</a></td>\n",
      "  <td><a href='https://github.com/golang/go/pull/48950'>encoding/json: calculate correct SyntaxError.Offset in the stream</a></td>\n",
      "</tr>\n",
      "\n",
      "<tr>\n",
      "  <td><a href='https://github.com/golang/go/issues/31701'>31701</a></td>\n",
      "  <td>open</td>\n",
      "  <td><a href='https://github.com/lr1980'>lr1980</a></td>\n",
      "  <td><a href='https://github.com/golang/go/issues/31701'>encoding/json: second decode after error impossible</a></td>\n",
      "</tr>\n",
      "\n",
      "<tr>\n",
      "  <td><a href='https://github.com/golang/go/issues/33714'>33714</a></td>\n",
      "  <td>open</td>\n",
      "  <td><a href='https://github.com/flimzy'>flimzy</a></td>\n",
      "  <td><a href='https://github.com/golang/go/issues/33714'>proposal: encoding/json: Opt-in for true streaming support</a></td>\n",
      "</tr>\n",
      "\n",
      "<tr>\n",
      "  <td><a href='https://github.com/golang/go/issues/7872'>7872</a></td>\n",
      "  <td>open</td>\n",
      "  <td><a href='https://github.com/extemporalgenome'>extemporalgenome</a></td>\n",
      "  <td><a href='https://github.com/golang/go/issues/7872'>encoding/json: Encoder internally buffers full output</a></td>\n",
      "</tr>\n",
      "\n",
      "<tr>\n",
      "  <td><a href='https://github.com/golang/go/issues/6647'>6647</a></td>\n",
      "  <td>open</td>\n",
      "  <td><a href='https://github.com/btracey'>btracey</a></td>\n",
      "  <td><a href='https://github.com/golang/go/issues/6647'>x/tools/cmd/godoc: display type kind of each named type</a></td>\n",
      "</tr>\n",
      "\n",
      "<tr>\n",
      "  <td><a href='https://github.com/golang/go/issues/22533'>22533</a></td>\n",
      "  <td>open</td>\n",
      "  <td><a href='https://github.com/ibrt'>ibrt</a></td>\n",
      "  <td><a href='https://github.com/golang/go/issues/22533'>proposal: encoding/json: preserve unknown fields</a></td>\n",
      "</tr>\n",
      "\n",
      "<tr>\n",
      "  <td><a href='https://github.com/golang/go/issues/40982'>40982</a></td>\n",
      "  <td>open</td>\n",
      "  <td><a href='https://github.com/Segflow'>Segflow</a></td>\n",
      "  <td><a href='https://github.com/golang/go/issues/40982'>encoding/json: use different error type for unknown field if they are disallowed </a></td>\n",
      "</tr>\n",
      "\n",
      "<tr>\n",
      "  <td><a href='https://github.com/golang/go/issues/43513'>43513</a></td>\n",
      "  <td>open</td>\n",
      "  <td><a href='https://github.com/AlexanderYastrebov'>AlexanderYastrebov</a></td>\n",
      "  <td><a href='https://github.com/golang/go/issues/43513'>encoding/json: add line number to SyntaxError</a></td>\n",
      "</tr>\n",
      "\n",
      "<tr>\n",
      "  <td><a href='https://github.com/golang/go/issues/16212'>16212</a></td>\n",
      "  <td>open</td>\n",
      "  <td><a href='https://github.com/josharian'>josharian</a></td>\n",
      "  <td><a href='https://github.com/golang/go/issues/16212'>encoding/json: do all reflect work before decoding</a></td>\n",
      "</tr>\n",
      "\n",
      "<tr>\n",
      "  <td><a href='https://github.com/golang/go/issues/22480'>22480</a></td>\n",
      "  <td>open</td>\n",
      "  <td><a href='https://github.com/blixt'>blixt</a></td>\n",
      "  <td><a href='https://github.com/golang/go/issues/22480'>proposal: encoding/json: add omitnil option</a></td>\n",
      "</tr>\n",
      "\n",
      "<tr>\n",
      "  <td><a href='https://github.com/golang/go/issues/56332'>56332</a></td>\n",
      "  <td>open</td>\n",
      "  <td><a href='https://github.com/gansvv'>gansvv</a></td>\n",
      "  <td><a href='https://github.com/golang/go/issues/56332'>encoding/json: clearer error message for boolean like prefix in invalid json strings</a></td>\n",
      "</tr>\n",
      "\n",
      "<tr>\n",
      "  <td><a href='https://github.com/golang/go/issues/33854'>33854</a></td>\n",
      "  <td>open</td>\n",
      "  <td><a href='https://github.com/Qhesz'>Qhesz</a></td>\n",
      "  <td><a href='https://github.com/golang/go/issues/33854'>encoding/json: unmarshal option to treat omitted fields as null</a></td>\n",
      "</tr>\n",
      "\n",
      "<tr>\n",
      "  <td><a href='https://github.com/golang/go/issues/34564'>34564</a></td>\n",
      "  <td>open</td>\n",
      "  <td><a href='https://github.com/mdempsky'>mdempsky</a></td>\n",
      "  <td><a href='https://github.com/golang/go/issues/34564'>go/internal/gcimporter: single source of truth for decoder logic</a></td>\n",
      "</tr>\n",
      "\n",
      "<tr>\n",
      "  <td><a href='https://github.com/golang/go/issues/58649'>58649</a></td>\n",
      "  <td>open</td>\n",
      "  <td><a href='https://github.com/nabokihms'>nabokihms</a></td>\n",
      "  <td><a href='https://github.com/golang/go/issues/58649'>encoding/json: show nested fields path if DisallowUnknownFields leads to an error</a></td>\n",
      "</tr>\n",
      "\n",
      "</table>\n"
     ]
    }
   ],
   "source": [
    "%args repo:golang/go is:open json decoder\n",
    "\n",
    "func main() {\n",
    "\t//result, err := SearchIssues(os.Args[1:])\n",
    "    result, err := github.SearchIssues(os.Args[1:])\n",
    "\tif err != nil {\n",
    "\t\tlog.Fatal(err)\n",
    "\t}\n",
    "\tif err := issueList.Execute(os.Stdout, result); err != nil {\n",
    "\t\tlog.Fatal(err)\n",
    "\t}\n",
    "}"
   ]
  },
  {
   "cell_type": "markdown",
   "id": "27eeceb8",
   "metadata": {
    "slideshow": {
     "slide_type": "subslide"
    }
   },
   "source": [
    "* [issues.html](http://skhuang.github.io/ch4/issues.html)\n",
    "<code>\n",
    "$ go build gopl.io/ch4/issueshtml\n",
    "$ ./issueshtml repo:golang/go commenter:gopherbot json encoder >issues.html\n",
    "</code>"
   ]
  },
  {
   "cell_type": "code",
   "execution_count": 59,
   "id": "bc837f08",
   "metadata": {
    "slideshow": {
     "slide_type": "fragment"
    }
   },
   "outputs": [
    {
     "name": "stdout",
     "output_type": "stream",
     "text": [
      "\n",
      "<h1>3 issues</h1>\n",
      "<table border=1>\n",
      "<tr style='text-align: left'>\n",
      "  <th>#</th>\n",
      "  <th>State</th>\n",
      "  <th>User</th>\n",
      "  <th>Title</th>\n",
      "</tr>\n",
      "\n",
      "<tr>\n",
      "  <td><a href='https://github.com/golang/go/issues/10535'>10535</a></td>\n",
      "  <td>open</td>\n",
      "  <td><a href='https://github.com/dvyukov'>dvyukov</a></td>\n",
      "  <td><a href='https://github.com/golang/go/issues/10535'>x/net/html: void element &lt;link&gt; has child nodes</a></td>\n",
      "</tr>\n",
      "\n",
      "<tr>\n",
      "  <td><a href='https://github.com/golang/go/issues/3133'>3133</a></td>\n",
      "  <td>closed</td>\n",
      "  <td><a href='https://github.com/ukai'>ukai</a></td>\n",
      "  <td><a href='https://github.com/golang/go/issues/3133'>html/template: escape xmldesc as &amp;lt;?xml</a></td>\n",
      "</tr>\n",
      "\n",
      "<tr>\n",
      "  <td><a href='https://github.com/golang/go/issues/47148'>47148</a></td>\n",
      "  <td>closed</td>\n",
      "  <td><a href='https://github.com/dmitshur'>dmitshur</a></td>\n",
      "  <td><a href='https://github.com/golang/go/issues/47148'>all: Go 1.15.14 release status</a></td>\n",
      "</tr>\n",
      "\n",
      "</table>\n"
     ]
    }
   ],
   "source": [
    "//os.Args = []string{\"issuehtml\",\"repo:golang/go\",\"3133\",\"10535\"}\n",
    "%args repo:golang/go 3133 10535\n",
    "func main() {\n",
    "\t//result, err := SearchIssues(os.Args[1:])\n",
    "    result, err := github.SearchIssues(os.Args[1:])\n",
    "\tif err != nil {\n",
    "\t\tlog.Fatal(err)\n",
    "\t}\n",
    "\tif err := issueList.Execute(os.Stdout, result); err != nil {\n",
    "\t\tlog.Fatal(err)\n",
    "\t}\n",
    "}"
   ]
  },
  {
   "cell_type": "markdown",
   "id": "52646422",
   "metadata": {
    "slideshow": {
     "slide_type": "fragment"
    }
   },
   "source": [
    "[issues2.html](https://skhuang.github.io/ch4/issues2.html)\n",
    "<code>\n",
    "$ ./issueshtml repo:golang/go 3133 10535 >issues2.html\n",
    "</code>"
   ]
  },
  {
   "cell_type": "code",
   "execution_count": 61,
   "id": "03415266",
   "metadata": {
    "slideshow": {
     "slide_type": "subslide"
    }
   },
   "outputs": [
    {
     "name": "stdout",
     "output_type": "stream",
     "text": [
      "struct { A string; B template.HTML }\n",
      "<p>A: &lt;b&gt;Hello!&lt;/b&gt;</p><p>B: <b>Hello!</b></p>"
     ]
    }
   ],
   "source": [
    "//gopl.io/ch4/autoescape\n",
    "import (\"fmt\";\"html/template\";\"log\";\"os\")\n",
    "\n",
    "//!+\n",
    "func main() {\n",
    "\tconst templ = `<p>A: {{.A}}</p><p>B: {{.B}}</p>`\n",
    "\tt := template.Must(template.New(\"escape\").Parse(templ))\n",
    "\tvar data struct {\n",
    "\t\tA string        // untrusted plain text, will be escaped \n",
    "\t\tB template.HTML // trusted HTML, preseve the markup\n",
    "\t}\n",
    "    fmt.Printf(\"%T\\n\",data)\n",
    "    data.A = \"<b>Hello!</b>\"\n",
    "    data.B =\"<b>Hello!</b>\"\n",
    "    //var  b template.HTML= template.HTML(\"test\")\n",
    "\tif err := t.Execute(os.Stdout, data); err != nil {\n",
    "\t\tlog.Fatal(err)\n",
    "\t}\n",
    "}\n"
   ]
  },
  {
   "cell_type": "markdown",
   "id": "8c9fcb42",
   "metadata": {
    "slideshow": {
     "slide_type": "subslide"
    }
   },
   "source": [
    "[autoescape.html](http://skhuang.github.io/ch4/autoescape.html)"
   ]
  },
  {
   "cell_type": "markdown",
   "id": "31471bf6",
   "metadata": {
    "slideshow": {
     "slide_type": "subslide"
    }
   },
   "source": [
    "* for more information: \n",
    "<code>\n",
    "$ go doc text/template\n",
    "$ go doc html/template\n",
    "</code>"
   ]
  }
 ],
 "metadata": {
  "celltoolbar": "Slideshow",
  "kernelspec": {
   "display_name": "Go (gonb)",
   "language": "go",
   "name": "gonb"
  },
  "language_info": {
   "codemirror_mode": "",
   "file_extension": ".go",
   "mimetype": "",
   "name": "go",
   "nbconvert_exporter": "",
   "pygments_lexer": "",
   "version": "go1.21.1"
  },
  "rise": {
   "enable_chalkboard": true,
   "scroll": true
  },
  "toc": {
   "base_numbering": 1,
   "nav_menu": {},
   "number_sections": false,
   "sideBar": true,
   "skip_h1_title": false,
   "title_cell": "Table of Contents",
   "title_sidebar": "Contents",
   "toc_cell": true,
   "toc_position": {},
   "toc_section_display": true,
   "toc_window_display": false
  }
 },
 "nbformat": 4,
 "nbformat_minor": 5
}
