{
 "cells": [
  {
   "cell_type": "markdown",
   "metadata": {
    "slideshow": {
     "slide_type": "skip"
    },
    "toc": true
   },
   "source": [
    "<h1>Table of Contents<span class=\"tocSkip\"></span></h1>\n",
    "<div class=\"toc\"><ul class=\"toc-item\"><li><span><a href=\"#Methods\" data-toc-modified-id=\"Methods-6\"><span class=\"toc-item-num\">6&nbsp;&nbsp;</span>Methods</a></span><ul class=\"toc-item\"><li><span><a href=\"#Method-Declarations\" data-toc-modified-id=\"Method-Declarations-6.1\"><span class=\"toc-item-num\">6.1&nbsp;&nbsp;</span>Method Declarations</a></span></li><li><span><a href=\"#Methods-with-a-Pointer-Receiver\" data-toc-modified-id=\"Methods-with-a-Pointer-Receiver-6.2\"><span class=\"toc-item-num\">6.2&nbsp;&nbsp;</span>Methods with a Pointer Receiver</a></span><ul class=\"toc-item\"><li><span><a href=\"#Nil-is-a-Valid-Receiver-Value\" data-toc-modified-id=\"Nil-is-a-Valid-Receiver-Value-6.2.1\"><span class=\"toc-item-num\">6.2.1&nbsp;&nbsp;</span>Nil is a Valid Receiver Value</a></span></li></ul></li><li><span><a href=\"#Composing-Types-by-Struct-Embedding\" data-toc-modified-id=\"Composing-Types-by-Struct-Embedding-6.3\"><span class=\"toc-item-num\">6.3&nbsp;&nbsp;</span>Composing Types by Struct Embedding</a></span></li><li><span><a href=\"#Method-Values-and-Expressions\" data-toc-modified-id=\"Method-Values-and-Expressions-6.4\"><span class=\"toc-item-num\">6.4&nbsp;&nbsp;</span>Method Values and Expressions</a></span><ul class=\"toc-item\"><li><span><a href=\"#Mehtod-expression\" data-toc-modified-id=\"Mehtod-expression-6.4.1\"><span class=\"toc-item-num\">6.4.1&nbsp;&nbsp;</span>Mehtod expression</a></span></li></ul></li><li><span><a href=\"#Example:-Bit-Vector-Type\" data-toc-modified-id=\"Example:-Bit-Vector-Type-6.5\"><span class=\"toc-item-num\">6.5&nbsp;&nbsp;</span>Example: Bit Vector Type</a></span></li><li><span><a href=\"#Encapsulation\" data-toc-modified-id=\"Encapsulation-6.6\"><span class=\"toc-item-num\">6.6&nbsp;&nbsp;</span>Encapsulation</a></span><ul class=\"toc-item\"><li><span><a href=\"#Advantages-of-Encapsulation\" data-toc-modified-id=\"Advantages-of-Encapsulation-6.6.1\"><span class=\"toc-item-num\">6.6.1&nbsp;&nbsp;</span>Advantages of Encapsulation</a></span></li></ul></li></ul></li></ul></div>"
   ]
  },
  {
   "cell_type": "markdown",
   "metadata": {
    "slideshow": {
     "slide_type": "slide"
    }
   },
   "source": [
    "# Methods"
   ]
  },
  {
   "cell_type": "markdown",
   "metadata": {
    "slideshow": {
     "slide_type": "fragment"
    }
   },
   "source": [
    "* Object-oriente programming (OOP) \n",
    "  * an object: a value or variable with methods\n",
    "  * a method: a function associated with a particular type\n",
    "* OO program uses methods to express the properties and operations of each data structure \n",
    "  * client need not access the object's representation directly"
   ]
  },
  {
   "cell_type": "markdown",
   "metadata": {
    "slideshow": {
     "slide_type": "subslide"
    }
   },
   "source": [
    "* Example use of methods\n",
    "  * Seconds method of type time.Duration \n",
    "  * **String** method for the **Celsius** type"
   ]
  },
  {
   "cell_type": "code",
   "execution_count": 14,
   "metadata": {
    "slideshow": {
     "slide_type": "fragment"
    }
   },
   "outputs": [
    {
     "name": "stdout",
     "output_type": "stream",
     "text": [
      "time.Duration\n",
      "86400\n"
     ]
    }
   ],
   "source": [
    "import (\"time\";\"fmt\")\n",
    "const day = 24 * time.Hour\n",
    "%%\n",
    "fmt.Printf(\"%T\\n\", day)\n",
    "fmt.Println(day.Seconds())"
   ]
  },
  {
   "cell_type": "code",
   "execution_count": 4,
   "metadata": {
    "slideshow": {
     "slide_type": "fragment"
    }
   },
   "outputs": [
    {
     "name": "stdout",
     "output_type": "stream",
     "text": [
      "36°C\n",
      "36°C\n",
      "36°C\n"
     ]
    }
   ],
   "source": [
    "type Celsius float32\n",
    "func (c Celsius) String() string { return fmt.Sprintf(\"%g°C\",c)}\n",
    "//func String() string { return fmt.Sprintf(\"%g°C\",c)}\n",
    "%%\n",
    "c := Celsius(36.0)\n",
    "fmt.Println(c.String())\n",
    "fmt.Printf(\"%s\\n\",c)\n",
    "fmt.Println(c)"
   ]
  },
  {
   "cell_type": "markdown",
   "metadata": {
    "slideshow": {
     "slide_type": "slide"
    }
   },
   "source": [
    "## Method Declarations\n",
    "* A method is declared with a variant of the ordinary function declaration in which an extra parameter appears before the function name\n",
    "* The parameter attaches the function to the type of that parameter"
   ]
  },
  {
   "cell_type": "code",
   "execution_count": 5,
   "metadata": {
    "code_folding": [],
    "slideshow": {
     "slide_type": "fragment"
    }
   },
   "outputs": [
    {
     "name": "stdout",
     "output_type": "stream",
     "text": [
      "3.6055512754639896\n",
      "3.6055512754639896\n"
     ]
    }
   ],
   "source": [
    "//gopl.io/ch6/geometry\n",
    "//Package geometry\n",
    "import (\"math\"\n",
    "        \"fmt\")\n",
    "type Point struct{X,Y float64}\n",
    "// tradtional function\n",
    "func Distance(p, q Point) float64 {\n",
    "    return math.Hypot(q.X-p.X, q.Y-p.Y)\n",
    "}\n",
    "// same thing, but as a method of the Point type\n",
    "func (p Point) Distance(q Point) float64 {\n",
    "    return math.Hypot(q.X-p.X, q.Y-p.Y)\n",
    "}\n",
    "%%\n",
    "p := Point{3,2}\n",
    "q := Point{6,4}\n",
    "fmt.Println(Distance(p,q)) // function call\n",
    "fmt.Println(p.Distance(q)) // method call"
   ]
  },
  {
   "cell_type": "markdown",
   "metadata": {
    "slideshow": {
     "slide_type": "subslide"
    }
   },
   "source": [
    "* The extra parameter p is called the method's receiver\n",
    "  * Calling a method is \"sending a message to an object\"\n",
    "  * We don't use *this* or *self* for the receiver\n",
    "  * We choose receiver names for any other parameter like p\n",
    "    * The receiver argument appears before the method name\n",
    "* The first is a package-level function, called geometry.Distance\n",
    "* The second is a method of type Point, Point.Distance\n",
    "  * p.Distance is called a selector, selecting the Distance method for the receiver p of type Point"
   ]
  },
  {
   "cell_type": "markdown",
   "metadata": {
    "slideshow": {
     "slide_type": "subslide"
    }
   },
   "source": [
    "* We can use Distance for other methods\n",
    "* Define a new type Path for a sequence of line segments and give it a Distance method\n",
    "<img src=\"https://raw.githubusercontent.com/skhuang/go2023/main/ch6/path.png\" width=\"300\" height=\"300\" />"
   ]
  },
  {
   "cell_type": "code",
   "execution_count": 9,
   "metadata": {
    "code_folding": [],
    "slideshow": {
     "slide_type": "fragment"
    }
   },
   "outputs": [
    {
     "name": "stdout",
     "output_type": "stream",
     "text": [
      "12\n",
      "12\n"
     ]
    }
   ],
   "source": [
    "//A Path is a journey connecting the points with straight lines\n",
    "type Path []Point\n",
    "//Distance returns the distance traveled along the path\n",
    "func PathDistance(path Path) float64 {\n",
    "    sum := 0.0\n",
    "    for i:= range path {\n",
    "        if i > 0 {\n",
    "            sum += path[i-1].Distance(path[i])\n",
    "        }\n",
    "    }\n",
    "    return sum\n",
    "}\n",
    "\n",
    "func (path Path) Distance() float64 {\n",
    "    sum := 0.0\n",
    "    for i:= range path {\n",
    "        if i > 0 {\n",
    "            sum += path[i-1].Distance(path[i])\n",
    "        }\n",
    "    }\n",
    "    return sum\n",
    "}\n",
    "%%\n",
    "perim := Path {\n",
    "    {1,1},\n",
    "    {5,1},\n",
    "    {5,4},\n",
    "    {1,1},\n",
    "}\n",
    "fmt.Println(PathDistance(perim))\n",
    "fmt.Println(perim.Distance())"
   ]
  },
  {
   "cell_type": "code",
   "execution_count": 10,
   "metadata": {
    "code_folding": [],
    "slideshow": {
     "slide_type": "fragment"
    }
   },
   "outputs": [
    {
     "name": "stdout",
     "output_type": "stream",
     "text": [
      "12\n",
      "12\n"
     ]
    }
   ],
   "source": [
    "//method of geometry.Path\n",
    "import (\n",
    " \"gopl.io/ch6/geometry\"\n",
    " \"fmt\"\n",
    ")\n",
    "%%\n",
    "perim := geometry.Path{{1,1},{5,1},{5,4},{1,1}}\n",
    "perim2 := Path{{1,1},{5,1},{5,4},{1,1}}\n",
    "fmt.Println(PathDistance(perim2))\n",
    "fmt.Println(perim.Distance())"
   ]
  },
  {
   "cell_type": "markdown",
   "metadata": {
    "slideshow": {
     "slide_type": "slide"
    }
   },
   "source": [
    "## Methods with a Pointer Receiver\n",
    "* Calling a function makes a copy of each argument value\n",
    "* If a function needs to update a variable, or if an argument is large, we must pass the address of the variable using a pointer. \n",
    "* For methods that need to update the receiver variable: we attach them to the pointer type, such as *Point."
   ]
  },
  {
   "cell_type": "code",
   "execution_count": 2,
   "metadata": {
    "code_folding": [
     19,
     34,
     38
    ],
    "slideshow": {
     "slide_type": "subslide"
    }
   },
   "outputs": [
    {
     "name": "stdout",
     "output_type": "stream",
     "text": [
      "p.ScaleBy {2 4}\n",
      "{20 <nil>}\n",
      "{2 4}\n",
      "&{7 4}\n",
      "[1]\n"
     ]
    }
   ],
   "source": [
    "import \"gopl.io/ch6/geometry\"\n",
    "import \"fmt\"\n",
    "type Point struct{X,Y float64}\n",
    "type Pint []int\n",
    "func (p *Point) ScaleBy(factor float64) {\n",
    "    p.X *= factor \n",
    "    p.Y *= factor\n",
    "}\n",
    "func (p Point) ScaleBy2(factor float64) {\n",
    "    p.X *= factor \n",
    "    p.Y *= factor\n",
    "}\n",
    "//type IntList struct{X float64}\n",
    "    //Tail *IntList\n",
    "type IntList struct {\n",
    "    Value int\n",
    "    Tail  *IntList\n",
    "}\n",
    "\n",
    "func (list *IntList) Sum() int {\n",
    "    if list == nil {\n",
    "        return 0\n",
    "    }\n",
    "    return list.Value + list.Tail.Sum()\n",
    "}\n",
    "func (p *IntList) Sum1(f int) {\n",
    "    p.Value *= f\n",
    "    //if (list == nil) {\n",
    "      //  return \n",
    "    //}\n",
    "    //return list.Value + list.Tail.Sum()\n",
    "    //tail := list.Tail\n",
    "   // return list.Value \n",
    "}\n",
    "func (c *Point) Write(p []byte) (int, error) {\n",
    "    c.X += float64(len(p))\n",
    "    return len(p), nil\n",
    "}\n",
    "func (c *Pint) Write(p []byte) (int, error) {\n",
    "    return len(p), nil\n",
    "}\n",
    "%%\n",
    "p := Point{1,2}\n",
    "p.ScaleBy(2)\n",
    "p.ScaleBy2(2)\n",
    "fmt.Println(\"p.ScaleBy\",p)\n",
    "\n",
    "p2 := IntList{10,nil}\n",
    "p2.Sum1(2)\n",
    "fmt.Println(p2)\n",
    "\n",
    "r := &Point{1,2}\n",
    "r.ScaleBy(2)\n",
    "fmt.Println(*r)\n",
    "\n",
    "r1 := Pint{1}\n",
    "pr1 := &r1\n",
    "_ = pr1\n",
    "r.Write([]byte(\"hello\"))\n",
    "r1.Write([]byte(\"hello\"))\n",
    "fmt.Println(r)\n",
    "fmt.Println(r1)"
   ]
  },
  {
   "cell_type": "markdown",
   "metadata": {
    "slideshow": {
     "slide_type": "subslide"
    }
   },
   "source": [
    "* If any method of Point has a pointer receiver, then all methods of Point should have a pointer receiver, even ones that don’t strictly need it. \n",
    "* Named types (Point) and pointers to them (*Point) are the only types that may appear in a receiver declaration. \n",
    "* method declarations are not permitted on named types that are themselves pointer types:"
   ]
  },
  {
   "cell_type": "code",
   "execution_count": 20,
   "metadata": {
    "slideshow": {
     "slide_type": "fragment"
    }
   },
   "outputs": [
    {
     "data": {
      "text/html": [
       "\n",
       "<style>\n",
       ".gonb-err-location {\n",
       "\tbackground: var(--jp-err-color2);  \n",
       "\tborder-radius: 3px;\n",
       "\tborder-style: dotted;\n",
       "\tborder-width: 1px;\n",
       "\tborder-color: var(--jp-border-color2);\n",
       "}\n",
       ".gonb-err-location:hover {\n",
       "\tborder-width: 2px;\n",
       "\tborder-style: solid;\n",
       "\tborder-color: var(--jp-border-color2);\n",
       "}\n",
       ".gonb-err-context {\n",
       "\tdisplay: none;\n",
       "}\n",
       ".gonb-err-location:hover + .gonb-err-context {\n",
       "\tbackground: var(--jp-dialog-background);  \n",
       "\tborder-radius: 3px;\n",
       "\tborder-style: solid;\n",
       "\tborder-width: 1px;\n",
       "\tborder-color: var(--jp-border-color2);\n",
       "\tdisplay: block;\n",
       "\twhite-space: pre;\n",
       "\tfont-family: monospace;\n",
       "}\n",
       ".gonb-err-line {\n",
       "\tborder-radius: 3px;\n",
       "\tborder-style: dotted;\n",
       "\tborder-width: 1px;\t\n",
       "\tborder-color: var(--jp-border-color2);\n",
       "\tbackground-color: var(--jp-rendermime-err-background);\n",
       "\tfont-weight: bold;\n",
       "}\n",
       ".gonb-cell-line-info {\n",
       "\tbackground: var(--jp-layout-color2);\n",
       "\tcolor: #999;\n",
       "\tmargin: 0.1em;\n",
       "\tborder: 1px solid var(--jp-border-color1);\n",
       "\tpadding-left: 0.2em;\n",
       "\tpadding-right: 0.2em;\n",
       "}\n",
       "</style>\n",
       "<div class=\"lm-Widget p-Widget lm-Panel p-Panel jp-OutputArea-child\">\n",
       "<div class=\"lm-Widget p-Widget jp-RenderedText jp-mod-trusted jp-OutputArea-output\" data-mime-type=\"application/vnd.jupyter.stderr\" style=\"font-family: monospace;\">\n",
       "\n",
       "\n",
       "<span style=\"white-space: pre;\"> # gonb_68942a80</span>\n",
       "\n",
       "<br/>\n",
       "\n",
       "<span class=\"gonb-cell-line-info\">Cell[20]: Line 2</span>\n",
       "<span class=\"gonb-err-location\">./main.go:85:7: </span> invalid receiver type P (pointer or interface type)\n",
       "<div class=\"gonb-err-context\">\n",
       "    return len(p), nil\n",
       "}\n",
       "\n",
       "<div class=\"gonb-err-line\">func (P) f() { /* ... */ }\n",
       "</div>\n",
       "\n",
       "\n",
       "</div>\n",
       "\n",
       "<br/>\n",
       "\n",
       "\n",
       "<span style=\"white-space: pre;\"> </span>\n",
       "\n",
       "<br/>\n",
       "\n",
       "</div>\n"
      ]
     },
     "metadata": {},
     "output_type": "display_data"
    },
    {
     "ename": "ERROR",
     "evalue": "failed to run \"/opt/homebrew/bin/go build -o /var/folders/4d/tg201k8x6yb81f_lrvt4440m0000gn/T/gonb_68942a80/gonb_68942a80\": exit status 1",
     "output_type": "error",
     "traceback": [
      "failed to run \"/opt/homebrew/bin/go build -o /var/folders/4d/tg201k8x6yb81f_lrvt4440m0000gn/T/gonb_68942a80/gonb_68942a80\": exit status 1"
     ]
    }
   ],
   "source": [
    "type P *int\n",
    "func (P) f() { /* ... */ } // compile error: invalid receiver type"
   ]
  },
  {
   "cell_type": "code",
   "execution_count": 3,
   "metadata": {
    "slideshow": {
     "slide_type": "subslide"
    }
   },
   "outputs": [
    {
     "name": "stdout",
     "output_type": "stream",
     "text": [
      "pptr.ScaleBy {2 4}\n"
     ]
    }
   ],
   "source": [
    "%%\n",
    "p := Point{1,2}\n",
    "pptr := &p\n",
    "pptr.ScaleBy(2)\n",
    "fmt.Println(\"pptr.ScaleBy\",p)\n"
   ]
  },
  {
   "cell_type": "code",
   "execution_count": 4,
   "metadata": {
    "slideshow": {
     "slide_type": "fragment"
    }
   },
   "outputs": [
    {
     "name": "stdout",
     "output_type": "stream",
     "text": [
      "(&p).ScaleBy {2 4}\n"
     ]
    }
   ],
   "source": [
    "%%\n",
    "p := Point{1,2}\n",
    "(&p).ScaleBy(2)\n",
    "fmt.Println(\"(&p).ScaleBy\",p)\n",
    "\n",
    "p1:= IntList{10,nil}\n",
    "(&p1).Sum1(10)\n"
   ]
  },
  {
   "cell_type": "markdown",
   "metadata": {
    "slideshow": {
     "slide_type": "subslide"
    }
   },
   "source": [
    "* If the receiver p is a variable of type Point but the method requires a *Point receiver\n",
    "  * Use this shorthand: p.ScaleBy(2)\n",
    "* The compiler will perform an implicit &p on the variable."
   ]
  },
  {
   "cell_type": "code",
   "execution_count": 5,
   "metadata": {
    "slideshow": {
     "slide_type": "fragment"
    }
   },
   "outputs": [
    {
     "name": "stdout",
     "output_type": "stream",
     "text": [
      "p.ScaleBy {2 4}\n"
     ]
    }
   ],
   "source": [
    "%%\n",
    "p := Point{1,2}\n",
    "p.ScaleBy(2)\n",
    "fmt.Println(\"p.ScaleBy\",p)\n",
    "\n",
    "p2 := IntList{10,nil}\n",
    "p2.Sum1(10)"
   ]
  },
  {
   "cell_type": "code",
   "execution_count": 6,
   "metadata": {
    "slideshow": {
     "slide_type": "fragment"
    }
   },
   "outputs": [
    {
     "data": {
      "text/html": [
       "\n",
       "<style>\n",
       ".gonb-err-location {\n",
       "\tbackground: var(--jp-err-color2);  \n",
       "\tborder-radius: 3px;\n",
       "\tborder-style: dotted;\n",
       "\tborder-width: 1px;\n",
       "\tborder-color: var(--jp-border-color2);\n",
       "}\n",
       ".gonb-err-location:hover {\n",
       "\tborder-width: 2px;\n",
       "\tborder-style: solid;\n",
       "\tborder-color: var(--jp-border-color2);\n",
       "}\n",
       ".gonb-err-context {\n",
       "\tdisplay: none;\n",
       "}\n",
       ".gonb-err-location:hover + .gonb-err-context {\n",
       "\tbackground: var(--jp-dialog-background);  \n",
       "\tborder-radius: 3px;\n",
       "\tborder-style: solid;\n",
       "\tborder-width: 1px;\n",
       "\tborder-color: var(--jp-border-color2);\n",
       "\tdisplay: block;\n",
       "\twhite-space: pre;\n",
       "\tfont-family: monospace;\n",
       "}\n",
       ".gonb-err-line {\n",
       "\tborder-radius: 3px;\n",
       "\tborder-style: dotted;\n",
       "\tborder-width: 1px;\t\n",
       "\tborder-color: var(--jp-border-color2);\n",
       "\tbackground-color: var(--jp-rendermime-err-background);\n",
       "\tfont-weight: bold;\n",
       "}\n",
       ".gonb-cell-line-info {\n",
       "\tbackground: var(--jp-layout-color2);\n",
       "\tcolor: #999;\n",
       "\tmargin: 0.1em;\n",
       "\tborder: 1px solid var(--jp-border-color1);\n",
       "\tpadding-left: 0.2em;\n",
       "\tpadding-right: 0.2em;\n",
       "}\n",
       "</style>\n",
       "<div class=\"lm-Widget p-Widget lm-Panel p-Panel jp-OutputArea-child\">\n",
       "<div class=\"lm-Widget p-Widget jp-RenderedText jp-mod-trusted jp-OutputArea-output\" data-mime-type=\"application/vnd.jupyter.stderr\" style=\"font-family: monospace;\">\n",
       "\n",
       "\n",
       "<span style=\"white-space: pre;\"> # gonb_730ceeca</span>\n",
       "\n",
       "<br/>\n",
       "\n",
       "<span class=\"gonb-cell-line-info\">Cell[6]: Line 2</span>\n",
       "<span class=\"gonb-err-location\">./main.go:53:13: </span> cannot call pointer method ScaleBy on Point\n",
       "<div class=\"gonb-err-context\">\n",
       "\n",
       "func main() {\n",
       "\tflag.Parse()\n",
       "<div class=\"gonb-err-line\">\tPoint{1,2}.ScaleBy(2)// compile error: can&#39;t take address of Point literal\n",
       "</div>\n",
       "}\n",
       "\n",
       "</div>\n",
       "\n",
       "<br/>\n",
       "\n",
       "\n",
       "<span style=\"white-space: pre;\"> </span>\n",
       "\n",
       "<br/>\n",
       "\n",
       "</div>\n"
      ]
     },
     "metadata": {},
     "output_type": "display_data"
    },
    {
     "ename": "ERROR",
     "evalue": "failed to run \"/opt/homebrew/bin/go build -o /var/folders/4d/tg201k8x6yb81f_lrvt4440m0000gn/T/gonb_730ceeca/gonb_730ceeca\": exit status 1",
     "output_type": "error",
     "traceback": [
      "failed to run \"/opt/homebrew/bin/go build -o /var/folders/4d/tg201k8x6yb81f_lrvt4440m0000gn/T/gonb_730ceeca/gonb_730ceeca\": exit status 1"
     ]
    }
   ],
   "source": [
    "%%\n",
    "Point{1,2}.ScaleBy(2)// compile error: can't take address of Point literal"
   ]
  },
  {
   "cell_type": "code",
   "execution_count": 7,
   "metadata": {
    "slideshow": {
     "slide_type": "subslide"
    }
   },
   "outputs": [
    {
     "name": "stdout",
     "output_type": "stream",
     "text": [
      "2.8284271247461903\n",
      "2.8284271247461903\n",
      "2.8284271247461903\n"
     ]
    }
   ],
   "source": [
    "import \"gopl.io/ch6/geometry\"\n",
    "import \"math\"\n",
    "func (p Point) Distance(q Point) float64 {\n",
    "    return math.Hypot(q.X-p.X, q.Y-p.Y)\n",
    "}\n",
    "%%\n",
    "q := Point{3,4}\n",
    "pptr := &Point{1,2}\n",
    "fmt.Println(q.Distance(*pptr))\n",
    "fmt.Println(pptr.Distance(q))\n",
    "fmt.Println((*pptr).Distance(q))"
   ]
  },
  {
   "cell_type": "code",
   "execution_count": 37,
   "metadata": {
    "slideshow": {
     "slide_type": "fragment"
    }
   },
   "outputs": [],
   "source": [
    "%%\n",
    "p := Point{1,2}\n",
    "q := Point{3,4}\n",
    "pptr := &Point{1,2}\n",
    "p.ScaleBy(2)  // implicit (&p)\n",
    "pptr.Distance(q) //implict (*pptr)"
   ]
  },
  {
   "cell_type": "markdown",
   "metadata": {
    "slideshow": {
     "slide_type": "slide"
    }
   },
   "source": [
    "### Nil is a Valid Receiver Value\n",
    "* functions allow nil pointers as arguments, and methods allow nil for their receiver"
   ]
  },
  {
   "cell_type": "code",
   "execution_count": 8,
   "metadata": {
    "slideshow": {
     "slide_type": "subslide"
    }
   },
   "outputs": [
    {
     "name": "stdout",
     "output_type": "stream",
     "text": [
      "10 10 10 10\n",
      "*main.IntList\n",
      "main.IntList\n",
      "30\n"
     ]
    }
   ],
   "source": [
    "// An IntList is a link list of integers\n",
    "// A nil *IntList represents the empty list\n",
    "import \"fmt\"\n",
    "type IntList struct {\n",
    "    Value int\n",
    "    Tail *IntList\n",
    "}\n",
    "\n",
    "func (list *IntList) Sum() int {\n",
    "    if (list == nil) {\n",
    "        return 0\n",
    "    }\n",
    "    return list.Value + list.Tail.Sum()\n",
    "}\n",
    "%%\n",
    "p := IntList{10,nil}\n",
    "q := IntList{20,nil}\n",
    "//p.Tail = &q\n",
    "ptr := &p\n",
    "fmt.Println(p.Value, ptr.Sum(), (*ptr).Sum(), p.Sum())\n",
    "_ = q\n",
    "fmt.Printf(\"%T\\n%T\\n\",p.Tail , q)\n",
    "p.Tail = &q\n",
    "fmt.Println(p.Sum())"
   ]
  },
  {
   "cell_type": "code",
   "execution_count": 39,
   "metadata": {
    "slideshow": {
     "slide_type": "subslide"
    }
   },
   "outputs": [],
   "source": [
    "//net/url\n",
    "//package url\n",
    "type Values map[string][]string\n",
    "func (v Values) Get(key string) string {\n",
    "    if vs := v[key]; len(vs) > 0 {\n",
    "        return vs[0]\n",
    "    }\n",
    "    return \"\"\n",
    "}\n",
    "\n",
    "func (v Values) Add(key, value string) {\n",
    "    v[key] = append(v[key], value)\n",
    "}"
   ]
  },
  {
   "cell_type": "code",
   "execution_count": 43,
   "metadata": {
    "slideshow": {
     "slide_type": "subslide"
    }
   },
   "outputs": [
    {
     "name": "stdout",
     "output_type": "stream",
     "text": [
      "en\n",
      "100\n",
      "1\n",
      "[1 2 3]\n",
      "\n"
     ]
    }
   ],
   "source": [
    "import \"net/url\"\n",
    "%%\n",
    "m := url.Values{\"lang\":{\"en\"}}\n",
    "m.Add(\"item\",\"1\")\n",
    "m.Add(\"item\",\"2\")\n",
    "m.Add(\"item\",\"3\")\n",
    "m.Add(\"q\",\"100\")\n",
    "fmt.Println(m.Get(\"lang\"))\n",
    "fmt.Println(m.Get(\"q\"))\n",
    "fmt.Println(m.Get(\"item\"))\n",
    "fmt.Println(m[\"item\"])\n",
    "m = nil\n",
    "fmt.Println(m.Get(\"item\"))\n",
    "//m.Add(\"item\",\"3\")// panic: assignment to entry"
   ]
  },
  {
   "cell_type": "markdown",
   "metadata": {
    "slideshow": {
     "slide_type": "slide"
    }
   },
   "source": [
    "## Composing Types by Struct Embedding\n",
    "* consider the type **ColoredPoint**\n",
    "  * three fields and embed **Point** to provide **X** and **Y** field"
   ]
  },
  {
   "cell_type": "code",
   "execution_count": 22,
   "metadata": {
    "slideshow": {
     "slide_type": "fragment"
    }
   },
   "outputs": [
    {
     "name": "stdout",
     "output_type": "stream",
     "text": [
      "1\n",
      "2\n"
     ]
    }
   ],
   "source": [
    "//gopl.io/ch6/coloredpoint\n",
    "import \"fmt\"\n",
    "import \"image/color\"\n",
    "type Point struct {X, Y float64}\n",
    "type ColoredPoint struct {\n",
    "    Point   //embed a Point to provide the X and Y fields\n",
    "    Color color.RGBA\n",
    "}\n",
    "%%\n",
    "var cp ColoredPoint\n",
    "cp.X = 1    //Select the X field without mentioning Point\n",
    "fmt.Println( cp.Point.X)\n",
    "cp.Point.Y = 2\n",
    "fmt.Println(cp.Y)"
   ]
  },
  {
   "cell_type": "markdown",
   "metadata": {
    "slideshow": {
     "slide_type": "subslide"
    }
   },
   "source": [
    "* Call methods of the embedded **Point** \n",
    "* Using a receiver of type **ColoredPoint**, even though **ColoredPoint** has no declared methods\n",
    "  * p.Distance, p.ScaleBy are methods of Point, and not declared by ColoredPoint"
   ]
  },
  {
   "cell_type": "code",
   "execution_count": 23,
   "metadata": {
    "slideshow": {
     "slide_type": "fragment"
    }
   },
   "outputs": [
    {
     "name": "stdout",
     "output_type": "stream",
     "text": [
      "5\n",
      "10\n"
     ]
    }
   ],
   "source": [
    "\n",
    "%%\n",
    "red := color.RGBA{255,0,0,255}\n",
    "blue := color.RGBA{0,0,255,255}\n",
    "var p = ColoredPoint{Point{1,1},red}\n",
    "var q = ColoredPoint{Point{5,4},blue}\n",
    "fmt.Println(p.Distance(q.Point))  //\n",
    "p.ScaleBy(2)\n",
    "q.ScaleBy(2)\n",
    "fmt.Println(p.Distance(q.Point))"
   ]
  },
  {
   "cell_type": "markdown",
   "metadata": {
    "slideshow": {
     "slide_type": "subslide"
    }
   },
   "source": [
    "* A ColoredPoint is not a Point, but it has as Point\n",
    "  * two additional methods Distance and ScaleBy promoted from Point\n",
    "  \n",
    "<code>\n",
    "func (p ColoredPoint) Distance(q Point) float64 {\n",
    "    return p.Point.Distance(q)\n",
    "}\n",
    "    \n",
    "func (p ColoredPoint) ScaleBy(factor float64) {\n",
    "    return p.Point.ScaleBy(factor)\n",
    "}\n",
    "</code>"
   ]
  },
  {
   "cell_type": "code",
   "execution_count": 11,
   "metadata": {
    "slideshow": {
     "slide_type": "subslide"
    }
   },
   "outputs": [
    {
     "data": {
      "text/html": [
       "\n",
       "<style>\n",
       ".gonb-err-location {\n",
       "\tbackground: var(--jp-err-color2);  \n",
       "\tborder-radius: 3px;\n",
       "\tborder-style: dotted;\n",
       "\tborder-width: 1px;\n",
       "\tborder-color: var(--jp-border-color2);\n",
       "}\n",
       ".gonb-err-location:hover {\n",
       "\tborder-width: 2px;\n",
       "\tborder-style: solid;\n",
       "\tborder-color: var(--jp-border-color2);\n",
       "}\n",
       ".gonb-err-context {\n",
       "\tdisplay: none;\n",
       "}\n",
       ".gonb-err-location:hover + .gonb-err-context {\n",
       "\tbackground: var(--jp-dialog-background);  \n",
       "\tborder-radius: 3px;\n",
       "\tborder-style: solid;\n",
       "\tborder-width: 1px;\n",
       "\tborder-color: var(--jp-border-color2);\n",
       "\tdisplay: block;\n",
       "\twhite-space: pre;\n",
       "\tfont-family: monospace;\n",
       "}\n",
       ".gonb-err-line {\n",
       "\tborder-radius: 3px;\n",
       "\tborder-style: dotted;\n",
       "\tborder-width: 1px;\t\n",
       "\tborder-color: var(--jp-border-color2);\n",
       "\tbackground-color: var(--jp-rendermime-err-background);\n",
       "\tfont-weight: bold;\n",
       "}\n",
       ".gonb-cell-line-info {\n",
       "\tbackground: var(--jp-layout-color2);\n",
       "\tcolor: #999;\n",
       "\tmargin: 0.1em;\n",
       "\tborder: 1px solid var(--jp-border-color1);\n",
       "\tpadding-left: 0.2em;\n",
       "\tpadding-right: 0.2em;\n",
       "}\n",
       "</style>\n",
       "<div class=\"lm-Widget p-Widget lm-Panel p-Panel jp-OutputArea-child\">\n",
       "<div class=\"lm-Widget p-Widget jp-RenderedText jp-mod-trusted jp-OutputArea-output\" data-mime-type=\"application/vnd.jupyter.stderr\" style=\"font-family: monospace;\">\n",
       "\n",
       "\n",
       "<span style=\"white-space: pre;\"> # gonb_730ceeca</span>\n",
       "\n",
       "<br/>\n",
       "\n",
       "<span class=\"gonb-cell-line-info\">Cell[11]: Line 6</span>\n",
       "<span class=\"gonb-err-location\">./main.go:67:13: </span> cannot use q (variable of type ColoredPoint) as type Point in argument to p.Distance\n",
       "<div class=\"gonb-err-context\">\n",
       "\tblue := color.RGBA{0,0,255,255}\n",
       "\tvar p = ColoredPoint{Point{1,1},red}\n",
       "\tvar q = ColoredPoint{Point{5,4},blue}\n",
       "<div class=\"gonb-err-line\">\tp.Distance(q) // cannot use q as Point\n",
       "</div>\n",
       "}\n",
       "\n",
       "</div>\n",
       "\n",
       "<br/>\n",
       "\n",
       "\n",
       "<span style=\"white-space: pre;\"> </span>\n",
       "\n",
       "<br/>\n",
       "\n",
       "</div>\n"
      ]
     },
     "metadata": {},
     "output_type": "display_data"
    },
    {
     "ename": "ERROR",
     "evalue": "failed to run \"/opt/homebrew/bin/go build -o /var/folders/4d/tg201k8x6yb81f_lrvt4440m0000gn/T/gonb_730ceeca/gonb_730ceeca\": exit status 1",
     "output_type": "error",
     "traceback": [
      "failed to run \"/opt/homebrew/bin/go build -o /var/folders/4d/tg201k8x6yb81f_lrvt4440m0000gn/T/gonb_730ceeca/gonb_730ceeca\": exit status 1"
     ]
    }
   ],
   "source": [
    "%%\n",
    "red := color.RGBA{255,0,0,255}\n",
    "blue := color.RGBA{0,0,255,255}\n",
    "var p = ColoredPoint{Point{1,1},red}\n",
    "var q = ColoredPoint{Point{5,4},blue}\n",
    "p.Distance(q) // cannot use q as Point"
   ]
  },
  {
   "cell_type": "markdown",
   "metadata": {
    "slideshow": {
     "slide_type": "subslide"
    }
   },
   "source": [
    "* the type of an anonymous filed may be a pointer to a named type\n",
    "  * fields and methods are promoted indirectly from the pointed-to object\n",
    "  * let us share common structures and vary the relationships between objects dynamiccally"
   ]
  },
  {
   "cell_type": "code",
   "execution_count": 24,
   "metadata": {
    "slideshow": {
     "slide_type": "subslide"
    }
   },
   "outputs": [
    {
     "name": "stdout",
     "output_type": "stream",
     "text": [
      "5\n",
      "{2 2} {2 2}\n"
     ]
    }
   ],
   "source": [
    "type ColoredPoint struct {\n",
    "    *Point\n",
    "    Color color.RGBA\n",
    "}\n",
    "%%\n",
    "red := color.RGBA{255,0,0,255}\n",
    "blue := color.RGBA{0,0,255,255}\n",
    "p := ColoredPoint{&Point{1,1}, red}\n",
    "q := ColoredPoint{&Point{5,4}, blue}\n",
    "fmt.Println(p.Distance(*q.Point))\n",
    "q.Point = p.Point\n",
    "p.ScaleBy(2)\n",
    "fmt.Println(*p.Point, *q.Point)\n"
   ]
  },
  {
   "cell_type": "markdown",
   "metadata": {
    "slideshow": {
     "slide_type": "subslide"
    }
   },
   "source": [
    "* It's possible for unnamed struct types to have methods\n",
    "  * simple cache implementation using two package-level variables\n",
    "  * mutex and map\n",
    "* sync.Mutex is mebedded\n",
    "  * Lock and Unlock methods are promoted to the unnamed struct type\n",
    "  * allow to lock the cache with a self-explanatory syntax"
   ]
  },
  {
   "cell_type": "code",
   "execution_count": 25,
   "metadata": {
    "slideshow": {
     "slide_type": "subslide"
    }
   },
   "outputs": [],
   "source": [
    "import \"sync\"\n",
    "var (\n",
    "    mu sync.Mutex\n",
    "    mapping = make(map[string]string)\n",
    ")\n",
    "func Lookup(key string) string {\n",
    "    mu.Lock()\n",
    "    v := mapping[key]\n",
    "    mu.Unlock()\n",
    "    return v\n",
    "}"
   ]
  },
  {
   "cell_type": "code",
   "execution_count": 14,
   "metadata": {
    "slideshow": {
     "slide_type": "subslide"
    }
   },
   "outputs": [],
   "source": [
    "import \"sync\"\n",
    "var cache = struct {\n",
    "    sync.Mutex\n",
    "    mapping map[string]string\n",
    "} {\n",
    "    mapping: make(map[string]string),\n",
    "}\n",
    "func Lookup(key string)string {\n",
    "    cache.Lock()\n",
    "    v := cache.mapping[key]\n",
    "    cache.Unlock()\n",
    "    return v\n",
    "}"
   ]
  },
  {
   "cell_type": "markdown",
   "metadata": {
    "slideshow": {
     "slide_type": "slide"
    }
   },
   "source": [
    "## Method Values and Expressions\n",
    "* If we issue p.Distance()\n",
    "  * p.Distance is a method value\n",
    "  * This function can be invoked without a receiver\n",
    "    * only nees the non-receiver arguments"
   ]
  },
  {
   "cell_type": "code",
   "execution_count": 15,
   "metadata": {
    "slideshow": {
     "slide_type": "subslide"
    }
   },
   "outputs": [
    {
     "name": "stdout",
     "output_type": "stream",
     "text": [
      "5\n",
      "2.23606797749979\n",
      "{120 240}\n"
     ]
    }
   ],
   "source": [
    "%%\n",
    "p := Point{1,2}\n",
    "q := Point{4,6}\n",
    "distanceFromP := p.Distance // method value\n",
    "fmt.Println(distanceFromP(q))\n",
    "var origin Point\n",
    "fmt.Println(distanceFromP(origin))\n",
    "\n",
    "scaleP := p.ScaleBy   // method value\n",
    "scaleP(2)  //p becomes (2,4)\n",
    "scaleP(3)  // then (6,12)\n",
    "scaleP(10) // then (60,120)\n",
    "scaleP(2)  // then (120, 240)\n",
    "fmt.Println(p)"
   ]
  },
  {
   "cell_type": "markdown",
   "metadata": {
    "slideshow": {
     "slide_type": "subslide"
    }
   },
   "source": [
    "* Method values are useful when a package's API calls for a function value\n",
    "  * to call a method on a specific reeiver\n",
    "  * time.AfterFunc calls a function value after a specified delay"
   ]
  },
  {
   "cell_type": "code",
   "execution_count": 26,
   "metadata": {
    "slideshow": {
     "slide_type": "subslide"
    }
   },
   "outputs": [],
   "source": [
    "import \"time\"\n",
    "type Rocket struct {}\n",
    "func (r *Rocket) Launch() {fmt.Println(\"time is up\")}\n",
    "%%\n",
    "r := new(Rocket)\n",
    "time.AfterFunc(1 * time.Second, func(){ r.Launch()})\n",
    "time.AfterFunc(1 * time.Second, r.Launch)    //method value is shorter "
   ]
  },
  {
   "cell_type": "markdown",
   "metadata": {
    "slideshow": {
     "slide_type": "subslide"
    }
   },
   "source": [
    "### Mehtod expression"
   ]
  },
  {
   "cell_type": "code",
   "execution_count": 27,
   "metadata": {},
   "outputs": [
    {
     "name": "stdout",
     "output_type": "stream",
     "text": [
      "5\n",
      "func(main.Point, main.Point) float64\n",
      "{2 4}\n",
      "func(*main.Point, float64)\n"
     ]
    }
   ],
   "source": [
    "%%\n",
    "p := Point{1, 2}\n",
    "q := Point{4, 6}\n",
    "\n",
    "distance := Point.Distance   // method expression\n",
    "fmt.Println(distance(p, q))  // \"5\"\n",
    "fmt.Printf(\"%T\\n\", distance) // \"func(Point, Point) float64\"\n",
    "\n",
    "scale := (*Point).ScaleBy\n",
    "scale(&p, 2)\n",
    "fmt.Println(p)            // \"{2 4}\"\n",
    "fmt.Printf(\"%T\\n\", scale) // \"func(*Point, float64)\""
   ]
  },
  {
   "cell_type": "code",
   "execution_count": 28,
   "metadata": {
    "slideshow": {
     "slide_type": "slide"
    }
   },
   "outputs": [],
   "source": [
    "// a value to represent a choice among everal methods\n",
    "type Point struct {X, Y float64}\n",
    "func (p Point) Add(q Point) Point { return Point{p.X+q.X, p.Y + q.Y}}\n",
    "func (p Point) Sub(q Point) Point { return Point{p.X-q.X, p.Y - q.Y}}\n",
    "type Path []Point\n",
    "func (path Path) TranslateBy(offset Point, add bool) {\n",
    "    var op func(p, q Point) Point\n",
    "    if add {\n",
    "        op = Point.Add\n",
    "    } else {\n",
    "        op = Point.Sub\n",
    "    }\n",
    "    for i := range path {\n",
    "        path[i] = op(path[i], offset)\n",
    "    }\n",
    "}"
   ]
  },
  {
   "cell_type": "markdown",
   "metadata": {
    "slideshow": {
     "slide_type": "slide"
    }
   },
   "source": [
    "## Example: Bit Vector Type\n",
    "* Sets implemented by map[T] bool\n",
    "* Sets implemented by a slice of unsigned integer, each bit representing a possible element of the seet\n",
    "  * the set contains i if the i-th bit is set\n",
    "  * each word has 64 bits, x/64 the word index, x % 64 the bit index\n",
    "  * UnionWith uses bitwise OR"
   ]
  },
  {
   "cell_type": "code",
   "execution_count": 58,
   "metadata": {
    "slideshow": {
     "slide_type": "subslide"
    }
   },
   "outputs": [],
   "source": [
    "// Copyright © 2016 Alan A. A. Donovan & Brian W. Kernighan.\n",
    "// License: https://creativecommons.org/licenses/by-nc-sa/4.0/\n",
    "\n",
    "// See page 165.\n",
    "\n",
    "// Package intset provides a set of integers based on a bit vector.\n",
    "//package intset\n",
    "\n",
    "import (\n",
    "\t\"bytes\"\n",
    "\t\"fmt\"\n",
    ")\n",
    "\n",
    "//!+intset\n",
    "\n",
    "// An IntSet is a set of small non-negative integers.\n",
    "// Its zero value represents the empty set.\n",
    "type IntSet struct {\n",
    "\twords []uint64\n",
    "}\n",
    "\n",
    "// Has reports whether the set contains the non-negative value x.\n",
    "func (s *IntSet) Has(x int) bool {\n",
    "\tword, bit := x/64, uint(x%64)\n",
    "\treturn word < len(s.words) && s.words[word]&uint64(1<<bit) != 0\n",
    "}\n",
    "\n",
    "// Add adds the non-negative value x to the set.\n",
    "func (s *IntSet) Add(x int) {\n",
    "\tword, bit := x/64, uint(x%64)\n",
    "\tfor word >= len(s.words) {\n",
    "\t\ts.words = append(s.words, 0)\n",
    "\t}\n",
    "    s.words[word] |= uint64(1 << bit)\n",
    "}\n",
    "\n",
    "// UnionWith sets s to the union of s and t.\n",
    "func (s *IntSet) UnionWith(t *IntSet) {\n",
    "\tfor i, tword := range t.words {\n",
    "\t\tif i < len(s.words) {\n",
    "\t\t\ts.words[i] |= tword\n",
    "\t\t} else {\n",
    "\t\t\ts.words = append(s.words, tword)\n",
    "\t\t}\n",
    "\t}\n",
    "}\n",
    "\n",
    "//!-intset\n",
    "\n",
    "//!+string\n",
    "\n",
    "// String returns the set as a string of the form \"{1 2 3}\".\n",
    "func (s *IntSet) String() string {\n",
    "\tvar buf bytes.Buffer\n",
    "\tbuf.WriteByte('{')\n",
    "\tfor i, word := range s.words {\n",
    "\t\tif word == 0 {\n",
    "\t\t\tcontinue\n",
    "\t\t}\n",
    "\t\tfor j := 0; j < 64; j++ {\n",
    "\t\t\tif word&uint64(1<<uint(j)) != 0 {\n",
    "\t\t\t\tif buf.Len() > len(\"{\") {\n",
    "\t\t\t\t\tbuf.WriteByte(' ')\n",
    "\t\t\t\t}\n",
    "\t\t\t\tfmt.Fprintf(&buf, \"%d\", 64*i+j)\n",
    "\t\t\t}\n",
    "\t\t}\n",
    "\t}\n",
    "\tbuf.WriteByte('}')\n",
    "\treturn buf.String()\n",
    "}\n",
    "\n",
    "//!-string"
   ]
  },
  {
   "cell_type": "code",
   "execution_count": 59,
   "metadata": {
    "slideshow": {
     "slide_type": "subslide"
    }
   },
   "outputs": [
    {
     "name": "stdout",
     "output_type": "stream",
     "text": [
      "{1 9 144}\n",
      "{9 42}\n",
      "{1 9 42 144}\n",
      "true false\n",
      "{1 9 42 144}\n",
      "{1 9 42 144}\n",
      "{[4398046511618 0 65536]}\n",
      "{1 9 42 144}\n"
     ]
    }
   ],
   "source": [
    "\n",
    "var x,y IntSet\n",
    "%%\n",
    "x.Add(1)\n",
    "x.Add(144)\n",
    "x.Add(9)\n",
    "fmt.Println(x.String())\n",
    "y.Add(9)\n",
    "y.Add(42)\n",
    "fmt.Println(y.String())\n",
    "x.UnionWith(&y)\n",
    "fmt.Println(x.String())\n",
    "fmt.Println(x.Has(9), x.Has(123))\n",
    "\n",
    "fmt.Println(&x)\n",
    "fmt.Println(x.String())\n",
    "fmt.Println(x)\n",
    "fmt.Printf(\"%s\\n\",x.String())"
   ]
  },
  {
   "cell_type": "code",
   "execution_count": 29,
   "metadata": {
    "code_folding": [
     17
    ],
    "slideshow": {
     "slide_type": "subslide"
    }
   },
   "outputs": [],
   "source": [
    "// Copyright © 2016 Alan A. A. Donovan & Brian W. Kernighan.\n",
    "// License: https://creativecommons.org/licenses/by-nc-sa/4.0/\n",
    "\n",
    "// See page 165.\n",
    "\n",
    "// Package intset provides a set of integers based on a bit vector.\n",
    "//package intset\n",
    "\n",
    "import (\n",
    "\t\"bytes\"\n",
    "\t\"fmt\"\n",
    ")\n",
    "\n",
    "//!+intset\n",
    "\n",
    "// An IntSet is a set of small non-negative integers.\n",
    "// Its zero value represents the empty set.\n",
    "type IntSet struct {\n",
    "\twords []uint64\n",
    "}"
   ]
  },
  {
   "cell_type": "code",
   "execution_count": 30,
   "metadata": {
    "code_folding": [
     1,
     7,
     16
    ],
    "slideshow": {
     "slide_type": "subslide"
    }
   },
   "outputs": [],
   "source": [
    "// Has reports whether the set contains the non-negative value x.\n",
    "func (s *IntSet) Has(x int) bool {\n",
    "\tword, bit := x/64, uint(x%64)\n",
    "\treturn word < len(s.words) && s.words[word]&uint64(1<<bit) != 0\n",
    "}\n",
    "\n",
    "// Add adds the non-negative value x to the set.\n",
    "func (s *IntSet) Add(x int) {\n",
    "\tword, bit := x/64, uint(x%64)\n",
    "\tfor word >= len(s.words) {\n",
    "\t\ts.words = append(s.words, 0)\n",
    "\t}\n",
    "    s.words[word] |= uint64(1 << bit)\n",
    "}\n",
    "\n",
    "// UnionWith sets s to the union of s and t.\n",
    "func (s *IntSet) UnionWith(t *IntSet) {\n",
    "\tfor i, tword := range t.words {\n",
    "\t\tif i < len(s.words) {\n",
    "\t\t\ts.words[i] |= tword\n",
    "\t\t} else {\n",
    "\t\t\ts.words = append(s.words, tword)\n",
    "\t\t}\n",
    "\t}\n",
    "}\n",
    "\n"
   ]
  },
  {
   "cell_type": "code",
   "execution_count": 31,
   "metadata": {
    "code_folding": [
     1
    ],
    "slideshow": {
     "slide_type": "subslide"
    }
   },
   "outputs": [],
   "source": [
    "// String returns the set as a string of the form \"{1 2 3}\".\n",
    "func (s *IntSet) String() string {\n",
    "\tvar buf bytes.Buffer\n",
    "\tbuf.WriteByte('{')\n",
    "\tfor i, word := range s.words {\n",
    "\t\tif word == 0 {\n",
    "\t\t\tcontinue\n",
    "\t\t}\n",
    "\t\tfor j := 0; j < 64; j++ {\n",
    "\t\t\tif word&uint64(1<<uint(j)) != 0 {\n",
    "\t\t\t\tif buf.Len() > len(\"{\") {\n",
    "\t\t\t\t\tbuf.WriteByte(' ')\n",
    "\t\t\t\t}\n",
    "\t\t\t\tfmt.Fprintf(&buf, \"%d\", 64*i+j)\n",
    "\t\t\t}\n",
    "\t\t}\n",
    "\t}\n",
    "\tbuf.WriteByte('}')\n",
    "\treturn buf.String()\n",
    "}\n",
    "\n",
    "//!-string"
   ]
  },
  {
   "cell_type": "code",
   "execution_count": 32,
   "metadata": {
    "slideshow": {
     "slide_type": "subslide"
    }
   },
   "outputs": [
    {
     "name": "stdout",
     "output_type": "stream",
     "text": [
      "{1 9 144}\n",
      "{9 42}\n",
      "{1 9 42 144}\n",
      "true false\n",
      "{1 9 42 144}\n",
      "{1 9 42 144}\n",
      "{[4398046511618 0 65536]}\n"
     ]
    }
   ],
   "source": [
    "var x, y IntSet\n",
    "%%\n",
    "x.Add(1)\n",
    "x.Add(144)\n",
    "x.Add(9)\n",
    "fmt.Println(x.String()) // {1 9 144}\n",
    "y.Add(9)\n",
    "y.Add(42)\n",
    "fmt.Println(y.String()) // {9 42}\n",
    "\n",
    "x.UnionWith(&y)\n",
    "fmt.Println(x.String()) //{1 9 42 144}\n",
    "fmt.Println(x.Has(9), x.Has(123))\n",
    "//\n",
    "fmt.Println(&x)    // {1 9 42 144}\n",
    "fmt.Println(x.String())\n",
    "fmt.Println(x)"
   ]
  },
  {
   "cell_type": "markdown",
   "metadata": {
    "slideshow": {
     "slide_type": "slide"
    }
   },
   "source": [
    "## Encapsulation\n",
    "* Encapsulation (information hiding)\n",
    "  * A Key aspect of object-oriented programming\n",
    "  * Variable or method of an object inaccessible to clients\n",
    "* Go control the visibility of names: \n",
    "  * capitalized identifiers exported from the package \n",
    "  * Uncapitalized names are not exported\n",
    "* Unit of encapsulation is the package, not the type \n",
    "  * The field of a struct type are visible to all code within the same package\n"
   ]
  },
  {
   "cell_type": "markdown",
   "metadata": {
    "slideshow": {
     "slide_type": "subslide"
    }
   },
   "source": [
    "<code>\n",
    "type IntSet struct { \n",
    "    words []uint64\n",
    "}\n",
    "\n",
    "type IntSet []uint64\n",
    "</code>"
   ]
  },
  {
   "cell_type": "code",
   "execution_count": 38,
   "metadata": {
    "slideshow": {
     "slide_type": "slide"
    }
   },
   "outputs": [],
   "source": [
    "type Buffer struct {\n",
    "    buf     []byte\n",
    "    initial [64]byte\n",
    "}\n",
    "//Grow expands the buffer's capacity, if necessay,\n",
    "// to guarantee space for another n bytes. [...]\n",
    "func (b *Buffer) Len() int {\n",
    "    return len(b.buf)\n",
    "}\n",
    "func (b *Buffer) Grow(n int) {\n",
    "    if b.buf == nil {\n",
    "        b.buf = b.initial[:0] // use preallocated space initially\n",
    "    }\n",
    "    if len(b.buf)+n > cap(b.buf) {\n",
    "        buf := make([]byte, b.Len(), 2*cap(b.buf)+n)\n",
    "        copy(buf, b.buf)\n",
    "        b.buf = buf\n",
    "    }\n",
    "}"
   ]
  },
  {
   "cell_type": "markdown",
   "metadata": {
    "slideshow": {
     "slide_type": "subslide"
    }
   },
   "source": [
    "### Advantages of Encapsulation\n",
    "* Clients cannot modify the object’s variables, we need inspect fewer statements to understand the possible value of the variables\n",
    "* Hiding implementation details prevents clients from depending on things that might chang\n",
    "  * Freedom from implementation evolving without breaking API compatibility\n",
    "* Prevent clients from setting an object’s variables arbitrarily\n"
   ]
  },
  {
   "cell_type": "code",
   "execution_count": 33,
   "metadata": {
    "slideshow": {
     "slide_type": "subslide"
    }
   },
   "outputs": [],
   "source": [
    "type Counter struct { n int }\n",
    "\n",
    "func (c *Counter) N() int     { return c.n }\n",
    "func (c *Counter) Increment() { c.n++ }\n",
    "func (c *Counter) Reset()     { c.n = 0 }"
   ]
  },
  {
   "cell_type": "markdown",
   "metadata": {
    "slideshow": {
     "slide_type": "subslide"
    }
   },
   "source": [
    "<code>\n",
    "//package log\n",
    "\n",
    "type Logger struct {\n",
    "    flags  int\n",
    "    prefix string\n",
    "    // ...\n",
    "}\n",
    "\n",
    "func (l *Logger) Flags() int\n",
    "func (l *Logger) SetFlags(flag int)\n",
    "func (l *Logger) Prefix() string\n",
    "func (l *Logger) SetPrefix(prefix string)\n",
    "</code>"
   ]
  },
  {
   "cell_type": "code",
   "execution_count": 39,
   "metadata": {
    "slideshow": {
     "slide_type": "subslide"
    }
   },
   "outputs": [
    {
     "name": "stdout",
     "output_type": "stream",
     "text": [
      "86400\n"
     ]
    }
   ],
   "source": [
    "import \"fmt\"\n",
    "%%\n",
    "const day = 24 * time.Hour\n",
    "fmt.Println(day.Seconds()) "
   ]
  },
  {
   "cell_type": "markdown",
   "metadata": {
    "slideshow": {
     "slide_type": "subslide"
    }
   },
   "source": [
    "* two different cases of information hiding: IntSet and geometry.Path"
   ]
  }
 ],
 "metadata": {
  "celltoolbar": "Slideshow",
  "kernelspec": {
   "display_name": "Go (gonb)",
   "language": "go",
   "name": "gonb"
  },
  "language_info": {
   "codemirror_mode": "",
   "file_extension": ".go",
   "mimetype": "",
   "name": "go",
   "nbconvert_exporter": "",
   "pygments_lexer": "",
   "version": "go1.21.1"
  },
  "latex_envs": {
   "LaTeX_envs_menu_present": true,
   "autoclose": false,
   "autocomplete": true,
   "bibliofile": "biblio.bib",
   "cite_by": "apalike",
   "current_citInitial": 1,
   "eqLabelWithNumbers": true,
   "eqNumInitial": 1,
   "hotkeys": {
    "equation": "Ctrl-E",
    "itemize": "Ctrl-I"
   },
   "labels_anchors": false,
   "latex_user_defs": false,
   "report_style_numbering": false,
   "user_envs_cfg": false
  },
  "rise": {
   "enable_chalkboard": true,
   "scroll": true
  },
  "toc": {
   "base_numbering": "6",
   "nav_menu": {},
   "number_sections": true,
   "sideBar": true,
   "skip_h1_title": false,
   "title_cell": "Table of Contents",
   "title_sidebar": "Contents",
   "toc_cell": true,
   "toc_position": {},
   "toc_section_display": true,
   "toc_window_display": false
  }
 },
 "nbformat": 4,
 "nbformat_minor": 4
}
