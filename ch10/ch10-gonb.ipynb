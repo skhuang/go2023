{
 "cells": [
  {
   "cell_type": "markdown",
   "metadata": {
    "toc": true
   },
   "source": [
    "<h1>Table of Contents<span class=\"tocSkip\"></span></h1>\n",
    "<div class=\"toc\"><ul class=\"toc-item\"><li><span><a href=\"#Packages-and-the-Go-Tool\" data-toc-modified-id=\"Packages-and-the-Go-Tool-10\"><span class=\"toc-item-num\">10&nbsp;&nbsp;</span>Packages and the Go Tool</a></span><ul class=\"toc-item\"><li><span><a href=\"#Introduction\" data-toc-modified-id=\"Introduction-10.1\"><span class=\"toc-item-num\">10.1&nbsp;&nbsp;</span>Introduction</a></span></li><li><span><a href=\"#Import-Paths\" data-toc-modified-id=\"Import-Paths-10.2\"><span class=\"toc-item-num\">10.2&nbsp;&nbsp;</span>Import Paths</a></span></li><li><span><a href=\"#The-Package-Declaration\" data-toc-modified-id=\"The-Package-Declaration-10.3\"><span class=\"toc-item-num\">10.3&nbsp;&nbsp;</span>The Package Declaration</a></span></li><li><span><a href=\"#Import-Declaration\" data-toc-modified-id=\"Import-Declaration-10.4\"><span class=\"toc-item-num\">10.4&nbsp;&nbsp;</span>Import Declaration</a></span></li><li><span><a href=\"#Blank-Imports\" data-toc-modified-id=\"Blank-Imports-10.5\"><span class=\"toc-item-num\">10.5&nbsp;&nbsp;</span>Blank Imports</a></span></li><li><span><a href=\"#Packages-and-Naming\" data-toc-modified-id=\"Packages-and-Naming-10.6\"><span class=\"toc-item-num\">10.6&nbsp;&nbsp;</span>Packages and Naming</a></span></li><li><span><a href=\"#The-Go-Tool\" data-toc-modified-id=\"The-Go-Tool-10.7\"><span class=\"toc-item-num\">10.7&nbsp;&nbsp;</span>The Go Tool</a></span><ul class=\"toc-item\"><li><span><a href=\"#Workspace-Organization\" data-toc-modified-id=\"Workspace-Organization-10.7.1\"><span class=\"toc-item-num\">10.7.1&nbsp;&nbsp;</span>Workspace Organization</a></span></li><li><span><a href=\"#Downloading-Packages\" data-toc-modified-id=\"Downloading-Packages-10.7.2\"><span class=\"toc-item-num\">10.7.2&nbsp;&nbsp;</span>Downloading Packages</a></span></li><li><span><a href=\"#Building-Packages\" data-toc-modified-id=\"Building-Packages-10.7.3\"><span class=\"toc-item-num\">10.7.3&nbsp;&nbsp;</span>Building Packages</a></span></li><li><span><a href=\"#Documenting-Packages\" data-toc-modified-id=\"Documenting-Packages-10.7.4\"><span class=\"toc-item-num\">10.7.4&nbsp;&nbsp;</span>Documenting Packages</a></span></li><li><span><a href=\"#Querying-Packages\" data-toc-modified-id=\"Querying-Packages-10.7.5\"><span class=\"toc-item-num\">10.7.5&nbsp;&nbsp;</span>Querying Packages</a></span></li></ul></li></ul></li></ul></div>"
   ]
  },
  {
   "cell_type": "markdown",
   "metadata": {
    "slideshow": {
     "slide_type": "slide"
    },
    "tags": []
   },
   "source": [
    "# Packages and the Go Tool"
   ]
  },
  {
   "cell_type": "markdown",
   "metadata": {
    "slideshow": {
     "slide_type": "slide"
    }
   },
   "source": [
    "## Introduction\n",
    "* Make the Design and Maintenance of large Programs practical\n",
    "* Each Package Defines a distinct name space that encloses its identifiers"
   ]
  },
  {
   "cell_type": "markdown",
   "metadata": {
    "slideshow": {
     "slide_type": "slide"
    }
   },
   "source": [
    "## Import Paths\n",
    "* "
   ]
  },
  {
   "cell_type": "code",
   "execution_count": 10,
   "metadata": {
    "slideshow": {
     "slide_type": "subslide"
    }
   },
   "outputs": [],
   "source": [
    "import (\n",
    "    \"fmt\"\n",
    "    \"math/rand\"\n",
    "    \"encoding/json\"\n",
    "    \"golang.org/x/net/html\"\n",
    "    \"github.com/go-sql-driver/mysql\"\n",
    ")"
   ]
  },
  {
   "cell_type": "markdown",
   "metadata": {
    "slideshow": {
     "slide_type": "slide"
    }
   },
   "source": [
    "## The Package Declaration"
   ]
  },
  {
   "cell_type": "code",
   "execution_count": 1,
   "metadata": {},
   "outputs": [
    {
     "name": "stdout",
     "output_type": "stream",
     "text": [
      "5577006791947779410\n"
     ]
    }
   ],
   "source": [
    "//package main\n",
    "import (\n",
    "    \"fmt\"\n",
    "    mrand \"math/rand\"\n",
    "    \"crypto/rand\"\n",
    ")\n",
    "func main(){\n",
    "    fmt.Println(mrand.Int())\n",
    "}"
   ]
  },
  {
   "cell_type": "markdown",
   "metadata": {
    "slideshow": {
     "slide_type": "slide"
    }
   },
   "source": [
    "## Import Declaration"
   ]
  },
  {
   "cell_type": "code",
   "execution_count": 2,
   "metadata": {
    "slideshow": {
     "slide_type": "subslide"
    }
   },
   "outputs": [],
   "source": [
    "import \"fmt\"\n",
    "import \"os\"\n",
    "import (\n",
    "    \"fmt\"\n",
    "    \"os\"\n",
    ")"
   ]
  },
  {
   "cell_type": "code",
   "execution_count": 13,
   "metadata": {
    "slideshow": {
     "slide_type": "subslide"
    }
   },
   "outputs": [],
   "source": [
    "import (\n",
    "    \"crypto/rand\"\n",
    "    //mrand \"math/rand\"   // alternate name mrand avoids conflict\n",
    "    \"math/rand\"\n",
    ")"
   ]
  },
  {
   "cell_type": "markdown",
   "metadata": {
    "slideshow": {
     "slide_type": "slide"
    }
   },
   "source": [
    "## Blank Imports"
   ]
  },
  {
   "cell_type": "code",
   "execution_count": 14,
   "metadata": {
    "slideshow": {
     "slide_type": "subslide"
    }
   },
   "outputs": [],
   "source": [
    "import _ \"image/png\"  // register PNG decoder"
   ]
  },
  {
   "cell_type": "code",
   "execution_count": 15,
   "metadata": {
    "slideshow": {
     "slide_type": "subslide"
    }
   },
   "outputs": [],
   "source": [
    "//gopl.io/ch10/jpg\n",
    "//package main\n",
    "import (\n",
    "    \"fmt\"\n",
    "    \"image\"\n",
    "    \"image/jpeg\"\n",
    "    _ \"image/png\" // register PNG decoder\n",
    "    \"io\"\n",
    "    \"os\"\n",
    ")"
   ]
  },
  {
   "cell_type": "code",
   "execution_count": 1,
   "metadata": {
    "slideshow": {
     "slide_type": "subslide"
    }
   },
   "outputs": [
    {
     "name": "stderr",
     "output_type": "stream",
     "text": [
      "jpeg: image: unknown format\n",
      "exit status 1\n"
     ]
    }
   ],
   "source": [
    "// Copyright © 2016 Alan A. A. Donovan & Brian W. Kernighan.\n",
    "// License: https://creativecommons.org/licenses/by-nc-sa/4.0/\n",
    "\n",
    "// See page 287.\n",
    "\n",
    "//!+main\n",
    "\n",
    "// The jpeg command reads a PNG image from the standard input\n",
    "// and writes it as a JPEG image to the standard output.\n",
    "//package main\n",
    "\n",
    "import (\n",
    "\t\"fmt\"\n",
    "\t\"image\"\n",
    "\t\"image/jpeg\"\n",
    "\t//_ \"image/png\" // register PNG decoder\n",
    "\t\"io\"\n",
    "\t\"os\"\n",
    ")\n",
    "%args m.png > m.jpg\n",
    "func main() { \n",
    "    file, err := os.Open(os.Args[1])\n",
    "    if err != nil {\n",
    "        log.Fatal(err)\n",
    "        //fmt.Fprintf(os.Stderr, \"%v\\n\", err)\n",
    "    }\n",
    "\tif err := toJPEG(file, os.Stdout); err != nil {\n",
    "    //if err := toJPEG(os.Stdin, os.Stdout); err != nil {\n",
    "\t\tfmt.Fprintf(os.Stderr, \"jpeg: %v\\n\", err)\n",
    "\t\tos.Exit(1)\n",
    "\t}\n",
    "}\n",
    "\n",
    "func toJPEG(in io.Reader, out io.Writer) error {\n",
    "\timg, kind, err := image.Decode(in)\n",
    "\tif err != nil {\n",
    "\t\treturn err\n",
    "\t}\n",
    "\tfmt.Fprintln(os.Stderr, \"Input format =\", kind)\n",
    "\treturn jpeg.Encode(out, img, &jpeg.Options{Quality: 95})\n",
    "}\n",
    "\n",
    "//!-main\n",
    "\n",
    "/*\n",
    "//!+with\n",
    "$ go build gopl.io/ch3/mandelbrot\n",
    "$ go build gopl.io/ch10/jpeg\n",
    "$ ./mandelbrot | ./jpeg >mandelbrot.jpg\n",
    "Input format = png\n",
    "//!-with\n",
    "\n",
    "//!+without\n",
    "$ go build gopl.io/ch10/jpeg\n",
    "$ ./mandelbrot | ./jpeg >mandelbrot.jpg\n",
    "jpeg: image: unknown format\n",
    "//!-without\n",
    "*/"
   ]
  },
  {
   "cell_type": "code",
   "execution_count": 2,
   "metadata": {},
   "outputs": [
    {
     "name": "stderr",
     "output_type": "stream",
     "text": [
      "Input format = png\n"
     ]
    }
   ],
   "source": [
    "!go build gopl.io/ch3/mandelbrot\n",
    "!go build gopl.io/ch10/jpeg\n",
    "!./mandelbrot | ./jpeg >mandelbrot.jpg"
   ]
  },
  {
   "cell_type": "markdown",
   "metadata": {
    "slideshow": {
     "slide_type": "subslide"
    }
   },
   "source": [
    "* database/sql package lets users install just the database drivers they need"
   ]
  },
  {
   "cell_type": "code",
   "execution_count": 37,
   "metadata": {
    "slideshow": {
     "slide_type": "subslide"
    }
   },
   "outputs": [],
   "source": [
    "import (\n",
    "    \"database/sql\"\n",
    "    _ \"github.com/lib/pq\"\n",
    "    _ \"github.com/go-sql-driver/mysql\"\n",
    ")"
   ]
  },
  {
   "cell_type": "code",
   "execution_count": 38,
   "metadata": {},
   "outputs": [
    {
     "name": "stdout",
     "output_type": "stream",
     "text": [
      "sql: unknown driver \"postgres\" (forgotten import?)\n",
      "invalid DSN: missing the slash separating the database name\n",
      "sql: unknown driver \"sqlite3\" (forgotten import?)\n"
     ]
    }
   ],
   "source": [
    "%%\n",
    "dbname := \"mydb\"\n",
    "db, err := sql.Open(\"postgres\", dbname)\n",
    "if (err != nil){\n",
    "    fmt.Println(err)\n",
    "}\n",
    "db, err = sql.Open(\"mysql\", dbname)\n",
    "if (err != nil){\n",
    "    fmt.Println(err)\n",
    "}\n",
    "db, err = sql.Open(\"sqlite3\", dbname)\n",
    "if (err != nil){\n",
    "    fmt.Println(err)\n",
    "}\n",
    "_ =db\n",
    "_ =err"
   ]
  },
  {
   "cell_type": "markdown",
   "metadata": {
    "slideshow": {
     "slide_type": "slide"
    }
   },
   "source": [
    "## Packages and Naming"
   ]
  },
  {
   "cell_type": "markdown",
   "metadata": {
    "slideshow": {
     "slide_type": "slide"
    }
   },
   "source": [
    "## The Go Tool\n",
    "<code>\n",
    "    $go \n",
    "    ...\n",
    "    build       compile packages and dependencies\n",
    "    clean       remove object files\n",
    "    doc         show documentation for package or symbol\n",
    "    env         print Go environment information \n",
    "    fmt         run gofmt on package sources\n",
    "    get         download and install packages and dependencies\n",
    "    install     compile and install packages and dependencies\n",
    "    list        list packages\n",
    "    run         compile and run Go program\n",
    "    test        test packages\n",
    "    version     print Go version\n",
    "    vet         run go tool vet on packages\n",
    "  Use \"go help [command]\" for more information about a command.\n",
    "</code>"
   ]
  },
  {
   "cell_type": "markdown",
   "metadata": {
    "slideshow": {
     "slide_type": "subslide"
    }
   },
   "source": [
    "### Workspace Organization\n",
    "* \\$GOPATH \n",
    "  * the root of the workspace\n",
    "  * export GOPATH=\\$HOME/gobook\n",
    "  * go get gopl.io/..\n",
    "  * bin: executable, pkg: compiled packages, src: source code\n",
    "* \\$GOROOT\n",
    "  * the root of the GO distribution"
   ]
  },
  {
   "cell_type": "code",
   "execution_count": null,
   "metadata": {},
   "outputs": [],
   "source": [
    "!go env"
   ]
  },
  {
   "cell_type": "markdown",
   "metadata": {
    "slideshow": {
     "slide_type": "subslide"
    }
   },
   "source": [
    "### Downloading Packages"
   ]
  },
  {
   "cell_type": "markdown",
   "metadata": {
    "slideshow": {
     "slide_type": "subslide"
    }
   },
   "source": [
    "### Building Packages\n"
   ]
  },
  {
   "cell_type": "code",
   "execution_count": 9,
   "metadata": {
    "slideshow": {
     "slide_type": "subslide"
    }
   },
   "outputs": [
    {
     "name": "stdout",
     "output_type": "stream",
     "text": [
      "darwin arm64\n"
     ]
    }
   ],
   "source": [
    "// Copyright © 2016 Alan A. A. Donovan & Brian W. Kernighan.\n",
    "// License: https://creativecommons.org/licenses/by-nc-sa/4.0/\n",
    "\n",
    "// See page 295.\n",
    "\n",
    "// The cross command prints the values of GOOS and GOARCH for this target.\n",
    "//package main\n",
    "\n",
    "import (\n",
    "\t\"fmt\"\n",
    "\t\"runtime\"\n",
    ")\n",
    "\n",
    "//!+\n",
    "func main() {\n",
    "\tfmt.Println(runtime.GOOS, runtime.GOARCH)\n",
    "}\n",
    "//main()\n",
    "//!-"
   ]
  },
  {
   "cell_type": "code",
   "execution_count": 7,
   "metadata": {
    "slideshow": {
     "slide_type": "subslide"
    }
   },
   "outputs": [
    {
     "name": "stdout",
     "output_type": "stream",
     "text": [
      "darwin arm64\n"
     ]
    }
   ],
   "source": [
    "!go build gopl.io/ch10/cross\n",
    "!./cross"
   ]
  },
  {
   "cell_type": "code",
   "execution_count": 10,
   "metadata": {
    "slideshow": {
     "slide_type": "subslide"
    }
   },
   "outputs": [
    {
     "name": "stdout",
     "output_type": "stream",
     "text": [
      "darwin amd64\n"
     ]
    }
   ],
   "source": [
    "! GOARCH=amd64 go build gopl.io/ch10/cross\n",
    "!./cross"
   ]
  },
  {
   "cell_type": "code",
   "execution_count": 11,
   "metadata": {
    "scrolled": true
   },
   "outputs": [
    {
     "name": "stdout",
     "output_type": "stream",
     "text": [
      "package build // import \"go/build\"\n",
      "\n",
      "Package build gathers information about Go packages.\n",
      "\n",
      "# Go Path\n",
      "\n",
      "The Go path is a list of directory trees containing Go source code. It is\n",
      "consulted to resolve imports that cannot be found in the standard Go tree.\n",
      "The default path is the value of the GOPATH environment variable, interpreted\n",
      "as a path list appropriate to the operating system (on Unix, the variable is a\n",
      "colon-separated string; on Windows, a semicolon-separated string; on Plan 9,\n",
      "a list).\n",
      "\n",
      "Each directory listed in the Go path must have a prescribed structure:\n",
      "\n",
      "The src/ directory holds source code. The path below 'src' determines the import\n",
      "path or executable name.\n",
      "\n",
      "The pkg/ directory holds installed package objects. As in the Go tree, each\n",
      "target operating system and architecture pair has its own subdirectory of pkg\n",
      "(pkg/GOOS_GOARCH).\n",
      "\n",
      "If DIR is a directory listed in the Go path, a package with source\n",
      "in DIR/src/foo/bar can be imported as \"foo/bar\" and has its compiled\n",
      "form installed to \"DIR/pkg/GOOS_GOARCH/foo/bar.a\" (or, for gccgo,\n",
      "\"DIR/pkg/gccgo/foo/libbar.a\").\n",
      "\n",
      "The bin/ directory holds compiled commands. Each command is named for its source\n",
      "directory, but only using the final element, not the entire path. That is,\n",
      "the command with source in DIR/src/foo/quux is installed into DIR/bin/quux,\n",
      "not DIR/bin/foo/quux. The foo/ is stripped so that you can add DIR/bin to your\n",
      "PATH to get at the installed commands.\n",
      "\n",
      "Here's an example directory layout:\n",
      "\n",
      "    GOPATH=/home/user/gocode\n",
      "\n",
      "    /home/user/gocode/\n",
      "        src/\n",
      "            foo/\n",
      "                bar/               (go code in package bar)\n",
      "                    x.go\n",
      "                quux/              (go code in package main)\n",
      "                    y.go\n",
      "        bin/\n",
      "            quux                   (installed command)\n",
      "        pkg/\n",
      "            linux_amd64/\n",
      "                foo/\n",
      "                    bar.a          (installed package object)\n",
      "\n",
      "# Build Constraints\n",
      "\n",
      "A build constraint, also known as a build tag, is a condition under which a file\n",
      "should be included in the package. Build constraints are given by a line comment\n",
      "that begins\n",
      "\n",
      "    //go:build\n",
      "\n",
      "Build constraints may also be part of a file's name (for example,\n",
      "source_windows.go will only be included if the target operating system is\n",
      "windows).\n",
      "\n",
      "See 'go help buildconstraint' (https://golang.org/cmd/go/#hdr-Build_constraints)\n",
      "for details.\n",
      "\n",
      "# Binary-Only Packages\n",
      "\n",
      "In Go 1.12 and earlier, it was possible to distribute packages in binary\n",
      "form without including the source code used for compiling the package.\n",
      "The package was distributed with a source file not excluded by build constraints\n",
      "and containing a \"//go:binary-only-package\" comment. Like a build constraint,\n",
      "this comment appeared at the top of a file, preceded only by blank lines and\n",
      "other line comments and with a blank line following the comment, to separate it\n",
      "from the package documentation. Unlike build constraints, this comment is only\n",
      "recognized in non-test Go source files.\n",
      "\n",
      "The minimal source code for a binary-only package was therefore:\n",
      "\n",
      "    //go:binary-only-package\n",
      "\n",
      "    package mypkg\n",
      "\n",
      "The source code could include additional Go code. That code was never compiled\n",
      "but would be processed by tools like godoc and might be useful as end-user\n",
      "documentation.\n",
      "\n",
      "\"go build\" and other commands no longer support binary-only-packages. Import\n",
      "and ImportDir will still set the BinaryOnly flag in packages containing these\n",
      "comments for use in tools and error messages.\n",
      "\n",
      "var ToolDir = getToolDir()\n",
      "func ArchChar(goarch string) (string, error)\n",
      "func IsLocalImport(path string) bool\n",
      "type Context struct{ ... }\n",
      "    var Default Context = defaultContext()\n",
      "type ImportMode uint\n",
      "    const FindOnly ImportMode = 1 << iota ...\n",
      "type MultiplePackageError struct{ ... }\n",
      "type NoGoError struct{ ... }\n",
      "type Package struct{ ... }\n",
      "    func Import(path, srcDir string, mode ImportMode) (*Package, error)\n",
      "    func ImportDir(dir string, mode ImportMode) (*Package, error)\n"
     ]
    }
   ],
   "source": [
    "!go doc go/build"
   ]
  },
  {
   "cell_type": "markdown",
   "metadata": {
    "slideshow": {
     "slide_type": "subslide"
    }
   },
   "source": [
    "### Documenting Packages"
   ]
  },
  {
   "cell_type": "code",
   "execution_count": 12,
   "metadata": {},
   "outputs": [
    {
     "name": "stdout",
     "output_type": "stream",
     "text": [
      "package time // import \"time\"\n",
      "\n",
      "Package time provides functionality for measuring and displaying time.\n",
      "\n",
      "The calendrical calculations always assume a Gregorian calendar, with no leap\n",
      "seconds.\n",
      "\n",
      "# Monotonic Clocks\n",
      "\n",
      "Operating systems provide both a “wall clock,” which is subject to changes\n",
      "for clock synchronization, and a “monotonic clock,” which is not. The general\n",
      "rule is that the wall clock is for telling time and the monotonic clock is for\n",
      "measuring time. Rather than split the API, in this package the Time returned by\n",
      "time.Now contains both a wall clock reading and a monotonic clock reading; later\n",
      "time-telling operations use the wall clock reading, but later time-measuring\n",
      "operations, specifically comparisons and subtractions, use the monotonic clock\n",
      "reading.\n",
      "\n",
      "For example, this code always computes a positive elapsed time of approximately\n",
      "20 milliseconds, even if the wall clock is changed during the operation being\n",
      "timed:\n",
      "\n",
      "    start := time.Now()\n",
      "    ... operation that takes 20 milliseconds ...\n",
      "    t := time.Now()\n",
      "    elapsed := t.Sub(start)\n",
      "\n",
      "Other idioms, such as time.Since(start), time.Until(deadline), and\n",
      "time.Now().Before(deadline), are similarly robust against wall clock resets.\n",
      "\n",
      "The rest of this section gives the precise details of how operations use\n",
      "monotonic clocks, but understanding those details is not required to use this\n",
      "package.\n",
      "\n",
      "The Time returned by time.Now contains a monotonic clock reading. If Time t\n",
      "has a monotonic clock reading, t.Add adds the same duration to both the wall\n",
      "clock and monotonic clock readings to compute the result. Because t.AddDate(y,\n",
      "m, d), t.Round(d), and t.Truncate(d) are wall time computations, they always\n",
      "strip any monotonic clock reading from their results. Because t.In, t.Local,\n",
      "and t.UTC are used for their effect on the interpretation of the wall time,\n",
      "they also strip any monotonic clock reading from their results. The canonical\n",
      "way to strip a monotonic clock reading is to use t = t.Round(0).\n",
      "\n",
      "If Times t and u both contain monotonic clock readings, the operations\n",
      "t.After(u), t.Before(u), t.Equal(u), and t.Sub(u) are carried out using the\n",
      "monotonic clock readings alone, ignoring the wall clock readings. If either t or\n",
      "u contains no monotonic clock reading, these operations fall back to using the\n",
      "wall clock readings.\n",
      "\n",
      "On some systems the monotonic clock will stop if the computer goes to sleep.\n",
      "On such a system, t.Sub(u) may not accurately reflect the actual time that\n",
      "passed between t and u.\n",
      "\n",
      "Because the monotonic clock reading has no meaning outside the current process,\n",
      "the serialized forms generated by t.GobEncode, t.MarshalBinary, t.MarshalJSON,\n",
      "and t.MarshalText omit the monotonic clock reading, and t.Format provides\n",
      "no format for it. Similarly, the constructors time.Date, time.Parse,\n",
      "time.ParseInLocation, and time.Unix, as well as the unmarshalers t.GobDecode,\n",
      "t.UnmarshalBinary. t.UnmarshalJSON, and t.UnmarshalText always create times with\n",
      "no monotonic clock reading.\n",
      "\n",
      "The monotonic clock reading exists only in Time values. It is not a part of\n",
      "Duration values or the Unix times returned by t.Unix and friends.\n",
      "\n",
      "Note that the Go == operator compares not just the time instant but also the\n",
      "Location and the monotonic clock reading. See the documentation for the Time\n",
      "type for a discussion of equality testing for Time values.\n",
      "\n",
      "For debugging, the result of t.String does include the monotonic clock\n",
      "reading if present. If t != u because of different monotonic clock readings,\n",
      "that difference will be visible when printing t.String() and u.String().\n",
      "\n",
      "const Layout = \"01/02 03:04:05PM '06 -0700\" ...\n",
      "const Nanosecond Duration = 1 ...\n",
      "func After(d Duration) <-chan Time\n",
      "func Sleep(d Duration)\n",
      "func Tick(d Duration) <-chan Time\n",
      "type Duration int64\n",
      "    func ParseDuration(s string) (Duration, error)\n",
      "    func Since(t Time) Duration\n",
      "    func Until(t Time) Duration\n",
      "type Location struct{ ... }\n",
      "    var Local *Location = &localLoc\n",
      "    var UTC *Location = &utcLoc\n",
      "    func FixedZone(name string, offset int) *Location\n",
      "    func LoadLocation(name string) (*Location, error)\n",
      "    func LoadLocationFromTZData(name string, data []byte) (*Location, error)\n",
      "type Month int\n",
      "    const January Month = 1 + iota ...\n",
      "type ParseError struct{ ... }\n",
      "type Ticker struct{ ... }\n",
      "    func NewTicker(d Duration) *Ticker\n",
      "type Time struct{ ... }\n",
      "    func Date(year int, month Month, day, hour, min, sec, nsec int, loc *Location) Time\n",
      "    func Now() Time\n",
      "    func Parse(layout, value string) (Time, error)\n",
      "    func ParseInLocation(layout, value string, loc *Location) (Time, error)\n",
      "    func Unix(sec int64, nsec int64) Time\n",
      "    func UnixMicro(usec int64) Time\n",
      "    func UnixMilli(msec int64) Time\n",
      "type Timer struct{ ... }\n",
      "    func AfterFunc(d Duration, f func()) *Timer\n",
      "    func NewTimer(d Duration) *Timer\n",
      "type Weekday int\n",
      "    const Sunday Weekday = iota ...\n"
     ]
    }
   ],
   "source": [
    "!go doc time"
   ]
  },
  {
   "cell_type": "code",
   "execution_count": 13,
   "metadata": {},
   "outputs": [
    {
     "name": "stdout",
     "output_type": "stream",
     "text": [
      "package time // import \"time\"\n",
      "\n",
      "func Since(t Time) Duration\n",
      "    Since returns the time elapsed since t. It is shorthand for\n",
      "    time.Now().Sub(t).\n",
      "\n"
     ]
    }
   ],
   "source": [
    "!go doc time.Since"
   ]
  },
  {
   "cell_type": "code",
   "execution_count": 14,
   "metadata": {},
   "outputs": [
    {
     "name": "stdout",
     "output_type": "stream",
     "text": [
      "package time // import \"time\"\n",
      "\n",
      "func (d Duration) Seconds() float64\n",
      "    Seconds returns the duration as a floating point number of seconds.\n",
      "\n"
     ]
    }
   ],
   "source": [
    "!go doc time.Duration.Seconds"
   ]
  },
  {
   "cell_type": "code",
   "execution_count": 15,
   "metadata": {},
   "outputs": [
    {
     "name": "stdout",
     "output_type": "stream",
     "text": [
      "package json // import \"encoding/json\"\n",
      "\n",
      "func (dec *Decoder) Decode(v any) error\n",
      "    Decode reads the next JSON-encoded value from its input and stores it in the\n",
      "    value pointed to by v.\n",
      "\n",
      "    See the documentation for Unmarshal for details about the conversion of JSON\n",
      "    into a Go value.\n",
      "\n"
     ]
    }
   ],
   "source": [
    "!go doc json.decode"
   ]
  },
  {
   "cell_type": "code",
   "execution_count": 16,
   "metadata": {},
   "outputs": [
    {
     "name": "stdout",
     "output_type": "stream",
     "text": [
      "using module mode; GOMOD=/Users/skhuang/course/go2023/go2023/go.mod\n"
     ]
    },
    {
     "name": "stderr",
     "output_type": "stream",
     "text": [
      "2023/12/13 16:30:10 lstat /opt/homebrew/Cellar/go@1.19/1.19.13/libexec/add: no such file or directory\n",
      "^C\n",
      "signal: interrupt\n"
     ]
    }
   ],
   "source": [
    "!godoc -http :8000"
   ]
  },
  {
   "cell_type": "markdown",
   "metadata": {},
   "source": [
    "[http://localhost:8000/pkg](http://localhost:8000/pkg/)"
   ]
  },
  {
   "cell_type": "markdown",
   "metadata": {},
   "source": [
    "### Querying Packages"
   ]
  },
  {
   "cell_type": "code",
   "execution_count": 19,
   "metadata": {},
   "outputs": [
    {
     "name": "stderr",
     "output_type": "stream",
     "text": [
      "go: added github.com/go-sql-driver/mysql v1.7.1\n"
     ]
    },
    {
     "name": "stdout",
     "output_type": "stream",
     "text": [
      "github.com/go-sql-driver/mysql\n"
     ]
    }
   ],
   "source": [
    "!go get github.com/go-sql-driver/mysql\n",
    "!go list github.com/go-sql-driver/mysql"
   ]
  },
  {
   "cell_type": "code",
   "execution_count": 24,
   "metadata": {},
   "outputs": [
    {
     "name": "stdout",
     "output_type": "stream",
     "text": [
      "/Users/skhuang/course/go2023/go2023/ch10\n"
     ]
    },
    {
     "name": "stderr",
     "output_type": "stream",
     "text": [
      "pattern ...: golang.org/x/net@v0.0.0-20210929193557-e81a3d93ecf6: missing go.sum entry\n",
      "exit status 1\n"
     ]
    }
   ],
   "source": [
    "!pwd\n",
    "!go list ..."
   ]
  },
  {
   "cell_type": "code",
   "execution_count": 22,
   "metadata": {},
   "outputs": [
    {
     "name": "stdout",
     "output_type": "stream",
     "text": [
      "gopl.io/ch3/basename1\n",
      "gopl.io/ch3/basename2\n",
      "gopl.io/ch3/comma\n",
      "gopl.io/ch3/mandelbrot\n",
      "gopl.io/ch3/netflag\n",
      "gopl.io/ch3/printints\n",
      "gopl.io/ch3/surface\n"
     ]
    }
   ],
   "source": [
    "!go list gopl.io/ch3/..."
   ]
  },
  {
   "cell_type": "code",
   "execution_count": 25,
   "metadata": {
    "scrolled": true
   },
   "outputs": [
    {
     "name": "stdout",
     "output_type": "stream",
     "text": [
      "{\n",
      "\t\"Dir\": \"/opt/homebrew/Cellar/go@1.19/1.19.13/libexec/src/hash\",\n",
      "\t\"ImportPath\": \"hash\",\n",
      "\t\"Name\": \"hash\",\n",
      "\t\"Doc\": \"Package hash provides interfaces for hash functions.\",\n",
      "\t\"Target\": \"/opt/homebrew/Cellar/go@1.19/1.19.13/libexec/pkg/darwin_arm64/hash.a\",\n",
      "\t\"Root\": \"/opt/homebrew/Cellar/go@1.19/1.19.13/libexec\",\n",
      "\t\"Match\": [\n",
      "\t\t\"hash\"\n",
      "\t],\n",
      "\t\"Goroot\": true,\n",
      "\t\"Standard\": true,\n",
      "\t\"GoFiles\": [\n",
      "\t\t\"hash.go\"\n",
      "\t],\n",
      "\t\"Imports\": [\n",
      "\t\t\"io\"\n",
      "\t],\n",
      "\t\"Deps\": [\n",
      "\t\t\"errors\",\n",
      "\t\t\"internal/abi\",\n",
      "\t\t\"internal/bytealg\",\n",
      "\t\t\"internal/cpu\",\n",
      "\t\t\"internal/goarch\",\n",
      "\t\t\"internal/goexperiment\",\n",
      "\t\t\"internal/goos\",\n",
      "\t\t\"internal/race\",\n",
      "\t\t\"internal/reflectlite\",\n",
      "\t\t\"internal/unsafeheader\",\n",
      "\t\t\"io\",\n",
      "\t\t\"runtime\",\n",
      "\t\t\"runtime/internal/atomic\",\n",
      "\t\t\"runtime/internal/math\",\n",
      "\t\t\"runtime/internal/sys\",\n",
      "\t\t\"sync\",\n",
      "\t\t\"sync/atomic\",\n",
      "\t\t\"unsafe\"\n",
      "\t],\n",
      "\t\"XTestGoFiles\": [\n",
      "\t\t\"example_test.go\",\n",
      "\t\t\"marshal_test.go\"\n",
      "\t],\n",
      "\t\"XTestImports\": [\n",
      "\t\t\"bytes\",\n",
      "\t\t\"crypto/md5\",\n",
      "\t\t\"crypto/sha1\",\n",
      "\t\t\"crypto/sha256\",\n",
      "\t\t\"crypto/sha512\",\n",
      "\t\t\"encoding\",\n",
      "\t\t\"encoding/hex\",\n",
      "\t\t\"fmt\",\n",
      "\t\t\"hash\",\n",
      "\t\t\"hash/adler32\",\n",
      "\t\t\"hash/crc32\",\n",
      "\t\t\"hash/crc64\",\n",
      "\t\t\"hash/fnv\",\n",
      "\t\t\"log\",\n",
      "\t\t\"testing\"\n",
      "\t]\n",
      "}\n"
     ]
    }
   ],
   "source": [
    "!go list -json hash"
   ]
  },
  {
   "cell_type": "code",
   "execution_count": 27,
   "metadata": {},
   "outputs": [
    {
     "name": "stderr",
     "output_type": "stream",
     "text": [
      "pattern ...xml...: golang.org/x/net@v0.0.0-20210929193557-e81a3d93ecf6: missing go.sum entry\n",
      "exit status 1\n"
     ]
    }
   ],
   "source": [
    "!go list ...xml..."
   ]
  },
  {
   "cell_type": "code",
   "execution_count": 28,
   "metadata": {},
   "outputs": [
    {
     "name": "stdout",
     "output_type": "stream",
     "text": [
      "errors internal/abi internal/bytealg internal/cpu internal/goarch internal/goexperiment internal/goos internal/reflectlite internal/unsafeheader math math/bits runtime runtime/internal/atomic runtime/internal/math runtime/internal/sys unicode/utf8 unsafe\n"
     ]
    }
   ],
   "source": [
    "!go list -f '{{join .Deps \" \"}}' strconv\n",
    "\n"
   ]
  },
  {
   "cell_type": "code",
   "execution_count": 31,
   "metadata": {},
   "outputs": [
    {
     "name": "stdout",
     "output_type": "stream",
     "text": [
      "compress/bzip2 -> bufio io sort\n",
      "compress/flate -> bufio errors fmt io math math/bits sort strconv sync\n",
      "compress/gzip -> bufio compress/flate encoding/binary errors fmt hash/crc32 io time\n",
      "compress/lzw -> bufio errors fmt io\n",
      "compress/zlib -> bufio compress/flate encoding/binary errors fmt hash hash/adler32 io\n"
     ]
    }
   ],
   "source": [
    "!go list -f '{{.ImportPath}} -> {{join .Imports \" \"}}' compress/... "
   ]
  },
  {
   "cell_type": "code",
   "execution_count": 32,
   "metadata": {},
   "outputs": [
    {
     "name": "stdout",
     "output_type": "stream",
     "text": [
      "[doc.go errors.go format.go print.go scan.go]\n"
     ]
    }
   ],
   "source": [
    "!go list -f={{.GoFiles}} fmt"
   ]
  },
  {
   "cell_type": "markdown",
   "metadata": {},
   "source": []
  }
 ],
 "metadata": {
  "celltoolbar": "Slideshow",
  "kernelspec": {
   "display_name": "Go (gonb)",
   "language": "go",
   "name": "gonb"
  },
  "language_info": {
   "codemirror_mode": "",
   "file_extension": ".go",
   "mimetype": "",
   "name": "go",
   "nbconvert_exporter": "",
   "pygments_lexer": "",
   "version": "go1.21.1"
  },
  "latex_envs": {
   "LaTeX_envs_menu_present": true,
   "autoclose": false,
   "autocomplete": true,
   "bibliofile": "biblio.bib",
   "cite_by": "apalike",
   "current_citInitial": 1,
   "eqLabelWithNumbers": true,
   "eqNumInitial": 1,
   "hotkeys": {
    "equation": "Ctrl-E",
    "itemize": "Ctrl-I"
   },
   "labels_anchors": false,
   "latex_user_defs": false,
   "report_style_numbering": false,
   "user_envs_cfg": false
  },
  "rise": {
   "enable_chalkboard": true,
   "scroll": true
  },
  "toc": {
   "base_numbering": "10",
   "nav_menu": {},
   "number_sections": true,
   "sideBar": true,
   "skip_h1_title": false,
   "title_cell": "Table of Contents",
   "title_sidebar": "Contents",
   "toc_cell": true,
   "toc_position": {},
   "toc_section_display": true,
   "toc_window_display": false
  }
 },
 "nbformat": 4,
 "nbformat_minor": 4
}
