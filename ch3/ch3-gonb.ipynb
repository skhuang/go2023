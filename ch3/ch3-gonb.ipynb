{
 "cells": [
  {
   "cell_type": "markdown",
   "metadata": {
    "slideshow": {
     "slide_type": "slide"
    },
    "tags": []
   },
   "source": [
    "# 3. Basic Data Types\n"
   ]
  },
  {
   "cell_type": "markdown",
   "metadata": {
    "slideshow": {
     "slide_type": "slide"
    },
    "tags": []
   },
   "source": [
    "### Go's Types\n",
    "* basic types\n",
    "    * numbers, strings, and booleans (chap 3)\n",
    "* aggregate types\n",
    "    * arrays and structs (chap 4)\n",
    "* reference types\n",
    "    * pointers, slices, maps (chap 4), functions (chap 5), and channels (chap 8)\n",
    "    * refer to program variables or state indirectly\n",
    "* interface types (chap 7)"
   ]
  },
  {
   "cell_type": "markdown",
   "metadata": {
    "slideshow": {
     "slide_type": "subslide"
    },
    "tags": []
   },
   "source": [
    "### Basic Data Types\n",
    "* Number\n",
    "    * Integers: signed, unsigned integers (8,16,32,64)\n",
    "    * Floating-Point Numbers (32,64)\n",
    "    * Complex Numbers (64,128)\n",
    "* Booleans\n",
    "* Strings\n",
    "* Constants"
   ]
  },
  {
   "cell_type": "markdown",
   "metadata": {
    "slideshow": {
     "slide_type": "slide"
    },
    "tags": []
   },
   "source": [
    "## 3.1. Integers\n",
    "* signed integers -8, 16, 32, 64 bits - **int8, int16, int32, int64**\n",
    "* unsigned integers - **uint8, uint16, uint32, uint64**\n",
    "* natural form: **int** and **uint** (32 or 64 bits depending on the platform and cannot make assumptions: different compilers may make different choices even on identical hardware)\n",
    "* **rune**: a synonym for **int32** and a Unicode code point\n",
    "* **byte**: a synonym for **uint8**, raw data \n",
    "* **uintptr**: hold all the bits of a pointer value\n"
   ]
  },
  {
   "cell_type": "markdown",
   "metadata": {
    "slideshow": {
     "slide_type": "fragment"
    },
    "tags": []
   },
   "source": [
    "### Note on the integer types\n",
    "* ***int, uint, and uintptr*** are different types\n",
    "* ***int*** is not the same type as ***int32***, even if the natural size of integers is 32 bits\n",
    "    * explicit conversion required to use an ***int*** value where an ***int32*** is needed\n",
    "* Signed numbers are in 2's complement form\n",
    "    * n-bit number $-2^{n-1}$ to $2^{n-1}$ -1 (-128 to 127 for int8)\n",
    "* Unsigned integers: range from 0 to $2^n$ - 1 (0 to 255 for uint8)\n"
   ]
  },
  {
   "cell_type": "code",
   "execution_count": 2,
   "metadata": {
    "slideshow": {
     "slide_type": "subslide"
    },
    "tags": []
   },
   "outputs": [
    {
     "name": "stdout",
     "output_type": "stream",
     "text": [
      "255 0 1\n",
      "11111111, 0000000100000000, 1111110000000001\n",
      "127 -128 1\n",
      "01111111, 0000000010000000, 0011111100000001\n"
     ]
    }
   ],
   "source": [
    "import \"fmt\"\n",
    "%%\n",
    "var u uint8 = 255  \n",
    "fmt.Println(u, u+1, u*u*u*u) // \"255 0 1\"\n",
    "fmt.Printf(\"%08b, %016b, %016b\\n\", u, uint16(u)+1, uint16(u)*uint16(u)*uint16(u)*uint16(u))\n",
    "\n",
    "var i int8 = 127\n",
    "fmt.Println(i, i+1, i*i) // \"127 -128 1\"\n",
    "fmt.Printf(\"%08b, %016b, %016b\\n\", i, int16(i)+1, int16(i)*int16(i))\n"
   ]
  },
  {
   "cell_type": "markdown",
   "metadata": {
    "slideshow": {
     "slide_type": "subslide"
    },
    "tags": []
   },
   "source": [
    "### Go's binary operators\n",
    "\n",
    "Operator|  ||||||\n",
    "---|:---:|---:|:--|:--|:--|:--|\n",
    "\\* |/ |% |<< |>> |& |&^|\n",
    "\\+ | -| \\|| ^ ||||\n",
    "==|!=| <| <=| >| >=||\n",
    "&&|||||||\n",
    "\\|\\|||||||"
   ]
  },
  {
   "cell_type": "code",
   "execution_count": 4,
   "metadata": {
    "slideshow": {
     "slide_type": "fragment"
    }
   },
   "outputs": [
    {
     "name": "stdout",
     "output_type": "stream",
     "text": [
      "1 -1 2 2.5\n"
     ]
    }
   ],
   "source": [
    "%%\n",
    "fmt.Println( 5%2, -5%-2,5/2,5/2.0)"
   ]
  },
  {
   "cell_type": "markdown",
   "metadata": {
    "slideshow": {
     "slide_type": "fragment"
    },
    "tags": []
   },
   "source": [
    "Operator||||\n",
    "---|:---:|---:|:--|\n",
    "&  | bitwise AND|\n",
    "\\|  | bitwise OR|\n",
    "^  | bitwise XOR|\n",
    "&^ | bit clear (AND NOT)|\n",
    "<< | left shift|\n",
    "\\>> | right shift|\n"
   ]
  },
  {
   "cell_type": "markdown",
   "metadata": {
    "slideshow": {
     "slide_type": "fragment"
    }
   },
   "source": [
    "Operator||||\n",
    "---|:---:|---:|:--|\n",
    "==  | equal|\n",
    "!=  | not equal to|\n",
    "\\< | less than|\n",
    "\\<= | less than or equal to|\n",
    "\\> | greater than|\n",
    "\\>= | greater than or equal to|"
   ]
  },
  {
   "cell_type": "code",
   "execution_count": 5,
   "metadata": {
    "code_folding": [
     10
    ],
    "slideshow": {
     "slide_type": "subslide"
    },
    "tags": []
   },
   "outputs": [
    {
     "name": "stdout",
     "output_type": "stream",
     "text": [
      "00110010\n",
      "00011000\n",
      "00010000\n",
      "00111010\n",
      "00101010\n",
      "00100010\n",
      "1\n",
      "4\n",
      "5\n",
      "01100100\n",
      "00011001\n"
     ]
    }
   ],
   "source": [
    "import \"fmt\"\n",
    "%%\n",
    "var x uint8 = 1<<4 | 1<<5 | 1<<1\n",
    "var y uint8 = 1<<4 | 1<<3\n",
    "\n",
    "fmt.Printf(\"%08b\\n\", x)     //\"00110010\", the set (1,4,5)\n",
    "fmt.Printf(\"%08b\\n\", y)     //\"00011000\", the set (3,4)\n",
    "fmt.Printf(\"%08b\\n\", x&y)   //\"00010000\", the intersection {4}\n",
    "fmt.Printf(\"%08b\\n\", x|y)   //\"00111010\", the union {1,3,4,5}\n",
    "fmt.Printf(\"%08b\\n\", x^y)   //\"00101010\", the symmetric difference {1,3,5}\n",
    "fmt.Printf(\"%08b\\n\", x&^y)  //\"00100010\", the difference {1,5}\n",
    "\n",
    "for i:= 0; i<8; i++ {\n",
    "    if int(x)&(1<<i) != 0 { // membership test\n",
    "        fmt.Println(i)      // \"1\", 4\", \"5\"\n",
    "    }\n",
    "}\n",
    "\n",
    "fmt.Printf(\"%08b\\n\", x<<1) //\"01100100\", the set {2,5,6}\n",
    "fmt.Printf(\"%08b\\n\", x>>1) //\"00011001\", the set {0,3,4}"
   ]
  },
  {
   "cell_type": "code",
   "execution_count": 6,
   "metadata": {
    "slideshow": {
     "slide_type": "fragment"
    }
   },
   "outputs": [
    {
     "name": "stdout",
     "output_type": "stream",
     "text": [
      "00110010 -0111000 50 -56\n",
      "-0111000 1111111111001000\n",
      "00100000 0000000000100000\n"
     ]
    }
   ],
   "source": [
    "%%\n",
    "var x int8 = 1<<4 | 1<<5 | 1<< 1\n",
    "var y int8 = x << 2    //right shifts of signed numbers, fill the vacated bits with copies of sign bit\n",
    "\n",
    "fmt.Printf(\"%08b %08b %d %d\\n\",x,y,x,y)\n",
    "fmt.Printf(\"%08b %016b\\n\",x << 2, uint16(x<<2))\n",
    "fmt.Printf(\"%08b %016b\\n\",y << 2, uint16(y<<2))"
   ]
  },
  {
   "cell_type": "code",
   "execution_count": 7,
   "metadata": {
    "code_folding": [],
    "slideshow": {
     "slide_type": "subslide"
    }
   },
   "outputs": [
    {
     "name": "stdout",
     "output_type": "stream",
     "text": [
      "brone\n",
      "silver\n",
      "gold\n"
     ]
    }
   ],
   "source": [
    "%%\n",
    "medals := []string{\"gold\",\"silver\",\"brone\"}\n",
    "for i := len(medals) - 1; i >= 0; i-- {      //i must be signed, or i will be greator than 0\n",
    "    fmt.Println(medals[i])\n",
    "}"
   ]
  },
  {
   "cell_type": "code",
   "execution_count": 8,
   "metadata": {
    "code_folding": [],
    "slideshow": {
     "slide_type": "fragment"
    }
   },
   "outputs": [
    {
     "name": "stdout",
     "output_type": "stream",
     "text": [
      "brone\n",
      "silver\n",
      "gold\n"
     ]
    },
    {
     "name": "stderr",
     "output_type": "stream",
     "text": [
      "panic: runtime error: index out of range [18446744073709551615] with length 3\n",
      "\n",
      "goroutine 1 [running]:\n",
      "main.main()\n",
      "\t \u001b[7m[[ Cell [8] Line 5 ]]\u001b[0m /var/folders/4d/tg201k8x6yb81f_lrvt4440m0000gn/T/gonb_3a37bd15/main.go:14 +0x11c\n",
      "exit status 2\n"
     ]
    }
   ],
   "source": [
    "%%\n",
    "medals := []string{\"gold\",\"silver\",\"brone\"}\n",
    "var i uint = uint(len(medals) -1 )\n",
    "for ; i >= 0; i-- {      //i is unsigned, and -1 will be the maximum unit value, 2^64-1\n",
    "    fmt.Println(medals[i])\n",
    "}"
   ]
  },
  {
   "cell_type": "code",
   "execution_count": 9,
   "metadata": {
    "cell_style": "split",
    "slideshow": {
     "slide_type": "subslide"
    },
    "tags": []
   },
   "outputs": [
    {
     "data": {
      "text/html": [
       "\n",
       "<style>\n",
       ".gonb-err-location {\n",
       "\tbackground: var(--jp-err-color2);  \n",
       "\tborder-radius: 3px;\n",
       "\tborder-style: dotted;\n",
       "\tborder-width: 1px;\n",
       "\tborder-color: var(--jp-border-color2);\n",
       "}\n",
       ".gonb-err-location:hover {\n",
       "\tborder-width: 2px;\n",
       "\tborder-style: solid;\n",
       "\tborder-color: var(--jp-border-color2);\n",
       "}\n",
       ".gonb-err-context {\n",
       "\tdisplay: none;\n",
       "}\n",
       ".gonb-err-location:hover + .gonb-err-context {\n",
       "\tbackground: var(--jp-dialog-background);  \n",
       "\tborder-radius: 3px;\n",
       "\tborder-style: solid;\n",
       "\tborder-width: 1px;\n",
       "\tborder-color: var(--jp-border-color2);\n",
       "\tdisplay: block;\n",
       "\twhite-space: pre;\n",
       "\tfont-family: monospace;\n",
       "}\n",
       ".gonb-err-line {\n",
       "\tborder-radius: 3px;\n",
       "\tborder-style: dotted;\n",
       "\tborder-width: 1px;\t\n",
       "\tborder-color: var(--jp-border-color2);\n",
       "\tbackground-color: var(--jp-rendermime-err-background);\n",
       "\tfont-weight: bold;\n",
       "}\n",
       ".gonb-cell-line-info {\n",
       "\tbackground: var(--jp-layout-color2);\n",
       "\tcolor: #999;\n",
       "\tmargin: 0.1em;\n",
       "\tborder: 1px solid var(--jp-border-color1);\n",
       "\tpadding-left: 0.2em;\n",
       "\tpadding-right: 0.2em;\n",
       "}\n",
       "</style>\n",
       "<div class=\"lm-Widget p-Widget lm-Panel p-Panel jp-OutputArea-child\">\n",
       "<div class=\"lm-Widget p-Widget jp-RenderedText jp-mod-trusted jp-OutputArea-output\" data-mime-type=\"application/vnd.jupyter.stderr\" style=\"font-family: monospace;\">\n",
       "\n",
       "\n",
       "<span style=\"white-space: pre;\"> # gonb_3a37bd15</span>\n",
       "\n",
       "<br/>\n",
       "\n",
       "<span class=\"gonb-cell-line-info\">Cell[9]: Line 4</span>\n",
       "<span class=\"gonb-err-location\">./main.go:12:20: </span> invalid operation: apples + oranges (mismatched types int32 and int16)\n",
       "<div class=\"gonb-err-context\">\n",
       "\tflag.Parse()\n",
       "\tvar apples int32 = 1\n",
       "\tvar oranges int16 = 2\n",
       "<div class=\"gonb-err-line\">\tvar compote int = apples + oranges // compile error\n",
       "</div>\n",
       "}\n",
       "\n",
       "</div>\n",
       "\n",
       "<br/>\n",
       "\n",
       "\n",
       "<span style=\"white-space: pre;\"> </span>\n",
       "\n",
       "<br/>\n",
       "\n",
       "</div>\n"
      ]
     },
     "metadata": {},
     "output_type": "display_data"
    },
    {
     "ename": "ERROR",
     "evalue": "failed to run \"/opt/homebrew/bin/go build -o /var/folders/4d/tg201k8x6yb81f_lrvt4440m0000gn/T/gonb_3a37bd15/gonb_3a37bd15\": exit status 1",
     "output_type": "error",
     "traceback": [
      "failed to run \"/opt/homebrew/bin/go build -o /var/folders/4d/tg201k8x6yb81f_lrvt4440m0000gn/T/gonb_3a37bd15/gonb_3a37bd15\": exit status 1"
     ]
    }
   ],
   "source": [
    "%%\n",
    "var apples int32 = 1\n",
    "var oranges int16 = 2\n",
    "var compote int = apples + oranges // compile error"
   ]
  },
  {
   "cell_type": "code",
   "execution_count": 10,
   "metadata": {
    "cell_style": "split",
    "slideshow": {
     "slide_type": "fragment"
    },
    "tags": []
   },
   "outputs": [
    {
     "name": "stdout",
     "output_type": "stream",
     "text": [
      "3\n"
     ]
    }
   ],
   "source": [
    "%%\n",
    "var apples int32 = 1\n",
    "var oranges int16 = 2\n",
    "var compote int = int(apples) + int(oranges) \n",
    "fmt.Println(compote)"
   ]
  },
  {
   "cell_type": "code",
   "execution_count": 11,
   "metadata": {
    "slideshow": {
     "slide_type": "fragment"
    }
   },
   "outputs": [
    {
     "name": "stdout",
     "output_type": "stream",
     "text": [
      "3.141 3\n",
      "1\n"
     ]
    }
   ],
   "source": [
    "%%\n",
    "// float to integer discards fractional part\n",
    "f := 3.141 // a float64\n",
    "i := int(f)\n",
    "fmt.Println(f,i) //3.141 3\n",
    "f = 1.99\n",
    "fmt.Println(int(f)) //1"
   ]
  },
  {
   "cell_type": "code",
   "execution_count": 12,
   "metadata": {
    "slideshow": {
     "slide_type": "fragment"
    }
   },
   "outputs": [
    {
     "name": "stdout",
     "output_type": "stream",
     "text": [
      "1e+100 9223372036854775807 9223372036854775807\n"
     ]
    }
   ],
   "source": [
    "%%\n",
    "//out of range for the target type\n",
    "f := 1e100 // a float64\n",
    "i := int(f) // result is implementation-dependent\n",
    "fmt.Println(f,i,int64(0x7fffffffffffffff))"
   ]
  },
  {
   "cell_type": "code",
   "execution_count": 13,
   "metadata": {
    "slideshow": {
     "slide_type": "fragment"
    }
   },
   "outputs": [
    {
     "name": "stdout",
     "output_type": "stream",
     "text": [
      "438 666 0666\n",
      "3735928559 deadbeef 0XDEADBEEF\n"
     ]
    }
   ],
   "source": [
    "%%\n",
    "o := 0666 //octal\n",
    "fmt.Printf(\"%d %[1]o %#[1]o\\n\", o) //438 666 0666, [1]first operand, #omit a 0 for 0666\n",
    "x := int64(0xdeadbeef)\n",
    "fmt.Printf(\"%d %[1]x %#[1]X\\n\", x)  //3735928559 deadbeef 0xdeadbeef 0XDEADBEEF\n",
    "// Output:\n",
    "// 3735928559 deadbeef 0XDEADBEEF"
   ]
  },
  {
   "cell_type": "code",
   "execution_count": 14,
   "metadata": {
    "slideshow": {
     "slide_type": "fragment"
    }
   },
   "outputs": [
    {
     "name": "stdout",
     "output_type": "stream",
     "text": [
      "97 a 'a'\n",
      "22269 国 '国'\n",
      "10 '\\n'\n"
     ]
    }
   ],
   "source": [
    "%%\n",
    "ascii := 'a'\n",
    "unicode := '国'\n",
    "newline := '\\n'\n",
    "fmt.Printf(\"%d %[1]c %[1]q\\n\", ascii)  // \"97 a 'a'\", %q for quoting\n",
    "fmt.Printf(\"%d %[1]c %[1]q\\n\", unicode)// \"22269 国 '国'\"\n",
    "fmt.Printf(\"%d %[1]q\\n\",newline) // \"10 '\\n'\""
   ]
  },
  {
   "cell_type": "markdown",
   "metadata": {
    "slideshow": {
     "slide_type": "slide"
    },
    "tags": []
   },
   "source": [
    "## 3.2 Floating-Point Numbers\n",
    "* float32 and float64, by IEEE 754 standard implementation\n",
    "* math.MaxFloat32 is about 3.4e38, math.MaxFloat64 is about 1.8e308 (1.4e-45 and 4.9e-324 for the smallest\n",
    "* float32: 6 decimal precision\n",
    "* float64: 15 decimal precision\n",
    "* [format specifier](https://pkg.go.dev/fmt)"
   ]
  },
  {
   "cell_type": "code",
   "execution_count": 15,
   "metadata": {
    "slideshow": {
     "slide_type": "fragment"
    }
   },
   "outputs": [
    {
     "name": "stdout",
     "output_type": "stream",
     "text": [
      "1.6777216e+07 1.6777216e+07 1.6777218e+07 1.677722e+07 1.677722e+07 true"
     ]
    }
   ],
   "source": [
    "%%\n",
    "//smallest positive integer cannot be exactly represented\n",
    "var f float32 = 16777216 // 1<<24\n",
    "fmt.Print(f, f+1, f+2, f+3, f+4, f==f+1)"
   ]
  },
  {
   "cell_type": "code",
   "execution_count": 16,
   "metadata": {
    "slideshow": {
     "slide_type": "fragment"
    }
   },
   "outputs": [
    {
     "name": "stdout",
     "output_type": "stream",
     "text": [
      "6.02214129e+23 6.62606957e-34 \n",
      "6.022141e+23 6.626070e-34 \n",
      "602214128999999968641024.000000 0.000000"
     ]
    }
   ],
   "source": [
    "%%\n",
    "const Avogadro = 6.02214129e23\n",
    "const Planck   = 6.62606957e-34\n",
    "//%g the most compact representation, %f(no exponent), %e(exponent)\n",
    "fmt.Printf(\"%g %g \\n%[1]e %[2]e \\n%[1]f %[2]f\",Avogadro, Planck)"
   ]
  },
  {
   "cell_type": "markdown",
   "metadata": {
    "slideshow": {
     "slide_type": "subslide"
    },
    "tags": []
   },
   "source": [
    "Generate $e^x, e^0, e^1, e^2, e^3, e^4, e^5, e^6, e^7, e^8$"
   ]
  },
  {
   "cell_type": "code",
   "execution_count": 17,
   "metadata": {
    "code_folding": [],
    "slideshow": {
     "slide_type": "fragment"
    }
   },
   "outputs": [
    {
     "name": "stdout",
     "output_type": "stream",
     "text": [
      "x = 0  eˣ =    1.000, 1.000000e+00, 1\n",
      "x = 1  eˣ =    2.718, 2.718282e+00, 2.718281828459045\n",
      "x = 2  eˣ =    7.389, 7.389056e+00, 7.38905609893065\n",
      "x = 3  eˣ =   20.086, 2.008554e+01, 20.085536923187668\n",
      "x = 4  eˣ =   54.598, 5.459815e+01, 54.598150033144236\n",
      "x = 5  eˣ =  148.413, 1.484132e+02, 148.4131591025766\n",
      "x = 6  eˣ =  403.429, 4.034288e+02, 403.4287934927351\n",
      "x = 7  eˣ = 1096.633, 1.096633e+03, 1096.6331584284585\n",
      "x = 8  eˣ = 2980.958, 2.980958e+03, 2980.9579870417283\n"
     ]
    }
   ],
   "source": [
    "import \"math\"\n",
    "%%\n",
    "for x:=0; x <9; x++ {\n",
    "    fmt.Printf(\"x = %d  eˣ = %8.3f, %e, %g\\n\",x, math.Exp(float64(x)), math.Exp(float64(x)),math.Exp(float64(x)))\n",
    "}"
   ]
  },
  {
   "cell_type": "markdown",
   "metadata": {
    "slideshow": {
     "slide_type": "subslide"
    }
   },
   "source": [
    "* positive and negative infinities\n",
    "* NaN (not a number): 0/0 or Sqrt(-1)"
   ]
  },
  {
   "cell_type": "code",
   "execution_count": 18,
   "metadata": {
    "slideshow": {
     "slide_type": "fragment"
    }
   },
   "outputs": [
    {
     "name": "stdout",
     "output_type": "stream",
     "text": [
      "0 -0 +Inf -Inf NaN\n"
     ]
    }
   ],
   "source": [
    "%%\n",
    "var z float64\n",
    "fmt.Println(z, -z, 1/z, -1/z, z/z) // \"0 -0 +Inf -Inf NaN\""
   ]
  },
  {
   "cell_type": "markdown",
   "metadata": {
    "slideshow": {
     "slide_type": "subslide"
    }
   },
   "source": [
    "* math.IsNaN: test if its argument is a not-a-number value\n",
    "* math.NaN returns a value NaN\n",
    "* Any comparison with NaN always yields false ( except !=)"
   ]
  },
  {
   "cell_type": "code",
   "execution_count": 19,
   "metadata": {
    "slideshow": {
     "slide_type": "fragment"
    }
   },
   "outputs": [
    {
     "name": "stdout",
     "output_type": "stream",
     "text": [
      "false false false true true\n"
     ]
    }
   ],
   "source": [
    "import \"math\"\n",
    "%%\n",
    "nan := math.NaN()\n",
    "fmt.Println(nan == nan, nan < nan, nan > nan, nan != nan, math.IsNaN(nan))"
   ]
  },
  {
   "cell_type": "markdown",
   "metadata": {
    "slideshow": {
     "slide_type": "subslide"
    }
   },
   "source": [
    "* if a function returning a floating-point result might fail, it's better to report the failure separately"
   ]
  },
  {
   "cell_type": "code",
   "execution_count": 20,
   "metadata": {
    "code_folding": [],
    "slideshow": {
     "slide_type": "fragment"
    }
   },
   "outputs": [],
   "source": [
    "func compute(x float64) (value float64, ok bool) {\n",
    "    // ...\n",
    "    var result float64\n",
    "    failed := true\n",
    "    if x < 100 {\n",
    "        failed = false\n",
    "        result = 10 * x\n",
    "    } \n",
    "    if failed {\n",
    "        return 0, false \n",
    "    }\n",
    "    return result, true\n",
    "}"
   ]
  },
  {
   "cell_type": "code",
   "execution_count": 21,
   "metadata": {
    "slideshow": {
     "slide_type": "fragment"
    }
   },
   "outputs": [
    {
     "name": "stdout",
     "output_type": "stream",
     "text": [
      "900\n"
     ]
    }
   ],
   "source": [
    "%%\n",
    "if result, ok := compute(90); ok { fmt.Println(result)}\n",
    "//if ok {fmt.Println(result)}"
   ]
  },
  {
   "cell_type": "markdown",
   "metadata": {
    "slideshow": {
     "slide_type": "subslide"
    },
    "tags": []
   },
   "source": [
    "### Floating-point graphics computation\n",
    "* plot a function of two variables z = f(x, y) as a wire mesh 3-D surface, using SVG (Scalable Vector Graphics)\n",
    "* an example of its output for the function\n",
    "  $\\sin(r)/r$ where r is $\\sqrt{x^2+y^2}$\n",
    "* that is, $\\sin(\\sqrt{x^2+y^2})/\\sqrt{x^2+y^2}$\n",
    " "
   ]
  },
  {
   "cell_type": "markdown",
   "metadata": {
    "slideshow": {
     "slide_type": "fragment"
    }
   },
   "source": [
    "![SegmentLocal](https://raw.githubusercontent.com/skhuang/go2023/main/ch3/3-1.png)"
   ]
  },
  {
   "cell_type": "markdown",
   "metadata": {
    "slideshow": {
     "slide_type": "subslide"
    }
   },
   "source": [
    "* Mapping between three different coordinate systems\n",
    "    * 2-D grid of 100 x 100 cells with coordinates (i,j), starting at (0,0) in the back corner\n",
    "    * a mesh of 3-D floating-point coordinatees (x,y,z), x and y are linear functions of i and j,scaled by xyrange, z is the surface function f(x,y)\n",
    "    * 2-D image canvas with points (sx, sy), map 3-D point (x,y,z) onto the 2-D canvas."
   ]
  },
  {
   "cell_type": "markdown",
   "metadata": {
    "slideshow": {
     "slide_type": "fragment"
    }
   },
   "source": [
    "![SegmentLocal](https://raw.githubusercontent.com/skhuang/go2023/main/ch3/3-2.png)"
   ]
  },
  {
   "cell_type": "code",
   "execution_count": 23,
   "metadata": {
    "code_folding": [],
    "slideshow": {
     "slide_type": "subslide"
    },
    "tags": []
   },
   "outputs": [],
   "source": [
    "// Copyright © 2016 Alan A. A. Donovan & Brian W. Kernighan.\n",
    "// License: https://creativecommons.org/licenses/by-nc-sa/4.0/\n",
    "\n",
    "// See page 58.\n",
    "//!+\n",
    "\n",
    "// Surface computes an SVG rendering of a 3-D surface function.\n",
    "//package main\n",
    "\n",
    "import (\n",
    "\t\"fmt\"\n",
    "\t\"math\"\n",
    ")\n",
    "\n",
    "const (\n",
    "\twidth, height = 600, 320            // canvas size in pixels\n",
    "\tcells         = 100                 // number of grid cells\n",
    "\txyrange       = 30.0                // axis ranges (-xyrange..+xyrange)\n",
    "\txyscale       = width / 2 / xyrange // pixels per x or y unit\n",
    "\tzscale        = height * 0.4        // pixels per z unit\n",
    "\tangle         = math.Pi / 6         // angle of x, y axes (=30°)\n",
    ")\n",
    "\n",
    "var sin30, cos30 = math.Sin(angle), math.Cos(angle) // sin(30°), cos(30°)"
   ]
  },
  {
   "cell_type": "code",
   "execution_count": 24,
   "metadata": {
    "slideshow": {
     "slide_type": "skip"
    },
    "tags": []
   },
   "outputs": [
    {
     "name": "stdout",
     "output_type": "stream",
     "text": [
      "3\n"
     ]
    }
   ],
   "source": [
    "import (\"strconv\";\"strings\")\n",
    "%%\n",
    "r,_ := strconv.ParseFloat(\"3\",64)\n",
    "fmt.Println(r)"
   ]
  },
  {
   "cell_type": "code",
   "execution_count": 26,
   "metadata": {
    "code_folding": [
     5,
     9,
     11,
     42,
     50,
     68
    ],
    "slideshow": {
     "slide_type": "subslide"
    },
    "tags": []
   },
   "outputs": [],
   "source": [
    "import (\"math\";\"os\";\"log\"; \"io\"; \"net/http\"; \"strconv\"; \"strings\")\n",
    "func web() {\n",
    "            handler := func(w http.ResponseWriter, r *http.Request) {\n",
    "                r.ParseForm()\n",
    "                qcells,err := strconv.Atoi(strings.Join(r.Form[\"cells\"],\"\"))\n",
    "                if err !=nil {\n",
    "                    qcells = cells\n",
    "                }\n",
    "                qzscale,err1 := strconv.ParseFloat(strings.Join(r.Form[\"zscale\"],\"\"),64)\n",
    "                if err1 !=nil {\n",
    "                    qzscale = zscale\n",
    "                } else {\n",
    "                    qzscale = height * qzscale\n",
    "                }\n",
    "                qangle,err2 := strconv.Atoi(strings.Join(r.Form[\"angle\"],\"\"))\n",
    "                pangle := angle\n",
    "                if err2 == nil {\n",
    "                    pangle = math.Pi/float64(qangle)\n",
    "                }\n",
    "                sin30, cos30 = math.Sin(pangle), math.Cos(pangle)\n",
    "                    //fmt.Fprintf(os.Stdout,\"Form: %v\\n\", r.Form)\n",
    "                    //fmt.Fprintf(os.Stdout,\"Form[zscale]: %s\\n\",r.Form[\"zscale\"])\n",
    "                    //fmt.Fprintf(os.Stdout,\"Form[cells]: %s\\n\",r.Form[\"cells\"])\n",
    "                    //fmt.Fprintf(os.Stdout,\"%f, %d, %f\\n\",qzscale, qcells, pangle)\n",
    "                    //if err != nil { cells = qcells }\n",
    "                    //lissajous(w, float64(qcycles))\n",
    "                w.Header().Set(\"Content-Type\", \"image/svg+xml\")\n",
    "                sinr(w, qcells, qzscale)\n",
    "            }\n",
    "            \n",
    "            http.HandleFunc(\"/\", handler)\n",
    "                //!-http\n",
    "            log.Fatal(http.ListenAndServe(\"localhost:8500\", nil))\n",
    "            //return\n",
    "}\n",
    "\n",
    "func main() {\n",
    "    if len(os.Args) > 1 && os.Args[1] == \"web\" {\n",
    "        web()\n",
    "        return\n",
    "    } \n",
    "    outfile, err := os.Create(\"sinr.svg\")\n",
    "    if err != nil {\n",
    "            log.Fatal(err)\n",
    "    } else {\n",
    "        //outfile = os.Stdout\n",
    "    }\n",
    "    sinr(outfile, cells, zscale)\n",
    "}\n",
    "\n",
    "func sinr(outfile io.Writer, qcells int, qzscale float64) {\n",
    "   fmt.Fprintf(outfile, \"<svg xmlns='http://www.w3.org/2000/svg' \"+\n",
    "\t\t\"style='stroke: grey; fill: white; stroke-width: 0.7' \"+\n",
    "\t\t\"width='%d' height='%d'>\", width, height)\n",
    "\tfor i := 0; i < qcells; i++ {\n",
    "\t\tfor j := 0; j < qcells; j++ {\n",
    "\t\t\tax, ay := corner(i+1, j, qcells, qzscale)\n",
    "\t\t\tbx, by := corner(i, j, qcells, qzscale)\n",
    "\t\t\tcx, cy := corner(i, j+1, qcells, qzscale)\n",
    "\t\t\tdx, dy := corner(i+1, j+1, qcells, qzscale)\n",
    "            color  := fmt.Sprintf(\"style='fill:%s'\",\"#ff0000\")\n",
    "\t\t\tfmt.Fprintf(outfile, \"<polygon points='%g,%g %g,%g %g,%g %g,%g' %s/>\\n\",\n",
    "\t\t\t\tax, ay, bx, by, cx, cy, dx, dy, color)\n",
    "\t\t}\n",
    "\t}\n",
    "\tfmt.Fprintln(outfile, \"</svg>\") \n",
    "}\n",
    "\n",
    "func corner(i, j, qcells int, qzscale float64) (float64, float64) {\n",
    "\t// Find point (x,y) at corner of cell (i,j).\n",
    "    x := xyrange * (float64(i)/float64(qcells) - 0.5)\n",
    "    y := xyrange * (float64(j)/float64(qcells) - 0.5)\n",
    "\n",
    "\t// Compute surface height z.\n",
    "\tz := f(x, y)\n",
    "\n",
    "\t// Project (x,y,z) isometrically onto 2-D SVG canvas (sx,sy).\n",
    "\tsx := width/2 + (x-y)*cos30*xyscale\n",
    "\t//sy := height/2 + (x+y)*sin30*xyscale\n",
    "    sy := height/2 + (x+y)*sin30*xyscale - z*qzscale\n",
    "\treturn sx, sy\n",
    "}\n",
    "\n",
    "func f(x, y float64) float64 {\n",
    "    r := math.Hypot(x, y) // distance from (0,0), sqrt(x*x+ y+y)\n",
    "\treturn math.Sin(r) / r\n",
    "}\n",
    "\n",
    "//!-"
   ]
  },
  {
   "cell_type": "code",
   "execution_count": 23,
   "metadata": {
    "slideshow": {
     "slide_type": "skip"
    }
   },
   "outputs": [],
   "source": [
    "//main(), gonb ignore this"
   ]
  },
  {
   "cell_type": "code",
   "execution_count": 24,
   "metadata": {
    "slideshow": {
     "slide_type": "skip"
    }
   },
   "outputs": [],
   "source": [
    "//os.Args = []string{\"surface\"}\n",
    "//main()"
   ]
  },
  {
   "cell_type": "markdown",
   "metadata": {
    "slideshow": {
     "slide_type": "subslide"
    },
    "tags": []
   },
   "source": [
    "![SegmentLocal](https://raw.githubusercontent.com/skhuang/go2019/master/sinr.svg?sanitize=true \"segment\")"
   ]
  },
  {
   "cell_type": "code",
   "execution_count": 27,
   "metadata": {
    "code_folding": [],
    "slideshow": {
     "slide_type": "subslide"
    },
    "tags": []
   },
   "outputs": [
    {
     "name": "stderr",
     "output_type": "stream",
     "text": [
      "^C\n",
      "signal: interrupt\n"
     ]
    }
   ],
   "source": [
    "//os.Args = []string{\"surface\",\"web\"}\n",
    "//main()\n",
    "%args web\n",
    "func main() {\n",
    "    if len(os.Args) > 1 && os.Args[1] == \"web\" {\n",
    "        web()\n",
    "        return\n",
    "    } \n",
    "    outfile, err := os.Create(\"sinr.svg\")\n",
    "    if err != nil {\n",
    "            log.Fatal(err)\n",
    "    } else {\n",
    "        //outfile = os.Stdout\n",
    "    }\n",
    "    sinr(outfile, cells, zscale)\n",
    "}"
   ]
  },
  {
   "cell_type": "markdown",
   "metadata": {
    "slideshow": {
     "slide_type": "subslide"
    },
    "tags": []
   },
   "source": [
    "![SegmentLocal](http://localhost:8500 \"segment\")\n",
    "![surface](http://localhost:8500/?zscale=0)\n",
    "![surface](http://localhost:8500/?cells=50&zscale=0.5&angle=10)"
   ]
  },
  {
   "cell_type": "markdown",
   "metadata": {
    "slideshow": {
     "slide_type": "subslide"
    },
    "tags": []
   },
   "source": [
    "![SegmentLocal](https://raw.githubusercontent.com/skhuang/go2021/master/sinr.svg?sanitize=true \"segment\")"
   ]
  },
  {
   "cell_type": "markdown",
   "metadata": {
    "slideshow": {
     "slide_type": "slide"
    },
    "tags": []
   },
   "source": [
    "## 3.3. Complex Numbers"
   ]
  },
  {
   "cell_type": "code",
   "execution_count": 28,
   "metadata": {
    "slideshow": {
     "slide_type": "subslide"
    }
   },
   "outputs": [
    {
     "name": "stdout",
     "output_type": "stream",
     "text": [
      "(-5+10i)\n",
      "-5\n",
      "10\n"
     ]
    }
   ],
   "source": [
    "import \"fmt\"\n",
    "%%\n",
    "var x complex128 = complex(1, 2) // 1+2i\n",
    "var y complex128 = complex(3, 4) // 3+4i\n",
    "fmt.Println(x*y)       // -5+10i\n",
    "fmt.Println(real(x*y))// -5\n",
    "fmt.Println(imag(x*y))// 10"
   ]
  },
  {
   "cell_type": "code",
   "execution_count": 30,
   "metadata": {
    "slideshow": {
     "slide_type": "fragment"
    }
   },
   "outputs": [
    {
     "name": "stdout",
     "output_type": "stream",
     "text": [
      "(-1+0i) (1+2i) (3+4i) (0+3.141592i)\n"
     ]
    }
   ],
   "source": [
    "%%\n",
    "x := 1 + 2i\n",
    "y := 3 + 4i\n",
    "z := 3.141592i // imaginary literal with zero real component\n",
    "fmt.Println(1i * 1i, x, y, z) // i * i = -1"
   ]
  },
  {
   "cell_type": "code",
   "execution_count": 31,
   "metadata": {
    "slideshow": {
     "slide_type": "fragment"
    }
   },
   "outputs": [
    {
     "name": "stdout",
     "output_type": "stream",
     "text": [
      "(0+1i)\n"
     ]
    }
   ],
   "source": [
    "import \"math/cmplx\"\n",
    "%%\n",
    "fmt.Println(cmplx.Sqrt(-1))  // 0+1i"
   ]
  },
  {
   "cell_type": "code",
   "execution_count": 38,
   "metadata": {
    "code_folding": [
     3,
     6,
     64,
     115,
     122,
     127
    ],
    "slideshow": {
     "slide_type": "subslide"
    },
    "tags": []
   },
   "outputs": [],
   "source": [
    "// Copyright © 2016 Alan A. A. Donovan & Brian W. Kernighan.\n",
    "// License: https://creativecommons.org/licenses/by-nc-sa/4.0/\n",
    "\n",
    "// See page 61.\n",
    "//!+\n",
    "\n",
    "// Mandelbrot emits a PNG image of the Mandelbrot fractal.\n",
    "//package main\n",
    "//gopl.go/ch3/mandelbrot\n",
    "\n",
    "import (\n",
    "\t\"image\"\n",
    "\t\"image/color\"\n",
    "\t\"image/png\"\n",
    "\t\"math/cmplx\"\n",
    "    \"math\"\n",
    "\t\"os\"\n",
    "    \"log\"\n",
    "    \"net/http\"\n",
    "    \"strconv\"; \"strings\"\n",
    ")\n",
    "const (\n",
    "\twidth, height = 600, 320            // canvas size in pixels\n",
    "\tcells         = 100                 // number of grid cells\n",
    "\txyrange       = 30.0                // axis ranges (-xyrange..+xyrange)\n",
    "\txyscale       = width / 2 / xyrange // pixels per x or y unit\n",
    "\tzscale        = height * 0.4        // pixels per z unit\n",
    "\tangle         = math.Pi / 6         // angle of x, y axes (=30°)\n",
    ")\n",
    "func mbweb() {\n",
    "            handler := func(w http.ResponseWriter, r *http.Request) {\n",
    "                r.ParseForm()\n",
    "                //qcells,err := strconv.Atoi(strings.Join(r.Form[\"cells\"],\"\"))\n",
    "                //if err !=nil {\n",
    "                  //  qcells = cells\n",
    "                //}\n",
    "                qzscale,err1 := strconv.ParseFloat(strings.Join(r.Form[\"zscale\"],\"\"),64)\n",
    "                if err1 ==nil {\n",
    "                    qzscale = height * qzscale\n",
    "                }\n",
    "                //qangle,err2 := strconv.Atoi(strings.Join(r.Form[\"angle\"],\"\"))\n",
    "                    //fmt.Fprintf(os.Stdout,\"Form: %v\\n\", r.Form)\n",
    "                    //fmt.Fprintf(os.Stdout,\"Form[zscale]: %s\\n\",r.Form[\"zscale\"])\n",
    "                    //fmt.Fprintf(os.Stdout,\"Form[cells]: %s\\n\",r.Form[\"cells\"])\n",
    "                    //fmt.Fprintf(os.Stdout,\"%f, %d, %f\\n\",qzscale, qcells, pangle)\n",
    "                    //if err != nil { cells = qcells }\n",
    "                    //lissajous(w, float64(qcycles))\n",
    "                img := mbimg()\n",
    "                png.Encode(w, img)\n",
    "            }\n",
    "            \n",
    "            http.HandleFunc(\"/\", handler)\n",
    "                //!-http\n",
    "            log.Fatal(http.ListenAndServe(\"localhost:8600\", nil))\n",
    "            //return\n",
    "}\n",
    "\n",
    "func main() {\n",
    "    if len(os.Args) > 1 && os.Args[1] == \"web\" {\n",
    "        mbweb()\n",
    "        return\n",
    "    } \n",
    "    img := mbimg()\n",
    "    outfile, err := os.Create(\"ch3mb.png\")\n",
    "    if err != nil {\n",
    "            log.Fatal(err)\n",
    "    }\n",
    "\t//png.Encode(os.Stdout, img) // NOTE: ignoring errors\n",
    "    png.Encode(outfile, img)\n",
    "}\n",
    "\n",
    "func mbimg() *image.RGBA{\n",
    "   const (\n",
    "\t\txmin, ymin, xmax, ymax = -2, -2, +2, +2\n",
    "\t\twidth, height          = 1024, 1024\n",
    "\t)\n",
    "\n",
    "\timg := image.NewRGBA(image.Rect(0, 0, width, height))\n",
    "\tfor py := 0; py < height; py++ {\n",
    "\t\ty := float64(py)/height*(ymax-ymin) + ymin\n",
    "\t\tfor px := 0; px < width; px++ {\n",
    "\t\t\tx := float64(px)/width*(xmax-xmin) + xmin\n",
    "\t\t\tz := complex(x, y)\n",
    "\t\t\t// Image point (px, py) represents complex value z.\n",
    "\t\t\timg.Set(px, py, mandelbrot(z))\n",
    "\t\t}\n",
    "\t}\n",
    "    return img\n",
    "}\n",
    "\n",
    "func mandelbrot(z complex128) color.Color {\n",
    "\tconst iterations = 200\n",
    "\tconst contrast = 15\n",
    "\n",
    "\tvar v complex128\n",
    "\tfor n := uint8(0); n < iterations; n++ {\n",
    "\t\tv = v*v + z\n",
    "\t\tif cmplx.Abs(v) > 2 {\n",
    "\t\t\treturn color.Gray{255 - contrast*n}\n",
    "\t\t}\n",
    "\t}\n",
    "\treturn color.Black\n",
    "}\n",
    "\n",
    "//!-\n",
    "\n",
    "// Some other interesting functions:\n",
    "\n",
    "func acos(z complex128) color.Color {\n",
    "\tv := cmplx.Acos(z)\n",
    "\tblue := uint8(real(v)*128) + 127\n",
    "\tred := uint8(imag(v)*128) + 127\n",
    "\treturn color.YCbCr{192, blue, red}\n",
    "}\n",
    "\n",
    "func sqrt(z complex128) color.Color {\n",
    "\tv := cmplx.Sqrt(z)\n",
    "\tblue := uint8(real(v)*128) + 127\n",
    "\tred := uint8(imag(v)*128) + 127\n",
    "\treturn color.YCbCr{128, blue, red}\n",
    "}\n",
    "\n",
    "// f(x) = x^4 - 1\n",
    "//\n",
    "// z' = z - f(z)/f'(z)\n",
    "//    = z - (z^4 - 1) / (4 * z^3)\n",
    "//    = z - (z - 1/z^3) / 4\n",
    "func newton(z complex128) color.Color {\n",
    "\tconst iterations = 37\n",
    "\tconst contrast = 7\n",
    "\tfor i := uint8(0); i < iterations; i++ {\n",
    "\t\tz -= (z - 1/(z*z*z)) / 4\n",
    "\t\tif cmplx.Abs(z*z*z*z-1) < 1e-6 {\n",
    "\t\t\treturn color.Gray{255 - contrast*i}\n",
    "\t\t}\n",
    "\t}\n",
    "\treturn color.Black\n",
    "}"
   ]
  },
  {
   "cell_type": "code",
   "execution_count": 5,
   "metadata": {
    "code_folding": [],
    "slideshow": {
     "slide_type": "skip"
    },
    "tags": []
   },
   "outputs": [],
   "source": [
    "//main()\n",
    "os.Args = []string{\"mb\"}\n",
    "main()"
   ]
  },
  {
   "cell_type": "code",
   "execution_count": 39,
   "metadata": {
    "slideshow": {
     "slide_type": "slide"
    },
    "tags": []
   },
   "outputs": [
    {
     "name": "stderr",
     "output_type": "stream",
     "text": [
      "signal: interrupt\n"
     ]
    }
   ],
   "source": [
    "//main()\n",
    "%args web\n",
    "//os.Args = []string{\"mb\",\"web\"}\n",
    "//main()\n",
    "func main() {\n",
    "    if len(os.Args) > 1 && os.Args[1] == \"web\" {\n",
    "        mbweb()\n",
    "        return\n",
    "    } \n",
    "    img := mbimg()\n",
    "    outfile, err := os.Create(\"ch3mb.png\")\n",
    "    if err != nil {\n",
    "            log.Fatal(err)\n",
    "    }\n",
    "\t//png.Encode(os.Stdout, img) // NOTE: ignoring errors\n",
    "    png.Encode(outfile, img)\n",
    "}"
   ]
  },
  {
   "cell_type": "markdown",
   "metadata": {},
   "source": [
    "![SegmentLocal](http://localhost:8600 \"segment\")"
   ]
  },
  {
   "cell_type": "markdown",
   "metadata": {
    "slideshow": {
     "slide_type": "subslide"
    },
    "tags": []
   },
   "source": [
    "![SegmentLocal](https://github.com/skhuang/go2021/raw/master/ch3mb.png \"segment\")"
   ]
  },
  {
   "cell_type": "markdown",
   "metadata": {
    "slideshow": {
     "slide_type": "slide"
    }
   },
   "source": [
    "## 3.4. Booleans"
   ]
  },
  {
   "cell_type": "markdown",
   "metadata": {
    "slideshow": {
     "slide_type": "subslide"
    },
    "tags": []
   },
   "source": [
    "* A value of type bool, or boolean: true and false\n",
    "<code>\n",
    "   !  : NOT\n",
    "   && : AND\n",
    "   || : OR\n",
    "</code>"
   ]
  },
  {
   "cell_type": "markdown",
   "metadata": {
    "slideshow": {
     "slide_type": "subslide"
    },
    "tags": []
   },
   "source": [
    "### Short circuit behavior"
   ]
  },
  {
   "cell_type": "code",
   "execution_count": 41,
   "metadata": {
    "slideshow": {
     "slide_type": "fragment"
    },
    "tags": []
   },
   "outputs": [
    {
     "name": "stdout",
     "output_type": "stream",
     "text": [
      "false\n"
     ]
    }
   ],
   "source": [
    "%%\n",
    "s := \"\" \n",
    "//s := \"x\"\n",
    "fmt.Println(s != \"\" && s[0] == 'x' )  // short circuit behavior"
   ]
  },
  {
   "cell_type": "code",
   "execution_count": 42,
   "metadata": {
    "slideshow": {
     "slide_type": "subslide"
    }
   },
   "outputs": [
    {
     "name": "stdout",
     "output_type": "stream",
     "text": [
      "A"
     ]
    }
   ],
   "source": [
    "import \"fmt\"\n",
    "%%\n",
    "c := 'A'\n",
    "if 'a' <= c && c <= 'z' || 'A' <= c && c <= 'Z' || '0' <= c && c <= '9' {\n",
    "    fmt.Printf(\"%c\",c)\n",
    "}"
   ]
  },
  {
   "cell_type": "markdown",
   "metadata": {
    "slideshow": {
     "slide_type": "subslide"
    },
    "tags": []
   },
   "source": [
    "### no implicit conversion from a boolean value to a numeric value like 0 or 1"
   ]
  },
  {
   "cell_type": "code",
   "execution_count": 44,
   "metadata": {
    "code_folding": [],
    "slideshow": {
     "slide_type": "fragment"
    },
    "tags": []
   },
   "outputs": [
    {
     "name": "stdout",
     "output_type": "stream",
     "text": [
      "1\n"
     ]
    }
   ],
   "source": [
    "%%\n",
    "i := 0\n",
    "b := true\n",
    "if b {        // no implicit conversion from a boolean value to a numeric value like 0 or 1\n",
    "    i = 1\n",
    "}\n",
    "fmt.Println(i)"
   ]
  },
  {
   "cell_type": "code",
   "execution_count": 46,
   "metadata": {
    "slideshow": {
     "slide_type": "subslide"
    }
   },
   "outputs": [
    {
     "name": "stdout",
     "output_type": "stream",
     "text": [
      "1 0\n"
     ]
    }
   ],
   "source": [
    "// btoi returns 1 if b is true and 0 if false\n",
    "func btoi(b bool) int {\n",
    "    if b {\n",
    "        return 1\n",
    "    }\n",
    "    return 0\n",
    "}\n",
    "%%\n",
    "fmt.Println(btoi(true),btoi(false))"
   ]
  },
  {
   "cell_type": "code",
   "execution_count": 47,
   "metadata": {
    "slideshow": {
     "slide_type": "subslide"
    }
   },
   "outputs": [
    {
     "name": "stdout",
     "output_type": "stream",
     "text": [
      "true false\n"
     ]
    }
   ],
   "source": [
    "// itob reports whether i is non-zero.\n",
    "func itob(i int) bool { return i != 0}\n",
    "%%\n",
    "fmt.Println(itob(100), itob(0))"
   ]
  },
  {
   "cell_type": "markdown",
   "metadata": {
    "slideshow": {
     "slide_type": "slide"
    }
   },
   "source": [
    "## 3.5. Strings"
   ]
  },
  {
   "cell_type": "markdown",
   "metadata": {
    "slideshow": {
     "slide_type": "subslide"
    },
    "tags": []
   },
   "source": [
    "* A string is an immutable sequence of bytes\n",
    "* UTF-8 encoded sequences of Unicode code points (runes)\n",
    "* built-in len function returns the number of bytes (not runes) in a string\n",
    "* s[i] retrieves the i-th byte of string s, where 0 &le; i &lt;  len(s)"
   ]
  },
  {
   "cell_type": "markdown",
   "metadata": {
    "slideshow": {
     "slide_type": "fragment"
    },
    "tags": []
   },
   "source": [
    "![SegmentLocal](https://raw.githubusercontent.com/skhuang/go2023/main/ch3/3-4.png?sanitize=true \"segment\")"
   ]
  },
  {
   "cell_type": "code",
   "execution_count": 48,
   "metadata": {
    "slideshow": {
     "slide_type": "subslide"
    },
    "tags": []
   },
   "outputs": [
    {
     "name": "stdout",
     "output_type": "stream",
     "text": [
      "30\n",
      "228 184 116\n",
      "ä,¸, \n"
     ]
    }
   ],
   "source": [
    "%%\n",
    "s := \"世界測試hello, world test \" \n",
    "fmt.Println(len(s))    // \"30\"\n",
    "fmt.Println(s[0], s[7], s[28])// 104 119, h and w\n",
    "fmt.Printf(\"%c,%c,%c\\n\", s[0],s[7],s[18])"
   ]
  },
  {
   "cell_type": "code",
   "execution_count": 55,
   "metadata": {
    "slideshow": {
     "slide_type": "fragment"
    }
   },
   "outputs": [
    {
     "name": "stderr",
     "output_type": "stream",
     "text": [
      "panic: runtime error: index out of range [30] with length 30\n",
      "\n",
      "goroutine 1 [running]:\n",
      "main.main()\n",
      "\t \u001b[7m[[ Cell [55] Line 4 ]]\u001b[0m /var/folders/4d/tg201k8x6yb81f_lrvt4440m0000gn/T/gonb_3a37bd15/main.go:220 +0x70\n",
      "exit status 2\n"
     ]
    }
   ],
   "source": [
    "\n",
    "var s = \"世界測試hello, world test \" \n",
    "%%\n",
    "c := s[len(s)] //panic: index out of range\n",
    "fmt.Println(c)"
   ]
  },
  {
   "cell_type": "markdown",
   "metadata": {
    "slideshow": {
     "slide_type": "subslide"
    }
   },
   "source": [
    "* the i-th byte of a string is not necessarily the i-th character of a string, for the UTF8 encoding of a non-ASCIIcode point requires two or more bytes\n",
    "* substring s[i:j] yields a new string starting at index i and continuing up to (not including) the byte at index j, with j - i bytes"
   ]
  },
  {
   "cell_type": "code",
   "execution_count": 56,
   "metadata": {
    "slideshow": {
     "slide_type": "subslide"
    }
   },
   "outputs": [
    {
     "name": "stdout",
     "output_type": "stream",
     "text": [
      "世界\n",
      "世界\n",
      "測試hello, world test \n",
      "世界測試hello, world test \n",
      "goodbyte測試hello, world test  測試hello, world test \n"
     ]
    }
   ],
   "source": [
    "%%\n",
    "fmt.Println(s[0:6]) // \"hello\"\n",
    "fmt.Println(s[:6])\n",
    "fmt.Println(s[6:])\n",
    "fmt.Println(s[:])\n",
    "fmt.Println(\"goodbyte\" + s[6:] + \" \" + s[6:])"
   ]
  },
  {
   "cell_type": "code",
   "execution_count": 57,
   "metadata": {
    "slideshow": {
     "slide_type": "subslide"
    }
   },
   "outputs": [
    {
     "name": "stdout",
     "output_type": "stream",
     "text": [
      "left foot- right foot\n",
      "left foot\n"
     ]
    }
   ],
   "source": [
    "%%\n",
    "s := \"left foot\"\n",
    "t := s\n",
    "s += \"- right foot\"\n",
    "fmt.Println(s)\n",
    "fmt.Println(t) "
   ]
  },
  {
   "cell_type": "markdown",
   "metadata": {
    "slideshow": {
     "slide_type": "subslide"
    },
    "tags": []
   },
   "source": [
    "* strings are immutable and modifying a string's data is not allowed"
   ]
  },
  {
   "cell_type": "code",
   "execution_count": 58,
   "metadata": {
    "slideshow": {
     "slide_type": "fragment"
    },
    "tags": []
   },
   "outputs": [
    {
     "data": {
      "text/html": [
       "\n",
       "<style>\n",
       ".gonb-err-location {\n",
       "\tbackground: var(--jp-err-color2);  \n",
       "\tborder-radius: 3px;\n",
       "\tborder-style: dotted;\n",
       "\tborder-width: 1px;\n",
       "\tborder-color: var(--jp-border-color2);\n",
       "}\n",
       ".gonb-err-location:hover {\n",
       "\tborder-width: 2px;\n",
       "\tborder-style: solid;\n",
       "\tborder-color: var(--jp-border-color2);\n",
       "}\n",
       ".gonb-err-context {\n",
       "\tdisplay: none;\n",
       "}\n",
       ".gonb-err-location:hover + .gonb-err-context {\n",
       "\tbackground: var(--jp-dialog-background);  \n",
       "\tborder-radius: 3px;\n",
       "\tborder-style: solid;\n",
       "\tborder-width: 1px;\n",
       "\tborder-color: var(--jp-border-color2);\n",
       "\tdisplay: block;\n",
       "\twhite-space: pre;\n",
       "\tfont-family: monospace;\n",
       "}\n",
       ".gonb-err-line {\n",
       "\tborder-radius: 3px;\n",
       "\tborder-style: dotted;\n",
       "\tborder-width: 1px;\t\n",
       "\tborder-color: var(--jp-border-color2);\n",
       "\tbackground-color: var(--jp-rendermime-err-background);\n",
       "\tfont-weight: bold;\n",
       "}\n",
       ".gonb-cell-line-info {\n",
       "\tbackground: var(--jp-layout-color2);\n",
       "\tcolor: #999;\n",
       "\tmargin: 0.1em;\n",
       "\tborder: 1px solid var(--jp-border-color1);\n",
       "\tpadding-left: 0.2em;\n",
       "\tpadding-right: 0.2em;\n",
       "}\n",
       "</style>\n",
       "<div class=\"lm-Widget p-Widget lm-Panel p-Panel jp-OutputArea-child\">\n",
       "<div class=\"lm-Widget p-Widget jp-RenderedText jp-mod-trusted jp-OutputArea-output\" data-mime-type=\"application/vnd.jupyter.stderr\" style=\"font-family: monospace;\">\n",
       "\n",
       "\n",
       "<span style=\"white-space: pre;\"> # gonb_3a37bd15</span>\n",
       "\n",
       "<br/>\n",
       "\n",
       "<span class=\"gonb-cell-line-info\">Cell[58]: Line 2</span>\n",
       "<span class=\"gonb-err-location\">./main.go:220:2: </span> cannot assign to s[3] (value of type byte)\n",
       "<div class=\"gonb-err-context\">\n",
       "\n",
       "func main() {\n",
       "\tflag.Parse()\n",
       "<div class=\"gonb-err-line\">\ts[3] = &#39;M&#39;    // cannot assign to s[0]\n",
       "</div>\n",
       "}\n",
       "\n",
       "</div>\n",
       "\n",
       "<br/>\n",
       "\n",
       "\n",
       "<span style=\"white-space: pre;\"> </span>\n",
       "\n",
       "<br/>\n",
       "\n",
       "</div>\n"
      ]
     },
     "metadata": {},
     "output_type": "display_data"
    },
    {
     "ename": "ERROR",
     "evalue": "failed to run \"/opt/homebrew/bin/go build -o /var/folders/4d/tg201k8x6yb81f_lrvt4440m0000gn/T/gonb_3a37bd15/gonb_3a37bd15\": exit status 1",
     "output_type": "error",
     "traceback": [
      "failed to run \"/opt/homebrew/bin/go build -o /var/folders/4d/tg201k8x6yb81f_lrvt4440m0000gn/T/gonb_3a37bd15/gonb_3a37bd15\": exit status 1"
     ]
    }
   ],
   "source": [
    "%%\n",
    "s[3] = 'M'    // cannot assign to s[0]"
   ]
  },
  {
   "cell_type": "markdown",
   "metadata": {
    "slideshow": {
     "slide_type": "subslide"
    },
    "tags": []
   },
   "source": [
    "### 3.5.1. String Literals"
   ]
  },
  {
   "cell_type": "markdown",
   "metadata": {
    "slideshow": {
     "slide_type": "subslide"
    },
    "tags": []
   },
   "source": [
    "<code>\n",
    "    \\a   \"alert\" or bell\n",
    "    \\b   backspace\n",
    "    \\f   form feed\n",
    "    \\n   newline\n",
    "    \\r   carriage return\n",
    "    \\t   tab\n",
    "    \\v   vertical tab\n",
    "    \\'   single quote (only in the rune literal '\\'')\n",
    "    \\\"   double quote (only within \"...\" literals)\n",
    "    \\\\   backslash\n",
    "</code>\n",
    "\n",
    "* hexadecimal escape \\xhh\n",
    "* octal esccape \\ooo (0 through 7)\n",
    "* raw string literal is written <code>\\`...\\`</code>, to write reqular expressions, HTML templates, JSONliterals, command usage messages, and the like"
   ]
  },
  {
   "cell_type": "code",
   "execution_count": 59,
   "metadata": {
    "slideshow": {
     "slide_type": "subslide"
    },
    "tags": []
   },
   "outputs": [
    {
     "name": "stdout",
     "output_type": "stream",
     "text": [
      "Go is a tool for managing Go source coe.\n",
      "\tUsage: \\n \\r 世界\n",
      "\t     go command [arguments]\n",
      "\t...\n"
     ]
    }
   ],
   "source": [
    "%%\n",
    "const GoUsage = `Go is a tool for managing Go source coe.\n",
    "Usage: \\n \\r 世界\n",
    "     go command [arguments]\n",
    "...`\n",
    "fmt.Println(GoUsage)"
   ]
  },
  {
   "cell_type": "markdown",
   "metadata": {
    "slideshow": {
     "slide_type": "subslide"
    },
    "tags": []
   },
   "source": [
    "### 3.5.2. Unicode"
   ]
  },
  {
   "cell_type": "markdown",
   "metadata": {
    "slideshow": {
     "slide_type": "subslide"
    },
    "tags": []
   },
   "source": [
    "* ASCII: American Standard  Code for Information Interchange\n",
    "* Use 7 bits to represent 128 characters\n",
    "* To hold other languages, Unicode (unicode.org) collects all of the characters in all of the world's writing systems\n",
    "* Each assigns a standard number called a Unicode code point or, a rune\n",
    "* Unicde version 8 defines code points for over 120,000 characters, over 100 languages and scripts\n",
    "* hold a single rune in int32, called UTF-32 or UCS-4"
   ]
  },
  {
   "cell_type": "markdown",
   "metadata": {
    "slideshow": {
     "slide_type": "subslide"
    },
    "tags": []
   },
   "source": [
    "### 3.5.3. UTF-8\n",
    "\n",
    "* UTF-8 is a variable-length encoding of Unicode code points as bytes\n",
    "* UTF-8 is invented by Ken Thompson and Rob Pike, two of the creators of Go\n",
    "* Use between 1 and 4 bytes to represent each rune\n",
    "\n",
    "<code>\n",
    "0xxxxxxx                               runes 0-127     (ASCII)\n",
    "110xxxxx 10xxxxxx                      128-2047        (values < 128 unused)\n",
    "1110xxxx 10xxxxxx 10xxxxxx             2048-65535      (values < 2048 unused)\n",
    "11110xxx 10xxxxxx 10xxxxxx 10xxxxxx    65536-0x10ffff  (other values unused)\n",
    "</code>"
   ]
  },
  {
   "cell_type": "code",
   "execution_count": 60,
   "metadata": {
    "slideshow": {
     "slide_type": "subslide"
    },
    "tags": []
   },
   "outputs": [
    {
     "name": "stdout",
     "output_type": "stream",
     "text": [
      "1. 世界\n",
      "[4e16 754c]\n",
      "e4b896e7958c\n",
      "[11100100 10111000 10010110 11100111 10010101 10001100]\n",
      "2. 世界\n",
      "111001001011100010010110111001111001010110001100\n",
      "3. 世界\n",
      "01001110000101100111010101001100\n",
      "4. 世界\n"
     ]
    }
   ],
   "source": [
    "import \"fmt\"\n",
    "%%\n",
    "fmt.Println(\"1. 世界\")\n",
    "fmt.Printf(\"%x\\n\",[]rune(\"世界\"))\n",
    "fmt.Printf(\"%x\\n\",[]byte(\"世界\"))\n",
    "fmt.Printf(\"%b\\n\",[]byte(\"世界\"))\n",
    "//fmt.Printf(\"%032b\\n\",x)\n",
    "fmt.Println(\"2. \\xe4\\xb8\\x96\\xe7\\x95\\x8c\")\n",
    "fmt.Printf(\"%032b\\n\",0xe4b896e7958c)\n",
    "fmt.Println(\"3. \\u4e16\\u754c\")\n",
    "fmt.Printf(\"%032b\\n\",0x4e16754c)\n",
    "fmt.Println(\"4. \\U00004e16\\U0000754c\")"
   ]
  },
  {
   "cell_type": "code",
   "execution_count": 61,
   "metadata": {
    "slideshow": {
     "slide_type": "subslide"
    },
    "tags": []
   },
   "outputs": [
    {
     "name": "stdout",
     "output_type": "stream",
     "text": [
      "世世世\n",
      "code point: 19990\n"
     ]
    }
   ],
   "source": [
    "%%\n",
    "fmt.Printf(\"%c\",'世')\n",
    "fmt.Printf(\"%c\",'\\u4e16')\n",
    "fmt.Printf(\"%c\",'\\U00004e16')\n",
    "fmt.Printf(\"\\ncode point: %d\\n\",0x4e16)"
   ]
  },
  {
   "cell_type": "code",
   "execution_count": 63,
   "metadata": {
    "code_folding": [],
    "slideshow": {
     "slide_type": "subslide"
    },
    "tags": []
   },
   "outputs": [
    {
     "name": "stdout",
     "output_type": "stream",
     "text": [
      "true 3\n",
      "true\n",
      "true 12\n"
     ]
    }
   ],
   "source": [
    "func HasPrefix(s, prefix string) bool {\n",
    "    return len(s) >= len(prefix) && s[:len(prefix)] == prefix\n",
    "}\n",
    "\n",
    "func HasSuffix(s, suffix string) bool {\n",
    "    return len(s) >= len(suffix) && s[len(s)-len(suffix):] == suffix\n",
    "}\n",
    "\n",
    "func Contains(s, substr string) bool {\n",
    "    for i:= 0; i < len(s); i++ {\n",
    "        if HasPrefix(s[i:], substr) {\n",
    "            return true\n",
    "        }\n",
    "    }\n",
    "    return false\n",
    "}\n",
    "%%\n",
    "fmt.Println(HasPrefix(\"世界\", \"世\"), len(\"世\"))\n",
    "fmt.Println(HasSuffix(\"世界\", \"界\"))\n",
    "fmt.Println(Contains(\"花花世界\",\"花世\"),len(\"花花世界\"))"
   ]
  },
  {
   "cell_type": "code",
   "execution_count": 64,
   "metadata": {
    "slideshow": {
     "slide_type": "subslide"
    },
    "tags": []
   },
   "outputs": [
    {
     "name": "stdout",
     "output_type": "stream",
     "text": [
      "13\n",
      "9\n"
     ]
    }
   ],
   "source": [
    "import \"unicode/utf8\"\n",
    "%%\n",
    "s:=\"Hello, 世界\"\n",
    "fmt.Println(len(s))                    // 13\n",
    "fmt.Println(utf8.RuneCountInString(s)) // 9"
   ]
  },
  {
   "cell_type": "code",
   "execution_count": 73,
   "metadata": {
    "code_folding": [],
    "slideshow": {
     "slide_type": "subslide"
    },
    "tags": []
   },
   "outputs": [
    {
     "name": "stdout",
     "output_type": "stream",
     "text": [
      "9\n",
      "9\n",
      "9\n",
      "9\n"
     ]
    }
   ],
   "source": [
    "// count the number of runes\n",
    "\n",
    "func runeLen1(s string) int {\n",
    "    n := 0\n",
    "    for i:=0; i< len(s); {\n",
    "        _, size := utf8.DecodeRuneInString(s[i:])\n",
    "        //fmt.Printf(\"%d\\t%c\\n\", i, r)\n",
    "        i += size\n",
    "        n++\n",
    "    }\n",
    "    return n\n",
    "}\n",
    "\n",
    "func runeLen2(s string) (n int) {\n",
    "    n = 0\n",
    "    for i, r := range s {\n",
    "        n++\n",
    "        _,_ = i,r\n",
    "    }\n",
    "    return\n",
    "}\n",
    "\n",
    "func runeLen3(s string) (n int) {\n",
    "    for _, _ = range s {\n",
    "        n++\n",
    "    }\n",
    "    return\n",
    "}\n",
    "\n",
    "func runeLen4(s string) (n int) {\n",
    "    for range s {\n",
    "        n++\n",
    "    }\n",
    "    return\n",
    "}\n",
    "%%\n",
    "fmt.Println(runeLen1(\"Hello, 世界\"))\n",
    "fmt.Println(runeLen2(\"Hello, 世界\"))\n",
    "fmt.Println(runeLen3(\"Hello, 世界\"))\n",
    "fmt.Println(runeLen4(\"Hello, 世界\"))"
   ]
  },
  {
   "cell_type": "markdown",
   "metadata": {
    "slideshow": {
     "slide_type": "subslide"
    },
    "tags": []
   },
   "source": [
    "* []rune for a UTF-8 string returns the sequence of Unicode code points "
   ]
  },
  {
   "cell_type": "code",
   "execution_count": 74,
   "metadata": {
    "slideshow": {
     "slide_type": "subslide"
    }
   },
   "outputs": [
    {
     "name": "stdout",
     "output_type": "stream",
     "text": [
      "e3 83 97 e3 83 ad e3 82 b0 e3 83 a9 e3 83 a0\n",
      "[30d7 30ed 30b0 30e9 30e0]\n",
      "プログラム\n",
      "A\n",
      "京\n",
      "� 15\n"
     ]
    }
   ],
   "source": [
    "%%\n",
    "s := \"プログラム\"  // \"program\" in Japanese katakana 片假名\n",
    "fmt.Printf(\"% x\\n\", s) // insert a space between each pair of hex digits\n",
    "r := []rune(s)\n",
    "fmt.Printf(\"%x\\n\", r)\n",
    "\n",
    "fmt.Println(string(r)) // runes converted back to string\n",
    "\n",
    "fmt.Println(string(65))\n",
    "fmt.Println(string(0x4eac))\n",
    "fmt.Println(string(1234567),len(s))  // replacement character"
   ]
  },
  {
   "cell_type": "markdown",
   "metadata": {
    "slideshow": {
     "slide_type": "subslide"
    },
    "tags": []
   },
   "source": [
    "### 3.5.4. Strings and Byte Slices\n",
    "* packages for strings: bytes, strings, strconv, and unicode\n",
    "* bytes package: slices of bytes, type []byte\n",
    "* strconv package: converting boolean, integer, and floating-point to string\n",
    "* unicode package: IsDigit, IsLetter, IsUpper, and IsLower "
   ]
  },
  {
   "cell_type": "code",
   "execution_count": 75,
   "metadata": {
    "code_folding": [],
    "slideshow": {
     "slide_type": "subslide"
    }
   },
   "outputs": [
    {
     "name": "stdout",
     "output_type": "stream",
     "text": [
      "c\n",
      "c.d\n",
      "abc\n",
      "測試\n",
      "boot\n"
     ]
    }
   ],
   "source": [
    "// basename removes directory components and a .suffix.\n",
    "// e.g., a => a, a.go => a, a/b/c.go => c, a/b.c.go => b.c\n",
    "func basename1(s string) string {\n",
    "\t// Discard last '/' and everything before.\n",
    "\tfor i := len(s) - 1; i >= 0; i-- {\n",
    "\t\tif s[i] == '/' {\n",
    "\t\t\ts = s[i+1:]\n",
    "\t\t\tbreak\n",
    "\t\t}\n",
    "\t}\n",
    "\t// Preserve everything before last '.'.\n",
    "\tfor i := len(s) - 1; i >= 0; i-- {\n",
    "\t\tif s[i] == '.' {\n",
    "\t\t\ts = s[:i]\n",
    "\t\t\tbreak\n",
    "\t\t}\n",
    "\t}\n",
    "\treturn s\n",
    "}\n",
    "%%\n",
    "fmt.Println(basename1(\"a/b/c.go\"))\n",
    "fmt.Println(basename1(\"c.d.go\"))\n",
    "fmt.Println(basename1(\"abc\"))\n",
    "fmt.Println(basename1(\"/ab世界/測試.go\"))\n",
    "fmt.Println(basename1(\"/user/local/bin/boot.bin\"))"
   ]
  },
  {
   "cell_type": "code",
   "execution_count": 76,
   "metadata": {
    "code_folding": [
     4
    ],
    "slideshow": {
     "slide_type": "subslide"
    }
   },
   "outputs": [
    {
     "name": "stdout",
     "output_type": "stream",
     "text": [
      "c\n",
      "c.d。測\n",
      "abc\n"
     ]
    }
   ],
   "source": [
    "// basename removes directory components and a trailing .suffix.\n",
    "// e.g., a => a, a.go => a, a/b/c.go => c, a/b.c.go => b.c\n",
    "//!+\n",
    "import \"strings\"\n",
    "func basename2(s string) string {\n",
    "\tslash := strings.LastIndex(s, \"/\") // -1 if \"/\" not found\n",
    "\ts = s[slash+1:]\n",
    "\tif dot := strings.LastIndex(s, \".\"); dot >= 0 {\n",
    "\t\ts = s[:dot]\n",
    "\t}\n",
    "\treturn s\n",
    "}\n",
    "%%\n",
    "fmt.Println(basename2(\"a/b/c.go\"))\n",
    "fmt.Println(basename2(\"c.d。測.go\"))\n",
    "fmt.Println(basename2(\"abc\"))"
   ]
  },
  {
   "cell_type": "code",
   "execution_count": 77,
   "metadata": {
    "code_folding": []
   },
   "outputs": [
    {
     "name": "stdout",
     "output_type": "stream",
     "text": [
      "12,345,測,試\n",
      "123\n",
      "12\n",
      "123,456,789\n"
     ]
    }
   ],
   "source": [
    "// take a string of an integer \"12345\", insert commas every three places, as 12,345\n",
    "// comma inserts commas in a non-negative decimal integer string.\n",
    "func comma(s string) string {\n",
    "    n := len(s)\n",
    "    if n <=3 {\n",
    "        return s\n",
    "    }\n",
    "    return comma(s[:n-3]) + \",\" + s[n-3:]\n",
    "}\n",
    "%%\n",
    "fmt.Println(comma(\"12345測試\"))\n",
    "fmt.Println(comma(\"123\"))\n",
    "fmt.Println(comma(\"12\"))\n",
    "fmt.Println(comma(\"123456789\"))"
   ]
  },
  {
   "cell_type": "markdown",
   "metadata": {
    "slideshow": {
     "slide_type": "subslide"
    }
   },
   "source": [
    "#### Strings can be converted to byte slices and back again"
   ]
  },
  {
   "cell_type": "code",
   "execution_count": 78,
   "metadata": {
    "slideshow": {
     "slide_type": "fragment"
    }
   },
   "outputs": [
    {
     "name": "stdout",
     "output_type": "stream",
     "text": [
      "abc [100 98 99] dbc\n"
     ]
    }
   ],
   "source": [
    "%%\n",
    "s := \"abc\"\n",
    "b := []byte(s)\n",
    "b[0] = 'd'\n",
    "s2 := string(b)\n",
    "fmt.Println(s,b,s2)"
   ]
  },
  {
   "cell_type": "markdown",
   "metadata": {
    "slideshow": {
     "slide_type": "subslide"
    }
   },
   "source": [
    "#### utility functions of strings package\n",
    "<code>\n",
    "func Contains(s, substr string) bool\n",
    "func Count(s, sep string) int\n",
    "func Fields(s string) []string\n",
    "func HasPrefix(s, prefix string) bool\n",
    "func Index(s, sep string) int\n",
    "func Join(a []string, sep string) string\n",
    "</code>"
   ]
  },
  {
   "cell_type": "markdown",
   "metadata": {
    "slideshow": {
     "slide_type": "fragment"
    }
   },
   "source": [
    "#### corresponding funcions for byte\n",
    "<code>\n",
    "func Contains(s, substr []byte) bool\n",
    "func Count(s, sep []byte) int\n",
    "func Fields(s []byte) [][]byte\n",
    "func HasPrefix(s, prefix []byte) bool\n",
    "func Index(s, sep []byte) int\n",
    "func Join(a []string, sep []byte) []byte\n",
    "</code>"
   ]
  },
  {
   "cell_type": "code",
   "execution_count": 80,
   "metadata": {
    "code_folding": [],
    "slideshow": {
     "slide_type": "subslide"
    }
   },
   "outputs": [
    {
     "name": "stdout",
     "output_type": "stream",
     "text": [
      "[1, 2, 3]\n"
     ]
    }
   ],
   "source": [
    "//intsToString is like fmt.Sprint(values) but adds commas.\n",
    "// Printints demonstrates the use of bytes.Buffer to format a string.\n",
    "//package main\n",
    "\n",
    "import (\n",
    "        \"bytes\"\n",
    "        \"fmt\"\n",
    ")\n",
    "\n",
    "//!+\n",
    "// intsToString is like fmt.Sprint(values) but adds commas.\n",
    "func intsToString(values []int) string {\n",
    "        var buf bytes.Buffer\n",
    "        buf.WriteByte('[')\n",
    "        for i, v := range values {\n",
    "                if i > 0 {\n",
    "                        buf.WriteString(\", \")\n",
    "                }\n",
    "                fmt.Fprintf(&buf, \"%d\", v)\n",
    "        }\n",
    "        buf.WriteByte(']')\n",
    "        return buf.String()\n",
    "}\n",
    "   \n",
    "func main() {\n",
    "        fmt.Println(intsToString([]int{1, 2, 3})) // \"[1, 2, 3]\"\n",
    "}\n",
    "//main()"
   ]
  },
  {
   "cell_type": "markdown",
   "metadata": {
    "slideshow": {
     "slide_type": "subslide"
    }
   },
   "source": [
    "### 3.5.5 Conversions between Strings and Numbers\n",
    "* Convert between numeric values and their string representations\n",
    "* strconv package\n",
    "* fmt.Sprintf or strconv.Itoa(\"integer to ASCII\")"
   ]
  },
  {
   "cell_type": "code",
   "execution_count": 83,
   "metadata": {
    "slideshow": {
     "slide_type": "fragment"
    }
   },
   "outputs": [
    {
     "name": "stdout",
     "output_type": "stream",
     "text": [
      "123 123\n"
     ]
    }
   ],
   "source": [
    "\n",
    "%%\n",
    "x := 123\n",
    "y := fmt.Sprintf(\"%d\",x)\n",
    "fmt.Println(y, strconv.Itoa(x)) // \"123 123\""
   ]
  },
  {
   "cell_type": "code",
   "execution_count": 84,
   "metadata": {
    "slideshow": {
     "slide_type": "fragment"
    }
   },
   "outputs": [
    {
     "name": "stdout",
     "output_type": "stream",
     "text": [
      "1111011\n",
      "173\n",
      "7b\n",
      "1111011\n",
      "173\n",
      "7b\n"
     ]
    }
   ],
   "source": [
    "%%\n",
    "//format numbers in a different base\n",
    "x := 123\n",
    "fmt.Println(strconv.FormatInt(int64(x),2)) // \"1111011\"\n",
    "fmt.Println(strconv.FormatInt(int64(x),8)) // \"1111011\"\n",
    "fmt.Println(strconv.FormatInt(int64(x),16)) // \"1111011\"\n",
    "fmt.Println(fmt.Sprintf(\"%b\",x)) \n",
    "fmt.Println(fmt.Sprintf(\"%o\",x)) \n",
    "fmt.Println(fmt.Sprintf(\"%x\",x)) "
   ]
  },
  {
   "cell_type": "code",
   "execution_count": 86,
   "metadata": {
    "slideshow": {
     "slide_type": "fragment"
    }
   },
   "outputs": [
    {
     "name": "stdout",
     "output_type": "stream",
     "text": [
      "123 123 <nil>\n"
     ]
    }
   ],
   "source": [
    "%%\n",
    "//parse string into integer\n",
    "x, err := strconv.Atoi(\"123\") //x is an int\n",
    "y, err := strconv.ParseInt(\"123\", 10, 64) // base 10, up to 64 bits\n",
    "fmt.Println(x,y,err)"
   ]
  },
  {
   "cell_type": "markdown",
   "metadata": {
    "slideshow": {
     "slide_type": "slide"
    },
    "tags": []
   },
   "source": [
    "## 3.6. Constants"
   ]
  },
  {
   "cell_type": "markdown",
   "metadata": {
    "slideshow": {
     "slide_type": "subslide"
    },
    "tags": []
   },
   "source": [
    "* Constants are expressions whose value is known to the compiler and whose evaluation is quaranteed to occur at compile time, not run time\n",
    "* basic type: boolean, string, or number"
   ]
  },
  {
   "cell_type": "code",
   "execution_count": 87,
   "metadata": {
    "slideshow": {
     "slide_type": "subslide"
    }
   },
   "outputs": [
    {
     "name": "stdout",
     "output_type": "stream",
     "text": [
      "10 10 2 2 2.718281828459045 3.141592653589793 3.141592653589793 2.718281828459045\n",
      "3.141592653589793 2.718281828459045"
     ]
    }
   ],
   "source": [
    "const pi = 3.14159  // math.Pi\n",
    "const (\n",
    "    e =  2.71828182845904523536028747135266249775724709369995957496696763\n",
    "    pi = 3.14159265358979323846264338327950288419716939937510582097494459\n",
    ")\n",
    "\n",
    "const (\n",
    "    a = 10\n",
    "    b\n",
    "    c = 2\n",
    "    d\n",
    ")\n",
    "%%\n",
    "fmt.Println(a,b,c,d,e,pi,math.Pi,math.E)\n",
    "fmt.Printf(\"%g %g\",math.Pi,math.E)\n"
   ]
  },
  {
   "cell_type": "code",
   "execution_count": 88,
   "metadata": {},
   "outputs": [
    {
     "name": "stdout",
     "output_type": "stream",
     "text": [
      "time.Duration 0s\n",
      "time.Duration 5m0s\n",
      "time.Duration 1m0s\n"
     ]
    }
   ],
   "source": [
    "import \"time\"\n",
    "const noDelay time.Duration = 0\n",
    "const timeout = 5 * time.Minute\n",
    "%%\n",
    "fmt.Printf(\"%T %[1]v\\n\", noDelay)  // \"time.Duration 0\"\n",
    "fmt.Printf(\"%T %[1]v\\n\", timeout)  // \"time.Duration 5m0s\"\n",
    "fmt.Printf(\"%T %[1]v\\n\", time.Minute)// \"time.Duration 1m0s\""
   ]
  },
  {
   "cell_type": "markdown",
   "metadata": {
    "slideshow": {
     "slide_type": "slide"
    },
    "tags": []
   },
   "source": [
    "### 3.6.1. The Constant Generator iota"
   ]
  },
  {
   "cell_type": "markdown",
   "metadata": {
    "slideshow": {
     "slide_type": "subslide"
    }
   },
   "source": [
    "* the value of iota begains at zero and increments by one for each item"
   ]
  },
  {
   "cell_type": "code",
   "execution_count": 89,
   "metadata": {
    "slideshow": {
     "slide_type": "subslide"
    }
   },
   "outputs": [
    {
     "name": "stdout",
     "output_type": "stream",
     "text": [
      "0 1 2 3 4 5 6\n"
     ]
    }
   ],
   "source": [
    "type Weekday int\n",
    "const (\n",
    "   Sunday Weekday = iota\n",
    "   Monday\n",
    "   Tuesday\n",
    "   Wednesday\n",
    "   Thursday\n",
    "   Friday\n",
    "   Saturday\n",
    ")\n",
    "%%\n",
    "fmt.Println(Sunday, Monday, Tuesday, Wednesday, Thursday, Friday, Saturday)"
   ]
  },
  {
   "cell_type": "code",
   "execution_count": 90,
   "metadata": {
    "slideshow": {
     "slide_type": "subslide"
    }
   },
   "outputs": [
    {
     "name": "stdout",
     "output_type": "stream",
     "text": [
      "1 2 4 8 16\n"
     ]
    }
   ],
   "source": [
    "type Flags uint\n",
    "const (\n",
    "  FlagUp  Flags = 1 << iota \n",
    "  FlagBroadcast\n",
    "  FlagLoopback\n",
    "  FlagPointToPoint\n",
    "  FlagMulticast\n",
    ")\n",
    "%%\n",
    "fmt.Println(FlagUp, FlagBroadcast, FlagLoopback, FlagPointToPoint, FlagMulticast)"
   ]
  },
  {
   "cell_type": "code",
   "execution_count": 91,
   "metadata": {
    "slideshow": {
     "slide_type": "subslide"
    },
    "tags": []
   },
   "outputs": [
    {
     "name": "stdout",
     "output_type": "stream",
     "text": [
      "10001 true\n",
      "10000 false\n",
      "10010 false\n",
      "10010 true\n"
     ]
    }
   ],
   "source": [
    "// Copyright © 2016 Alan A. A. Donovan & Brian W. Kernighan.\n",
    "// License: https://creativecommons.org/licenses/by-nc-sa/4.0/\n",
    "\n",
    "// See page 77.\n",
    "\n",
    "// Netflag demonstrates an integer type used as a bit field.\n",
    "//package main\n",
    "\n",
    "import (\n",
    "\t\"fmt\"\n",
    "\t\"net\"\n",
    ")\n",
    "\n",
    "//!+\n",
    "func IsUp(v Flags) bool     { return v&FlagUp == FlagUp }\n",
    "func TurnDown(v *Flags)     { *v &^= FlagUp }\n",
    "func SetBroadcast(v *Flags) { *v |= FlagBroadcast }\n",
    "func IsCast(v Flags) bool   { return v&(FlagBroadcast|FlagMulticast) != 0 }\n",
    "\n",
    "func main() {\n",
    "\tvar v Flags = FlagMulticast | FlagUp\n",
    "\tfmt.Printf(\"%b %t\\n\", v, IsUp(v)) // \"10001 true\"\n",
    "\tTurnDown(&v)\n",
    "\tfmt.Printf(\"%b %t\\n\", v, IsUp(v)) // \"10000 false\"\n",
    "\tSetBroadcast(&v)\n",
    "\tfmt.Printf(\"%b %t\\n\", v, IsUp(v))   // \"10010 false\"\n",
    "\tfmt.Printf(\"%b %t\\n\", v, IsCast(v)) // \"10010 true\"\n",
    "}\n",
    "//main()\n",
    "//!-"
   ]
  },
  {
   "cell_type": "code",
   "execution_count": 92,
   "metadata": {
    "slideshow": {
     "slide_type": "subslide"
    },
    "tags": []
   },
   "outputs": [
    {
     "data": {
      "text/html": [
       "\n",
       "<style>\n",
       ".gonb-err-location {\n",
       "\tbackground: var(--jp-err-color2);  \n",
       "\tborder-radius: 3px;\n",
       "\tborder-style: dotted;\n",
       "\tborder-width: 1px;\n",
       "\tborder-color: var(--jp-border-color2);\n",
       "}\n",
       ".gonb-err-location:hover {\n",
       "\tborder-width: 2px;\n",
       "\tborder-style: solid;\n",
       "\tborder-color: var(--jp-border-color2);\n",
       "}\n",
       ".gonb-err-context {\n",
       "\tdisplay: none;\n",
       "}\n",
       ".gonb-err-location:hover + .gonb-err-context {\n",
       "\tbackground: var(--jp-dialog-background);  \n",
       "\tborder-radius: 3px;\n",
       "\tborder-style: solid;\n",
       "\tborder-width: 1px;\n",
       "\tborder-color: var(--jp-border-color2);\n",
       "\tdisplay: block;\n",
       "\twhite-space: pre;\n",
       "\tfont-family: monospace;\n",
       "}\n",
       ".gonb-err-line {\n",
       "\tborder-radius: 3px;\n",
       "\tborder-style: dotted;\n",
       "\tborder-width: 1px;\t\n",
       "\tborder-color: var(--jp-border-color2);\n",
       "\tbackground-color: var(--jp-rendermime-err-background);\n",
       "\tfont-weight: bold;\n",
       "}\n",
       ".gonb-cell-line-info {\n",
       "\tbackground: var(--jp-layout-color2);\n",
       "\tcolor: #999;\n",
       "\tmargin: 0.1em;\n",
       "\tborder: 1px solid var(--jp-border-color1);\n",
       "\tpadding-left: 0.2em;\n",
       "\tpadding-right: 0.2em;\n",
       "}\n",
       "</style>\n",
       "<div class=\"lm-Widget p-Widget lm-Panel p-Panel jp-OutputArea-child\">\n",
       "<div class=\"lm-Widget p-Widget jp-RenderedText jp-mod-trusted jp-OutputArea-output\" data-mime-type=\"application/vnd.jupyter.stderr\" style=\"font-family: monospace;\">\n",
       "\n",
       "\n",
       "<span style=\"white-space: pre;\"> # gonb_3a37bd15</span>\n",
       "\n",
       "<br/>\n",
       "\n",
       "<span class=\"gonb-cell-line-info\">Cell[92]: Line 14</span>\n",
       "<span class=\"gonb-err-location\">./main.go:379:38: </span> cannot use ZiB (untyped int constant 1180591620717411303424) as int value in argument to fmt.Println (overflows)\n",
       "<div class=\"gonb-err-context\">\n",
       "\n",
       "func main() {\n",
       "\tflag.Parse()\n",
       "<div class=\"gonb-err-line\">\tfmt.Println(KiB,MiB,GiB,TiB,PiB,EiB,ZiB)\n",
       "</div>\n",
       "}\n",
       "\n",
       "</div>\n",
       "\n",
       "<br/>\n",
       "\n",
       "\n",
       "<span style=\"white-space: pre;\"> </span>\n",
       "\n",
       "<br/>\n",
       "\n",
       "</div>\n"
      ]
     },
     "metadata": {},
     "output_type": "display_data"
    },
    {
     "ename": "ERROR",
     "evalue": "failed to run \"/opt/homebrew/bin/go build -o /var/folders/4d/tg201k8x6yb81f_lrvt4440m0000gn/T/gonb_3a37bd15/gonb_3a37bd15\": exit status 1",
     "output_type": "error",
     "traceback": [
      "failed to run \"/opt/homebrew/bin/go build -o /var/folders/4d/tg201k8x6yb81f_lrvt4440m0000gn/T/gonb_3a37bd15/gonb_3a37bd15\": exit status 1"
     ]
    }
   ],
   "source": [
    "// a more complex example of iota, names of powers of 1024\n",
    "const (\n",
    "    _ = 1 << (10 * iota)\n",
    "    KiB\n",
    "    MiB\n",
    "    GiB\n",
    "    TiB\n",
    "    PiB\n",
    "    EiB\n",
    "    ZiB  // exceeds 1 << 64\n",
    "    YiB\n",
    ")\n",
    "%%\n",
    "fmt.Println(KiB,MiB,GiB,TiB,PiB,EiB,ZiB)"
   ]
  },
  {
   "cell_type": "markdown",
   "metadata": {
    "slideshow": {
     "slide_type": "fragment"
    }
   },
   "source": [
    "* It's not possible to generate the powers of 1000 (KB, MB, and so on)\n",
    "* No exponential operator"
   ]
  },
  {
   "cell_type": "markdown",
   "metadata": {
    "slideshow": {
     "slide_type": "slide"
    },
    "tags": []
   },
   "source": [
    "### 3.6.2. Untyped Constants\n",
    "* Many Constants are not committed to a particular type\n",
    "* Compiler represents these uncommitted constants with much greater numeric precision than values of basic types\n",
    "* YiB and ZiB are too big to store in any integer variable, but they are legitimate constants\n",
    "* untyped boolean, untyped integer, untyped rune, untyped floating-point, untyped complex, and untyped string"
   ]
  },
  {
   "cell_type": "code",
   "execution_count": 94,
   "metadata": {
    "slideshow": {
     "slide_type": "subslide"
    },
    "tags": []
   },
   "outputs": [
    {
     "name": "stdout",
     "output_type": "stream",
     "text": [
      "1024\n"
     ]
    }
   ],
   "source": [
    "const (\n",
    "    _ = 1 << (10 * iota)\n",
    "    KiB\n",
    "    MiB\n",
    "    GiB\n",
    "    TiB\n",
    "    PiB\n",
    "    EiB\n",
    "    ZiB  // exceeds 1 << 64\n",
    "    YiB\n",
    ")\n",
    "%%\n",
    "fmt.Println(YiB/ZiB)"
   ]
  },
  {
   "cell_type": "code",
   "execution_count": 95,
   "metadata": {
    "slideshow": {
     "slide_type": "subslide"
    },
    "tags": []
   },
   "outputs": [
    {
     "name": "stdout",
     "output_type": "stream",
     "text": [
      "3.1415927 3.141592653589793 (3.141592653589793+0i)\n"
     ]
    }
   ],
   "source": [
    "import \"math\"\n",
    "%%\n",
    "var x float32 = math.Pi\n",
    "var y float64 = math.Pi\n",
    "var z complex128 = math.Pi\n",
    "fmt.Println(x,y,z)"
   ]
  },
  {
   "cell_type": "code",
   "execution_count": 97,
   "metadata": {
    "slideshow": {
     "slide_type": "fragment"
    }
   },
   "outputs": [
    {
     "name": "stdout",
     "output_type": "stream",
     "text": [
      "3.1415927 3.141592653589793 (3.141592653589793+0i)\n"
     ]
    }
   ],
   "source": [
    "%%\n",
    "const Pi64 float64 = math.Pi\n",
    "var x float32 = float32(Pi64)\n",
    "var y float64 = Pi64\n",
    "var z complex128 = complex128(Pi64)\n",
    "fmt.Println(x,y,z)"
   ]
  },
  {
   "cell_type": "markdown",
   "metadata": {
    "slideshow": {
     "slide_type": "fragment"
    }
   },
   "source": [
    "* 0: untypted integer\n",
    "* 0.0: untypted floating-point\n",
    "* 0i : untypted complex\n",
    "* '\\u0000' : untyped rune\n",
    "* true, false: untyped booleans\n",
    "* string literals: untyped strings"
   ]
  }
 ],
 "metadata": {
  "celltoolbar": "Slideshow",
  "kernelspec": {
   "display_name": "Go (gonb)",
   "language": "go",
   "name": "gonb"
  },
  "language_info": {
   "codemirror_mode": "",
   "file_extension": ".go",
   "mimetype": "",
   "name": "go",
   "nbconvert_exporter": "",
   "pygments_lexer": "",
   "version": "go1.21.1"
  },
  "rise": {
   "enable_chalkboard": true,
   "scroll": true
  },
  "toc": {
   "base_numbering": 1,
   "nav_menu": {},
   "number_sections": false,
   "sideBar": true,
   "skip_h1_title": false,
   "title_cell": "Table of Contents",
   "title_sidebar": "Contents",
   "toc_cell": false,
   "toc_position": {
    "height": "calc(100% - 180px)",
    "left": "10px",
    "top": "150px",
    "width": "165px"
   },
   "toc_section_display": false,
   "toc_window_display": false
  }
 },
 "nbformat": 4,
 "nbformat_minor": 4
}
