{
 "cells": [
  {
   "cell_type": "markdown",
   "metadata": {
    "slideshow": {
     "slide_type": "fragment"
    }
   },
   "source": [
    "# Go Programming, Week 5: Overview\n",
    "* Program Structure \n",
    "  * Bitcount\n",
    "  * Scope\n",
    "* Basic Data Types\n",
    "  * Number\n",
    "  * Boolean\n",
    "  * String\n",
    "* Composite Types\n",
    "  * Array\n",
    "  * Slice\n",
    "  * Map\n",
    "  * Struct\n",
    "  * JSON and HTML"
   ]
  },
  {
   "cell_type": "markdown",
   "metadata": {
    "slideshow": {
     "slide_type": "slide"
    },
    "tags": []
   },
   "source": [
    "# Chapter 2. Program Structure"
   ]
  },
  {
   "cell_type": "markdown",
   "metadata": {
    "slideshow": {
     "slide_type": "slide"
    },
    "tags": []
   },
   "source": [
    "## 2.1 Names"
   ]
  },
  {
   "cell_type": "markdown",
   "metadata": {
    "slideshow": {
     "slide_type": "slide"
    },
    "tags": []
   },
   "source": [
    "* names of Go functions, variables, constants, types, statement labels, and package\n",
    "   * begin with a letter (Unicode) or an underscore\n",
    "   * case sensitive\n",
    "* Go has 25 keywords (cannot be used as names)\n",
    "<code>\n",
    "    break    default     func   interface select\n",
    "    case     defer       go     map       struct\n",
    "    chan     else        goto   package   switch\n",
    "    const    fallthrough if     range     type\n",
    "    continue for         import return    var\n",
    "</code>\n",
    "\n"
   ]
  },
  {
   "cell_type": "markdown",
   "metadata": {
    "slideshow": {
     "slide_type": "subslide"
    },
    "tags": []
   },
   "source": [
    "Predefined names for built-in constants, types, and functions\n",
    "<code>\n",
    "Constants:  true false iota nil\n",
    "[Types](https://golang.org/ref/spec#Types):      int int8 int16 int32 int64\n",
    "            unit unit8 unit16 uint32 uint64 uintptr\n",
    "            float32 float64 complex64 complex128\n",
    "            bool byte rune string error\n",
    "[Functions](https://golang.org/ref/spec#Built-in_functions):  make len cap new append copy close delete \n",
    "            complex real imag \n",
    "            panic recover\n",
    "</code>\n",
    "* not reserved, and may use in declarations"
   ]
  },
  {
   "cell_type": "code",
   "execution_count": 14,
   "metadata": {
    "slideshow": {
     "slide_type": "subslide"
    },
    "tags": []
   },
   "outputs": [
    {
     "name": "stdout",
     "output_type": "stream",
     "text": [
      "11\n",
      "21 3\n"
     ]
    }
   ],
   "source": [
    "//package main\n",
    "import \"fmt\"\n",
    "\n",
    "type 整數 int\n",
    "func 轉換程式(金 整數){\n",
    "    fmt.Println(金)\n",
    "} \n",
    "\n",
    "func main(){ \n",
    "    銅 := 21 \n",
    "    金 := 3\n",
    "    轉換程式(11)\n",
    "    fmt.Println(銅,金)\n",
    "}\n",
    "\n",
    "//main()\n"
   ]
  },
  {
   "cell_type": "markdown",
   "metadata": {
    "slideshow": {
     "slide_type": "subslide"
    },
    "tags": []
   },
   "source": [
    "### Name Visibility and Naming Convention\n",
    "* Declared within a function\n",
    "  * Local to the function\n",
    "* Declared outside of a function\n",
    "  * Visible in all files of the package \n",
    "  * If begin with an uppercase letter, it is exported and visible outside of its package\n",
    "    * For example, fmt.Printf\n",
    "* Package names are always in lower case\n",
    "* No limit on name length\n",
    "  * The larger the scope of a name, the longer and more meaningful it should be\n",
    "* Camel case\n",
    "  * use: QuoteRuneToASCII and parseRequestLine \n",
    "  * never: quote_rune_to_ASCII, parse_request_line\n",
    "  * use: htmlEscape, HTMLEscape, escapeHTML (name case for acronyms and initialisms)\n",
    "  * never: escapeHtml"
   ]
  },
  {
   "cell_type": "markdown",
   "metadata": {
    "slideshow": {
     "slide_type": "slide"
    },
    "tags": []
   },
   "source": [
    "## 2.2 Declarations"
   ]
  },
  {
   "cell_type": "markdown",
   "metadata": {
    "slideshow": {
     "slide_type": "subslide"
    },
    "tags": []
   },
   "source": [
    "* Four major kinds of declarations\n",
    "  * var, type (chap 2)\n",
    "  * const (chap 3) \n",
    "  * func (chap5)\n",
    "* Go program\n",
    "  * .go file\n",
    "  * package declaration (the go file)\n",
    "  * import declaration\n",
    "  * package level declarations: types, variables, constants, functions\n"
   ]
  },
  {
   "cell_type": "code",
   "execution_count": 15,
   "metadata": {
    "slideshow": {
     "slide_type": "subslide"
    },
    "tags": []
   },
   "outputs": [
    {
     "name": "stdout",
     "output_type": "stream",
     "text": [
      "boiling point = 212°F or 100°C\n"
     ]
    }
   ],
   "source": [
    "//gopl.io/ch2/boiling\n",
    "// Boiling prints the boiling point of water\n",
    "//package main\n",
    "import \"fmt\"\n",
    "\n",
    "const boilingF = 212.0\n",
    "\n",
    "func main() {\n",
    "        var f = boilingF\n",
    "        var c = (f - 32) * 5 / 9\n",
    "        fmt.Printf(\"boiling point = %g°F or %g°C\\n\", f, c)\n",
    "        // Output:\n",
    "        // boiling point = 212°F or 100°C\n",
    "}"
   ]
  },
  {
   "cell_type": "code",
   "execution_count": 29,
   "metadata": {
    "slideshow": {
     "slide_type": "skip"
    },
    "tags": []
   },
   "outputs": [],
   "source": [
    "//main()"
   ]
  },
  {
   "cell_type": "code",
   "execution_count": 16,
   "metadata": {
    "slideshow": {
     "slide_type": "subslide"
    },
    "tags": []
   },
   "outputs": [
    {
     "name": "stdout",
     "output_type": "stream",
     "text": [
      "32°F = 0°C\n",
      "212°F = 100°C\n"
     ]
    }
   ],
   "source": [
    "//gopl.io/ch2/ftoc\n",
    "import \"fmt\"\n",
    "\n",
    "func main() {\n",
    "\tconst freezingF, boilingF = 32.0, 212.0\n",
    "\tfmt.Printf(\"%g°F = %g°C\\n\", freezingF, fToC(freezingF)) // \"32°F = 0°C\"\n",
    "\tfmt.Printf(\"%g°F = %g°C\\n\", boilingF, fToC(boilingF))   // \"212°F = 100°C\"\n",
    "}\n",
    "\n",
    "func fToC(f float64) float64 {\n",
    "\treturn (f - 32) * 5 / 9\n",
    "}"
   ]
  },
  {
   "cell_type": "code",
   "execution_count": 15,
   "metadata": {
    "slideshow": {
     "slide_type": "skip"
    },
    "tags": []
   },
   "outputs": [
    {
     "name": "stdout",
     "output_type": "stream",
     "text": [
      "32°F = 0°C\n",
      "212°F = 100°C\n"
     ]
    }
   ],
   "source": [
    "main()"
   ]
  },
  {
   "cell_type": "markdown",
   "metadata": {
    "slideshow": {
     "slide_type": "slide"
    },
    "tags": []
   },
   "source": [
    "## 2.3 Variables"
   ]
  },
  {
   "cell_type": "markdown",
   "metadata": {
    "slideshow": {
     "slide_type": "subslide"
    },
    "tags": []
   },
   "source": [
    "* var name type = expression\n",
    "  <code>\n",
    "  var s string\n",
    "  fmt.Println(s)\n",
    "  var i,j,k int  //int, int, int\n",
    "  var b,f,s=true, 2.3, \"four\" //bool, float64, string\n",
    "  var f, err = os.Open(name) // os.Open returns a file and an error\n",
    "  </code>"
   ]
  },
  {
   "cell_type": "code",
   "execution_count": 6,
   "metadata": {
    "slideshow": {
     "slide_type": "fragment"
    },
    "tags": []
   },
   "outputs": [
    {
     "name": "stdout",
     "output_type": "stream",
     "text": [
      "\n"
     ]
    }
   ],
   "source": [
    "%%\n",
    "var s string\n",
    "fmt.Println(s)"
   ]
  },
  {
   "cell_type": "code",
   "execution_count": 17,
   "metadata": {
    "slideshow": {
     "slide_type": "fragment"
    },
    "tags": []
   },
   "outputs": [
    {
     "name": "stdout",
     "output_type": "stream",
     "text": [
      "0 0 0 true 2.3 four\n"
     ]
    }
   ],
   "source": [
    "import \"fmt\"\n",
    "%%\n",
    "var i,j,k int  //int, int, int\n",
    "var b,f,s=true, 2.3, \"four\" //bool, float64, string\n",
    "fmt.Println(i,j,k,b,f,s)"
   ]
  },
  {
   "cell_type": "code",
   "execution_count": 11,
   "metadata": {
    "slideshow": {
     "slide_type": "fragment"
    },
    "tags": []
   },
   "outputs": [],
   "source": [
    "//package main\n",
    "import \"os\"\n",
    "\n",
    "func main(){\n",
    "    var f, err = os.Open(\"dup.txt\") // os.Open returns a file and an error\n",
    "    _,_ = f,err\n",
    "}"
   ]
  },
  {
   "cell_type": "markdown",
   "metadata": {
    "slideshow": {
     "slide_type": "subslide"
    },
    "tags": []
   },
   "source": [
    "* If type is omitted, it is determined by the initializer expression\n",
    "* If expression is omitted, the initial value is the zero value for that type\n",
    "  * 0 for numbers\n",
    "  * false for booleans\n",
    "  * “” for strings\n",
    "  * nil for functions and reference types (slice, pointer, map, channel, function)\n",
    "  * Zero value of a aggregate type (like array and struct): zero value of all elements or fields\n",
    "* In Go, no uninitialized variables\n"
   ]
  },
  {
   "cell_type": "markdown",
   "metadata": {
    "slideshow": {
     "slide_type": "subslide"
    },
    "tags": []
   },
   "source": [
    "### 2.3.1 Short Variable Declarations\n",
    "* Declaration and initialize local variables\n",
    "  * within functions\n",
    "  * name := expression\n",
    "  * type of name is determined by the type of expression\n",
    "  * A short variable declaration must declare at least one new variable \n"
   ]
  },
  {
   "cell_type": "code",
   "execution_count": 13,
   "metadata": {
    "cell_style": "split",
    "slideshow": {
     "slide_type": "fragment"
    },
    "tags": []
   },
   "outputs": [
    {
     "name": "stdout",
     "output_type": "stream",
     "text": [
      "{[] [] 100 [] {<nil> 0 0} 0} 1.8139808639388586 0\n"
     ]
    }
   ],
   "source": [
    "import (\"image\";\"image/gif\";\"math/rand\")\n",
    "%%\n",
    "nframes := 100\n",
    "anim := gif.GIF{LoopCount: nframes}\n",
    "freq := rand.Float64() * 3.0\n",
    "t := 0.0\n",
    "fmt.Println(anim,freq,t)"
   ]
  },
  {
   "cell_type": "markdown",
   "metadata": {
    "slideshow": {
     "slide_type": "subslide"
    },
    "tags": []
   },
   "source": [
    "* short variable declarations are used to declare and initialize the majority of local variables\n",
    "* ***var*** declaration for local variable\n",
    "  * explicit type differs from that of the initializer expression\n",
    "  * variable will be assigned a value later"
   ]
  },
  {
   "cell_type": "code",
   "execution_count": 15,
   "metadata": {
    "cell_style": "split",
    "slideshow": {
     "slide_type": "fragment"
    },
    "tags": []
   },
   "outputs": [
    {
     "name": "stdout",
     "output_type": "stream",
     "text": [
      "100 100 [] <nil> 0\n"
     ]
    }
   ],
   "source": [
    "%%\n",
    "i := 100    // an int\n",
    "var boiling float64 = 100 \n",
    "// a float64, explicit type differs from that of the initializer \n",
    "var names []string\n",
    "var err error\n",
    "type Point int\n",
    "var p Point\n",
    "fmt.Println(i,boiling, names, err, p)"
   ]
  },
  {
   "cell_type": "code",
   "execution_count": 16,
   "metadata": {
    "slideshow": {
     "slide_type": "fragment"
    },
    "tags": []
   },
   "outputs": [],
   "source": [
    "%%\n",
    "i, j := 0, 1\n",
    "// multiple variables declared and initialized in the same\n",
    "// short variable declaration\n",
    "// := is a declaration, = is an assignment\n",
    "// multiple variable declaration , tuple assignment\n",
    "i, j = j, i //swap values of i and j"
   ]
  },
  {
   "cell_type": "code",
   "execution_count": 17,
   "metadata": {
    "slideshow": {
     "slide_type": "fragment"
    },
    "tags": []
   },
   "outputs": [],
   "source": [
    "%%\n",
    "// short variable declarations used for calls to functions\n",
    "f, err := os.Open(\"dup.txt\")\n",
    "if err != nil {\n",
    "    //return err\n",
    "}\n",
    "// ... use f ...\n",
    "f.Close()"
   ]
  },
  {
   "cell_type": "code",
   "execution_count": 19,
   "metadata": {
    "slideshow": {
     "slide_type": "fragment"
    },
    "tags": []
   },
   "outputs": [
    {
     "name": "stdout",
     "output_type": "stream",
     "text": [
      "&{0x14000130180} <nil> &{0x140001301e0}\n"
     ]
    }
   ],
   "source": [
    "%%\n",
    "//short variable declaration not necessarily declare all the variable\n",
    "//if some of them already declared, acts like an assignment\n",
    "in, err := os.Open(\"dup.txt\") // in and err declared\n",
    "// ...\n",
    "out, err := os.Create(\"useless.txt\") // out declared, err assigned\n",
    "fmt.Println(in, err, out)\n"
   ]
  },
  {
   "cell_type": "code",
   "execution_count": 21,
   "metadata": {
    "slideshow": {
     "slide_type": "fragment"
    },
    "tags": []
   },
   "outputs": [
    {
     "data": {
      "text/html": [
       "\n",
       "<style>\n",
       ".gonb-err-location {\n",
       "\tbackground: var(--jp-err-color2);  \n",
       "\tborder-radius: 3px;\n",
       "\tborder-style: dotted;\n",
       "\tborder-width: 1px;\n",
       "\tborder-color: var(--jp-border-color2);\n",
       "}\n",
       ".gonb-err-location:hover {\n",
       "\tborder-width: 2px;\n",
       "\tborder-style: solid;\n",
       "\tborder-color: var(--jp-border-color2);\n",
       "}\n",
       ".gonb-err-context {\n",
       "\tdisplay: none;\n",
       "}\n",
       ".gonb-err-location:hover + .gonb-err-context {\n",
       "\tbackground: var(--jp-dialog-background);  \n",
       "\tborder-radius: 3px;\n",
       "\tborder-style: solid;\n",
       "\tborder-width: 1px;\n",
       "\tborder-color: var(--jp-border-color2);\n",
       "\tdisplay: block;\n",
       "\twhite-space: pre;\n",
       "\tfont-family: monospace;\n",
       "}\n",
       ".gonb-err-line {\n",
       "\tborder-radius: 3px;\n",
       "\tborder-style: dotted;\n",
       "\tborder-width: 1px;\t\n",
       "\tborder-color: var(--jp-border-color2);\n",
       "\tbackground-color: var(--jp-rendermime-err-background);\n",
       "\tfont-weight: bold;\n",
       "}\n",
       ".gonb-cell-line-info {\n",
       "\tbackground: var(--jp-layout-color2);\n",
       "\tcolor: #999;\n",
       "\tmargin: 0.1em;\n",
       "\tborder: 1px solid var(--jp-border-color1);\n",
       "\tpadding-left: 0.2em;\n",
       "\tpadding-right: 0.2em;\n",
       "}\n",
       "</style>\n",
       "<div class=\"lm-Widget p-Widget lm-Panel p-Panel jp-OutputArea-child\">\n",
       "<div class=\"lm-Widget p-Widget jp-RenderedText jp-mod-trusted jp-OutputArea-output\" data-mime-type=\"application/vnd.jupyter.stderr\" style=\"font-family: monospace;\">\n",
       "\n",
       "\n",
       "<span style=\"white-space: pre;\"> # gonb_5505974d</span>\n",
       "\n",
       "<br/>\n",
       "\n",
       "<span class=\"gonb-cell-line-info\">Cell[21]: Line 8</span>\n",
       "<span class=\"gonb-err-location\">./main.go:25:12: </span> no new variables on left side of :=\n",
       "<div class=\"gonb-err-context\">\n",
       "// short variable declaration must declare at least one new variable\n",
       "    f, err := os.Open(&#34;dup.txt&#34;)\n",
       "//..use of f and err\n",
       "<div class=\"gonb-err-line\">    f, err := os.Create(&#34;useless.txt&#34;) //compile error: no new variables\n",
       "</div>    //to fix\n",
       "    //f, err = os.Create(&#34;useless.txt&#34;) //compile error: no new variables\n",
       "\n",
       "</div>\n",
       "\n",
       "<br/>\n",
       "\n",
       "\n",
       "<span style=\"white-space: pre;\"> </span>\n",
       "\n",
       "<br/>\n",
       "\n",
       "</div>\n"
      ]
     },
     "metadata": {},
     "output_type": "display_data"
    },
    {
     "ename": "ERROR",
     "evalue": "failed to run \"/opt/homebrew/bin/go build -o /var/folders/4d/tg201k8x6yb81f_lrvt4440m0000gn/T/gonb_5505974d/gonb_5505974d\": exit status 1",
     "output_type": "error",
     "traceback": [
      "failed to run \"/opt/homebrew/bin/go build -o /var/folders/4d/tg201k8x6yb81f_lrvt4440m0000gn/T/gonb_5505974d/gonb_5505974d\": exit status 1"
     ]
    }
   ],
   "source": [
    "//nonew.go\n",
    "//package main\n",
    "import \"os\"\n",
    "func main(){\n",
    "// short variable declaration must declare at least one new variable\n",
    "    f, err := os.Open(\"dup.txt\")\n",
    "//..use of f and err\n",
    "    f, err := os.Create(\"useless.txt\") //compile error: no new variables\n",
    "    //to fix\n",
    "    //f, err = os.Create(\"useless.txt\") //compile error: no new variables\n",
    "    fmt.Println(f,err)\n",
    "}"
   ]
  },
  {
   "cell_type": "markdown",
   "metadata": {
    "slideshow": {
     "slide_type": "subslide"
    },
    "tags": []
   },
   "source": [
    "<code>\n",
    "% go run nonew.go\n",
    "# command-line-arguments\n",
    "./nonew.go:4:10: no new variables on left side of :=\n",
    "</code>"
   ]
  },
  {
   "cell_type": "markdown",
   "metadata": {
    "slideshow": {
     "slide_type": "subslide"
    },
    "tags": []
   },
   "source": [
    "* short variable declaration acts like an assignment only to variables declared in the same lexical block\n",
    "* declarations in an outer blcok are ignored"
   ]
  },
  {
   "cell_type": "markdown",
   "metadata": {
    "slideshow": {
     "slide_type": "subslide"
    },
    "tags": []
   },
   "source": [
    "### 2.3.2 Pointers"
   ]
  },
  {
   "cell_type": "markdown",
   "metadata": {
    "slideshow": {
     "slide_type": "subslide"
    },
    "tags": []
   },
   "source": [
    "* A pointer value is the address of a variable\n",
    "* A pointer is the location at which a value is stored"
   ]
  },
  {
   "cell_type": "code",
   "execution_count": 23,
   "metadata": {
    "slideshow": {
     "slide_type": "subslide"
    },
    "tags": []
   },
   "outputs": [
    {
     "name": "stdout",
     "output_type": "stream",
     "text": [
      "0x1400009e018\n"
     ]
    }
   ],
   "source": [
    "%%\n",
    "var x int\n",
    "p := &x // address of x , a pointer to an integer variable, \n",
    "   // a value of type *int, pointer to int\n",
    "   // p points to x, p contains the address of x\n",
    "   // variable to which p points is *p, the value of the variable\n",
    "fmt.Println(p)"
   ]
  },
  {
   "cell_type": "code",
   "execution_count": 24,
   "metadata": {
    "slideshow": {
     "slide_type": "subslide"
    },
    "tags": []
   },
   "outputs": [
    {
     "name": "stdout",
     "output_type": "stream",
     "text": [
      "2\n",
      "27\n"
     ]
    }
   ],
   "source": [
    "%%\n",
    "x := 2\n",
    "p := &x           // p, of type *int, points to x\n",
    "fmt.Println(*p)   // \"1\"\n",
    "*p = 27            // equivalent to x = 2\n",
    "fmt.Println(x)    // \"2\""
   ]
  },
  {
   "cell_type": "code",
   "execution_count": 25,
   "metadata": {
    "slideshow": {
     "slide_type": "subslide"
    },
    "tags": []
   },
   "outputs": [
    {
     "name": "stdout",
     "output_type": "stream",
     "text": [
      "true false false\n"
     ]
    }
   ],
   "source": [
    "%%\n",
    "var x, y int\n",
    "fmt.Println(&x==&x, &x==&y, &x== nil) // \"true false false\""
   ]
  },
  {
   "cell_type": "code",
   "execution_count": 26,
   "metadata": {
    "slideshow": {
     "slide_type": "subslide"
    },
    "tags": []
   },
   "outputs": [
    {
     "name": "stdout",
     "output_type": "stream",
     "text": [
      "0x14000120018\n",
      "0x14000120030\n",
      "0x14000120038\n",
      "false\n"
     ]
    }
   ],
   "source": [
    "var p = f()\n",
    "func f() *int {\n",
    "    v := 1\n",
    "    fmt.Printf(\"%p\\n\",&v)\n",
    "    //print &v value \n",
    "    return &v\n",
    "}\n",
    "%%\n",
    "fmt.Println(f() == f()) // \"false\""
   ]
  },
  {
   "cell_type": "code",
   "execution_count": 27,
   "metadata": {
    "slideshow": {
     "slide_type": "subslide"
    },
    "tags": []
   },
   "outputs": [
    {
     "name": "stdout",
     "output_type": "stream",
     "text": [
      "0x14000120018\n",
      "3\n"
     ]
    }
   ],
   "source": [
    "func incr(p *int) int {\n",
    "    *p++ // increments what p points to; does not change p\n",
    "    return *p\n",
    "}\n",
    "%%\n",
    "v := 1\n",
    "incr(&v)               // side effect: v is now 2\n",
    "fmt.Println(incr(&v))  // \"3\" (and v is 3)"
   ]
  },
  {
   "cell_type": "code",
   "execution_count": 19,
   "metadata": {
    "slideshow": {
     "slide_type": "subslide"
    },
    "tags": []
   },
   "outputs": [
    {
     "name": "stdout",
     "output_type": "stream",
     "text": [
      "\n"
     ]
    }
   ],
   "source": [
    "//package main\n",
    "import (\n",
    "\t\"flag\"\n",
    "\t\"fmt\"\n",
    "\t\"strings\"\n",
    ")\n",
    "\n",
    "var n = flag.Bool(\"n\", false, \"omit trailing newline\")\n",
    "var sep = flag.String(\"s\", \" \", \"separator\")\n",
    "\n",
    "func main() {\n",
    "\tflag.Parse()\n",
    "\tfmt.Print(strings.Join(flag.Args(), *sep))\n",
    "\tif !*n {\n",
    "\t\tfmt.Println()\n",
    "\t}\n",
    "}\n"
   ]
  },
  {
   "cell_type": "code",
   "execution_count": 20,
   "metadata": {
    "cell_style": "split",
    "slideshow": {
     "slide_type": "fragment"
    },
    "tags": []
   },
   "outputs": [
    {
     "name": "stdout",
     "output_type": "stream",
     "text": [
      "a bc def"
     ]
    }
   ],
   "source": [
    "import (\"os\")\n",
    "//os.Args = []string{\"echo4\",\"-s\",\"/\",\"a\",\"bc\",\"def\"};main()\n",
    "//os.Args = []string{\"echo4\",\"-n\",\"a\",\"bc\",\"def\"};main()\n",
    "//os.Args = []string{\"echo4\",\"-help\"}\n",
    "//main()\n",
    "//%args -s / a bc def\n",
    "//%args -help\n",
    "%args -n a bc def\n",
    "func main() {\n",
    "\tflag.Parse()\n",
    "\tfmt.Print(strings.Join(flag.Args(), *sep))\n",
    "\tif !*n {\n",
    "\t\tfmt.Println()\n",
    "\t}\n",
    "}"
   ]
  },
  {
   "cell_type": "markdown",
   "metadata": {
    "cell_style": "split",
    "slideshow": {
     "slide_type": "fragment"
    },
    "tags": []
   },
   "source": [
    "<code>\n",
    "$ go install gopl.io/ch2/echo4@latest\n",
    "\n",
    "$ bin/echo4 -help\n",
    "Usage of ./echo4:\n",
    "\n",
    "$ bin/echo -s / a bc def\n",
    "a/bc/def\n",
    "\n",
    "$ bin/echo -n a bc def\n",
    "a bc def$\n",
    "</code>"
   ]
  },
  {
   "cell_type": "markdown",
   "metadata": {
    "slideshow": {
     "slide_type": "slide"
    }
   },
   "source": [
    "### 2.3.3 The new Function"
   ]
  },
  {
   "cell_type": "code",
   "execution_count": 2,
   "metadata": {
    "slideshow": {
     "slide_type": "subslide"
    },
    "tags": []
   },
   "outputs": [
    {
     "name": "stdout",
     "output_type": "stream",
     "text": [
      "0\n",
      "2\n"
     ]
    }
   ],
   "source": [
    "import \"fmt\"\n",
    "//x := 1\n",
    "//p := &x\n",
    "%%\n",
    "p := new(int) //p, of type *int, points to an unnamed int variable\n",
    "fmt.Println(*p) // \"0\"\n",
    "*p = 2 \n",
    "fmt.Println(*p) // \"2\""
   ]
  },
  {
   "cell_type": "code",
   "execution_count": 3,
   "metadata": {
    "slideshow": {
     "slide_type": "subslide"
    },
    "tags": []
   },
   "outputs": [],
   "source": [
    "//two newInt functions have identical behaviors\n",
    "func newInt() *int {\n",
    "    return new(int)\n",
    "}"
   ]
  },
  {
   "cell_type": "code",
   "execution_count": 4,
   "metadata": {
    "slideshow": {
     "slide_type": "fragment"
    },
    "tags": []
   },
   "outputs": [],
   "source": [
    "func newInt() *int {\n",
    "    var dummy int\n",
    "    return &dummy\n",
    "}"
   ]
  },
  {
   "cell_type": "code",
   "execution_count": 6,
   "metadata": {
    "slideshow": {
     "slide_type": "fragment"
    },
    "tags": []
   },
   "outputs": [
    {
     "name": "stdout",
     "output_type": "stream",
     "text": [
      "false\n"
     ]
    }
   ],
   "source": [
    "//each call to new returns a distinct variable with unique address\n",
    "%%\n",
    "p := new(int)\n",
    "q := new(int)\n",
    "fmt.Println(p == q) // \"false\""
   ]
  },
  {
   "cell_type": "code",
   "execution_count": 7,
   "metadata": {
    "slideshow": {
     "slide_type": "fragment"
    },
    "tags": []
   },
   "outputs": [
    {
     "name": "stdout",
     "output_type": "stream",
     "text": [
      "0x1028172d8, 0x1028172d8\n"
     ]
    }
   ],
   "source": [
    "// type carries no information with size zero\n",
    "%%\n",
    "a := new(struct{})\n",
    "b := new([0]int)\n",
    "fmt.Printf(\"%p, %p\\n\",a,b) // the same address value"
   ]
  },
  {
   "cell_type": "markdown",
   "metadata": {
    "slideshow": {
     "slide_type": "subslide"
    },
    "tags": []
   },
   "source": [
    "### 2.3.4 Lifetime of Variables"
   ]
  },
  {
   "cell_type": "markdown",
   "metadata": {
    "slideshow": {
     "slide_type": "subslide"
    },
    "tags": []
   },
   "source": [
    "<code>\n",
    "for t:= 0.0; t < cycles * 2 *math.Pi; i+= res {\n",
    "    x := math.Sin(t)\n",
    "    y := math.Sin(t*freq+ phase)\n",
    "    img.SetColorIndex( size + int(x*size+0.5), size + int(y*size + 0.5), blackIndex)\n",
    "}\n",
    "</code>\n",
    "the variable t is created each time the for loop begins, and variables x and y are created on each iteration of the loop"
   ]
  },
  {
   "cell_type": "code",
   "execution_count": 8,
   "metadata": {
    "slideshow": {
     "slide_type": "subslide"
    },
    "tags": []
   },
   "outputs": [
    {
     "name": "stdout",
     "output_type": "stream",
     "text": [
      "3\n"
     ]
    }
   ],
   "source": [
    "var global *int\n",
    "func f() {\n",
    "    var x int       //x should be heap allocated\n",
    "    x = 3\n",
    "    global = &x\n",
    "} //x escape from f\n",
    "\n",
    "func g() {\n",
    "    y := new(int)  //y can be on the stack\n",
    "    *y = 1\n",
    "}//y doesn't escape from g, it can be on the stack\n",
    "\n",
    "//fmt.Println(*global)\n",
    "%%\n",
    "f()\n",
    "fmt.Println(*global)"
   ]
  },
  {
   "cell_type": "markdown",
   "metadata": {
    "slideshow": {
     "slide_type": "slide"
    },
    "tags": []
   },
   "source": [
    "## 2.4. Assignments"
   ]
  },
  {
   "cell_type": "markdown",
   "metadata": {
    "slideshow": {
     "slide_type": "subslide"
    },
    "tags": []
   },
   "source": [
    " <code>\n",
    "    x = 1                      // named variable\n",
    "    *p = true                  // indirect variable\n",
    "    person.name = \"bob\"        // struct field\n",
    "    count[x] = count[x] * scale // array or slice or map element\n",
    "    // count[x] *= scale\n",
    " </code>"
   ]
  },
  {
   "cell_type": "code",
   "execution_count": 9,
   "metadata": {
    "slideshow": {
     "slide_type": "fragment"
    },
    "tags": []
   },
   "outputs": [
    {
     "name": "stdout",
     "output_type": "stream",
     "text": [
      "1\n"
     ]
    }
   ],
   "source": [
    "%%\n",
    "v := 1\n",
    "v++ // same as v = v + 1; v becomes 2\n",
    "v-- // same as v = v - 1; v becomes 1 again\n",
    "fmt.Println(v)"
   ]
  },
  {
   "cell_type": "markdown",
   "metadata": {
    "slideshow": {
     "slide_type": "subslide"
    },
    "tags": []
   },
   "source": [
    "### 2.4.1. Tuple Assignment"
   ]
  },
  {
   "cell_type": "code",
   "execution_count": 10,
   "metadata": {
    "slideshow": {
     "slide_type": "subslide"
    },
    "tags": []
   },
   "outputs": [
    {
     "name": "stdout",
     "output_type": "stream",
     "text": [
      "[9 6 12 10 11 4 13]\n",
      "9 3\n"
     ]
    }
   ],
   "source": [
    "%%\n",
    "a :=[]int {9,6,4,10,11,12,13}\n",
    "i, j := 5, 2\n",
    "x, y := 3, 9\n",
    "\n",
    "x , y = y, x\n",
    "a[i], a[j] = a[j], a[i]     //swapping the values\n",
    "fmt.Println(a)    \n",
    "fmt.Println(x,y)"
   ]
  },
  {
   "cell_type": "code",
   "execution_count": 11,
   "metadata": {
    "slideshow": {
     "slide_type": "subslide"
    },
    "tags": []
   },
   "outputs": [],
   "source": [
    "func gcd(x,y int) int {\n",
    "    for y != 0 {\n",
    "        x, y = y, x%y\n",
    "    }\n",
    "    return x\n",
    "}\n",
    "func fib(n int) int {\n",
    "    x, y := 0, 1\n",
    "    for i := 0; i< n; i++ {\n",
    "        x, y = y, x+y\n",
    "    }\n",
    "    return x\n",
    "}"
   ]
  },
  {
   "cell_type": "code",
   "execution_count": 12,
   "metadata": {
    "slideshow": {
     "slide_type": "fragment"
    },
    "tags": []
   },
   "outputs": [
    {
     "name": "stdout",
     "output_type": "stream",
     "text": [
      "8 24 1\n",
      "1 1 2 3 5 8 13 21 34 55\n"
     ]
    }
   ],
   "source": [
    "%%\n",
    "fmt.Println(gcd(80,8), gcd(24, 120), gcd(37, 39))\n",
    "fmt.Println(fib(1), fib(2), fib(3), fib(4), fib(5), fib(6), fib(7), fib(8), fib(9), fib(10))"
   ]
  },
  {
   "cell_type": "markdown",
   "metadata": {
    "slideshow": {
     "slide_type": "subslide"
    },
    "tags": []
   },
   "source": [
    "<code>\n",
    "i, j, k = 2, 3, 5 //tuple assignment\n",
    "f, err = os.Open(\"dup.txt\") // function calls returns two values\n",
    "v, ok = m[key]   // map lookup\n",
    "v, ok = x.(T)    // type assertion, \n",
    "    //if interface value of x is of type t, \n",
    "    //v will be the value of x, and ok is true. \n",
    "    //Otherwise, v is zero, and ok is false\n",
    "v, ok = <-ch     // channel receive\n",
    "</code>"
   ]
  },
  {
   "cell_type": "markdown",
   "metadata": {
    "slideshow": {
     "slide_type": "subslide"
    },
    "tags": []
   },
   "source": [
    "<code>\n",
    "_, err = io.Copy(dst, src) // discard byte count\n",
    "_, ok  = x.(T)    //check type but discard result\n",
    "</code>"
   ]
  },
  {
   "cell_type": "markdown",
   "metadata": {
    "slideshow": {
     "slide_type": "slide"
    },
    "tags": []
   },
   "source": [
    "### 2.4.2 Assignability"
   ]
  },
  {
   "cell_type": "markdown",
   "metadata": {
    "slideshow": {
     "slide_type": "subslide"
    },
    "tags": []
   },
   "source": [
    "* Assignment statements are an explicit form of assignment\n",
    "* implicit assignment\n",
    "  * function call assigns argument values to parameter variables\n",
    "  * return statement implicitly assigns return operands to the return variables\n",
    "  * literal expression for a composite type (in the following example)"
   ]
  },
  {
   "cell_type": "code",
   "execution_count": 13,
   "metadata": {
    "slideshow": {
     "slide_type": "subslide"
    },
    "tags": []
   },
   "outputs": [
    {
     "name": "stdout",
     "output_type": "stream",
     "text": [
      "[gold silver brone]\n"
     ]
    }
   ],
   "source": [
    "%%\n",
    "medals := []string{\"gold\",\"silver\",\"brone\"}\n",
    "fmt.Println(medals)\n",
    "//implicitly assigns each elements, like the following\n",
    "//elements of maps and channels are similar "
   ]
  },
  {
   "cell_type": "code",
   "execution_count": 15,
   "metadata": {
    "slideshow": {
     "slide_type": "fragment"
    },
    "tags": []
   },
   "outputs": [
    {
     "name": "stdout",
     "output_type": "stream",
     "text": [
      "[gold silver brone]\n"
     ]
    }
   ],
   "source": [
    "%%\n",
    "var medals [3]string\n",
    "medals[0] = \"gold\"\n",
    "medals[1] = \"silver\"\n",
    "medals[2] = \"brone\"\n",
    "fmt.Println(medals)"
   ]
  },
  {
   "cell_type": "markdown",
   "metadata": {
    "slideshow": {
     "slide_type": "subslide"
    },
    "tags": []
   },
   "source": [
    "### Assignability\n",
    "* types must exactly match\n",
    "* nil can be assigned to any variable of interface or reference type\n",
    "* as of ==, != , the first operand must be assignable to type of the second operand"
   ]
  },
  {
   "cell_type": "markdown",
   "metadata": {
    "slideshow": {
     "slide_type": "slide"
    },
    "tags": []
   },
   "source": [
    "## 2.5. Type Declarations"
   ]
  },
  {
   "cell_type": "markdown",
   "metadata": {
    "slideshow": {
     "slide_type": "subslide"
    },
    "tags": []
   },
   "source": [
    "* type of a variable\n",
    "  * defines the characteristics of the value it may take on\n",
    "  * size (number of bits or number of elements)\n",
    "  * how they are represented\n",
    "  * operations can be performed on them\n",
    "  * methods associated with them\n",
    "* A *type* declaration defines a new named type\n",
    "* ***type name underlying-type***\n",
    "  * appear at package level visible throughout the package\n",
    "  * if exported (upper-case letter), accessible from other package"
   ]
  },
  {
   "cell_type": "markdown",
   "metadata": {
    "slideshow": {
     "slide_type": "subslide"
    },
    "tags": []
   },
   "source": [
    "* For every T, there is a corresponding conversion operation T(x)\n",
    "  * Convert the value to type T\n",
    "  * Conversion from one type to another is allowed\n",
    "    * both have the same underlying type\n",
    "    * numeric types\n",
    "      * a float to an integer, discard the fractional part\n",
    "    * string and slice types\n",
    "      * string to []byte slice, allocates a copy of the string"
   ]
  },
  {
   "cell_type": "code",
   "execution_count": 16,
   "metadata": {
    "code_folding": [],
    "slideshow": {
     "slide_type": "subslide"
    },
    "tags": []
   },
   "outputs": [],
   "source": [
    "// Copyright © 2016 Alan A. A. Donovan & Brian W. Kernighan.\n",
    "// License: https://creativecommons.org/licenses/by-nc-sa/4.0/\n",
    "\n",
    "// See page 39.\n",
    "//!+\n",
    "//gopl.io/ch2/tempconv0/celsius.go\n",
    "// Package tempconv performs Celsius and Fahrenheit temperature computations.\n",
    "//package tempconv\n",
    "\n",
    "import \"fmt\"\n",
    "\n",
    "type Celsius float64\n",
    "type Fahrenheit float64\n",
    "\n",
    "const (\n",
    "\tAbsoluteZeroC Celsius = -273.15\n",
    "\tFreezingC     Celsius = 0\n",
    "\tBoilingC      Celsius = 100\n",
    ")\n",
    "\n",
    "func CToF(c Celsius) Fahrenheit { return Fahrenheit(c*9/5 + 32) }\n",
    "\n",
    "func FToC(f Fahrenheit) Celsius { return Celsius((f - 32) * 5 / 9) }\n",
    "\n",
    "//!-\n",
    "\n",
    "func (c Celsius) String() string { return fmt.Sprintf(\"%g°C\", c) }\n",
    "func (f Fahrenheit) String() string { return fmt.Sprintf(\"%g°F\", f) }"
   ]
  },
  {
   "cell_type": "code",
   "execution_count": 18,
   "metadata": {
    "slideshow": {
     "slide_type": "subslide"
    },
    "tags": []
   },
   "outputs": [
    {
     "name": "stdout",
     "output_type": "stream",
     "text": [
      "true\n",
      "true\n",
      "true\n"
     ]
    }
   ],
   "source": [
    "%%\n",
    "var c Celsius\n",
    "var f Fahrenheit\n",
    "fmt.Println(c == 0)\n",
    "fmt.Println(f >= 0)\n",
    "\n",
    "fmt.Println(c == Celsius(f))"
   ]
  },
  {
   "cell_type": "code",
   "execution_count": 19,
   "metadata": {
    "slideshow": {
     "slide_type": "subslide"
    },
    "tags": []
   },
   "outputs": [
    {
     "data": {
      "text/html": [
       "\n",
       "<style>\n",
       ".gonb-err-location {\n",
       "\tbackground: var(--jp-err-color2);  \n",
       "\tborder-radius: 3px;\n",
       "\tborder-style: dotted;\n",
       "\tborder-width: 1px;\n",
       "\tborder-color: var(--jp-border-color2);\n",
       "}\n",
       ".gonb-err-location:hover {\n",
       "\tborder-width: 2px;\n",
       "\tborder-style: solid;\n",
       "\tborder-color: var(--jp-border-color2);\n",
       "}\n",
       ".gonb-err-context {\n",
       "\tdisplay: none;\n",
       "}\n",
       ".gonb-err-location:hover + .gonb-err-context {\n",
       "\tbackground: var(--jp-dialog-background);  \n",
       "\tborder-radius: 3px;\n",
       "\tborder-style: solid;\n",
       "\tborder-width: 1px;\n",
       "\tborder-color: var(--jp-border-color2);\n",
       "\tdisplay: block;\n",
       "\twhite-space: pre;\n",
       "\tfont-family: monospace;\n",
       "}\n",
       ".gonb-err-line {\n",
       "\tborder-radius: 3px;\n",
       "\tborder-style: dotted;\n",
       "\tborder-width: 1px;\t\n",
       "\tborder-color: var(--jp-border-color2);\n",
       "\tbackground-color: var(--jp-rendermime-err-background);\n",
       "\tfont-weight: bold;\n",
       "}\n",
       ".gonb-cell-line-info {\n",
       "\tbackground: var(--jp-layout-color2);\n",
       "\tcolor: #999;\n",
       "\tmargin: 0.1em;\n",
       "\tborder: 1px solid var(--jp-border-color1);\n",
       "\tpadding-left: 0.2em;\n",
       "\tpadding-right: 0.2em;\n",
       "}\n",
       "</style>\n",
       "<div class=\"lm-Widget p-Widget lm-Panel p-Panel jp-OutputArea-child\">\n",
       "<div class=\"lm-Widget p-Widget jp-RenderedText jp-mod-trusted jp-OutputArea-output\" data-mime-type=\"application/vnd.jupyter.stderr\" style=\"font-family: monospace;\">\n",
       "\n",
       "\n",
       "<span style=\"white-space: pre;\"> # gonb_a832fa65</span>\n",
       "\n",
       "<br/>\n",
       "\n",
       "<span class=\"gonb-cell-line-info\">Cell[19]: Line 4</span>\n",
       "<span class=\"gonb-err-location\">./main.go:65:19: </span> invalid operation: c == f (mismatched types Celsius and Fahrenheit)\n",
       "<div class=\"gonb-err-context\">\n",
       "\tflag.Parse()\n",
       "\tvar c Celsius\n",
       "\tvar f Fahrenheit\n",
       "<div class=\"gonb-err-line\">\tfmt.Println(c == f)\n",
       "</div>\n",
       "}\n",
       "\n",
       "</div>\n",
       "\n",
       "<br/>\n",
       "\n",
       "\n",
       "<span style=\"white-space: pre;\"> </span>\n",
       "\n",
       "<br/>\n",
       "\n",
       "</div>\n"
      ]
     },
     "metadata": {},
     "output_type": "display_data"
    },
    {
     "ename": "ERROR",
     "evalue": "failed to run \"/opt/homebrew/bin/go build -o /var/folders/4d/tg201k8x6yb81f_lrvt4440m0000gn/T/gonb_a832fa65/gonb_a832fa65\": exit status 1",
     "output_type": "error",
     "traceback": [
      "failed to run \"/opt/homebrew/bin/go build -o /var/folders/4d/tg201k8x6yb81f_lrvt4440m0000gn/T/gonb_a832fa65/gonb_a832fa65\": exit status 1"
     ]
    }
   ],
   "source": [
    "%%\n",
    "var c Celsius\n",
    "var f Fahrenheit\n",
    "fmt.Println(c == f)"
   ]
  },
  {
   "cell_type": "code",
   "execution_count": 22,
   "metadata": {
    "slideshow": {
     "slide_type": "fragment"
    },
    "tags": []
   },
   "outputs": [
    {
     "name": "stdout",
     "output_type": "stream",
     "text": [
      "100\n",
      "180\n"
     ]
    }
   ],
   "source": [
    "%%\n",
    "fmt.Printf(\"%g\\n\", BoilingC-FreezingC) // \"100\" °C\n",
    "boilingF := CToF(BoilingC)\n",
    "fmt.Printf(\"%g\\n\", boilingF-CToF(FreezingC)) // \"180\" °F"
   ]
  },
  {
   "cell_type": "code",
   "execution_count": 4,
   "metadata": {
    "slideshow": {
     "slide_type": "fragment"
    },
    "tags": []
   },
   "outputs": [
    {
     "name": "stdout",
     "output_type": "stream",
     "text": [
      "100°C\n",
      "100°C\n",
      "100°C\n",
      "100°C\n",
      "100\n",
      "100\n"
     ]
    }
   ],
   "source": [
    "%%\n",
    "c := FToC(212.0)\n",
    "fmt.Println(c.String()) // \"100°C\"\n",
    "fmt.Printf(\"%v\\n\", c)   // \"100°C\"; no need to call String explicitly\n",
    "fmt.Printf(\"%s\\n\", c)  // \"100°C\"\n",
    "fmt.Println(c)          // \"100°C\"\n",
    "fmt.Printf(\"%g\\n\", c)   // \"100\"; does not call String\n",
    "fmt.Println(float64(c)) // \"100\"; does not call String"
   ]
  },
  {
   "cell_type": "code",
   "execution_count": 24,
   "metadata": {
    "code_folding": [],
    "slideshow": {
     "slide_type": "subslide"
    },
    "tags": []
   },
   "outputs": [],
   "source": [
    "// Copyright © 2016 Alan A. A. Donovan & Brian W. Kernighan.\n",
    "// License: https://creativecommons.org/licenses/by-nc-sa/4.0/\n",
    "\n",
    "//package tempconv\n",
    "\n",
    "import \"fmt\"\n",
    "\n",
    "func Example_one() {\n",
    "\t{\n",
    "\t\t//!+arith\n",
    "\t\tfmt.Printf(\"%g\\n\", BoilingC-FreezingC) // \"100\" °C\n",
    "\t\tboilingF := CToF(BoilingC)\n",
    "\t\tfmt.Printf(\"%g\\n\", boilingF-CToF(FreezingC)) // \"180\" °F\n",
    "\t\t//!-arith\n",
    "\t}\n",
    "\t/*\n",
    "\t\t//!+arith\n",
    "\t\tfmt.Printf(\"%g\\n\", boilingF-FreezingC)       // compile error: type mismatch\n",
    "\t\t//!-arith\n",
    "\t*/\n",
    "\n",
    "\t// Output:\n",
    "\t// 100\n",
    "\t// 180\n",
    "}\n",
    "\n",
    "func Example_two() {\n",
    "\t//!+printf\n",
    "\tc := FToC(212.0)\n",
    "\tfmt.Println(c.String()) // \"100°C\"\n",
    "    fmt.Printf(\"%v\\n\", c)   // \"100°C\"; no need to call String explicitly\n",
    "    fmt.Printf(\"%s\\n\", c)  // \"100°C\"\n",
    "\tfmt.Println(c)          // \"100°C\"\n",
    "\tfmt.Printf(\"%g\\n\", c)   // \"100\"; does not call String\n",
    "\tfmt.Println(float64(c)) // \"100\"; does not call String\n",
    "\t//!-printf\n",
    "\n",
    "\t// Output:\n",
    "\t// 100°C\n",
    "\t// 100°C\n",
    "\t// 100°C\n",
    "\t// 100°C\n",
    "\t// 100\n",
    "\t// 100\n",
    "}"
   ]
  },
  {
   "cell_type": "code",
   "execution_count": 21,
   "metadata": {
    "slideshow": {
     "slide_type": "fragment"
    }
   },
   "outputs": [
    {
     "name": "stdout",
     "output_type": "stream",
     "text": [
      "ok  \tgopl.io/ch2/tempconv0\t(cached)\n"
     ]
    }
   ],
   "source": [
    "\n",
    "!go test gopl.io/ch2/tempconv0"
   ]
  },
  {
   "cell_type": "markdown",
   "metadata": {
    "slideshow": {
     "slide_type": "fragment"
    },
    "tags": []
   },
   "source": [
    "<code>\n",
    "$go test gopl.io/ch2/tempconv0\n",
    "ok      gopl.io/ch2/tempconv0   0.020s\n",
    "</code>"
   ]
  },
  {
   "cell_type": "markdown",
   "metadata": {
    "slideshow": {
     "slide_type": "slide"
    },
    "tags": []
   },
   "source": [
    "## 2.6. Packages and Files"
   ]
  },
  {
   "cell_type": "code",
   "execution_count": 34,
   "metadata": {
    "code_folding": [],
    "slideshow": {
     "slide_type": "subslide"
    },
    "tags": []
   },
   "outputs": [
    {
     "name": "stdout",
     "output_type": "stream",
     "text": [
      "32°F = 0°C, 32°C = 89.6°F\n"
     ]
    }
   ],
   "source": [
    "// Copyright © 2016 Alan A. A. Donovan & Brian W. Kernighan.\n",
    "// License: https://creativecommons.org/licenses/by-nc-sa/4.0/\n",
    "\n",
    "// See page 43.\n",
    "//!+\n",
    "\n",
    "// Cf converts its numeric argument to Celsius and Fahrenheit.\n",
    "//package main\n",
    "\n",
    "import (\n",
    "\t\"fmt\"\n",
    "\t\"os\"\n",
    "\t\"strconv\"\n",
    "\n",
    "\t\"gopl.io/ch2/tempconv\"\n",
    ")\n",
    "%args 32\n",
    "func main() {\n",
    "\tfor _, arg := range os.Args[1:] {\n",
    "\t\tt, err := strconv.ParseFloat(arg, 64)\n",
    "\t\tif err != nil {\n",
    "\t\t\tfmt.Fprintf(os.Stderr, \"cf: %v\\n\", err)\n",
    "\t\t\tos.Exit(1)\n",
    "\t\t}\n",
    "\t\tf := tempconv.Fahrenheit(t)\n",
    "\t\tc := tempconv.Celsius(t)\n",
    "\t\tfmt.Printf(\"%s = %s, %s = %s\\n\",\n",
    "\t\t\tf, tempconv.FToC(f), c, tempconv.CToF(c))\n",
    "\t}\n",
    "}\n",
    "\n",
    "//!-"
   ]
  },
  {
   "cell_type": "code",
   "execution_count": 1,
   "metadata": {
    "cell_style": "split",
    "slideshow": {
     "slide_type": "skip"
    },
    "tags": []
   },
   "outputs": [
    {
     "ename": "ERROR",
     "evalue": "repl.go:3:1: undefined identifier: main",
     "output_type": "error",
     "traceback": [
      "repl.go:3:1: undefined identifier: main"
     ]
    }
   ],
   "source": [
    "import (\"os\")\n",
    "os.Args = []string{\"cf\",\"32\"} \n",
    "main()\n",
    "//main()"
   ]
  },
  {
   "cell_type": "code",
   "execution_count": 41,
   "metadata": {
    "slideshow": {
     "slide_type": "fragment"
    }
   },
   "outputs": [
    {
     "name": "stdout",
     "output_type": "stream",
     "text": [
      "32°F = 0°C, 32°C = 89.6°F\n",
      "212°F = 100°C, 212°C = 413.6°F\n",
      "-40°F = -40°C, -40°C = -40°F\n"
     ]
    }
   ],
   "source": [
    "//!go install gopl.io/ch2/cf@latest\n",
    "!./ch2/cf/cf 32\n",
    "!./ch2/cf/cf 212\n",
    "!./ch2/cf/cf -40"
   ]
  },
  {
   "cell_type": "markdown",
   "metadata": {
    "cell_style": "split",
    "slideshow": {
     "slide_type": "fragment"
    },
    "tags": []
   },
   "source": [
    "<code>\n",
    "$ go install gopl.io/ch2/cf@latest\n",
    "$./cf 32\n",
    "32°F = 0°C, 32°C = 89.6°F\n",
    "$ ./cf 212\n",
    "212°F = 100°C, 212°C = 413.6°F\n",
    "$ ./cf -40\n",
    "-40°F = -40°C, -40°C = -40°F\n",
    "</code>"
   ]
  },
  {
   "cell_type": "markdown",
   "metadata": {
    "slideshow": {
     "slide_type": "slide"
    },
    "tags": []
   },
   "source": [
    "### 2.6.2. Package Initialization"
   ]
  },
  {
   "cell_type": "code",
   "execution_count": 42,
   "metadata": {
    "slideshow": {
     "slide_type": "subslide"
    },
    "tags": []
   },
   "outputs": [
    {
     "name": "stdout",
     "output_type": "stream",
     "text": [
      "3 2 1\n"
     ]
    }
   ],
   "source": [
    "import \"fmt\"\n",
    "var a = b + c    // a initialized third, to 3\n",
    "var b = f()      // b initialized second, to 2, by callin f\n",
    "var c = 1        // c initialized first, to 1\n",
    "func f() int {return c+1}\n",
    "%%\n",
    "fmt.Println(a,b,c)"
   ]
  },
  {
   "cell_type": "code",
   "execution_count": 43,
   "metadata": {
    "slideshow": {
     "slide_type": "subslide"
    }
   },
   "outputs": [
    {
     "name": "stdout",
     "output_type": "stream",
     "text": [
      "[0 1 1 2 1 2 2 3 1 2 2 3 2 3 3 4 1 2 2 3 2 3 3 4 2 3 3 4 3 4 4 5 1 2 2 3 2 3 3 4 2 3 3 4 3 4 4 5 2 3 3 4 3 4 4 5 3 4 4 5 4 5 5 6 1 2 2 3 2 3 3 4 2 3 3 4 3 4 4 5 2 3 3 4 3 4 4 5 3 4 4 5 4 5 5 6 2 3 3 4 3 4 4 5 3 4 4 5 4 5 5 6 3 4 4 5 4 5 5 6 4 5 5 6 5 6 6 7 1 2 2 3 2 3 3 4 2 3 3 4 3 4 4 5 2 3 3 4 3 4 4 5 3 4 4 5 4 5 5 6 2 3 3 4 3 4 4 5 3 4 4 5 4 5 5 6 3 4 4 5 4 5 5 6 4 5 5 6 5 6 6 7 2 3 3 4 3 4 4 5 3 4 4 5 4 5 5 6 3 4 4 5 4 5 5 6 4 5 5 6 5 6 6 7 3 4 4 5 4 5 5 6 4 5 5 6 5 6 6 7 4 5 5 6 5 6 6 7 5 6 6 7 6 7 7 8]\n",
      "111111111110110100011001:17\n"
     ]
    }
   ],
   "source": [
    "func PopCount(x uint64) int {\n",
    "\treturn int(pc[byte(x>>(0*8))] +\n",
    "\t\tpc[byte(x>>(1*8))] +\n",
    "\t\tpc[byte(x>>(2*8))] +\n",
    "\t\tpc[byte(x>>(3*8))] +\n",
    "\t\tpc[byte(x>>(4*8))] +\n",
    "\t\tpc[byte(x>>(5*8))] +\n",
    "\t\tpc[byte(x>>(6*8))] +\n",
    "\t\tpc[byte(x>>(7*8))])\n",
    "}\n",
    "var pc [256]byte\n",
    "%%\n",
    "for i := range pc {\n",
    "\tpc[i] = pc[i/2] + byte(i&1)\n",
    "}\n",
    "fmt.Printf(\"%v\\n\",pc)\n",
    "x := uint64(0xffed19)\n",
    "fmt.Printf(\"%b:%d\\n\",x,PopCount(x))"
   ]
  },
  {
   "cell_type": "code",
   "execution_count": 45,
   "metadata": {
    "slideshow": {
     "slide_type": "subslide"
    },
    "tags": []
   },
   "outputs": [],
   "source": [
    "// Copyright © 2016 Alan A. A. Donovan & Brian W. Kernighan.\n",
    "// License: https://creativecommons.org/licenses/by-nc-sa/4.0/\n",
    "\n",
    "// See page 45.\n",
    "\n",
    "// (Package doc comment intentionally malformed to demonstrate golint.)\n",
    "//!+\n",
    "//package popcount\n",
    "\n",
    "// pc[i] is the population count of i.\n",
    "var pc [256]byte\n",
    "\n",
    "func init() {\n",
    "\tfor i := range pc {\n",
    "\t\tpc[i] = pc[i/2] + byte(i&1)\n",
    "\t}\n",
    "}\n",
    "// 0:0 , 1:1, 10:1, 11:2, 100:1,101:2,110:2 111:3, 1000:1, \n",
    "\n",
    "// PopCount returns the population count (number of set bits) of x.\n",
    "func PopCount(x uint64) int {\n",
    "\treturn int(pc[byte(x>>(0*8))] +\n",
    "\t\tpc[byte(x>>(1*8))] +\n",
    "\t\tpc[byte(x>>(2*8))] +\n",
    "\t\tpc[byte(x>>(3*8))] +\n",
    "\t\tpc[byte(x>>(4*8))] +\n",
    "\t\tpc[byte(x>>(5*8))] +\n",
    "\t\tpc[byte(x>>(6*8))] +\n",
    "\t\tpc[byte(x>>(7*8))])\n",
    "}\n",
    "\n",
    "//!-"
   ]
  },
  {
   "cell_type": "code",
   "execution_count": 2,
   "metadata": {
    "code_folding": [],
    "slideshow": {
     "slide_type": "slide"
    },
    "tags": []
   },
   "outputs": [],
   "source": [
    "// Copyright © 2016 Alan A. A. Donovan & Brian W. Kernighan.\n",
    "// License: https://creativecommons.org/licenses/by-nc-sa/4.0/\n",
    "\n",
    "//package popcount_test\n",
    "\n",
    "import (\n",
    "\t\"testing\"\n",
    "\n",
    "\t\"gopl.io/ch2/popcount\"\n",
    ")\n",
    "\n",
    "// -- Alternative implementations --\n",
    "\n",
    "func BitCount(x uint64) int {\n",
    "\t// Hacker's Delight, Figure 5-2.\n",
    "\tx = x - ((x >> 1) & 0x5555555555555555)\n",
    "\tx = (x & 0x3333333333333333) + ((x >> 2) & 0x3333333333333333)\n",
    "\tx = (x + (x >> 4)) & 0x0f0f0f0f0f0f0f0f\n",
    "\tx = x + (x >> 8)\n",
    "\tx = x + (x >> 16)\n",
    "\tx = x + (x >> 32)\n",
    "\treturn int(x & 0x7f)\n",
    "}\n",
    "\n",
    "func PopCountByClearing(x uint64) int {\n",
    "\tn := 0\n",
    "\tfor x != 0 {\n",
    "\t\tx = x & (x - 1) // clear rightmost non-zero bit\n",
    "\t\tn++\n",
    "\t}\n",
    "\treturn n\n",
    "}\n",
    "\n",
    "func PopCountByShifting(x uint64) int {\n",
    "\tn := 0\n",
    "\tfor i := uint(0); i < 64; i++ {\n",
    "\t\tif x&(1<<i) != 0 {\n",
    "\t\t\tn++\n",
    "\t\t}\n",
    "\t}\n",
    "\treturn n\n",
    "}\n",
    "\n",
    "// -- Benchmarks --\n",
    "\n",
    "func BenchmarkPopCount(b *testing.B) {\n",
    "\tfor i := 0; i < b.N; i++ {\n",
    "\t\tpopcount.PopCount(0x1234567890ABCDEF)\n",
    "\t}\n",
    "}\n",
    "\n",
    "func BenchmarkBitCount(b *testing.B) {\n",
    "\tfor i := 0; i < b.N; i++ {\n",
    "\t\tBitCount(0x1234567890ABCDEF)\n",
    "\t}\n",
    "}\n",
    "\n",
    "func BenchmarkPopCountByClearing(b *testing.B) {\n",
    "\tfor i := 0; i < b.N; i++ {\n",
    "\t\tPopCountByClearing(0x1234567890ABCDEF)\n",
    "\t}\n",
    "}\n",
    "\n",
    "func BenchmarkPopCountByShifting(b *testing.B) {\n",
    "\tfor i := 0; i < b.N; i++ {\n",
    "\t\tPopCountByShifting(0x1234567890ABCDEF)\n",
    "\t}\n",
    "}\n",
    "\n",
    "// Go 1.6, 2.67GHz Xeon\n",
    "// $ go test -cpu=4 -bench=. gopl.io/ch2/popcount\n",
    "// BenchmarkPopCount-4                  200000000         6.30 ns/op\n",
    "// BenchmarkBitCount-4                  300000000         4.15 ns/op\n",
    "// BenchmarkPopCountByClearing-4        30000000         45.2 ns/op\n",
    "// BenchmarkPopCountByShifting-4        10000000        153 ns/op\n",
    "//\n",
    "// Go 1.6, 2.5GHz Intel Core i5\n",
    "// $ go test -cpu=4 -bench=. gopl.io/ch2/popcount\n",
    "// BenchmarkPopCount-4                  200000000         7.52 ns/op\n",
    "// BenchmarkBitCount-4                  500000000         3.36 ns/op\n",
    "// BenchmarkPopCountByClearing-4        50000000         34.3 ns/op\n",
    "// BenchmarkPopCountByShifting-4        20000000        108 ns/op\n",
    "//\n",
    "// Go 1.7, 3.5GHz Xeon\n",
    "// $ go test -cpu=4 -bench=. gopl.io/ch2/popcount\n",
    "// BenchmarkPopCount-12                 2000000000        0.28 ns/op\n",
    "// BenchmarkBitCount-12                 2000000000        0.27 ns/op\n",
    "// BenchmarkPopCountByClearing-12       100000000        18.5 ns/op\n",
    "// BenchmarkPopCountByShifting-12       20000000         70.1 ns/op"
   ]
  },
  {
   "cell_type": "code",
   "execution_count": 12,
   "metadata": {
    "slideshow": {
     "slide_type": "subslide"
    }
   },
   "outputs": [
    {
     "name": "stdout",
     "output_type": "stream",
     "text": [
      "goos: darwin\n",
      "goarch: arm64\n",
      "pkg: gopl.io/ch2/popcount\n",
      "BenchmarkPopCount-2             \t1000000000\t         0.3230 ns/op\n",
      "BenchmarkBitCount-2             \t1000000000\t         0.3228 ns/op\n",
      "BenchmarkPopCountByClearing-2   \t100000000\t        11.62 ns/op\n",
      "BenchmarkPopCountByShifting-2   \t54987014\t        21.95 ns/op\n",
      "PASS\n",
      "ok  \tgopl.io/ch2/popcount\t3.188s\n"
     ]
    }
   ],
   "source": [
    "!go test -cpu=2 -bench=. gopl.io/ch2/popcount"
   ]
  },
  {
   "cell_type": "markdown",
   "metadata": {
    "slideshow": {
     "slide_type": "subslide"
    }
   },
   "source": [
    "#### BitCount\n",
    "* See The Quest for an Accelerated Population Count by Henry S. Warren, Jr. chapter 10 in Beautiful Code.\n",
    "* [discussion here](https://stackoverflow.com/questions/1458314/number-of-1s-in-32-bit-number)\n",
    "* [briefing](https://blog.csdn.net/weixin_42092787/article/details/106607426)"
   ]
  },
  {
   "cell_type": "markdown",
   "metadata": {
    "slideshow": {
     "slide_type": "fragment"
    }
   },
   "source": [
    "<code>\n",
    "$ go test -cpu=2 -bench=. gopl.io/ch2/popcount\n",
    "goos: linux\n",
    "goarch: amd64\n",
    "pkg: gopl.io/ch2/popcount\n",
    "BenchmarkPopCount-2                     1000000000               0.704 ns/op\n",
    "BenchmarkBitCount-2                     1000000000               0.361 ns/op\n",
    "BenchmarkPopCountByClearing-2           63276454                18.3 ns/op\n",
    "BenchmarkPopCountByShifting-2           21629844                56.6 ns/op\n",
    "PASS\n",
    "ok      gopl.io/ch2/popcount    3.661s\n",
    "</code>"
   ]
  },
  {
   "cell_type": "markdown",
   "metadata": {
    "slideshow": {
     "slide_type": "slide"
    },
    "tags": []
   },
   "source": [
    "## 2.7. Scope"
   ]
  },
  {
   "cell_type": "code",
   "execution_count": 2,
   "metadata": {
    "code_folding": [],
    "slideshow": {
     "slide_type": "subslide"
    },
    "tags": []
   },
   "outputs": [
    {
     "name": "stdout",
     "output_type": "stream",
     "text": [
      "f\n",
      "g\n"
     ]
    }
   ],
   "source": [
    "import \"fmt\"\n",
    "func f() {}\n",
    "var g = \"g\"\n",
    "\n",
    "func main(){\n",
    "    f := \"f\"\n",
    "    fmt.Println(f) // \"f\"; local var f shadows package-level func f\n",
    "    fmt.Println(g) // \"g\"; package-level var\n",
    "    //fmt.Println(h) // compile error: undefined: h\n",
    "}"
   ]
  },
  {
   "cell_type": "code",
   "execution_count": 42,
   "metadata": {
    "slideshow": {
     "slide_type": "skip"
    },
    "tags": []
   },
   "outputs": [
    {
     "name": "stdout",
     "output_type": "stream",
     "text": [
      "f\n",
      "g\n"
     ]
    }
   ],
   "source": [
    "main()"
   ]
  },
  {
   "cell_type": "code",
   "execution_count": 3,
   "metadata": {
    "slideshow": {
     "slide_type": "subslide"
    },
    "tags": []
   },
   "outputs": [
    {
     "name": "stdout",
     "output_type": "stream",
     "text": [
      "HELLO\u0000WORLD 0"
     ]
    }
   ],
   "source": [
    "// three different variables called x for each declaration appears in a different lexical block\n",
    "func main(){\n",
    "    x := \"hello world!\"\n",
    "    for i:= 0; i < len(x); i++ {\n",
    "        x := x[i]\n",
    "        if x != '!' {\n",
    "            x := x + 'A' - 'a'\n",
    "            fmt.Printf(\"%c\", x)   // \"HELLO\" (one letter per iteration)\n",
    "        }\n",
    "    }\n",
    "    fmt.Printf(\" %d\", ' ' + 'A' - 'a')\n",
    "}"
   ]
  },
  {
   "cell_type": "code",
   "execution_count": 53,
   "metadata": {
    "slideshow": {
     "slide_type": "skip"
    },
    "tags": []
   },
   "outputs": [
    {
     "name": "stdout",
     "output_type": "stream",
     "text": [
      "HELLO\u0000WORLD 0"
     ]
    }
   ],
   "source": [
    "main()"
   ]
  },
  {
   "cell_type": "code",
   "execution_count": 4,
   "metadata": {
    "slideshow": {
     "slide_type": "subslide"
    },
    "tags": []
   },
   "outputs": [
    {
     "name": "stdout",
     "output_type": "stream",
     "text": [
      "JGNNQ\u000fYQTNF"
     ]
    }
   ],
   "source": [
    "func main(){\n",
    "    x := \"hello-world\"\n",
    "    for _, x := range x { \n",
    "        x := x + 'A' - 'a' + 2\n",
    "        fmt.Printf(\"%c\", x)  // \"HELLO\" (one letter per iteration)\n",
    "    }\n",
    "}"
   ]
  },
  {
   "cell_type": "code",
   "execution_count": 60,
   "metadata": {
    "slideshow": {
     "slide_type": "skip"
    },
    "tags": []
   },
   "outputs": [
    {
     "name": "stdout",
     "output_type": "stream",
     "text": [
      "JGNNQ\u000fYQTNF"
     ]
    }
   ],
   "source": [
    "main()"
   ]
  },
  {
   "cell_type": "code",
   "execution_count": 1,
   "metadata": {
    "slideshow": {
     "slide_type": "subslide"
    },
    "tags": []
   },
   "outputs": [
    {
     "data": {
      "text/html": [
       "\n",
       "<style>\n",
       ".gonb-err-location {\n",
       "\tbackground: var(--jp-err-color2);  \n",
       "\tborder-radius: 3px;\n",
       "\tborder-style: dotted;\n",
       "\tborder-width: 1px;\n",
       "\tborder-color: var(--jp-border-color2);\n",
       "}\n",
       ".gonb-err-location:hover {\n",
       "\tborder-width: 2px;\n",
       "\tborder-style: solid;\n",
       "\tborder-color: var(--jp-border-color2);\n",
       "}\n",
       ".gonb-err-context {\n",
       "\tdisplay: none;\n",
       "}\n",
       ".gonb-err-location:hover + .gonb-err-context {\n",
       "\tbackground: var(--jp-dialog-background);  \n",
       "\tborder-radius: 3px;\n",
       "\tborder-style: solid;\n",
       "\tborder-width: 1px;\n",
       "\tborder-color: var(--jp-border-color2);\n",
       "\tdisplay: block;\n",
       "\twhite-space: pre;\n",
       "\tfont-family: monospace;\n",
       "}\n",
       ".gonb-err-line {\n",
       "\tborder-radius: 3px;\n",
       "\tborder-style: dotted;\n",
       "\tborder-width: 1px;\t\n",
       "\tborder-color: var(--jp-border-color2);\n",
       "\tbackground-color: var(--jp-rendermime-err-background);\n",
       "\tfont-weight: bold;\n",
       "}\n",
       ".gonb-cell-line-info {\n",
       "\tbackground: var(--jp-layout-color2);\n",
       "\tcolor: #999;\n",
       "\tmargin: 0.1em;\n",
       "\tborder: 1px solid var(--jp-border-color1);\n",
       "\tpadding-left: 0.2em;\n",
       "\tpadding-right: 0.2em;\n",
       "}\n",
       "</style>\n",
       "<div class=\"lm-Widget p-Widget lm-Panel p-Panel jp-OutputArea-child\">\n",
       "<div class=\"lm-Widget p-Widget jp-RenderedText jp-mod-trusted jp-OutputArea-output\" data-mime-type=\"application/vnd.jupyter.stderr\" style=\"font-family: monospace;\">\n",
       "\n",
       "\n",
       "<span style=\"white-space: pre;\"> # gonb_0425d04a</span>\n",
       "\n",
       "<br/>\n",
       "\n",
       "<span class=\"gonb-cell-line-info\">Cell[1]: Line 10</span>\n",
       "<span class=\"gonb-err-location\">./main.go:20:14: </span> undefined: x\n",
       "<div class=\"gonb-err-context\">\n",
       "\t} else if y:= g(x); x == y {\n",
       "\t    fmt.Println(x,y)\n",
       "\t}\n",
       "<div class=\"gonb-err-line\">\tfmt.Println(x, y) // compile error: x and y are not visible here\n",
       "</div>\n",
       "}\n",
       "\n",
       "</div>\n",
       "\n",
       "<br/>\n",
       "\n",
       "<span class=\"gonb-cell-line-info\">Cell[1]: Line 10</span>\n",
       "<span class=\"gonb-err-location\">./main.go:20:17: </span> undefined: y\n",
       "<div class=\"gonb-err-context\">\n",
       "\t} else if y:= g(x); x == y {\n",
       "\t    fmt.Println(x,y)\n",
       "\t}\n",
       "<div class=\"gonb-err-line\">\tfmt.Println(x, y) // compile error: x and y are not visible here\n",
       "</div>\n",
       "}\n",
       "\n",
       "</div>\n",
       "\n",
       "<br/>\n",
       "\n",
       "\n",
       "<span style=\"white-space: pre;\"> </span>\n",
       "\n",
       "<br/>\n",
       "\n",
       "</div>\n"
      ]
     },
     "metadata": {},
     "output_type": "display_data"
    },
    {
     "ename": "ERROR",
     "evalue": "failed to run \"/opt/homebrew/bin/go build -o /var/folders/4d/tg201k8x6yb81f_lrvt4440m0000gn/T/gonb_0425d04a/gonb_0425d04a\": exit status 1",
     "output_type": "error",
     "traceback": [
      "failed to run \"/opt/homebrew/bin/go build -o /var/folders/4d/tg201k8x6yb81f_lrvt4440m0000gn/T/gonb_0425d04a/gonb_0425d04a\": exit status 1"
     ]
    }
   ],
   "source": [
    "import \"fmt\"\n",
    "func f() int { return 1}\n",
    "func g(x int) int { return 1}\n",
    "%%\n",
    "if x:= f(); x == 0 {\n",
    "    fmt.Println(x)\n",
    "} else if y:= g(x); x == y {\n",
    "    fmt.Println(x,y)\n",
    "}\n",
    "fmt.Println(x, y) // compile error: x and y are not visible here"
   ]
  },
  {
   "cell_type": "code",
   "execution_count": 2,
   "metadata": {
    "slideshow": {
     "slide_type": "subslide"
    },
    "tags": []
   },
   "outputs": [
    {
     "data": {
      "text/html": [
       "\n",
       "<style>\n",
       ".gonb-err-location {\n",
       "\tbackground: var(--jp-err-color2);  \n",
       "\tborder-radius: 3px;\n",
       "\tborder-style: dotted;\n",
       "\tborder-width: 1px;\n",
       "\tborder-color: var(--jp-border-color2);\n",
       "}\n",
       ".gonb-err-location:hover {\n",
       "\tborder-width: 2px;\n",
       "\tborder-style: solid;\n",
       "\tborder-color: var(--jp-border-color2);\n",
       "}\n",
       ".gonb-err-context {\n",
       "\tdisplay: none;\n",
       "}\n",
       ".gonb-err-location:hover + .gonb-err-context {\n",
       "\tbackground: var(--jp-dialog-background);  \n",
       "\tborder-radius: 3px;\n",
       "\tborder-style: solid;\n",
       "\tborder-width: 1px;\n",
       "\tborder-color: var(--jp-border-color2);\n",
       "\tdisplay: block;\n",
       "\twhite-space: pre;\n",
       "\tfont-family: monospace;\n",
       "}\n",
       ".gonb-err-line {\n",
       "\tborder-radius: 3px;\n",
       "\tborder-style: dotted;\n",
       "\tborder-width: 1px;\t\n",
       "\tborder-color: var(--jp-border-color2);\n",
       "\tbackground-color: var(--jp-rendermime-err-background);\n",
       "\tfont-weight: bold;\n",
       "}\n",
       ".gonb-cell-line-info {\n",
       "\tbackground: var(--jp-layout-color2);\n",
       "\tcolor: #999;\n",
       "\tmargin: 0.1em;\n",
       "\tborder: 1px solid var(--jp-border-color1);\n",
       "\tpadding-left: 0.2em;\n",
       "\tpadding-right: 0.2em;\n",
       "}\n",
       "</style>\n",
       "<div class=\"lm-Widget p-Widget lm-Panel p-Panel jp-OutputArea-child\">\n",
       "<div class=\"lm-Widget p-Widget jp-RenderedText jp-mod-trusted jp-OutputArea-output\" data-mime-type=\"application/vnd.jupyter.stderr\" style=\"font-family: monospace;\">\n",
       "\n",
       "\n",
       "<span style=\"white-space: pre;\"> # gonb_0425d04a</span>\n",
       "\n",
       "<br/>\n",
       "\n",
       "<span class=\"gonb-cell-line-info\">Cell[2]: Line 5</span>\n",
       "<span class=\"gonb-err-location\">./main.go:12:9: </span> f declared but not used\n",
       "<div class=\"gonb-err-context\">\n",
       "func main() {\n",
       "\tflag.Parse()\n",
       "\t    fname := &#34;dup.txt&#34;\n",
       "<div class=\"gonb-err-line\">\t    if f, err := os.Open(fname); err != nil {\n",
       "</div>\t        //return err\n",
       "\t    } // f was never used\n",
       "\n",
       "</div>\n",
       "\n",
       "<br/>\n",
       "\n",
       "<span class=\"gonb-cell-line-info\">Cell[2]: Line 8</span>\n",
       "<span class=\"gonb-err-location\">./main.go:15:6: </span> undefined: f\n",
       "<div class=\"gonb-err-context\">\n",
       "\t    if f, err := os.Open(fname); err != nil {\n",
       "\t        //return err\n",
       "\t    } // f was never used\n",
       "<div class=\"gonb-err-line\">\t    f.Stat()  //compile error: undefined f\n",
       "</div>\t    f.Close() //compile error: undefined f\n",
       "\n",
       "\n",
       "</div>\n",
       "\n",
       "<br/>\n",
       "\n",
       "<span class=\"gonb-cell-line-info\">Cell[2]: Line 9</span>\n",
       "<span class=\"gonb-err-location\">./main.go:16:6: </span> undefined: f\n",
       "<div class=\"gonb-err-context\">\n",
       "\t        //return err\n",
       "\t    } // f was never used\n",
       "\t    f.Stat()  //compile error: undefined f\n",
       "<div class=\"gonb-err-line\">\t    f.Close() //compile error: undefined f\n",
       "</div>\n",
       "}\n",
       "\n",
       "</div>\n",
       "\n",
       "<br/>\n",
       "\n",
       "\n",
       "<span style=\"white-space: pre;\"> </span>\n",
       "\n",
       "<br/>\n",
       "\n",
       "</div>\n"
      ]
     },
     "metadata": {},
     "output_type": "display_data"
    },
    {
     "ename": "ERROR",
     "evalue": "failed to run \"/opt/homebrew/bin/go build -o /var/folders/4d/tg201k8x6yb81f_lrvt4440m0000gn/T/gonb_0425d04a/gonb_0425d04a\": exit status 1",
     "output_type": "error",
     "traceback": [
      "failed to run \"/opt/homebrew/bin/go build -o /var/folders/4d/tg201k8x6yb81f_lrvt4440m0000gn/T/gonb_0425d04a/gonb_0425d04a\": exit status 1"
     ]
    }
   ],
   "source": [
    "//the scope of f is just the if statement, not accessible outside of if\n",
    "import \"os\"\n",
    "%%\n",
    "    fname := \"dup.txt\"\n",
    "    if f, err := os.Open(fname); err != nil {\n",
    "        //return err\n",
    "    } // f was never used\n",
    "    f.Stat()  //compile error: undefined f\n",
    "    f.Close() //compile error: undefined f"
   ]
  },
  {
   "cell_type": "code",
   "execution_count": 3,
   "metadata": {
    "slideshow": {
     "slide_type": "subslide"
    },
    "tags": []
   },
   "outputs": [],
   "source": [
    "// declare f before the condition, and accessible later\n",
    "%%\n",
    "f, err := os.Open(\"dup.txt\")\n",
    "if err != nil {\n",
    "    //return err\n",
    "}\n",
    "f.Stat()\n",
    "f.Close()"
   ]
  },
  {
   "cell_type": "code",
   "execution_count": 5,
   "metadata": {
    "slideshow": {
     "slide_type": "subslide"
    },
    "tags": []
   },
   "outputs": [],
   "source": [
    "// avoid declaring f in the outer block, by moving to else block\n",
    "%%\n",
    "fname := \"dup.txt\"\n",
    "if f, err := os.Open(fname); err != nil {\n",
    "    //return err\n",
    "} else {\n",
    "    // f and err are visible here too\n",
    "    f.Stat()\n",
    "    f.Close()\n",
    "}"
   ]
  },
  {
   "cell_type": "code",
   "execution_count": 6,
   "metadata": {
    "slideshow": {
     "slide_type": "subslide"
    },
    "tags": []
   },
   "outputs": [
    {
     "data": {
      "text/html": [
       "\n",
       "<style>\n",
       ".gonb-err-location {\n",
       "\tbackground: var(--jp-err-color2);  \n",
       "\tborder-radius: 3px;\n",
       "\tborder-style: dotted;\n",
       "\tborder-width: 1px;\n",
       "\tborder-color: var(--jp-border-color2);\n",
       "}\n",
       ".gonb-err-location:hover {\n",
       "\tborder-width: 2px;\n",
       "\tborder-style: solid;\n",
       "\tborder-color: var(--jp-border-color2);\n",
       "}\n",
       ".gonb-err-context {\n",
       "\tdisplay: none;\n",
       "}\n",
       ".gonb-err-location:hover + .gonb-err-context {\n",
       "\tbackground: var(--jp-dialog-background);  \n",
       "\tborder-radius: 3px;\n",
       "\tborder-style: solid;\n",
       "\tborder-width: 1px;\n",
       "\tborder-color: var(--jp-border-color2);\n",
       "\tdisplay: block;\n",
       "\twhite-space: pre;\n",
       "\tfont-family: monospace;\n",
       "}\n",
       ".gonb-err-line {\n",
       "\tborder-radius: 3px;\n",
       "\tborder-style: dotted;\n",
       "\tborder-width: 1px;\t\n",
       "\tborder-color: var(--jp-border-color2);\n",
       "\tbackground-color: var(--jp-rendermime-err-background);\n",
       "\tfont-weight: bold;\n",
       "}\n",
       ".gonb-cell-line-info {\n",
       "\tbackground: var(--jp-layout-color2);\n",
       "\tcolor: #999;\n",
       "\tmargin: 0.1em;\n",
       "\tborder: 1px solid var(--jp-border-color1);\n",
       "\tpadding-left: 0.2em;\n",
       "\tpadding-right: 0.2em;\n",
       "}\n",
       "</style>\n",
       "<div class=\"lm-Widget p-Widget lm-Panel p-Panel jp-OutputArea-child\">\n",
       "<div class=\"lm-Widget p-Widget jp-RenderedText jp-mod-trusted jp-OutputArea-output\" data-mime-type=\"application/vnd.jupyter.stderr\" style=\"font-family: monospace;\">\n",
       "\n",
       "\n",
       "<span style=\"white-space: pre;\"> # gonb_0425d04a</span>\n",
       "\n",
       "<br/>\n",
       "\n",
       "<span class=\"gonb-cell-line-info\">Cell[6]: Line 4</span>\n",
       "<span class=\"gonb-err-location\">./main.go:14:5: </span> cwd declared but not used\n",
       "<div class=\"gonb-err-context\">\n",
       ")\n",
       "\n",
       "func init() {\n",
       "<div class=\"gonb-err-line\">    cwd, err := os.Getwd() // compile error: unused: cwd\n",
       "</div>    if err != nil {\n",
       "        log.Fatalf(&#34;os.Getwd failed: %v&#34;, err)\n",
       "\n",
       "</div>\n",
       "\n",
       "<br/>\n",
       "\n",
       "\n",
       "<span style=\"white-space: pre;\"> </span>\n",
       "\n",
       "<br/>\n",
       "\n",
       "</div>\n"
      ]
     },
     "metadata": {},
     "output_type": "display_data"
    },
    {
     "ename": "ERROR",
     "evalue": "failed to run \"/opt/homebrew/bin/go build -o /var/folders/4d/tg201k8x6yb81f_lrvt4440m0000gn/T/gonb_0425d04a/gonb_0425d04a\": exit status 1",
     "output_type": "error",
     "traceback": [
      "failed to run \"/opt/homebrew/bin/go build -o /var/folders/4d/tg201k8x6yb81f_lrvt4440m0000gn/T/gonb_0425d04a/gonb_0425d04a\": exit status 1"
     ]
    }
   ],
   "source": [
    "import ( \"os\"; \"log\")\n",
    "var cwd string\n",
    "func init() {\n",
    "    cwd, err := os.Getwd() // compile error: unused: cwd\n",
    "    if err != nil {\n",
    "        log.Fatalf(\"os.Getwd failed: %v\", err)\n",
    "    }//cwd and err are local in init, package level cwd is not updated\n",
    "}"
   ]
  },
  {
   "cell_type": "code",
   "execution_count": 9,
   "metadata": {
    "slideshow": {
     "slide_type": "subslide"
    },
    "tags": []
   },
   "outputs": [
    {
     "name": "stdout",
     "output_type": "stream",
     "text": [
      "init: Working diectory = /Users/skhuang/course/go2023/go2023/ch2\n",
      "main: Working diectory = \n"
     ]
    }
   ],
   "source": [
    "import \"os\"\n",
    "import \"log\"\n",
    "import \"fmt\"\n",
    "var cwd string\n",
    "func init1() {\n",
    "//func main() {\n",
    "    cwd, err := os.Getwd()\n",
    "    if err != nil {\n",
    "        //log.Fatalf(\"os.Getwd failed: %v\", err) // log output obfuscated the bug\n",
    "        //.Fatalf(\"os.Getwd failed: %v\", err) // log output obfuscated the bug\n",
    "        fmt.Printf(\"%v\",err)\n",
    "        return\n",
    "\n",
    "    }\n",
    "    fmt.Printf(\"init: Working diectory = %s\\n\", cwd)\n",
    "    //log.Printf(\"Working diectory = %s\", cwd)\n",
    "\n",
    "}\n",
    "func main(){\n",
    "    init1()\n",
    "    fmt.Printf(\"main: Working diectory = %s\\n\", cwd)\n",
    "}\n",
    "//main()"
   ]
  },
  {
   "cell_type": "code",
   "execution_count": 24,
   "metadata": {
    "slideshow": {
     "slide_type": "subslide"
    },
    "tags": []
   },
   "outputs": [],
   "source": [
    "var cwd string    // avoid := by declaring err in a separate var declaration\n",
    "func init(){\n",
    "    var err error\n",
    "    cwd, err = os.Getwd()\n",
    "    if err != nil {\n",
    "        log.Fatalf(\"os.Getwd failed: %v\", err)\n",
    "    }\n",
    "}"
   ]
  }
 ],
 "metadata": {
  "celltoolbar": "Slideshow",
  "kernelspec": {
   "display_name": "Go (gonb)",
   "language": "go",
   "name": "gonb"
  },
  "language_info": {
   "codemirror_mode": "",
   "file_extension": ".go",
   "mimetype": "",
   "name": "go",
   "nbconvert_exporter": "",
   "pygments_lexer": "",
   "version": "go1.21.1"
  },
  "latex_envs": {
   "LaTeX_envs_menu_present": true,
   "autoclose": false,
   "autocomplete": true,
   "bibliofile": "biblio.bib",
   "cite_by": "apalike",
   "current_citInitial": 1,
   "eqLabelWithNumbers": true,
   "eqNumInitial": 1,
   "hotkeys": {
    "equation": "Ctrl-E",
    "itemize": "Ctrl-I"
   },
   "labels_anchors": false,
   "latex_user_defs": false,
   "report_style_numbering": false,
   "user_envs_cfg": false
  },
  "rise": {
   "enable_chalkboard": true,
   "scroll": true
  },
  "toc": {
   "base_numbering": 1,
   "nav_menu": {},
   "number_sections": false,
   "sideBar": false,
   "skip_h1_title": false,
   "title_cell": "Table of Contents",
   "title_sidebar": "Contents",
   "toc_cell": false,
   "toc_position": {
    "height": "47.5px",
    "left": "169px",
    "top": "0px",
    "width": "159.473px"
   },
   "toc_section_display": true,
   "toc_window_display": false
  }
 },
 "nbformat": 4,
 "nbformat_minor": 4
}
