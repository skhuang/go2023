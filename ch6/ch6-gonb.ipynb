{
 "cells": [
  {
   "cell_type": "markdown",
   "metadata": {
    "slideshow": {
     "slide_type": "skip"
    },
    "toc": true
   },
   "source": [
    "<h1>Table of Contents<span class=\"tocSkip\"></span></h1>\n",
    "<div class=\"toc\"><ul class=\"toc-item\"><li><span><a href=\"#Methods\" data-toc-modified-id=\"Methods-6\"><span class=\"toc-item-num\">6&nbsp;&nbsp;</span>Methods</a></span><ul class=\"toc-item\"><li><span><a href=\"#Method-Declarations\" data-toc-modified-id=\"Method-Declarations-6.1\"><span class=\"toc-item-num\">6.1&nbsp;&nbsp;</span>Method Declarations</a></span></li><li><span><a href=\"#Methods-with-a-Pointer-Receiver\" data-toc-modified-id=\"Methods-with-a-Pointer-Receiver-6.2\"><span class=\"toc-item-num\">6.2&nbsp;&nbsp;</span>Methods with a Pointer Receiver</a></span><ul class=\"toc-item\"><li><span><a href=\"#Nil-is-a-Valid-Receiver-Value\" data-toc-modified-id=\"Nil-is-a-Valid-Receiver-Value-6.2.1\"><span class=\"toc-item-num\">6.2.1&nbsp;&nbsp;</span>Nil is a Valid Receiver Value</a></span></li></ul></li><li><span><a href=\"#Composing-Types-by-Struct-Embedding\" data-toc-modified-id=\"Composing-Types-by-Struct-Embedding-6.3\"><span class=\"toc-item-num\">6.3&nbsp;&nbsp;</span>Composing Types by Struct Embedding</a></span></li><li><span><a href=\"#Method-Values-and-Expressions\" data-toc-modified-id=\"Method-Values-and-Expressions-6.4\"><span class=\"toc-item-num\">6.4&nbsp;&nbsp;</span>Method Values and Expressions</a></span></li><li><span><a href=\"#Example:-Bit-Vector-Type\" data-toc-modified-id=\"Example:-Bit-Vector-Type-6.5\"><span class=\"toc-item-num\">6.5&nbsp;&nbsp;</span>Example: Bit Vector Type</a></span></li><li><span><a href=\"#Encapsulation\" data-toc-modified-id=\"Encapsulation-6.6\"><span class=\"toc-item-num\">6.6&nbsp;&nbsp;</span>Encapsulation</a></span><ul class=\"toc-item\"><li><span><a href=\"#Advantages-of-Encapsulation\" data-toc-modified-id=\"Advantages-of-Encapsulation-6.6.1\"><span class=\"toc-item-num\">6.6.1&nbsp;&nbsp;</span>Advantages of Encapsulation</a></span></li></ul></li></ul></li></ul></div>"
   ]
  },
  {
   "cell_type": "markdown",
   "metadata": {
    "slideshow": {
     "slide_type": "slide"
    }
   },
   "source": [
    "# Methods"
   ]
  },
  {
   "cell_type": "markdown",
   "metadata": {
    "slideshow": {
     "slide_type": "fragment"
    }
   },
   "source": [
    "* Object-oriente programming (OOP) \n",
    "  * an object: a value or variable with methods\n",
    "  * a method: a function associated with a particular type\n",
    "* OO program uses methods to express the properties and operations of each data structure \n",
    "  * client need not access the object's representation directly"
   ]
  },
  {
   "cell_type": "markdown",
   "metadata": {
    "slideshow": {
     "slide_type": "subslide"
    }
   },
   "source": [
    "* Example use of methods\n",
    "  * Seconds method of type time.Duration \n",
    "  * **String** method for the **Celsius** type"
   ]
  },
  {
   "cell_type": "code",
   "execution_count": 1,
   "metadata": {
    "slideshow": {
     "slide_type": "fragment"
    }
   },
   "outputs": [
    {
     "name": "stdout",
     "output_type": "stream",
     "text": [
      "time.Duration\n",
      "86400\n"
     ]
    }
   ],
   "source": [
    "import (\"time\";\"fmt\")\n",
    "const day = 24 * time.Hour\n",
    "%%\n",
    "fmt.Printf(\"%T\\n\", day)\n",
    "fmt.Println(day.Seconds())"
   ]
  },
  {
   "cell_type": "code",
   "execution_count": 2,
   "metadata": {
    "slideshow": {
     "slide_type": "fragment"
    }
   },
   "outputs": [
    {
     "name": "stdout",
     "output_type": "stream",
     "text": [
      "36°C\n",
      "36°C\n",
      "36°C\n"
     ]
    }
   ],
   "source": [
    "type Celsius float32\n",
    "func (c Celsius) String() string { return fmt.Sprintf(\"%g°C\",c)}\n",
    "//func String() string { return fmt.Sprintf(\"%g°C\",c)}\n",
    "%%\n",
    "c := Celsius(36.0)\n",
    "fmt.Println(c.String())\n",
    "fmt.Printf(\"%s\\n\",c)\n",
    "fmt.Println(c)"
   ]
  },
  {
   "cell_type": "markdown",
   "metadata": {
    "slideshow": {
     "slide_type": "slide"
    }
   },
   "source": [
    "## Method Declarations\n",
    "* A method is declared with a variant of the ordinary function declaration in which an extra parameter appears before the function name\n",
    "* The parameter attaches the function to the type of that parameter"
   ]
  },
  {
   "cell_type": "code",
   "execution_count": 4,
   "metadata": {
    "code_folding": [],
    "slideshow": {
     "slide_type": "fragment"
    }
   },
   "outputs": [
    {
     "name": "stdout",
     "output_type": "stream",
     "text": [
      "3.6055512754639896\n",
      "3.6055512754639896\n"
     ]
    }
   ],
   "source": [
    "//gopl.io/ch6/geometry\n",
    "//Package geometry\n",
    "import (\"math\"\n",
    "        \"fmt\")\n",
    "type Point struct{X,Y float64}\n",
    "// tradtional function\n",
    "func Distance(p, q Point) float64 {\n",
    "    return math.Hypot(q.X-p.X, q.Y-p.Y)\n",
    "}\n",
    "// same thing, but as a method of the Point type\n",
    "func (p Point) Distance(q Point) float64 {\n",
    "    return math.Hypot(q.X-p.X, q.Y-p.Y)\n",
    "}\n",
    "%%\n",
    "p := Point{3,2}\n",
    "q := Point{6,4}\n",
    "fmt.Println(Distance(p,q)) // function call\n",
    "fmt.Println(p.Distance(q)) // method call"
   ]
  },
  {
   "cell_type": "markdown",
   "metadata": {
    "slideshow": {
     "slide_type": "subslide"
    }
   },
   "source": [
    "* The extra parameter p is called the method's receiver\n",
    "  * Calling a method is \"sending a message to an object\"\n",
    "  * We don't use *this* or *self* for the receiver\n",
    "  * We choose receiver names for any other parameter like p\n",
    "    * The receiver argument appears before the method name\n",
    "* The first is a package-level function, called geometry.Distance\n",
    "* The second is a method of type Point, Point.Distance\n",
    "  * p.Distance is called a selector, selecting the Distance method for the receiver p of type Point"
   ]
  },
  {
   "cell_type": "markdown",
   "metadata": {
    "slideshow": {
     "slide_type": "subslide"
    }
   },
   "source": [
    "* We can use Distance for other methods\n",
    "* Define a new type Path for a sequence of line segments and give it a Distance method\n",
    "<img src=\"https://raw.githubusercontent.com/skhuang/go2023/main/ch6/path.png\" width=\"300\" height=\"300\" />"
   ]
  },
  {
   "cell_type": "code",
   "execution_count": 5,
   "metadata": {
    "code_folding": [],
    "slideshow": {
     "slide_type": "fragment"
    }
   },
   "outputs": [
    {
     "name": "stdout",
     "output_type": "stream",
     "text": [
      "12\n"
     ]
    }
   ],
   "source": [
    "//A Path is a journey connecting the points with straight lines\n",
    "type Path []Point\n",
    "//Distance returns the distance traveled along the path\n",
    "func PathDistance(path Path) float64 {\n",
    "    sum := 0.0\n",
    "    for i:= range path {\n",
    "        if i > 0 {\n",
    "            sum += path[i-1].Distance(path[i])\n",
    "        }\n",
    "    }\n",
    "    return sum\n",
    "}\n",
    "\n",
    "func (path Path) Distance() float64 {\n",
    "    sum := 0.0\n",
    "    for i:= range path {\n",
    "        if i > 0 {\n",
    "            sum += path[i-1].Distance(path[i])\n",
    "        }\n",
    "    }\n",
    "    return sum\n",
    "}\n",
    "%%\n",
    "perim := Path {\n",
    "    {1,1},\n",
    "    {5,1},\n",
    "    {5,4},\n",
    "    {1,1},\n",
    "}\n",
    "\n",
    "fmt.Println(perim.Distance())"
   ]
  },
  {
   "cell_type": "code",
   "execution_count": 13,
   "metadata": {
    "code_folding": [],
    "slideshow": {
     "slide_type": "fragment"
    }
   },
   "outputs": [
    {
     "name": "stdout",
     "output_type": "stream",
     "text": [
      "12\n",
      "12\n"
     ]
    }
   ],
   "source": [
    "//method of geometry.Path\n",
    "import (\n",
    " \"gopl.io/ch6/geometry\"\n",
    " \"fmt\"\n",
    ")\n",
    "%%\n",
    "perim := geometry.Path{{1,1},{5,1},{5,4},{1,1}}\n",
    "perim2 := Path{{1,1},{5,1},{5,4},{1,1}}\n",
    "fmt.Println(PathDistance(perim2))\n",
    "fmt.Println(perim.Distance())"
   ]
  },
  {
   "cell_type": "markdown",
   "metadata": {
    "slideshow": {
     "slide_type": "slide"
    }
   },
   "source": [
    "## Methods with a Pointer Receiver\n",
    "* Calling a function makes a copy of each argument value\n",
    "* If a function needs to update a variable, or if an argument is large, we must pass the address of the variable using a pointer. \n",
    "* For methods that need to update the receiver variable: we attach them to the pointer type, such as *Point."
   ]
  },
  {
   "cell_type": "code",
   "execution_count": 45,
   "metadata": {
    "code_folding": [],
    "slideshow": {
     "slide_type": "subslide"
    }
   },
   "outputs": [
    {
     "name": "stdout",
     "output_type": "stream",
     "text": [
      "p.ScaleBy {2 4}\n",
      "{20 <nil>}\n",
      "{2 4}\n",
      "&{7 4}\n",
      "[1]\n"
     ]
    }
   ],
   "source": [
    "import \"gopl.io/ch6/geometry\"\n",
    "import \"fmt\"\n",
    "type Point struct{X,Y float64}\n",
    "type Pint []int\n",
    "func (p *Point) ScaleBy(factor float64) {\n",
    "    p.X *= factor\n",
    "    p.Y *= factor\n",
    "}\n",
    "//type IntList struct{X float64}\n",
    "    //Tail *IntList\n",
    "type IntList struct {\n",
    "    Value int\n",
    "    Tail  *IntList\n",
    "}\n",
    "\n",
    "func (list *IntList) Sum() int {\n",
    "    if list == nil {\n",
    "        return 0\n",
    "    }\n",
    "    return list.Value + list.Tail.Sum()\n",
    "}\n",
    "func (p *IntList) Sum1(f int) {\n",
    "    p.Value *= f\n",
    "    //if (list == nil) {\n",
    "      //  return \n",
    "    //}\n",
    "    //return list.Value + list.Tail.Sum()\n",
    "    //tail := list.Tail\n",
    "   // return list.Value \n",
    "}\n",
    "func (c *Point) Write(p []byte) (int, error) {\n",
    "    c.X += float64(len(p))\n",
    "    return len(p), nil\n",
    "}\n",
    "func (c *Pint) Write(p []byte) (int, error) {\n",
    "    return len(p), nil\n",
    "}\n",
    "%%\n",
    "p := Point{1,2}\n",
    "p.ScaleBy(2)\n",
    "fmt.Println(\"p.ScaleBy\",p)\n",
    "\n",
    "p2 := IntList{10,nil}\n",
    "p2.Sum1(2)\n",
    "fmt.Println(p2)\n",
    "\n",
    "r := &Point{1,2}\n",
    "r.ScaleBy(2)\n",
    "fmt.Println(*r)\n",
    "\n",
    "r1 := Pint{1}\n",
    "pr1 := &r1\n",
    "_ = pr1\n",
    "r.Write([]byte(\"hello\"))\n",
    "r1.Write([]byte(\"hello\"))\n",
    "fmt.Println(r)\n",
    "fmt.Println(r1)"
   ]
  },
  {
   "cell_type": "markdown",
   "metadata": {
    "slideshow": {
     "slide_type": "subslide"
    }
   },
   "source": [
    "* If any method of Point has a pointer receiver, then all methods of Point should have a pointer receiver, even ones that don’t strictly need it. \n",
    "* Named types (Point) and pointers to them (*Point) are the only types that may appear in a receiver declaration. \n",
    "* method declarations are not permitted on named types that are themselves pointer types:"
   ]
  },
  {
   "cell_type": "code",
   "execution_count": 64,
   "metadata": {
    "slideshow": {
     "slide_type": "fragment"
    }
   },
   "outputs": [
    {
     "data": {
      "text/html": [
       "\n",
       "<style>\n",
       ".gonb-err-location {\n",
       "\tbackground: var(--jp-err-color2);  \n",
       "\tborder-radius: 3px;\n",
       "\tborder-style: dotted;\n",
       "\tborder-width: 1px;\n",
       "\tborder-color: var(--jp-border-color2);\n",
       "}\n",
       ".gonb-err-location:hover {\n",
       "\tborder-width: 2px;\n",
       "\tborder-style: solid;\n",
       "\tborder-color: var(--jp-border-color2);\n",
       "}\n",
       ".gonb-err-context {\n",
       "\tdisplay: none;\n",
       "}\n",
       ".gonb-err-location:hover + .gonb-err-context {\n",
       "\tbackground: var(--jp-dialog-background);  \n",
       "\tborder-radius: 3px;\n",
       "\tborder-style: solid;\n",
       "\tborder-width: 1px;\n",
       "\tborder-color: var(--jp-border-color2);\n",
       "\tdisplay: block;\n",
       "\twhite-space: pre;\n",
       "\tfont-family: monospace;\n",
       "}\n",
       ".gonb-err-line {\n",
       "\tborder-radius: 3px;\n",
       "\tborder-style: dotted;\n",
       "\tborder-width: 1px;\t\n",
       "\tborder-color: var(--jp-border-color2);\n",
       "\tbackground-color: var(--jp-rendermime-err-background);\n",
       "\tfont-weight: bold;\n",
       "}\n",
       ".gonb-cell-line-info {\n",
       "\tbackground: var(--jp-layout-color2);\n",
       "\tcolor: #999;\n",
       "\tmargin: 0.1em;\n",
       "\tborder: 1px solid var(--jp-border-color1);\n",
       "\tpadding-left: 0.2em;\n",
       "\tpadding-right: 0.2em;\n",
       "}\n",
       "</style>\n",
       "<div class=\"lm-Widget p-Widget lm-Panel p-Panel jp-OutputArea-child\">\n",
       "<div class=\"lm-Widget p-Widget jp-RenderedText jp-mod-trusted jp-OutputArea-output\" data-mime-type=\"application/vnd.jupyter.stderr\" style=\"font-family: monospace;\">\n",
       "\n",
       "\n",
       "<span style=\"white-space: pre;\"> # gonb_42af5118</span>\n",
       "\n",
       "<br/>\n",
       "\n",
       "<span class=\"gonb-cell-line-info\">Cell[64]: Line 2</span>\n",
       "<span class=\"gonb-err-location\">./main.go:193:7: </span> invalid receiver type P (pointer or interface type)\n",
       "<div class=\"gonb-err-context\">\n",
       "    return len(p), nil\n",
       "}\n",
       "\n",
       "<div class=\"gonb-err-line\">func (P) f() { /* ... */ }\n",
       "</div>\n",
       "func (r *Rocket) Launch() {}\n",
       "\n",
       "</div>\n",
       "\n",
       "<br/>\n",
       "\n",
       "\n",
       "<span style=\"white-space: pre;\"> </span>\n",
       "\n",
       "<br/>\n",
       "\n",
       "</div>\n"
      ]
     },
     "metadata": {},
     "output_type": "display_data"
    },
    {
     "ename": "ERROR",
     "evalue": "failed to run \"/opt/homebrew/bin/go build -o /var/folders/4d/tg201k8x6yb81f_lrvt4440m0000gn/T/gonb_42af5118/gonb_42af5118\": exit status 1",
     "output_type": "error",
     "traceback": [
      "failed to run \"/opt/homebrew/bin/go build -o /var/folders/4d/tg201k8x6yb81f_lrvt4440m0000gn/T/gonb_42af5118/gonb_42af5118\": exit status 1"
     ]
    }
   ],
   "source": [
    "type P *int\n",
    "func (P) f() { /* ... */ } // compile error: invalid receiver type"
   ]
  },
  {
   "cell_type": "code",
   "execution_count": 46,
   "metadata": {
    "slideshow": {
     "slide_type": "subslide"
    }
   },
   "outputs": [
    {
     "name": "stdout",
     "output_type": "stream",
     "text": [
      "pptr.ScaleBy {2 4}\n"
     ]
    }
   ],
   "source": [
    "%%\n",
    "p := Point{1,2}\n",
    "pptr := &p\n",
    "pptr.ScaleBy(2)\n",
    "fmt.Println(\"pptr.ScaleBy\",p)\n"
   ]
  },
  {
   "cell_type": "code",
   "execution_count": 48,
   "metadata": {
    "slideshow": {
     "slide_type": "fragment"
    }
   },
   "outputs": [
    {
     "name": "stdout",
     "output_type": "stream",
     "text": [
      "(&p).ScaleBy {2 4}\n"
     ]
    }
   ],
   "source": [
    "%%\n",
    "p := Point{1,2}\n",
    "(&p).ScaleBy(2)\n",
    "fmt.Println(\"(&p).ScaleBy\",p)\n",
    "\n",
    "p1:= IntList{10,nil}\n",
    "(&p1).Sum1(10)\n"
   ]
  },
  {
   "cell_type": "markdown",
   "metadata": {
    "slideshow": {
     "slide_type": "subslide"
    }
   },
   "source": [
    "* If the receiver p is a variable of type Point but the method requires a *Point receiver\n",
    "  * Use this shorthand: p.ScaleBy(2)\n",
    "* The compiler will perform an implicit &p on the variable."
   ]
  },
  {
   "cell_type": "code",
   "execution_count": 50,
   "metadata": {
    "slideshow": {
     "slide_type": "fragment"
    }
   },
   "outputs": [
    {
     "name": "stdout",
     "output_type": "stream",
     "text": [
      "p.ScaleBy {2 4}\n"
     ]
    }
   ],
   "source": [
    "%%\n",
    "p := Point{1,2}\n",
    "p.ScaleBy(2)\n",
    "fmt.Println(\"p.ScaleBy\",p)\n",
    "\n",
    "p2 := IntList{10,nil}\n",
    "p2.Sum1(10)"
   ]
  },
  {
   "cell_type": "code",
   "execution_count": 13,
   "metadata": {
    "slideshow": {
     "slide_type": "fragment"
    }
   },
   "outputs": [
    {
     "data": {
      "text/html": [
       "\n",
       "<style>\n",
       ".gonb-err-location {\n",
       "\tbackground: var(--jp-err-color2);  \n",
       "\tborder-radius: 3px;\n",
       "\tborder-style: dotted;\n",
       "\tborder-width: 1px;\n",
       "\tborder-color: var(--jp-border-color2);\n",
       "}\n",
       ".gonb-err-location:hover {\n",
       "\tborder-width: 2px;\n",
       "\tborder-style: solid;\n",
       "\tborder-color: var(--jp-border-color2);\n",
       "}\n",
       ".gonb-err-context {\n",
       "\tdisplay: none;\n",
       "}\n",
       ".gonb-err-location:hover + .gonb-err-context {\n",
       "\tbackground: var(--jp-dialog-background);  \n",
       "\tborder-radius: 3px;\n",
       "\tborder-style: solid;\n",
       "\tborder-width: 1px;\n",
       "\tborder-color: var(--jp-border-color2);\n",
       "\tdisplay: block;\n",
       "\twhite-space: pre;\n",
       "\tfont-family: monospace;\n",
       "}\n",
       ".gonb-err-line {\n",
       "\tborder-radius: 3px;\n",
       "\tborder-style: dotted;\n",
       "\tborder-width: 1px;\t\n",
       "\tborder-color: var(--jp-border-color2);\n",
       "\tbackground-color: var(--jp-rendermime-err-background);\n",
       "\tfont-weight: bold;\n",
       "}\n",
       ".gonb-cell-line-info {\n",
       "\tbackground: var(--jp-layout-color2);\n",
       "\tcolor: #999;\n",
       "\tmargin: 0.1em;\n",
       "\tborder: 1px solid var(--jp-border-color1);\n",
       "\tpadding-left: 0.2em;\n",
       "\tpadding-right: 0.2em;\n",
       "}\n",
       "</style>\n",
       "<div class=\"lm-Widget p-Widget lm-Panel p-Panel jp-OutputArea-child\">\n",
       "<div class=\"lm-Widget p-Widget jp-RenderedText jp-mod-trusted jp-OutputArea-output\" data-mime-type=\"application/vnd.jupyter.stderr\" style=\"font-family: monospace;\">\n",
       "\n",
       "\n",
       "<span style=\"white-space: pre;\"> # gonb_42af5118</span>\n",
       "\n",
       "<br/>\n",
       "\n",
       "<span class=\"gonb-cell-line-info\">Cell[13]: Line 2</span>\n",
       "<span class=\"gonb-err-location\">./main.go:75:13: </span> cannot call pointer method ScaleBy on Point\n",
       "<div class=\"gonb-err-context\">\n",
       "\n",
       "func main() {\n",
       "\tflag.Parse()\n",
       "<div class=\"gonb-err-line\">\tPoint{1,2}.ScaleBy(2)// compile error: can&#39;t take address of Point literal\n",
       "</div>\n",
       "}\n",
       "\n",
       "</div>\n",
       "\n",
       "<br/>\n",
       "\n",
       "\n",
       "<span style=\"white-space: pre;\"> </span>\n",
       "\n",
       "<br/>\n",
       "\n",
       "</div>\n"
      ]
     },
     "metadata": {},
     "output_type": "display_data"
    },
    {
     "ename": "ERROR",
     "evalue": "failed to run \"/opt/homebrew/bin/go build -o /var/folders/4d/tg201k8x6yb81f_lrvt4440m0000gn/T/gonb_42af5118/gonb_42af5118\": exit status 1",
     "output_type": "error",
     "traceback": [
      "failed to run \"/opt/homebrew/bin/go build -o /var/folders/4d/tg201k8x6yb81f_lrvt4440m0000gn/T/gonb_42af5118/gonb_42af5118\": exit status 1"
     ]
    }
   ],
   "source": [
    "%%\n",
    "Point{1,2}.ScaleBy(2)// compile error: can't take address of Point literal"
   ]
  },
  {
   "cell_type": "code",
   "execution_count": 14,
   "metadata": {
    "slideshow": {
     "slide_type": "subslide"
    }
   },
   "outputs": [
    {
     "name": "stdout",
     "output_type": "stream",
     "text": [
      "2.8284271247461903\n",
      "2.8284271247461903\n",
      "2.8284271247461903\n"
     ]
    }
   ],
   "source": [
    "import \"gopl.io/ch6/geometry\"\n",
    "import \"math\"\n",
    "func (p Point) Distance(q Point) float64 {\n",
    "    return math.Hypot(q.X-p.X, q.Y-p.Y)\n",
    "}\n",
    "%%\n",
    "q := Point{3,4}\n",
    "pptr := &Point{1,2}\n",
    "fmt.Println(q.Distance(*pptr))\n",
    "fmt.Println(pptr.Distance(q))\n",
    "fmt.Println((*pptr).Distance(q))"
   ]
  },
  {
   "cell_type": "code",
   "execution_count": 15,
   "metadata": {
    "slideshow": {
     "slide_type": "fragment"
    }
   },
   "outputs": [],
   "source": [
    "%%\n",
    "p := Point{1,2}\n",
    "q := Point{3,4}\n",
    "pptr := &Point{1,2}\n",
    "p.ScaleBy(2)  // implicit (&p)\n",
    "pptr.Distance(q) //implict (*pptr)"
   ]
  },
  {
   "cell_type": "markdown",
   "metadata": {
    "slideshow": {
     "slide_type": "slide"
    }
   },
   "source": [
    "### Nil is a Valid Receiver Value\n",
    "* functions allow nil pointers as arguments, and methods allow nil for their receiver"
   ]
  },
  {
   "cell_type": "code",
   "execution_count": 76,
   "metadata": {
    "slideshow": {
     "slide_type": "subslide"
    }
   },
   "outputs": [
    {
     "name": "stdout",
     "output_type": "stream",
     "text": [
      "10 10 10 10\n",
      "*main.IntList\n",
      "main.IntList\n",
      "30\n"
     ]
    }
   ],
   "source": [
    "// An IntList is a link list of integers\n",
    "// A nil *IntList represents the empty list\n",
    "import \"fmt\"\n",
    "type IntList struct {\n",
    "    Value int\n",
    "    Tail *IntList\n",
    "}\n",
    "\n",
    "func (list *IntList) Sum() int {\n",
    "    if (list == nil) {\n",
    "        return 0\n",
    "    }\n",
    "    return list.Value + list.Tail.Sum()\n",
    "}\n",
    "%%\n",
    "p := IntList{10,nil}\n",
    "q := IntList{20,nil}\n",
    "//p.Tail = &q\n",
    "ptr := &p\n",
    "fmt.Println(p.Value, ptr.Sum(), (*ptr).Sum(), p.Sum())\n",
    "_ = q\n",
    "fmt.Printf(\"%T\\n%T\\n\",p.Tail , q)\n",
    "p.Tail = &q\n",
    "fmt.Println(p.Sum())"
   ]
  },
  {
   "cell_type": "code",
   "execution_count": 77,
   "metadata": {
    "slideshow": {
     "slide_type": "subslide"
    }
   },
   "outputs": [],
   "source": [
    "//net/url\n",
    "//package url\n",
    "type Values map[string][]string\n",
    "func (v Values) Get(key string) string {\n",
    "    if vs := v[key]; len(vs) > 0 {\n",
    "        return vs[0]\n",
    "    }\n",
    "    return \"\"\n",
    "}\n",
    "\n",
    "func (v Values) Add(key, value string) {\n",
    "    v[key] = append(v[key], value)\n",
    "}"
   ]
  },
  {
   "cell_type": "code",
   "execution_count": 79,
   "metadata": {
    "slideshow": {
     "slide_type": "subslide"
    }
   },
   "outputs": [
    {
     "name": "stdout",
     "output_type": "stream",
     "text": [
      "en\n",
      "\n",
      "1\n",
      "[1 2]\n",
      "\n"
     ]
    }
   ],
   "source": [
    "import \"net/url\"\n",
    "%%\n",
    "m := url.Values{\"lang\":{\"en\"}}\n",
    "m.Add(\"item\",\"1\")\n",
    "m.Add(\"item\",\"2\")\n",
    "fmt.Println(m.Get(\"lang\"))\n",
    "fmt.Println(m.Get(\"q\"))\n",
    "fmt.Println(m.Get(\"item\"))\n",
    "fmt.Println(m[\"item\"])\n",
    "m = nil\n",
    "fmt.Println(m.Get(\"item\"))\n",
    "//m.Add(\"item\",\"3\")// panic: assignment to entry"
   ]
  },
  {
   "cell_type": "markdown",
   "metadata": {
    "slideshow": {
     "slide_type": "slide"
    }
   },
   "source": [
    "## Composing Types by Struct Embedding"
   ]
  },
  {
   "cell_type": "code",
   "execution_count": 22,
   "metadata": {
    "slideshow": {
     "slide_type": "subslide"
    }
   },
   "outputs": [
    {
     "name": "stdout",
     "output_type": "stream",
     "text": [
      "1\n",
      "2\n"
     ]
    }
   ],
   "source": [
    "//gopl.io/ch6/coloredpoint\n",
    "import \"fmt\"\n",
    "import \"image/color\"\n",
    "type Point struct {X, Y float64}\n",
    "type ColoredPoint struct {\n",
    "    Point\n",
    "    Color color.RGBA\n",
    "}\n",
    "%%\n",
    "var cp ColoredPoint\n",
    "cp.X = 1\n",
    "fmt.Println( cp.Point.X)\n",
    "cp.Point.Y = 2\n",
    "fmt.Println(cp.Y)"
   ]
  },
  {
   "cell_type": "code",
   "execution_count": 23,
   "metadata": {
    "slideshow": {
     "slide_type": "subslide"
    }
   },
   "outputs": [
    {
     "name": "stdout",
     "output_type": "stream",
     "text": [
      "5\n",
      "10\n"
     ]
    }
   ],
   "source": [
    "%%\n",
    "red := color.RGBA{255,0,0,255}\n",
    "blue := color.RGBA{0,0,255,255}\n",
    "var p = ColoredPoint{Point{1,1},red}\n",
    "var q = ColoredPoint{Point{5,4},blue}\n",
    "fmt.Println(p.Distance(q.Point))\n",
    "p.ScaleBy(2)\n",
    "q.ScaleBy(2)\n",
    "fmt.Println(p.Distance(q.Point))"
   ]
  },
  {
   "cell_type": "code",
   "execution_count": 48,
   "metadata": {
    "slideshow": {
     "slide_type": "subslide"
    }
   },
   "outputs": [
    {
     "data": {
      "text/html": [
       "\n",
       "<style>\n",
       ".gonb-err-location {\n",
       "\tbackground: var(--jp-err-color2);  \n",
       "\tborder-radius: 3px;\n",
       "\tborder-style: dotted;\n",
       "\tborder-width: 1px;\n",
       "\tborder-color: var(--jp-border-color2);\n",
       "}\n",
       ".gonb-err-location:hover {\n",
       "\tborder-width: 2px;\n",
       "\tborder-style: solid;\n",
       "\tborder-color: var(--jp-border-color2);\n",
       "}\n",
       ".gonb-err-context {\n",
       "\tdisplay: none;\n",
       "}\n",
       ".gonb-err-location:hover + .gonb-err-context {\n",
       "\tbackground: var(--jp-dialog-background);  \n",
       "\tborder-radius: 3px;\n",
       "\tborder-style: solid;\n",
       "\tborder-width: 1px;\n",
       "\tborder-color: var(--jp-border-color2);\n",
       "\tdisplay: block;\n",
       "\twhite-space: pre;\n",
       "\tfont-family: monospace;\n",
       "}\n",
       ".gonb-err-line {\n",
       "\tborder-radius: 3px;\n",
       "\tborder-style: dotted;\n",
       "\tborder-width: 1px;\t\n",
       "\tborder-color: var(--jp-border-color2);\n",
       "\tbackground-color: var(--jp-rendermime-err-background);\n",
       "\tfont-weight: bold;\n",
       "}\n",
       ".gonb-cell-line-info {\n",
       "\tbackground: var(--jp-layout-color2);\n",
       "\tcolor: #999;\n",
       "\tmargin: 0.1em;\n",
       "\tborder: 1px solid var(--jp-border-color1);\n",
       "\tpadding-left: 0.2em;\n",
       "\tpadding-right: 0.2em;\n",
       "}\n",
       "</style>\n",
       "<div class=\"lm-Widget p-Widget lm-Panel p-Panel jp-OutputArea-child\">\n",
       "<div class=\"lm-Widget p-Widget jp-RenderedText jp-mod-trusted jp-OutputArea-output\" data-mime-type=\"application/vnd.jupyter.stderr\" style=\"font-family: monospace;\">\n",
       "\n",
       "\n",
       "<span style=\"white-space: pre;\"> # gonb_aaad8fdb</span>\n",
       "\n",
       "<br/>\n",
       "\n",
       "<span class=\"gonb-cell-line-info\">Cell[48]: Line 6</span>\n",
       "<span class=\"gonb-err-location\">./main.go:99:13: </span> cannot use q (variable of type ColoredPoint) as type Point in argument to p.Distance\n",
       "<div class=\"gonb-err-context\">\n",
       "\tblue := color.RGBA{0,0,255,255}\n",
       "\tvar p = ColoredPoint{Point{1,1},red}\n",
       "\tvar q = ColoredPoint{Point{5,4},blue}\n",
       "<div class=\"gonb-err-line\">\tp.Distance(q) // cannot use q as Point\n",
       "</div>\n",
       "}\n",
       "\n",
       "</div>\n",
       "\n",
       "<br/>\n",
       "\n",
       "\n",
       "<span style=\"white-space: pre;\"> </span>\n",
       "\n",
       "<br/>\n",
       "\n",
       "</div>\n"
      ]
     },
     "metadata": {},
     "output_type": "display_data"
    },
    {
     "ename": "ERROR",
     "evalue": "failed to run \"/opt/homebrew/bin/go build -o /var/folders/4d/tg201k8x6yb81f_lrvt4440m0000gn/T/gonb_aaad8fdb/gonb_aaad8fdb\": exit status 1",
     "output_type": "error",
     "traceback": [
      "failed to run \"/opt/homebrew/bin/go build -o /var/folders/4d/tg201k8x6yb81f_lrvt4440m0000gn/T/gonb_aaad8fdb/gonb_aaad8fdb\": exit status 1"
     ]
    }
   ],
   "source": [
    "%%\n",
    "red := color.RGBA{255,0,0,255}\n",
    "blue := color.RGBA{0,0,255,255}\n",
    "var p = ColoredPoint{Point{1,1},red}\n",
    "var q = ColoredPoint{Point{5,4},blue}\n",
    "p.Distance(q) // cannot use q as Point"
   ]
  },
  {
   "cell_type": "code",
   "execution_count": 24,
   "metadata": {
    "slideshow": {
     "slide_type": "subslide"
    }
   },
   "outputs": [
    {
     "name": "stdout",
     "output_type": "stream",
     "text": [
      "5\n",
      "{2 2} {2 2}\n"
     ]
    }
   ],
   "source": [
    "type ColoredPoint struct {\n",
    "    *Point\n",
    "    Color color.RGBA\n",
    "}\n",
    "%%\n",
    "red := color.RGBA{255,0,0,255}\n",
    "blue := color.RGBA{0,0,255,255}\n",
    "p := ColoredPoint{&Point{1,1}, red}\n",
    "q := ColoredPoint{&Point{5,4}, blue}\n",
    "fmt.Println(p.Distance(*q.Point))\n",
    "q.Point = p.Point\n",
    "p.ScaleBy(2)\n",
    "fmt.Println(*p.Point, *q.Point)\n"
   ]
  },
  {
   "cell_type": "code",
   "execution_count": 53,
   "metadata": {
    "slideshow": {
     "slide_type": "subslide"
    }
   },
   "outputs": [],
   "source": [
    "import \"sync\"\n",
    "var (\n",
    "    mu sync.Mutex\n",
    "    mapping = make(map[string]string)\n",
    ")\n",
    "func Lookup(key string) string {\n",
    "    mu.Lock()\n",
    "    v := mapping[key]\n",
    "    mu.Unlock()\n",
    "    return v\n",
    "}"
   ]
  },
  {
   "cell_type": "code",
   "execution_count": 54,
   "metadata": {
    "slideshow": {
     "slide_type": "subslide"
    }
   },
   "outputs": [],
   "source": [
    "import \"sync\"\n",
    "var cache = struct {\n",
    "    sync.Mutex\n",
    "    mapping map[string]string\n",
    "} {\n",
    "    mapping: make(map[string]string),\n",
    "}\n",
    "func Lookup(key string)string {\n",
    "    cache.Lock()\n",
    "    v := cache.mapping[key]\n",
    "    cache.Unlock()\n",
    "    return v\n",
    "}"
   ]
  },
  {
   "cell_type": "markdown",
   "metadata": {
    "slideshow": {
     "slide_type": "slide"
    }
   },
   "source": [
    "## Method Values and Expressions\n",
    "* If we issue p.Distance()\n",
    "  * p.Distance is a method value\n",
    "  * This function can be invoked without a receiver"
   ]
  },
  {
   "cell_type": "code",
   "execution_count": 55,
   "metadata": {
    "slideshow": {
     "slide_type": "subslide"
    }
   },
   "outputs": [
    {
     "name": "stdout",
     "output_type": "stream",
     "text": [
      "5\n",
      "2.23606797749979\n",
      "{120 240}\n"
     ]
    }
   ],
   "source": [
    "%%\n",
    "p := Point{1,2}\n",
    "q := Point{4,6}\n",
    "distanceFromP := p.Distance // method value\n",
    "fmt.Println(distanceFromP(q))\n",
    "var origin Point\n",
    "fmt.Println(distanceFromP(origin))\n",
    "\n",
    "scaleP := p.ScaleBy   // method value\n",
    "scaleP(2)\n",
    "scaleP(3)\n",
    "scaleP(10)\n",
    "scaleP(2)\n",
    "fmt.Println(p)"
   ]
  },
  {
   "cell_type": "code",
   "execution_count": 56,
   "metadata": {
    "slideshow": {
     "slide_type": "subslide"
    }
   },
   "outputs": [],
   "source": [
    "import \"time\"\n",
    "type Rocket struct {}\n",
    "func (r *Rocket) Launch() {}\n",
    "%%\n",
    "r := new(Rocket)\n",
    "time.AfterFunc(10 * time.Second, func(){ r.Launch()})\n",
    "time.AfterFunc(10 * time.Second, r.Launch)"
   ]
  },
  {
   "cell_type": "code",
   "execution_count": 57,
   "metadata": {
    "slideshow": {
     "slide_type": "slide"
    }
   },
   "outputs": [],
   "source": [
    "type Point struct {X, Y float64}\n",
    "func (p Point) Add(q Point) Point { return Point{p.X+q.X, p.Y + q.Y}}\n",
    "func (p Point) Sub(q Point) Point { return Point{p.X-q.X, p.Y - q.Y}}\n",
    "type Path []Point\n",
    "func (path Path) TranslateBy(offset Point, add bool) {\n",
    "    var op func(p, q Point) Point\n",
    "    if add {\n",
    "        op = Point.Add\n",
    "    } else {\n",
    "        op = Point.Sub\n",
    "    }\n",
    "    for i := range path {\n",
    "        path[i] = op(path[i], offset)\n",
    "    }\n",
    "}"
   ]
  },
  {
   "cell_type": "code",
   "execution_count": 58,
   "metadata": {
    "slideshow": {
     "slide_type": "subslide"
    }
   },
   "outputs": [],
   "source": [
    "// Copyright © 2016 Alan A. A. Donovan & Brian W. Kernighan.\n",
    "// License: https://creativecommons.org/licenses/by-nc-sa/4.0/\n",
    "\n",
    "// See page 165.\n",
    "\n",
    "// Package intset provides a set of integers based on a bit vector.\n",
    "//package intset\n",
    "\n",
    "import (\n",
    "\t\"bytes\"\n",
    "\t\"fmt\"\n",
    ")\n",
    "\n",
    "//!+intset\n",
    "\n",
    "// An IntSet is a set of small non-negative integers.\n",
    "// Its zero value represents the empty set.\n",
    "type IntSet struct {\n",
    "\twords []uint64\n",
    "}\n",
    "\n",
    "// Has reports whether the set contains the non-negative value x.\n",
    "func (s *IntSet) Has(x int) bool {\n",
    "\tword, bit := x/64, uint(x%64)\n",
    "\treturn word < len(s.words) && s.words[word]&uint64(1<<bit) != 0\n",
    "}\n",
    "\n",
    "// Add adds the non-negative value x to the set.\n",
    "func (s *IntSet) Add(x int) {\n",
    "\tword, bit := x/64, uint(x%64)\n",
    "\tfor word >= len(s.words) {\n",
    "\t\ts.words = append(s.words, 0)\n",
    "\t}\n",
    "    s.words[word] |= uint64(1 << bit)\n",
    "}\n",
    "\n",
    "// UnionWith sets s to the union of s and t.\n",
    "func (s *IntSet) UnionWith(t *IntSet) {\n",
    "\tfor i, tword := range t.words {\n",
    "\t\tif i < len(s.words) {\n",
    "\t\t\ts.words[i] |= tword\n",
    "\t\t} else {\n",
    "\t\t\ts.words = append(s.words, tword)\n",
    "\t\t}\n",
    "\t}\n",
    "}\n",
    "\n",
    "//!-intset\n",
    "\n",
    "//!+string\n",
    "\n",
    "// String returns the set as a string of the form \"{1 2 3}\".\n",
    "func (s *IntSet) String() string {\n",
    "\tvar buf bytes.Buffer\n",
    "\tbuf.WriteByte('{')\n",
    "\tfor i, word := range s.words {\n",
    "\t\tif word == 0 {\n",
    "\t\t\tcontinue\n",
    "\t\t}\n",
    "\t\tfor j := 0; j < 64; j++ {\n",
    "\t\t\tif word&uint64(1<<uint(j)) != 0 {\n",
    "\t\t\t\tif buf.Len() > len(\"{\") {\n",
    "\t\t\t\t\tbuf.WriteByte(' ')\n",
    "\t\t\t\t}\n",
    "\t\t\t\tfmt.Fprintf(&buf, \"%d\", 64*i+j)\n",
    "\t\t\t}\n",
    "\t\t}\n",
    "\t}\n",
    "\tbuf.WriteByte('}')\n",
    "\treturn buf.String()\n",
    "}\n",
    "\n",
    "//!-string"
   ]
  },
  {
   "cell_type": "code",
   "execution_count": 59,
   "metadata": {
    "slideshow": {
     "slide_type": "subslide"
    }
   },
   "outputs": [
    {
     "name": "stdout",
     "output_type": "stream",
     "text": [
      "{1 9 144}\n",
      "{9 42}\n",
      "{1 9 42 144}\n",
      "true false\n",
      "{1 9 42 144}\n",
      "{1 9 42 144}\n",
      "{[4398046511618 0 65536]}\n",
      "{1 9 42 144}\n"
     ]
    }
   ],
   "source": [
    "\n",
    "var x,y IntSet\n",
    "%%\n",
    "x.Add(1)\n",
    "x.Add(144)\n",
    "x.Add(9)\n",
    "fmt.Println(x.String())\n",
    "y.Add(9)\n",
    "y.Add(42)\n",
    "fmt.Println(y.String())\n",
    "x.UnionWith(&y)\n",
    "fmt.Println(x.String())\n",
    "fmt.Println(x.Has(9), x.Has(123))\n",
    "\n",
    "fmt.Println(&x)\n",
    "fmt.Println(x.String())\n",
    "fmt.Println(x)\n",
    "fmt.Printf(\"%s\\n\",x.String())"
   ]
  },
  {
   "cell_type": "markdown",
   "metadata": {
    "slideshow": {
     "slide_type": "slide"
    }
   },
   "source": [
    "## Example: Bit Vector Type"
   ]
  },
  {
   "cell_type": "code",
   "execution_count": 60,
   "metadata": {
    "code_folding": [
     17
    ],
    "slideshow": {
     "slide_type": "subslide"
    }
   },
   "outputs": [],
   "source": [
    "// Copyright © 2016 Alan A. A. Donovan & Brian W. Kernighan.\n",
    "// License: https://creativecommons.org/licenses/by-nc-sa/4.0/\n",
    "\n",
    "// See page 165.\n",
    "\n",
    "// Package intset provides a set of integers based on a bit vector.\n",
    "//package intset\n",
    "\n",
    "import (\n",
    "\t\"bytes\"\n",
    "\t\"fmt\"\n",
    ")\n",
    "\n",
    "//!+intset\n",
    "\n",
    "// An IntSet is a set of small non-negative integers.\n",
    "// Its zero value represents the empty set.\n",
    "type IntSet struct {\n",
    "\twords []uint64\n",
    "}"
   ]
  },
  {
   "cell_type": "code",
   "execution_count": 61,
   "metadata": {
    "code_folding": [
     1,
     7,
     16
    ],
    "slideshow": {
     "slide_type": "subslide"
    }
   },
   "outputs": [],
   "source": [
    "// Has reports whether the set contains the non-negative value x.\n",
    "func (s *IntSet) Has(x int) bool {\n",
    "\tword, bit := x/64, uint(x%64)\n",
    "\treturn word < len(s.words) && s.words[word]&uint64(1<<bit) != 0\n",
    "}\n",
    "\n",
    "// Add adds the non-negative value x to the set.\n",
    "func (s *IntSet) Add(x int) {\n",
    "\tword, bit := x/64, uint(x%64)\n",
    "\tfor word >= len(s.words) {\n",
    "\t\ts.words = append(s.words, 0)\n",
    "\t}\n",
    "    s.words[word] |= uint64(1 << bit)\n",
    "}\n",
    "\n",
    "// UnionWith sets s to the union of s and t.\n",
    "func (s *IntSet) UnionWith(t *IntSet) {\n",
    "\tfor i, tword := range t.words {\n",
    "\t\tif i < len(s.words) {\n",
    "\t\t\ts.words[i] |= tword\n",
    "\t\t} else {\n",
    "\t\t\ts.words = append(s.words, tword)\n",
    "\t\t}\n",
    "\t}\n",
    "}\n",
    "\n"
   ]
  },
  {
   "cell_type": "code",
   "execution_count": 62,
   "metadata": {
    "code_folding": [
     1
    ],
    "slideshow": {
     "slide_type": "subslide"
    }
   },
   "outputs": [],
   "source": [
    "// String returns the set as a string of the form \"{1 2 3}\".\n",
    "func (s *IntSet) String() string {\n",
    "\tvar buf bytes.Buffer\n",
    "\tbuf.WriteByte('{')\n",
    "\tfor i, word := range s.words {\n",
    "\t\tif word == 0 {\n",
    "\t\t\tcontinue\n",
    "\t\t}\n",
    "\t\tfor j := 0; j < 64; j++ {\n",
    "\t\t\tif word&uint64(1<<uint(j)) != 0 {\n",
    "\t\t\t\tif buf.Len() > len(\"{\") {\n",
    "\t\t\t\t\tbuf.WriteByte(' ')\n",
    "\t\t\t\t}\n",
    "\t\t\t\tfmt.Fprintf(&buf, \"%d\", 64*i+j)\n",
    "\t\t\t}\n",
    "\t\t}\n",
    "\t}\n",
    "\tbuf.WriteByte('}')\n",
    "\treturn buf.String()\n",
    "}\n",
    "\n",
    "//!-string"
   ]
  },
  {
   "cell_type": "code",
   "execution_count": 63,
   "metadata": {
    "slideshow": {
     "slide_type": "subslide"
    }
   },
   "outputs": [
    {
     "name": "stdout",
     "output_type": "stream",
     "text": [
      "{1 9 144}\n",
      "{9 42}\n",
      "{1 9 42 144}\n",
      "true false\n",
      "{1 9 42 144}\n",
      "{1 9 42 144}\n",
      "{[4398046511618 0 65536]}\n"
     ]
    }
   ],
   "source": [
    "var x, y IntSet\n",
    "%%\n",
    "x.Add(1)\n",
    "x.Add(144)\n",
    "x.Add(9)\n",
    "fmt.Println(x.String()) // {1 9 144}\n",
    "y.Add(9)\n",
    "y.Add(42)\n",
    "fmt.Println(y.String()) // {9 42}\n",
    "\n",
    "x.UnionWith(&y)\n",
    "fmt.Println(x.String()) //{1 9 42 144}\n",
    "fmt.Println(x.Has(9), x.Has(123))\n",
    "//\n",
    "fmt.Println(&x)    // {1 9 42 144}\n",
    "fmt.Println(x.String())\n",
    "fmt.Println(x)"
   ]
  },
  {
   "cell_type": "markdown",
   "metadata": {
    "slideshow": {
     "slide_type": "slide"
    }
   },
   "source": [
    "## Encapsulation\n",
    "* Encapsulation (information hiding)\n",
    "  * A Key aspect of object-oriented programming\n",
    "  * Variable or method of an object inaccessible to clients\n",
    "* Go control the visibility of names: \n",
    "  * capitalized identifiers exported from the package \n",
    "  * Uncapitalized names are not exported\n",
    "* Unit of encapsulation is the package, not the type \n",
    "  * The field of a struct type are visible to all code within the same package\n"
   ]
  },
  {
   "cell_type": "code",
   "execution_count": 38,
   "metadata": {
    "slideshow": {
     "slide_type": "slide"
    }
   },
   "outputs": [],
   "source": [
    "type Buffer struct {\n",
    "    buf     []byte\n",
    "    initial [64]byte\n",
    "}\n",
    "//Grow expands the buffer's capacity, if necessay,\n",
    "// to guarantee space for another n bytes. [...]\n",
    "func (b *Buffer) Len() int {\n",
    "    return len(b.buf)\n",
    "}\n",
    "func (b *Buffer) Grow(n int) {\n",
    "    if b.buf == nil {\n",
    "        b.buf = b.initial[:0] // use preallocated space initially\n",
    "    }\n",
    "    if len(b.buf)+n > cap(b.buf) {\n",
    "        buf := make([]byte, b.Len(), 2*cap(b.buf)+n)\n",
    "        copy(buf, b.buf)\n",
    "        b.buf = buf\n",
    "    }\n",
    "}"
   ]
  },
  {
   "cell_type": "markdown",
   "metadata": {
    "slideshow": {
     "slide_type": "subslide"
    }
   },
   "source": [
    "### Advantages of Encapsulation\n",
    "* Clients cannot modify the object’s variables, we need inspect fewer statements to understand the possible value of the variables\n",
    "* Hiding implementation details prevents clients from depending on things that might chang\n",
    "  * Freedom from implementation evolving without breaking API compatibility\n",
    "* Prevent clients from setting an object’s variables arbitrarily\n"
   ]
  }
 ],
 "metadata": {
  "celltoolbar": "Slideshow",
  "kernelspec": {
   "display_name": "Go (gonb)",
   "language": "go",
   "name": "gonb"
  },
  "language_info": {
   "codemirror_mode": "",
   "file_extension": ".go",
   "mimetype": "",
   "name": "go",
   "nbconvert_exporter": "",
   "pygments_lexer": "",
   "version": "go1.21.1"
  },
  "latex_envs": {
   "LaTeX_envs_menu_present": true,
   "autoclose": false,
   "autocomplete": true,
   "bibliofile": "biblio.bib",
   "cite_by": "apalike",
   "current_citInitial": 1,
   "eqLabelWithNumbers": true,
   "eqNumInitial": 1,
   "hotkeys": {
    "equation": "Ctrl-E",
    "itemize": "Ctrl-I"
   },
   "labels_anchors": false,
   "latex_user_defs": false,
   "report_style_numbering": false,
   "user_envs_cfg": false
  },
  "rise": {
   "enable_chalkboard": true,
   "scroll": true
  },
  "toc": {
   "base_numbering": "6",
   "nav_menu": {},
   "number_sections": true,
   "sideBar": true,
   "skip_h1_title": false,
   "title_cell": "Table of Contents",
   "title_sidebar": "Contents",
   "toc_cell": true,
   "toc_position": {},
   "toc_section_display": true,
   "toc_window_display": false
  }
 },
 "nbformat": 4,
 "nbformat_minor": 4
}
