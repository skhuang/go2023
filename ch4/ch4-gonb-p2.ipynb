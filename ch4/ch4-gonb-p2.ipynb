{
 "cells": [
  {
   "cell_type": "markdown",
   "id": "4ca46ec8",
   "metadata": {
    "toc": true
   },
   "source": [
    "<h1>Table of Contents<span class=\"tocSkip\"></span></h1>\n",
    "<div class=\"toc\"><ul class=\"toc-item\"><li><span><a href=\"#4.-Composite-Types-(II)\" data-toc-modified-id=\"4.-Composite-Types-(II)-1\">4. Composite Types (II)</a></span><ul class=\"toc-item\"><li><span><a href=\"#4.4-Structs\" data-toc-modified-id=\"4.4-Structs-1.1\">4.4 Structs</a></span><ul class=\"toc-item\"><li><span><a href=\"#Recursive-Data-Structures\" data-toc-modified-id=\"Recursive-Data-Structures-1.1.1\">Recursive Data Structures</a></span></li><li><span><a href=\"#Struct-Literals\" data-toc-modified-id=\"Struct-Literals-1.1.2\">Struct Literals</a></span></li><li><span><a href=\"#Comparing-Structs\" data-toc-modified-id=\"Comparing-Structs-1.1.3\">Comparing Structs</a></span></li><li><span><a href=\"#Struct-Embedding-and-Anonymous-Fields\" data-toc-modified-id=\"Struct-Embedding-and-Anonymous-Fields-1.1.4\">Struct Embedding and Anonymous Fields</a></span></li></ul></li><li><span><a href=\"#4.5-JSON\" data-toc-modified-id=\"4.5-JSON-1.2\">4.5 JSON</a></span><ul class=\"toc-item\"><li><ul class=\"toc-item\"><li><span><a href=\"#github-HTTP-request\" data-toc-modified-id=\"github-HTTP-request-1.2.0.1\">github HTTP request</a></span></li><li><span><a href=\"#github-api-for-issues\" data-toc-modified-id=\"github-api-for-issues-1.2.0.2\">github api for issues</a></span></li></ul></li></ul></li><li><span><a href=\"#4.6-Text-and-HTML-Templates\" data-toc-modified-id=\"4.6-Text-and-HTML-Templates-1.3\">4.6 Text and HTML Templates</a></span></li></ul></li></ul></div>"
   ]
  },
  {
   "cell_type": "markdown",
   "id": "9ea900c1",
   "metadata": {
    "slideshow": {
     "slide_type": "slide"
    }
   },
   "source": [
    "# 4. Composite Types (II)\n",
    "*    **Structs**\n",
    "     *    Struct Literals\n",
    "     *    Comparing Structs\n",
    "     *    Struct Embedding and Anonymous Fields\n",
    "*    JSON\n",
    "*    Text and HTML Templates"
   ]
  },
  {
   "cell_type": "markdown",
   "id": "760f9550",
   "metadata": {
    "slideshow": {
     "slide_type": "slide"
    }
   },
   "source": [
    "\n",
    "## 4.4 Structs"
   ]
  },
  {
   "cell_type": "markdown",
   "id": "6a2632b5",
   "metadata": {
    "slideshow": {
     "slide_type": "fragment"
    }
   },
   "source": [
    "* A struct is an aggregate data type grouping together zero or more named values of arbitrary types as a single entity\n",
    "* Each value is called a field\n",
    "* The name of a struct field is exported if it begins with a capital letter; this is Go's main access control mechanism\n",
    "* A struct type may contain a mixture of exported and unexported fields"
   ]
  },
  {
   "cell_type": "code",
   "execution_count": 2,
   "id": "45c7e0c3",
   "metadata": {
    "slideshow": {
     "slide_type": "subslide"
    }
   },
   "outputs": [
    {
     "name": "stdout",
     "output_type": "stream",
     "text": [
      "map['\\x01':%!q(*main.Employee=&{1   {0 0 <nil>} Vice President 0 3}) '\\x02':%!q(*main.Employee=&{2   {0 0 <nil>}  0 1})]\n",
      "&{'\\x01' \"\" \"\" \"0001-01-01 00:00:00 +0000 UTC\" \"Vice President\" '\\x00' '\\x03'}\n",
      "&{'\\x02' \"\" \"\" \"0001-01-01 00:00:00 +0000 UTC\" \"\" '\\x00' '\\x01'}\n"
     ]
    }
   ],
   "source": [
    "//Employee\n",
    "import \"fmt\"\n",
    "import \"time\"\n",
    "type Employee struct {\n",
    "    ID int\n",
    "    Name string\n",
    "    Address string\n",
    "    DoB time.Time\n",
    "    Position string\n",
    "    Salary int\n",
    "    ManagerID int\n",
    "}\n",
    "func main(){\n",
    "    employeeDB := make(map[int]*Employee)\n",
    "    alan := Employee{ID:1, ManagerID: 3, Position: \"Vice President\"}\n",
    "    dilbert := Employee{ID:2, ManagerID: 1}\n",
    "    employeeDB[alan.ID] = &alan\n",
    "    employeeDB[dilbert.ID] = &dilbert\n",
    "    \n",
    "    fmt.Printf(\"%q\\n\",employeeDB)\n",
    "    for _,emp := range employeeDB {\n",
    "        fmt.Printf(\"%q\\n\",emp)\n",
    "    }\n",
    "}"
   ]
  },
  {
   "cell_type": "code",
   "execution_count": 3,
   "id": "d95390cd",
   "metadata": {
    "slideshow": {
     "slide_type": "subslide"
    }
   },
   "outputs": [
    {
     "name": "stdout",
     "output_type": "stream",
     "text": [
      "map['\\x01':%!q(*main.Employee=&{1   {0 0 <nil>} Vice President 0 3}) '\\x02':%!q(*main.Employee=&{2   {0 0 <nil>} Senior (proactive team player) -5000 1})]\n",
      "&{'\\x01' \"\" \"\" \"0001-01-01 00:00:00 +0000 UTC\" \"Vice President\" '\\x00' '\\x03'}\n",
      "&{'\\x02' \"\" \"\" \"0001-01-01 00:00:00 +0000 UTC\" \"Senior (proactive team player)\" '�' '\\x01'}\n"
     ]
    }
   ],
   "source": [
    "//Employee\n",
    "import \"fmt\"\n",
    "import \"time\"\n",
    "type Employee struct {\n",
    "    ID int\n",
    "    Name string\n",
    "    Address string\n",
    "    DoB time.Time\n",
    "    Position string\n",
    "    Salary int\n",
    "    ManagerID int\n",
    "}\n",
    "func main(){\n",
    "    employeeDB := make(map[int]*Employee)\n",
    "    alan := Employee{ID:1, ManagerID: 3, Position: \"Vice President\"}\n",
    "    dilbert := Employee{ID:2, ManagerID: 1}\n",
    "    employeeDB[alan.ID] = &alan\n",
    "    employeeDB[dilbert.ID] = &dilbert\n",
    "    dilbert.Salary -= 5000\n",
    "    position := &dilbert.Position\n",
    "    *position = \"Senior\" + *position\n",
    "    var employeeOfTheMonth *Employee = &dilbert\n",
    "    employeeOfTheMonth.Position += \" (proactive team player)\"\n",
    "//(*employeeOfTheMonth).Position += \" (proactive team player)\"\n",
    "    fmt.Printf(\"%q\\n\",employeeDB)\n",
    "    for _,emp := range employeeDB {\n",
    "        fmt.Printf(\"%q\\n\",emp)\n",
    "    }\n",
    "}"
   ]
  },
  {
   "cell_type": "code",
   "execution_count": 4,
   "id": "5b90b046",
   "metadata": {
    "slideshow": {
     "slide_type": "subslide"
    }
   },
   "outputs": [
    {
     "name": "stdout",
     "output_type": "stream",
     "text": [
      "Vice President\n"
     ]
    }
   ],
   "source": [
    "import \"fmt\"\n",
    "var employeeDB map[int]*Employee\n",
    "func EmployeeByID(id int) *Employee { return employeeDB[id]}\n",
    "\n",
    "func main() {\n",
    "    alan := Employee{ID:1, ManagerID: 3, Position: \"Vice President\"}\n",
    "    employeeDB = make(map[int]*Employee)\n",
    "    employeeDB[alan.ID] = &alan\n",
    "    dilbert := Employee{ID:2, ManagerID: 1}\n",
    "    employeeDB[dilbert.ID] = &dilbert\n",
    "    fmt.Println(EmployeeByID(dilbert.ManagerID).Position)\n",
    "    id := dilbert.ID    \n",
    "    EmployeeByID(id).Salary = 0  //dilert is fired\n",
    "}"
   ]
  },
  {
   "cell_type": "markdown",
   "id": "ab61c6aa",
   "metadata": {
    "slideshow": {
     "slide_type": "subslide"
    }
   },
   "source": [
    "### Recursive Data Structures\n",
    "* Struc type ***S*** can't declare a field of the same type ***S***\n",
    "  * aggregate value cannot containt itself\n",
    "* S may declare a field of the pointer type \\****S***\n",
    "  * create recursive data structure like lists and trees\n",
    "* Implement an insertion sort in the following"
   ]
  },
  {
   "cell_type": "code",
   "execution_count": 5,
   "id": "1827a2bd",
   "metadata": {
    "code_folding": [
     20,
     30,
     45
    ],
    "slideshow": {
     "slide_type": "subslide"
    }
   },
   "outputs": [
    {
     "name": "stdout",
     "output_type": "stream",
     "text": [
      "sorted: [0 1 1 2 3 6 7 7 8 9 9 10 10 11 12 15 15 16 16 18 19 20 20 21 21 21 22 23 23 23 24 28 30 31 32 33 34 36 37 37 37 38 39 40 41 43 44 47 48 49]"
     ]
    }
   ],
   "source": [
    "//gopl.io/ch4/treesort\n",
    "import (\"math/rand\";\"sort\";\"fmt\")  \n",
    "type tree struct {\n",
    "\tvalue       int\n",
    "\tleft, right *tree\n",
    "}\n",
    "\n",
    "// Sort sorts values in place.\n",
    "func Sort(values []int) {\n",
    "\tvar root *tree\n",
    "\tfor _, v := range values {\n",
    "\t\troot = add(root, v)\n",
    "\t}\n",
    "\tappendValues(values[:0], root) // append in the slice, the first position\n",
    "    //appendValues(values, root)     // append in the last position\n",
    "    //appendValues(values[:], root)    // append in the last position\n",
    "}\n",
    "\n",
    "// appendValues appends the elements of t to values in order\n",
    "// and returns the resulting slice.\n",
    "func appendValues(values []int, t *tree) []int {\n",
    "    //fmt.Println(values,\"len\",len(values),cap(values))\n",
    "\tif t != nil {\n",
    "\t\tvalues = appendValues(values, t.left)\n",
    "\t\tvalues = append(values, t.value)\n",
    "\t\tvalues = appendValues(values, t.right)\n",
    "\t}\n",
    "\treturn values\n",
    "}\n",
    "\n",
    "func add(t *tree, value int) *tree {\n",
    "\tif t == nil {\n",
    "\t\t// Equivalent to return &tree{value: value}.\n",
    "\t\tt = new(tree)\n",
    "\t\tt.value = value\n",
    "\t\treturn t\n",
    "\t}\n",
    "\tif value < t.value {\n",
    "\t\tt.left = add(t.left, value)\n",
    "\t} else {\n",
    "\t\tt.right = add(t.right, value)\n",
    "\t}\n",
    "\treturn t\n",
    "}\n",
    "\n",
    "func main(){\n",
    "    data := make([]int, 50)\n",
    "    for i := range data {\n",
    "        data[i] = rand.Int() % 50\n",
    "    }\n",
    "    \n",
    "\t//treesort.Sort(data)\n",
    "    Sort(data)\n",
    "//sort.Ints(data)\n",
    "    if !sort.IntsAreSorted(data) {\n",
    "\t\tfmt.Printf(\"not sorted: %v\", data)\n",
    "    } else {\n",
    "        fmt.Printf(\"sorted: %v\", data)\n",
    "    }\n",
    "}\n",
    "//!-"
   ]
  },
  {
   "cell_type": "markdown",
   "id": "401a661c",
   "metadata": {
    "slideshow": {
     "slide_type": "subslide"
    }
   },
   "source": [
    "<strike>$go get gopl.io/ch4/treesort</strike>\n",
    "```\n",
    "$go build gopl.io/ch4/treesort\n",
    "$go install gopl.io/ch4/treesort\n",
    "$go test gopl.io/ch4/treesort\n",
    "```"
   ]
  },
  {
   "cell_type": "code",
   "execution_count": 19,
   "id": "4b8b70a2",
   "metadata": {},
   "outputs": [
    {
     "name": "stdout",
     "output_type": "stream",
     "text": [
      "=== RUN   TestSort\n",
      "--- PASS: TestSort (0.00s)\n",
      "PASS\n",
      "ok  \tgopl.io/ch4/treesort\t0.285s\n"
     ]
    }
   ],
   "source": [
    "!go test gopl.io/ch4/treesort -v"
   ]
  },
  {
   "cell_type": "markdown",
   "id": "0ee99ef0",
   "metadata": {
    "slideshow": {
     "slide_type": "slide"
    }
   },
   "source": [
    "### Struct Literals"
   ]
  },
  {
   "cell_type": "markdown",
   "id": "f075fa17",
   "metadata": {
    "slideshow": {
     "slide_type": "fragment"
    }
   },
   "source": [
    "* A value of a struct type can be written using a struct literal specifying values for its fields\n",
    "* There are two forms of struct literal\n",
    "* The first form requires a value be specified for every field, in the right order\n",
    "* The second form is used, in which a struct value is initialized by listing some or all of the field names and their corresponding values\n",
    "* The two forms cannot be mixed in the same literal"
   ]
  },
  {
   "cell_type": "code",
   "execution_count": 20,
   "id": "4ef5425e",
   "metadata": {
    "slideshow": {
     "slide_type": "subslide"
    }
   },
   "outputs": [
    {
     "name": "stdout",
     "output_type": "stream",
     "text": [
      "{1 2} {1 2}"
     ]
    }
   ],
   "source": [
    "type Point struct{ X, Y int}\n",
    "func main(){\n",
    "  p := Point{1,2} // the first form\n",
    "  q := Point{X:1, Y:2} // the second form\n",
    "  fmt.Print(p,q)\n",
    "}"
   ]
  },
  {
   "cell_type": "code",
   "execution_count": 38,
   "id": "d0b074fb",
   "metadata": {
    "slideshow": {
     "slide_type": "subslide"
    }
   },
   "outputs": [
    {
     "data": {
      "text/html": [
       "\n",
       "<style>\n",
       ".gonb-err-location {\n",
       "\tbackground: var(--jp-err-color2);  \n",
       "\tborder-radius: 3px;\n",
       "\tborder-style: dotted;\n",
       "\tborder-width: 1px;\n",
       "\tborder-color: var(--jp-border-color2);\n",
       "}\n",
       ".gonb-err-location:hover {\n",
       "\tborder-width: 2px;\n",
       "\tborder-style: solid;\n",
       "\tborder-color: var(--jp-border-color2);\n",
       "}\n",
       ".gonb-err-context {\n",
       "\tdisplay: none;\n",
       "}\n",
       ".gonb-err-location:hover + .gonb-err-context {\n",
       "\tbackground: var(--jp-dialog-background);  \n",
       "\tborder-radius: 3px;\n",
       "\tborder-style: solid;\n",
       "\tborder-width: 1px;\n",
       "\tborder-color: var(--jp-border-color2);\n",
       "\tdisplay: block;\n",
       "\twhite-space: pre;\n",
       "\tfont-family: monospace;\n",
       "}\n",
       ".gonb-err-line {\n",
       "\tborder-radius: 3px;\n",
       "\tborder-style: dotted;\n",
       "\tborder-width: 1px;\t\n",
       "\tborder-color: var(--jp-border-color2);\n",
       "\tbackground-color: var(--jp-rendermime-err-background);\n",
       "\tfont-weight: bold;\n",
       "}\n",
       ".gonb-cell-line-info {\n",
       "\tbackground: var(--jp-layout-color2);\n",
       "\tcolor: #999;\n",
       "\tmargin: 0.1em;\n",
       "\tborder: 1px solid var(--jp-border-color1);\n",
       "\tpadding-left: 0.2em;\n",
       "\tpadding-right: 0.2em;\n",
       "}\n",
       "</style>\n",
       "<div class=\"lm-Widget p-Widget lm-Panel p-Panel jp-OutputArea-child\">\n",
       "<div class=\"lm-Widget p-Widget jp-RenderedText jp-mod-trusted jp-OutputArea-output\" data-mime-type=\"application/vnd.jupyter.stderr\" style=\"font-family: monospace;\">\n",
       "\n",
       "<span class=\"gonb-cell-line-info\">Cell[38]: Line 1</span>\n",
       "<span class=\"gonb-err-location\">/var/folders/4d/tg201k8x6yb81f_lrvt4440m0000gn/T/gonb_a8716c1a/main.go:3:1: </span> expected declaration, found 'package' (and 2 more errors)\n",
       "<div class=\"gonb-err-context\">\n",
       "package main\n",
       "\n",
       "<div class=\"gonb-err-line\">package p\n",
       "</div>type T struct{ a, b int} // a and b are not exported\n",
       "package main\n",
       "\n",
       "</div>\n",
       "\n",
       "<br/>\n",
       "\n",
       "</div>\n"
      ]
     },
     "metadata": {},
     "output_type": "display_data"
    },
    {
     "ename": "ERROR",
     "evalue": "in goexec.ExecuteCell(): parsing go files in TempDir \"/var/folders/4d/tg201k8x6yb81f_lrvt4440m0000gn/T/gonb_a8716c1a\": /var/folders/4d/tg201k8x6yb81f_lrvt4440m0000gn/T/gonb_a8716c1a/main.go:3:1: expected declaration, found 'package' (and 2 more errors)",
     "output_type": "error",
     "traceback": [
      "in goexec.ExecuteCell(): parsing go files in TempDir \"/var/folders/4d/tg201k8x6yb81f_lrvt4440m0000gn/T/gonb_a8716c1a\": /var/folders/4d/tg201k8x6yb81f_lrvt4440m0000gn/T/gonb_a8716c1a/main.go:3:1: expected declaration, found 'package' (and 2 more errors)"
     ]
    }
   ],
   "source": [
    "package p\n",
    "type T struct{ a, b int} // a and b are not exported\n",
    "package main\n",
    "import \"p\"\n",
    "func main(){\n",
    "var _ = T{a:1, b:2} //compile error, can't reference a  and b \n",
    "}"
   ]
  },
  {
   "cell_type": "markdown",
   "id": "b90e0716",
   "metadata": {
    "slideshow": {
     "slide_type": "slide"
    }
   },
   "source": [
    "### Comparing Structs\n",
    "* If all the fields of a struct are comparable, the struct is comparable\n",
    "* Two expressions of the comparable types may be compared using == or !!="
   ]
  },
  {
   "cell_type": "code",
   "execution_count": 63,
   "id": "70b9d0f7",
   "metadata": {
    "slideshow": {
     "slide_type": "subslide"
    }
   },
   "outputs": [
    {
     "name": "stdout",
     "output_type": "stream",
     "text": [
      "false\n",
      "false\n"
     ]
    }
   ],
   "source": [
    "//comparing two points\n",
    "type point struct{X, Y int}\n",
    "%%\n",
    "p := Point{1,2}\n",
    "q := Point{2,1}\n",
    "fmt.Println(p.X == q.X && p.Y == q.Y)\n",
    "fmt.Println(p == q)"
   ]
  },
  {
   "cell_type": "markdown",
   "id": "912be8c5",
   "metadata": {
    "slideshow": {
     "slide_type": "subslide"
    }
   },
   "source": [
    "* Comparable struct types, may be used as the key type of a map"
   ]
  },
  {
   "cell_type": "code",
   "execution_count": 64,
   "id": "4e08bca2",
   "metadata": {
    "slideshow": {
     "slide_type": "fragment"
    }
   },
   "outputs": [
    {
     "name": "stdout",
     "output_type": "stream",
     "text": [
      "map[{golang.org 443}:1 {gopl.io 80}:23]\n"
     ]
    }
   ],
   "source": [
    "//comparable struct types as map key\n",
    "type address struct {\n",
    "    hostname string\n",
    "    port     int\n",
    "}\n",
    "%%\n",
    "hits := make(map[address]int)\n",
    "hits[address{\"golang.org\",443}]++\n",
    "hits[address{\"gopl.io\",80}]+= 23\n",
    "fmt.Println(hits)"
   ]
  },
  {
   "cell_type": "markdown",
   "id": "4154bbe1",
   "metadata": {
    "slideshow": {
     "slide_type": "slide"
    }
   },
   "source": [
    "### Struct Embedding and Anonymous Fields"
   ]
  },
  {
   "cell_type": "code",
   "execution_count": 66,
   "id": "ff04378a",
   "metadata": {
    "slideshow": {
     "slide_type": "fragment"
    }
   },
   "outputs": [],
   "source": [
    "type Circle struct {\n",
    "    X,Y, Radius int\n",
    "}\n",
    "type Wheel struct {\n",
    "    X,Y, Radius, Spokes int\n",
    "}\n",
    "%%\n",
    "var w Wheel\n",
    "w.X = 8\n",
    "w.Y = 8\n",
    "w.Radius = 5\n",
    "w.Spokes = 20"
   ]
  },
  {
   "cell_type": "markdown",
   "id": "e8044d25",
   "metadata": {
    "slideshow": {
     "slide_type": "subslide"
    }
   },
   "source": [
    "* Factor out their common parts"
   ]
  },
  {
   "cell_type": "code",
   "execution_count": 68,
   "id": "14f767a9",
   "metadata": {
    "slideshow": {
     "slide_type": "fragment"
    }
   },
   "outputs": [
    {
     "name": "stdout",
     "output_type": "stream",
     "text": [
      "{{{8 8} 5} 20}\n"
     ]
    }
   ],
   "source": [
    "import \"fmt\"\n",
    "type Point struct {\n",
    "    X, Y int\n",
    "}\n",
    "type Circle struct {\n",
    "    Center Point\n",
    "    Radius int\n",
    "}\n",
    "type Wheel struct {\n",
    "    Circle Circle\n",
    "    Spokes int\n",
    "}\n",
    "%%\n",
    "var w Wheel\n",
    "w.Circle.Center.X = 8\n",
    "w.Circle.Center.Y = 8\n",
    "w.Circle.Radius = 5\n",
    "w.Spokes = 20\n",
    "fmt.Println(w)"
   ]
  },
  {
   "cell_type": "markdown",
   "id": "7128d51a",
   "metadata": {
    "slideshow": {
     "slide_type": "subslide"
    }
   },
   "source": [
    "* Declare a field with a type but no name\n",
    "* Such fields are called anonymous fields\n",
    "* Due to embedding, we can refer to the names at the leaves of the implicit tree without giving the intervening names"
   ]
  },
  {
   "cell_type": "code",
   "execution_count": 69,
   "id": "885e63e5",
   "metadata": {
    "slideshow": {
     "slide_type": "fragment"
    }
   },
   "outputs": [
    {
     "name": "stdout",
     "output_type": "stream",
     "text": [
      "{{{8 8} 5} 20}\n"
     ]
    }
   ],
   "source": [
    "//access the anonymous field\n",
    "type Circle struct {\n",
    "    Point\n",
    "    Radius int\n",
    "}\n",
    "type Wheel struct {\n",
    "    Circle \n",
    "    Spokes int\n",
    "}\n",
    "%%\n",
    "var w Wheel\n",
    "w.X = 8    //w.Circle.Point.X\n",
    "w.Y = 8    //w.Circle.Point.Y\n",
    "w.Radius = 5 //w.Circle.Radius\n",
    "w.Spokes = 20 \n",
    "fmt.Println(w)"
   ]
  },
  {
   "cell_type": "markdown",
   "id": "53e3c39a",
   "metadata": {
    "slideshow": {
     "slide_type": "subslide"
    }
   },
   "source": [
    "* There's no corresponding shorthand for the struct literal syntax"
   ]
  },
  {
   "cell_type": "code",
   "execution_count": 71,
   "id": "c5326ada",
   "metadata": {
    "slideshow": {
     "slide_type": "fragment"
    }
   },
   "outputs": [
    {
     "data": {
      "text/html": [
       "\n",
       "<style>\n",
       ".gonb-err-location {\n",
       "\tbackground: var(--jp-err-color2);  \n",
       "\tborder-radius: 3px;\n",
       "\tborder-style: dotted;\n",
       "\tborder-width: 1px;\n",
       "\tborder-color: var(--jp-border-color2);\n",
       "}\n",
       ".gonb-err-location:hover {\n",
       "\tborder-width: 2px;\n",
       "\tborder-style: solid;\n",
       "\tborder-color: var(--jp-border-color2);\n",
       "}\n",
       ".gonb-err-context {\n",
       "\tdisplay: none;\n",
       "}\n",
       ".gonb-err-location:hover + .gonb-err-context {\n",
       "\tbackground: var(--jp-dialog-background);  \n",
       "\tborder-radius: 3px;\n",
       "\tborder-style: solid;\n",
       "\tborder-width: 1px;\n",
       "\tborder-color: var(--jp-border-color2);\n",
       "\tdisplay: block;\n",
       "\twhite-space: pre;\n",
       "\tfont-family: monospace;\n",
       "}\n",
       ".gonb-err-line {\n",
       "\tborder-radius: 3px;\n",
       "\tborder-style: dotted;\n",
       "\tborder-width: 1px;\t\n",
       "\tborder-color: var(--jp-border-color2);\n",
       "\tbackground-color: var(--jp-rendermime-err-background);\n",
       "\tfont-weight: bold;\n",
       "}\n",
       ".gonb-cell-line-info {\n",
       "\tbackground: var(--jp-layout-color2);\n",
       "\tcolor: #999;\n",
       "\tmargin: 0.1em;\n",
       "\tborder: 1px solid var(--jp-border-color1);\n",
       "\tpadding-left: 0.2em;\n",
       "\tpadding-right: 0.2em;\n",
       "}\n",
       "</style>\n",
       "<div class=\"lm-Widget p-Widget lm-Panel p-Panel jp-OutputArea-child\">\n",
       "<div class=\"lm-Widget p-Widget jp-RenderedText jp-mod-trusted jp-OutputArea-output\" data-mime-type=\"application/vnd.jupyter.stderr\" style=\"font-family: monospace;\">\n",
       "\n",
       "\n",
       "<span style=\"white-space: pre;\"> # gonb_a8716c1a</span>\n",
       "\n",
       "<br/>\n",
       "\n",
       "<span class=\"gonb-cell-line-info\">Cell[71]: Line 2</span>\n",
       "<span class=\"gonb-err-location\">./main.go:198:2: </span> w declared but not used\n",
       "<div class=\"gonb-err-context\">\n",
       "\n",
       "func main() {\n",
       "\tflag.Parse()\n",
       "<div class=\"gonb-err-line\">\tw := Wheel{8,8,5,20} \n",
       "</div>\n",
       "}\n",
       "\n",
       "</div>\n",
       "\n",
       "<br/>\n",
       "\n",
       "<span class=\"gonb-cell-line-info\">Cell[71]: Line 2</span>\n",
       "<span class=\"gonb-err-location\">./main.go:198:13: </span> cannot use 8 (untyped int constant) as Circle value in struct literal\n",
       "<div class=\"gonb-err-context\">\n",
       "\n",
       "func main() {\n",
       "\tflag.Parse()\n",
       "<div class=\"gonb-err-line\">\tw := Wheel{8,8,5,20} \n",
       "</div>\n",
       "}\n",
       "\n",
       "</div>\n",
       "\n",
       "<br/>\n",
       "\n",
       "<span class=\"gonb-cell-line-info\">Cell[71]: Line 2</span>\n",
       "<span class=\"gonb-err-location\">./main.go:198:17: </span> too many values in Wheel{…}\n",
       "<div class=\"gonb-err-context\">\n",
       "\n",
       "func main() {\n",
       "\tflag.Parse()\n",
       "<div class=\"gonb-err-line\">\tw := Wheel{8,8,5,20} \n",
       "</div>\n",
       "}\n",
       "\n",
       "</div>\n",
       "\n",
       "<br/>\n",
       "\n",
       "\n",
       "<span style=\"white-space: pre;\"> </span>\n",
       "\n",
       "<br/>\n",
       "\n",
       "</div>\n"
      ]
     },
     "metadata": {},
     "output_type": "display_data"
    },
    {
     "ename": "ERROR",
     "evalue": "failed to run \"/opt/homebrew/bin/go build -o /var/folders/4d/tg201k8x6yb81f_lrvt4440m0000gn/T/gonb_a8716c1a/gonb_a8716c1a\": exit status 1",
     "output_type": "error",
     "traceback": [
      "failed to run \"/opt/homebrew/bin/go build -o /var/folders/4d/tg201k8x6yb81f_lrvt4440m0000gn/T/gonb_a8716c1a/gonb_a8716c1a\": exit status 1"
     ]
    }
   ],
   "source": [
    "%%\n",
    "w := Wheel{8,8,5,20} "
   ]
  },
  {
   "cell_type": "code",
   "execution_count": 72,
   "id": "cb7416c6",
   "metadata": {
    "slideshow": {
     "slide_type": "fragment"
    }
   },
   "outputs": [
    {
     "data": {
      "text/html": [
       "\n",
       "<style>\n",
       ".gonb-err-location {\n",
       "\tbackground: var(--jp-err-color2);  \n",
       "\tborder-radius: 3px;\n",
       "\tborder-style: dotted;\n",
       "\tborder-width: 1px;\n",
       "\tborder-color: var(--jp-border-color2);\n",
       "}\n",
       ".gonb-err-location:hover {\n",
       "\tborder-width: 2px;\n",
       "\tborder-style: solid;\n",
       "\tborder-color: var(--jp-border-color2);\n",
       "}\n",
       ".gonb-err-context {\n",
       "\tdisplay: none;\n",
       "}\n",
       ".gonb-err-location:hover + .gonb-err-context {\n",
       "\tbackground: var(--jp-dialog-background);  \n",
       "\tborder-radius: 3px;\n",
       "\tborder-style: solid;\n",
       "\tborder-width: 1px;\n",
       "\tborder-color: var(--jp-border-color2);\n",
       "\tdisplay: block;\n",
       "\twhite-space: pre;\n",
       "\tfont-family: monospace;\n",
       "}\n",
       ".gonb-err-line {\n",
       "\tborder-radius: 3px;\n",
       "\tborder-style: dotted;\n",
       "\tborder-width: 1px;\t\n",
       "\tborder-color: var(--jp-border-color2);\n",
       "\tbackground-color: var(--jp-rendermime-err-background);\n",
       "\tfont-weight: bold;\n",
       "}\n",
       ".gonb-cell-line-info {\n",
       "\tbackground: var(--jp-layout-color2);\n",
       "\tcolor: #999;\n",
       "\tmargin: 0.1em;\n",
       "\tborder: 1px solid var(--jp-border-color1);\n",
       "\tpadding-left: 0.2em;\n",
       "\tpadding-right: 0.2em;\n",
       "}\n",
       "</style>\n",
       "<div class=\"lm-Widget p-Widget lm-Panel p-Panel jp-OutputArea-child\">\n",
       "<div class=\"lm-Widget p-Widget jp-RenderedText jp-mod-trusted jp-OutputArea-output\" data-mime-type=\"application/vnd.jupyter.stderr\" style=\"font-family: monospace;\">\n",
       "\n",
       "\n",
       "<span style=\"white-space: pre;\"> # gonb_a8716c1a</span>\n",
       "\n",
       "<br/>\n",
       "\n",
       "<span class=\"gonb-cell-line-info\">Cell[72]: Line 2</span>\n",
       "<span class=\"gonb-err-location\">./main.go:198:2: </span> w declared but not used\n",
       "<div class=\"gonb-err-context\">\n",
       "\n",
       "func main() {\n",
       "\tflag.Parse()\n",
       "<div class=\"gonb-err-line\">\tw := Wheel{X:8, Y:8, Radius: 5, Spokes: 20}\n",
       "</div>\n",
       "}\n",
       "\n",
       "</div>\n",
       "\n",
       "<br/>\n",
       "\n",
       "<span class=\"gonb-cell-line-info\">Cell[72]: Line 2</span>\n",
       "<span class=\"gonb-err-location\">./main.go:198:13: </span> unknown field 'X' in struct literal of type Wheel\n",
       "<div class=\"gonb-err-context\">\n",
       "\n",
       "func main() {\n",
       "\tflag.Parse()\n",
       "<div class=\"gonb-err-line\">\tw := Wheel{X:8, Y:8, Radius: 5, Spokes: 20}\n",
       "</div>\n",
       "}\n",
       "\n",
       "</div>\n",
       "\n",
       "<br/>\n",
       "\n",
       "<span class=\"gonb-cell-line-info\">Cell[72]: Line 2</span>\n",
       "<span class=\"gonb-err-location\">./main.go:198:18: </span> unknown field 'Y' in struct literal of type Wheel\n",
       "<div class=\"gonb-err-context\">\n",
       "\n",
       "func main() {\n",
       "\tflag.Parse()\n",
       "<div class=\"gonb-err-line\">\tw := Wheel{X:8, Y:8, Radius: 5, Spokes: 20}\n",
       "</div>\n",
       "}\n",
       "\n",
       "</div>\n",
       "\n",
       "<br/>\n",
       "\n",
       "<span class=\"gonb-cell-line-info\">Cell[72]: Line 2</span>\n",
       "<span class=\"gonb-err-location\">./main.go:198:23: </span> unknown field 'Radius' in struct literal of type Wheel\n",
       "<div class=\"gonb-err-context\">\n",
       "\n",
       "func main() {\n",
       "\tflag.Parse()\n",
       "<div class=\"gonb-err-line\">\tw := Wheel{X:8, Y:8, Radius: 5, Spokes: 20}\n",
       "</div>\n",
       "}\n",
       "\n",
       "</div>\n",
       "\n",
       "<br/>\n",
       "\n",
       "\n",
       "<span style=\"white-space: pre;\"> </span>\n",
       "\n",
       "<br/>\n",
       "\n",
       "</div>\n"
      ]
     },
     "metadata": {},
     "output_type": "display_data"
    },
    {
     "ename": "ERROR",
     "evalue": "failed to run \"/opt/homebrew/bin/go build -o /var/folders/4d/tg201k8x6yb81f_lrvt4440m0000gn/T/gonb_a8716c1a/gonb_a8716c1a\": exit status 1",
     "output_type": "error",
     "traceback": [
      "failed to run \"/opt/homebrew/bin/go build -o /var/folders/4d/tg201k8x6yb81f_lrvt4440m0000gn/T/gonb_a8716c1a/gonb_a8716c1a\": exit status 1"
     ]
    }
   ],
   "source": [
    "%%\n",
    "w := Wheel{X:8, Y:8, Radius: 5, Spokes: 20}"
   ]
  },
  {
   "cell_type": "code",
   "execution_count": 73,
   "id": "bc1a561d",
   "metadata": {
    "slideshow": {
     "slide_type": "subslide"
    }
   },
   "outputs": [
    {
     "name": "stdout",
     "output_type": "stream",
     "text": [
      "{Circle:{Point:{X:8 Y:8} Radius:5} Spokes:20}\n",
      "main.Wheel{Circle:main.Circle{Point:main.Point{X:42, Y:8}, Radius:5}, Spokes:20}\n",
      "{Circle:{Point:{X:42 Y:8} Radius:5} Spokes:20}\n"
     ]
    }
   ],
   "source": [
    "//Anonymous Fields\n",
    "type Point struct {\n",
    "    X, Y int\n",
    "}\n",
    "type Circle struct {\n",
    "    Point\n",
    "    Radius int\n",
    "}\n",
    "type Wheel struct {\n",
    "    Circle \n",
    "    Spokes int\n",
    "}\n",
    "%%\n",
    "var w Wheel\n",
    "w = Wheel{Circle{Point{8, 8}, 5}, 20}\n",
    "\n",
    "w = Wheel{\n",
    "\t\tCircle: Circle{\n",
    "\t\t\tPoint:  Point{X: 8, Y: 8},\n",
    "\t\t\tRadius: 5,\n",
    "\t\t},\n",
    "\t\tSpokes: 20, // NOTE: trailing comma necessary here (and at Radius)\n",
    "}\n",
    "\n",
    "//fmt.Printf(\"%#v\\n\", w)\n",
    "//%v\tthe value in a default format\n",
    "//\twhen printing structs, the plus flag (%+v) adds field names\n",
    "//%#v\ta Go-syntax representation of the value\n",
    "fmt.Printf(\"%+v\\n\",w)\n",
    "\t// Output:\n",
    "\t// Wheel{Circle:Circle{Point:Point{X:8, Y:8}, Radius:5}, Spokes:20}\n",
    "\n",
    "w.X = 42\n",
    "\n",
    "fmt.Printf(\"%#v\\n\", w)\n",
    "fmt.Printf(\"%+v\\n\", w)\n",
    "\t// Output:\n",
    "\t// Wheel{Circle:Circle{Point:Point{X:42, Y:8}, Radius:5}, Spokes:20}\n",
    "\t//!-"
   ]
  },
  {
   "cell_type": "markdown",
   "id": "d0f4b9b7",
   "metadata": {
    "slideshow": {
     "slide_type": "slide"
    }
   },
   "source": [
    "## 4.5 JSON\n",
    "* JavaScript Object Notation (JSON) is a standard notation for sending and receiving structured information\n",
    "* Other similar notation: XML, ASN.1, and Google's Protocol Buffers\n",
    "* API: encoding/json, encoding/xml, encoding/asn1\n",
    "* basic JSON types are numbers(decimal or scientific notation), booleans(true, false), and strings (sequene of Unicode code points)\n",
    "* basic JSON types can be combined recursively using JSON arrays and objects\n",
    "* JSON array is an ordered sequence of values, written as a comma-separated list enclosed in square brackets\n",
    "* JSON array are used to encode Go arrays and slices\n",
    "* JSON object is a mapping from strings to values, written as a sequence of name:value pairs separated by commas and surrounded by braces\n",
    "* JSON objects are used to encode GO maps and structs\n",
    "\n",
    "Example\n",
    "\n",
    "type   |value\n",
    "-------|-----------------------------------\n",
    "boolean|true\n",
    "number | -273.15\n",
    "string |\"She said \\\"Hello, 世界\\\"\"\n",
    "array  | [\"gold\", \"silver\", \"bronze\"]\n",
    "object |{\"year\": 1980,<br>\"event\": \"archery\",<br>\"medals\":[\"gold\",\"silver\",\"brone\"]} "
   ]
  },
  {
   "cell_type": "markdown",
   "id": "0b9c7e41",
   "metadata": {
    "slideshow": {
     "slide_type": "subslide"
    }
   },
   "source": [
    "* Gather movie reviews and offer recommendations\n",
    "* String literals after the Year and Color field are field tags"
   ]
  },
  {
   "cell_type": "code",
   "execution_count": 40,
   "id": "fcca7554",
   "metadata": {
    "slideshow": {
     "slide_type": "fragment"
    }
   },
   "outputs": [],
   "source": [
    "//gopl.pl/ch4/movie\n",
    "import (\"encoding/json\";\"fmt\";\"log\")\n",
    "\n",
    "type Movie struct {\n",
    "\tTitle  string\n",
    "\tYear   int  `json:\"released\"`\n",
    "\tColor  bool `json:\"color,omitempty\"`\n",
    "\tActors []string\n",
    "}\n",
    "\n",
    "var movies = []Movie{\n",
    "\t{Title: \"Casablanca\", Year: 1942, Color: false,\n",
    "\t\tActors: []string{\"Humphrey Bogart\", \"Ingrid Bergman\"}},\n",
    "\t{Title: \"Cool Hand Luke\", Year: 1967, Color: true,\n",
    "\t\tActors: []string{\"Paul Newman\"}},\n",
    "\t{Title: \"Bullitt\", Year: 1968, Color: true,\n",
    "\t\tActors: []string{\"Steve McQueen\", \"Jacqueline Bisset\"}},\n",
    "\t// ...\n",
    "}"
   ]
  },
  {
   "cell_type": "code",
   "execution_count": 41,
   "id": "4af445fb",
   "metadata": {
    "slideshow": {
     "slide_type": "fragment"
    }
   },
   "outputs": [
    {
     "name": "stdout",
     "output_type": "stream",
     "text": [
      "[{\"Title\":\"Casablanca\",\"released\":1942,\"Actors\":[\"Humphrey Bogart\",\"Ingrid Bergman\"]},{\"Title\":\"Cool Hand Luke\",\"released\":1967,\"color\":true,\"Actors\":[\"Paul Newman\"]},{\"Title\":\"Bullitt\",\"released\":1968,\"color\":true,\"Actors\":[\"Steve McQueen\",\"Jacqueline Bisset\"]}]\n"
     ]
    }
   ],
   "source": [
    "func main(){\t\t//!+Marshal\n",
    "\t\tdata, err := json.Marshal(movies)\n",
    "\t\tif err != nil {\n",
    "\t\t\tlog.Fatalf(\"JSON marshaling failed: %s\", err)\n",
    "\t\t}\n",
    "\t\tfmt.Printf(\"%s\\n\", data)\n",
    "}\t\t//!-Ma"
   ]
  },
  {
   "cell_type": "markdown",
   "id": "424a2997",
   "metadata": {
    "slideshow": {
     "slide_type": "subslide"
    }
   },
   "source": [
    "* json.MarshalIndent produces neatly indented output\n",
    "* two arguments: \n",
    "  * a prefix for each line of output \n",
    "  * a string for each level of indentation"
   ]
  },
  {
   "cell_type": "code",
   "execution_count": 42,
   "id": "cd7e64cf",
   "metadata": {
    "slideshow": {
     "slide_type": "subslide"
    }
   },
   "outputs": [
    {
     "name": "stdout",
     "output_type": "stream",
     "text": [
      "[\n",
      "    {\n",
      "        \"Title\": \"Casablanca\",\n",
      "        \"released\": 1942,\n",
      "        \"Actors\": [\n",
      "            \"Humphrey Bogart\",\n",
      "            \"Ingrid Bergman\"\n",
      "        ]\n",
      "    },\n",
      "    {\n",
      "        \"Title\": \"Cool Hand Luke\",\n",
      "        \"released\": 1967,\n",
      "        \"color\": true,\n",
      "        \"Actors\": [\n",
      "            \"Paul Newman\"\n",
      "        ]\n",
      "    },\n",
      "    {\n",
      "        \"Title\": \"Bullitt\",\n",
      "        \"released\": 1968,\n",
      "        \"color\": true,\n",
      "        \"Actors\": [\n",
      "            \"Steve McQueen\",\n",
      "            \"Jacqueline Bisset\"\n",
      "        ]\n",
      "    }\n",
      "]\n",
      "[{Casablanca 1942 false [Humphrey Bogart Ingrid Bergman]} {Cool Hand Luke 1967 true [Paul Newman]} {Bullitt 1968 true [Steve McQueen Jacqueline Bisset]}]\n"
     ]
    }
   ],
   "source": [
    "//MarshalIndent\t\n",
    "func main (){\n",
    "\t\t//!+MarshalIndent\n",
    "\t\tdata, err := json.MarshalIndent(movies, \"\", \"    \")\n",
    "\t\tif err != nil {\n",
    "\t\t\tlog.Fatalf(\"JSON marshaling failed: %s\", err)\n",
    "\t\t}\n",
    "\t\tfmt.Printf(\"%s\\n\", data)\n",
    "\t\t//!-MarshalIndent\n",
    "\n",
    "\t\t//!+Unmarshal\n",
    "\t\tvar titles []struct{ Title string \n",
    "                            Year   int  `json:\"released\"`\n",
    "                            Color  bool `json:\"color,omitempty\"`\n",
    "                             Actors []string\n",
    "                           }\n",
    "\t\tif err := json.Unmarshal(data, &titles); err != nil {\n",
    "\t\t\tlog.Fatalf(\"JSON unmarshaling failed: %s\", err)\n",
    "\t\t}\n",
    "\t\tfmt.Println(titles) // \"[{Casablanca} {Cool Hand Luke} {Bullitt}]\"\n",
    "\t\t//!-Unmarshal\n",
    "}"
   ]
  },
  {
   "cell_type": "markdown",
   "id": "2d8bcd5f",
   "metadata": {
    "slideshow": {
     "slide_type": "subslide"
    }
   },
   "source": [
    "#### github HTTP request \n",
    "* decode the result as JSON\n",
    "* url.QueryEscape to escape \\? and \\&"
   ]
  },
  {
   "cell_type": "code",
   "execution_count": 22,
   "id": "a73cb251",
   "metadata": {
    "slideshow": {
     "slide_type": "fragment"
    }
   },
   "outputs": [],
   "source": [
    "//gopl.io/ch4/github\n",
    "import \"time\"\n",
    "\n",
    "const IssuesURL = \"https://api.github.com/search/issues\"\n",
    "\n",
    "type IssuesSearchResult struct {\n",
    "\tTotalCount int `json:\"total_count\"`\n",
    "\tItems      []*Issue\n",
    "}\n",
    "\n",
    "type Issue struct {\n",
    "\tNumber    int\n",
    "\tHTMLURL   string `json:\"html_url\"`\n",
    "\tTitle     string\n",
    "\tState     string\n",
    "\tUser      *User\n",
    "\tCreatedAt time.Time `json:\"created_at\"`\n",
    "\tBody      string    // in Markdown format\n",
    "}\n",
    "\n",
    "type User struct {\n",
    "\tLogin   string\n",
    "\tHTMLURL string `json:\"html_url\"`\n",
    "}\n"
   ]
  },
  {
   "cell_type": "markdown",
   "id": "e9ab831d",
   "metadata": {
    "slideshow": {
     "slide_type": "subslide"
    }
   },
   "source": [
    "#### github api for issues\n",
    "* [github issue api](https://api.github.com/search/issues?q=repo:golang/go%20is:open%20json%20decoder)\n",
    "* struct fields are capitalized for public access even if JSON names are not\n",
    "* matching process with JSON names and Go struct names is case-insensitive"
   ]
  },
  {
   "cell_type": "code",
   "execution_count": 24,
   "id": "b517f486",
   "metadata": {
    "slideshow": {
     "slide_type": "fragment"
    }
   },
   "outputs": [],
   "source": [
    "import (\"encoding/json\";\"fmt\";\"net/http\";\"net/url\";\"strings\")\n",
    "\n",
    "// SearchIssues queries the GitHub issue tracker.\n",
    "func SearchIssues(terms []string) (*IssuesSearchResult, error) {\n",
    "\tq := url.QueryEscape(strings.Join(terms, \" \"))\n",
    "\tresp, err := http.Get(IssuesURL + \"?q=\" + q)\n",
    "\tif err != nil {\n",
    "\t\treturn nil, err\n",
    "\t}\n",
    "\tif resp.StatusCode != http.StatusOK {\n",
    "\t\tresp.Body.Close()\n",
    "\t\treturn nil, fmt.Errorf(\"search query failed: %s\", resp.Status)\n",
    "\t}\n",
    "    //fmt.Println(resp.Body)\n",
    "    fmt.Printf(\"%q\",resp.Body)\n",
    "\tvar result IssuesSearchResult\n",
    "\tif err := json.NewDecoder(resp.Body).Decode(&result); err != nil {\n",
    "\t\tresp.Body.Close()\n",
    "\t\treturn nil, err\n",
    "\t}\n",
    "\tresp.Body.Close()\n",
    "\treturn &result, nil\n",
    "}"
   ]
  },
  {
   "cell_type": "code",
   "execution_count": 25,
   "id": "6189351d",
   "metadata": {
    "slideshow": {
     "slide_type": "subslide"
    }
   },
   "outputs": [
    {
     "name": "stdout",
     "output_type": "stream",
     "text": [
      "86 issues:\n",
      "#48298     dsnet encoding/json: add Decoder.DisallowDuplicateFields\n",
      "#11046     kurin encoding/json: Decoder internally buffers full input\n",
      "#36225     dsnet encoding/json: the Decoder.Decode API lends itself to m\n",
      "#56733 rolandsho encoding/json: add (*Decoder).SetLimit\n",
      "#61627    nabice x/tools/gopls: The rename command line may accept ident\n",
      "#40128  rogpeppe proposal: encoding/json: garbage-free reading of tokens\n",
      "#29035    jaswdr proposal: encoding/json: add error var to compare  the \n",
      "#41144 alvaroale encoding/json: Unmarshaler breaks DisallowUnknownFields\n",
      "#5901        rsc encoding/json: allow per-Encoder/per-Decoder registrati\n",
      "#42571     dsnet encoding/json: clarify Decoder.InputOffset semantics\n",
      "#40127  rogpeppe encoding/json: add Encoder.EncodeToken method\n",
      "#14750 cyberphon encoding/json: parser ignores the case of member names\n",
      "#43716 ggaaooppe encoding/json: increment byte counter when using decode\n",
      "#34543  maxatome encoding/json: Unmarshal & json.(*Decoder).Token report\n",
      "#59053   joerdav proposal: encoding/json: add a generic Decode function\n",
      "#32779       rsc encoding/json: memoize strings during decode\n",
      "#48950 Alexander encoding/json: calculate correct SyntaxError.Offset in \n",
      "#31701    lr1980 encoding/json: second decode after error impossible\n",
      "#6647    btracey x/tools/cmd/godoc: display type kind of each named type\n",
      "#33714    flimzy proposal: encoding/json: Opt-in for true streaming supp\n",
      "#7872  extempora encoding/json: Encoder internally buffers full output\n",
      "#40982   Segflow encoding/json: use different error type for unknown fie\n",
      "#43513 Alexander encoding/json: add line number to SyntaxError\n",
      "#16212 josharian encoding/json: do all reflect work before decoding\n",
      "#22533      ibrt proposal: encoding/json: preserve unknown fields\n",
      "#56332    gansvv encoding/json: clearer error message for boolean like p\n",
      "#22480     blixt proposal: encoding/json: add omitnil option\n",
      "#34564  mdempsky go/internal/gcimporter: single source of truth for deco\n",
      "#33854     Qhesz encoding/json: unmarshal option to treat omitted fields\n",
      "#58649 nabokihms encoding/json: show nested fields path if DisallowUnkno\n"
     ]
    }
   ],
   "source": [
    "import (\"fmt\";\"log\";\"os\";\"gopl.io/ch4/github\")\n",
    "%args repo:golang/go is:open json decoder\n",
    "func main() {\n",
    "\tresult, err := github.SearchIssues(os.Args[1:])\n",
    "    //t := []string{\"repo:golang/go\",\"is:open\",\"json\",\"decoder\"}\n",
    "    //result, err := github.SearchIssues(t)\n",
    "    //result, err := SearchIssues(t) \n",
    "\tif err != nil {\n",
    "\t\tlog.Fatal(err)\n",
    "\t}\n",
    "\tfmt.Printf(\"%d issues:\\n\", result.TotalCount)\n",
    "\tfor _, item := range result.Items {\n",
    "\t\tfmt.Printf(\"#%-5d %9.9s %.55s\\n\",\n",
    "\t\t\titem.Number, item.User.Login, item.Title)\n",
    "\t}\n",
    "}"
   ]
  },
  {
   "cell_type": "markdown",
   "id": "5ae2f03a",
   "metadata": {
    "slideshow": {
     "slide_type": "slide"
    }
   },
   "source": [
    "## 4.6 Text and HTML Templates\n",
    "* the simplest formatting: Printf\n",
    "* separate the format from the code \n",
    "* **text/template** and **html/template** packages provide a mechanism for substituting the values of variables into a text or HTML template "
   ]
  },
  {
   "cell_type": "markdown",
   "id": "7c070468",
   "metadata": {
    "slideshow": {
     "slide_type": "subslide"
    }
   },
   "source": [
    "* template is a string or file containing one or more portions enclosed in double braces, {{...}}, called actions\n",
    "* Each action contains an expression in the template language\n",
    "  * Printing values\n",
    "  * Selecting struct fields\n",
    "  * Calling functions and methods\n",
    "  * Control flow such as if-else, range, and instantiating other templates"
   ]
  },
  {
   "cell_type": "code",
   "execution_count": 27,
   "id": "ac9652b5",
   "metadata": {
    "slideshow": {
     "slide_type": "fragment"
    }
   },
   "outputs": [
    {
     "name": "stdout",
     "output_type": "stream",
     "text": [
      "{{.TotalCount}} issues:\n",
      "{{range .Items}}----------------------------------------\n",
      "Number: {{.Number}}\n",
      "User:   {{.User.Login}}\n",
      "Title:  {{.Title | printf \"%.64s\"}}\n",
      "Age:    {{.CreatedAt | daysAgo}} days\n",
      "{{end}}\n"
     ]
    }
   ],
   "source": [
    "// template\n",
    "import \"fmt\"\n",
    "const templ = `{{.TotalCount}} issues:\n",
    "{{range .Items}}----------------------------------------\n",
    "Number: {{.Number}}\n",
    "User:   {{.User.Login}}\n",
    "Title:  {{.Title | printf \"%.64s\"}}\n",
    "Age:    {{.CreatedAt | daysAgo}} days\n",
    "{{end}}`\n",
    "%%\n",
    "fmt.Println(templ)"
   ]
  },
  {
   "cell_type": "code",
   "execution_count": 28,
   "id": "a2f385c4",
   "metadata": {
    "slideshow": {
     "slide_type": "fragment"
    }
   },
   "outputs": [
    {
     "name": "stdout",
     "output_type": "stream",
     "text": [
      "&{\"report\" %!q(*parse.Tree=&{report report 0x14000100d50 0 {{.TotalCount}} issues:\n",
      "{{range .Items}}----------------------------------------\n",
      "Number: {{.Number}}\n",
      "User:   {{.User.Login}}\n",
      "Title:  {{.Title | printf \"%.64s\"}}\n",
      "Age:    {{.CreatedAt | daysAgo}} days\n",
      "{{end}} [] <nil> [{8 206  7} {11 24 {{ 2} {0 0  0}] 1 [] map[] 0 0}) %!q(*template.common=&{map[report:0x140001261c0] {{0 0} 0 0 0 0} {0} {{0 0} 0 0 0 0} map[daysAgo:0x1003b2d50] map[daysAgo:{0x100420340 0x10044cd08 19}]}) \"\" \"\"}\n"
     ]
    }
   ],
   "source": [
    "//Parse the template into a suitable internal represntation\n",
    "import (\"time\";\"text/template\";\"os\")\n",
    "func daysAgo(t time.Time) int {\n",
    "    return int(time.Since(t).Hours()/24)\n",
    "}\n",
    "%%\n",
    "report, err := template.New(\"report\").\n",
    "   Funcs(template.FuncMap{\"daysAgo\": daysAgo}).\n",
    "   Parse(templ)\n",
    "if (err != nil) {\n",
    "    fmt.Fprintln(os.Stderr,\"error\")\n",
    "} else {\n",
    "    fmt.Printf(\"%q\\n\",report)\n",
    "}"
   ]
  },
  {
   "cell_type": "code",
   "execution_count": 29,
   "id": "dd2031b1",
   "metadata": {
    "slideshow": {
     "slide_type": "subslide"
    }
   },
   "outputs": [
    {
     "name": "stdout",
     "output_type": "stream",
     "text": [
      "&{86 [0x140001fc0e0 0x140001fc150 0x140001fc1c0 0x140001fc230 0x140001fc2a0 0x140001fc310 0x140001fc380 0x140001fc3f0 0x140001fc460 0x140001fc540 0x140001fc5b0 0x140001fc620 0x140001fc690 0x140001fc700 0x140001fc770 0x140001fc7e0 0x140001fc850 0x140001fc8c0 0x140001fc930 0x140001fc9a0 0x140001fca10 0x140001fca80 0x140001fcaf0 0x140001fcb60 0x140001fcbd0 0x140001fcc40 0x140001fccb0 0x140001fcd20 0x140001fcd90 0x140001fce00]}\n",
      "86 issues:\n",
      "----------------------------------------\n",
      "Number: 48298\n",
      "User:   dsnet\n",
      "Title:  encoding/json: add Decoder.DisallowDuplicateFields\n",
      "Age:    769 days\n",
      "----------------------------------------\n",
      "Number: 11046\n",
      "User:   kurin\n",
      "Title:  encoding/json: Decoder internally buffers full input\n",
      "Age:    3059 days\n",
      "----------------------------------------\n",
      "Number: 36225\n",
      "User:   dsnet\n",
      "Title:  encoding/json: the Decoder.Decode API lends itself to misuse\n",
      "Age:    1399 days\n",
      "----------------------------------------\n",
      "Number: 56733\n",
      "User:   rolandshoemaker\n",
      "Title:  encoding/json: add (*Decoder).SetLimit\n",
      "Age:    338 days\n",
      "----------------------------------------\n",
      "Number: 61627\n",
      "User:   nabice\n",
      "Title:  x/tools/gopls: The rename command line may accept identifiers in\n",
      "Age:    82 days\n",
      "----------------------------------------\n",
      "Number: 40128\n",
      "User:   rogpeppe\n",
      "Title:  proposal: encoding/json: garbage-free reading of tokens\n",
      "Age:    1196 days\n",
      "----------------------------------------\n",
      "Number: 29035\n",
      "User:   jaswdr\n",
      "Title:  proposal: encoding/json: add error var to compare  the returned \n",
      "Age:    1783 days\n",
      "----------------------------------------\n",
      "Number: 41144\n",
      "User:   alvaroaleman\n",
      "Title:  encoding/json: Unmarshaler breaks DisallowUnknownFields\n",
      "Age:    1143 days\n",
      "----------------------------------------\n",
      "Number: 5901\n",
      "User:   rsc\n",
      "Title:  encoding/json: allow per-Encoder/per-Decoder registration of mar\n",
      "Age:    3745 days\n",
      "----------------------------------------\n",
      "Number: 42571\n",
      "User:   dsnet\n",
      "Title:  encoding/json: clarify Decoder.InputOffset semantics\n",
      "Age:    1070 days\n",
      "----------------------------------------\n",
      "Number: 40127\n",
      "User:   rogpeppe\n",
      "Title:  encoding/json: add Encoder.EncodeToken method\n",
      "Age:    1196 days\n",
      "----------------------------------------\n",
      "Number: 14750\n",
      "User:   cyberphone\n",
      "Title:  encoding/json: parser ignores the case of member names\n",
      "Age:    2778 days\n",
      "----------------------------------------\n",
      "Number: 43716\n",
      "User:   ggaaooppeenngg\n",
      "Title:  encoding/json: increment byte counter when using decoder.Token\n",
      "Age:    1006 days\n",
      "----------------------------------------\n",
      "Number: 34543\n",
      "User:   maxatome\n",
      "Title:  encoding/json: Unmarshal & json.(*Decoder).Token report differen\n",
      "Age:    1484 days\n",
      "----------------------------------------\n",
      "Number: 59053\n",
      "User:   joerdav\n",
      "Title:  proposal: encoding/json: add a generic Decode function\n",
      "Age:    217 days\n",
      "----------------------------------------\n",
      "Number: 32779\n",
      "User:   rsc\n",
      "Title:  encoding/json: memoize strings during decode\n",
      "Age:    1576 days\n",
      "----------------------------------------\n",
      "Number: 48950\n",
      "User:   AlexanderYastrebov\n",
      "Title:  encoding/json: calculate correct SyntaxError.Offset in the strea\n",
      "Age:    735 days\n",
      "----------------------------------------\n",
      "Number: 31701\n",
      "User:   lr1980\n",
      "Title:  encoding/json: second decode after error impossible\n",
      "Age:    1636 days\n",
      "----------------------------------------\n",
      "Number: 6647\n",
      "User:   btracey\n",
      "Title:  x/tools/cmd/godoc: display type kind of each named type\n",
      "Age:    3647 days\n",
      "----------------------------------------\n",
      "Number: 33714\n",
      "User:   flimzy\n",
      "Title:  proposal: encoding/json: Opt-in for true streaming support\n",
      "Age:    1521 days\n",
      "----------------------------------------\n",
      "Number: 7872\n",
      "User:   extemporalgenome\n",
      "Title:  encoding/json: Encoder internally buffers full output\n",
      "Age:    3462 days\n",
      "----------------------------------------\n",
      "Number: 40982\n",
      "User:   Segflow\n",
      "Title:  encoding/json: use different error type for unknown field if the\n",
      "Age:    1152 days\n",
      "----------------------------------------\n",
      "Number: 43513\n",
      "User:   AlexanderYastrebov\n",
      "Title:  encoding/json: add line number to SyntaxError\n",
      "Age:    1016 days\n",
      "----------------------------------------\n",
      "Number: 16212\n",
      "User:   josharian\n",
      "Title:  encoding/json: do all reflect work before decoding\n",
      "Age:    2667 days\n",
      "----------------------------------------\n",
      "Number: 22533\n",
      "User:   ibrt\n",
      "Title:  proposal: encoding/json: preserve unknown fields\n",
      "Age:    2177 days\n",
      "----------------------------------------\n",
      "Number: 56332\n",
      "User:   gansvv\n",
      "Title:  encoding/json: clearer error message for boolean like prefix in \n",
      "Age:    364 days\n",
      "----------------------------------------\n",
      "Number: 22480\n",
      "User:   blixt\n",
      "Title:  proposal: encoding/json: add omitnil option\n",
      "Age:    2181 days\n",
      "----------------------------------------\n",
      "Number: 33854\n",
      "User:   Qhesz\n",
      "Title:  encoding/json: unmarshal option to treat omitted fields as null\n",
      "Age:    1514 days\n",
      "----------------------------------------\n",
      "Number: 34564\n",
      "User:   mdempsky\n",
      "Title:  go/internal/gcimporter: single source of truth for decoder logic\n",
      "Age:    1483 days\n",
      "----------------------------------------\n",
      "Number: 58649\n",
      "User:   nabokihms\n",
      "Title:  encoding/json: show nested fields path if DisallowUnknownFields \n",
      "Age:    238 days\n"
     ]
    }
   ],
   "source": [
    "// Template fixed at compile time and template.Must handle the error condition\n",
    "import (\"log\";\"os\";\"text/template\";\"time\";\"gopl.io/ch4/github\")\n",
    "const templ = `{{.TotalCount}} issues:\n",
    "{{range .Items}}----------------------------------------\n",
    "Number: {{.Number}}\n",
    "User:   {{.User.Login}}\n",
    "Title:  {{.Title | printf \"%.64s\"}}\n",
    "Age:    {{.CreatedAt | daysAgo}} days\n",
    "{{end}}`\n",
    "\n",
    "func daysAgo(t time.Time) int {\n",
    "\treturn int(time.Since(t).Hours() / 24)\n",
    "}\n",
    "\n",
    "var report = template.Must(template.New(\"issuelist\").\n",
    "\tFuncs(template.FuncMap{\"daysAgo\": daysAgo}).\n",
    "\tParse(templ))\n",
    "\n",
    "%args repo:golang/go is:open json decoder  \n",
    "func main() {\n",
    "\tresult, err := github.SearchIssues(os.Args[1:])\n",
    "    //result, err := SearchIssues(os.Args[1:])\n",
    "\tif err != nil {\n",
    "\t\tlog.Fatal(err)\n",
    "\t}\n",
    "    fmt.Printf(\"%v\\n\",result)\n",
    "\tif err := report.Execute(os.Stdout, result); err != nil {\n",
    "\t\tlog.Fatal(err)\n",
    "\t}\n",
    "}\n"
   ]
  },
  {
   "cell_type": "code",
   "execution_count": 30,
   "id": "11fbdd5c",
   "metadata": {
    "slideshow": {
     "slide_type": "subslide"
    }
   },
   "outputs": [
    {
     "name": "stdout",
     "output_type": "stream",
     "text": [
      "86 issues:\n",
      "----------------------------------------\n",
      "Number: 48298\n",
      "User:   dsnet\n",
      "Title:  encoding/json: add Decoder.DisallowDuplicateFields\n",
      "Age:    769 days\n",
      "----------------------------------------\n",
      "Number: 11046\n",
      "User:   kurin\n",
      "Title:  encoding/json: Decoder internally buffers full input\n",
      "Age:    3059 days\n",
      "----------------------------------------\n",
      "Number: 36225\n",
      "User:   dsnet\n",
      "Title:  encoding/json: the Decoder.Decode API lends itself to misuse\n",
      "Age:    1399 days\n",
      "----------------------------------------\n",
      "Number: 56733\n",
      "User:   rolandshoemaker\n",
      "Title:  encoding/json: add (*Decoder).SetLimit\n",
      "Age:    338 days\n",
      "----------------------------------------\n",
      "Number: 61627\n",
      "User:   nabice\n",
      "Title:  x/tools/gopls: The rename command line may accept identifiers in\n",
      "Age:    82 days\n",
      "----------------------------------------\n",
      "Number: 40128\n",
      "User:   rogpeppe\n",
      "Title:  proposal: encoding/json: garbage-free reading of tokens\n",
      "Age:    1196 days\n",
      "----------------------------------------\n",
      "Number: 29035\n",
      "User:   jaswdr\n",
      "Title:  proposal: encoding/json: add error var to compare  the returned \n",
      "Age:    1783 days\n",
      "----------------------------------------\n",
      "Number: 41144\n",
      "User:   alvaroaleman\n",
      "Title:  encoding/json: Unmarshaler breaks DisallowUnknownFields\n",
      "Age:    1143 days\n",
      "----------------------------------------\n",
      "Number: 5901\n",
      "User:   rsc\n",
      "Title:  encoding/json: allow per-Encoder/per-Decoder registration of mar\n",
      "Age:    3745 days\n",
      "----------------------------------------\n",
      "Number: 42571\n",
      "User:   dsnet\n",
      "Title:  encoding/json: clarify Decoder.InputOffset semantics\n",
      "Age:    1070 days\n",
      "----------------------------------------\n",
      "Number: 40127\n",
      "User:   rogpeppe\n",
      "Title:  encoding/json: add Encoder.EncodeToken method\n",
      "Age:    1196 days\n",
      "----------------------------------------\n",
      "Number: 14750\n",
      "User:   cyberphone\n",
      "Title:  encoding/json: parser ignores the case of member names\n",
      "Age:    2778 days\n",
      "----------------------------------------\n",
      "Number: 43716\n",
      "User:   ggaaooppeenngg\n",
      "Title:  encoding/json: increment byte counter when using decoder.Token\n",
      "Age:    1006 days\n",
      "----------------------------------------\n",
      "Number: 34543\n",
      "User:   maxatome\n",
      "Title:  encoding/json: Unmarshal & json.(*Decoder).Token report differen\n",
      "Age:    1484 days\n",
      "----------------------------------------\n",
      "Number: 59053\n",
      "User:   joerdav\n",
      "Title:  proposal: encoding/json: add a generic Decode function\n",
      "Age:    217 days\n",
      "----------------------------------------\n",
      "Number: 32779\n",
      "User:   rsc\n",
      "Title:  encoding/json: memoize strings during decode\n",
      "Age:    1576 days\n",
      "----------------------------------------\n",
      "Number: 48950\n",
      "User:   AlexanderYastrebov\n",
      "Title:  encoding/json: calculate correct SyntaxError.Offset in the strea\n",
      "Age:    735 days\n",
      "----------------------------------------\n",
      "Number: 31701\n",
      "User:   lr1980\n",
      "Title:  encoding/json: second decode after error impossible\n",
      "Age:    1636 days\n",
      "----------------------------------------\n",
      "Number: 6647\n",
      "User:   btracey\n",
      "Title:  x/tools/cmd/godoc: display type kind of each named type\n",
      "Age:    3647 days\n",
      "----------------------------------------\n",
      "Number: 33714\n",
      "User:   flimzy\n",
      "Title:  proposal: encoding/json: Opt-in for true streaming support\n",
      "Age:    1521 days\n",
      "----------------------------------------\n",
      "Number: 7872\n",
      "User:   extemporalgenome\n",
      "Title:  encoding/json: Encoder internally buffers full output\n",
      "Age:    3462 days\n",
      "----------------------------------------\n",
      "Number: 40982\n",
      "User:   Segflow\n",
      "Title:  encoding/json: use different error type for unknown field if the\n",
      "Age:    1152 days\n",
      "----------------------------------------\n",
      "Number: 43513\n",
      "User:   AlexanderYastrebov\n",
      "Title:  encoding/json: add line number to SyntaxError\n",
      "Age:    1016 days\n",
      "----------------------------------------\n",
      "Number: 16212\n",
      "User:   josharian\n",
      "Title:  encoding/json: do all reflect work before decoding\n",
      "Age:    2667 days\n",
      "----------------------------------------\n",
      "Number: 22533\n",
      "User:   ibrt\n",
      "Title:  proposal: encoding/json: preserve unknown fields\n",
      "Age:    2177 days\n",
      "----------------------------------------\n",
      "Number: 56332\n",
      "User:   gansvv\n",
      "Title:  encoding/json: clearer error message for boolean like prefix in \n",
      "Age:    364 days\n",
      "----------------------------------------\n",
      "Number: 22480\n",
      "User:   blixt\n",
      "Title:  proposal: encoding/json: add omitnil option\n",
      "Age:    2181 days\n",
      "----------------------------------------\n",
      "Number: 33854\n",
      "User:   Qhesz\n",
      "Title:  encoding/json: unmarshal option to treat omitted fields as null\n",
      "Age:    1514 days\n",
      "----------------------------------------\n",
      "Number: 34564\n",
      "User:   mdempsky\n",
      "Title:  go/internal/gcimporter: single source of truth for decoder logic\n",
      "Age:    1483 days\n",
      "----------------------------------------\n",
      "Number: 58649\n",
      "User:   nabokihms\n",
      "Title:  encoding/json: show nested fields path if DisallowUnknownFields \n",
      "Age:    238 days\n"
     ]
    }
   ],
   "source": [
    "// not handle error, if parse error, exceptions occur\n",
    "%args repo:golang/go is:open json decoder\n",
    "func main() {\n",
    "\t//!+parse\n",
    "\treport, err := template.New(\"report\").\n",
    "\t\tFuncs(template.FuncMap{\"daysAgo\": daysAgo}).\n",
    "\t\tParse(templ)\n",
    "\tif err != nil {\n",
    "\t\tlog.Fatal(err)\n",
    "\t}\n",
    "\t//!-parse\n",
    "\tresult, err := github.SearchIssues(os.Args[1:])\n",
    "    //result, err := SearchIssues(os.Args[1:])\n",
    "\tif err != nil {\n",
    "\t\tlog.Fatal(err)\n",
    "\t}\n",
    "\tif err := report.Execute(os.Stdout, result); err != nil {\n",
    "\t\tlog.Fatal(err)\n",
    "\t}\n",
    "}\n"
   ]
  },
  {
   "cell_type": "markdown",
   "id": "af11ff81",
   "metadata": {
    "slideshow": {
     "slide_type": "subslide"
    }
   },
   "source": [
    "* html/template use the same API and expression language as text/template\n",
    "* with HTML, JavaScript, CSS, or URLs"
   ]
  },
  {
   "cell_type": "code",
   "execution_count": 31,
   "id": "dbdbd4f1",
   "metadata": {
    "slideshow": {
     "slide_type": "subslide"
    }
   },
   "outputs": [],
   "source": [
    "//gopl.io/ch4/issueshtml\n",
    "import (\"log\";\"os\";\"gopl.io/ch4/github\";\"html/template\")\n",
    "var issueList = template.Must(template.New(\"issuelist\").Parse(`\n",
    "<h1>{{.TotalCount}} issues</h1>\n",
    "<table border=1>\n",
    "<tr style='text-align: left'>\n",
    "  <th>#</th>\n",
    "  <th>State</th>\n",
    "  <th>User</th>\n",
    "  <th>Title</th>\n",
    "</tr>\n",
    "{{range .Items}}\n",
    "<tr>\n",
    "  <td><a href='{{.HTMLURL}}'>{{.Number}}</a></td>\n",
    "  <td>{{.State}}</td>\n",
    "  <td><a href='{{.User.HTMLURL}}'>{{.User.Login}}</a></td>\n",
    "  <td><a href='{{.HTMLURL}}'>{{.Title}}</a></td>\n",
    "</tr>\n",
    "{{end}}\n",
    "</table>\n",
    "`))"
   ]
  },
  {
   "cell_type": "code",
   "execution_count": 32,
   "id": "071bf759",
   "metadata": {
    "slideshow": {
     "slide_type": "fragment"
    }
   },
   "outputs": [
    {
     "name": "stdout",
     "output_type": "stream",
     "text": [
      "\n",
      "<h1>86 issues</h1>\n",
      "<table border=1>\n",
      "<tr style='text-align: left'>\n",
      "  <th>#</th>\n",
      "  <th>State</th>\n",
      "  <th>User</th>\n",
      "  <th>Title</th>\n",
      "</tr>\n",
      "\n",
      "<tr>\n",
      "  <td><a href='https://github.com/golang/go/issues/48298'>48298</a></td>\n",
      "  <td>open</td>\n",
      "  <td><a href='https://github.com/dsnet'>dsnet</a></td>\n",
      "  <td><a href='https://github.com/golang/go/issues/48298'>encoding/json: add Decoder.DisallowDuplicateFields</a></td>\n",
      "</tr>\n",
      "\n",
      "<tr>\n",
      "  <td><a href='https://github.com/golang/go/issues/11046'>11046</a></td>\n",
      "  <td>open</td>\n",
      "  <td><a href='https://github.com/kurin'>kurin</a></td>\n",
      "  <td><a href='https://github.com/golang/go/issues/11046'>encoding/json: Decoder internally buffers full input</a></td>\n",
      "</tr>\n",
      "\n",
      "<tr>\n",
      "  <td><a href='https://github.com/golang/go/issues/36225'>36225</a></td>\n",
      "  <td>open</td>\n",
      "  <td><a href='https://github.com/dsnet'>dsnet</a></td>\n",
      "  <td><a href='https://github.com/golang/go/issues/36225'>encoding/json: the Decoder.Decode API lends itself to misuse</a></td>\n",
      "</tr>\n",
      "\n",
      "<tr>\n",
      "  <td><a href='https://github.com/golang/go/issues/56733'>56733</a></td>\n",
      "  <td>open</td>\n",
      "  <td><a href='https://github.com/rolandshoemaker'>rolandshoemaker</a></td>\n",
      "  <td><a href='https://github.com/golang/go/issues/56733'>encoding/json: add (*Decoder).SetLimit</a></td>\n",
      "</tr>\n",
      "\n",
      "<tr>\n",
      "  <td><a href='https://github.com/golang/go/issues/61627'>61627</a></td>\n",
      "  <td>open</td>\n",
      "  <td><a href='https://github.com/nabice'>nabice</a></td>\n",
      "  <td><a href='https://github.com/golang/go/issues/61627'>x/tools/gopls: The rename command line may accept identifiers instead of positions, like gorename</a></td>\n",
      "</tr>\n",
      "\n",
      "<tr>\n",
      "  <td><a href='https://github.com/golang/go/issues/40128'>40128</a></td>\n",
      "  <td>open</td>\n",
      "  <td><a href='https://github.com/rogpeppe'>rogpeppe</a></td>\n",
      "  <td><a href='https://github.com/golang/go/issues/40128'>proposal: encoding/json: garbage-free reading of tokens</a></td>\n",
      "</tr>\n",
      "\n",
      "<tr>\n",
      "  <td><a href='https://github.com/golang/go/issues/29035'>29035</a></td>\n",
      "  <td>open</td>\n",
      "  <td><a href='https://github.com/jaswdr'>jaswdr</a></td>\n",
      "  <td><a href='https://github.com/golang/go/issues/29035'>proposal: encoding/json: add error var to compare  the returned error when using json.Decoder.DisallowUnknownFields()</a></td>\n",
      "</tr>\n",
      "\n",
      "<tr>\n",
      "  <td><a href='https://github.com/golang/go/issues/41144'>41144</a></td>\n",
      "  <td>open</td>\n",
      "  <td><a href='https://github.com/alvaroaleman'>alvaroaleman</a></td>\n",
      "  <td><a href='https://github.com/golang/go/issues/41144'>encoding/json: Unmarshaler breaks DisallowUnknownFields</a></td>\n",
      "</tr>\n",
      "\n",
      "<tr>\n",
      "  <td><a href='https://github.com/golang/go/issues/5901'>5901</a></td>\n",
      "  <td>open</td>\n",
      "  <td><a href='https://github.com/rsc'>rsc</a></td>\n",
      "  <td><a href='https://github.com/golang/go/issues/5901'>encoding/json: allow per-Encoder/per-Decoder registration of marshal/unmarshal functions</a></td>\n",
      "</tr>\n",
      "\n",
      "<tr>\n",
      "  <td><a href='https://github.com/golang/go/issues/42571'>42571</a></td>\n",
      "  <td>open</td>\n",
      "  <td><a href='https://github.com/dsnet'>dsnet</a></td>\n",
      "  <td><a href='https://github.com/golang/go/issues/42571'>encoding/json: clarify Decoder.InputOffset semantics</a></td>\n",
      "</tr>\n",
      "\n",
      "<tr>\n",
      "  <td><a href='https://github.com/golang/go/issues/40127'>40127</a></td>\n",
      "  <td>open</td>\n",
      "  <td><a href='https://github.com/rogpeppe'>rogpeppe</a></td>\n",
      "  <td><a href='https://github.com/golang/go/issues/40127'>encoding/json: add Encoder.EncodeToken method</a></td>\n",
      "</tr>\n",
      "\n",
      "<tr>\n",
      "  <td><a href='https://github.com/golang/go/issues/14750'>14750</a></td>\n",
      "  <td>open</td>\n",
      "  <td><a href='https://github.com/cyberphone'>cyberphone</a></td>\n",
      "  <td><a href='https://github.com/golang/go/issues/14750'>encoding/json: parser ignores the case of member names</a></td>\n",
      "</tr>\n",
      "\n",
      "<tr>\n",
      "  <td><a href='https://github.com/golang/go/pull/43716'>43716</a></td>\n",
      "  <td>open</td>\n",
      "  <td><a href='https://github.com/ggaaooppeenngg'>ggaaooppeenngg</a></td>\n",
      "  <td><a href='https://github.com/golang/go/pull/43716'>encoding/json: increment byte counter when using decoder.Token</a></td>\n",
      "</tr>\n",
      "\n",
      "<tr>\n",
      "  <td><a href='https://github.com/golang/go/issues/34543'>34543</a></td>\n",
      "  <td>open</td>\n",
      "  <td><a href='https://github.com/maxatome'>maxatome</a></td>\n",
      "  <td><a href='https://github.com/golang/go/issues/34543'>encoding/json: Unmarshal &amp; json.(*Decoder).Token report different values for SyntaxError.Offset for the same input</a></td>\n",
      "</tr>\n",
      "\n",
      "<tr>\n",
      "  <td><a href='https://github.com/golang/go/issues/59053'>59053</a></td>\n",
      "  <td>open</td>\n",
      "  <td><a href='https://github.com/joerdav'>joerdav</a></td>\n",
      "  <td><a href='https://github.com/golang/go/issues/59053'>proposal: encoding/json: add a generic Decode function</a></td>\n",
      "</tr>\n",
      "\n",
      "<tr>\n",
      "  <td><a href='https://github.com/golang/go/issues/32779'>32779</a></td>\n",
      "  <td>open</td>\n",
      "  <td><a href='https://github.com/rsc'>rsc</a></td>\n",
      "  <td><a href='https://github.com/golang/go/issues/32779'>encoding/json: memoize strings during decode</a></td>\n",
      "</tr>\n",
      "\n",
      "<tr>\n",
      "  <td><a href='https://github.com/golang/go/pull/48950'>48950</a></td>\n",
      "  <td>open</td>\n",
      "  <td><a href='https://github.com/AlexanderYastrebov'>AlexanderYastrebov</a></td>\n",
      "  <td><a href='https://github.com/golang/go/pull/48950'>encoding/json: calculate correct SyntaxError.Offset in the stream</a></td>\n",
      "</tr>\n",
      "\n",
      "<tr>\n",
      "  <td><a href='https://github.com/golang/go/issues/31701'>31701</a></td>\n",
      "  <td>open</td>\n",
      "  <td><a href='https://github.com/lr1980'>lr1980</a></td>\n",
      "  <td><a href='https://github.com/golang/go/issues/31701'>encoding/json: second decode after error impossible</a></td>\n",
      "</tr>\n",
      "\n",
      "<tr>\n",
      "  <td><a href='https://github.com/golang/go/issues/6647'>6647</a></td>\n",
      "  <td>open</td>\n",
      "  <td><a href='https://github.com/btracey'>btracey</a></td>\n",
      "  <td><a href='https://github.com/golang/go/issues/6647'>x/tools/cmd/godoc: display type kind of each named type</a></td>\n",
      "</tr>\n",
      "\n",
      "<tr>\n",
      "  <td><a href='https://github.com/golang/go/issues/33714'>33714</a></td>\n",
      "  <td>open</td>\n",
      "  <td><a href='https://github.com/flimzy'>flimzy</a></td>\n",
      "  <td><a href='https://github.com/golang/go/issues/33714'>proposal: encoding/json: Opt-in for true streaming support</a></td>\n",
      "</tr>\n",
      "\n",
      "<tr>\n",
      "  <td><a href='https://github.com/golang/go/issues/7872'>7872</a></td>\n",
      "  <td>open</td>\n",
      "  <td><a href='https://github.com/extemporalgenome'>extemporalgenome</a></td>\n",
      "  <td><a href='https://github.com/golang/go/issues/7872'>encoding/json: Encoder internally buffers full output</a></td>\n",
      "</tr>\n",
      "\n",
      "<tr>\n",
      "  <td><a href='https://github.com/golang/go/issues/40982'>40982</a></td>\n",
      "  <td>open</td>\n",
      "  <td><a href='https://github.com/Segflow'>Segflow</a></td>\n",
      "  <td><a href='https://github.com/golang/go/issues/40982'>encoding/json: use different error type for unknown field if they are disallowed </a></td>\n",
      "</tr>\n",
      "\n",
      "<tr>\n",
      "  <td><a href='https://github.com/golang/go/issues/43513'>43513</a></td>\n",
      "  <td>open</td>\n",
      "  <td><a href='https://github.com/AlexanderYastrebov'>AlexanderYastrebov</a></td>\n",
      "  <td><a href='https://github.com/golang/go/issues/43513'>encoding/json: add line number to SyntaxError</a></td>\n",
      "</tr>\n",
      "\n",
      "<tr>\n",
      "  <td><a href='https://github.com/golang/go/issues/16212'>16212</a></td>\n",
      "  <td>open</td>\n",
      "  <td><a href='https://github.com/josharian'>josharian</a></td>\n",
      "  <td><a href='https://github.com/golang/go/issues/16212'>encoding/json: do all reflect work before decoding</a></td>\n",
      "</tr>\n",
      "\n",
      "<tr>\n",
      "  <td><a href='https://github.com/golang/go/issues/22533'>22533</a></td>\n",
      "  <td>open</td>\n",
      "  <td><a href='https://github.com/ibrt'>ibrt</a></td>\n",
      "  <td><a href='https://github.com/golang/go/issues/22533'>proposal: encoding/json: preserve unknown fields</a></td>\n",
      "</tr>\n",
      "\n",
      "<tr>\n",
      "  <td><a href='https://github.com/golang/go/issues/56332'>56332</a></td>\n",
      "  <td>open</td>\n",
      "  <td><a href='https://github.com/gansvv'>gansvv</a></td>\n",
      "  <td><a href='https://github.com/golang/go/issues/56332'>encoding/json: clearer error message for boolean like prefix in invalid json strings</a></td>\n",
      "</tr>\n",
      "\n",
      "<tr>\n",
      "  <td><a href='https://github.com/golang/go/issues/22480'>22480</a></td>\n",
      "  <td>open</td>\n",
      "  <td><a href='https://github.com/blixt'>blixt</a></td>\n",
      "  <td><a href='https://github.com/golang/go/issues/22480'>proposal: encoding/json: add omitnil option</a></td>\n",
      "</tr>\n",
      "\n",
      "<tr>\n",
      "  <td><a href='https://github.com/golang/go/issues/33854'>33854</a></td>\n",
      "  <td>open</td>\n",
      "  <td><a href='https://github.com/Qhesz'>Qhesz</a></td>\n"
     ]
    },
    {
     "name": "stdout",
     "output_type": "stream",
     "text": [
      "  <td><a href='https://github.com/golang/go/issues/33854'>encoding/json: unmarshal option to treat omitted fields as null</a></td>\n",
      "</tr>\n",
      "\n",
      "<tr>\n",
      "  <td><a href='https://github.com/golang/go/issues/34564'>34564</a></td>\n",
      "  <td>open</td>\n",
      "  <td><a href='https://github.com/mdempsky'>mdempsky</a></td>\n",
      "  <td><a href='https://github.com/golang/go/issues/34564'>go/internal/gcimporter: single source of truth for decoder logic</a></td>\n",
      "</tr>\n",
      "\n",
      "<tr>\n",
      "  <td><a href='https://github.com/golang/go/issues/58649'>58649</a></td>\n",
      "  <td>open</td>\n",
      "  <td><a href='https://github.com/nabokihms'>nabokihms</a></td>\n",
      "  <td><a href='https://github.com/golang/go/issues/58649'>encoding/json: show nested fields path if DisallowUnknownFields leads to an error</a></td>\n",
      "</tr>\n",
      "\n",
      "</table>\n"
     ]
    }
   ],
   "source": [
    "%args repo:golang/go is:open json decoder\n",
    "\n",
    "func main() {\n",
    "\t//result, err := SearchIssues(os.Args[1:])\n",
    "    result, err := github.SearchIssues(os.Args[1:])\n",
    "\tif err != nil {\n",
    "\t\tlog.Fatal(err)\n",
    "\t}\n",
    "\tif err := issueList.Execute(os.Stdout, result); err != nil {\n",
    "\t\tlog.Fatal(err)\n",
    "\t}\n",
    "}"
   ]
  },
  {
   "cell_type": "markdown",
   "id": "27eeceb8",
   "metadata": {
    "slideshow": {
     "slide_type": "subslide"
    }
   },
   "source": [
    "* [issues.html](http://skhuang.github.io/ch4/issues.html)\n",
    "<code>\n",
    "$ go build gopl.io/ch4/issueshtml\n",
    "$ ./issueshtml repo:golang/go commenter:gopherbot json encoder >issues.html\n",
    "</code>"
   ]
  },
  {
   "cell_type": "code",
   "execution_count": 33,
   "id": "bc837f08",
   "metadata": {
    "scrolled": true,
    "slideshow": {
     "slide_type": "fragment"
    }
   },
   "outputs": [
    {
     "name": "stdout",
     "output_type": "stream",
     "text": [
      "\n",
      "<h1>3 issues</h1>\n",
      "<table border=1>\n",
      "<tr style='text-align: left'>\n",
      "  <th>#</th>\n",
      "  <th>State</th>\n",
      "  <th>User</th>\n",
      "  <th>Title</th>\n",
      "</tr>\n",
      "\n",
      "<tr>\n",
      "  <td><a href='https://github.com/golang/go/issues/3133'>3133</a></td>\n",
      "  <td>closed</td>\n",
      "  <td><a href='https://github.com/ukai'>ukai</a></td>\n",
      "  <td><a href='https://github.com/golang/go/issues/3133'>html/template: escape xmldesc as &amp;lt;?xml</a></td>\n",
      "</tr>\n",
      "\n",
      "<tr>\n",
      "  <td><a href='https://github.com/golang/go/issues/10535'>10535</a></td>\n",
      "  <td>open</td>\n",
      "  <td><a href='https://github.com/dvyukov'>dvyukov</a></td>\n",
      "  <td><a href='https://github.com/golang/go/issues/10535'>x/net/html: void element &lt;link&gt; has child nodes</a></td>\n",
      "</tr>\n",
      "\n",
      "<tr>\n",
      "  <td><a href='https://github.com/golang/go/issues/47148'>47148</a></td>\n",
      "  <td>closed</td>\n",
      "  <td><a href='https://github.com/dmitshur'>dmitshur</a></td>\n",
      "  <td><a href='https://github.com/golang/go/issues/47148'>all: Go 1.15.14 release status</a></td>\n",
      "</tr>\n",
      "\n",
      "</table>\n"
     ]
    }
   ],
   "source": [
    "//os.Args = []string{\"issuehtml\",\"repo:golang/go\",\"3133\",\"10535\"}\n",
    "%args repo:golang/go 3133 10535\n",
    "func main() {\n",
    "\t//result, err := SearchIssues(os.Args[1:])\n",
    "    result, err := github.SearchIssues(os.Args[1:])\n",
    "\tif err != nil {\n",
    "\t\tlog.Fatal(err)\n",
    "\t}\n",
    "\tif err := issueList.Execute(os.Stdout, result); err != nil {\n",
    "\t\tlog.Fatal(err)\n",
    "\t}\n",
    "}"
   ]
  },
  {
   "cell_type": "markdown",
   "id": "52646422",
   "metadata": {
    "slideshow": {
     "slide_type": "fragment"
    }
   },
   "source": [
    "[issues2.html](https://skhuang.github.io/ch4/issues2.html)\n",
    "<code>\n",
    "$ ./issueshtml repo:golang/go 3133 10535 >issues2.html\n",
    "</code>"
   ]
  },
  {
   "cell_type": "code",
   "execution_count": 34,
   "id": "ef383753",
   "metadata": {
    "slideshow": {
     "slide_type": "subslide"
    }
   },
   "outputs": [
    {
     "name": "stdout",
     "output_type": "stream",
     "text": [
      "\n",
      "<h1>3 issues</h1>\n",
      "<table>\n",
      "<tr style='text-align: left'>\n",
      "  <th>#</th>\n",
      "  <th>State</th>\n",
      "  <th>User</th>\n",
      "  <th>Title</th>\n",
      "</tr>\n",
      "\n",
      "<tr>\n",
      "  <td><a href='https://github.com/golang/go/issues/3133'>3133</a></td>\n",
      "  <td>closed</td>\n",
      "  <td><a href='https://github.com/ukai'>ukai</a></td>\n",
      "  <td><a href='https://github.com/golang/go/issues/3133'>html/template: escape xmldesc as &amp;lt;?xml</a></td>\n",
      "</tr>\n",
      "\n",
      "<tr>\n",
      "  <td><a href='https://github.com/golang/go/issues/10535'>10535</a></td>\n",
      "  <td>open</td>\n",
      "  <td><a href='https://github.com/dvyukov'>dvyukov</a></td>\n",
      "  <td><a href='https://github.com/golang/go/issues/10535'>x/net/html: void element &lt;link&gt; has child nodes</a></td>\n",
      "</tr>\n",
      "\n",
      "<tr>\n",
      "  <td><a href='https://github.com/golang/go/issues/47148'>47148</a></td>\n",
      "  <td>closed</td>\n",
      "  <td><a href='https://github.com/dmitshur'>dmitshur</a></td>\n",
      "  <td><a href='https://github.com/golang/go/issues/47148'>all: Go 1.15.14 release status</a></td>\n",
      "</tr>\n",
      "\n",
      "</table>\n"
     ]
    }
   ],
   "source": [
    "!./ch4/issueshtml/issueshtml repo:golang/go 3133 10535"
   ]
  },
  {
   "cell_type": "code",
   "execution_count": 35,
   "id": "03415266",
   "metadata": {
    "slideshow": {
     "slide_type": "subslide"
    }
   },
   "outputs": [
    {
     "name": "stdout",
     "output_type": "stream",
     "text": [
      "struct { A string; B template.HTML }\n",
      "<p>A: &lt;b&gt;Hello!&lt;/b&gt;</p><p>B: <b>Hello!</b></p>"
     ]
    }
   ],
   "source": [
    "//gopl.io/ch4/autoescape\n",
    "import (\"fmt\";\"html/template\";\"log\";\"os\")\n",
    "\n",
    "//!+\n",
    "func main() {\n",
    "\tconst templ = `<p>A: {{.A}}</p><p>B: {{.B}}</p>`\n",
    "\tt := template.Must(template.New(\"escape\").Parse(templ))\n",
    "\tvar data struct {\n",
    "\t\tA string        // untrusted plain text, will be escaped \n",
    "\t\tB template.HTML // trusted HTML, preseve the markup\n",
    "\t}\n",
    "    fmt.Printf(\"%T\\n\",data)\n",
    "    data.A = \"<b>Hello!</b>\"\n",
    "    data.B =\"<b>Hello!</b>\"\n",
    "    //var  b template.HTML= template.HTML(\"test\")\n",
    "\tif err := t.Execute(os.Stdout, data); err != nil {\n",
    "\t\tlog.Fatal(err)\n",
    "\t}\n",
    "}\n"
   ]
  },
  {
   "cell_type": "markdown",
   "id": "8c9fcb42",
   "metadata": {
    "slideshow": {
     "slide_type": "subslide"
    }
   },
   "source": [
    "[autoescape.html](http://skhuang.github.io/ch4/autoescape.html)"
   ]
  },
  {
   "cell_type": "markdown",
   "id": "31471bf6",
   "metadata": {
    "slideshow": {
     "slide_type": "subslide"
    }
   },
   "source": [
    "* for more information: \n",
    "<code>\n",
    "$ go doc text/template\n",
    "$ go doc html/template\n",
    "</code>"
   ]
  },
  {
   "cell_type": "code",
   "execution_count": 29,
   "id": "8b3da3eb",
   "metadata": {
    "slideshow": {
     "slide_type": "subslide"
    }
   },
   "outputs": [
    {
     "name": "stdout",
     "output_type": "stream",
     "text": [
      "package template // import \"text/template\"\n",
      "\n",
      "Package template implements data-driven templates for generating textual output.\n",
      "\n",
      "To generate HTML output, see package html/template, which has the same interface\n",
      "as this package but automatically secures HTML output against certain attacks.\n",
      "\n",
      "Templates are executed by applying them to a data structure. Annotations in the\n",
      "template refer to elements of the data structure (typically a field of a struct\n",
      "or a key in a map) to control execution and derive values to be displayed.\n",
      "Execution of the template walks the structure and sets the cursor, represented\n",
      "by a period '.' and called \"dot\", to the value at the current location in the\n",
      "structure as execution proceeds.\n",
      "\n",
      "The input text for a template is UTF-8-encoded text in any format.\n",
      "\"Actions\"--data evaluations or control structures--are delimited by \"{{\" and\n",
      "\"}}\"; all text outside actions is copied to the output unchanged.\n",
      "\n",
      "Once parsed, a template may be executed safely in parallel, although if parallel\n",
      "executions share a Writer the output may be interleaved.\n",
      "\n",
      "Here is a trivial example that prints \"17 items are made of wool\".\n",
      "\n",
      "    type Inventory struct {\n",
      "    \tMaterial string\n",
      "    \tCount    uint\n",
      "    }\n",
      "    sweaters := Inventory{\"wool\", 17}\n",
      "    tmpl, err := template.New(\"test\").Parse(\"{{.Count}} items are made of {{.Material}}\")\n",
      "    if err != nil { panic(err) }\n",
      "    err = tmpl.Execute(os.Stdout, sweaters)\n",
      "    if err != nil { panic(err) }\n",
      "\n",
      "More intricate examples appear below.\n",
      "\n",
      "# Text and spaces\n",
      "\n",
      "By default, all text between actions is copied verbatim when the template is\n",
      "executed. For example, the string \" items are made of \" in the example above\n",
      "appears on standard output when the program is run.\n",
      "\n",
      "However, to aid in formatting template source code, if an action's left\n",
      "delimiter (by default \"{{\") is followed immediately by a minus sign and white\n",
      "space, all trailing white space is trimmed from the immediately preceding text.\n",
      "Similarly, if the right delimiter (\"}}\") is preceded by white space and a minus\n",
      "sign, all leading white space is trimmed from the immediately following text.\n",
      "In these trim markers, the white space must be present: \"{{- 3}}\" is like\n",
      "\"{{3}}\" but trims the immediately preceding text, while \"{{-3}}\" parses as an\n",
      "action containing the number -3.\n",
      "\n",
      "For instance, when executing the template whose source is\n",
      "\n",
      "    \"{{23 -}} < {{- 45}}\"\n",
      "\n",
      "the generated output would be\n",
      "\n",
      "    \"23<45\"\n",
      "\n",
      "For this trimming, the definition of white space characters is the same as in\n",
      "Go: space, horizontal tab, carriage return, and newline.\n",
      "\n",
      "# Actions\n",
      "\n",
      "Here is the list of actions. \"Arguments\" and \"pipelines\" are evaluations of\n",
      "data, defined in detail in the corresponding sections that follow.\n",
      "\n",
      "    {{/* a comment */}}\n",
      "    {{- /* a comment with white space trimmed from preceding and following text */ -}}\n",
      "    \tA comment; discarded. May contain newlines.\n",
      "    \tComments do not nest and must start and end at the\n",
      "    \tdelimiters, as shown here.\n",
      "\n",
      "    {{pipeline}}\n",
      "    \tThe default textual representation (the same as would be\n",
      "    \tprinted by fmt.Print) of the value of the pipeline is copied\n",
      "    \tto the output.\n",
      "\n",
      "    {{if pipeline}} T1 {{end}}\n",
      "    \tIf the value of the pipeline is empty, no output is generated;\n",
      "    \totherwise, T1 is executed. The empty values are false, 0, any\n",
      "    \tnil pointer or interface value, and any array, slice, map, or\n",
      "    \tstring of length zero.\n",
      "    \tDot is unaffected.\n",
      "\n",
      "    {{if pipeline}} T1 {{else}} T0 {{end}}\n",
      "    \tIf the value of the pipeline is empty, T0 is executed;\n",
      "    \totherwise, T1 is executed. Dot is unaffected.\n",
      "\n",
      "    {{if pipeline}} T1 {{else if pipeline}} T0 {{end}}\n",
      "    \tTo simplify the appearance of if-else chains, the else action\n",
      "    \tof an if may include another if directly; the effect is exactly\n",
      "    \tthe same as writing\n",
      "    \t\t{{if pipeline}} T1 {{else}}{{if pipeline}} T0 {{end}}{{end}}\n",
      "\n",
      "    {{range pipeline}} T1 {{end}}\n",
      "    \tThe value of the pipeline must be an array, slice, map, or channel.\n",
      "    \tIf the value of the pipeline has length zero, nothing is output;\n",
      "    \totherwise, dot is set to the successive elements of the array,\n",
      "    \tslice, or map and T1 is executed. If the value is a map and the\n",
      "    \tkeys are of basic type with a defined order, the elements will be\n",
      "    \tvisited in sorted key order.\n",
      "\n",
      "    {{range pipeline}} T1 {{else}} T0 {{end}}\n",
      "    \tThe value of the pipeline must be an array, slice, map, or channel.\n",
      "    \tIf the value of the pipeline has length zero, dot is unaffected and\n",
      "    \tT0 is executed; otherwise, dot is set to the successive elements\n",
      "    \tof the array, slice, or map and T1 is executed.\n",
      "\n",
      "    {{break}}\n",
      "    \tThe innermost {{range pipeline}} loop is ended early, stopping the\n",
      "    \tcurrent iteration and bypassing all remaining iterations.\n",
      "\n",
      "    {{continue}}\n",
      "    \tThe current iteration of the innermost {{range pipeline}} loop is\n",
      "    \tstopped, and the loop starts the next iteration.\n",
      "\n",
      "    {{template \"name\"}}\n",
      "    \tThe template with the specified name is executed with nil data.\n",
      "\n",
      "    {{template \"name\" pipeline}}\n",
      "    \tThe template with the specified name is executed with dot set\n",
      "    \tto the value of the pipeline.\n",
      "\n",
      "    {{block \"name\" pipeline}} T1 {{end}}\n",
      "    \tA block is shorthand for defining a template\n",
      "    \t\t{{define \"name\"}} T1 {{end}}\n",
      "    \tand then executing it in place\n",
      "    \t\t{{template \"name\" pipeline}}\n",
      "    \tThe typical use is to define a set of root templates that are\n",
      "    \tthen customized by redefining the block templates within.\n",
      "\n",
      "    {{with pipeline}} T1 {{end}}\n",
      "    \tIf the value of the pipeline is empty, no output is generated;\n",
      "    \totherwise, dot is set to the value of the pipeline and T1 is\n",
      "    \texecuted.\n",
      "\n",
      "    {{with pipeline}} T1 {{else}} T0 {{end}}\n",
      "    \tIf the value of the pipeline is empty, dot is unaffected and T0\n",
      "    \tis executed; otherwise, dot is set to the value of the pipeline\n",
      "    \tand T1 is executed.\n",
      "\n",
      "# Arguments\n",
      "\n",
      "An argument is a simple value, denoted by one of the following.\n",
      "\n",
      "  - A boolean, string, character, integer, floating-point, imaginary or complex\n",
      "    constant in Go syntax. These behave like Go's untyped constants. Note that,\n",
      "    as in Go, whether a large integer constant overflows when assigned or passed\n",
      "    to a function can depend on whether the host machine's ints are 32 or 64\n",
      "    bits.\n",
      "  - The keyword nil, representing an untyped Go nil.\n",
      "  - The character '.' (period): . The result is the value of dot.\n",
      "  - A variable name, which is a (possibly empty) alphanumeric string preceded\n",
      "    by a dollar sign, such as $piOver2 or $ The result is the value of the\n",
      "    variable. Variables are described below.\n",
      "  - The name of a field of the data, which must be a struct, preceded by\n",
      "    a period, such as .Field The result is the value of the field. Field\n",
      "    invocations may be chained: .Field1.Field2 Fields can also be evaluated on\n",
      "    variables, including chaining: $x.Field1.Field2\n",
      "  - The name of a key of the data, which must be a map, preceded by a period,\n",
      "    such as .Key The result is the map element value indexed by the key.\n",
      "    Key invocations may be chained and combined with fields to any depth:\n",
      "    .Field1.Key1.Field2.Key2 Although the key must be an alphanumeric\n",
      "    identifier, unlike with field names they do not need to start with an upper\n",
      "    case letter. Keys can also be evaluated on variables, including chaining:\n",
      "    $x.key1.key2\n",
      "  - The name of a niladic method of the data, preceded by a period,\n",
      "    such as .Method The result is the value of invoking the method with dot\n",
      "    as the receiver, dot.Method(). Such a method must have one return value\n",
      "    (of any type) or two return values, the second of which is an error.\n",
      "    If it has two and the returned error is non-nil, execution terminates\n",
      "    and an error is returned to the caller as the value of Execute. Method\n",
      "    invocations may be chained and combined with fields and keys to any depth:\n",
      "    .Field1.Key1.Method1.Field2.Key2.Method2 Methods can also be evaluated on\n",
      "    variables, including chaining: $x.Method1.Field\n",
      "  - The name of a niladic function, such as fun The result is the value of\n",
      "    invoking the function, fun(). The return types and values behave as in\n",
      "    methods. Functions and function names are described below.\n",
      "  - A parenthesized instance of one the above, for grouping. The result may\n",
      "    be accessed by a field or map key invocation. print (.F1 arg1) (.F2 arg2)\n",
      "    (.StructValuedMethod \"arg\").Field\n",
      "\n",
      "Arguments may evaluate to any type; if they are pointers the implementation\n",
      "automatically indirects to the base type when required. If an evaluation yields\n",
      "a function value, such as a function-valued field of a struct, the function is\n",
      "not invoked automatically, but it can be used as a truth value for an if action\n",
      "and the like. To invoke it, use the call function, defined below.\n",
      "\n",
      "# Pipelines\n",
      "\n",
      "A pipeline is a possibly chained sequence of \"commands\". A command is a simple\n",
      "value (argument) or a function or method call, possibly with multiple arguments:\n",
      "\n",
      "    Argument\n",
      "    \tThe result is the value of evaluating the argument.\n",
      "    .Method [Argument...]\n",
      "    \tThe method can be alone or the last element of a chain but,\n",
      "    \tunlike methods in the middle of a chain, it can take arguments.\n",
      "    \tThe result is the value of calling the method with the\n",
      "    \targuments:\n",
      "    \t\tdot.Method(Argument1, etc.)\n",
      "    functionName [Argument...]\n",
      "    \tThe result is the value of calling the function associated\n",
      "    \twith the name:\n",
      "    \t\tfunction(Argument1, etc.)\n",
      "    \tFunctions and function names are described below.\n",
      "\n",
      "A pipeline may be \"chained\" by separating a sequence of commands with pipeline\n",
      "characters '|'. In a chained pipeline, the result of each command is passed as\n",
      "the last argument of the following command. The output of the final command in\n",
      "the pipeline is the value of the pipeline.\n",
      "\n",
      "The output of a command will be either one value or two values, the second of\n",
      "which has type error. If that second value is present and evaluates to non-nil,\n",
      "execution terminates and the error is returned to the caller of Execute.\n",
      "\n",
      "# Variables\n",
      "\n",
      "A pipeline inside an action may initialize a variable to capture the result.\n",
      "The initialization has syntax\n",
      "\n",
      "    $variable := pipeline\n",
      "\n",
      "where $variable is the name of the variable. An action that declares a variable\n",
      "produces no output.\n",
      "\n",
      "Variables previously declared can also be assigned, using the syntax\n",
      "\n",
      "    $variable = pipeline\n",
      "\n",
      "If a \"range\" action initializes a variable, the variable is set to the\n",
      "successive elements of the iteration. Also, a \"range\" may declare two variables,\n",
      "separated by a comma:\n",
      "\n",
      "    range $index, $element := pipeline\n",
      "\n",
      "in which case $index and $element are set to the successive values of the\n",
      "array/slice index or map key and element, respectively. Note that if there\n",
      "is only one variable, it is assigned the element; this is opposite to the\n",
      "convention in Go range clauses.\n",
      "\n",
      "A variable's scope extends to the \"end\" action of the control structure (\"if\",\n",
      "\"with\", or \"range\") in which it is declared, or to the end of the template\n",
      "if there is no such control structure. A template invocation does not inherit\n",
      "variables from the point of its invocation.\n",
      "\n",
      "When execution begins, $ is set to the data argument passed to Execute, that is,\n",
      "to the starting value of dot.\n",
      "\n",
      "# Examples\n",
      "\n",
      "Here are some example one-line templates demonstrating pipelines and variables.\n",
      "All produce the quoted word \"output\":\n",
      "\n",
      "    {{\"\\\"output\\\"\"}}\n",
      "    \tA string constant.\n",
      "    {{`\"output\"`}}\n",
      "    \tA raw string constant.\n",
      "    {{printf \"%q\" \"output\"}}\n",
      "    \tA function call.\n",
      "    {{\"output\" | printf \"%q\"}}\n",
      "    \tA function call whose final argument comes from the previous\n",
      "    \tcommand.\n",
      "    {{printf \"%q\" (print \"out\" \"put\")}}\n",
      "    \tA parenthesized argument.\n",
      "    {{\"put\" | printf \"%s%s\" \"out\" | printf \"%q\"}}\n",
      "    \tA more elaborate call.\n",
      "    {{\"output\" | printf \"%s\" | printf \"%q\"}}\n",
      "    \tA longer chain.\n",
      "    {{with \"output\"}}{{printf \"%q\" .}}{{end}}\n",
      "    \tA with action using dot.\n",
      "    {{with $x := \"output\" | printf \"%q\"}}{{$x}}{{end}}\n",
      "    \tA with action that creates and uses a variable.\n",
      "    {{with $x := \"output\"}}{{printf \"%q\" $x}}{{end}}\n",
      "    \tA with action that uses the variable in another action.\n",
      "    {{with $x := \"output\"}}{{$x | printf \"%q\"}}{{end}}\n",
      "    \tThe same, but pipelined.\n",
      "\n",
      "# Functions\n",
      "\n",
      "During execution functions are found in two function maps: first in the\n",
      "template, then in the global function map. By default, no functions are defined\n",
      "in the template but the Funcs method can be used to add them.\n",
      "\n",
      "Predefined global functions are named as follows.\n",
      "\n",
      "    and\n",
      "    \tReturns the boolean AND of its arguments by returning the\n",
      "    \tfirst empty argument or the last argument. That is,\n",
      "    \t\"and x y\" behaves as \"if x then y else x.\"\n",
      "    \tEvaluation proceeds through the arguments left to right\n",
      "    \tand returns when the result is determined.\n",
      "    call\n",
      "    \tReturns the result of calling the first argument, which\n",
      "    \tmust be a function, with the remaining arguments as parameters.\n",
      "    \tThus \"call .X.Y 1 2\" is, in Go notation, dot.X.Y(1, 2) where\n",
      "    \tY is a func-valued field, map entry, or the like.\n",
      "    \tThe first argument must be the result of an evaluation\n",
      "    \tthat yields a value of function type (as distinct from\n",
      "    \ta predefined function such as print). The function must\n",
      "    \treturn either one or two result values, the second of which\n",
      "    \tis of type error. If the arguments don't match the function\n",
      "    \tor the returned error value is non-nil, execution stops.\n",
      "    html\n",
      "    \tReturns the escaped HTML equivalent of the textual\n",
      "    \trepresentation of its arguments. This function is unavailable\n",
      "    \tin html/template, with a few exceptions.\n",
      "    index\n",
      "    \tReturns the result of indexing its first argument by the\n",
      "    \tfollowing arguments. Thus \"index x 1 2 3\" is, in Go syntax,\n",
      "    \tx[1][2][3]. Each indexed item must be a map, slice, or array.\n",
      "    slice\n",
      "    \tslice returns the result of slicing its first argument by the\n",
      "    \tremaining arguments. Thus \"slice x 1 2\" is, in Go syntax, x[1:2],\n",
      "    \twhile \"slice x\" is x[:], \"slice x 1\" is x[1:], and \"slice x 1 2 3\"\n",
      "    \tis x[1:2:3]. The first argument must be a string, slice, or array.\n",
      "    js\n",
      "    \tReturns the escaped JavaScript equivalent of the textual\n",
      "    \trepresentation of its arguments.\n",
      "    len\n",
      "    \tReturns the integer length of its argument.\n",
      "    not\n",
      "    \tReturns the boolean negation of its single argument.\n",
      "    or\n",
      "    \tReturns the boolean OR of its arguments by returning the\n",
      "    \tfirst non-empty argument or the last argument, that is,\n",
      "    \t\"or x y\" behaves as \"if x then x else y\".\n",
      "    \tEvaluation proceeds through the arguments left to right\n",
      "    \tand returns when the result is determined.\n",
      "    print\n",
      "    \tAn alias for fmt.Sprint\n",
      "    printf\n",
      "    \tAn alias for fmt.Sprintf\n",
      "    println\n",
      "    \tAn alias for fmt.Sprintln\n",
      "    urlquery\n",
      "    \tReturns the escaped value of the textual representation of\n",
      "    \tits arguments in a form suitable for embedding in a URL query.\n",
      "    \tThis function is unavailable in html/template, with a few\n",
      "    \texceptions.\n",
      "\n",
      "The boolean functions take any zero value to be false and a non-zero value to be\n",
      "true.\n",
      "\n",
      "There is also a set of binary comparison operators defined as functions:\n",
      "\n",
      "    eq\n",
      "    \tReturns the boolean truth of arg1 == arg2\n",
      "    ne\n",
      "    \tReturns the boolean truth of arg1 != arg2\n",
      "    lt\n",
      "    \tReturns the boolean truth of arg1 < arg2\n",
      "    le\n",
      "    \tReturns the boolean truth of arg1 <= arg2\n",
      "    gt\n",
      "    \tReturns the boolean truth of arg1 > arg2\n",
      "    ge\n",
      "    \tReturns the boolean truth of arg1 >= arg2\n",
      "\n",
      "For simpler multi-way equality tests, eq (only) accepts two or more arguments\n",
      "and compares the second and subsequent to the first, returning in effect\n",
      "\n",
      "    arg1==arg2 || arg1==arg3 || arg1==arg4 ...\n",
      "\n",
      "(Unlike with || in Go, however, eq is a function call and all the arguments will\n",
      "be evaluated.)\n",
      "\n",
      "The comparison functions work on any values whose type Go defines as comparable.\n",
      "For basic types such as integers, the rules are relaxed: size and exact type\n",
      "are ignored, so any integer value, signed or unsigned, may be compared with any\n",
      "other integer value. (The arithmetic value is compared, not the bit pattern, so\n",
      "all negative integers are less than all unsigned integers.) However, as usual,\n",
      "one may not compare an int with a float32 and so on.\n",
      "\n",
      "# Associated templates\n",
      "\n",
      "Each template is named by a string specified when it is created. Also, each\n",
      "template is associated with zero or more other templates that it may invoke by\n",
      "name; such associations are transitive and form a name space of templates.\n",
      "\n",
      "A template may use a template invocation to instantiate another associated\n",
      "template; see the explanation of the \"template\" action above. The name must be\n",
      "that of a template associated with the template that contains the invocation.\n",
      "\n",
      "# Nested template definitions\n",
      "\n",
      "When parsing a template, another template may be defined and associated with the\n",
      "template being parsed. Template definitions must appear at the top level of the\n",
      "template, much like global variables in a Go program.\n",
      "\n",
      "The syntax of such definitions is to surround each template declaration with a\n",
      "\"define\" and \"end\" action.\n",
      "\n",
      "The define action names the template being created by providing a string\n",
      "constant. Here is a simple example:\n",
      "\n",
      "    `{{define \"T1\"}}ONE{{end}}\n",
      "    {{define \"T2\"}}TWO{{end}}\n",
      "    {{define \"T3\"}}{{template \"T1\"}} {{template \"T2\"}}{{end}}\n",
      "    {{template \"T3\"}}`\n",
      "\n",
      "This defines two templates, T1 and T2, and a third T3 that invokes the other\n",
      "two when it is executed. Finally it invokes T3. If executed this template will\n",
      "produce the text\n",
      "\n",
      "    ONE TWO\n",
      "\n",
      "By construction, a template may reside in only one association. If it's\n",
      "necessary to have a template addressable from multiple associations, the\n",
      "template definition must be parsed multiple times to create distinct *Template\n",
      "values, or must be copied with the Clone or AddParseTree method.\n",
      "\n",
      "Parse may be called multiple times to assemble the various associated templates;\n",
      "see the ParseFiles and ParseGlob functions and methods for simple ways to parse\n",
      "related templates stored in files.\n",
      "\n",
      "A template may be executed directly or through ExecuteTemplate, which executes\n",
      "an associated template identified by name. To invoke our example above, we might\n",
      "write,\n",
      "\n",
      "    err := tmpl.Execute(os.Stdout, \"no data needed\")\n",
      "    if err != nil {\n",
      "    \tlog.Fatalf(\"execution failed: %s\", err)\n",
      "    }\n",
      "\n",
      "or to invoke a particular template explicitly by name,\n",
      "\n",
      "    err := tmpl.ExecuteTemplate(os.Stdout, \"T2\", \"no data needed\")\n",
      "    if err != nil {\n",
      "    \tlog.Fatalf(\"execution failed: %s\", err)\n",
      "    }\n",
      "\n",
      "func HTMLEscape(w io.Writer, b []byte)\n",
      "func HTMLEscapeString(s string) string\n",
      "func HTMLEscaper(args ...any) string\n",
      "func IsTrue(val any) (truth, ok bool)\n",
      "func JSEscape(w io.Writer, b []byte)\n",
      "func JSEscapeString(s string) string\n",
      "func JSEscaper(args ...any) string\n",
      "func URLQueryEscaper(args ...any) string\n",
      "type ExecError struct{ ... }\n",
      "type FuncMap map[string]any\n",
      "type Template struct{ ... }\n",
      "    func Must(t *Template, err error) *Template\n",
      "    func New(name string) *Template\n",
      "    func ParseFS(fsys fs.FS, patterns ...string) (*Template, error)\n",
      "    func ParseFiles(filenames ...string) (*Template, error)\n",
      "    func ParseGlob(pattern string) (*Template, error)\n"
     ]
    }
   ],
   "source": [
    "!go doc text/template"
   ]
  },
  {
   "cell_type": "code",
   "execution_count": 30,
   "id": "4a89d7a0",
   "metadata": {
    "slideshow": {
     "slide_type": "subslide"
    }
   },
   "outputs": [
    {
     "name": "stdout",
     "output_type": "stream",
     "text": [
      "package template // import \"html/template\"\n",
      "\n",
      "Package template (html/template) implements data-driven templates for generating\n",
      "HTML output safe against code injection. It provides the same interface as\n",
      "package text/template and should be used instead of text/template whenever the\n",
      "output is HTML.\n",
      "\n",
      "The documentation here focuses on the security features of the package. For\n",
      "information about how to program the templates themselves, see the documentation\n",
      "for text/template.\n",
      "\n",
      "# Introduction\n",
      "\n",
      "This package wraps package text/template so you can share its template API to\n",
      "parse and execute HTML templates safely.\n",
      "\n",
      "    tmpl, err := template.New(\"name\").Parse(...)\n",
      "    // Error checking elided\n",
      "    err = tmpl.Execute(out, data)\n",
      "\n",
      "If successful, tmpl will now be injection-safe. Otherwise, err is an error\n",
      "defined in the docs for ErrorCode.\n",
      "\n",
      "HTML templates treat data values as plain text which should be encoded so\n",
      "they can be safely embedded in an HTML document. The escaping is contextual,\n",
      "so actions can appear within JavaScript, CSS, and URI contexts.\n",
      "\n",
      "The security model used by this package assumes that template authors are\n",
      "trusted, while Execute's data parameter is not. More details are provided below.\n",
      "\n",
      "Example\n",
      "\n",
      "    import \"text/template\"\n",
      "    ...\n",
      "    t, err := template.New(\"foo\").Parse(`{{define \"T\"}}Hello, {{.}}!{{end}}`)\n",
      "    err = t.ExecuteTemplate(out, \"T\", \"<script>alert('you have been pwned')</script>\")\n",
      "\n",
      "produces\n",
      "\n",
      "    Hello, <script>alert('you have been pwned')</script>!\n",
      "\n",
      "but the contextual autoescaping in html/template\n",
      "\n",
      "    import \"html/template\"\n",
      "    ...\n",
      "    t, err := template.New(\"foo\").Parse(`{{define \"T\"}}Hello, {{.}}!{{end}}`)\n",
      "    err = t.ExecuteTemplate(out, \"T\", \"<script>alert('you have been pwned')</script>\")\n",
      "\n",
      "produces safe, escaped HTML output\n",
      "\n",
      "    Hello, &lt;script&gt;alert(&#39;you have been pwned&#39;)&lt;/script&gt;!\n",
      "\n",
      "# Contexts\n",
      "\n",
      "This package understands HTML, CSS, JavaScript, and URIs. It adds sanitizing\n",
      "functions to each simple action pipeline, so given the excerpt\n",
      "\n",
      "    <a href=\"/search?q={{.}}\">{{.}}</a>\n",
      "\n",
      "At parse time each {{.}} is overwritten to add escaping functions as necessary.\n",
      "In this case it becomes\n",
      "\n",
      "    <a href=\"/search?q={{. | urlescaper | attrescaper}}\">{{. | htmlescaper}}</a>\n",
      "\n",
      "where urlescaper, attrescaper, and htmlescaper are aliases for internal escaping\n",
      "functions.\n",
      "\n",
      "For these internal escaping functions, if an action pipeline evaluates to a nil\n",
      "interface value, it is treated as though it were an empty string.\n",
      "\n",
      "# Namespaced and data- attributes\n",
      "\n",
      "Attributes with a namespace are treated as if they had no namespace. Given the\n",
      "excerpt\n",
      "\n",
      "    <a my:href=\"{{.}}\"></a>\n",
      "\n",
      "At parse time the attribute will be treated as if it were just \"href\". So at\n",
      "parse time the template becomes:\n",
      "\n",
      "    <a my:href=\"{{. | urlescaper | attrescaper}}\"></a>\n",
      "\n",
      "Similarly to attributes with namespaces, attributes with a \"data-\" prefix are\n",
      "treated as if they had no \"data-\" prefix. So given\n",
      "\n",
      "    <a data-href=\"{{.}}\"></a>\n",
      "\n",
      "At parse time this becomes\n",
      "\n",
      "    <a data-href=\"{{. | urlescaper | attrescaper}}\"></a>\n",
      "\n",
      "If an attribute has both a namespace and a \"data-\" prefix, only the namespace\n",
      "will be removed when determining the context. For example\n",
      "\n",
      "    <a my:data-href=\"{{.}}\"></a>\n",
      "\n",
      "This is handled as if \"my:data-href\" was just \"data-href\" and not \"href\" as it\n",
      "would be if the \"data-\" prefix were to be ignored too. Thus at parse time this\n",
      "becomes just\n",
      "\n",
      "    <a my:data-href=\"{{. | attrescaper}}\"></a>\n",
      "\n",
      "As a special case, attributes with the namespace \"xmlns\" are always treated as\n",
      "containing URLs. Given the excerpts\n",
      "\n",
      "    <a xmlns:title=\"{{.}}\"></a>\n",
      "    <a xmlns:href=\"{{.}}\"></a>\n",
      "    <a xmlns:onclick=\"{{.}}\"></a>\n",
      "\n",
      "At parse time they become:\n",
      "\n",
      "    <a xmlns:title=\"{{. | urlescaper | attrescaper}}\"></a>\n",
      "    <a xmlns:href=\"{{. | urlescaper | attrescaper}}\"></a>\n",
      "    <a xmlns:onclick=\"{{. | urlescaper | attrescaper}}\"></a>\n",
      "\n",
      "# Errors\n",
      "\n",
      "See the documentation of ErrorCode for details.\n",
      "\n",
      "# A fuller picture\n",
      "\n",
      "The rest of this package comment may be skipped on first reading; it includes\n",
      "details necessary to understand escaping contexts and error messages. Most users\n",
      "will not need to understand these details.\n",
      "\n",
      "# Contexts\n",
      "\n",
      "Assuming {{.}} is `O'Reilly: How are <i>you</i>?`, the table below shows how\n",
      "{{.}} appears when used in the context to the left.\n",
      "\n",
      "    Context                          {{.}} After\n",
      "    {{.}}                            O'Reilly: How are &lt;i&gt;you&lt;/i&gt;?\n",
      "    <a title='{{.}}'>                O&#39;Reilly: How are you?\n",
      "    <a href=\"/{{.}}\">                O&#39;Reilly: How are %3ci%3eyou%3c/i%3e?\n",
      "    <a href=\"?q={{.}}\">              O&#39;Reilly%3a%20How%20are%3ci%3e...%3f\n",
      "    <a onx='f(\"{{.}}\")'>             O\\x27Reilly: How are \\x3ci\\x3eyou...?\n",
      "    <a onx='f({{.}})'>               \"O\\x27Reilly: How are \\x3ci\\x3eyou...?\"\n",
      "    <a onx='pattern = /{{.}}/;'>     O\\x27Reilly: How are \\x3ci\\x3eyou...\\x3f\n",
      "\n",
      "If used in an unsafe context, then the value might be filtered out:\n",
      "\n",
      "    Context                          {{.}} After\n",
      "    <a href=\"{{.}}\">                 #ZgotmplZ\n",
      "\n",
      "since \"O'Reilly:\" is not an allowed protocol like \"http:\".\n",
      "\n",
      "If {{.}} is the innocuous word, `left`, then it can appear more widely,\n",
      "\n",
      "    Context                              {{.}} After\n",
      "    {{.}}                                left\n",
      "    <a title='{{.}}'>                    left\n",
      "    <a href='{{.}}'>                     left\n",
      "    <a href='/{{.}}'>                    left\n",
      "    <a href='?dir={{.}}'>                left\n",
      "    <a style=\"border-{{.}}: 4px\">        left\n",
      "    <a style=\"align: {{.}}\">             left\n",
      "    <a style=\"background: '{{.}}'>       left\n",
      "    <a style=\"background: url('{{.}}')>  left\n",
      "    <style>p.{{.}} {color:red}</style>   left\n",
      "\n",
      "Non-string values can be used in JavaScript contexts. If {{.}} is\n",
      "\n",
      "    struct{A,B string}{ \"foo\", \"bar\" }\n",
      "\n",
      "in the escaped template\n",
      "\n",
      "    <script>var pair = {{.}};</script>\n",
      "\n",
      "then the template output is\n",
      "\n",
      "    <script>var pair = {\"A\": \"foo\", \"B\": \"bar\"};</script>\n",
      "\n",
      "See package json to understand how non-string content is marshaled for embedding\n",
      "in JavaScript contexts.\n",
      "\n",
      "# Typed Strings\n",
      "\n",
      "By default, this package assumes that all pipelines produce a plain text string.\n",
      "It adds escaping pipeline stages necessary to correctly and safely embed that\n",
      "plain text string in the appropriate context.\n",
      "\n",
      "When a data value is not plain text, you can make sure it is not over-escaped by\n",
      "marking it with its type.\n",
      "\n",
      "Types HTML, JS, URL, and others from content.go can carry safe content that is\n",
      "exempted from escaping.\n",
      "\n",
      "The template\n",
      "\n",
      "    Hello, {{.}}!\n",
      "\n",
      "can be invoked with\n",
      "\n",
      "    tmpl.Execute(out, template.HTML(`<b>World</b>`))\n",
      "\n",
      "to produce\n",
      "\n",
      "    Hello, <b>World</b>!\n",
      "\n",
      "instead of the\n",
      "\n",
      "    Hello, &lt;b&gt;World&lt;b&gt;!\n",
      "\n",
      "that would have been produced if {{.}} was a regular string.\n",
      "\n",
      "# Security Model\n",
      "\n",
      "https://rawgit.com/mikesamuel/sanitized-jquery-templates/trunk/safetemplate.html#problem_definition\n",
      "defines \"safe\" as used by this package.\n",
      "\n",
      "This package assumes that template authors are trusted, that Execute's data\n",
      "parameter is not, and seeks to preserve the properties below in the face of\n",
      "untrusted data:\n",
      "\n",
      "Structure Preservation Property: \"... when a template author writes an HTML tag\n",
      "in a safe templating language, the browser will interpret the corresponding\n",
      "portion of the output as a tag regardless of the values of untrusted data,\n",
      "and similarly for other structures such as attribute boundaries and JS and CSS\n",
      "string boundaries.\"\n",
      "\n",
      "Code Effect Property: \"... only code specified by the template author should run\n",
      "as a result of injecting the template output into a page and all code specified\n",
      "by the template author should run as a result of the same.\"\n",
      "\n",
      "Least Surprise Property: \"A developer (or code reviewer) familiar with HTML,\n",
      "CSS, and JavaScript, who knows that contextual autoescaping happens should be\n",
      "able to look at a {{.}} and correctly infer what sanitization happens.\"\n",
      "\n",
      "As a consequence of the Least Surprise Property, template actions within\n",
      "an ECMAScript 6 template literal are disabled by default. Handling string\n",
      "interpolation within these literals is rather complex resulting in no clear safe\n",
      "way to support it. To re-enable template actions within ECMAScript 6 template\n",
      "literals, use the GODEBUG=jstmpllitinterp=1 environment variable.\n",
      "\n",
      "func HTMLEscape(w io.Writer, b []byte)\n",
      "func HTMLEscapeString(s string) string\n",
      "func HTMLEscaper(args ...any) string\n",
      "func IsTrue(val any) (truth, ok bool)\n",
      "func JSEscape(w io.Writer, b []byte)\n",
      "func JSEscapeString(s string) string\n",
      "func JSEscaper(args ...any) string\n",
      "func URLQueryEscaper(args ...any) string\n",
      "type CSS string\n",
      "type Error struct{ ... }\n",
      "type ErrorCode int\n",
      "    const OK ErrorCode = iota ...\n",
      "type FuncMap = template.FuncMap\n",
      "type HTML string\n",
      "type HTMLAttr string\n",
      "type JS string\n",
      "type JSStr string\n",
      "type Srcset string\n",
      "type Template struct{ ... }\n",
      "    func Must(t *Template, err error) *Template\n",
      "    func New(name string) *Template\n",
      "    func ParseFS(fs fs.FS, patterns ...string) (*Template, error)\n",
      "    func ParseFiles(filenames ...string) (*Template, error)\n",
      "    func ParseGlob(pattern string) (*Template, error)\n",
      "type URL string\n"
     ]
    }
   ],
   "source": [
    "!go doc html/template"
   ]
  },
  {
   "cell_type": "code",
   "execution_count": null,
   "id": "a5ffeb72",
   "metadata": {},
   "outputs": [],
   "source": []
  }
 ],
 "metadata": {
  "celltoolbar": "Slideshow",
  "kernelspec": {
   "display_name": "Go (gonb)",
   "language": "go",
   "name": "gonb"
  },
  "language_info": {
   "codemirror_mode": "",
   "file_extension": ".go",
   "mimetype": "",
   "name": "go",
   "nbconvert_exporter": "",
   "pygments_lexer": "",
   "version": "go1.21.1"
  },
  "rise": {
   "enable_chalkboard": true,
   "scroll": true
  },
  "toc": {
   "base_numbering": 1,
   "nav_menu": {},
   "number_sections": false,
   "sideBar": true,
   "skip_h1_title": false,
   "title_cell": "Table of Contents",
   "title_sidebar": "Contents",
   "toc_cell": true,
   "toc_position": {},
   "toc_section_display": true,
   "toc_window_display": false
  }
 },
 "nbformat": 4,
 "nbformat_minor": 5
}
