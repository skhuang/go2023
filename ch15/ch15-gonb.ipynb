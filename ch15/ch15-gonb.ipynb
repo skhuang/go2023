{
 "cells": [
  {
   "cell_type": "markdown",
   "id": "c45a37e3",
   "metadata": {
    "toc": true
   },
   "source": [
    "<h1>Table of Contents<span class=\"tocSkip\"></span></h1>\n",
    "<div class=\"toc\"><ul class=\"toc-item\"><li><span><a href=\"#Effective-Go\" data-toc-modified-id=\"Effective-Go-15\"><span class=\"toc-item-num\">15&nbsp;&nbsp;</span>Effective Go</a></span><ul class=\"toc-item\"><li><span><a href=\"#Control-Structures\" data-toc-modified-id=\"Control-Structures-15.1\"><span class=\"toc-item-num\">15.1&nbsp;&nbsp;</span>Control Structures</a></span><ul class=\"toc-item\"><li><span><a href=\"#If\" data-toc-modified-id=\"If-15.1.1\"><span class=\"toc-item-num\">15.1.1&nbsp;&nbsp;</span>If</a></span></li><li><span><a href=\"#Redeclaration-and-reassignment\" data-toc-modified-id=\"Redeclaration-and-reassignment-15.1.2\"><span class=\"toc-item-num\">15.1.2&nbsp;&nbsp;</span>Redeclaration and reassignment</a></span></li><li><span><a href=\"#For\" data-toc-modified-id=\"For-15.1.3\"><span class=\"toc-item-num\">15.1.3&nbsp;&nbsp;</span>For</a></span></li><li><span><a href=\"#Switch\" data-toc-modified-id=\"Switch-15.1.4\"><span class=\"toc-item-num\">15.1.4&nbsp;&nbsp;</span>Switch</a></span></li><li><span><a href=\"#Type-switch\" data-toc-modified-id=\"Type-switch-15.1.5\"><span class=\"toc-item-num\">15.1.5&nbsp;&nbsp;</span>Type switch</a></span></li></ul></li><li><span><a href=\"#Functions\" data-toc-modified-id=\"Functions-15.2\"><span class=\"toc-item-num\">15.2&nbsp;&nbsp;</span>Functions</a></span><ul class=\"toc-item\"><li><span><a href=\"#Multiple-return-values\" data-toc-modified-id=\"Multiple-return-values-15.2.1\"><span class=\"toc-item-num\">15.2.1&nbsp;&nbsp;</span>Multiple return values</a></span></li><li><span><a href=\"#Named-result-parameters\" data-toc-modified-id=\"Named-result-parameters-15.2.2\"><span class=\"toc-item-num\">15.2.2&nbsp;&nbsp;</span>Named result parameters</a></span></li><li><span><a href=\"#Defer\" data-toc-modified-id=\"Defer-15.2.3\"><span class=\"toc-item-num\">15.2.3&nbsp;&nbsp;</span>Defer</a></span></li></ul></li><li><span><a href=\"#Data\" data-toc-modified-id=\"Data-15.3\"><span class=\"toc-item-num\">15.3&nbsp;&nbsp;</span>Data</a></span><ul class=\"toc-item\"><li><span><a href=\"#Allocation-with-new\" data-toc-modified-id=\"Allocation-with-new-15.3.1\"><span class=\"toc-item-num\">15.3.1&nbsp;&nbsp;</span>Allocation with new</a></span></li><li><span><a href=\"#Constructors-and-composite-literals\" data-toc-modified-id=\"Constructors-and-composite-literals-15.3.2\"><span class=\"toc-item-num\">15.3.2&nbsp;&nbsp;</span>Constructors and composite literals</a></span></li><li><span><a href=\"#Allocation-with-make\" data-toc-modified-id=\"Allocation-with-make-15.3.3\"><span class=\"toc-item-num\">15.3.3&nbsp;&nbsp;</span>Allocation with make</a></span></li><li><span><a href=\"#Arrays\" data-toc-modified-id=\"Arrays-15.3.4\"><span class=\"toc-item-num\">15.3.4&nbsp;&nbsp;</span>Arrays</a></span></li><li><span><a href=\"#Slices\" data-toc-modified-id=\"Slices-15.3.5\"><span class=\"toc-item-num\">15.3.5&nbsp;&nbsp;</span>Slices</a></span></li><li><span><a href=\"#Two-dimensional-slices\" data-toc-modified-id=\"Two-dimensional-slices-15.3.6\"><span class=\"toc-item-num\">15.3.6&nbsp;&nbsp;</span>Two-dimensional slices</a></span></li><li><span><a href=\"#Maps\" data-toc-modified-id=\"Maps-15.3.7\"><span class=\"toc-item-num\">15.3.7&nbsp;&nbsp;</span>Maps</a></span></li><li><span><a href=\"#Printing\" data-toc-modified-id=\"Printing-15.3.8\"><span class=\"toc-item-num\">15.3.8&nbsp;&nbsp;</span>Printing</a></span></li><li><span><a href=\"#Append\" data-toc-modified-id=\"Append-15.3.9\"><span class=\"toc-item-num\">15.3.9&nbsp;&nbsp;</span>Append</a></span></li></ul></li><li><span><a href=\"#Initialization\" data-toc-modified-id=\"Initialization-15.4\"><span class=\"toc-item-num\">15.4&nbsp;&nbsp;</span>Initialization</a></span><ul class=\"toc-item\"><li><span><a href=\"#Constants\" data-toc-modified-id=\"Constants-15.4.1\"><span class=\"toc-item-num\">15.4.1&nbsp;&nbsp;</span>Constants</a></span></li><li><span><a href=\"#Variables\" data-toc-modified-id=\"Variables-15.4.2\"><span class=\"toc-item-num\">15.4.2&nbsp;&nbsp;</span>Variables</a></span></li><li><span><a href=\"#The-init-function\" data-toc-modified-id=\"The-init-function-15.4.3\"><span class=\"toc-item-num\">15.4.3&nbsp;&nbsp;</span>The init function</a></span></li></ul></li><li><span><a href=\"#Methods\" data-toc-modified-id=\"Methods-15.5\"><span class=\"toc-item-num\">15.5&nbsp;&nbsp;</span>Methods</a></span></li><li><span><a href=\"#Interfaces-and-other-types\" data-toc-modified-id=\"Interfaces-and-other-types-15.6\"><span class=\"toc-item-num\">15.6&nbsp;&nbsp;</span>Interfaces and other types</a></span><ul class=\"toc-item\"><li><span><a href=\"#Conversions\" data-toc-modified-id=\"Conversions-15.6.1\"><span class=\"toc-item-num\">15.6.1&nbsp;&nbsp;</span>Conversions</a></span></li><li><span><a href=\"#Interface-conversions-and-type-assertions\" data-toc-modified-id=\"Interface-conversions-and-type-assertions-15.6.2\"><span class=\"toc-item-num\">15.6.2&nbsp;&nbsp;</span>Interface conversions and type assertions</a></span></li><li><span><a href=\"#Channels-of-channels\" data-toc-modified-id=\"Channels-of-channels-15.6.3\"><span class=\"toc-item-num\">15.6.3&nbsp;&nbsp;</span>Channels of channels</a></span></li><li><span><a href=\"#Parallelization\" data-toc-modified-id=\"Parallelization-15.6.4\"><span class=\"toc-item-num\">15.6.4&nbsp;&nbsp;</span>Parallelization</a></span></li></ul></li></ul></li><li><span><a href=\"#Errors\" data-toc-modified-id=\"Errors-16\"><span class=\"toc-item-num\">16&nbsp;&nbsp;</span>Errors</a></span><ul class=\"toc-item\"><li><ul class=\"toc-item\"><li><span><a href=\"#Panic\" data-toc-modified-id=\"Panic-16.0.1\"><span class=\"toc-item-num\">16.0.1&nbsp;&nbsp;</span>Panic</a></span></li><li><span><a href=\"#Recover\" data-toc-modified-id=\"Recover-16.0.2\"><span class=\"toc-item-num\">16.0.2&nbsp;&nbsp;</span>Recover</a></span></li></ul></li></ul></li><li><span><a href=\"#A-web-server\" data-toc-modified-id=\"A-web-server-17\"><span class=\"toc-item-num\">17&nbsp;&nbsp;</span>A web server</a></span></li></ul></div>"
   ]
  },
  {
   "cell_type": "markdown",
   "id": "f2f0a382",
   "metadata": {
    "slideshow": {
     "slide_type": "slide"
    }
   },
   "source": [
    "# Effective Go"
   ]
  },
  {
   "cell_type": "markdown",
   "id": "7f00abbf",
   "metadata": {
    "slideshow": {
     "slide_type": "slide"
    }
   },
   "source": [
    "## Control Structures"
   ]
  },
  {
   "cell_type": "markdown",
   "id": "723d2a57",
   "metadata": {
    "slideshow": {
     "slide_type": "subslide"
    }
   },
   "source": [
    "### If"
   ]
  },
  {
   "cell_type": "code",
   "execution_count": null,
   "id": "68030e80",
   "metadata": {},
   "outputs": [],
   "source": [
    "if x > 0 {\n",
    "    return y\n",
    "}"
   ]
  },
  {
   "cell_type": "code",
   "execution_count": null,
   "id": "40c68fe4",
   "metadata": {},
   "outputs": [],
   "source": [
    "if err := file.Chmod(0664); err != nil {\n",
    "    log.Print(err)\n",
    "    return err\n",
    "}"
   ]
  },
  {
   "cell_type": "code",
   "execution_count": null,
   "id": "6a77eac1",
   "metadata": {},
   "outputs": [],
   "source": [
    "f, err := os.Open(name)\n",
    "if err != nil {\n",
    "    return err\n",
    "}\n",
    "codeUsing(f)"
   ]
  },
  {
   "cell_type": "code",
   "execution_count": null,
   "id": "15381065",
   "metadata": {},
   "outputs": [],
   "source": [
    "f, err := os.Open(name)\n",
    "if err != nil {\n",
    "    return err\n",
    "}\n",
    "d, err := f.Stat()\n",
    "if err != nil {\n",
    "    f.Close()\n",
    "    return err\n",
    "}\n",
    "codeUsing(f, d)"
   ]
  },
  {
   "cell_type": "markdown",
   "id": "968959b7",
   "metadata": {
    "slideshow": {
     "slide_type": "subslide"
    }
   },
   "source": [
    "### Redeclaration and reassignment"
   ]
  },
  {
   "cell_type": "code",
   "execution_count": null,
   "id": "c9682059",
   "metadata": {},
   "outputs": [],
   "source": [
    "f, err := os.Open(name)"
   ]
  },
  {
   "cell_type": "code",
   "execution_count": null,
   "id": "8880845a",
   "metadata": {},
   "outputs": [],
   "source": [
    "d, err := f.Stat()"
   ]
  },
  {
   "cell_type": "markdown",
   "id": "eb4cdd34",
   "metadata": {
    "slideshow": {
     "slide_type": "subslide"
    }
   },
   "source": [
    "### For"
   ]
  },
  {
   "cell_type": "code",
   "execution_count": null,
   "id": "54a13170",
   "metadata": {},
   "outputs": [],
   "source": [
    "// Like a C for\n",
    "for init; condition; post { }\n",
    "\n",
    "// Like a C while\n",
    "for condition { }\n",
    "\n",
    "// Like a C for(;;)\n",
    "for { }"
   ]
  },
  {
   "cell_type": "code",
   "execution_count": null,
   "id": "f2462a4a",
   "metadata": {},
   "outputs": [],
   "source": [
    "sum := 0\n",
    "for i := 0; i < 10; i++ {\n",
    "    sum += i\n",
    "}"
   ]
  },
  {
   "cell_type": "code",
   "execution_count": null,
   "id": "3f15089c",
   "metadata": {},
   "outputs": [],
   "source": [
    "for key, value := range oldMap {\n",
    "    newMap[key] = value\n",
    "}"
   ]
  },
  {
   "cell_type": "code",
   "execution_count": null,
   "id": "4e7d4e2f",
   "metadata": {},
   "outputs": [],
   "source": [
    "for key := range m {\n",
    "    if key.expired() {\n",
    "        delete(m, key)\n",
    "    }\n",
    "}"
   ]
  },
  {
   "cell_type": "code",
   "execution_count": 52,
   "id": "60553339",
   "metadata": {
    "slideshow": {
     "slide_type": "subslide"
    }
   },
   "outputs": [
    {
     "name": "stdout",
     "output_type": "stream",
     "text": [
      "45\n"
     ]
    }
   ],
   "source": [
    "%%\n",
    "array := []int{1,2,3,4,5,6,7,8,9}\n",
    "sum := 0\n",
    "for _, value := range array {\n",
    "    sum += value\n",
    "}\n",
    "fmt.Println(sum)"
   ]
  },
  {
   "cell_type": "code",
   "execution_count": 42,
   "id": "9f292fc0",
   "metadata": {
    "slideshow": {
     "slide_type": "subslide"
    }
   },
   "outputs": [
    {
     "name": "stdout",
     "output_type": "stream",
     "text": [
      "character U+65E5 '日' starts at byte position 0\n",
      "character U+672C '本' starts at byte position 3\n",
      "character U+FFFD '�' starts at byte position 6\n",
      "character U+8A9E '語' starts at byte position 7\n"
     ]
    }
   ],
   "source": [
    "%%\n",
    "for pos, char := range \"日本\\x80語\" { // \\x80 is an illegal UTF-8 encoding\n",
    "    fmt.Printf(\"character %#U starts at byte position %d\\n\", char, pos)\n",
    "}"
   ]
  },
  {
   "cell_type": "code",
   "execution_count": 49,
   "id": "34037822",
   "metadata": {},
   "outputs": [
    {
     "name": "stdout",
     "output_type": "stream",
     "text": [
      "esreveR esreveR"
     ]
    }
   ],
   "source": [
    "// Reverse a\n",
    "%%\n",
    "a := []byte(\"Reverse Reverse\")\n",
    "for i, j := 0, len(a)-1; i < j; i, j = i+1, j-1 {\n",
    "    a[i], a[j] = a[j], a[i]\n",
    "}\n",
    "fmt.Printf(\"%s\",a)"
   ]
  },
  {
   "cell_type": "markdown",
   "id": "67fa7692",
   "metadata": {
    "slideshow": {
     "slide_type": "subslide"
    }
   },
   "source": [
    "### Switch\n",
    "* Go's switch is more general than C's\n",
    "* Expressions need not be constants or integers\n",
    "* if no expression, switch on true"
   ]
  },
  {
   "cell_type": "code",
   "execution_count": 1,
   "id": "89c9ca37",
   "metadata": {
    "slideshow": {
     "slide_type": "subslide"
    }
   },
   "outputs": [],
   "source": [
    "func unhex(c byte) byte {\n",
    "    switch {\n",
    "    case '0' <= c && c <= '9':\n",
    "        return c - '0'\n",
    "    case 'a' <= c && c <= 'f':\n",
    "        return c - 'a' + 10\n",
    "    case 'A' <= c && c <= 'F':\n",
    "        return c - 'A' + 10\n",
    "    }\n",
    "    return 0\n",
    "}"
   ]
  },
  {
   "cell_type": "code",
   "execution_count": 14,
   "id": "6b86d6d9",
   "metadata": {
    "slideshow": {
     "slide_type": "subslide"
    }
   },
   "outputs": [
    {
     "name": "stdout",
     "output_type": "stream",
     "text": [
      "14\n"
     ]
    }
   ],
   "source": [
    "%%\n",
    "fmt.Println(unhex('E'))"
   ]
  },
  {
   "cell_type": "code",
   "execution_count": 2,
   "id": "6a6e73eb",
   "metadata": {
    "slideshow": {
     "slide_type": "subslide"
    }
   },
   "outputs": [],
   "source": [
    "//no automatic fall through, but can be in comma-separated lists\n",
    "func shouldEscape(c byte) bool {\n",
    "    switch c {\n",
    "    case ' ', '?', '&', '=', '#', '+', '%':\n",
    "        return true\n",
    "    }\n",
    "    return false\n",
    "}"
   ]
  },
  {
   "cell_type": "code",
   "execution_count": 11,
   "id": "223ddd6c",
   "metadata": {
    "slideshow": {
     "slide_type": "subslide"
    }
   },
   "outputs": [
    {
     "name": "stdout",
     "output_type": "stream",
     "text": [
      "true\n"
     ]
    }
   ],
   "source": [
    "%%\n",
    "fmt.Println(shouldEscape('?'))"
   ]
  },
  {
   "cell_type": "code",
   "execution_count": null,
   "id": "6820a146",
   "metadata": {
    "slideshow": {
     "slide_type": "subslide"
    }
   },
   "outputs": [],
   "source": [
    "// break switch or break loop\n",
    "Loop:\n",
    "    for n := 0; n < len(src); n += size {\n",
    "        switch {\n",
    "        case src[n] < sizeOne:\n",
    "            if validateOnly {\n",
    "                break  //break switch\n",
    "            }\n",
    "            size = 1\n",
    "            update(src[n])\n",
    "\n",
    "        case src[n] < sizeTwo:\n",
    "            if n+1 >= len(src) {\n",
    "                err = errShortInput\n",
    "                break Loop //break loop\n",
    "            }\n",
    "            if validateOnly {\n",
    "                break\n",
    "            }\n",
    "            size = 2\n",
    "            update(src[n] + src[n+1]<<shift)\n",
    "        }\n",
    "    }"
   ]
  },
  {
   "cell_type": "code",
   "execution_count": 6,
   "id": "42bc501e",
   "metadata": {
    "slideshow": {
     "slide_type": "subslide"
    }
   },
   "outputs": [],
   "source": [
    "// Compare returns an integer comparing the two byte slices,\n",
    "// lexicographically.\n",
    "// The result will be 0 if a == b, -1 if a < b, and +1 if a > b\n",
    "func Compare(a, b []byte) int {\n",
    "    for i := 0; i < len(a) && i < len(b); i++ {\n",
    "        switch {\n",
    "        case a[i] > b[i]:\n",
    "            return 1\n",
    "        case a[i] < b[i]:\n",
    "            return -1\n",
    "        }\n",
    "    }\n",
    "    switch {\n",
    "    case len(a) > len(b):\n",
    "        return 1\n",
    "    case len(a) < len(b):\n",
    "        return -1\n",
    "    }\n",
    "    return 0\n",
    "}"
   ]
  },
  {
   "cell_type": "code",
   "execution_count": 10,
   "id": "357f9cea",
   "metadata": {
    "slideshow": {
     "slide_type": "subslide"
    }
   },
   "outputs": [
    {
     "name": "stdout",
     "output_type": "stream",
     "text": [
      "-1\n"
     ]
    }
   ],
   "source": [
    "%%\n",
    "a := []byte{1,2,3,4,5}\n",
    "b := []byte {1,2,4}\n",
    "fmt.Println(Compare(a,b))"
   ]
  },
  {
   "cell_type": "markdown",
   "id": "55851cc4",
   "metadata": {
    "slideshow": {
     "slide_type": "subslide"
    }
   },
   "source": [
    "### Type switch\n",
    "* Discover the dynamic type of an interface variable\n",
    "* Use type assertion syntax with the keyword type inside the parentheses"
   ]
  },
  {
   "cell_type": "code",
   "execution_count": null,
   "id": "a45b9bd0",
   "metadata": {
    "slideshow": {
     "slide_type": "subslide"
    }
   },
   "outputs": [],
   "source": [
    "var t interface{}\n",
    "t = functionOfSomeType()\n",
    "switch t := t.(type) {\n",
    "default:\n",
    "    fmt.Printf(\"unexpected type %T\\n\", t)     // %T prints whatever type t has\n",
    "case bool:\n",
    "    fmt.Printf(\"boolean %t\\n\", t)             // t has type bool\n",
    "case int:\n",
    "    fmt.Printf(\"integer %d\\n\", t)             // t has type int\n",
    "case *bool:\n",
    "    fmt.Printf(\"pointer to boolean %t\\n\", *t) // t has type *bool\n",
    "case *int:\n",
    "    fmt.Printf(\"pointer to integer %d\\n\", *t) // t has type *int\n",
    "}"
   ]
  },
  {
   "cell_type": "markdown",
   "id": "2f2616d2",
   "metadata": {
    "slideshow": {
     "slide_type": "slide"
    }
   },
   "source": [
    "## Functions"
   ]
  },
  {
   "cell_type": "markdown",
   "id": "aa1fd357",
   "metadata": {
    "slideshow": {
     "slide_type": "subslide"
    }
   },
   "source": [
    "### Multiple return values\n",
    "* in C: eror returns such as -1 for EOF and modify an argument passed by address\n",
    "* in C: write error signaled by a negative count with the error code\n",
    "* in Go: a count and an error\n",
    " \n",
    " <code> func (file *File) Write(b []byte) (n int, err error)</code>\n",
    " \n",
    "* returns the number of bytes written and a non-nil error when n!= len(b) "
   ]
  },
  {
   "cell_type": "code",
   "execution_count": 21,
   "id": "9e7c9a09",
   "metadata": {
    "slideshow": {
     "slide_type": "subslide"
    }
   },
   "outputs": [],
   "source": [
    "//Grab a number from a position and return the number and the next position\n",
    "func isDigit(c byte) bool {\n",
    "    if c < '0' || c > '9' {\n",
    "        return false\n",
    "    }\n",
    "    return true\n",
    "}\n",
    "func nextInt(b []byte, i int) (int, int) {\n",
    "    for ; i < len(b) && !isDigit(b[i]); i++ {\n",
    "    }\n",
    "    x := 0\n",
    "    for ; i < len(b) && isDigit(b[i]); i++ {\n",
    "        x = x*10 + int(b[i]) - '0'\n",
    "    }\n",
    "    return x, i\n",
    "}"
   ]
  },
  {
   "cell_type": "code",
   "execution_count": 32,
   "id": "5589bb02",
   "metadata": {
    "slideshow": {
     "slide_type": "subslide"
    }
   },
   "outputs": [
    {
     "name": "stdout",
     "output_type": "stream",
     "text": [
      "120\n",
      "360\n",
      "10240\n",
      "111\n"
     ]
    }
   ],
   "source": [
    "%%\n",
    "b := []byte(\"120 360 10240 111\")\n",
    "for i := 0; i < len(b); {\n",
    "        var x int\n",
    "        x, i = nextInt(b, i)\n",
    "        fmt.Println(x)\n",
    "}"
   ]
  },
  {
   "cell_type": "markdown",
   "id": "2fa5c164",
   "metadata": {
    "slideshow": {
     "slide_type": "subslide"
    }
   },
   "source": [
    "### Named result parameters\n",
    "* return of Go can be given names and used as regular variables, like the parameters\n",
    "* named results are initialized to zero values for their types when function begins\n",
    "* current values of the result parameter are used when execute a return with no arguments"
   ]
  },
  {
   "cell_type": "code",
   "execution_count": 31,
   "id": "ec501161",
   "metadata": {
    "slideshow": {
     "slide_type": "subslide"
    }
   },
   "outputs": [],
   "source": [
    "func isDigit(c byte) (d bool) {\n",
    "    d = true\n",
    "    if c < '0' || c > '9' {\n",
    "        d = false\n",
    "    }\n",
    "    return\n",
    "}\n",
    "func nextInt(b []byte, pos int) (value, nextPos int) {\n",
    "    for nextPos = pos; nextPos < len(b) && !isDigit(b[nextPos]); nextPos++ {\n",
    "    }\n",
    "    value = 0\n",
    "    for ; nextPos < len(b) && isDigit(b[nextPos]); nextPos++ {\n",
    "        value = value*10 + int(b[nextPos]) - '0'\n",
    "    }\n",
    "    return\n",
    "}"
   ]
  },
  {
   "cell_type": "code",
   "execution_count": 33,
   "id": "1f72e2a2",
   "metadata": {
    "slideshow": {
     "slide_type": "subslide"
    }
   },
   "outputs": [
    {
     "name": "stdout",
     "output_type": "stream",
     "text": [
      "122\n",
      "360\n",
      "10240\n",
      "111\n"
     ]
    }
   ],
   "source": [
    "%%\n",
    "b := []byte(\"122 360 10240 111\")\n",
    "for i := 0; i < len(b); {\n",
    "        var x int\n",
    "        x, i = nextInt(b, i)\n",
    "        fmt.Println(x)\n",
    "}"
   ]
  },
  {
   "cell_type": "markdown",
   "id": "b46841ae",
   "metadata": {
    "slideshow": {
     "slide_type": "subslide"
    }
   },
   "source": [
    "### Defer\n",
    "* Schedule a function call (the deferred function) to be run before the function (executing the defer) returns\n",
    "* Resources must be released regardless of which path  a function takes to return\n",
    "* unlocking a mutex or closing a file"
   ]
  },
  {
   "cell_type": "code",
   "execution_count": 34,
   "id": "4f29324b",
   "metadata": {
    "slideshow": {
     "slide_type": "subslide"
    }
   },
   "outputs": [],
   "source": [
    "// Contents returns the file's contents as a string.\n",
    "func Contents(filename string) (string, error) {\n",
    "    f, err := os.Open(filename)\n",
    "    if err != nil {\n",
    "        return \"\", err\n",
    "    }\n",
    "    defer f.Close()  // f.Close will run when we're finished.\n",
    "\n",
    "    var result []byte\n",
    "    buf := make([]byte, 100)\n",
    "    for {\n",
    "        n, err := f.Read(buf[0:])\n",
    "        result = append(result, buf[0:n]...) // append is discussed later.\n",
    "        if err != nil {\n",
    "            if err == io.EOF {\n",
    "                break\n",
    "            }\n",
    "            return \"\", err  // f will be closed if we return here.\n",
    "        }\n",
    "    }\n",
    "    return string(result), nil // f will be closed if we return here.\n",
    "}"
   ]
  },
  {
   "cell_type": "code",
   "execution_count": 36,
   "id": "63174200",
   "metadata": {
    "slideshow": {
     "slide_type": "subslide"
    }
   },
   "outputs": [
    {
     "name": "stdout",
     "output_type": "stream",
     "text": [
      "this is a test\n",
      "// Contents returns the file's contents as a string.\n",
      "func Contents(filename string) (string, error) {\n",
      "    f, err := os.Open(filename)\n",
      "    if err != nil {\n",
      "        return \"\", err\n",
      "    }\n",
      "    defer f.Close()  // f.Close will run when we're finished.\n",
      "\n",
      "    var result []byte\n",
      "    buf := make([]byte, 100)\n",
      "    for {\n",
      "        n, err := f.Read(buf[0:])\n",
      "        result = append(result, buf[0:n]...) // append is discussed later.\n",
      "        if err != nil {\n",
      "            if err == io.EOF {\n",
      "                break\n",
      "            }\n",
      "            return \"\", err  // f will be closed if we return here.\n",
      "        }\n",
      "    }\n",
      "    return string(result), nil // f will be closed if we return here.\n",
      "}\n",
      "<nil>"
     ]
    }
   ],
   "source": [
    "%%\n",
    "fmt.Print(Contents(\"testContents\"))"
   ]
  },
  {
   "cell_type": "code",
   "execution_count": 37,
   "id": "f6d8ea53",
   "metadata": {
    "slideshow": {
     "slide_type": "subslide"
    }
   },
   "outputs": [
    {
     "name": "stdout",
     "output_type": "stream",
     "text": [
      "4 3 2 1 0 "
     ]
    }
   ],
   "source": [
    "// arguments to the defer function are evaluated when defer executes\n",
    "%%\n",
    "for i := 0; i < 5; i++ {\n",
    "    defer fmt.Printf(\"%d \", i)\n",
    "}"
   ]
  },
  {
   "cell_type": "code",
   "execution_count": 38,
   "id": "717bff1b",
   "metadata": {
    "slideshow": {
     "slide_type": "subslide"
    }
   },
   "outputs": [
    {
     "name": "stdout",
     "output_type": "stream",
     "text": [
      "entering: b\n",
      "in b\n",
      "entering: a\n",
      "in a\n",
      "leaving: a\n",
      "leaving: b\n"
     ]
    }
   ],
   "source": [
    "//Deferred functions are executed in LIFO order\n",
    "func trace(s string)   { fmt.Println(\"entering:\", s) }\n",
    "func untrace(s string) { fmt.Println(\"leaving:\", s) }\n",
    "\n",
    "// Use them like this:\n",
    "func a() {\n",
    "    trace(\"a\")\n",
    "    defer untrace(\"a\")\n",
    "    // do something....\n",
    "    fmt.Println(\"in a\")\n",
    "}\n",
    "func b() {\n",
    "    trace(\"b\")\n",
    "    defer untrace(\"b\")\n",
    "    fmt.Println(\"in b\")\n",
    "    a()\n",
    "}\n",
    "\n",
    "func main() {\n",
    "    b()\n",
    "}"
   ]
  },
  {
   "cell_type": "code",
   "execution_count": 39,
   "id": "2c5cbc1e",
   "metadata": {
    "slideshow": {
     "slide_type": "subslide"
    }
   },
   "outputs": [
    {
     "name": "stdout",
     "output_type": "stream",
     "text": [
      "entering: b\n",
      "in b\n",
      "entering: a\n",
      "in a\n",
      "leaving: a\n",
      "leaving: b\n"
     ]
    }
   ],
   "source": [
    "// arguments to deferred functions are evaluated when the defer executes\n",
    "func trace(s string) string {\n",
    "    fmt.Println(\"entering:\", s)\n",
    "    return s\n",
    "}\n",
    "\n",
    "func un(s string) {\n",
    "    fmt.Println(\"leaving:\", s)\n",
    "}\n",
    "\n",
    "func a() {\n",
    "    defer un(trace(\"a\"))\n",
    "    fmt.Println(\"in a\")\n",
    "}\n",
    "\n",
    "func b() {\n",
    "    defer un(trace(\"b\"))\n",
    "    fmt.Println(\"in b\")\n",
    "    a()\n",
    "}\n",
    "\n",
    "func main() {\n",
    "    b()\n",
    "}"
   ]
  },
  {
   "cell_type": "markdown",
   "id": "8d3d3c68",
   "metadata": {
    "slideshow": {
     "slide_type": "slide"
    }
   },
   "source": [
    "## Data"
   ]
  },
  {
   "cell_type": "markdown",
   "id": "ceae2c11",
   "metadata": {
    "slideshow": {
     "slide_type": "subslide"
    }
   },
   "source": [
    "### Allocation with new"
   ]
  },
  {
   "cell_type": "code",
   "execution_count": null,
   "id": "64f462fa",
   "metadata": {},
   "outputs": [],
   "source": [
    "type SyncedBuffer struct {\n",
    "    lock    sync.Mutex\n",
    "    buffer  bytes.Buffer\n",
    "}"
   ]
  },
  {
   "cell_type": "code",
   "execution_count": null,
   "id": "2e76a2c2",
   "metadata": {},
   "outputs": [],
   "source": [
    "p := new(SyncedBuffer)  // type *SyncedBuffer\n",
    "var v SyncedBuffer      // type  SyncedBuffer"
   ]
  },
  {
   "cell_type": "markdown",
   "id": "c20ca027",
   "metadata": {
    "slideshow": {
     "slide_type": "subslide"
    }
   },
   "source": [
    "### Constructors and composite literals"
   ]
  },
  {
   "cell_type": "code",
   "execution_count": null,
   "id": "5d3eb770",
   "metadata": {},
   "outputs": [],
   "source": [
    "func NewFile(fd int, name string) *File {\n",
    "    if fd < 0 {\n",
    "        return nil\n",
    "    }\n",
    "    f := new(File)\n",
    "    f.fd = fd\n",
    "    f.name = name\n",
    "    f.dirinfo = nil\n",
    "    f.nepipe = 0\n",
    "    return f\n",
    "}"
   ]
  },
  {
   "cell_type": "code",
   "execution_count": null,
   "id": "e11b134a",
   "metadata": {},
   "outputs": [],
   "source": [
    "func NewFile(fd int, name string) *File {\n",
    "    if fd < 0 {\n",
    "        return nil\n",
    "    }\n",
    "    f := File{fd, name, nil, 0}\n",
    "    return &f\n",
    "}"
   ]
  },
  {
   "cell_type": "code",
   "execution_count": null,
   "id": "1035b6c4",
   "metadata": {},
   "outputs": [],
   "source": [
    "return &File{fd, name, nil, 0}"
   ]
  },
  {
   "cell_type": "code",
   "execution_count": null,
   "id": "b9eec7e8",
   "metadata": {},
   "outputs": [],
   "source": [
    "return &File{fd: fd, name: name}"
   ]
  },
  {
   "cell_type": "code",
   "execution_count": null,
   "id": "4c669312",
   "metadata": {},
   "outputs": [],
   "source": [
    "a := [...]string   {Enone: \"no error\", Eio: \"Eio\", Einval: \"invalid argument\"}\n",
    "s := []string      {Enone: \"no error\", Eio: \"Eio\", Einval: \"invalid argument\"}\n",
    "m := map[int]string{Enone: \"no error\", Eio: \"Eio\", Einval: \"invalid argument\"}"
   ]
  },
  {
   "cell_type": "markdown",
   "id": "fcda57ce",
   "metadata": {
    "slideshow": {
     "slide_type": "subslide"
    }
   },
   "source": [
    "### Allocation with make"
   ]
  },
  {
   "cell_type": "code",
   "execution_count": null,
   "id": "03dfe064",
   "metadata": {},
   "outputs": [],
   "source": [
    "make([]int, 10, 100)"
   ]
  },
  {
   "cell_type": "code",
   "execution_count": null,
   "id": "db04f146",
   "metadata": {},
   "outputs": [],
   "source": [
    "var p *[]int = new([]int)       // allocates slice structure; *p == nil; rarely useful\n",
    "var v  []int = make([]int, 100) // the slice v now refers to a new array of 100 ints\n",
    "\n",
    "// Unnecessarily complex:\n",
    "var p *[]int = new([]int)\n",
    "*p = make([]int, 100, 100)\n",
    "\n",
    "// Idiomatic:\n",
    "v := make([]int, 100)"
   ]
  },
  {
   "cell_type": "markdown",
   "id": "665abd7d",
   "metadata": {
    "slideshow": {
     "slide_type": "subslide"
    }
   },
   "source": [
    "### Arrays"
   ]
  },
  {
   "cell_type": "code",
   "execution_count": null,
   "id": "0fa4a156",
   "metadata": {},
   "outputs": [],
   "source": [
    "func Sum(a *[3]float64) (sum float64) {\n",
    "    for _, v := range *a {\n",
    "        sum += v\n",
    "    }\n",
    "    return\n",
    "}\n",
    "\n",
    "array := [...]float64{7.0, 8.5, 9.1}\n",
    "x := Sum(&array)  // Note the explicit address-of operator"
   ]
  },
  {
   "cell_type": "markdown",
   "id": "4020c9b7",
   "metadata": {
    "slideshow": {
     "slide_type": "subslide"
    }
   },
   "source": [
    "### Slices"
   ]
  },
  {
   "cell_type": "code",
   "execution_count": null,
   "id": "db515623",
   "metadata": {},
   "outputs": [],
   "source": [
    "func (f *File) Read(buf []byte) (n int, err error)"
   ]
  },
  {
   "cell_type": "code",
   "execution_count": null,
   "id": "958d149a",
   "metadata": {},
   "outputs": [],
   "source": [
    "n, err := f.Read(buf[0:32])"
   ]
  },
  {
   "cell_type": "code",
   "execution_count": null,
   "id": "64d5d45c",
   "metadata": {},
   "outputs": [],
   "source": [
    "var n int\n",
    "    var err error\n",
    "    for i := 0; i < 32; i++ {\n",
    "        nbytes, e := f.Read(buf[i:i+1])  // Read one byte.\n",
    "        n += nbytes\n",
    "        if nbytes == 0 || e != nil {\n",
    "            err = e\n",
    "            break\n",
    "        }\n",
    "    }"
   ]
  },
  {
   "cell_type": "code",
   "execution_count": null,
   "id": "1285f46b",
   "metadata": {},
   "outputs": [],
   "source": [
    "func Append(slice, data []byte) []byte {\n",
    "    l := len(slice)\n",
    "    if l + len(data) > cap(slice) {  // reallocate\n",
    "        // Allocate double what's needed, for future growth.\n",
    "        newSlice := make([]byte, (l+len(data))*2)\n",
    "        // The copy function is predeclared and works for any slice type.\n",
    "        copy(newSlice, slice)\n",
    "        slice = newSlice\n",
    "    }\n",
    "    slice = slice[0:l+len(data)]\n",
    "    copy(slice[l:], data)\n",
    "    return slice\n",
    "}"
   ]
  },
  {
   "cell_type": "markdown",
   "id": "2e136e03",
   "metadata": {
    "slideshow": {
     "slide_type": "subslide"
    }
   },
   "source": [
    "### Two-dimensional slices"
   ]
  },
  {
   "cell_type": "code",
   "execution_count": null,
   "id": "d22c0510",
   "metadata": {},
   "outputs": [],
   "source": [
    "type Transform [3][3]float64  // A 3x3 array, really an array of arrays.\n",
    "type LinesOfText [][]byte     // A slice of byte slices."
   ]
  },
  {
   "cell_type": "code",
   "execution_count": null,
   "id": "9f138558",
   "metadata": {},
   "outputs": [],
   "source": [
    "text := LinesOfText{\n",
    "    []byte(\"Now is the time\"),\n",
    "    []byte(\"for all good gophers\"),\n",
    "    []byte(\"to bring some fun to the party.\"),\n",
    "}"
   ]
  },
  {
   "cell_type": "code",
   "execution_count": null,
   "id": "ed372ef9",
   "metadata": {},
   "outputs": [],
   "source": [
    "// Allocate the top-level slice.\n",
    "picture := make([][]uint8, YSize) // One row per unit of y.\n",
    "// Loop over the rows, allocating the slice for each row.\n",
    "for i := range picture {\n",
    "    picture[i] = make([]uint8, XSize)\n",
    "}"
   ]
  },
  {
   "cell_type": "code",
   "execution_count": null,
   "id": "05e48727",
   "metadata": {},
   "outputs": [],
   "source": [
    "// Allocate the top-level slice, the same as before.\n",
    "picture := make([][]uint8, YSize) // One row per unit of y.\n",
    "// Allocate one large slice to hold all the pixels.\n",
    "pixels := make([]uint8, XSize*YSize) // Has type []uint8 even though picture is [][]uint8.\n",
    "// Loop over the rows, slicing each row from the front of the remaining pixels slice.\n",
    "for i := range picture {\n",
    "    picture[i], pixels = pixels[:XSize], pixels[XSize:]\n",
    "}"
   ]
  },
  {
   "cell_type": "markdown",
   "id": "5057ec6e",
   "metadata": {
    "slideshow": {
     "slide_type": "subslide"
    }
   },
   "source": [
    "### Maps"
   ]
  },
  {
   "cell_type": "code",
   "execution_count": 57,
   "id": "1d7d8fe1",
   "metadata": {},
   "outputs": [],
   "source": [
    "var timeZone = map[string]int{\n",
    "    \"UTC\":  0*60*60,\n",
    "    \"EST\": -5*60*60,\n",
    "    \"CST\": -6*60*60,\n",
    "    \"MST\": -7*60*60,\n",
    "    \"PST\": -8*60*60,\n",
    "}"
   ]
  },
  {
   "cell_type": "code",
   "execution_count": null,
   "id": "d8ac2441",
   "metadata": {},
   "outputs": [],
   "source": [
    "offset := timeZone[\"EST\"]"
   ]
  },
  {
   "cell_type": "code",
   "execution_count": null,
   "id": "509018f3",
   "metadata": {},
   "outputs": [],
   "source": [
    "attended := map[string]bool{\n",
    "    \"Ann\": true,\n",
    "    \"Joe\": true,\n",
    "    ...\n",
    "}\n",
    "\n",
    "if attended[person] { // will be false if person is not in the map\n",
    "    fmt.Println(person, \"was at the meeting\")\n",
    "}"
   ]
  },
  {
   "cell_type": "code",
   "execution_count": null,
   "id": "a677ce67",
   "metadata": {},
   "outputs": [],
   "source": [
    "var seconds int\n",
    "var ok bool\n",
    "seconds, ok = timeZone[tz]"
   ]
  },
  {
   "cell_type": "code",
   "execution_count": null,
   "id": "dd5a94a9",
   "metadata": {},
   "outputs": [],
   "source": [
    "func offset(tz string) int {\n",
    "    if seconds, ok := timeZone[tz]; ok {\n",
    "        return seconds\n",
    "    }\n",
    "    log.Println(\"unknown time zone:\", tz)\n",
    "    return 0\n",
    "}\n"
   ]
  },
  {
   "cell_type": "code",
   "execution_count": null,
   "id": "349f1d4e",
   "metadata": {},
   "outputs": [],
   "source": [
    "_, present := timeZone[tz]"
   ]
  },
  {
   "cell_type": "code",
   "execution_count": null,
   "id": "aa25f8f3",
   "metadata": {},
   "outputs": [],
   "source": [
    "delete(timeZone, \"PDT\")  // Now on Standard Time"
   ]
  },
  {
   "cell_type": "markdown",
   "id": "67b25810",
   "metadata": {
    "slideshow": {
     "slide_type": "subslide"
    }
   },
   "source": [
    "### Printing"
   ]
  },
  {
   "cell_type": "code",
   "execution_count": 54,
   "id": "ee2ac59a",
   "metadata": {},
   "outputs": [
    {
     "name": "stdout",
     "output_type": "stream",
     "text": [
      "Hello 23\n",
      "Hello 23\n",
      "Hello 23\n",
      "Hello 23\n"
     ]
    }
   ],
   "source": [
    "%%\n",
    "fmt.Printf(\"Hello %d\\n\", 23)\n",
    "fmt.Fprint(os.Stdout, \"Hello \", 23, \"\\n\")\n",
    "fmt.Println(\"Hello\", 23)\n",
    "fmt.Println(fmt.Sprint(\"Hello \", 23))"
   ]
  },
  {
   "cell_type": "code",
   "execution_count": 55,
   "id": "e6381a98",
   "metadata": {},
   "outputs": [
    {
     "name": "stdout",
     "output_type": "stream",
     "text": [
      "18446744073709551615 ffffffffffffffff; -1 -1\n"
     ]
    }
   ],
   "source": [
    "%%\n",
    "var x uint64 = 1<<64 - 1\n",
    "fmt.Printf(\"%d %x; %d %x\\n\", x, x, int64(x), int64(x))"
   ]
  },
  {
   "cell_type": "code",
   "execution_count": 58,
   "id": "13b8a9b4",
   "metadata": {},
   "outputs": [
    {
     "name": "stdout",
     "output_type": "stream",
     "text": [
      "map[CST:-21600 EST:-18000 MST:-25200 PST:-28800 UTC:0]\n"
     ]
    }
   ],
   "source": [
    "%%\n",
    "fmt.Printf(\"%v\\n\", timeZone)  // or just fmt.Println(timeZone)"
   ]
  },
  {
   "cell_type": "code",
   "execution_count": 62,
   "id": "9259ad89",
   "metadata": {},
   "outputs": [
    {
     "name": "stdout",
     "output_type": "stream",
     "text": [
      "&{7 -2.35 abc\tdef}\n",
      "&{a:7 b:-2.35 c:abc\tdef}\n",
      "&main.T{a:7, b:-2.35, c:\"abc\\tdef\"}\n",
      "map[string]int{\"CST\":-21600, \"EST\":-18000, \"MST\":-25200, \"PST\":-28800, \"UTC\":0}\n"
     ]
    }
   ],
   "source": [
    "type T struct {\n",
    "    a int\n",
    "    b float64\n",
    "    c string\n",
    "}\n",
    "\n",
    "var t = &T{ 7, -2.35, \"abc\\tdef\" }\n",
    "%%\n",
    "fmt.Printf(\"%v\\n\", t)\n",
    "fmt.Printf(\"%+v\\n\", t)\n",
    "fmt.Printf(\"%#v\\n\", t)\n",
    "fmt.Printf(\"%#v\\n\", timeZone)"
   ]
  },
  {
   "cell_type": "code",
   "execution_count": 60,
   "id": "8cabdccf",
   "metadata": {},
   "outputs": [
    {
     "name": "stdout",
     "output_type": "stream",
     "text": [
      "map[string]int\n"
     ]
    }
   ],
   "source": [
    "%%\n",
    "fmt.Printf(\"%T\\n\", timeZone)"
   ]
  },
  {
   "cell_type": "code",
   "execution_count": 63,
   "id": "7d93072e",
   "metadata": {},
   "outputs": [
    {
     "name": "stdout",
     "output_type": "stream",
     "text": [
      "7/-2.35/\"abc\\tdef\"\n"
     ]
    }
   ],
   "source": [
    "func (t *T) String() string {\n",
    "    return fmt.Sprintf(\"%d/%g/%q\", t.a, t.b, t.c)\n",
    "}\n",
    "%%\n",
    "fmt.Printf(\"%v\\n\", t)"
   ]
  },
  {
   "cell_type": "code",
   "execution_count": 64,
   "id": "1a6ca796",
   "metadata": {},
   "outputs": [],
   "source": [
    "type MyString string\n",
    "\n",
    "func (m MyString) String() string {\n",
    "    return fmt.Sprintf(\"MyString=%s\", m) // Error: will recur forever.\n",
    "}"
   ]
  },
  {
   "cell_type": "code",
   "execution_count": 65,
   "id": "706dcb56",
   "metadata": {},
   "outputs": [],
   "source": [
    "type MyString string\n",
    "func (m MyString) String() string {\n",
    "    return fmt.Sprintf(\"MyString=%s\", string(m)) // OK: note conversion.\n",
    "}"
   ]
  },
  {
   "cell_type": "code",
   "execution_count": null,
   "id": "fd08f191",
   "metadata": {},
   "outputs": [],
   "source": [
    "func Printf(format string, v ...interface{}) (n int, err error) {"
   ]
  },
  {
   "cell_type": "code",
   "execution_count": null,
   "id": "840cd8cf",
   "metadata": {},
   "outputs": [],
   "source": [
    "// Println prints to the standard logger in the manner of fmt.Println.\n",
    "func Println(v ...interface{}) {\n",
    "    std.Output(2, fmt.Sprintln(v...))  // Output takes parameters (int, string)\n",
    "}"
   ]
  },
  {
   "cell_type": "code",
   "execution_count": null,
   "id": "f4628c27",
   "metadata": {},
   "outputs": [],
   "source": [
    "func Min(a ...int) int {\n",
    "    min := int(^uint(0) >> 1)  // largest int\n",
    "    for _, i := range a {\n",
    "        if i < min {\n",
    "            min = i\n",
    "        }\n",
    "    }\n",
    "    return min\n",
    "}"
   ]
  },
  {
   "cell_type": "markdown",
   "id": "8ab45650",
   "metadata": {
    "slideshow": {
     "slide_type": "subslide"
    }
   },
   "source": [
    "### Append"
   ]
  },
  {
   "cell_type": "code",
   "execution_count": null,
   "id": "ba3a8b68",
   "metadata": {},
   "outputs": [],
   "source": [
    "func append(slice []T, elements ...T) []T"
   ]
  },
  {
   "cell_type": "code",
   "execution_count": 66,
   "id": "e892af9f",
   "metadata": {
    "scrolled": true
   },
   "outputs": [
    {
     "name": "stdout",
     "output_type": "stream",
     "text": [
      "[1 2 3 4 5 6]\n"
     ]
    }
   ],
   "source": [
    "%%\n",
    "x := []int{1,2,3}\n",
    "x = append(x, 4, 5, 6)\n",
    "fmt.Println(x)"
   ]
  },
  {
   "cell_type": "code",
   "execution_count": 68,
   "id": "a9b3300b",
   "metadata": {},
   "outputs": [
    {
     "name": "stdout",
     "output_type": "stream",
     "text": [
      "[1 2 3 4 5 6]\n"
     ]
    }
   ],
   "source": [
    "%%\n",
    "x := []int{1,2,3}\n",
    "y := []int{4,5,6}\n",
    "x = append(x, y...)\n",
    "fmt.Println(x)"
   ]
  },
  {
   "cell_type": "markdown",
   "id": "68875d18",
   "metadata": {
    "slideshow": {
     "slide_type": "slide"
    }
   },
   "source": [
    "## Initialization"
   ]
  },
  {
   "cell_type": "markdown",
   "id": "47bfea64",
   "metadata": {
    "slideshow": {
     "slide_type": "subslide"
    }
   },
   "source": [
    "### Constants"
   ]
  },
  {
   "cell_type": "code",
   "execution_count": 69,
   "id": "08ad8779",
   "metadata": {},
   "outputs": [],
   "source": [
    "type ByteSize float64\n",
    "\n",
    "const (\n",
    "    _           = iota // ignore first value by assigning to blank identifier\n",
    "    KB ByteSize = 1 << (10 * iota)\n",
    "    MB\n",
    "    GB\n",
    "    TB\n",
    "    PB\n",
    "    EB\n",
    "    ZB\n",
    "    YB\n",
    ")"
   ]
  },
  {
   "cell_type": "code",
   "execution_count": 70,
   "id": "05411044",
   "metadata": {},
   "outputs": [],
   "source": [
    "func (b ByteSize) String() string {\n",
    "    switch {\n",
    "    case b >= YB:\n",
    "        return fmt.Sprintf(\"%.2fYB\", b/YB)\n",
    "    case b >= ZB:\n",
    "        return fmt.Sprintf(\"%.2fZB\", b/ZB)\n",
    "    case b >= EB:\n",
    "        return fmt.Sprintf(\"%.2fEB\", b/EB)\n",
    "    case b >= PB:\n",
    "        return fmt.Sprintf(\"%.2fPB\", b/PB)\n",
    "    case b >= TB:\n",
    "        return fmt.Sprintf(\"%.2fTB\", b/TB)\n",
    "    case b >= GB:\n",
    "        return fmt.Sprintf(\"%.2fGB\", b/GB)\n",
    "    case b >= MB:\n",
    "        return fmt.Sprintf(\"%.2fMB\", b/MB)\n",
    "    case b >= KB:\n",
    "        return fmt.Sprintf(\"%.2fKB\", b/KB)\n",
    "    }\n",
    "    return fmt.Sprintf(\"%.2fB\", b)\n",
    "}"
   ]
  },
  {
   "cell_type": "markdown",
   "id": "a2f5fa2c",
   "metadata": {
    "slideshow": {
     "slide_type": "subslide"
    }
   },
   "source": [
    "### Variables"
   ]
  },
  {
   "cell_type": "code",
   "execution_count": 71,
   "id": "0aa0a826",
   "metadata": {},
   "outputs": [],
   "source": [
    "var (\n",
    "    home   = os.Getenv(\"HOME\")\n",
    "    user   = os.Getenv(\"USER\")\n",
    "    gopath = os.Getenv(\"GOPATH\")\n",
    ")"
   ]
  },
  {
   "cell_type": "markdown",
   "id": "63f7ae02",
   "metadata": {
    "slideshow": {
     "slide_type": "subslide"
    }
   },
   "source": [
    "### The init function"
   ]
  },
  {
   "cell_type": "code",
   "execution_count": 72,
   "id": "0441fc3b",
   "metadata": {},
   "outputs": [],
   "source": [
    "func init() {\n",
    "    if user == \"\" {\n",
    "        log.Fatal(\"$USER not set\")\n",
    "    }\n",
    "    if home == \"\" {\n",
    "        home = \"/home/\" + user\n",
    "    }\n",
    "    if gopath == \"\" {\n",
    "        gopath = home + \"/go\"\n",
    "    }\n",
    "    // gopath may be overridden by --gopath flag on command line.\n",
    "    flag.StringVar(&gopath, \"gopath\", gopath, \"override default GOPATH\")\n",
    "}"
   ]
  },
  {
   "cell_type": "markdown",
   "id": "84cb6c1f",
   "metadata": {
    "slideshow": {
     "slide_type": "slide"
    }
   },
   "source": [
    "## Methods"
   ]
  },
  {
   "cell_type": "markdown",
   "id": "1f9ec15f",
   "metadata": {
    "slideshow": {
     "slide_type": "subslide"
    }
   },
   "source": [
    "### Pointers vs. Values"
   ]
  },
  {
   "cell_type": "code",
   "execution_count": null,
   "id": "73af8ed9",
   "metadata": {},
   "outputs": [],
   "source": [
    "type ByteSlice []byte\n",
    "\n",
    "func (slice ByteSlice) Append(data []byte) []byte {\n",
    "    // Body exactly the same as the Append function defined above.\n",
    "}"
   ]
  },
  {
   "cell_type": "code",
   "execution_count": null,
   "id": "ec6f5442",
   "metadata": {},
   "outputs": [],
   "source": [
    "func (p *ByteSlice) Append(data []byte) {\n",
    "    slice := *p\n",
    "    // Body as above, without the return.\n",
    "    *p = slice\n",
    "}"
   ]
  },
  {
   "cell_type": "code",
   "execution_count": null,
   "id": "51828b3a",
   "metadata": {},
   "outputs": [],
   "source": [
    "func (p *ByteSlice) Write(data []byte) (n int, err error) {\n",
    "    slice := *p\n",
    "    // Again as above.\n",
    "    *p = slice\n",
    "    return len(data), nil\n",
    "}"
   ]
  },
  {
   "cell_type": "code",
   "execution_count": null,
   "id": "6f15e862",
   "metadata": {},
   "outputs": [],
   "source": [
    "var b ByteSlice\n",
    "    fmt.Fprintf(&b, \"This hour has %d days\\n\", 7)"
   ]
  },
  {
   "cell_type": "markdown",
   "id": "03f5f4c6",
   "metadata": {
    "slideshow": {
     "slide_type": "slide"
    }
   },
   "source": [
    "## Interfaces and other types"
   ]
  },
  {
   "cell_type": "markdown",
   "id": "bba38024",
   "metadata": {
    "slideshow": {
     "slide_type": "subslide"
    }
   },
   "source": [
    "### Interfaces"
   ]
  },
  {
   "cell_type": "code",
   "execution_count": null,
   "id": "d9b7fa3b",
   "metadata": {},
   "outputs": [],
   "source": [
    "type Sequence []int\n",
    "\n",
    "// Methods required by sort.Interface.\n",
    "func (s Sequence) Len() int {\n",
    "    return len(s)\n",
    "}\n",
    "func (s Sequence) Less(i, j int) bool {\n",
    "    return s[i] < s[j]\n",
    "}\n",
    "func (s Sequence) Swap(i, j int) {\n",
    "    s[i], s[j] = s[j], s[i]\n",
    "}\n",
    "\n",
    "// Copy returns a copy of the Sequence.\n",
    "func (s Sequence) Copy() Sequence {\n",
    "    copy := make(Sequence, 0, len(s))\n",
    "    return append(copy, s...)\n",
    "}\n",
    "\n",
    "// Method for printing - sorts the elements before printing.\n",
    "func (s Sequence) String() string {\n",
    "    s = s.Copy() // Make a copy; don't overwrite argument.\n",
    "    sort.Sort(s)\n",
    "    str := \"[\"\n",
    "    for i, elem := range s { // Loop is O(N²); will fix that in next example.\n",
    "        if i > 0 {\n",
    "            str += \" \"\n",
    "        }\n",
    "        str += fmt.Sprint(elem)\n",
    "    }\n",
    "    return str + \"]\"\n",
    "}"
   ]
  },
  {
   "cell_type": "markdown",
   "id": "b45afe25",
   "metadata": {
    "slideshow": {
     "slide_type": "subslide"
    }
   },
   "source": [
    "### Conversions"
   ]
  },
  {
   "cell_type": "code",
   "execution_count": null,
   "id": "151bf1c6",
   "metadata": {},
   "outputs": [],
   "source": [
    "func (s Sequence) String() string {\n",
    "    s = s.Copy()\n",
    "    sort.Sort(s)\n",
    "    return fmt.Sprint([]int(s))\n",
    "}"
   ]
  },
  {
   "cell_type": "code",
   "execution_count": null,
   "id": "2bf6de4b",
   "metadata": {},
   "outputs": [],
   "source": [
    "type Sequence []int\n",
    "\n",
    "// Method for printing - sorts the elements before printing\n",
    "func (s Sequence) String() string {\n",
    "    s = s.Copy()\n",
    "    sort.IntSlice(s).Sort()\n",
    "    return fmt.Sprint([]int(s))\n",
    "}"
   ]
  },
  {
   "cell_type": "markdown",
   "id": "3b8635b1",
   "metadata": {
    "slideshow": {
     "slide_type": "subslide"
    }
   },
   "source": [
    "### Interface conversions and type assertions"
   ]
  },
  {
   "cell_type": "code",
   "execution_count": null,
   "id": "d46c630f",
   "metadata": {},
   "outputs": [],
   "source": [
    "type Stringer interface {\n",
    "    String() string\n",
    "}\n",
    "\n",
    "var value interface{} // Value provided by caller.\n",
    "switch str := value.(type) {\n",
    "case string:\n",
    "    return str\n",
    "case Stringer:\n",
    "    return str.String()\n",
    "}"
   ]
  },
  {
   "cell_type": "code",
   "execution_count": null,
   "id": "a1ae6a6d",
   "metadata": {},
   "outputs": [],
   "source": [
    "value.(typeName)"
   ]
  },
  {
   "cell_type": "code",
   "execution_count": null,
   "id": "36d79560",
   "metadata": {},
   "outputs": [],
   "source": [
    "str := value.(string)"
   ]
  },
  {
   "cell_type": "code",
   "execution_count": null,
   "id": "2254d618",
   "metadata": {},
   "outputs": [],
   "source": [
    "str, ok := value.(string)\n",
    "if ok {\n",
    "    fmt.Printf(\"string value is: %q\\n\", str)\n",
    "} else {\n",
    "    fmt.Printf(\"value is not a string\\n\")\n",
    "}"
   ]
  },
  {
   "cell_type": "code",
   "execution_count": null,
   "id": "de68da19",
   "metadata": {},
   "outputs": [],
   "source": [
    "if str, ok := value.(string); ok {\n",
    "    return str\n",
    "} else if str, ok := value.(Stringer); ok {\n",
    "    return str.String()\n",
    "}"
   ]
  },
  {
   "cell_type": "markdown",
   "id": "e33ecdd3",
   "metadata": {
    "slideshow": {
     "slide_type": "subslide"
    }
   },
   "source": [
    "### Generality"
   ]
  },
  {
   "cell_type": "markdown",
   "id": "7b3f7457",
   "metadata": {
    "slideshow": {
     "slide_type": "subslide"
    }
   },
   "source": [
    "### Interfaces and methods"
   ]
  },
  {
   "cell_type": "markdown",
   "id": "df42c745",
   "metadata": {
    "slideshow": {
     "slide_type": "slide"
    }
   },
   "source": [
    "## The blank identifier"
   ]
  },
  {
   "cell_type": "markdown",
   "id": "831c42a8",
   "metadata": {
    "slideshow": {
     "slide_type": "slide"
    }
   },
   "source": [
    "## Embedding"
   ]
  },
  {
   "cell_type": "markdown",
   "id": "becbe8cc",
   "metadata": {
    "slideshow": {
     "slide_type": "slide"
    }
   },
   "source": [
    "## Concurrency"
   ]
  },
  {
   "cell_type": "markdown",
   "id": "936dfe4b",
   "metadata": {
    "slideshow": {
     "slide_type": "subslide"
    }
   },
   "source": [
    "### Share by communicating"
   ]
  },
  {
   "cell_type": "markdown",
   "id": "842ba89f",
   "metadata": {
    "slideshow": {
     "slide_type": "subslide"
    }
   },
   "source": [
    "### Goroutines"
   ]
  },
  {
   "cell_type": "markdown",
   "id": "fb75ef6d",
   "metadata": {
    "slideshow": {
     "slide_type": "subslide"
    }
   },
   "source": [
    "### Channels"
   ]
  },
  {
   "cell_type": "markdown",
   "id": "153a8cfb",
   "metadata": {
    "slideshow": {
     "slide_type": "subslide"
    }
   },
   "source": [
    "### Channels of channels"
   ]
  },
  {
   "cell_type": "code",
   "execution_count": null,
   "id": "c46c0d08",
   "metadata": {},
   "outputs": [],
   "source": [
    "type Request struct {\n",
    "    args        []int\n",
    "    f           func([]int) int\n",
    "    resultChan  chan int\n",
    "}"
   ]
  },
  {
   "cell_type": "code",
   "execution_count": null,
   "id": "ad1e530f",
   "metadata": {},
   "outputs": [],
   "source": [
    "func sum(a []int) (s int) {\n",
    "    for _, v := range a {\n",
    "        s += v\n",
    "    }\n",
    "    return\n",
    "}\n",
    "request := &Request{[]int{3, 4, 5}, sum, make(chan int)}\n",
    "// Send request\n",
    "clientRequests <- request\n",
    "// Wait for response.\n",
    "fmt.Printf(\"answer: %d\\n\", <-request.resultChan)"
   ]
  },
  {
   "cell_type": "code",
   "execution_count": null,
   "id": "ba5df617",
   "metadata": {},
   "outputs": [],
   "source": [
    "func handle(queue chan *Request) {\n",
    "    for req := range queue {\n",
    "        req.resultChan <- req.f(req.args)\n",
    "    }\n",
    "}"
   ]
  },
  {
   "cell_type": "markdown",
   "id": "31d35bf9",
   "metadata": {
    "slideshow": {
     "slide_type": "subslide"
    }
   },
   "source": [
    "### Parallelization"
   ]
  },
  {
   "cell_type": "code",
   "execution_count": null,
   "id": "6df9e525",
   "metadata": {},
   "outputs": [],
   "source": [
    "type Vector []float64\n",
    "\n",
    "// Apply the operation to v[i], v[i+1] ... up to v[n-1].\n",
    "func (v Vector) DoSome(i, n int, u Vector, c chan int) {\n",
    "    for ; i < n; i++ {\n",
    "        v[i] += u.Op(v[i])\n",
    "    }\n",
    "    c <- 1    // signal that this piece is done\n",
    "}"
   ]
  },
  {
   "cell_type": "code",
   "execution_count": null,
   "id": "ffafe81f",
   "metadata": {},
   "outputs": [],
   "source": [
    "const numCPU = 4 // number of CPU cores\n",
    "\n",
    "func (v Vector) DoAll(u Vector) {\n",
    "    c := make(chan int, numCPU)  // Buffering optional but sensible.\n",
    "    for i := 0; i < numCPU; i++ {\n",
    "        go v.DoSome(i*len(v)/numCPU, (i+1)*len(v)/numCPU, u, c)\n",
    "    }\n",
    "    // Drain the channel.\n",
    "    for i := 0; i < numCPU; i++ {\n",
    "        <-c    // wait for one task to complete\n",
    "    }\n",
    "    // All done.\n",
    "}"
   ]
  },
  {
   "cell_type": "code",
   "execution_count": null,
   "id": "f2d2c91f",
   "metadata": {},
   "outputs": [],
   "source": [
    "var numCPU = runtime.NumCPU()"
   ]
  },
  {
   "cell_type": "code",
   "execution_count": null,
   "id": "11f8113b",
   "metadata": {},
   "outputs": [],
   "source": [
    "var numCPU = runtime.GOMAXPROCS(0)"
   ]
  },
  {
   "cell_type": "markdown",
   "id": "f57ade19",
   "metadata": {
    "slideshow": {
     "slide_type": "subslide"
    }
   },
   "source": [
    "### A leaky buffer"
   ]
  },
  {
   "cell_type": "code",
   "execution_count": null,
   "id": "cc6b461e",
   "metadata": {},
   "outputs": [],
   "source": [
    "var freeList = make(chan *Buffer, 100)\n",
    "var serverChan = make(chan *Buffer)\n",
    "\n",
    "func client() {\n",
    "    for {\n",
    "        var b *Buffer\n",
    "        // Grab a buffer if available; allocate if not.\n",
    "        select {\n",
    "        case b = <-freeList:\n",
    "            // Got one; nothing more to do.\n",
    "        default:\n",
    "            // None free, so allocate a new one.\n",
    "            b = new(Buffer)\n",
    "        }\n",
    "        load(b)              // Read next message from the net.\n",
    "        serverChan <- b      // Send to server.\n",
    "    }\n",
    "}"
   ]
  },
  {
   "cell_type": "code",
   "execution_count": null,
   "id": "7f6d9b73",
   "metadata": {},
   "outputs": [],
   "source": [
    "func server() {\n",
    "    for {\n",
    "        b := <-serverChan    // Wait for work.\n",
    "        process(b)\n",
    "        // Reuse buffer if there's room.\n",
    "        select {\n",
    "        case freeList <- b:\n",
    "            // Buffer on free list; nothing more to do.\n",
    "        default:\n",
    "            // Free list full, just carry on.\n",
    "        }\n",
    "    }\n",
    "}"
   ]
  },
  {
   "cell_type": "markdown",
   "id": "201cb31d",
   "metadata": {
    "slideshow": {
     "slide_type": "slide"
    }
   },
   "source": [
    "# Errors"
   ]
  },
  {
   "cell_type": "code",
   "execution_count": null,
   "id": "31d0733d",
   "metadata": {},
   "outputs": [],
   "source": [
    "type error interface {\n",
    "    Error() string\n",
    "}"
   ]
  },
  {
   "cell_type": "code",
   "execution_count": null,
   "id": "4708c0e8",
   "metadata": {},
   "outputs": [],
   "source": [
    "// PathError records an error and the operation and\n",
    "// file path that caused it.\n",
    "type PathError struct {\n",
    "    Op string    // \"open\", \"unlink\", etc.\n",
    "    Path string  // The associated file.\n",
    "    Err error    // Returned by the system call.\n",
    "}\n",
    "\n",
    "func (e *PathError) Error() string {\n",
    "    return e.Op + \" \" + e.Path + \": \" + e.Err.Error()\n",
    "}"
   ]
  },
  {
   "cell_type": "code",
   "execution_count": null,
   "id": "a63afd2c",
   "metadata": {},
   "outputs": [],
   "source": [
    "for try := 0; try < 2; try++ {\n",
    "    file, err = os.Create(filename)\n",
    "    if err == nil {\n",
    "        return\n",
    "    }\n",
    "    if e, ok := err.(*os.PathError); ok && e.Err == syscall.ENOSPC {\n",
    "        deleteTempFiles()  // Recover some space.\n",
    "        continue\n",
    "    }\n",
    "    return\n",
    "}"
   ]
  },
  {
   "cell_type": "markdown",
   "id": "3581adeb",
   "metadata": {
    "slideshow": {
     "slide_type": "subslide"
    }
   },
   "source": [
    "### Panic"
   ]
  },
  {
   "cell_type": "code",
   "execution_count": null,
   "id": "7339de10",
   "metadata": {},
   "outputs": [],
   "source": [
    "// A toy implementation of cube root using Newton's method.\n",
    "func CubeRoot(x float64) float64 {\n",
    "    z := x/3   // Arbitrary initial value\n",
    "    for i := 0; i < 1e6; i++ {\n",
    "        prevz := z\n",
    "        z -= (z*z*z-x) / (3*z*z)\n",
    "        if veryClose(z, prevz) {\n",
    "            return z\n",
    "        }\n",
    "    }\n",
    "    // A million iterations has not converged; something is wrong.\n",
    "    panic(fmt.Sprintf(\"CubeRoot(%g) did not converge\", x))\n",
    "}"
   ]
  },
  {
   "cell_type": "code",
   "execution_count": null,
   "id": "ce6904eb",
   "metadata": {},
   "outputs": [],
   "source": [
    "var user = os.Getenv(\"USER\")\n",
    "\n",
    "func init() {\n",
    "    if user == \"\" {\n",
    "        panic(\"no value for $USER\")\n",
    "    }\n",
    "}"
   ]
  },
  {
   "cell_type": "markdown",
   "id": "3ef67d71",
   "metadata": {
    "slideshow": {
     "slide_type": "subslide"
    }
   },
   "source": [
    "### Recover"
   ]
  },
  {
   "cell_type": "code",
   "execution_count": null,
   "id": "66e20f81",
   "metadata": {},
   "outputs": [],
   "source": [
    "func server(workChan <-chan *Work) {\n",
    "    for work := range workChan {\n",
    "        go safelyDo(work)\n",
    "    }\n",
    "}\n",
    "\n",
    "func safelyDo(work *Work) {\n",
    "    defer func() {\n",
    "        if err := recover(); err != nil {\n",
    "            log.Println(\"work failed:\", err)\n",
    "        }\n",
    "    }()\n",
    "    do(work)\n",
    "}"
   ]
  },
  {
   "cell_type": "code",
   "execution_count": null,
   "id": "c410069c",
   "metadata": {},
   "outputs": [],
   "source": [
    "// Error is the type of a parse error; it satisfies the error interface.\n",
    "type Error string\n",
    "func (e Error) Error() string {\n",
    "    return string(e)\n",
    "}\n",
    "\n",
    "// error is a method of *Regexp that reports parsing errors by\n",
    "// panicking with an Error.\n",
    "func (regexp *Regexp) error(err string) {\n",
    "    panic(Error(err))\n",
    "}\n",
    "\n",
    "// Compile returns a parsed representation of the regular expression.\n",
    "func Compile(str string) (regexp *Regexp, err error) {\n",
    "    regexp = new(Regexp)\n",
    "    // doParse will panic if there is a parse error.\n",
    "    defer func() {\n",
    "        if e := recover(); e != nil {\n",
    "            regexp = nil    // Clear return value.\n",
    "            err = e.(Error) // Will re-panic if not a parse error.\n",
    "        }\n",
    "    }()\n",
    "    return regexp.doParse(str), nil\n",
    "}"
   ]
  },
  {
   "cell_type": "code",
   "execution_count": null,
   "id": "e84c7e6e",
   "metadata": {},
   "outputs": [],
   "source": [
    "if pos == 0 {\n",
    "    re.error(\"'*' illegal at start of expression\")\n",
    "}"
   ]
  },
  {
   "cell_type": "markdown",
   "id": "b49df744",
   "metadata": {
    "slideshow": {
     "slide_type": "slide"
    }
   },
   "source": [
    "# A web server"
   ]
  },
  {
   "cell_type": "code",
   "execution_count": 74,
   "id": "f05a2edd",
   "metadata": {},
   "outputs": [
    {
     "name": "stderr",
     "output_type": "stream",
     "text": [
      "signal: interrupt\n"
     ]
    }
   ],
   "source": [
    "import (\n",
    "    \"flag\"\n",
    "    \"html/template\"\n",
    "    \"log\"\n",
    "    \"net/http\"\n",
    ")\n",
    "\n",
    "var addr = flag.String(\"addr\", \":1718\", \"http service address\") // Q=17, R=18\n",
    "\n",
    "var templ = template.Must(template.New(\"qr\").Parse(templateStr))\n",
    "\n",
    "func main() {\n",
    "    flag.Parse()\n",
    "    http.Handle(\"/\", http.HandlerFunc(QR))\n",
    "    err := http.ListenAndServe(*addr, nil)\n",
    "    if err != nil {\n",
    "        log.Fatal(\"ListenAndServe:\", err)\n",
    "    }\n",
    "}\n",
    "\n",
    "func QR(w http.ResponseWriter, req *http.Request) {\n",
    "    templ.Execute(w, req.FormValue(\"s\"))\n",
    "}\n",
    "\n",
    "const templateStr = `\n",
    "<html>\n",
    "<head>\n",
    "<title>QR Link Generator</title>\n",
    "</head>\n",
    "<body>\n",
    "{{if .}}\n",
    "<img src=\"http://chart.apis.google.com/chart?chs=300x300&cht=qr&choe=UTF-8&chl={{.}}\" />\n",
    "<br>\n",
    "{{.}}\n",
    "<br>\n",
    "<br>\n",
    "{{end}}\n",
    "<form action=\"/\" name=f method=\"GET\">\n",
    "    <input maxLength=1024 size=70 name=s value=\"\" title=\"Text to QR Encode\">\n",
    "    <input type=submit value=\"Show QR\" name=qr>\n",
    "</form>\n",
    "</body>\n",
    "</html>\n",
    "`"
   ]
  }
 ],
 "metadata": {
  "celltoolbar": "Slideshow",
  "kernelspec": {
   "display_name": "Go (gonb)",
   "language": "go",
   "name": "gonb"
  },
  "language_info": {
   "codemirror_mode": "",
   "file_extension": ".go",
   "mimetype": "",
   "name": "go",
   "nbconvert_exporter": "",
   "pygments_lexer": "",
   "version": "go1.21.1"
  },
  "toc": {
   "base_numbering": "15",
   "nav_menu": {},
   "number_sections": true,
   "sideBar": false,
   "skip_h1_title": false,
   "title_cell": "Table of Contents",
   "title_sidebar": "Contents",
   "toc_cell": true,
   "toc_position": {
    "height": "calc(100% - 180px)",
    "left": "10px",
    "top": "150px",
    "width": "165px"
   },
   "toc_section_display": true,
   "toc_window_display": false
  }
 },
 "nbformat": 4,
 "nbformat_minor": 5
}
