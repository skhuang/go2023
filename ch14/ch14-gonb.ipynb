{
 "cells": [
  {
   "cell_type": "markdown",
   "id": "b57bf7c8",
   "metadata": {
    "slideshow": {
     "slide_type": "slide"
    },
    "toc": true
   },
   "source": [
    "<h1>Table of Contents<span class=\"tocSkip\"></span></h1>\n",
    "<div class=\"toc\"><ul class=\"toc-item\"><li><span><a href=\"#Tutorial:-Getting-started-with-generics\" data-toc-modified-id=\"Tutorial:-Getting-started-with-generics-14\"><span class=\"toc-item-num\">14&nbsp;&nbsp;</span>Tutorial: Getting started with generics</a></span><ul class=\"toc-item\"><li><span><a href=\"#Add-a-generic-function-to-handle-multiple-types\" data-toc-modified-id=\"Add-a-generic-function-to-handle-multiple-types-14.1\"><span class=\"toc-item-num\">14.1&nbsp;&nbsp;</span>Add a generic function to handle multiple types</a></span></li></ul></li></ul></div>"
   ]
  },
  {
   "cell_type": "markdown",
   "id": "cdc49ce7",
   "metadata": {
    "slideshow": {
     "slide_type": "slide"
    }
   },
   "source": [
    "# Tutorial: Getting started with generics"
   ]
  },
  {
   "cell_type": "markdown",
   "id": "1a15a897",
   "metadata": {
    "slideshow": {
     "slide_type": "subslide"
    }
   },
   "source": [
    "* Declare two functions to add together the values of a map and return the sum\n",
    "  * SumInts: a map of string to float64 values\n",
    "  * SumFloats: a map of string to float64 values"
   ]
  },
  {
   "cell_type": "code",
   "execution_count": 1,
   "id": "5016d013",
   "metadata": {
    "slideshow": {
     "slide_type": "subslide"
    }
   },
   "outputs": [],
   "source": [
    "// SumInts adds together the values of m.\n",
    "func SumInts(m map[string]int64) int64 {\n",
    "    var s int64\n",
    "    for _, v := range m {\n",
    "        s += v\n",
    "    }\n",
    "    return s\n",
    "}\n",
    "\n",
    "// SumFloats adds together the values of m.\n",
    "func SumFloats(m map[string]float64) float64 {\n",
    "    var s float64\n",
    "    for _, v := range m {\n",
    "        s += v\n",
    "    }\n",
    "    return s\n",
    "}"
   ]
  },
  {
   "cell_type": "markdown",
   "id": "e0b45d64",
   "metadata": {
    "slideshow": {
     "slide_type": "subslide"
    }
   },
   "source": [
    "* Initialize the two maps and use them as arguments when calling the functions just delcared"
   ]
  },
  {
   "cell_type": "code",
   "execution_count": 6,
   "id": "d2d8c501",
   "metadata": {
    "slideshow": {
     "slide_type": "subslide"
    }
   },
   "outputs": [
    {
     "name": "stdout",
     "output_type": "stream",
     "text": [
      "Non-Generic Sums: 46 and 62.97\n"
     ]
    }
   ],
   "source": [
    "// Initialize a map for the integer values\n",
    "var ints = map[string]int64{\n",
    "        \"first\":  34,\n",
    "        \"second\": 12,\n",
    "    }\n",
    "\n",
    "    // Initialize a map for the float values\n",
    "var floats = map[string]float64{\n",
    "        \"first\":  35.98,\n",
    "        \"second\": 26.99,\n",
    "    }\n",
    "func main() {\n",
    "    \n",
    "\n",
    "    fmt.Printf(\"Non-Generic Sums: %v and %v\\n\",\n",
    "        SumInts(ints),\n",
    "        SumFloats(floats))\n",
    "}"
   ]
  },
  {
   "cell_type": "markdown",
   "id": "890c437b",
   "metadata": {
    "slideshow": {
     "slide_type": "slide"
    }
   },
   "source": [
    "## Add a generic function to handle multiple types\n",
    "* a generic function receive a map containing either integer or float values to replace the two functions\n",
    "* use type parameter\n",
    "   * generic functin: type arguments and function arguments\n",
    "* type constraint: a kind of meta-type for the type parameter\n",
    "   * Permissible type arguments that calling code can use for the respective type parameter\n",
    "   * Represent a set of types\n",
    "   * Stand for a single time at compile time\n",
    "   * Support all the operaions the generic code is performing on it"
   ]
  },
  {
   "cell_type": "code",
   "execution_count": 3,
   "id": "2265792a",
   "metadata": {
    "slideshow": {
     "slide_type": "subslide"
    }
   },
   "outputs": [],
   "source": [
    "// SumIntsOrFloats sums the values of map m. It supports both int64 and float64\n",
    "// as types for map values.\n",
    "func SumIntsOrFloats[K comparable, V int64 | float64](m map[K]V) V {\n",
    "    var s V\n",
    "    for _, v := range m {\n",
    "        s += v\n",
    "    }\n",
    "    return s\n",
    "}"
   ]
  },
  {
   "cell_type": "markdown",
   "id": "5cae6d03",
   "metadata": {
    "slideshow": {
     "slide_type": "subslide"
    }
   },
   "source": [
    "*SumIntsOrFloats\n",
    "  * two type parameters (inside the square brackets), K and V\n",
    "    * one function argument that uses the type parameters, m of type map[K]V\n",
    "    * returns a value of type V\n",
    "  * type parameter K is **comparable**\n",
    "    * any type whose values may be used as an operand of the comparison operators == and !=\n",
    "    * map keys be comparable\n",
    "  * type parameter V is a constraint that is a union of two types: int64 and float64\n",
    "    "
   ]
  },
  {
   "cell_type": "code",
   "execution_count": 7,
   "id": "cff4b5de",
   "metadata": {
    "slideshow": {
     "slide_type": "subslide"
    }
   },
   "outputs": [
    {
     "name": "stdout",
     "output_type": "stream",
     "text": [
      "Generic Sums: 46 and 62.97\n"
     ]
    }
   ],
   "source": [
    "%%\n",
    "fmt.Printf(\"Generic Sums: %v and %v\\n\",\n",
    "    SumIntsOrFloats[string, int64](ints),\n",
    "    SumIntsOrFloats[string, float64](floats))"
   ]
  },
  {
   "cell_type": "markdown",
   "id": "b6d31ddd",
   "metadata": {
    "slideshow": {
     "slide_type": "subslide"
    }
   },
   "source": [
    "* supply the type arguments for the type parameters\n",
    "  * string as comparable K\n",
    "  * int64 or float64 for V"
   ]
  },
  {
   "cell_type": "code",
   "execution_count": 13,
   "id": "bb403e6a",
   "metadata": {
    "slideshow": {
     "slide_type": "subslide"
    }
   },
   "outputs": [
    {
     "name": "stdout",
     "output_type": "stream",
     "text": [
      "Generic Sums, type parameters inferred: 46 and 62.97\n"
     ]
    }
   ],
   "source": [
    "/* var ints = map[string]int64{\n",
    "        \"first\":  34,\n",
    "        \"second\": 12,\n",
    "    }\n",
    "\n",
    "    // Initialize a map for the float values\n",
    "var floats = map[string]float64{\n",
    "        \"first\":  35.98,\n",
    "        \"second\": 26.99,\n",
    "    }*/\n",
    "%%\n",
    "//infer the type parameter for the argument supplied\n",
    "fmt.Printf(\"Generic Sums, type parameters inferred: %v and %v\\n\",\n",
    "    SumIntsOrFloats(ints),\n",
    "    SumIntsOrFloats(floats))"
   ]
  },
  {
   "cell_type": "markdown",
   "id": "2b90c20e",
   "metadata": {
    "slideshow": {
     "slide_type": "subslide"
    }
   },
   "source": [
    "* Omit type arguments\n",
    "  * Go compiler infers tye types you want to use\n",
    "  * infer type arguments from the types of function arguments"
   ]
  },
  {
   "cell_type": "markdown",
   "id": "38cdaf8f",
   "metadata": {
    "slideshow": {
     "slide_type": "subslide"
    }
   },
   "source": [
    "* Declare a type constraint\n",
    "  * type constraint as an interface\n",
    "  * allow any type implementing the interface\n",
    "    * for example, a type constraint interface with three methods\n",
    "    * type arguments use must have all of these methods\n",
    "  * Constraint interfaces can also refer to specific types"
   ]
  },
  {
   "cell_type": "code",
   "execution_count": 9,
   "id": "13dfa6f9",
   "metadata": {
    "slideshow": {
     "slide_type": "subslide"
    }
   },
   "outputs": [
    {
     "name": "stdout",
     "output_type": "stream",
     "text": [
      "Generic Sums with Constraint: 46 and 62.97\n"
     ]
    }
   ],
   "source": [
    "type Number interface {\n",
    "    int64 | float64\n",
    "}\n",
    "// SumNumbers sums the values of map m. It supports both integers\n",
    "// and floats as map values.\n",
    "func SumNumbers[K comparable, V Number](m map[K]V) V {\n",
    "    var s V\n",
    "    for _, v := range m {\n",
    "        s += v\n",
    "    }\n",
    "    return s\n",
    "}\n",
    "%%\n",
    "fmt.Printf(\"Generic Sums with Constraint: %v and %v\\n\",\n",
    "    SumNumbers(ints),\n",
    "    SumNumbers(floats))"
   ]
  },
  {
   "cell_type": "code",
   "execution_count": 10,
   "id": "6e79f41b",
   "metadata": {
    "slideshow": {
     "slide_type": "subslide"
    }
   },
   "outputs": [
    {
     "name": "stdout",
     "output_type": "stream",
     "text": [
      "Non-Generic Sums: 46 and 62.97\n",
      "Generic Sums: 46 and 62.97\n",
      "Generic Sums, type parameters inferred: 46 and 62.97\n",
      "Generic Sums with Constraint: 46 and 62.97\n"
     ]
    }
   ],
   "source": [
    "import \"fmt\"\n",
    "\n",
    "type Number interface {\n",
    "    int64 | float64\n",
    "}\n",
    "\n",
    "func main() {\n",
    "    // Initialize a map for the integer values\n",
    "    ints := map[string]int64{\n",
    "        \"first\": 34,\n",
    "        \"second\": 12,\n",
    "    }\n",
    "\n",
    "    // Initialize a map for the float values\n",
    "    floats := map[string]float64{\n",
    "        \"first\": 35.98,\n",
    "        \"second\": 26.99,\n",
    "    }\n",
    "\n",
    "    fmt.Printf(\"Non-Generic Sums: %v and %v\\n\",\n",
    "        SumInts(ints),\n",
    "        SumFloats(floats))\n",
    "\n",
    "    fmt.Printf(\"Generic Sums: %v and %v\\n\",\n",
    "        SumIntsOrFloats[string, int64](ints),\n",
    "        SumIntsOrFloats[string, float64](floats))\n",
    "\n",
    "    fmt.Printf(\"Generic Sums, type parameters inferred: %v and %v\\n\",\n",
    "        SumIntsOrFloats(ints),\n",
    "        SumIntsOrFloats(floats))\n",
    "\n",
    "    fmt.Printf(\"Generic Sums with Constraint: %v and %v\\n\",\n",
    "        SumNumbers(ints),\n",
    "        SumNumbers(floats))\n",
    "}\n",
    "\n",
    "// SumInts adds together the values of m.\n",
    "func SumInts(m map[string]int64) int64 {\n",
    "    var s int64\n",
    "    for _, v := range m {\n",
    "        s += v\n",
    "    }\n",
    "    return s\n",
    "}\n",
    "\n",
    "// SumFloats adds together the values of m.\n",
    "func SumFloats(m map[string]float64) float64 {\n",
    "    var s float64\n",
    "    for _, v := range m {\n",
    "        s += v\n",
    "    }\n",
    "    return s\n",
    "}\n",
    "\n",
    "// SumIntsOrFloats sums the values of map m. It supports both floats and integers\n",
    "// as map values.\n",
    "func SumIntsOrFloats[K comparable, V int64 | float64](m map[K]V) V {\n",
    "    var s V\n",
    "    for _, v := range m {\n",
    "        s += v\n",
    "    }\n",
    "    return s\n",
    "}\n",
    "\n",
    "// SumNumbers sums the values of map m. Its supports both integers\n",
    "// and floats as map values.\n",
    "func SumNumbers[K comparable, V Number](m map[K]V) V {\n",
    "    var s V\n",
    "    for _, v := range m {\n",
    "        s += v\n",
    "    }\n",
    "    return s\n",
    "}"
   ]
  }
 ],
 "metadata": {
  "celltoolbar": "Slideshow",
  "kernelspec": {
   "display_name": "Go (gonb)",
   "language": "go",
   "name": "gonb"
  },
  "language_info": {
   "codemirror_mode": "",
   "file_extension": ".go",
   "mimetype": "",
   "name": "go",
   "nbconvert_exporter": "",
   "pygments_lexer": "",
   "version": "go1.21.1"
  },
  "rise": {
   "enable_chalkboard": true,
   "scroll": true
  },
  "toc": {
   "base_numbering": 14,
   "nav_menu": {},
   "number_sections": true,
   "sideBar": true,
   "skip_h1_title": false,
   "title_cell": "Table of Contents",
   "title_sidebar": "Contents",
   "toc_cell": true,
   "toc_position": {},
   "toc_section_display": true,
   "toc_window_display": false
  }
 },
 "nbformat": 4,
 "nbformat_minor": 5
}
