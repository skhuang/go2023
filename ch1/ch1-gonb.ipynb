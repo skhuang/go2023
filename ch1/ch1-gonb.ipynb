{
 "cells": [
  {
   "cell_type": "markdown",
   "metadata": {
    "slideshow": {
     "slide_type": "slide"
    },
    "tags": []
   },
   "source": [
    "# Tutorial"
   ]
  },
  {
   "cell_type": "markdown",
   "metadata": {
    "slideshow": {
     "slide_type": "slide"
    },
    "tags": []
   },
   "source": [
    "## Hello, World"
   ]
  },
  {
   "cell_type": "code",
   "execution_count": 1,
   "metadata": {
    "cell_style": "split",
    "code_folding": [],
    "slideshow": {
     "slide_type": "subslide"
    },
    "tags": []
   },
   "outputs": [
    {
     "name": "stdout",
     "output_type": "stream",
     "text": [
      "Hello, 世界。你好。測試中文。.200\n"
     ]
    }
   ],
   "source": [
    "//gopl.io/ch1/helloworld\n",
    "//package main\n",
    "import \"fmt\"\n",
    "func main(){\n",
    "    x, y := 100, 100\n",
    "    x = x + y\n",
    "    fmt.Printf(\"Hello, 世界。你好。測試中文。.%d\\n\",x)\n",
    "}"
   ]
  },
  {
   "cell_type": "code",
   "execution_count": 2,
   "metadata": {
    "cell_style": "split",
    "slideshow": {
     "slide_type": "fragment"
    },
    "tags": []
   },
   "outputs": [
    {
     "name": "stdout",
     "output_type": "stream",
     "text": [
      "Hello World!"
     ]
    }
   ],
   "source": [
    "func main() {\n",
    "    fmt.Printf(\"Hello World!\")\n",
    "}"
   ]
  },
  {
   "cell_type": "code",
   "execution_count": 3,
   "metadata": {},
   "outputs": [
    {
     "name": "stdout",
     "output_type": "stream",
     "text": [
      "Hello World!"
     ]
    }
   ],
   "source": [
    "%%\n",
    "fmt.Printf(\"Hello World!\")"
   ]
  },
  {
   "cell_type": "code",
   "execution_count": 4,
   "metadata": {},
   "outputs": [],
   "source": [
    "import \"sync\""
   ]
  },
  {
   "cell_type": "markdown",
   "metadata": {
    "cell_style": "split",
    "slideshow": {
     "slide_type": "fragment"
    },
    "tags": []
   },
   "source": [
    "  <code>\n",
    "   go install gopl.io/ch1/helloworld@latest\n",
    "   cd pkg/mod/gopl.io@v0.0.0-20211004154805-1ae3ec64947b/ch1/helloworld\n",
    "   go run main.go\n",
    "   go build main.go\n",
    "   ./main\n",
    "  </code>"
   ]
  },
  {
   "cell_type": "markdown",
   "metadata": {
    "slideshow": {
     "slide_type": "slide"
    },
    "tags": []
   },
   "source": [
    "## Command-Line Arguments"
   ]
  },
  {
   "cell_type": "markdown",
   "metadata": {
    "cell_style": "split",
    "slideshow": {
     "slide_type": "subslide"
    }
   },
   "source": [
    "    for initializaion; condition; post {\n",
    "       // zero or more statements\n",
    "    }\n",
    "    // a traditional \"while\" loop\n",
    "    for condition {\n",
    "    }\n",
    "    // a traditional infinite loop\n",
    "    for {\n",
    "    }\n",
    "* os.Args is a slice of strings\n",
    "* a slice as a s\n",
    " - s[i]  the ith element\n",
    " - s[m:n] subsequence of s, 0 &le; m &le; n &le; len(s), containing n-m elements\n",
    " - len(s) is the number of elements \n",
    " \n",
    " \n",
    "* os.Args[0] the first element, the name of the command\n",
    "  - the other elements are the arguments passed to the program"
   ]
  },
  {
   "cell_type": "code",
   "execution_count": 5,
   "metadata": {},
   "outputs": [
    {
     "name": "stdout",
     "output_type": "stream",
     "text": [
      "go version go1.19.13 darwin/arm64\n",
      "/Users/skhuang/course/go2023/go2023/ch1\n",
      "total 2128\n",
      "drwxr-xr-x  2 skhuang  staff      64  9 12 10:50 Untitled Folder\n",
      "drwxr-xr-x  2 skhuang  staff      64  9 12 10:53 Untitled Folder 1\n",
      "drwxr-xr-x  2 skhuang  staff      64  9 14 11:48 Untitled Folder 2\n",
      "-rw-r--r--  1 skhuang  staff     659  9 12 10:51 Untitled.ipynb\n",
      "-rw-r--r--  1 skhuang  staff      72  9 24 11:05 Untitled1.ipynb\n",
      "-rw-r--r--  1 skhuang  staff   33694  9 12 14:09 ch1-bak.ipyng\n",
      "-rw-r--r--  1 skhuang  staff   46571  9 21 22:54 ch1-gonb.ipynb\n",
      "-rw-r--r--@ 1 skhuang  staff   38907 10  4 22:34 ch1.ipynb\n",
      "-rw-r--r--  1 skhuang  staff  682302  9 13 13:54 ch1.slides.html\n",
      "-rw-r--r--  1 skhuang  staff     123  9 11 23:02 dup.txt\n",
      "-rw-r--r--  1 skhuang  staff     123  9 10 18:06 dup2.txt\n",
      "drwxr-xr-x  4 skhuang  staff     128  9 13 11:21 node_modules\n",
      "-rw-r--r--@ 1 skhuang  staff  247715  9 23 11:01 out4.gif\n",
      "-rw-r--r--  1 skhuang  staff     480  9 13 11:21 package-lock.json\n",
      "-rw-r--r--  1 skhuang  staff      54  9 13 11:21 package.json\n",
      "-rwxr-xr-x  1 skhuang  staff     636  9 21 20:14 toslides\n"
     ]
    }
   ],
   "source": [
    "!go version\n",
    "!pwd ; ls -l"
   ]
  },
  {
   "cell_type": "code",
   "execution_count": 6,
   "metadata": {},
   "outputs": [
    {
     "name": "stdout",
     "output_type": "stream",
     "text": [
      "/var/folders/4d/tg201k8x6yb81f_lrvt4440m0000gn/T/gonb_e1d06bde\n",
      "total 4032\n",
      "-rw-r--r--  1 skhuang  staff       30 10 11 13:40 go.mod\n",
      "-rwxr-xr-x  1 skhuang  staff  2053730 10 11 13:40 gonb_e1d06bde\n",
      "prw-------  1 skhuang  staff        0 10 11 13:40 gonb_pipe_3967523476\n",
      "srwxr-xr-x  1 skhuang  staff        0 10 11 13:40 gopls_socket\n",
      "-rw-r--r--  1 skhuang  staff       64 10 11 13:40 main.go\n"
     ]
    }
   ],
   "source": [
    "!*pwd ; ls -l"
   ]
  },
  {
   "cell_type": "code",
   "execution_count": 12,
   "metadata": {
    "cell_style": "split",
    "code_folding": [],
    "slideshow": {
     "slide_type": "fragment"
    }
   },
   "outputs": [
    {
     "name": "stdout",
     "output_type": "stream",
     "text": [
      "/var/folders/4d/tg201k8x6yb81f_lrvt4440m0000gn/T/gonb_e1d06bde/gonb_e1d06bde type -l\n"
     ]
    }
   ],
   "source": [
    "//gopl.io/ch1/echo1\n",
    "import ( \n",
    "    \"fmt\"\n",
    "    \"os\"\n",
    ")\n",
    "//os.Args = []string{\"echo2\",\"type\",\"-l\"}\n",
    "%args type -l\n",
    "func main(){\n",
    "    var s, sep string\n",
    "    \n",
    "    for i := 0; i < len(os.Args); i++ {\n",
    "        s += sep  + os.Args[i]\n",
    "        sep = \" \"\n",
    "     }\n",
    "    fmt.Println(s)\n",
    "}\n",
    "//%args"
   ]
  },
  {
   "cell_type": "code",
   "execution_count": 15,
   "metadata": {
    "cell_style": "split",
    "code_folding": [],
    "slideshow": {
     "slide_type": "skip"
    }
   },
   "outputs": [
    {
     "name": "stdout",
     "output_type": "stream",
     "text": [
      "1"
     ]
    }
   ],
   "source": [
    "//% echo2 type -1\n",
    "//os.Args = []string{\"echo2\",\"type\",\"-l\"}\n",
    "%args type -l\n",
    "//main()\n",
    "%%\n",
    "fmt.Printf(\"%x\",len(os.Args))"
   ]
  },
  {
   "cell_type": "code",
   "execution_count": 18,
   "metadata": {
    "code_folding": [
     3,
     5
    ],
    "slideshow": {
     "slide_type": "subslide"
    }
   },
   "outputs": [
    {
     "name": "stdout",
     "output_type": "stream",
     "text": [
      "/var/folders/4d/tg201k8x6yb81f_lrvt4440m0000gn/T/gonb_e1d06bde/gonb_e1d06bde ls -l æ¸¬è©¦\n"
     ]
    }
   ],
   "source": [
    "//gopl.io/ch1/echo2\n",
    "import (\"fmt\";\"os\")\n",
    "%args ls -l 測試\n",
    "func main(){\n",
    "    s, sep := \"\", \"\"\n",
    "    for _, arg := range os.Args[0:] {\n",
    "        s += sep + arg\n",
    "        sep = \" \"\n",
    "    }\n",
    "    fmt.Println(s)\n",
    "}"
   ]
  },
  {
   "cell_type": "code",
   "execution_count": 6,
   "metadata": {
    "code_folding": [],
    "slideshow": {
     "slide_type": "skip"
    }
   },
   "outputs": [
    {
     "data": {
      "text/html": [
       "\n",
       "<style>\n",
       ".gonb-err-location {\n",
       "\tbackground: var(--jp-err-color2);  \n",
       "\tborder-radius: 3px;\n",
       "\tborder-style: dotted;\n",
       "\tborder-width: 1px;\n",
       "\tborder-color: var(--jp-border-color2);\n",
       "}\n",
       ".gonb-err-location:hover {\n",
       "\tborder-width: 2px;\n",
       "\tborder-style: solid;\n",
       "\tborder-color: var(--jp-border-color2);\n",
       "}\n",
       ".gonb-err-context {\n",
       "\tdisplay: none;\n",
       "}\n",
       ".gonb-err-location:hover + .gonb-err-context {\n",
       "\tbackground: var(--jp-dialog-background);  \n",
       "\tborder-radius: 3px;\n",
       "\tborder-style: solid;\n",
       "\tborder-width: 1px;\n",
       "\tborder-color: var(--jp-border-color2);\n",
       "\tdisplay: block;\n",
       "\twhite-space: pre;\n",
       "\tfont-family: monospace;\n",
       "}\n",
       ".gonb-err-line {\n",
       "\tborder-radius: 3px;\n",
       "\tborder-style: dotted;\n",
       "\tborder-width: 1px;\t\n",
       "\tborder-color: var(--jp-border-color2);\n",
       "\tbackground-color: var(--jp-rendermime-err-background);\n",
       "\tfont-weight: bold;\n",
       "}\n",
       ".gonb-cell-line-info {\n",
       "\tbackground: var(--jp-layout-color2);\n",
       "\tcolor: #999;\n",
       "\tmargin: 0.1em;\n",
       "\tborder: 1px solid var(--jp-border-color1);\n",
       "\tpadding-left: 0.2em;\n",
       "\tpadding-right: 0.2em;\n",
       "}\n",
       "</style>\n",
       "<div class=\"lm-Widget p-Widget lm-Panel p-Panel jp-OutputArea-child\">\n",
       "<div class=\"lm-Widget p-Widget jp-RenderedText jp-mod-trusted jp-OutputArea-output\" data-mime-type=\"application/vnd.jupyter.stderr\" style=\"font-family: monospace;\">\n",
       "\n",
       "<span class=\"gonb-cell-line-info\">Cell[6]: Line 1</span>\n",
       "<span class=\"gonb-err-location\">/var/folders/4d/tg201k8x6yb81f_lrvt4440m0000gn/T/gonb_c341efaa/main.go:3:1: </span> expected declaration, found os\n",
       "<div class=\"gonb-err-context\">\n",
       "package main\n",
       "\n",
       "<div class=\"gonb-err-line\">os.Args = []string{&#34;echo2&#34;,&#34;ls&#34;,&#34;-l&#34;,&#34;測試&#34;}\n",
       "</div>main()\n",
       "\n",
       "\n",
       "</div>\n",
       "\n",
       "<br/>\n",
       "\n",
       "</div>\n"
      ]
     },
     "metadata": {},
     "output_type": "display_data"
    },
    {
     "ename": "ERROR",
     "evalue": "in goexec.ExecuteCell(): parsing go files in TempDir \"/var/folders/4d/tg201k8x6yb81f_lrvt4440m0000gn/T/gonb_c341efaa\": /var/folders/4d/tg201k8x6yb81f_lrvt4440m0000gn/T/gonb_c341efaa/main.go:3:1: expected declaration, found os",
     "output_type": "error",
     "traceback": [
      "in goexec.ExecuteCell(): parsing go files in TempDir \"/var/folders/4d/tg201k8x6yb81f_lrvt4440m0000gn/T/gonb_c341efaa\": /var/folders/4d/tg201k8x6yb81f_lrvt4440m0000gn/T/gonb_c341efaa/main.go:3:1: expected declaration, found os"
     ]
    }
   ],
   "source": [
    "//os.Args = []string{\"echo2\",\"ls\",\"-l\",\"測試\"}\n",
    "main()"
   ]
  },
  {
   "cell_type": "code",
   "execution_count": 19,
   "metadata": {
    "slideshow": {
     "slide_type": "subslide"
    },
    "tags": []
   },
   "outputs": [
    {
     "name": "stdout",
     "output_type": "stream",
     "text": [
      "0 /var/folders/4d/tg201k8x6yb81f_lrvt4440m0000gn/T/gonb_e1d06bde/gonb_e1d06bde\n",
      "1 ls\n",
      "2 -l\n"
     ]
    }
   ],
   "source": [
    "//Print the index and value of each of its arguments, one per line.\n",
    "import (\"fmt\";\"os\")\n",
    "%args ls -l\n",
    "func main(){\n",
    "    for index, arg := range os.Args[0:] {\n",
    "        fmt.Println(index, arg)\n",
    "    }\n",
    "}\n",
    "//os.Args = []string{\"echo2\",\"ls\",\"-l\"}\n",
    "//main()"
   ]
  },
  {
   "cell_type": "code",
   "execution_count": 20,
   "metadata": {
    "code_folding": [],
    "slideshow": {
     "slide_type": "subslide"
    }
   },
   "outputs": [
    {
     "name": "stdout",
     "output_type": "stream",
     "text": [
      "/var/folders/4d/tg201k8x6yb81f_lrvt4440m0000gn/T/gonb_e1d06bde/gonb_e1d06bde ls -l\n"
     ]
    }
   ],
   "source": [
    "//gopl.io/ch1/echo3\n",
    "import (\"fmt\"; \"os\" ; \"strings\")\n",
    "%args ls -l\n",
    "func main(){\n",
    "    fmt.Println(strings.Join(os.Args[0:],\" \"))\n",
    "}"
   ]
  },
  {
   "cell_type": "code",
   "execution_count": null,
   "metadata": {
    "code_folding": [
     0
    ],
    "slideshow": {
     "slide_type": "skip"
    }
   },
   "outputs": [],
   "source": [
    "//os.Args = []string{\"echo2\",\"ls\",\"-l\"}\n",
    "//main()"
   ]
  },
  {
   "cell_type": "code",
   "execution_count": 21,
   "metadata": {
    "code_folding": [],
    "slideshow": {
     "slide_type": "subslide"
    }
   },
   "outputs": [
    {
     "name": "stdout",
     "output_type": "stream",
     "text": [
      "[/var/folders/4d/tg201k8x6yb81f_lrvt4440m0000gn/T/gonb_e1d06bde/gonb_e1d06bde ls -l]\n"
     ]
    }
   ],
   "source": [
    "// print the slice of an array\n",
    "import (\"fmt\"; \"os\")\n",
    "%args ls -l\n",
    "func main(){\n",
    "    fmt.Println(os.Args[0:])\n",
    "}"
   ]
  },
  {
   "cell_type": "code",
   "execution_count": null,
   "metadata": {
    "code_folding": [
     0
    ],
    "slideshow": {
     "slide_type": "skip"
    }
   },
   "outputs": [],
   "source": [
    "os.Args = []string{\"echo3\",\"ls\",\"-l\"}\n",
    "main()"
   ]
  },
  {
   "cell_type": "markdown",
   "metadata": {
    "slideshow": {
     "slide_type": "slide"
    }
   },
   "source": [
    "## Finding Duplicate Lines\n",
    "\n"
   ]
  },
  {
   "cell_type": "code",
   "execution_count": 22,
   "metadata": {
    "cell_style": "split",
    "code_folding": [
     4
    ],
    "slideshow": {
     "slide_type": "subslide"
    }
   },
   "outputs": [
    {
     "name": "stdout",
     "output_type": "stream",
     "text": [
      "1\t程式\n",
      "1\t語言\n",
      "2\tkey\n",
      "1\ttime\n",
      "1\tsecond\n",
      "1\tzero\n",
      "3\tfirst\n",
      "2\t設計\n",
      "1\t實作\n",
      "1\t英文\n",
      "4\tdesign\n",
      "2\tbase\n"
     ]
    }
   ],
   "source": [
    "//gopl.io/ch1/dup1   \n",
    "// test[1], test[\"test\"]\n",
    "import (\"bufio\";\"fmt\";\"os\";\"log\")\n",
    "func main(){\n",
    "    file, err := os.Open(\"dup.txt\")\n",
    "    if err != nil {\n",
    "        //log.Fatal(err)\n",
    "        fmt.Fprintf(os.Stderr, \"%v\\n\", err)\n",
    "    }\n",
    "    counts := make(map[string]int)\n",
    "//input := bufio.NewScanner(os.Stdin)\n",
    "    input := bufio.NewScanner(file)\n",
    "    for input.Scan() {\n",
    "        counts[input.Text()]++\n",
    "    }\n",
    "        // NOTE: ignoring potential errors from input.Err()\n",
    "    for line, n := range counts {\n",
    "        if n > 0 {\n",
    "             fmt.Printf(\"%d\\t%s\\n\", n, line)\n",
    "         }\n",
    "    }\n",
    "}"
   ]
  },
  {
   "cell_type": "markdown",
   "metadata": {
    "cell_style": "split",
    "slideshow": {
     "slide_type": "fragment"
    }
   },
   "source": [
    "dup.txt\n",
    "<pre>\n",
    "設計\n",
    "實作\n",
    "設計\n",
    "程式\n",
    "語言\n",
    "英文\n",
    "design\n",
    "design\n",
    "base\n",
    "key\n",
    "design\n",
    "zero\n",
    "first\n",
    "time\n",
    "key\n",
    "first\n",
    "second\n",
    "base\n",
    "design\n",
    "first\n",
    "</pre>"
   ]
  },
  {
   "cell_type": "code",
   "execution_count": null,
   "metadata": {
    "cell_style": "center",
    "slideshow": {
     "slide_type": "skip"
    }
   },
   "outputs": [],
   "source": [
    "main()"
   ]
  },
  {
   "cell_type": "markdown",
   "metadata": {
    "slideshow": {
     "slide_type": "subslide"
    }
   },
   "source": [
    "* Format specifier\n",
    "\n",
    "<pre>\n",
    " %x,%o,%b integer in hexadecimal, octal, binary\n",
    " %f,%g,%e floating-point number: 3.141593 3.141592653589793 3.141593e+00\n",
    " %t boolean: true or false\n",
    " %c rune (Unicode code point)\n",
    " %s string\n",
    " %q quoted string \"\" or rune 'c'\n",
    " %v any value in a natural format\n",
    " %T type of any value\n",
    " %% literal percent sign (no operand)\n",
    "</pre>"
   ]
  },
  {
   "cell_type": "code",
   "execution_count": 24,
   "metadata": {
    "code_folding": [
     8,
     27
    ],
    "slideshow": {
     "slide_type": "subslide"
    }
   },
   "outputs": [
    {
     "name": "stdout",
     "output_type": "stream",
     "text": [
      "dup2.txt: 2\tsecond\n",
      "dup2.txt: 2\t實作\n",
      "dup2.txt: 2\t程式\n",
      "dup2.txt: 2\t語言\n",
      "dup2.txt: 4\tkey\n",
      "dup2.txt: 2\tzero\n",
      "dup2.txt: 2\ttime\n",
      "dup2.txt: 4\t設計\n",
      "dup2.txt: 2\t英文\n",
      "dup2.txt: 8\tdesign\n",
      "dup2.txt: 4\tbase\n",
      "dup2.txt: 6\tfirst\n"
     ]
    }
   ],
   "source": [
    "//gopl.io/ch1/dup2\n",
    "import (\"bufio\";\"fmt\";\"os\";\"strings\")\n",
    "//func countLines(*os.File, map[string]int, map[string]string)\n",
    "%args dup.txt dup2.txt\n",
    "func main() {\n",
    "        counts := make(map[string]int)\n",
    "        fcounts:= make(map[string]string)\n",
    "        os.Args[1] = \"dup.txt\"\n",
    "        files := os.Args[1:]\n",
    "        if len(files) == 0 {\n",
    "                countLines(os.Stdin, counts, fcounts)\n",
    "        } else {\n",
    "                for _, arg := range files {\n",
    "                        f, err := os.Open(arg)\n",
    "                        if err != nil {\n",
    "                                fmt.Fprintf(os.Stderr, \"dup2: %v\\n\", err)\n",
    "                                continue\n",
    "                        }\n",
    "                        countLines(f, counts, fcounts)\n",
    "                        f.Close()\n",
    "                }\n",
    "        }\n",
    "        for line, n := range counts {\n",
    "                            if n > 1 {\n",
    "                                fmt.Printf(\"%s: %d\\t%s\\n\", fcounts[line], n, line)\n",
    "                }\n",
    "        }\n",
    "}\n",
    "func countLines(f *os.File, counts map[string]int, fcounts map[string]string) {\n",
    "        input := bufio.NewScanner(f)\n",
    "        for input.Scan() {\n",
    "                counts[input.Text()]++\n",
    "                fcounts[input.Text()] = f.Name()\n",
    "        }\n",
    "        // NOTE: ignoring potential errors from input.Err()\n",
    "}\n",
    "            "
   ]
  },
  {
   "cell_type": "code",
   "execution_count": null,
   "metadata": {
    "code_folding": [
     0
    ],
    "slideshow": {
     "slide_type": "skip"
    }
   },
   "outputs": [],
   "source": [
    "os.Args = []string{\"dup2\",\"dup.txt\", \"dup2.txt\"}\n",
    "main()"
   ]
  },
  {
   "cell_type": "code",
   "execution_count": 25,
   "metadata": {
    "code_folding": [],
    "slideshow": {
     "slide_type": "subslide"
    }
   },
   "outputs": [
    {
     "name": "stdout",
     "output_type": "stream",
     "text": [
      "2\tbase\n",
      "2\tkey\n",
      "4\tdesign\n",
      "3\tfirst\n",
      "2\t設計\n"
     ]
    }
   ],
   "source": [
    "//gopl.io/ch1/dup3\n",
    "import (\"fmt\";\"io/ioutil\";\"os\";\"strings\")\n",
    "%args dup.txt\n",
    "func main() {\n",
    "        counts := make(map[string]int)\n",
    "        for _, filename := range os.Args[1:] {\n",
    "                data, err := ioutil.ReadFile(filename)\n",
    "                if err != nil {\n",
    "                        fmt.Fprintf(os.Stderr, \"dup3: %v\\n\", err)\n",
    "                        continue\n",
    "                }\n",
    "                for _, line := range strings.Split(string(data), \"\\n\") {\n",
    "                        counts[line]++\n",
    "                }\n",
    "        }\n",
    "        for line, n := range counts {\n",
    "                if n > 1 {\n",
    "                        fmt.Printf(\"%d\\t%s\\n\", n, line)\n",
    "                }\n",
    "        }\n",
    "}"
   ]
  },
  {
   "cell_type": "code",
   "execution_count": 2,
   "metadata": {
    "slideshow": {
     "slide_type": "skip"
    }
   },
   "outputs": [
    {
     "name": "stdout",
     "output_type": "stream",
     "text": [
      "2\t設計\n",
      "4\tdesign\n",
      "2\tkey\n",
      "3\tfirst\n",
      "2\tbase\n"
     ]
    }
   ],
   "source": [
    "os.Args = []string{\"dup3\",\"dup.txt\"}\n",
    "main()"
   ]
  },
  {
   "cell_type": "markdown",
   "metadata": {
    "slideshow": {
     "slide_type": "slide"
    }
   },
   "source": [
    "## Animated GIFs"
   ]
  },
  {
   "cell_type": "markdown",
   "metadata": {
    "slideshow": {
     "slide_type": "fragment"
    }
   },
   "source": [
    "Lissajous Figures\n",
    "<math>\n",
    "\\begin{cases}\n",
    "x(\\theta)=a\\sin(\\theta)\\\\\n",
    "y(\\theta)=b\\sin(n \\theta + \\phi)\n",
    "\\end{cases}\n",
    "</math>\n",
    "\n",
    "where $ 0\\le \\phi \\le \\frac {\\pi}{2} , n\\ge 1\\,$\n",
    "\n"
   ]
  },
  {
   "cell_type": "code",
   "execution_count": 27,
   "metadata": {
    "code_folding": [
     59
    ],
    "slideshow": {
     "slide_type": "subslide"
    }
   },
   "outputs": [],
   "source": [
    "//gopl.io/ch1/lissajous\n",
    "import (\n",
    "        \"image\"\n",
    "        \"image/color\"\n",
    "        \"image/gif\"\n",
    "        \"io\"\n",
    "        \"math\"\n",
    "        \"math/rand\"\n",
    "        \"strconv\"\n",
    "        \"os\"\n",
    "        \"strings\"\n",
    "        \"fmt\"\n",
    ")\n",
    "//func lissajous(out io.Writer) \n",
    "//!-main\n",
    "// Packages not needed by version in book.\n",
    "import (\n",
    "        \"log\"\n",
    "        \"net/http\"\n",
    "        \"time\"\n",
    ")\n",
    "\n",
    "//!+main\n",
    "\n",
    "//var palette = []color.Color{color.White, color.RGBA{0x00,0xff,0x00,0xff}}\n",
    "var palette = []color.Color{color.White,color.RGBA{0x00,0xff,0x00,0xff}, color.RGBA{0xff,0x00,0x00,0xff},color.RGBA{0x00,0x00,0xff,0xff}}\n",
    "\n",
    "const (\n",
    "        whiteIndex = 0 // first color in palette\n",
    "        blackIndex = 1 // next color in palette\n",
    "        //blackIndex = 2\n",
    ")\n",
    "//func lissajous(out io.Writer)\n",
    "\n",
    "func main() {\n",
    "        //!-main\n",
    "        // The sequence of images is deterministic unless we seed\n",
    "        // the pseudo-random number generator using the current time.\n",
    "        // Thanks to Randall McPherson for pointing out the omission.\n",
    "        rand.Seed(time.Now().UTC().UnixNano())\n",
    "        if len(os.Args) > 1 && os.Args[1] == \"web\" {\n",
    "                //!+http\n",
    "                handler := func(w http.ResponseWriter, r *http.Request) {\n",
    "                    r.ParseForm()\n",
    "                    qcycles,err := strconv.Atoi(strings.Join(r.Form[\"cycles\"],\"\"))\n",
    "                    //fmt.Fprintf(os.Stdout,\"Form: %v\\n\", r.Form)\n",
    "                    //fmt.Fprintf(os.Stdout,\"Form[cycles]: %s\\n\",r.Form[\"cycles\"])\n",
    "                    //fmt.Fprintf(os.Stdout,\"%d\\n\",qcycles)\n",
    "                    if err != nil { qcycles = 5.0 }\n",
    "                    lissajous(w, float64(qcycles))\n",
    "                }\n",
    "                http.HandleFunc(\"/\", handler)\n",
    "                //!-http\n",
    "                log.Fatal(http.ListenAndServe(\"localhost:8500\", nil))\n",
    "                return\n",
    "        }\n",
    "        //!+main\n",
    "        //lissajous(os.Stdout)\n",
    "        outfile, err := os.Create(\"out4.gif\")\n",
    "        if err != nil {\n",
    "            log.Fatal(err)\n",
    "        }\n",
    "        lissajous(outfile, 5.0)\n",
    "}\n",
    "func lissajous(out io.Writer, qcycles float64) {\n",
    "        const (\n",
    "                //cycles  = 5     // number of complete x oscillator revolutions\n",
    "                res     = 0.001 // angular resolution\n",
    "                size    = 100   // image canvas covers [-size..+size]\n",
    "                nframes = 64    // number of animation frames\n",
    "                delay   = 8     // delay between frames in 10ms units\n",
    "        )\n",
    "        cycles := qcycles\n",
    "        freq := rand.Float64() * 3.0 // relative frequency of y oscillator\n",
    "        anim := gif.GIF{LoopCount: nframes}\n",
    "        phase := 0.0 // phase difference\n",
    "        for i := 0; i < nframes; i++ {\n",
    "                rect := image.Rect(0, 0, 2*size+1, 2*size+1)\n",
    "                img := image.NewPaletted(rect, palette)\n",
    "                for t := 0.0; t < cycles*2*math.Pi; t += res {\n",
    "                        x := math.Sin(t)\n",
    "                        y := math.Sin(t*freq + phase)\n",
    "                        //img.SetColorIndex(size+int(x*size+0.5), size+int(y*size+0.5),\n",
    "                        //        blackIndex)\n",
    "                    img.SetColorIndex(size+int(x*size+0.5), size+int(y*size+0.5), uint8(t) % 4)\n",
    "                }\n",
    "                phase += 0.1\n",
    "                anim.Delay = append(anim.Delay, delay)\n",
    "                anim.Image = append(anim.Image, img)\n",
    "            }\n",
    "        gif.EncodeAll(out, &anim) // NOTE: ignoring encoding errors\n",
    "}"
   ]
  },
  {
   "cell_type": "code",
   "execution_count": 4,
   "metadata": {
    "slideshow": {
     "slide_type": "skip"
    }
   },
   "outputs": [],
   "source": [
    "os.Args = []string{\"lissajous\"}\n",
    "main()"
   ]
  },
  {
   "cell_type": "markdown",
   "metadata": {
    "slideshow": {
     "slide_type": "fragment"
    }
   },
   "source": [
    "![SegmentLocal](https://github.com/skhuang/go2019/raw/master/out4.gif \"segment\")"
   ]
  },
  {
   "cell_type": "code",
   "execution_count": 28,
   "metadata": {
    "code_folding": [],
    "scrolled": true,
    "slideshow": {
     "slide_type": "fragment"
    }
   },
   "outputs": [
    {
     "name": "stderr",
     "output_type": "stream",
     "text": [
      "^C\n",
      "signal: interrupt\n"
     ]
    }
   ],
   "source": [
    "//os.Args = []string{\"lissajous\",\"web\"}\n",
    "//main()\n",
    "%args web\n",
    "func main() {\n",
    "        //!-main\n",
    "        // The sequence of images is deterministic unless we seed\n",
    "        // the pseudo-random number generator using the current time.\n",
    "        // Thanks to Randall McPherson for pointing out the omission.\n",
    "        rand.Seed(time.Now().UTC().UnixNano())\n",
    "        if len(os.Args) > 1 && os.Args[1] == \"web\" {\n",
    "                //!+http\n",
    "                handler := func(w http.ResponseWriter, r *http.Request) {\n",
    "                    r.ParseForm()\n",
    "                    qcycles,err := strconv.Atoi(strings.Join(r.Form[\"cycles\"],\"\"))\n",
    "                    //fmt.Fprintf(os.Stdout,\"Form: %v\\n\", r.Form)\n",
    "                    //fmt.Fprintf(os.Stdout,\"Form[cycles]: %s\\n\",r.Form[\"cycles\"])\n",
    "                    //fmt.Fprintf(os.Stdout,\"%d\\n\",qcycles)\n",
    "                    if err != nil { qcycles = 5.0 }\n",
    "                    lissajous(w, float64(qcycles))\n",
    "                }\n",
    "                http.HandleFunc(\"/\", handler)\n",
    "                //!-http\n",
    "                log.Fatal(http.ListenAndServe(\"localhost:8500\", nil))\n",
    "                return\n",
    "        }\n",
    "        //!+main\n",
    "        //lissajous(os.Stdout)\n",
    "        outfile, err := os.Create(\"out4.gif\")\n",
    "        if err != nil {\n",
    "            log.Fatal(err)\n",
    "        }\n",
    "        lissajous(outfile, 5.0)\n",
    "}"
   ]
  },
  {
   "cell_type": "markdown",
   "metadata": {
    "slideshow": {
     "slide_type": "fragment"
    }
   },
   "source": [
    "* [http://localhost:8500](http://localhost:8500)\n",
    "* [http://localhost:8500/?cycles=20](http://localhost:8500/?cycles=20)"
   ]
  },
  {
   "cell_type": "markdown",
   "metadata": {},
   "source": [
    "Interrupt the kernel after the http server tested"
   ]
  },
  {
   "cell_type": "markdown",
   "metadata": {
    "slideshow": {
     "slide_type": "slide"
    }
   },
   "source": [
    "## Fetching a URL"
   ]
  },
  {
   "cell_type": "code",
   "execution_count": 29,
   "metadata": {
    "code_folding": [],
    "slideshow": {
     "slide_type": "subslide"
    }
   },
   "outputs": [
    {
     "name": "stdout",
     "output_type": "stream",
     "text": [
      "Status: 200 OK\n",
      "<!DOCTYPE html PUBLIC \"-//W3C//DTD XHTML 1.0 Transitional//EN\"\n",
      "\t  \"http://www.w3.org/TR/xhtml1/DTD/xhtml1-transitional.dtd\">\n",
      "<html xmlns=\"http://www.w3.org/1999/xhtml\">\n",
      "<head>\n",
      "  <meta name=\"go-import\" content=\"gopl.io git https://github.com/adonovan/gopl.io\"></meta>\n",
      "  <title>The Go Programming Language</title>\n",
      "  <script>\n",
      "  (function(i,s,o,g,r,a,m){i['GoogleAnalyticsObject']=r;i[r]=i[r]||function(){\n",
      "  (i[r].q=i[r].q||[]).push(arguments)},i[r].l=1*new Date();a=s.createElement(o),\n",
      "  m=s.getElementsByTagName(o)[0];a.async=1;a.src=g;m.parentNode.insertBefore(a,m)\n",
      "  })(window,document,'script','//www.google-analytics.com/analytics.js','ga');\n",
      "\n",
      "  ga('create', 'UA-68781809-1', 'auto');\n",
      "  ga('send', 'pageview');\n",
      "  </script>\n",
      "  <link rel=\"stylesheet\" type=\"text/css\" href=\"style.css\" />\n",
      "  <style>\n",
      ".bio {\n",
      "\tfont-size:\t95%;\n",
      "\ttext-align:\tjustify;\n",
      "}\n",
      ".biblio {\n",
      "\tmargin:\t\t0.5em;\n",
      "\tfont-size:\t110%;\n",
      "\tline-height:\t130%;\n",
      "}\n",
      ".center {\n",
      "\ttext-align:\tcenter;\n",
      "}\n",
      "td {\n",
      "\tpadding:\t0.5em 1em 0.5em 1em;\n",
      "\tvertical-align: top;\n",
      "}\n",
      "#toc h1 {\n",
      "\tfont-size:\t95%;\n",
      "\tfont-weight:    normal;\n",
      "}\n",
      "hr {\n",
      "\tborder:\t\t0;\n",
      "\tborder-top:\tthin solid #ccc\n",
      "}\n",
      "  </style>\n",
      "</head>\n",
      "<body>\n",
      "<table><tr>\n",
      "<td>\n",
      "  <a href='http://www.informit.com/store/go-programming-language-9780134190440'><img border='1' src=\"cover.png\" height='600'/></a>\n",
      "  <br/>\n",
      "  <div style='text-align: center'>\n",
      "  <a href='http://www.amazon.com/dp/0134190440'><img border='0' width='150' src=\"buyfromamazon.png\"/></a>\n",
      "  &nbsp;&nbsp;&nbsp;\n",
      "  <a href='http://www.informit.com/store/go-programming-language-9780134190440'/><img border='0' height='26' src=\"informit.png\"/></a>\n",
      "  &nbsp;&nbsp;&nbsp;\n",
      "  <a href='http://www.barnesandnoble.com/w/1121601944'><img border='0' width='150' src=\"barnesnoble.png\"/></a>\n",
      "  </div>\n",
      "</br>\n",
      "</td>\n",
      "<td width='500'>\n",
      "<h1 class='center'>The Go Programming Language</h1>\n",
      "<p class='biblio center'>\n",
      "Alan A. A. Donovan &middot; Brian W. Kernighan<br/>\n",
      "Published Oct 26, 2015 in paperback and Nov 20 in e-book<br/>\n",
      "Addison-Wesley; 380pp; ISBN:&nbsp;978-0134190440<br/>\n",
      "<tt>authors</tt><tt>&#0064;</tt><tt>gopl.io</tt>\n",
      "</p>\n",
      "\n",
      "<!-- Table of Contents -->\n",
      "<div id='toc'>\n",
      "<table><tr>\n",
      "<td>\n",
      "<h1>Contents [<a href='ch1.pdf'/>PDF</a>]</h1>\n",
      "<h1>Preface  [<a href='ch1.pdf'/>PDF</a>]</h1>\n",
      "<h1>1. Tutorial [<a href='ch1.pdf'/>PDF</a>]</h1>\n",
      "<h1>2. Program Structure</h1>\n",
      "<h1>3. Basic Data Types</h1>\n",
      "<h1>4. Composite Types</h1>\n",
      "<h1>5. Functions</h1>\n",
      "<h1>6. Methods</h1>\n",
      "</td>\n",
      "<td>\n",
      "<h1>7. Interfaces</h1>\n",
      "<h1>8. Goroutines and Channels</h1>\n",
      "<h1>9. Concurrency with Shared Variables</h1>\n",
      "<h1>10. Packages and the Go Tool</h1>\n",
      "<h1>11. Testing</h1>\n",
      "<h1>12. Reflection</h1>\n",
      "<h1>13. Low-Level Programming</h1>\n",
      "<h1>Index  [<a href='ch1.pdf'/>PDF</a>]</h1>\n",
      "</td>\n",
      "</tr>\n",
      "<tr>\n",
      "<td colspan='2'>\n",
      "<h1>\n",
      "  <a href='https://github.com/adonovan/gopl.io/'>Source code</a>&nbsp;&nbsp;|&nbsp;&nbsp;\n",
      "  <a href='reviews.html'>Reviews</a>&nbsp;&nbsp;|&nbsp;&nbsp;\n",
      "  <a href='translations.html'>Translations</a>&nbsp;&nbsp;|&nbsp;&nbsp;\n",
      "  <a href='errata.html'>Errata</a>\n",
      "</h1>\n",
      "</td>\n",
      "</tr>\n",
      "</table>\n",
      "</div>\n",
      "\n",
      "<p class=\"bio\">\n",
      "Alan Donovan is a Staff Engineer in Google's infrastructure division,\n",
      "specializing in software development tools.  Since 2012, he has been\n",
      "working on the Go team, designing libraries and tools for static\n",
      "analysis.  He is the author of the\n",
      "<a href='http://golang.org/s/oracle-user-manual'><code>oracle</code></a>,\n",
      "<a href='http://golang.org/lib/godoc/analysis/help.html'><code>godoc -analysis</code></a>,\n",
      "<a href='https://github.com/golang/tools/blob/master/refactor/eg/eg.go'><code>eg</code></a>,\n",
      "and <a href='https://github.com/golang/tools/blob/master/refactor/rename/rename.go'><code>gorename</code></a> tools.\n",
      "</p> \n",
      "\n",
      "<p class=\"bio\">\n",
      "Brian Kernighan was in the Computing Science Research center at Bell\n",
      "Labs until 2000, where he worked on languages and tools for Unix.  He\n",
      "is now a professor in the Computer Science Department at Princeton.\n",
      "He is the co-author of several books, including\n",
      "<a href='http://www.amazon.com/dp/0131103628?tracking_id=disfordig-20'>The C Programming Language</a> and\n",
      "<a href='http://www.amazon.com/dp/020161586X?tracking_id=disfordig-20'>The Practice of Programming</a>.\n",
      "\n",
      "</td>\n",
      "</tr></table>\n",
      "</body>\n",
      "</html>\n"
     ]
    }
   ],
   "source": [
    "//gopl.io/ch1/fetch\n",
    "import (\n",
    "        \"fmt\"\n",
    "        \"io/ioutil\"\n",
    "        \"net/http\"\n",
    "        \"os\"\n",
    ")\n",
    "%args http://gopl.io/\n",
    "func main() {\n",
    "        for _, url := range os.Args[1:] {\n",
    "                resp, err := http.Get(url)\n",
    "                if err != nil {\n",
    "                        fmt.Fprintf(os.Stderr, \"fetch: %v\\n\", err)\n",
    "                        os.Exit(1)\n",
    "                }\n",
    "                b, err := ioutil.ReadAll(resp.Body)\n",
    "                //nbytes, err := io.Copy(os.Stdout,resp.Body) //Exercise 1.7\n",
    "                fmt.Fprintf(os.Stdout,\"Status: %s\\n\", resp.Status)\n",
    "                resp.Body.Close()\n",
    "                if err != nil {\n",
    "                        fmt.Fprintf(os.Stderr, \"fetch: reading %s: %v\\n\", url, err)\n",
    "                        os.Exit(1)\n",
    "                }\n",
    "                fmt.Printf(\"%s\", b)\n",
    "                //fmt.Print(b)\n",
    "        }\n",
    "}\n"
   ]
  },
  {
   "cell_type": "code",
   "execution_count": 6,
   "metadata": {
    "scrolled": true,
    "slideshow": {
     "slide_type": "skip"
    }
   },
   "outputs": [
    {
     "name": "stdout",
     "output_type": "stream",
     "text": [
      "Status: 200 OK\n",
      "<!DOCTYPE html PUBLIC \"-//W3C//DTD XHTML 1.0 Transitional//EN\"\n",
      "\t  \"http://www.w3.org/TR/xhtml1/DTD/xhtml1-transitional.dtd\">\n",
      "<html xmlns=\"http://www.w3.org/1999/xhtml\">\n",
      "<head>\n",
      "  <meta name=\"go-import\" content=\"gopl.io git https://github.com/adonovan/gopl.io\"></meta>\n",
      "  <title>The Go Programming Language</title>\n",
      "  <script>\n",
      "  (function(i,s,o,g,r,a,m){i['GoogleAnalyticsObject']=r;i[r]=i[r]||function(){\n",
      "  (i[r].q=i[r].q||[]).push(arguments)},i[r].l=1*new Date();a=s.createElement(o),\n",
      "  m=s.getElementsByTagName(o)[0];a.async=1;a.src=g;m.parentNode.insertBefore(a,m)\n",
      "  })(window,document,'script','//www.google-analytics.com/analytics.js','ga');\n",
      "\n",
      "  ga('create', 'UA-68781809-1', 'auto');\n",
      "  ga('send', 'pageview');\n",
      "  </script>\n",
      "  <link rel=\"stylesheet\" type=\"text/css\" href=\"style.css\" />\n",
      "  <style>\n",
      ".bio {\n",
      "\tfont-size:\t95%;\n",
      "\ttext-align:\tjustify;\n",
      "}\n",
      ".biblio {\n",
      "\tmargin:\t\t0.5em;\n",
      "\tfont-size:\t110%;\n",
      "\tline-height:\t130%;\n",
      "}\n",
      ".center {\n",
      "\ttext-align:\tcenter;\n",
      "}\n",
      "td {\n",
      "\tpadding:\t0.5em 1em 0.5em 1em;\n",
      "\tvertical-align: top;\n",
      "}\n",
      "#toc h1 {\n",
      "\tfont-size:\t95%;\n",
      "\tfont-weight:    normal;\n",
      "}\n",
      "hr {\n",
      "\tborder:\t\t0;\n",
      "\tborder-top:\tthin solid #ccc\n",
      "}\n",
      "  </style>\n",
      "</head>\n",
      "<body>\n",
      "<table><tr>\n",
      "<td>\n",
      "  <a href='http://www.informit.com/store/go-programming-language-9780134190440'><img border='1' src=\"cover.png\" height='600'/></a>\n",
      "  <br/>\n",
      "  <div style='text-align: center'>\n",
      "  <a href='http://www.amazon.com/dp/0134190440'><img border='0' width='150' src=\"buyfromamazon.png\"/></a>\n",
      "  &nbsp;&nbsp;&nbsp;\n",
      "  <a href='http://www.informit.com/store/go-programming-language-9780134190440'/><img border='0' height='26' src=\"informit.png\"/></a>\n",
      "  &nbsp;&nbsp;&nbsp;\n",
      "  <a href='http://www.barnesandnoble.com/w/1121601944'><img border='0' width='150' src=\"barnesnoble.png\"/></a>\n",
      "  </div>\n",
      "</br>\n",
      "</td>\n",
      "<td width='500'>\n",
      "<h1 class='center'>The Go Programming Language</h1>\n",
      "<p class='biblio center'>\n",
      "Alan A. A. Donovan &middot; Brian W. Kernighan<br/>\n",
      "Published Oct 26, 2015 in paperback and Nov 20 in e-book<br/>\n",
      "Addison-Wesley; 380pp; ISBN:&nbsp;978-0134190440<br/>\n",
      "<tt>authors</tt><tt>&#0064;</tt><tt>gopl.io</tt>\n",
      "</p>\n",
      "\n",
      "<!-- Table of Contents -->\n",
      "<div id='toc'>\n",
      "<table><tr>\n",
      "<td>\n",
      "<h1>Contents [<a href='ch1.pdf'/>PDF</a>]</h1>\n",
      "<h1>Preface  [<a href='ch1.pdf'/>PDF</a>]</h1>\n",
      "<h1>1. Tutorial [<a href='ch1.pdf'/>PDF</a>]</h1>\n",
      "<h1>2. Program Structure</h1>\n",
      "<h1>3. Basic Data Types</h1>\n",
      "<h1>4. Composite Types</h1>\n",
      "<h1>5. Functions</h1>\n",
      "<h1>6. Methods</h1>\n",
      "</td>\n",
      "<td>\n",
      "<h1>7. Interfaces</h1>\n",
      "<h1>8. Goroutines and Channels</h1>\n",
      "<h1>9. Concurrency with Shared Variables</h1>\n",
      "<h1>10. Packages and the Go Tool</h1>\n",
      "<h1>11. Testing</h1>\n",
      "<h1>12. Reflection</h1>\n",
      "<h1>13. Low-Level Programming</h1>\n",
      "<h1>Index  [<a href='ch1.pdf'/>PDF</a>]</h1>\n",
      "</td>\n",
      "</tr>\n",
      "<tr>\n",
      "<td colspan='2'>\n",
      "<h1>\n",
      "  <a href='https://github.com/adonovan/gopl.io/'>Source code</a>&nbsp;&nbsp;|&nbsp;&nbsp;\n",
      "  <a href='reviews.html'>Reviews</a>&nbsp;&nbsp;|&nbsp;&nbsp;\n",
      "  <a href='translations.html'>Translations</a>&nbsp;&nbsp;|&nbsp;&nbsp;\n",
      "  <a href='errata.html'>Errata</a>\n",
      "</h1>\n",
      "</td>\n",
      "</tr>\n",
      "</table>\n",
      "</div>\n",
      "\n",
      "<p class=\"bio\">\n",
      "Alan Donovan is a Staff Engineer in Google's infrastructure division,\n",
      "specializing in software development tools.  Since 2012, he has been\n",
      "working on the Go team, designing libraries and tools for static\n",
      "analysis.  He is the author of the\n",
      "<a href='http://golang.org/s/oracle-user-manual'><code>oracle</code></a>,\n",
      "<a href='http://golang.org/lib/godoc/analysis/help.html'><code>godoc -analysis</code></a>,\n",
      "<a href='https://github.com/golang/tools/blob/master/refactor/eg/eg.go'><code>eg</code></a>,\n",
      "and <a href='https://github.com/golang/tools/blob/master/refactor/rename/rename.go'><code>gorename</code></a> tools.\n",
      "</p> \n",
      "\n",
      "<p class=\"bio\">\n",
      "Brian Kernighan was in the Computing Science Research center at Bell\n",
      "Labs until 2000, where he worked on languages and tools for Unix.  He\n",
      "is now a professor in the Computer Science Department at Princeton.\n",
      "He is the co-author of several books, including\n",
      "<a href='http://www.amazon.com/dp/0131103628?tracking_id=disfordig-20'>The C Programming Language</a> and\n",
      "<a href='http://www.amazon.com/dp/020161586X?tracking_id=disfordig-20'>The Practice of Programming</a>.\n",
      "\n",
      "</td>\n",
      "</tr></table>\n",
      "</body>\n",
      "</html>\n"
     ]
    }
   ],
   "source": [
    "//os.Args = []string{\"fetch\",\"http://gopl.io/\"}\n",
    "//main()"
   ]
  },
  {
   "cell_type": "markdown",
   "metadata": {
    "slideshow": {
     "slide_type": "slide"
    }
   },
   "source": [
    "## Fetching URLs Concurrently"
   ]
  },
  {
   "cell_type": "code",
   "execution_count": 31,
   "metadata": {
    "code_folding": [],
    "slideshow": {
     "slide_type": "subslide"
    }
   },
   "outputs": [
    {
     "name": "stdout",
     "output_type": "stream",
     "text": [
      "0.21s    18421  https://google.com\n",
      "0.58s    31630  https://godoc.org\n",
      "0.63s    61870  https://golang.org\n",
      "0.78s     4154  https://gopl.io\n",
      "0.78s elapsed\n"
     ]
    }
   ],
   "source": [
    "//gopl.io/ch1/fetchall\n",
    "import (\"fmt\";\"io\";\"io/ioutil\";\"net/http\";\"os\";\"time\")\n",
    "%args https://golang.org https://gopl.io https://godoc.org https://google.com\n",
    "func main() {\n",
    "        start := time.Now()\n",
    "        ch := make(chan string)\n",
    "        for _, url := range os.Args[1:] {\n",
    "                go fetch(url, ch) // start a goroutine\n",
    "        }\n",
    "        for range os.Args[1:] {\n",
    "                fmt.Println(<-ch) // receive from channel ch\n",
    "        }\n",
    "        fmt.Printf(\"%.2fs elapsed\\n\", time.Since(start).Seconds())\n",
    "}\n",
    "\n",
    "func fetch(url string, ch chan<- string) {\n",
    "        start := time.Now()\n",
    "        resp, err := http.Get(url)\n",
    "         if err != nil {\n",
    "                ch <- fmt.Sprint(err) // send to channel ch\n",
    "                return\n",
    "        }\n",
    "\n",
    "        nbytes, err := io.Copy(ioutil.Discard, resp.Body)\n",
    "        resp.Body.Close() // don't leak resources\n",
    "        if err != nil {\n",
    "                ch <- fmt.Sprintf(\"while reading %s: %v\", url, err)\n",
    "                return\n",
    "        }\n",
    "        secs := time.Since(start).Seconds()\n",
    "        ch <- fmt.Sprintf(\"%.2fs  %7d  %s\", secs, nbytes, url)\n",
    "}"
   ]
  },
  {
   "cell_type": "code",
   "execution_count": 2,
   "metadata": {
    "slideshow": {
     "slide_type": "skip"
    }
   },
   "outputs": [
    {
     "name": "stdout",
     "output_type": "stream",
     "text": [
      "0.17s    23262  https://google.com true\n",
      "0.93s     4154  http://gopl.io/ true\n",
      "2.83s    31630  https://godoc.org true\n",
      "4.17s    61870  https://golang.org true\n",
      "4.17s elapsed\n"
     ]
    }
   ],
   "source": [
    "os.Args = []string{\"fetchall\",\"https://golang.org\", \"http://gopl.io/\", \"https://godoc.org\",\"https://google.com\"}\n",
    "main()"
   ]
  },
  {
   "cell_type": "markdown",
   "metadata": {
    "slideshow": {
     "slide_type": "slide"
    }
   },
   "source": [
    "## A Web Server"
   ]
  },
  {
   "cell_type": "code",
   "execution_count": 32,
   "metadata": {
    "code_folding": [],
    "slideshow": {
     "slide_type": "subslide"
    }
   },
   "outputs": [
    {
     "name": "stderr",
     "output_type": "stream",
     "text": [
      "signal: interrupt\n"
     ]
    }
   ],
   "source": [
    "//gopl.io/ch1/server1\n",
    "import (\n",
    "        \"fmt\"\n",
    "        \"log\"\n",
    "        \"net/http\"\n",
    ")\n",
    "\n",
    "func main() {\n",
    "        http.HandleFunc(\"/\", handler) // each request calls handler\n",
    "        log.Fatal(http.ListenAndServe(\"localhost:9000\", nil))\n",
    "}\n",
    "\n",
    "// handler echoes the Path component of the requested URL.\n",
    "func handler(w http.ResponseWriter, r *http.Request) {\n",
    "        fmt.Fprintf(w, \"URL.Path = %q\\n\", r.URL.Path)\n",
    "}"
   ]
  },
  {
   "cell_type": "code",
   "execution_count": null,
   "metadata": {
    "slideshow": {
     "slide_type": "skip"
    }
   },
   "outputs": [],
   "source": [
    "main()"
   ]
  },
  {
   "cell_type": "markdown",
   "metadata": {
    "slideshow": {
     "slide_type": "fragment"
    }
   },
   "source": [
    "* [http://localhost:9000](http://localhost:9000)\n",
    "* [http://localhost:9000/help](http://localhost:9000/help)"
   ]
  },
  {
   "cell_type": "code",
   "execution_count": 34,
   "metadata": {
    "slideshow": {
     "slide_type": "skip"
    }
   },
   "outputs": [],
   "source": [
    "//package main\n",
    "import \"sync\"\n",
    "func main() {\n",
    "    var i = 10\n",
    "    mutex := &sync.Mutex{}\n",
    "    mutex.Lock()\n",
    "    // only one goroutine can access this code at a time\n",
    "    i++\n",
    "    mutex.Unlock()\n",
    "}"
   ]
  },
  {
   "cell_type": "code",
   "execution_count": null,
   "metadata": {},
   "outputs": [],
   "source": [
    "import \"sync\""
   ]
  },
  {
   "cell_type": "code",
   "execution_count": 37,
   "metadata": {
    "code_folding": [],
    "slideshow": {
     "slide_type": "subslide"
    }
   },
   "outputs": [
    {
     "name": "stderr",
     "output_type": "stream",
     "text": [
      "^C\n",
      "signal: interrupt\n"
     ]
    }
   ],
   "source": [
    "//gopl.io/ch1/server2\n",
    "//package main\n",
    "import \"sync\"\n",
    "import (\n",
    "        \"fmt\"\n",
    "        \"log\"\n",
    "        \"net/http\"\n",
    "      //  \"sync\"\n",
    ")\n",
    "import \"sync\"\n",
    "\n",
    "var mu sync.Mutex\n",
    "var count int\n",
    "\n",
    "func main() {\n",
    "        http.HandleFunc(\"/\", handler)\n",
    "        http.HandleFunc(\"/count\", counter)\n",
    "        log.Fatal(http.ListenAndServe(\"localhost:9100\", nil))\n",
    "}\n",
    "\n",
    "// handler echoes the Path component of the requested URL.\n",
    "func handler(w http.ResponseWriter, r *http.Request) {\n",
    "        mu.Lock()\n",
    "        count++\n",
    "        mu.Unlock()\n",
    "        fmt.Fprintf(w, \"URL.Path = %q\\n\", r.URL.Path)\n",
    "}\n",
    "// counter echoes the number of calls so far.\n",
    "func counter(w http.ResponseWriter, r *http.Request) {\n",
    "        mu.Lock()\n",
    "        fmt.Fprintf(w, \"Count %d\\n\", count)\n",
    "        mu.Unlock()\n",
    "}"
   ]
  },
  {
   "cell_type": "code",
   "execution_count": null,
   "metadata": {
    "slideshow": {
     "slide_type": "skip"
    }
   },
   "outputs": [],
   "source": [
    "main()"
   ]
  },
  {
   "cell_type": "markdown",
   "metadata": {
    "slideshow": {
     "slide_type": "fragment"
    }
   },
   "source": [
    "* [http://localhost:9100/](http://localhost:9100)\n",
    "* [http://localhost:9100/count](http://localhost:9100/count)"
   ]
  },
  {
   "cell_type": "code",
   "execution_count": 38,
   "metadata": {
    "slideshow": {
     "slide_type": "subslide"
    }
   },
   "outputs": [
    {
     "name": "stderr",
     "output_type": "stream",
     "text": [
      "signal: interrupt\n"
     ]
    }
   ],
   "source": [
    "//gopl.io/ch1/server3\n",
    "import (\n",
    "        \"fmt\"\n",
    "        \"log\"\n",
    "        \"net/http\"\n",
    ")\n",
    "\n",
    "func main() {\n",
    "        http.HandleFunc(\"/\", handler)\n",
    "        log.Fatal(http.ListenAndServe(\"localhost:9200\", nil))\n",
    "}\n",
    "\n",
    "//!+handler\n",
    "// handler echoes the HTTP request.\n",
    "func handler(w http.ResponseWriter, r *http.Request) {\n",
    "        fmt.Fprintf(w, \"%s %s %s\\n\", r.Method, r.URL, r.Proto)\n",
    "        for k, v := range r.Header {\n",
    "                fmt.Fprintf(w, \"Header[%q] = %q\\n\", k, v)\n",
    "        }\n",
    "        fmt.Fprintf(w, \"Host = %q\\n\", r.Host)\n",
    "        fmt.Fprintf(w, \"RemoteAddr = %q\\n\", r.RemoteAddr)\n",
    "        if err := r.ParseForm(); err != nil {\n",
    "                log.Print(err)\n",
    "        }\n",
    "        for k, v := range r.Form {\n",
    "             fmt.Fprintf(w, \"Form[%q] = %q\\n\", k, v)\n",
    "        }\n",
    "}"
   ]
  },
  {
   "cell_type": "code",
   "execution_count": null,
   "metadata": {
    "slideshow": {
     "slide_type": "skip"
    }
   },
   "outputs": [],
   "source": [
    "main()"
   ]
  },
  {
   "cell_type": "markdown",
   "metadata": {
    "slideshow": {
     "slide_type": "fragment"
    }
   },
   "source": [
    "* [http://localhost:9200](http://localhost:9200)\n",
    "* [http://localhost:9200/?q=query](http://localhost:9200/?q=query)"
   ]
  },
  {
   "cell_type": "markdown",
   "metadata": {
    "slideshow": {
     "slide_type": "slide"
    }
   },
   "source": [
    "## Loose Ends"
   ]
  },
  {
   "cell_type": "code",
   "execution_count": 40,
   "metadata": {
    "code_folding": [
     7
    ],
    "slideshow": {
     "slide_type": "subslide"
    }
   },
   "outputs": [
    {
     "name": "stdout",
     "output_type": "stream",
     "text": [
      "landed on edge!\n",
      "5\n",
      "-1\n",
      "0\n"
     ]
    }
   ],
   "source": [
    "import (\"fmt\";\"math\";\"math/rand\")\n",
    "\n",
    "func coinflip() string {\n",
    "    choice := rand.Intn(3)\n",
    "    return []string{\"heads\",\"tails\",\"edge\"}[choice]\n",
    "}\n",
    "\n",
    "//tagless switch\n",
    "func Signum(x int) int {\n",
    "    switch {\n",
    "        case x > 0:\n",
    "        case x < 0 :\n",
    "          return -1\n",
    "        default:\n",
    "          return 0\n",
    "    }\n",
    "    return 5\n",
    "}\n",
    "%%\n",
    "var heads, tails int\n",
    "switch coinflip() {\n",
    "    case \"heads\":\n",
    "        heads++\n",
    "    case \"tails\":\n",
    "        tails++\n",
    "    default:\n",
    "        fmt.Println(\"landed on edge!\")\n",
    "}\n",
    "\n",
    "fmt.Println(Signum(2))\n",
    "fmt.Println(Signum(-2))\n",
    "fmt.Println(Signum(0))\n"
   ]
  },
  {
   "cell_type": "markdown",
   "metadata": {
    "slideshow": {
     "slide_type": "subslide"
    }
   },
   "source": [
    "### Packages\n",
    "* [https://golang.org/pkg](http://golang.org/pkg)"
   ]
  },
  {
   "cell_type": "markdown",
   "metadata": {
    "slideshow": {
     "slide_type": "slide"
    }
   },
   "source": [
    "## Mini-lab\n",
    "* Exercise 1.12: Modify the Lissajous server to read parameter vaalues from the URL. For exmaple, you might arrange it so that a URL like http://localhost:8000/?cycles=20 sets the number of cycles to 20 instead of the default 5. Use the strconv.Atoi function to convert the string parameter into an integer. You can see its documentation with go doc [strconv.Atoi](https://pkg.go.dev/strconv@go1.17.1#Atoi)."
   ]
  }
 ],
 "metadata": {
  "celltoolbar": "Slideshow",
  "kernel_info": {
   "name": "gophernotes"
  },
  "kernelspec": {
   "display_name": "Go (gonb)",
   "language": "go",
   "name": "gonb"
  },
  "language_info": {
   "codemirror_mode": "",
   "file_extension": ".go",
   "mimetype": "",
   "name": "go",
   "nbconvert_exporter": "",
   "pygments_lexer": "",
   "version": "go1.21.1"
  },
  "latex_envs": {
   "LaTeX_envs_menu_present": true,
   "autoclose": false,
   "autocomplete": true,
   "bibliofile": "biblio.bib",
   "cite_by": "apalike",
   "current_citInitial": 1,
   "eqLabelWithNumbers": true,
   "eqNumInitial": 1,
   "hotkeys": {
    "equation": "Ctrl-E",
    "itemize": "Ctrl-I"
   },
   "labels_anchors": true,
   "latex_user_defs": false,
   "report_style_numbering": false,
   "user_envs_cfg": false
  },
  "nteract": {
   "version": "0.15.0"
  },
  "rise": {
   "enable_chalkboard": true
  },
  "toc": {
   "base_numbering": 1,
   "nav_menu": {},
   "number_sections": true,
   "sideBar": false,
   "skip_h1_title": true,
   "title_cell": "Table of Contents",
   "title_sidebar": "Contents",
   "toc_cell": false,
   "toc_position": {
    "height": "128.403px",
    "left": "86.9896px",
    "top": "0px",
    "width": "267.188px"
   },
   "toc_section_display": false,
   "toc_window_display": true
  }
 },
 "nbformat": 4,
 "nbformat_minor": 4
}
